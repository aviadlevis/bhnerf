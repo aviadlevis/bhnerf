{
 "cells": [
  {
   "cell_type": "markdown",
   "id": "c4055663-2243-4a44-8cd4-817816434d04",
   "metadata": {},
   "source": [
    "# Tutorial1: ray tracing using kgeo\n",
    "\n",
    "---\n",
    "This tutorial demonstrates generation of ray trajectories around a black hole using in the Kerr metric. \\\n",
    "The software used is kgeo which is documented at: https://github.com/achael/kgeo"
   ]
  },
  {
   "cell_type": "code",
   "execution_count": 3,
   "id": "a5b7564b-c8f4-4101-91b5-f0fec34206dc",
   "metadata": {},
   "outputs": [],
   "source": [
    "import bhnerf\n",
    "import kgeo\n",
    "import numpy as np"
   ]
  },
  {
   "cell_type": "code",
   "execution_count": 5,
   "id": "e708b0eb-e6ec-4934-b232-509934404ebf",
   "metadata": {},
   "outputs": [
    {
     "name": "stdout",
     "output_type": "stream",
     "text": [
      "calculating preliminaries...\n",
      "integrating in theta...1.70 s\n",
      "integrating in r...2.87 s\n",
      "plotting data...\n"
     ]
    },
    {
     "data": {
      "application/vnd.jupyter.widget-view+json": {
       "model_id": "39c341efd3784dddb738b8ad68da72cc",
       "version_major": 2,
       "version_minor": 0
      },
      "text/plain": [
       "Canvas(toolbar=Toolbar(toolitems=[('Home', 'Reset original view', 'home', 'home'), ('Back', 'Back to previous …"
      ]
     },
     "metadata": {},
     "output_type": "display_data"
    },
    {
     "name": "stdout",
     "output_type": "stream",
     "text": [
      "done!\n"
     ]
    }
   ],
   "source": [
    "\"\"\"\n",
    "Generate 1D rays across the equitorial plane of a non-spinning black hole\n",
    "\"\"\"\n",
    "%matplotlib widget\n",
    "sensor_1d = kgeo.raytrace_ana(a=0.0, th_o=np.pi/2, plotdata=True)"
   ]
  },
  {
   "cell_type": "code",
   "execution_count": 6,
   "id": "649126e7-980f-4852-a9b5-d545dda66c75",
   "metadata": {},
   "outputs": [
    {
     "name": "stdout",
     "output_type": "stream",
     "text": [
      "calculating preliminaries...\n",
      "integrating in theta...43.80 s\n",
      "integrating in r...95.70 s\n",
      "plotting data...\n"
     ]
    },
    {
     "data": {
      "application/vnd.jupyter.widget-view+json": {
       "model_id": "de7f08f0a1fc40c1aded8e5d10c2faa7",
       "version_major": 2,
       "version_minor": 0
      },
      "text/plain": [
       "Canvas(toolbar=Toolbar(toolitems=[('Home', 'Reset original view', 'home', 'home'), ('Back', 'Back to previous …"
      ]
     },
     "metadata": {},
     "output_type": "display_data"
    },
    {
     "name": "stdout",
     "output_type": "stream",
     "text": [
      "done!\n"
     ]
    }
   ],
   "source": [
    "\"\"\"\n",
    "Generate 2D image plane rays across for a non-spinning black hole.\n",
    "Here (num_alpha, num_beta) are the image resolution and ngeo is the sampling resolution along the ray \n",
    "\"\"\"\n",
    "num_alpha, num_beta, ngeo = 128, 128, 100\n",
    "alpha, beta = np.meshgrid(np.linspace(-8., 8., num_alpha), np.linspace(-8., 8., num_beta))\n",
    "\n",
    "%matplotlib widget\n",
    "sensor_2d = kgeo.raytrace_ana(a=0.0, beta=beta.ravel(), alpha=alpha.ravel(), th_o=np.pi/2, plotdata=True, ngeo=ngeo)"
   ]
  },
  {
   "cell_type": "code",
   "execution_count": 7,
   "id": "ef168b78-36dd-4851-b30b-889163666aeb",
   "metadata": {},
   "outputs": [],
   "source": [
    "\"\"\"\n",
    "Save the ray trajectors (within sensor_2d Dataset) for later use e.g. to generate synthetic ngEHT measurements as in Tutorial 2.\n",
    "\"\"\"\n",
    "sensor_2d.attrs.update(num_alpha=num_alpha, num_beta=num_beta)\n",
    "output_path = '../sensors/a{:0.2f}_th{:0.2f}_ngeo{}_npix{}.nc'.format(sensor_2d.spin.data, sensor_2d.inc.data, sensor_2d.geo.size, sensor_2d.pix.size)\n",
    "sensor_2d.to_netcdf(output_path)"
   ]
  }
 ],
 "metadata": {
  "kernelspec": {
   "display_name": "jax",
   "language": "python",
   "name": "jax"
  },
  "language_info": {
   "codemirror_mode": {
    "name": "ipython",
    "version": 3
   },
   "file_extension": ".py",
   "mimetype": "text/x-python",
   "name": "python",
   "nbconvert_exporter": "python",
   "pygments_lexer": "ipython3",
   "version": "3.9.6"
  }
 },
 "nbformat": 4,
 "nbformat_minor": 5
}
