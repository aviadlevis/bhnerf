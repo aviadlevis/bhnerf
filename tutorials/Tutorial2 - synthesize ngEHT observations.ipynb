{
 "cells": [
  {
   "cell_type": "markdown",
   "id": "89ca7d61-9108-47e2-90b0-b589975a9040",
   "metadata": {
    "tags": []
   },
   "source": [
    "# Tutorial2: generating synthetic ngEHT observations\n",
    "\n",
    "---\n",
    "This tutorial demonstrates synthesis of ngEHT measurements of a single orbiting hot-spot. This tutorial assumes a sensor xr.Dataset was generated and saved and is ready to be loaded (see Tutorial1 for more details). The sensor dataset contains information about rays geometry assuming a black-hole with a given spin and mass. In this example we used spin=0 with r_g=2 to generate rays, which results in an inner most stable circular orbit (ISCO) of 3M [1]. \n",
    "\n",
    "\n",
    "[1] Overleaf notes: https://www.overleaf.com/project/60ff0ece5aa4f90d07f2a417"
   ]
  },
  {
   "cell_type": "code",
   "execution_count": 21,
   "id": "b85f8e98-8ea4-4e4c-9304-038107b539e2",
   "metadata": {},
   "outputs": [],
   "source": [
    "import bhnerf\n",
    "import numpy as np\n",
    "import xarray as xr\n",
    "import matplotlib.pyplot as plt"
   ]
  },
  {
   "cell_type": "code",
   "execution_count": 3,
   "id": "f70ecb40-d77f-4d00-b69d-8a375a3dcee6",
   "metadata": {},
   "outputs": [],
   "source": [
    "\"\"\"\n",
    "Generate an initial frame (3D DataArray) with single Gaussian hotspot\n",
    "\"\"\"\n",
    "spatial_res = (64, 64, 64) # (nx, ny, nz)\n",
    "\n",
    "r_isco = 3.0 \n",
    "orbit_radius = 3.5 \n",
    "std = .4\n",
    "\n",
    "rot_angle = 0.0  # initial orbital angle\n",
    "rot_axis = [-0.5, 0.0, 0.8660254]\n",
    "initial_frame = bhnerf.emission.generate_hotspot_xr(spatial_res, rot_axis, rot_angle, orbit_radius, std, r_isco)"
   ]
  },
  {
   "cell_type": "code",
   "execution_count": 4,
   "id": "be7f9410-c4ef-4d82-8155-c0d0ce451248",
   "metadata": {},
   "outputs": [],
   "source": [
    "\"\"\"\n",
    "Progegate initial frame through time (4D DataArray) with a velocity field as a function of radius.\n",
    "This results in a shearing hotspot.\n",
    "\"\"\"\n",
    "nt = 128\n",
    "orbit_period = orbit_radius**(-3./2.) \n",
    "velocity_field = lambda r: (1.0 / orbit_period) * r**(-3/2)\n",
    "emission = bhnerf.emission.generate_orbit(initial_frame, nt, velocity_field, rot_axis)\n",
    "\n",
    "# Normalize emission values \n",
    "normalization_factor = 0.02\n",
    "emissions = emission * normalization_factor"
   ]
  },
  {
   "cell_type": "code",
   "execution_count": 5,
   "id": "a014df91-1c45-4216-871c-8b012c49404c",
   "metadata": {},
   "outputs": [
    {
     "data": {
      "application/vnd.jupyter.widget-view+json": {
       "model_id": "3200eb1fe72142e39f488cb8395d5073",
       "version_major": 2,
       "version_minor": 0
      },
      "text/plain": [
       "interactive(children=(IntSlider(value=0, description='t', max=127), Output()), _dom_classes=('widget-interact'…"
      ]
     },
     "metadata": {},
     "output_type": "display_data"
    }
   ],
   "source": [
    "\"\"\"\n",
    "Slider visualization to illustrate the volumetric shearing\n",
    "This visualization requires ipyvolume: https://ipyvolume.readthedocs.io/en/latest/\n",
    "\"\"\"\n",
    "import ipyvolume as ipv\n",
    "from ipywidgets import interact\n",
    "import ipywidgets as widgets\n",
    "\n",
    "extent = [(float(emission[dim].min()), float(emission[dim].max())) for dim in ('x', 'y', 'z')]\n",
    "@interact(t=widgets.IntSlider(min=0, max=emission.t.size-1, step=1, value=0))\n",
    "def plot_vol(t):\n",
    "    ipv.figure()\n",
    "    ipv.view(0, -60, distance=2.5)\n",
    "    ipv.volshow(emission.isel(t=t), extent=extent, memorder='F', level=[0, 0.2, 0.7], opacity=[0, 0.2, 0.3], controls=False)\n",
    "    ipv.show()"
   ]
  },
  {
   "cell_type": "code",
   "execution_count": 20,
   "id": "ee802293-45fb-40b2-aabe-bdacd30e82b6",
   "metadata": {},
   "outputs": [],
   "source": [
    "\"\"\"\n",
    "Load a precomuted sensor Dataset and integrate over the 4D emission field to get 3D image-plane movie.  \n",
    "\"\"\"\n",
    "sensor = xr.load_dataset('../sensors/a0.00_th1.57_ngeo100_npix4096.nc')\n",
    "\n",
    "# Integrate emission within 5M of the black hole center\n",
    "sensor = sensor.where(sensor.r < 5).fillna(0.0)\n",
    "image_pixels = bhnerf.emission.integrate_rays(emission, sensor)\n",
    "image_plane = image_pixels.data.reshape(nt, sensor.num_alpha, sensor.num_beta)\n",
    "image_plane_xr = xr.DataArray(image_plane, dims=['t', 'alpha', 'beta'])"
   ]
  },
  {
   "cell_type": "code",
   "execution_count": 23,
   "id": "f02cddcc-47b2-4beb-9fff-0a423061991e",
   "metadata": {},
   "outputs": [
    {
     "name": "stdout",
     "output_type": "stream",
     "text": [
      "Producing clean visibilities from movie with nfft FT . . . \n",
      "Adding gain + phase errors to data and applying a priori calibration . . . \n",
      "Adding thermal noise to data . . . \n"
     ]
    }
   ],
   "source": [
    "\"\"\"\n",
    "Generate synthetic ngEHT observations of the image plane.\n",
    "This requires eht-imaging: https://github.com/achael/eht-imaging\n",
    "\"\"\"\n",
    "import ehtim as eh\n",
    "\n",
    "fov = 85.0               # field of view in uas \n",
    "obs_params = {\n",
    "    'mjd': 57851,\n",
    "    'array': eh.array.load_txt('../eht_arrays/ngEHT.txt'),\n",
    "    'timetype': 'GMST',\n",
    "    'nt': 128,           # number of time samples \n",
    "    'tstart': 2.0,       # start of observations\n",
    "    'tstop': 2.0 + 2/3,  # end of observation \n",
    "    'tint': 15.0         # integration time\n",
    "}\n",
    "obs_empty = bhnerf.observation.empty_eht_obs(**obs_params)\n",
    "\n",
    "\n",
    "obs_args = {\n",
    "    'psize': fov / sensor.num_alpha * eh.ehc.RADPERUAS,\n",
    "    'ra': obs_empty.ra, \n",
    "    'dec': obs_empty.dec,\n",
    "    'rf': obs_empty.rf, \n",
    "    'mjd': obs_empty.mjd\n",
    "}\n",
    "times = np.linspace(obs_params['tstart'], obs_params['tstop'], obs_params['nt'])\n",
    "movie = eh.movie.Movie(image_plane, times=times, **obs_args)\n",
    "obs = movie.observe_same(obs_empty)"
   ]
  },
  {
   "cell_type": "code",
   "execution_count": 45,
   "id": "aa15a0a4-daf3-4d00-a620-c34de422b3fd",
   "metadata": {},
   "outputs": [
    {
     "data": {
      "application/vnd.jupyter.widget-view+json": {
       "model_id": "384c6fe8ea4849de9d9516483768b630",
       "version_major": 2,
       "version_minor": 0
      },
      "text/plain": [
       "Canvas(toolbar=Toolbar(toolitems=[('Home', 'Reset original view', 'home', 'home'), ('Back', 'Back to previous …"
      ]
     },
     "metadata": {},
     "output_type": "display_data"
    }
   ],
   "source": [
    "\"\"\"\n",
    "Visualize image-plane movie and ngEHT measurements\n",
    "\"\"\"\n",
    "%matplotlib widget\n",
    "fig, ax = plt.subplots(1, 3, figsize=(12,3.5))\n",
    "ax[0].set_title('Image plane')\n",
    "ax[1].set_title('UV coverage')\n",
    "ax[2].set_title('Visibility amplitudes')\n",
    "anim = image_plane_xr.visualization.animate(ax=ax[0], cmap='afmhot', add_colorbar=False)\n",
    "bhnerf.observation.plot_uv_coverage(obs_empty, ax=ax[1], cmap_ticks=[0,0.2, 0.4, 0.6], fontsize=11)\n",
    "obs.plotall('uvdist', 'amp', axis=ax[2])\n",
    "plt.tight_layout()"
   ]
  }
 ],
 "metadata": {
  "kernelspec": {
   "display_name": "jax",
   "language": "python",
   "name": "jax"
  },
  "language_info": {
   "codemirror_mode": {
    "name": "ipython",
    "version": 3
   },
   "file_extension": ".py",
   "mimetype": "text/x-python",
   "name": "python",
   "nbconvert_exporter": "python",
   "pygments_lexer": "ipython3",
   "version": "3.9.6"
  }
 },
 "nbformat": 4,
 "nbformat_minor": 5
}
