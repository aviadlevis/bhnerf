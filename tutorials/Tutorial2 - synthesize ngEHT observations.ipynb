{
 "cells": [
  {
   "cell_type": "markdown",
   "id": "89ca7d61-9108-47e2-90b0-b589975a9040",
   "metadata": {
    "tags": []
   },
   "source": [
    "# Tutorial2: generating synthetic ngEHT observations\n",
    "\n",
    "---\n",
    "This tutorial demonstrates synthesis of ngEHT measurements of a single orbiting hot-spot. EHT observations are simulated using [eht-imaging](https://github.com/achael/eht-imaging)."
   ]
  },
  {
   "cell_type": "code",
   "execution_count": 1,
   "id": "b85f8e98-8ea4-4e4c-9304-038107b539e2",
   "metadata": {},
   "outputs": [
    {
     "name": "stderr",
     "output_type": "stream",
     "text": [
      "Matplotlib created a temporary config/cache directory at /tmp/matplotlib-1osz6mtk because the default path (/home/jovyan/.cache/matplotlib) is not a writable directory; it is highly recommended to set the MPLCONFIGDIR environment variable to a writable directory, in particular to speed up the import of Matplotlib and to better support multiprocessing.\n"
     ]
    },
    {
     "name": "stdout",
     "output_type": "stream",
     "text": [
      "Welcome to eht-imaging! v 1.2.2 \n",
      "\n"
     ]
    },
    {
     "name": "stderr",
     "output_type": "stream",
     "text": [
      "2022-07-11 10:05:55.707717: W tensorflow/stream_executor/platform/default/dso_loader.cc:64] Could not load dynamic library 'libcudart.so.11.0'; dlerror: libcudart.so.11.0: cannot open shared object file: No such file or directory; LD_LIBRARY_PATH: /.singularity.d/libs\n"
     ]
    }
   ],
   "source": [
    "import numpy as np\n",
    "import xarray as xr\n",
    "import matplotlib.pyplot as plt\n",
    "import bhnerf\n",
    "import ehtim as eh\n",
    "from astropy import units\n",
    "from bhnerf import constants as consts"
   ]
  },
  {
   "cell_type": "code",
   "execution_count": 2,
   "id": "162239b3-c374-4710-ba75-f8aa72e7b70d",
   "metadata": {},
   "outputs": [],
   "source": [
    "\"\"\"\n",
    "Generate an initial emission distribution (emission_0: 3D DataArray) with single Gaussian hotspot\n",
    "\"\"\"\n",
    "spin = 0.2\n",
    "inclination = np.deg2rad(60)\n",
    "fov_M = 16.0\n",
    "\n",
    "emission_0 = bhnerf.emission.generate_hotspot_xr(\n",
    "    resolution=(64, 64, 64), \n",
    "    rot_axis=[0.0, 0.0, 1.0], \n",
    "    rot_angle=0.0,\n",
    "    orbit_radius=5.5,\n",
    "    std=0.7,\n",
    "    r_isco=bhnerf.constants.isco_pro(spin),\n",
    "    fov=(fov_M, 'GM/c^2'),\n",
    ")"
   ]
  },
  {
   "cell_type": "code",
   "execution_count": 3,
   "id": "c71740ca-1eff-4521-83c3-8a87b0d429ff",
   "metadata": {},
   "outputs": [
    {
     "data": {
      "application/vnd.jupyter.widget-view+json": {
       "model_id": "94ab7622a76948e1a21322efd0fef71c",
       "version_major": 2,
       "version_minor": 0
      },
      "text/plain": [
       "VBox(children=(Figure(camera=PerspectiveCamera(fov=45.0, position=(0.0, -2.1650635094610964, 1.250000000000000…"
      ]
     },
     "metadata": {},
     "output_type": "display_data"
    }
   ],
   "source": [
    "\"\"\"\n",
    "Visualization 3D volume (requires ipyvolume: https://ipyvolume.readthedocs.io/)\n",
    "\"\"\"\n",
    "import ipyvolume as ipv\n",
    "\n",
    "extent = [(-fov_M/2, fov_M/2) for dim in ('x', 'y', 'z')]\n",
    "ipv.figure()\n",
    "ipv.view(0, -60, distance=2.5)\n",
    "ipv.volshow(emission_0, extent=extent, memorder='F', level=[0, 0.2, 0.7], opacity=[0, 0.2, 0.3], controls=False)\n",
    "ipv.show()"
   ]
  },
  {
   "cell_type": "code",
   "execution_count": 3,
   "id": "beaa5c8c-a859-46a5-982e-bdeb01a39bf6",
   "metadata": {},
   "outputs": [],
   "source": [
    "\"\"\"\n",
    "Compute Kerr geodesics (photon trajectories) around the black hole starting at the image plane\n",
    "\"\"\"\n",
    "geos = bhnerf.emission.kerr_geodesics(\n",
    "    spin, inclination, \n",
    "    num_alpha=64, num_beta=64, \n",
    "    alpha_range=[-fov_M/2, fov_M/2],\n",
    "    beta_range=[-fov_M/2, fov_M/2]\n",
    ")\n",
    "\n",
    "# Keplerian velocity field \n",
    "Omega = np.sqrt(geos.M) / (geos.r**(3/2) + geos.spin * np.sqrt(geos.M))"
   ]
  },
  {
   "cell_type": "code",
   "execution_count": 4,
   "id": "f72f3b4f-9fa7-4e95-aae3-f2b88df74a7e",
   "metadata": {},
   "outputs": [
    {
     "name": "stderr",
     "output_type": "stream",
     "text": [
      "/scratch/imaging/projects/bh_nerf/envs/jax/lib/python3.9/site-packages/xarray/core/computation.py:700: RuntimeWarning: invalid value encountered in sqrt\n",
      "  result_data = func(*input_data)\n"
     ]
    },
    {
     "data": {
      "application/vnd.jupyter.widget-view+json": {
       "model_id": "a28ea2723f9044f0bffbd8edaa12a4da",
       "version_major": 2,
       "version_minor": 0
      },
      "text/plain": [
       "Canvas(toolbar=Toolbar(toolitems=[('Home', 'Reset original view', 'home', 'home'), ('Back', 'Back to previous …"
      ]
     },
     "metadata": {},
     "output_type": "display_data"
    },
    {
     "data": {
      "text/plain": [
       "<matplotlib.animation.FuncAnimation at 0x7f9aec10b130>"
      ]
     },
     "execution_count": 4,
     "metadata": {},
     "output_type": "execute_result"
    }
   ],
   "source": [
    "\"\"\"\n",
    "Ray trace through the emission to simulate the image plane over 40.0 minutes and visualize image plane movie\n",
    "t_frames: frame time in hrs \n",
    "t_injection: hotspot injection time (M) - needed for slow-light (light does not reach the sensor instantaneously) \n",
    "             Taking the distance of the image screen (-geos.r_o) gives an injection at the initial frame (approximately) \n",
    "\"\"\"\n",
    "nt = 64\n",
    "t_injection = -float(geos.r_o) \n",
    "t_frames = np.linspace(0.0, 40.0*units.min, nt)\n",
    "image_plane = bhnerf.emission.image_plane_dynamics(emission_0, geos, Omega, t_frames, t_injection)\n",
    "\n",
    "%matplotlib widget\n",
    "movie_xr = xr.DataArray(image_plane, dims=['t', 'alpha', 'beta'])\n",
    "movie_xr.visualization.animate(cmap='afmhot')"
   ]
  },
  {
   "cell_type": "code",
   "execution_count": 5,
   "id": "70414b5b-925f-4c92-aaa5-903a5fa82fa4",
   "metadata": {},
   "outputs": [
    {
     "name": "stdout",
     "output_type": "stream",
     "text": [
      "Producing clean visibilities from movie with nfft FT . . . \n",
      "Applying Jones Matrices to data . . . \n",
      "Applying Jones Matrices to data . . . \n",
      "Adding thermal noise to data . . . \n",
      "Applying a priori calibration with estimated Jones matrices . . . \n"
     ]
    }
   ],
   "source": [
    "\"\"\"\n",
    "Generate synthetic EHT obsertvations using eht-imaging library\n",
    "\"\"\"\n",
    "obs_params = {\n",
    "    'mjd': 57851,                                 # night of april 6-7, 2017\n",
    "    'timetype': 'GMST',\n",
    "    'nt': nt,                                     # number of time samples \n",
    "    'tstart': 2.0 + t_frames[0].to('hr').value,   # start of observations\n",
    "    'tstop': 2.0 + t_frames[-1].to('hr').value,   # end of observation \n",
    "    'tint': 30.0,                                 # integration time,\n",
    "    'array': eh.array.load_txt('../eht_arrays/ngEHT.txt')\n",
    "}\n",
    "obs_empty = bhnerf.observation.empty_eht_obs(**obs_params)\n",
    "\n",
    "# Pixel size in radians based on Sgr A* mass/distance\n",
    "fov_rad = (fov_M * consts.GM_c2(consts.sgra_mass) / consts.sgra_distance.to('m')) * units.rad\n",
    "psize = fov_rad.value / geos.alpha.size\n",
    "obs_args = {'psize': psize, 'ra': obs_empty.ra, 'dec': obs_empty.dec, 'rf': obs_empty.rf, 'mjd': obs_empty.mjd}\n",
    "\n",
    "# Scale image-plane values to `reasonable` fluxes  \n",
    "flux_scaling = 0.01  \n",
    "movie = eh.movie.Movie(flux_scaling*image_plane, times=t_frames.value, **obs_args)\n",
    "obs = bhnerf.observation.observe_same(movie, obs_empty)"
   ]
  },
  {
   "cell_type": "code",
   "execution_count": 6,
   "id": "40b072fb-8e00-4343-a70d-596ec40c7420",
   "metadata": {},
   "outputs": [
    {
     "data": {
      "application/vnd.jupyter.widget-view+json": {
       "model_id": "b321cc85311048f0bb8855797b007cf9",
       "version_major": 2,
       "version_minor": 0
      },
      "text/plain": [
       "Canvas(toolbar=Toolbar(toolitems=[('Home', 'Reset original view', 'home', 'home'), ('Back', 'Back to previous …"
      ]
     },
     "metadata": {},
     "output_type": "display_data"
    }
   ],
   "source": [
    "\"\"\"\n",
    "Visualize coverage and visibility amplitudes\n",
    "\"\"\"\n",
    "%matplotlib widget\n",
    "fig, ax = plt.subplots(1, 2, figsize=(8,3.5))\n",
    "ax[0].set_title('UV coverage')\n",
    "ax[1].set_title('Visibility amplitudes')\n",
    "bhnerf.observation.plot_uv_coverage(obs_empty, ax=ax[0], cmap_ticks=[0,0.2, 0.4, 0.6], fontsize=11)\n",
    "obs.plotall('uvdist', 'amp', axis=ax[1])\n",
    "plt.tight_layout()"
   ]
  }
 ],
 "metadata": {
  "kernelspec": {
   "display_name": "jax",
   "language": "python",
   "name": "jax"
  },
  "language_info": {
   "codemirror_mode": {
    "name": "ipython",
    "version": 3
   },
   "file_extension": ".py",
   "mimetype": "text/x-python",
   "name": "python",
   "nbconvert_exporter": "python",
   "pygments_lexer": "ipython3",
   "version": "3.9.6"
  }
 },
 "nbformat": 4,
 "nbformat_minor": 5
}
