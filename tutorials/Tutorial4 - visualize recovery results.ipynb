{
 "cells": [
  {
   "cell_type": "markdown",
   "id": "89ca7d61-9108-47e2-90b0-b589975a9040",
   "metadata": {
    "tags": []
   },
   "source": [
    "# Tutorial4: visualize recovery results\n",
    "\n",
    "---\n",
    "This tutorial demonstrates visualize the 3D / 4D recovery results. \\\n",
    "By sampling a trained neural network at regular grid intervals we can visualize the recovered 3D emission."
   ]
  },
  {
   "cell_type": "code",
   "execution_count": 86,
   "id": "411fa50c-94a1-4c6d-bef1-7a6a469b5247",
   "metadata": {},
   "outputs": [
    {
     "data": {
      "text/latex": [
       "$8.2598546 \\times 10^{36} \\; \\mathrm{kg}$"
      ],
      "text/plain": [
       "<Quantity 8.2598546e+36 kg>"
      ]
     },
     "execution_count": 86,
     "metadata": {},
     "output_type": "execute_result"
    }
   ],
   "source": [
    "bhnerf.constants.sgra_mass"
   ]
  },
  {
   "cell_type": "code",
   "execution_count": 1,
   "id": "dbf1765c-890a-4c7a-a16d-c8a64b217f43",
   "metadata": {},
   "outputs": [
    {
     "name": "stderr",
     "output_type": "stream",
     "text": [
      "Matplotlib created a temporary config/cache directory at /tmp/matplotlib-l7hxp8i9 because the default path (/home/jovyan/.cache/matplotlib) is not a writable directory; it is highly recommended to set the MPLCONFIGDIR environment variable to a writable directory, in particular to speed up the import of Matplotlib and to better support multiprocessing.\n"
     ]
    },
    {
     "name": "stdout",
     "output_type": "stream",
     "text": [
      "Welcome to eht-imaging! v 1.2.2 \n",
      "\n"
     ]
    },
    {
     "name": "stderr",
     "output_type": "stream",
     "text": [
      "2022-07-05 18:53:05.854196: W tensorflow/stream_executor/platform/default/dso_loader.cc:64] Could not load dynamic library 'libcudart.so.11.0'; dlerror: libcudart.so.11.0: cannot open shared object file: No such file or directory; LD_LIBRARY_PATH: /.singularity.d/libs\n"
     ]
    }
   ],
   "source": [
    "import bhnerf\n",
    "import numpy as np\n",
    "import xarray as xr\n",
    "import matplotlib.pyplot as plt\n",
    "import time\n",
    "from tqdm.notebook import tqdm\n",
    "from jax import numpy as jnp\n",
    "from flax.training import checkpoints\n",
    "from astropy import units\n",
    "import os\n",
    "\n",
    "os.environ['CUDA_VISIBLE_DEVICES'] = '3'"
   ]
  },
  {
   "cell_type": "code",
   "execution_count": 81,
   "id": "c2118c19-fccf-405c-897b-90e72a89a62f",
   "metadata": {},
   "outputs": [],
   "source": [
    "checkpoint_dir = '../checkpoints/tutorial3/test_no_g.t.2022-07-05.18:55:19/'\n",
    "predictor = bhnerf.network.NeRF_Predictor()\n",
    "state = checkpoints.restore_checkpoint(checkpoint_dir, None)"
   ]
  },
  {
   "cell_type": "code",
   "execution_count": 18,
   "id": "33fe4359-b3d1-4901-98c1-99b5d4e390a8",
   "metadata": {},
   "outputs": [],
   "source": [
    "\"\"\"\n",
    "Define a VolumeVisualizer object\n",
    "\"\"\"\n",
    "resolution = 128\n",
    "visualizer = bhnerf.visualization.VolumeVisualizer(resolution, resolution, resolution)"
   ]
  },
  {
   "cell_type": "code",
   "execution_count": 19,
   "id": "ae2f8a17-9643-49a9-bf37-fc3563f65669",
   "metadata": {},
   "outputs": [
    {
     "data": {
      "application/vnd.jupyter.widget-view+json": {
       "model_id": "28c7e722b0e5438796d756f91381ab79",
       "version_major": 2,
       "version_minor": 0
      },
      "text/plain": [
       "  0%|          | 0/6 [00:00<?, ?it/s]"
      ]
     },
     "metadata": {},
     "output_type": "display_data"
    }
   ],
   "source": [
    "\"\"\"\n",
    "Define the position of the camera and sample/integrate emission according to the camera rays.\n",
    "View the estimated emission at t=0 from multiple angles. \n",
    "Note that jit is useful for acceleration however the initial rendering will be slow due to run time compilation.\n",
    "\"\"\"\n",
    "images = []\n",
    "bh_radius = 2.0\n",
    "norm_const = 0.02\n",
    "rmax = 8.0\n",
    "\n",
    "for azimuth in tqdm(np.linspace(0.0, 360, 6)):\n",
    "    visualizer.set_view(radius=32.5, azimuth=azimuth, zenith=np.pi/3)\n",
    "    emission = predictor.apply({'params': state['params']}, 0.0, units.hr, visualizer.coords, 0.0, 0.0, 0.0, 0.0)\n",
    "    emission = bhnerf.emission.fill_unsupervised_emission(emission, visualizer.coords, rmin=bh_radius, rmax=rmax)\n",
    "    images.append(visualizer.render(emission, facewidth=rmax, jit=True, norm_const=norm_const, bh_radius=bh_radius))"
   ]
  },
  {
   "cell_type": "code",
   "execution_count": 84,
   "id": "d5ead7db-acf3-4499-86fe-ad689c31246b",
   "metadata": {},
   "outputs": [],
   "source": [
    "images = []\n",
    "bh_radius = 2.0\n",
    "norm_const = 0.02\n",
    "rmax = 8.0\n",
    "azimuth = 0.0\n",
    "\n",
    "visualizer.set_view(radius=27.5, azimuth=azimuth, zenith=np.pi/3)\n",
    "emission = predictor.apply({'params': state['params']}, 0.0, units.hr, visualizer.coords, 0.0, 0.0, 0.0, 0.0)\n",
    "emission = bhnerf.emission.fill_unsupervised_emission(emission, visualizer.coords, rmin=bh_radius)\n",
    "image = visualizer.render(emission, facewidth=2*rmax, jit=True, norm_const=norm_const, bh_radius=bh_radius)"
   ]
  },
  {
   "cell_type": "code",
   "execution_count": 85,
   "id": "29bae921-b7b3-4c63-b19b-3f86f7c640ee",
   "metadata": {},
   "outputs": [
    {
     "data": {
      "application/vnd.jupyter.widget-view+json": {
       "model_id": "5ad45d3f12304ee28630d34e42772dd7",
       "version_major": 2,
       "version_minor": 0
      },
      "text/plain": [
       "Canvas(toolbar=Toolbar(toolitems=[('Home', 'Reset original view', 'home', 'home'), ('Back', 'Back to previous …"
      ]
     },
     "metadata": {},
     "output_type": "display_data"
    },
    {
     "name": "stderr",
     "output_type": "stream",
     "text": [
      "WARNING:matplotlib.image:Clipping input data to the valid range for imshow with RGB data ([0..1] for floats or [0..255] for integers).\n"
     ]
    },
    {
     "data": {
      "text/plain": [
       "<matplotlib.image.AxesImage at 0x7fbb784cd850>"
      ]
     },
     "execution_count": 85,
     "metadata": {},
     "output_type": "execute_result"
    }
   ],
   "source": [
    "%matplotlib widget\n",
    "plt.imshow(image)"
   ]
  },
  {
   "cell_type": "code",
   "execution_count": 20,
   "id": "edd5d918-1edc-473d-b89d-9cc4db729490",
   "metadata": {},
   "outputs": [
    {
     "data": {
      "application/vnd.jupyter.widget-view+json": {
       "model_id": "6742d27fc2674c66a151f7250d6152a5",
       "version_major": 2,
       "version_minor": 0
      },
      "text/plain": [
       "Canvas(toolbar=Toolbar(toolitems=[('Home', 'Reset original view', 'home', 'home'), ('Back', 'Back to previous …"
      ]
     },
     "metadata": {},
     "output_type": "display_data"
    },
    {
     "name": "stderr",
     "output_type": "stream",
     "text": [
      "WARNING:matplotlib.image:Clipping input data to the valid range for imshow with RGB data ([0..1] for floats or [0..255] for integers).\n",
      "WARNING:matplotlib.image:Clipping input data to the valid range for imshow with RGB data ([0..1] for floats or [0..255] for integers).\n"
     ]
    }
   ],
   "source": [
    "%matplotlib widget\n",
    "fig, axes = plt.subplots(1, 6, figsize=(10,2))\n",
    "for ax, image in zip(axes, images):\n",
    "    ax.imshow(image);\n",
    "    ax.axis('off');\n",
    "plt.tight_layout()"
   ]
  }
 ],
 "metadata": {
  "kernelspec": {
   "display_name": "jax",
   "language": "python",
   "name": "jax"
  },
  "language_info": {
   "codemirror_mode": {
    "name": "ipython",
    "version": 3
   },
   "file_extension": ".py",
   "mimetype": "text/x-python",
   "name": "python",
   "nbconvert_exporter": "python",
   "pygments_lexer": "ipython3",
   "version": "3.9.6"
  }
 },
 "nbformat": 4,
 "nbformat_minor": 5
}
