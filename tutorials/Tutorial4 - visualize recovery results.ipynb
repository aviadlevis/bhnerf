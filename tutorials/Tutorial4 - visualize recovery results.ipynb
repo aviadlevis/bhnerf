{
 "cells": [
  {
   "cell_type": "markdown",
   "id": "89ca7d61-9108-47e2-90b0-b589975a9040",
   "metadata": {
    "tags": []
   },
   "source": [
    "# Tutorial4: visualize recovery results\n",
    "\n",
    "---\n",
    "This tutorial demonstrates visualize the 3D / 4D recovery results. \\\n",
    "By sampling a trained neural network at regular grid intervals we can visualize the recovered 3D emission."
   ]
  },
  {
   "cell_type": "code",
   "execution_count": 1,
   "id": "dbf1765c-890a-4c7a-a16d-c8a64b217f43",
   "metadata": {},
   "outputs": [
    {
     "name": "stderr",
     "output_type": "stream",
     "text": [
      "Matplotlib created a temporary config/cache directory at /tmp/matplotlib-u0owrhje because the default path (/home/jovyan/.cache/matplotlib) is not a writable directory; it is highly recommended to set the MPLCONFIGDIR environment variable to a writable directory, in particular to speed up the import of Matplotlib and to better support multiprocessing.\n"
     ]
    },
    {
     "name": "stdout",
     "output_type": "stream",
     "text": [
      "Welcome to eht-imaging! v 1.2.2 \n",
      "\n"
     ]
    },
    {
     "name": "stderr",
     "output_type": "stream",
     "text": [
      "2022-01-26 15:54:36.086507: W tensorflow/stream_executor/platform/default/dso_loader.cc:64] Could not load dynamic library 'libcudart.so.11.0'; dlerror: libcudart.so.11.0: cannot open shared object file: No such file or directory; LD_LIBRARY_PATH: /.singularity.d/libs\n"
     ]
    }
   ],
   "source": [
    "import bhnerf\n",
    "import numpy as np\n",
    "import xarray as xr\n",
    "import matplotlib.pyplot as plt\n",
    "import time\n",
    "from tqdm.notebook import tqdm\n",
    "from jax import numpy as jnp\n",
    "from flax.training import checkpoints\n",
    "import os\n",
    "os.environ['CUDA_VISIBLE_DEVICES'] = '1'"
   ]
  },
  {
   "cell_type": "code",
   "execution_count": 2,
   "id": "bad4e3b9-6d84-4b7f-a9ba-561ce61c10de",
   "metadata": {},
   "outputs": [],
   "source": [
    "\"\"\"\n",
    "Define network architecture and load latest checkpoint from directory\n",
    "Change the path of checkpoint_dir to where the checkpoint is saved.\n",
    "\"\"\"\n",
    "checkpoint_dir = 'checkpoints/sparsity_new/full_image.nspots5.true_axis.2022-01-20.10:36:30/'\n",
    "\n",
    "orbit_args = {'tstart': 0.0, 'tstop': 1.0, 'axis_init': jnp.array([-0.4556, 0.5549, 0.6961]), 'velocity': 1.0 }\n",
    "predictor = bhnerf.network.NeRF3D_RotationAxis()\n",
    "emission_op = bhnerf.network.EmissionOperator(predictor, orbit_args)\n",
    "state = checkpoints.restore_checkpoint(checkpoint_dir, None)"
   ]
  },
  {
   "cell_type": "code",
   "execution_count": 3,
   "id": "33fe4359-b3d1-4901-98c1-99b5d4e390a8",
   "metadata": {},
   "outputs": [],
   "source": [
    "\"\"\"\n",
    "Define a VolumeVisualizer object\n",
    "\"\"\"\n",
    "resolution = 128\n",
    "visualizer = bhnerf.visualization.VolumeVisualizer(resolution, resolution, resolution)"
   ]
  },
  {
   "cell_type": "code",
   "execution_count": 8,
   "id": "ae2f8a17-9643-49a9-bf37-fc3563f65669",
   "metadata": {},
   "outputs": [
    {
     "data": {
      "application/vnd.jupyter.widget-view+json": {
       "model_id": "cf67d4d3d66c48f8ba6d6b06da605691",
       "version_major": 2,
       "version_minor": 0
      },
      "text/plain": [
       "  0%|          | 0/6 [00:00<?, ?it/s]"
      ]
     },
     "metadata": {},
     "output_type": "display_data"
    }
   ],
   "source": [
    "\"\"\"\n",
    "Define the position of the camera and sample/integrate emission according to the camera rays.\n",
    "View the estimated emission at t=0 from multiple angles. \n",
    "Note that jit is useful for acceleration however the initial rendering will be slow due to run time compilation.\n",
    "\"\"\"\n",
    "images = []\n",
    "for azimuth in tqdm(np.linspace(0.0, 360, 6)):\n",
    "    visualizer.set_view(radius=27.5, azimuth=azimuth, zenith=np.pi/3)\n",
    "    t, x, y, z = jnp.ones_like(visualizer.x), visualizer.x, visualizer.y, visualizer.z\n",
    "    emission = emission_op(state['params'], x, y, z, t)\n",
    "    emission = bhnerf.emission.zero_unsupervised_emission(emission, x, y, z, rmin=2.0, rmax=5.0)\n",
    "    images.append(visualizer.render(emission, jit=True, norm_const=1.0, bh_radius=2.0))"
   ]
  },
  {
   "cell_type": "code",
   "execution_count": 13,
   "id": "edd5d918-1edc-473d-b89d-9cc4db729490",
   "metadata": {},
   "outputs": [
    {
     "data": {
      "application/vnd.jupyter.widget-view+json": {
       "model_id": "776af4bfd83b4b7880bd66a540cb68cf",
       "version_major": 2,
       "version_minor": 0
      },
      "text/plain": [
       "Canvas(toolbar=Toolbar(toolitems=[('Home', 'Reset original view', 'home', 'home'), ('Back', 'Back to previous …"
      ]
     },
     "metadata": {},
     "output_type": "display_data"
    },
    {
     "name": "stderr",
     "output_type": "stream",
     "text": [
      "WARNING:matplotlib.image:Clipping input data to the valid range for imshow with RGB data ([0..1] for floats or [0..255] for integers).\n",
      "WARNING:matplotlib.image:Clipping input data to the valid range for imshow with RGB data ([0..1] for floats or [0..255] for integers).\n",
      "WARNING:matplotlib.image:Clipping input data to the valid range for imshow with RGB data ([0..1] for floats or [0..255] for integers).\n",
      "WARNING:matplotlib.image:Clipping input data to the valid range for imshow with RGB data ([0..1] for floats or [0..255] for integers).\n",
      "WARNING:matplotlib.image:Clipping input data to the valid range for imshow with RGB data ([0..1] for floats or [0..255] for integers).\n",
      "WARNING:matplotlib.image:Clipping input data to the valid range for imshow with RGB data ([0..1] for floats or [0..255] for integers).\n"
     ]
    }
   ],
   "source": [
    "%matplotlib widget\n",
    "fig, axes = plt.subplots(1, 6, figsize=(10,2))\n",
    "for ax, image in zip(axes, images):\n",
    "    ax.imshow(image)\n",
    "    ax.axis('off')\n",
    "plt.tight_layout()"
   ]
  },
  {
   "cell_type": "code",
   "execution_count": 4,
   "id": "98840438-9f43-4d5c-a3dc-42fb07266fe5",
   "metadata": {},
   "outputs": [
    {
     "data": {
      "application/vnd.jupyter.widget-view+json": {
       "model_id": "b5167333038f4b8db2f2317f00bc4db7",
       "version_major": 2,
       "version_minor": 0
      },
      "text/plain": [
       "  0%|          | 0/6 [00:00<?, ?it/s]"
      ]
     },
     "metadata": {},
     "output_type": "display_data"
    }
   ],
   "source": [
    "\"\"\"\n",
    "View the estimated emission at from the same angle at different times using the estimated rotation axis.\n",
    "\"\"\"\n",
    "images = []\n",
    "for frame in tqdm(np.linspace(0.0, 1.0, 6)):\n",
    "    visualizer.set_view(radius=27.5, azimuth=np.pi/4, zenith=np.pi/4)\n",
    "    t, x, y, z = frame * jnp.ones_like(visualizer.x), visualizer.x, visualizer.y, visualizer.z\n",
    "    emission = emission_op(state['params'], x, y, z, t)\n",
    "    emission = bhnerf.emission.zero_unsupervised_emission(emission, x, y, z, rmin=2.0, rmax=5.0)\n",
    "    images.append(visualizer.render(emission, jit=True, norm_const=1.0, bh_radius=2.0))"
   ]
  },
  {
   "cell_type": "code",
   "execution_count": 5,
   "id": "ce08d67c-b0f5-40e9-9c2b-542c16731d23",
   "metadata": {},
   "outputs": [
    {
     "data": {
      "application/vnd.jupyter.widget-view+json": {
       "model_id": "b2bb65e455ca4c33a66dd2a2a4a23d74",
       "version_major": 2,
       "version_minor": 0
      },
      "text/plain": [
       "Canvas(toolbar=Toolbar(toolitems=[('Home', 'Reset original view', 'home', 'home'), ('Back', 'Back to previous …"
      ]
     },
     "metadata": {},
     "output_type": "display_data"
    },
    {
     "name": "stderr",
     "output_type": "stream",
     "text": [
      "WARNING:matplotlib.image:Clipping input data to the valid range for imshow with RGB data ([0..1] for floats or [0..255] for integers).\n",
      "WARNING:matplotlib.image:Clipping input data to the valid range for imshow with RGB data ([0..1] for floats or [0..255] for integers).\n",
      "WARNING:matplotlib.image:Clipping input data to the valid range for imshow with RGB data ([0..1] for floats or [0..255] for integers).\n",
      "WARNING:matplotlib.image:Clipping input data to the valid range for imshow with RGB data ([0..1] for floats or [0..255] for integers).\n",
      "WARNING:matplotlib.image:Clipping input data to the valid range for imshow with RGB data ([0..1] for floats or [0..255] for integers).\n",
      "WARNING:matplotlib.image:Clipping input data to the valid range for imshow with RGB data ([0..1] for floats or [0..255] for integers).\n"
     ]
    }
   ],
   "source": [
    "%matplotlib widget\n",
    "fig, axes = plt.subplots(1, 6, figsize=(10,2))\n",
    "for ax, image in zip(axes, images):\n",
    "    ax.imshow(image)\n",
    "    ax.axis('off')\n",
    "plt.tight_layout()"
   ]
  }
 ],
 "metadata": {
  "kernelspec": {
   "display_name": "jax",
   "language": "python",
   "name": "jax"
  },
  "language_info": {
   "codemirror_mode": {
    "name": "ipython",
    "version": 3
   },
   "file_extension": ".py",
   "mimetype": "text/x-python",
   "name": "python",
   "nbconvert_exporter": "python",
   "pygments_lexer": "ipython3",
   "version": "3.9.6"
  }
 },
 "nbformat": 4,
 "nbformat_minor": 5
}
