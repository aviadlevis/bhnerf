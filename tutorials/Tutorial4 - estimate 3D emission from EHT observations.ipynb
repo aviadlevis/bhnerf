{
 "cells": [
  {
   "cell_type": "markdown",
   "id": "89ca7d61-9108-47e2-90b0-b589975a9040",
   "metadata": {
    "tags": []
   },
   "source": [
    "# Tutorial4: estimate 3D emission from EHT observations\n",
    "\n",
    "---\n",
    "This tutorial demonstrates the recovery of 3D emission from synthetic observations. Complex visibilities or closure phases are used to fit the parameters of a coordinate-based neural network (NeRF)."
   ]
  },
  {
   "cell_type": "code",
   "execution_count": 3,
   "id": "b85f8e98-8ea4-4e4c-9304-038107b539e2",
   "metadata": {},
   "outputs": [],
   "source": [
    "import bhnerf\n",
    "import bhnerf.constants as consts\n",
    "import numpy as np\n",
    "import os\n",
    "from datetime import datetime\n",
    "from astropy import units\n",
    "import ehtim as eh\n",
    "from bhnerf.optimization import LogFn\n",
    "\n",
    "# Runing on 2 GPUs\n",
    "os.environ['CUDA_VISIBLE_DEVICES'] = '6,7'"
   ]
  },
  {
   "cell_type": "code",
   "execution_count": 17,
   "id": "8f6d6b4b-c62d-41ed-a76c-18ec17c83eb5",
   "metadata": {},
   "outputs": [
    {
     "name": "stderr",
     "output_type": "stream",
     "text": [
      "/srv/tmp/aviad/miniconda3/envs/jax12/lib/python3.9/site-packages/xarray/core/computation.py:761: RuntimeWarning: invalid value encountered in sqrt\n",
      "  result_data = func(*input_data)\n"
     ]
    },
    {
     "name": "stdout",
     "output_type": "stream",
     "text": [
      "Producing clean visibilities from movie with direct FT . . . \n",
      "Applying Jones Matrices to data . . . \n",
      "Adding thermal noise to data . . . \n",
      "Applying a priori calibration with estimated Jones matrices . . . \n"
     ]
    }
   ],
   "source": [
    "\"\"\"\n",
    "Generate synthetic observations of a hot-spot\n",
    "\"\"\"\n",
    "fov_M = 16.0\n",
    "spin = 0.2\n",
    "inclination = np.deg2rad(60.0)      \n",
    "nt = 64\n",
    "\n",
    "array = 'ngEHT'             \n",
    "flux_scale = 0.1                    # scale image-plane fluxes to `reasonable` values in Jy\n",
    "tstart = 2.0 * units.hour           # observation start time\n",
    "tstop = tstart + 40.0 * units.min   # observation stop time\n",
    "\n",
    "# Compute geodesics (see Tutorial1)\n",
    "geos = bhnerf.kgeo.image_plane_geos(\n",
    "    spin, inclination, \n",
    "    num_alpha=64, num_beta=64, \n",
    "    alpha_range=[-fov_M/2, fov_M/2],\n",
    "    beta_range=[-fov_M/2, fov_M/2]\n",
    ")\n",
    "Omega = np.sign(spin + np.finfo(float).eps) * np.sqrt(geos.M) / (geos.r**(3/2) + geos.spin * np.sqrt(geos.M))\n",
    "t_injection = -float(geos.r_o)\n",
    "\n",
    "# Generate hotspot measurements (see Tutorial2) \n",
    "emission_0 = flux_scale * bhnerf.emission.generate_hotspot_xr(\n",
    "    resolution=(64, 64, 64), \n",
    "    rot_axis=[0.0, 0.0, 1.0], \n",
    "    rot_angle=0.0,\n",
    "    orbit_radius=5.5,\n",
    "    std=0.7,\n",
    "    r_isco=bhnerf.constants.isco_pro(spin),\n",
    "    fov=(fov_M, 'GM/c^2')\n",
    ")\n",
    "obs_params = {\n",
    "    'mjd': 57851,                       # night of april 6-7, 2017\n",
    "    'timetype': 'GMST',\n",
    "    'nt': nt,                           # number of time samples \n",
    "    'tstart': tstart.to('hr').value,    # start of observations\n",
    "    'tstop': tstop.to('hr').value,      # end of observation \n",
    "    'tint': 30.0,                       # integration time,\n",
    "    'array': eh.array.load_txt('../eht_arrays/{}.txt'.format(array))\n",
    "}\n",
    "obs_empty = bhnerf.observation.empty_eht_obs(**obs_params)\n",
    "fov_rad = (fov_M * consts.GM_c2(consts.sgra_mass) / consts.sgra_distance.to('m')) * units.rad\n",
    "psize = fov_rad.value / geos.alpha.size \n",
    "obs_args = {'psize': psize, 'ra': obs_empty.ra, 'dec': obs_empty.dec, 'rf': obs_empty.rf, 'mjd': obs_empty.mjd}\n",
    "t_frames = np.linspace(tstart, tstop, nt)\n",
    "image_plane = bhnerf.emission.image_plane_dynamics(emission_0, geos, Omega, t_frames, t_injection)\n",
    "movie = eh.movie.Movie(image_plane, times=t_frames.value, **obs_args)\n",
    "obs = bhnerf.observation.observe_same(movie, obs_empty, ttype='direct', seed=None)"
   ]
  },
  {
   "cell_type": "code",
   "execution_count": 18,
   "id": "d0f78171-f3bc-4915-954b-90f27c10c112",
   "metadata": {},
   "outputs": [
    {
     "name": "stdout",
     "output_type": "stream",
     "text": [
      "Splitting Observation File into 64 times\n"
     ]
    },
    {
     "name": "stderr",
     "output_type": "stream",
     "text": [
      "/srv/tmp/aviad/miniconda3/envs/jax12/lib/python3.9/site-packages/xarray/core/computation.py:761: RuntimeWarning: invalid value encountered in sqrt\n",
      "  result_data = func(*input_data)\n"
     ]
    },
    {
     "data": {
      "application/vnd.jupyter.widget-view+json": {
       "model_id": "9f5090a968b8495ba44265df7d84fb93",
       "version_major": 2,
       "version_minor": 0
      },
      "text/plain": [
       "iteration:   0%|          | 0/5000 [00:00<?, ?it/s]"
      ]
     },
     "metadata": {},
     "output_type": "display_data"
    }
   ],
   "source": [
    "\"\"\"\n",
    "Optimize network paremters to recover the 3D emission (as a continuous function) from observations \n",
    "Note that logging is done using tensorboardX. To view the tensorboard (from the main directory):\n",
    "    `tensorboard --logdir runs`\n",
    "\"\"\"\n",
    "batchsize = 6\n",
    "z_width = 4                # maximum disk width [M]\n",
    "rmax = fov_M / 2           # maximum recovery radius\n",
    "rmin = float(geos.r.min()) # minimum recovery radius\n",
    "hparams = {'num_iters': 5000, 'lr_init': 1e-4, 'lr_final': 1e-6}\n",
    "\n",
    "# Logging \n",
    "current_time = datetime.now().strftime('%Y-%m-%d.%H:%M:%S')\n",
    "runname = 'tutorial4/recovery.vis.{}'.format(current_time)\n",
    "writer = bhnerf.optimization.SummaryWriter(logdir='../runs/{}'.format(runname))\n",
    "writer.add_images('emission/true', bhnerf.utils.intensity_to_nchw(emission_0), global_step=0)\n",
    "log_fns = [\n",
    "    LogFn(lambda opt: writer.add_scalar('log_loss/train', np.log10(np.mean(opt.loss)), global_step=opt.step)), \n",
    "    LogFn(lambda opt: writer.recovery_3d(fov_M, emission_true=emission_0)(opt), log_period=200)\n",
    "]\n",
    "\n",
    "# Observation parameters \n",
    "chisqdata = eh.imaging.imager_utils.chisqdata_vis\n",
    "train_step = bhnerf.optimization.TrainStep.eht(t_frames, obs, movie.fovx(), movie.xdim, chisqdata)\n",
    "\n",
    "# Optimization\n",
    "predictor = bhnerf.network.NeRF_Predictor(rmax, rmin, rmax, z_width)\n",
    "raytracing_args = bhnerf.network.raytracing_args(geos, Omega, t_injection, t_frames[0])\n",
    "optimizer = bhnerf.optimization.Optimizer(hparams, predictor, raytracing_args, checkpoint_dir='../checkpoints/{}'.format(runname))\n",
    "optimizer.run(batchsize, train_step, raytracing_args, log_fns=log_fns)"
   ]
  },
  {
   "cell_type": "code",
   "execution_count": 19,
   "id": "4ef13b84-4000-4e16-80ce-14554bf9bef2",
   "metadata": {},
   "outputs": [
    {
     "data": {
      "application/vnd.jupyter.widget-view+json": {
       "model_id": "75a83cbb9dd14d1393a0e9e07bff150b",
       "version_major": 2,
       "version_minor": 0
      },
      "text/plain": [
       "Container(figure=Figure(box_center=[0.5, 0.5, 0.5], box_size=[1.0, 1.0, 1.0], camera=PerspectiveCamera(fov=45.…"
      ]
     },
     "metadata": {},
     "output_type": "display_data"
    }
   ],
   "source": [
    "\"\"\"\n",
    "Visualize the recovered 3D emission\n",
    "This visualization requires ipyvolume: https://ipyvolume.readthedocs.io/en/latest/\n",
    "\"\"\"\n",
    "emission_estimate = bhnerf.network.sample_3d_grid(predictor.apply, optimizer.params, fov=fov_M)\n",
    "bhnerf.visualization.ipyvolume_3d(emission_estimate, fov=fov_M, level=[0, 0.2, 0.7])"
   ]
  }
 ],
 "metadata": {
  "kernelspec": {
   "display_name": "Python 3 (ipykernel)",
   "language": "python",
   "name": "python3"
  },
  "language_info": {
   "codemirror_mode": {
    "name": "ipython",
    "version": 3
   },
   "file_extension": ".py",
   "mimetype": "text/x-python",
   "name": "python",
   "nbconvert_exporter": "python",
   "pygments_lexer": "ipython3",
   "version": "3.9.16"
  }
 },
 "nbformat": 4,
 "nbformat_minor": 5
}
