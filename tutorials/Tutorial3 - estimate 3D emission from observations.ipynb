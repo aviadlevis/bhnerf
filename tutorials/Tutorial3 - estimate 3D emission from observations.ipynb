{
 "cells": [
  {
   "cell_type": "markdown",
   "id": "89ca7d61-9108-47e2-90b0-b589975a9040",
   "metadata": {
    "tags": []
   },
   "source": [
    "# Tutorial3: estimate 3D emission from observations\n",
    "\n",
    "---\n",
    "This tutorial demonstrates the recovery of 3D emission from synthetic observations. Complex visibilities are used to fit the parameters of a coordinate-based neural network (NeRF)."
   ]
  },
  {
   "cell_type": "code",
   "execution_count": 1,
   "id": "b85f8e98-8ea4-4e4c-9304-038107b539e2",
   "metadata": {},
   "outputs": [
    {
     "name": "stderr",
     "output_type": "stream",
     "text": [
      "Matplotlib created a temporary config/cache directory at /tmp/matplotlib-wk_axo8u because the default path (/home/jovyan/.cache/matplotlib) is not a writable directory; it is highly recommended to set the MPLCONFIGDIR environment variable to a writable directory, in particular to speed up the import of Matplotlib and to better support multiprocessing.\n"
     ]
    },
    {
     "name": "stdout",
     "output_type": "stream",
     "text": [
      "Welcome to eht-imaging! v 1.2.2 \n",
      "\n"
     ]
    },
    {
     "name": "stderr",
     "output_type": "stream",
     "text": [
      "2022-08-10 16:20:20.209619: W tensorflow/stream_executor/platform/default/dso_loader.cc:64] Could not load dynamic library 'libcudart.so.11.0'; dlerror: libcudart.so.11.0: cannot open shared object file: No such file or directory; LD_LIBRARY_PATH: /.singularity.d/libs\n"
     ]
    }
   ],
   "source": [
    "import bhnerf\n",
    "import kgeo\n",
    "import ehtim as eh\n",
    "from ehtim.observing.obs_helpers import ftmatrix\n",
    "import ehtim.const_def as ehc\n",
    "import bhnerf.constants as consts\n",
    "from astropy import units\n",
    "import jax\n",
    "\n",
    "import numpy as np\n",
    "import xarray as xr\n",
    "import matplotlib.pyplot as plt\n",
    "\n",
    "import os\n",
    "from datetime import datetime\n",
    "from tqdm.notebook import tqdm\n",
    "\n",
    "# Runing on 2 GPUs\n",
    "os.environ['CUDA_VISIBLE_DEVICES'] = '1,2'"
   ]
  },
  {
   "cell_type": "code",
   "execution_count": 2,
   "id": "8f6d6b4b-c62d-41ed-a76c-18ec17c83eb5",
   "metadata": {},
   "outputs": [
    {
     "name": "stderr",
     "output_type": "stream",
     "text": [
      "/scratch/imaging/projects/bh_nerf/envs/jax/lib/python3.9/site-packages/xarray/core/computation.py:700: RuntimeWarning: invalid value encountered in sqrt\n",
      "  result_data = func(*input_data)\n"
     ]
    },
    {
     "name": "stdout",
     "output_type": "stream",
     "text": [
      "Producing clean visibilities from movie with direct FT . . . \n",
      "Applying Jones Matrices to data . . . \n",
      "Applying Jones Matrices to data . . . \n",
      "Adding thermal noise to data . . . \n",
      "Applying a priori calibration with estimated Jones matrices . . . \n"
     ]
    }
   ],
   "source": [
    "\"\"\"\n",
    "Generate synthetic observations of a hot-spot to serve as ground-truth comparison \n",
    "\"\"\"\n",
    "spin = 0.2\n",
    "inclination = np.deg2rad(60.0)\n",
    "\n",
    "array = 'ngEHT'             \n",
    "nt = 64                             # number of image frames\n",
    "flux_scaling = 0.02                 # scale image-plane values to `reasonable` fluxes  \n",
    "fov_M = 16.0                        # field of view (M)\n",
    "tstart = 2.0 * units.hour           # observation start time\n",
    "tstop = tstart + 40.0 * units.min   # observation stop time\n",
    "\n",
    "# Compute geodesics (see Tutorial1)\n",
    "geos = bhnerf.emission.kerr_geodesics(\n",
    "    spin, inclination, \n",
    "    num_alpha=64, num_beta=64, \n",
    "    alpha_range=[-fov_M/2, fov_M/2],\n",
    "    beta_range=[-fov_M/2, fov_M/2]\n",
    ")\n",
    "Omega = np.sqrt(geos.M) / (geos.r**(3/2) + geos.spin * np.sqrt(geos.M))\n",
    "t_injection = -float(geos.r_o)\n",
    "\n",
    "# Generate hotspot measurements (see Tutorial2) \n",
    "emission_0 = flux_scaling * bhnerf.emission.generate_hotspot_xr(\n",
    "    resolution=(64, 64, 64), \n",
    "    rot_axis=[0.0, 0.0, 1.0], \n",
    "    rot_angle=0.0,\n",
    "    orbit_radius=5.5,\n",
    "    std=0.7,\n",
    "    r_isco=bhnerf.constants.isco_pro(spin),\n",
    "    fov=(fov_M, 'GM/c^2')\n",
    ")\n",
    "obs_params = {\n",
    "    'mjd': 57851,                       # night of april 6-7, 2017\n",
    "    'timetype': 'GMST',\n",
    "    'nt': nt,                           # number of time samples \n",
    "    'tstart': tstart.to('hr').value,    # start of observations\n",
    "    'tstop': tstop.to('hr').value,      # end of observation \n",
    "    'tint': 30.0,                       # integration time,\n",
    "    'array': eh.array.load_txt('../eht_arrays/{}.txt'.format(array))\n",
    "}\n",
    "obs_empty = bhnerf.observation.empty_eht_obs(**obs_params)\n",
    "fov_rad = (fov_M * consts.GM_c2(consts.sgra_mass) / consts.sgra_distance.to('m')) * units.rad\n",
    "psize = fov_rad.value / geos.alpha.size \n",
    "obs_args = {'psize': psize, 'ra': obs_empty.ra, 'dec': obs_empty.dec, 'rf': obs_empty.rf, 'mjd': obs_empty.mjd}\n",
    "t_frames = np.linspace(tstart, tstop, nt)\n",
    "image_plane = bhnerf.emission.image_plane_dynamics(emission_0, geos, Omega, t_frames, t_injection)\n",
    "movie = eh.movie.Movie(image_plane, times=t_frames.value, **obs_args)\n",
    "obs = bhnerf.observation.observe_same(movie, obs_empty, ttype='direct', seed=None)"
   ]
  },
  {
   "cell_type": "code",
   "execution_count": 3,
   "id": "da357d5a-6656-439d-9576-0cf9c5b9c558",
   "metadata": {},
   "outputs": [],
   "source": [
    "from jax import numpy as jnp\n",
    "import optax\n",
    "def run_optimization(runname, hparams, predictor, train_pstep, target, t_frames, geos, Omega, rmax, t_injection,\n",
    "                     batched_args=[], emission_true=None, vis_res=64, log_period=100, save_period=1000):\n",
    "    \n",
    "    from tensorboardX import SummaryWriter\n",
    "    from tqdm.notebook import tqdm\n",
    "    \n",
    "    # Logging parameters\n",
    "    checkpoint_dir = '../checkpoints/{}'.format(runname)\n",
    "    logdir = '../runs/{}'.format(runname)\n",
    "    \n",
    "    # Image rendering arguments\n",
    "    t_units = t_frames.unit\n",
    "    coords = jnp.array([geos.x, geos.y, geos.z])\n",
    "    umu = bhnerf.emission.azimuthal_velocity_vector(geos, Omega)\n",
    "    g = jnp.array(bhnerf.emission.doppler_factor(geos, umu))\n",
    "    Omega = jnp.array(Omega)\n",
    "    dtau = jnp.array(geos.dtau)\n",
    "    Sigma = jnp.array(geos.Sigma)\n",
    "    t_start_obs = t_frames[0]\n",
    "    t_geos = jnp.array(geos.t)\n",
    "    rmin = geos.r.min().data\n",
    "    rendering_args = [coords, Omega, g, dtau, Sigma, t_start_obs, t_geos, t_injection, rmin, rmax]\n",
    "    print('asd')\n",
    "    # Grid for visualization (no interpolation is added for easy comparison)\n",
    "    if emission_true is not None:\n",
    "        vis_coords = np.array(np.meshgrid(np.linspace(emission_true.x[0], emission_true.x[-1], emission_true.shape[0]),\n",
    "                                          np.linspace(emission_true.y[0], emission_true.y[-1], emission_true.shape[1]),\n",
    "                                          np.linspace(emission_true.z[0], emission_true.z[-1], emission_true.shape[2]),\n",
    "                                          indexing='ij'))\n",
    "    else:\n",
    "        grid_1d = np.linspace(-rmax, rmax, vis_res)\n",
    "        vis_coords = np.array(np.meshgrid(grid_1d, grid_1d, grid_1d, indexing='ij'))\n",
    "\n",
    "    params = predictor.init(jax.random.PRNGKey(1), t_frames[0], t_units, coords, Omega, t_start_obs, t_geos, t_injection)['params']\n",
    "    \n",
    "    tx = optax.adam(learning_rate=optax.polynomial_schedule(hparams['lr_init'], hparams['lr_final'], 1, hparams['num_iters']))\n",
    "    if 'lr_inject' in hparams.keys():\n",
    "        tx = optax.chain(\n",
    "            optax.masked(optax.adam(learning_rate=hparams['lr_inject']), mask=flattened_traversal(lambda path, _: path[-1] == 't_injection')),\n",
    "            optax.masked(tx, mask=flattened_traversal(lambda path, _: path[-1] != 't_injection')),\n",
    "        )\n",
    "        \n",
    "    state = train_state.TrainState.create(apply_fn=predictor.apply, params=params.unfreeze(), tx=tx)  # TODO(pratul): this unfreeze feels sketchy\n",
    "\n",
    "    # Restore saved checkpoint\n",
    "    # if np.isscalar(save_period): state = checkpoints.restore_checkpoint(checkpoint_dir, state)\n",
    "    init_step = 1 + state.step\n",
    "    \n",
    "    # Replicate state for multiple gpus\n",
    "    state = flax.jax_utils.replicate(state)\n",
    "    with SummaryWriter(logdir=logdir) as writer:\n",
    "        if emission_true is not None: writer.add_images('emission/true', bhnerf.utils.intensity_to_nchw(emission_true), global_step=0)\n",
    "\n",
    "        for i in tqdm(range(init_step, init_step + hparams['num_iters']), desc='iteration'):\n",
    "            print(i)\n",
    "            batch = np.random.choice(range(len(t_frames)), hparams['batchsize'], replace=False)\n",
    "            bargs = [shard(arg[batch, ...]) for arg in batched_args]\n",
    "            loss, state, images = train_pstep(state, *bargs, *rendering_args, t_units)\n",
    "\n",
    "            # Log the current state on TensorBoard\n",
    "            writer.add_scalar('log_loss/train', np.log10(np.mean(loss)), global_step=i)\n",
    "            if (i == 1) or ((i % log_period) == 0) or (i ==  init_step + hparams['num_iters']):\n",
    "                current_state = jax.device_get(flax.jax_utils.unreplicate(state))\n",
    "                emission_grid = state.apply_fn({'params': current_state.params}, t_frames[0], t_units, vis_coords, 0.0, t_start_obs, 0.0, 0.0)\n",
    "                emission_grid = bhnerf.emission.fill_unsupervised_emission(emission_grid, vis_coords, rmin, rmax)\n",
    "                writer.add_images('emission/estimate', bhnerf.utils.intensity_to_nchw(emission_grid), global_step=i)\n",
    "                if 'lr_inject' in hparams.keys(): writer.add_scalar('t_injection', float(current_state.params['t_injection']), global_step=i)\n",
    "                if emission_true is not None:\n",
    "                    writer.add_scalar('emission/mse', bhnerf.utils.mse(emission_true.data, emission_grid), global_step=i)\n",
    "                    writer.add_scalar('emission/psnr', bhnerf.utils.psnr(emission_true.data, emission_grid), global_step=i)\n",
    "\n",
    "            # Save checkpoints occasionally\n",
    "            if np.isscalar(save_period) and ((i % save_period == 0) or (i ==  init_step + hparams['num_iters'])):\n",
    "                current_state = jax.device_get(flax.jax_utils.unreplicate(state))\n",
    "                checkpoints.save_checkpoint(checkpoint_dir, current_state, int(i), keep=5)\n",
    "    return current_state"
   ]
  },
  {
   "cell_type": "code",
   "execution_count": 3,
   "id": "c522963e-d4c8-4381-a320-a58a2e68bbae",
   "metadata": {},
   "outputs": [
    {
     "name": "stdout",
     "output_type": "stream",
     "text": [
      "Splitting Observation File into 64 times\n"
     ]
    },
    {
     "name": "stderr",
     "output_type": "stream",
     "text": [
      "/scratch/imaging/projects/bh_nerf/envs/jax/lib/python3.9/site-packages/xarray/core/computation.py:700: RuntimeWarning: invalid value encountered in sqrt\n",
      "  result_data = func(*input_data)\n",
      "/scratch/imaging/projects/bh_nerf/envs/jax/lib/python3.9/site-packages/jax/lib/xla_bridge.py:390: UserWarning: jax.host_count has been renamed to jax.process_count. This alias will eventually be removed; please update your code.\n",
      "  warnings.warn(\n",
      "/scratch/imaging/projects/bh_nerf/envs/jax/lib/python3.9/site-packages/jax/lib/xla_bridge.py:377: UserWarning: jax.host_id has been renamed to jax.process_index. This alias will eventually be removed; please update your code.\n",
      "  warnings.warn(\n"
     ]
    },
    {
     "data": {
      "application/vnd.jupyter.widget-view+json": {
       "model_id": "b0b69e353fde457984a93a191d8cac8b",
       "version_major": 2,
       "version_minor": 0
      },
      "text/plain": [
       "iteration:   0%|          | 0/5000 [00:00<?, ?it/s]"
      ]
     },
     "metadata": {},
     "output_type": "display_data"
    }
   ],
   "source": [
    "\"\"\"\n",
    "Optimize network paremters to recover the 3D emission (as a continuous function) from observations \n",
    "Note that logging is done using tensorboardX. To view the tensorboard (from the main directory):\n",
    "    `tensorboard --logdir runs`\n",
    "\"\"\"\n",
    "hparams = {'num_iters': 5000, 'lr_init': 1e-4, 'lr_final': 1e-6, 'batchsize': 6}\n",
    "predictor = bhnerf.network.NeRF_Predictor()\n",
    "train_pstep = jax.pmap(bhnerf.network.train_step_eht, \n",
    "                       axis_name='batch', \n",
    "                       in_axes=(0, None, 0, 0, 0, 0, None, None, None, None, None, None, None, None, None, None), \n",
    "                       static_broadcasted_argnums=(1))\n",
    "\n",
    "# Observation parameters (split observations into frames)\n",
    "num_frames = 64\n",
    "obs_frames = obs.split_obs(t_gather=(tstop-tstart).to('s').value / (num_frames+1))\n",
    "prior = eh.image.make_square(obs, geos.alpha.size, fov_rad.value)\n",
    "target, sigma, A = [np.array(out) for out in zip(*[eh.imaging.imager_utils.chisqdata_vis(obs, prior, mask=[]) for obs in obs_frames])]\n",
    "batched_args = [target, sigma, A, t_frames]\n",
    "\n",
    "# Run optimization\n",
    "# Note: rmax constrains the optimization domain to a radius.\n",
    "rmax = fov_M / 2\n",
    "current_time = datetime.now().strftime('%Y-%m-%d.%H:%M:%S')\n",
    "runname = 'tutorial3/recovery.{}'.format(current_time)\n",
    "state = bhnerf.network.run_optimization(\n",
    "    runname, hparams, predictor, train_pstep, target, t_frames, geos, Omega, rmax, \n",
    "    t_injection, batched_args, emission_true=emission_0, save_period=hparams['num_iters'])"
   ]
  },
  {
   "cell_type": "code",
   "execution_count": 4,
   "id": "4ef13b84-4000-4e16-80ce-14554bf9bef2",
   "metadata": {},
   "outputs": [
    {
     "data": {
      "application/vnd.jupyter.widget-view+json": {
       "model_id": "eb3e736d807b4381b255f019f2ec16d1",
       "version_major": 2,
       "version_minor": 0
      },
      "text/plain": [
       "VBox(children=(Figure(camera=PerspectiveCamera(fov=45.0, position=(0.0, -2.1650635094610964, 1.250000000000000…"
      ]
     },
     "metadata": {},
     "output_type": "display_data"
    }
   ],
   "source": [
    "\"\"\"\n",
    "Visualization the recovered 3D emission\n",
    "This visualization requires ipyvolume: https://ipyvolume.readthedocs.io/en/latest/\n",
    "\"\"\"\n",
    "import ipyvolume as ipv\n",
    "vis_coords = np.array(np.meshgrid(np.linspace(emission_0.x[0], emission_0.x[-1], emission_0.shape[0]),\n",
    "                                  np.linspace(emission_0.y[0], emission_0.y[-1], emission_0.shape[1]),\n",
    "                                  np.linspace(emission_0.z[0], emission_0.z[-1], emission_0.shape[2]),\n",
    "                                  indexing='ij'))\n",
    "\n",
    "# Get the a gridded convereged solution from the neural network\n",
    "emission_estimate = state.apply_fn({'params': state.params}, tstart, tstart.unit, vis_coords, 0.0, tstart, 0.0, 0.0)\n",
    "emission_estimate =  bhnerf.emission.fill_unsupervised_emission(emission_estimate, vis_coords, geos.r.min().data, rmax)\n",
    "   \n",
    "extent = [(float(emission_0[dim].min()), float(emission_0[dim].max())) for dim in ('x', 'y', 'z')]\n",
    "ipv.figure()\n",
    "ipv.view(0, -60, distance=2.5)\n",
    "ipv.volshow(emission_estimate, extent=extent, memorder='F', level=[0, 0.2, 0.7], opacity=[0, 0.2, 0.3], controls=False)\n",
    "ipv.show()"
   ]
  }
 ],
 "metadata": {
  "kernelspec": {
   "display_name": "jax",
   "language": "python",
   "name": "jax"
  },
  "language_info": {
   "codemirror_mode": {
    "name": "ipython",
    "version": 3
   },
   "file_extension": ".py",
   "mimetype": "text/x-python",
   "name": "python",
   "nbconvert_exporter": "python",
   "pygments_lexer": "ipython3",
   "version": "3.9.6"
  }
 },
 "nbformat": 4,
 "nbformat_minor": 5
}
