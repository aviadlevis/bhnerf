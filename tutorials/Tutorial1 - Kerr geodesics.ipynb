{
 "cells": [
  {
   "cell_type": "markdown",
   "id": "c4055663-2243-4a44-8cd4-817816434d04",
   "metadata": {},
   "source": [
    "# Tutorial1: ray tracing using kgeo\n",
    "\n",
    "---\n",
    "This tutorial demonstrates generation of geodesics (photon trajectories) around a black hole using in the Kerr metric. \\\n",
    "The software used is kgeo by [Andrew Chael](https://achael.github.io/) which is documented at: https://github.com/achael/kgeo"
   ]
  },
  {
   "cell_type": "code",
   "execution_count": 1,
   "id": "a5b7564b-c8f4-4101-91b5-f0fec34206dc",
   "metadata": {},
   "outputs": [
    {
     "name": "stderr",
     "output_type": "stream",
     "text": [
      "Matplotlib created a temporary config/cache directory at /tmp/matplotlib-f8vecjxh because the default path (/home/jovyan/.cache/matplotlib) is not a writable directory; it is highly recommended to set the MPLCONFIGDIR environment variable to a writable directory, in particular to speed up the import of Matplotlib and to better support multiprocessing.\n",
      "Matplotlib is building the font cache; this may take a moment.\n"
     ]
    },
    {
     "name": "stdout",
     "output_type": "stream",
     "text": [
      "Welcome to eht-imaging! v 1.2.2 \n",
      "\n"
     ]
    },
    {
     "name": "stderr",
     "output_type": "stream",
     "text": [
      "2022-07-05 10:38:29.746308: W tensorflow/stream_executor/platform/default/dso_loader.cc:64] Could not load dynamic library 'libcudart.so.11.0'; dlerror: libcudart.so.11.0: cannot open shared object file: No such file or directory; LD_LIBRARY_PATH: /.singularity.d/libs\n"
     ]
    }
   ],
   "source": [
    "import bhnerf\n",
    "import kgeo\n",
    "import numpy as np"
   ]
  },
  {
   "cell_type": "code",
   "execution_count": 2,
   "id": "e708b0eb-e6ec-4934-b232-509934404ebf",
   "metadata": {},
   "outputs": [
    {
     "name": "stdout",
     "output_type": "stream",
     "text": [
      "calculating preliminaries...\n",
      "integrating in theta...0.04 s\n",
      "integrating in r...0.07 s\n",
      "done!   0.1138148307800293  seconds!\n"
     ]
    }
   ],
   "source": [
    "\"\"\"\n",
    "Generate rays across the equitorial plane of a non-spinning black hole\n",
    "\"\"\"\n",
    "npix = 64\n",
    "inclination = 0.5\n",
    "distance = 1000.0\n",
    "spin = 0.0\n",
    "image_coords = [np.linspace(-8.0,8.0,npix), np.zeros(npix)]\n",
    "observer_coords=[0, distance, inclination, 0]\n",
    "\n",
    "geodesics = kgeo.raytrace_ana(spin, observer_coords, image_coords, plotdata=False)"
   ]
  },
  {
   "cell_type": "code",
   "execution_count": 3,
   "id": "6b34c8d4",
   "metadata": {},
   "outputs": [
    {
     "data": {
      "application/vnd.jupyter.widget-view+json": {
       "model_id": "43f624bbf2c24b9da135076b63b5f8d7",
       "version_major": 2,
       "version_minor": 0
      },
      "text/plain": [
       "Canvas(toolbar=Toolbar(toolitems=[('Home', 'Reset original view', 'home', 'home'), ('Back', 'Back to previous …"
      ]
     },
     "metadata": {},
     "output_type": "display_data"
    },
    {
     "name": "stdout",
     "output_type": "stream",
     "text": [
      "maxwraps  3\n"
     ]
    }
   ],
   "source": [
    "%matplotlib widget\n",
    "geodesics.plotgeos(ngeoplot=-1)"
   ]
  },
  {
   "cell_type": "code",
   "execution_count": 4,
   "id": "de2e2d8e-e22b-4321-aff0-ce17555d6848",
   "metadata": {},
   "outputs": [
    {
     "name": "stderr",
     "output_type": "stream",
     "text": [
      "/scratch/imaging/projects/bh_nerf/envs/jax/lib/python3.9/site-packages/xarray/core/computation.py:700: RuntimeWarning: invalid value encountered in sqrt\n",
      "  result_data = func(*input_data)\n"
     ]
    }
   ],
   "source": [
    "\"\"\"\n",
    "Use bhnerf wrapper to retrieve geodesics as an xarray dataset structure. \n",
    "A 64x64 image plane is computed for a given field of view\n",
    "\"\"\"\n",
    "from bhnerf import constants as consts\n",
    "\n",
    "spin = 0.3\n",
    "inclination = np.deg2rad(60.0)\n",
    "\n",
    "# Compute the fov (M) for the mass / distance of Sgr A*\n",
    "fov_uas = 160.0\n",
    "fov_rad = fov_uas * 4.85e-12\n",
    "fov_M = (fov_rad *  consts.sgra_distance.to('m') / consts.GM_c2(consts.sgra_mass)).value\n",
    "\n",
    "geos = bhnerf.emission.kerr_geodesics(\n",
    "    spin, inclination, \n",
    "    alpha_range=[-fov_M/2, fov_M/2],\n",
    "    beta_range=[-fov_M/2, fov_M/2],\n",
    "    num_alpha=64, num_beta=64, \n",
    ")\n",
    "\n",
    "# Compute doppler boosting factor `g` for a Keplerian velocity field\n",
    "Omega = np.sqrt(geos.M) / (geos.r**(3/2) + geos.spin * np.sqrt(geos.M))\n",
    "geos = bhnerf.emission.compute_keplerian_velocity(geos, Omega)"
   ]
  },
  {
   "cell_type": "code",
   "execution_count": 5,
   "id": "649126e7-980f-4852-a9b5-d545dda66c75",
   "metadata": {},
   "outputs": [
    {
     "data": {
      "application/vnd.jupyter.widget-view+json": {
       "model_id": "964e4964847444e6b6e76babefea033a",
       "version_major": 2,
       "version_minor": 0
      },
      "text/plain": [
       "Canvas(toolbar=Toolbar(toolitems=[('Home', 'Reset original view', 'home', 'home'), ('Back', 'Back to previous …"
      ]
     },
     "metadata": {},
     "output_type": "display_data"
    },
    {
     "data": {
      "application/vnd.jupyter.widget-view+json": {
       "model_id": "65fdf72df8f541d48530977d2ac2864a",
       "version_major": 2,
       "version_minor": 0
      },
      "text/plain": [
       "interactive(children=(IntSlider(value=31, description='ialpha', max=63), IntSlider(value=31, description='ibet…"
      ]
     },
     "metadata": {},
     "output_type": "display_data"
    }
   ],
   "source": [
    "\"\"\"\n",
    "Interactively visualize doppler boosting along the geodesics\n",
    "\"\"\"\n",
    "%matplotlib widget\n",
    "bhnerf.visualization.plot_geodesic_3D(geos.g, geos);"
   ]
  }
 ],
 "metadata": {
  "kernelspec": {
   "display_name": "Python 3 (ipykernel)",
   "language": "python",
   "name": "python3"
  },
  "language_info": {
   "codemirror_mode": {
    "name": "ipython",
    "version": 3
   },
   "file_extension": ".py",
   "mimetype": "text/x-python",
   "name": "python",
   "nbconvert_exporter": "python",
   "pygments_lexer": "ipython3",
   "version": "3.9.6"
  }
 },
 "nbformat": 4,
 "nbformat_minor": 5
}
