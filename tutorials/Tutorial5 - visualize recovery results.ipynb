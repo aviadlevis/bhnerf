{
 "cells": [
  {
   "cell_type": "markdown",
   "id": "89ca7d61-9108-47e2-90b0-b589975a9040",
   "metadata": {
    "tags": []
   },
   "source": [
    "# Tutorial5: visualize recovery results\n",
    "\n",
    "---\n",
    "This tutorial demonstrates visualize the 3D / 4D recovery results. \\\n",
    "By sampling a trained neural network at regular grid intervals we can visualize the recovered 3D emission as if it were in **flat space**"
   ]
  },
  {
   "cell_type": "code",
   "execution_count": 1,
   "id": "dbf1765c-890a-4c7a-a16d-c8a64b217f43",
   "metadata": {},
   "outputs": [
    {
     "name": "stderr",
     "output_type": "stream",
     "text": [
      "Matplotlib created a temporary config/cache directory at /tmp/matplotlib-gar522rx because the default path (/home/jovyan/.cache/matplotlib) is not a writable directory; it is highly recommended to set the MPLCONFIGDIR environment variable to a writable directory, in particular to speed up the import of Matplotlib and to better support multiprocessing.\n",
      "2022-12-15 12:59:12.178287: W tensorflow/stream_executor/platform/default/dso_loader.cc:64] Could not load dynamic library 'libcudart.so.11.0'; dlerror: libcudart.so.11.0: cannot open shared object file: No such file or directory; LD_LIBRARY_PATH: /.singularity.d/libs\n"
     ]
    },
    {
     "name": "stdout",
     "output_type": "stream",
     "text": [
      "Welcome to eht-imaging! v 1.2.2 \n",
      "\n"
     ]
    }
   ],
   "source": [
    "import numpy as np\n",
    "import matplotlib.pyplot as plt\n",
    "from tqdm.notebook import tqdm\n",
    "from flax.training import checkpoints\n",
    "import os\n",
    "import bhnerf\n",
    "os.environ['CUDA_VISIBLE_DEVICES'] = '0'"
   ]
  },
  {
   "cell_type": "code",
   "execution_count": 2,
   "id": "c2118c19-fccf-405c-897b-90e72a89a62f",
   "metadata": {},
   "outputs": [],
   "source": [
    "\"\"\"\n",
    "Load a checkpoint and define a VolumeVisualizer object.\n",
    "Note: make sure checkpoint_dir points to saved ceckpoint directory\n",
    "\"\"\"\n",
    "checkpoint_dir = '../checkpoints/tutorial3/recovery.2022-11-16.16:19:12/'\n",
    "predictor = bhnerf.network.NeRF_Predictor()\n",
    "state = checkpoints.restore_checkpoint(checkpoint_dir, None)\n",
    "\n",
    "resolution = 128\n",
    "visualizer = bhnerf.visualization.VolumeVisualizer(resolution, resolution, resolution)"
   ]
  },
  {
   "cell_type": "code",
   "execution_count": 4,
   "id": "3ba3aa91-7af3-4f60-ae18-3fc0a5d1d7ed",
   "metadata": {},
   "outputs": [
    {
     "data": {
      "application/vnd.jupyter.widget-view+json": {
       "model_id": "ee1b64a611a54c349b1ecc7c517da117",
       "version_major": 2,
       "version_minor": 0
      },
      "text/plain": [
       "  0%|          | 0/6 [00:00<?, ?it/s]"
      ]
     },
     "metadata": {},
     "output_type": "display_data"
    }
   ],
   "source": [
    "\"\"\"\n",
    "Define the position of the camera and sample/integrate emission according to the camera rays.\n",
    "View the estimated emission at t=0 from multiple angles. \n",
    "Note that jit is useful for acceleration however the initial rendering will be slow due to compilation.\n",
    "\"\"\"\n",
    "images = []\n",
    "bh_radius = 2.0\n",
    "rmax = 8.0\n",
    "camrad = 37.\n",
    "linewidth=0.1\n",
    "\n",
    "for azimuth in tqdm(np.linspace(0.0, 360, 6)):\n",
    "    visualizer.set_view(radius=camrad, azimuth=azimuth, zenith=np.pi/3, \n",
    "                        near=camrad-rmax*np.sqrt(2.)-1., far=camrad+rmax*np.sqrt(2)+1.)\n",
    "    emission = bhnerf.network.sample_3d_grid(predictor.apply, state['params'], bh_radius, rmax, coords=visualizer.coords)\n",
    "    emission = emission / emission.max()\n",
    "    images.append(visualizer.render(emission, facewidth=2.0*rmax, jit=False, bh_radius=bh_radius, linewidth=linewidth))"
   ]
  },
  {
   "cell_type": "code",
   "execution_count": 5,
   "id": "bd127926-ddd3-4103-8833-8c4dc78b5bc4",
   "metadata": {},
   "outputs": [
    {
     "data": {
      "application/vnd.jupyter.widget-view+json": {
       "model_id": "8b965f2bb4f348d88c180694454c3ae0",
       "version_major": 2,
       "version_minor": 0
      },
      "text/plain": [
       "Canvas(toolbar=Toolbar(toolitems=[('Home', 'Reset original view', 'home', 'home'), ('Back', 'Back to previous …"
      ]
     },
     "metadata": {},
     "output_type": "display_data"
    },
    {
     "name": "stderr",
     "output_type": "stream",
     "text": [
      "WARNING:matplotlib.image:Clipping input data to the valid range for imshow with RGB data ([0..1] for floats or [0..255] for integers).\n",
      "WARNING:matplotlib.image:Clipping input data to the valid range for imshow with RGB data ([0..1] for floats or [0..255] for integers).\n",
      "WARNING:matplotlib.image:Clipping input data to the valid range for imshow with RGB data ([0..1] for floats or [0..255] for integers).\n",
      "WARNING:matplotlib.image:Clipping input data to the valid range for imshow with RGB data ([0..1] for floats or [0..255] for integers).\n",
      "WARNING:matplotlib.image:Clipping input data to the valid range for imshow with RGB data ([0..1] for floats or [0..255] for integers).\n",
      "WARNING:matplotlib.image:Clipping input data to the valid range for imshow with RGB data ([0..1] for floats or [0..255] for integers).\n"
     ]
    }
   ],
   "source": [
    "%matplotlib widget\n",
    "fig, axes = plt.subplots(1, 6, figsize=(10,2))\n",
    "for ax, image in zip(axes, images):\n",
    "    ax.imshow(image);\n",
    "    ax.axis('off');\n",
    "plt.tight_layout()"
   ]
  }
 ],
 "metadata": {
  "kernelspec": {
   "display_name": "jax",
   "language": "python",
   "name": "jax"
  },
  "language_info": {
   "codemirror_mode": {
    "name": "ipython",
    "version": 3
   },
   "file_extension": ".py",
   "mimetype": "text/x-python",
   "name": "python",
   "nbconvert_exporter": "python",
   "pygments_lexer": "ipython3",
   "version": "3.9.6"
  }
 },
 "nbformat": 4,
 "nbformat_minor": 5
}
