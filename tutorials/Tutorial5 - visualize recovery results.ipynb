{
 "cells": [
  {
   "cell_type": "markdown",
   "id": "89ca7d61-9108-47e2-90b0-b589975a9040",
   "metadata": {
    "tags": []
   },
   "source": [
    "# Tutorial5: visualize recovery results\n",
    "\n",
    "---\n",
    "This tutorial demonstrates visualize the 3D / 4D recovery results. \\\n",
    "By sampling a trained neural network at regular grid intervals we can visualize the recovered 3D emission as if it were in **flat space**"
   ]
  },
  {
   "cell_type": "code",
   "execution_count": 3,
   "id": "dbf1765c-890a-4c7a-a16d-c8a64b217f43",
   "metadata": {},
   "outputs": [],
   "source": [
    "import numpy as np\n",
    "import matplotlib.pyplot as plt\n",
    "from tqdm.notebook import tqdm\n",
    "from flax.training import checkpoints\n",
    "import os\n",
    "import bhnerf\n",
    "os.environ['CUDA_VISIBLE_DEVICES'] = '0'"
   ]
  },
  {
   "cell_type": "code",
   "execution_count": 4,
   "id": "c2118c19-fccf-405c-897b-90e72a89a62f",
   "metadata": {},
   "outputs": [],
   "source": [
    "\"\"\"\n",
    "Load a checkpoint and Visualizer object\n",
    "Note: make sure checkpoint_dir points to saved ceckpoint directory\n",
    "\"\"\"\n",
    "checkpoint_dir = '../checkpoints/tutorial3/recovery.2022-12-23.11:28:41/'\n",
    "predictor = bhnerf.network.NeRF_Predictor.from_yml(checkpoint_dir)\n",
    "state = checkpoints.restore_checkpoint(checkpoint_dir, None)\n",
    "\n",
    "resolution = 128\n",
    "visualizer = bhnerf.visualization.VolumeVisualizer(resolution, resolution, resolution)"
   ]
  },
  {
   "cell_type": "code",
   "execution_count": 7,
   "id": "3ba3aa91-7af3-4f60-ae18-3fc0a5d1d7ed",
   "metadata": {},
   "outputs": [
    {
     "data": {
      "application/vnd.jupyter.widget-view+json": {
       "model_id": "5526a0b7ddf54b89a328bac917a57cff",
       "version_major": 2,
       "version_minor": 0
      },
      "text/plain": [
       "  0%|          | 0/6 [00:00<?, ?it/s]"
      ]
     },
     "metadata": {},
     "output_type": "display_data"
    }
   ],
   "source": [
    "\"\"\"\n",
    "Define the position of the camera and sample/integrate emission according to the camera rays.\n",
    "View the estimated emission at t=0 from multiple angles. \n",
    "Note that jit is useful for acceleration of many frames however the initial rendering will be slow due to compilation.\n",
    "\"\"\"\n",
    "bh_radius = 2.0\n",
    "cam_r = 37.\n",
    "linewidth = 0.1\n",
    "rmax = predictor.rmax\n",
    "\n",
    "images = []\n",
    "for azimuth in tqdm(np.linspace(0.0, 360, 6)):\n",
    "    visualizer.set_view(cam_r=cam_r, domain_r=rmax, azimuth=azimuth, zenith=np.pi/3)\n",
    "    emission = bhnerf.network.sample_3d_grid(predictor.apply, state['params'], coords=visualizer.coords)\n",
    "    emission = emission / emission.max()\n",
    "    image = visualizer.render(emission, facewidth=2.0*rmax, jit=False, bh_radius=bh_radius, linewidth=linewidth)\n",
    "    images.append(image.clip(a_max=1))"
   ]
  },
  {
   "cell_type": "code",
   "execution_count": 8,
   "id": "98141971-a8ee-4822-b20d-bacb62d5a109",
   "metadata": {},
   "outputs": [
    {
     "data": {
      "application/vnd.jupyter.widget-view+json": {
       "model_id": "31be57f0db314cc9a12bd07b37595ca7",
       "version_major": 2,
       "version_minor": 0
      },
      "text/plain": [
       "Canvas(toolbar=Toolbar(toolitems=[('Home', 'Reset original view', 'home', 'home'), ('Back', 'Back to previous …"
      ]
     },
     "metadata": {},
     "output_type": "display_data"
    }
   ],
   "source": [
    "%matplotlib widget\n",
    "fig, axes = plt.subplots(1, 6, figsize=(10,2))\n",
    "for ax, image in zip(axes, images):\n",
    "    ax.imshow(image)\n",
    "    ax.axis('off');\n",
    "plt.tight_layout()"
   ]
  }
 ],
 "metadata": {
  "kernelspec": {
   "display_name": "jax",
   "language": "python",
   "name": "jax"
  },
  "language_info": {
   "codemirror_mode": {
    "name": "ipython",
    "version": 3
   },
   "file_extension": ".py",
   "mimetype": "text/x-python",
   "name": "python",
   "nbconvert_exporter": "python",
   "pygments_lexer": "ipython3",
   "version": "3.9.6"
  }
 },
 "nbformat": 4,
 "nbformat_minor": 5
}
