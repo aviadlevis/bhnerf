{
 "cells": [
  {
   "cell_type": "code",
   "execution_count": 1,
   "id": "8aa53e4a-a59e-450b-996f-45e6f479f0a6",
   "metadata": {},
   "outputs": [
    {
     "name": "stderr",
     "output_type": "stream",
     "text": [
      "Matplotlib created a temporary config/cache directory at /tmp/matplotlib-uf6mrtrl because the default path (/home/jovyan/.cache/matplotlib) is not a writable directory; it is highly recommended to set the MPLCONFIGDIR environment variable to a writable directory, in particular to speed up the import of Matplotlib and to better support multiprocessing.\n"
     ]
    }
   ],
   "source": [
    "import numpy as np\n",
    "import kgeo\n",
    "import xarray as xr\n",
    "from tqdm.notebook import tqdm\n",
    "import matplotlib.pyplot as plt\n",
    "from matplotlib.colors import Normalize\n",
    "from matplotlib.animation import FuncAnimation"
   ]
  },
  {
   "cell_type": "code",
   "execution_count": 2,
   "id": "47669684-4085-4c2e-a311-96c82603e23e",
   "metadata": {},
   "outputs": [],
   "source": [
    "def ds_to_geo(dataset):\n",
    "    ds = dataset.transpose('geo', 'pix')\n",
    "    geo = kgeo.kerr_raytracing_utils.Geodesics(\n",
    "        a=float(ds.spin),\n",
    "        observer_coords=[0,  float(ds.r_o), float(ds.inc), 0],\n",
    "        image_coords=[ds.alpha.data, ds.beta.data],\n",
    "        mino_times=ds.mino.data,\n",
    "        affine_times=ds.affine.data,\n",
    "        geo_coords=[ds.t.data, ds.r.data, geos.th_s, ds.phi.data]\n",
    "    )\n",
    "    return geo\n",
    "\n",
    "def init_figure(spin, xlim=[-8,8], ylim=[-8,8]):\n",
    "    fig, ax = plt.subplots()\n",
    "    ax.set_title(r'$a={}$'.format(spin))\n",
    "    ln1, = ax.plot([], [], label='interp')\n",
    "    ln2, = ax.plot([], [], '--', label='exact')\n",
    "    rplus  =  1 + np.sqrt(1-spin**2)\n",
    "    horizon = plt.Circle((0, 0), rplus, color='black')\n",
    "    ax.add_patch(horizon)\n",
    "    plt.legend()\n",
    "    ax.set_xlim(xlim)\n",
    "    ax.set_ylim(ylim)\n",
    "    return fig, ax, ln1, ln2\n",
    "\n",
    "def animate_rays(exact_ds, interp_ds, spin, fps=10):\n",
    "    fig, ax, ln1, ln2 = init_figure(spin)\n",
    "    def update(pix):\n",
    "        ln1.set_data(interp_ds.sel(pix=pix).x, interp_ds.sel(pix=pix).y)\n",
    "        ln2.set_data(exact_ds.sel(pix=pix).x, exact_ds.sel(pix=pix).y)\n",
    "        ax.set_title(r'$a={}$; pix={}'.format(spin, pix))\n",
    "        return [ln1, ln2]\n",
    "    anim = FuncAnimation(fig, update, frames=npix,  interval=1e3 / fps)\n",
    "    return anim"
   ]
  },
  {
   "cell_type": "code",
   "execution_count": 3,
   "id": "f16f83c9-a2cb-41c3-94df-5b6f1103534e",
   "metadata": {},
   "outputs": [],
   "source": [
    "npix = 64\n",
    "ngeo = 200\n",
    "inclination = np.pi/2\n",
    "distance = 1000.0\n",
    "image_coords = [np.linspace(-8.0,8.0,npix), np.zeros(npix)]\n",
    "observer_coords=[0, distance, inclination, 0]"
   ]
  },
  {
   "cell_type": "code",
   "execution_count": 4,
   "id": "d674e3f5-fd1a-49da-80fe-90b572ce1cae",
   "metadata": {},
   "outputs": [
    {
     "data": {
      "application/vnd.jupyter.widget-view+json": {
       "model_id": "df04a92481734fc985c4a9c6c1b65cf2",
       "version_major": 2,
       "version_minor": 0
      },
      "text/plain": [
       "  0%|          | 0/100 [00:00<?, ?it/s]"
      ]
     },
     "metadata": {},
     "output_type": "display_data"
    },
    {
     "name": "stderr",
     "output_type": "stream",
     "text": [
      "/scratch/imaging/projects/bh_nerf/bhNeRF/kgeo/scipy_ellip_binding.py:214: RuntimeWarning: divide by zero encountered in true_divide\n",
      "  p_m = (z_m*(x_m+y_m+q_m) - x_m*y_m) / (z_m + q_m)\n",
      "/scratch/imaging/projects/bh_nerf/bhNeRF/kgeo/scipy_ellip_binding.py:214: RuntimeWarning: invalid value encountered in true_divide\n",
      "  p_m = (z_m*(x_m+y_m+q_m) - x_m*y_m) / (z_m + q_m)\n",
      "/scratch/imaging/projects/bh_nerf/bhNeRF/kgeo/kerr_raytracing_utils.py:206: RuntimeWarning: invalid value encountered in cos\n",
      "  'x': (['geo', 'pix'],  self.r_s * np.cos(self.ph_s) * np.sin(self.th_s)),\n",
      "/scratch/imaging/projects/bh_nerf/bhNeRF/kgeo/kerr_raytracing_utils.py:207: RuntimeWarning: invalid value encountered in sin\n",
      "  'y': (['geo', 'pix'],  self.r_s * np.sin(self.ph_s) * np.sin(self.th_s)),\n"
     ]
    }
   ],
   "source": [
    "num_spins = 100\n",
    "\n",
    "rays = []\n",
    "for spin in tqdm(np.linspace(1e-6, 0.94, num_spins)):\n",
    "    geos = kgeo.raytrace_ana(spin, observer_coords, image_coords, ngeo, plotdata=False, verbose=False)\n",
    "    rays.append(geos.get_dataset())\n",
    "rays = xr.concat(rays, dim='spin')"
   ]
  },
  {
   "cell_type": "code",
   "execution_count": 5,
   "id": "b38283a1-432a-409c-a95d-011fcb9f248c",
   "metadata": {},
   "outputs": [
    {
     "data": {
      "application/vnd.jupyter.widget-view+json": {
       "model_id": "c5a2b2b86a2e4e4f9691f0ddabce8703",
       "version_major": 2,
       "version_minor": 0
      },
      "text/plain": [
       "Canvas(toolbar=Toolbar(toolitems=[('Home', 'Reset original view', 'home', 'home'), ('Back', 'Back to previous …"
      ]
     },
     "metadata": {},
     "output_type": "display_data"
    },
    {
     "data": {
      "text/plain": [
       "<matplotlib.colorbar.Colorbar at 0x7fcd3b988dc0>"
      ]
     },
     "execution_count": 5,
     "metadata": {},
     "output_type": "execute_result"
    }
   ],
   "source": [
    "\"\"\"\n",
    "Plot trajectories of 4 image pixels for different spin values\n",
    "\"\"\"\n",
    "max_r = 8.0\n",
    "trajectories = rays.sel(pix=[5, 28, 42, 55])\n",
    "\n",
    "cmap = plt.cm.viridis(np.linspace(0, 1, rays.spin.size))\n",
    "sm = plt.cm.ScalarMappable(cmap='viridis', norm=Normalize(rays.spin.min(), rays.spin.max()))\n",
    "%matplotlib widget\n",
    "\n",
    "fig, axes = plt.subplots(1, 4, figsize=(12,3))\n",
    "for i in trajectories.pix:\n",
    "    for spin, color in zip(trajectories.sel(pix=i).spin, cmap):\n",
    "        traject = trajectories.where(trajectories.r < max_r).sel(geo=range(ngeo-1), pix=i, spin=spin)\n",
    "        x, y = traject.x, traject.y\n",
    "        axes[i].plot(x, y, color=color)\n",
    "        axes[i].set_title(r'$a \\in [0,0.94]$')\n",
    "        axes[i].set_ylim([-9, 9])\n",
    "plt.tight_layout()\n",
    "plt.colorbar(sm)"
   ]
  },
  {
   "cell_type": "code",
   "execution_count": 7,
   "id": "1c5cff30-966b-4e00-a69d-b6a369745a4d",
   "metadata": {},
   "outputs": [
    {
     "name": "stderr",
     "output_type": "stream",
     "text": [
      "/scratch/imaging/projects/bh_nerf/bhNeRF/kgeo/kerr_raytracing_utils.py:570: RuntimeWarning: invalid value encountered in true_divide\n",
      "  nmax_eq = ((tau*np.sqrt(-a2u_minus.astype(complex)) + s_o*F_o) / (2*K))  + 1\n"
     ]
    },
    {
     "data": {
      "application/vnd.jupyter.widget-view+json": {
       "model_id": "c5880000f158412fabe85dc11148d790",
       "version_major": 2,
       "version_minor": 0
      },
      "text/plain": [
       "Canvas(toolbar=Toolbar(toolitems=[('Home', 'Reset original view', 'home', 'home'), ('Back', 'Back to previous …"
      ]
     },
     "metadata": {},
     "output_type": "display_data"
    },
    {
     "name": "stdout",
     "output_type": "stream",
     "text": [
      "maxwraps  3\n"
     ]
    }
   ],
   "source": [
    "geo_interp_ds = rays.interp(spin=spin)\n",
    "geo_interp = ds_to_geo(geo_interp_ds)\n",
    "geo_interp.plotgeos()\n",
    "geo_interp_ds = geo_interp_ds.where(geo_interp_ds.r < max_r).sel(geo=range(ngeo-1))"
   ]
  },
  {
   "cell_type": "code",
   "execution_count": 9,
   "id": "49ccd9c1-7d56-45bf-9c03-8e00455f5a89",
   "metadata": {},
   "outputs": [
    {
     "name": "stdout",
     "output_type": "stream",
     "text": [
      "plotting data...\n"
     ]
    },
    {
     "name": "stderr",
     "output_type": "stream",
     "text": [
      "/scratch/imaging/projects/bh_nerf/bhNeRF/kgeo/scipy_ellip_binding.py:214: RuntimeWarning: divide by zero encountered in true_divide\n",
      "  p_m = (z_m*(x_m+y_m+q_m) - x_m*y_m) / (z_m + q_m)\n",
      "/scratch/imaging/projects/bh_nerf/bhNeRF/kgeo/scipy_ellip_binding.py:214: RuntimeWarning: invalid value encountered in true_divide\n",
      "  p_m = (z_m*(x_m+y_m+q_m) - x_m*y_m) / (z_m + q_m)\n",
      "/scratch/imaging/projects/bh_nerf/bhNeRF/kgeo/kerr_raytracing_utils.py:570: RuntimeWarning: invalid value encountered in true_divide\n",
      "  nmax_eq = ((tau*np.sqrt(-a2u_minus.astype(complex)) + s_o*F_o) / (2*K))  + 1\n"
     ]
    },
    {
     "data": {
      "application/vnd.jupyter.widget-view+json": {
       "model_id": "ed77fbda5dd044a7ac44d6c705ca5bdf",
       "version_major": 2,
       "version_minor": 0
      },
      "text/plain": [
       "Canvas(toolbar=Toolbar(toolitems=[('Home', 'Reset original view', 'home', 'home'), ('Back', 'Back to previous …"
      ]
     },
     "metadata": {},
     "output_type": "display_data"
    },
    {
     "name": "stdout",
     "output_type": "stream",
     "text": [
      "maxwraps  3\n"
     ]
    }
   ],
   "source": [
    "spin = 0.4\n",
    "geo = kgeo.raytrace_ana(spin, observer_coords, image_coords, ngeo, plotdata=True, verbose=False)\n",
    "geo_ds = geo.get_dataset().sel(geo=range(ngeo-1)).where(geo_interp_ds.r < max_r)"
   ]
  },
  {
   "cell_type": "code",
   "execution_count": 10,
   "id": "1f6baf49-7fd1-49db-b838-c7cf020ce1e9",
   "metadata": {},
   "outputs": [
    {
     "name": "stderr",
     "output_type": "stream",
     "text": [
      "/scratch/imaging/projects/bh_nerf/bhNeRF/kgeo/scipy_ellip_binding.py:214: RuntimeWarning: divide by zero encountered in true_divide\n",
      "  p_m = (z_m*(x_m+y_m+q_m) - x_m*y_m) / (z_m + q_m)\n",
      "/scratch/imaging/projects/bh_nerf/bhNeRF/kgeo/scipy_ellip_binding.py:214: RuntimeWarning: invalid value encountered in true_divide\n",
      "  p_m = (z_m*(x_m+y_m+q_m) - x_m*y_m) / (z_m + q_m)\n"
     ]
    },
    {
     "data": {
      "application/vnd.jupyter.widget-view+json": {
       "model_id": "673dafee16c046a9a4f179d38c6827f2",
       "version_major": 2,
       "version_minor": 0
      },
      "text/plain": [
       "Canvas(toolbar=Toolbar(toolitems=[('Home', 'Reset original view', 'home', 'home'), ('Back', 'Back to previous …"
      ]
     },
     "metadata": {},
     "output_type": "display_data"
    }
   ],
   "source": [
    "%matplotlib widget\n",
    "spin = 0.11\n",
    "max_r = 10.0\n",
    "\n",
    "geo = kgeo.raytrace_ana(spin, observer_coords, image_coords, ngeo, plotdata=False, verbose=False).get_dataset()\n",
    "exact_ds = geo.where(geo.r < max_r).sel(geo=range(ngeo-1))\n",
    "interp_ds = rays.interp(spin=spin).where(geo.r < max_r).sel(geo=range(ngeo-1))\n",
    "    \n",
    "anim = animate_rays(exact_ds, interp_ds, spin=spin, fps=5)\n",
    "outpath = 'spin_interpolation/th_0{:1.2f}.spin{:1.2f}.gif'.format(inclination, spin)\n",
    "# anim.save(outpath, writer='imagemagick', fps=5)"
   ]
  },
  {
   "cell_type": "code",
   "execution_count": 11,
   "id": "bdf24973-9bb0-4077-ab82-3c7dbea3c11e",
   "metadata": {},
   "outputs": [
    {
     "data": {
      "application/vnd.jupyter.widget-view+json": {
       "model_id": "b351f13224514ce796abbf1f5ff062a3",
       "version_major": 2,
       "version_minor": 0
      },
      "text/plain": [
       "Canvas(toolbar=Toolbar(toolitems=[('Home', 'Reset original view', 'home', 'home'), ('Back', 'Back to previous …"
      ]
     },
     "metadata": {},
     "output_type": "display_data"
    },
    {
     "data": {
      "application/vnd.jupyter.widget-view+json": {
       "model_id": "71ef8ab7ba4c40b99d21cca3aa203389",
       "version_major": 2,
       "version_minor": 0
      },
      "text/plain": [
       "interactive(children=(IntSlider(value=0, description='pix', max=63), Output()), _dom_classes=('widget-interact…"
      ]
     },
     "metadata": {},
     "output_type": "display_data"
    }
   ],
   "source": [
    "from ipywidgets import interact\n",
    "import ipywidgets as widgets\n",
    "\n",
    "fig, ax, ln1, ln2 = init_figure(spin)\n",
    "@interact(pix=widgets.IntSlider(min=0, max=npix-1, step=1, value=0))\n",
    "def update(pix):\n",
    "    ln1.set_data(interp_ds.sel(pix=pix).x, interp_ds.sel(pix=pix).y)\n",
    "    ln2.set_data(exact_ds.sel(pix=pix).x, exact_ds.sel(pix=pix).y)\n",
    "    ax.set_title(r'$a={}$; pix={}'.format(spin, pix))\n",
    "    plt.show()"
   ]
  }
 ],
 "metadata": {
  "kernelspec": {
   "display_name": "Python 3 (ipykernel)",
   "language": "python",
   "name": "python3"
  },
  "language_info": {
   "codemirror_mode": {
    "name": "ipython",
    "version": 3
   },
   "file_extension": ".py",
   "mimetype": "text/x-python",
   "name": "python",
   "nbconvert_exporter": "python",
   "pygments_lexer": "ipython3",
   "version": "3.9.6"
  }
 },
 "nbformat": 4,
 "nbformat_minor": 5
}
