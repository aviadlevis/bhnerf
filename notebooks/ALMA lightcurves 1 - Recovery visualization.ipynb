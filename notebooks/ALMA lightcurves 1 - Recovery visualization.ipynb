{
 "cells": [
  {
   "cell_type": "code",
   "execution_count": 8,
   "id": "b85f8e98-8ea4-4e4c-9304-038107b539e2",
   "metadata": {},
   "outputs": [],
   "source": [
    "import bhnerf\n",
    "from astropy import units\n",
    "import jax\n",
    "\n",
    "import numpy as np\n",
    "import xarray as xr\n",
    "import matplotlib.pyplot as plt\n",
    "import pandas as pd\n",
    "from tqdm.notebook import tqdm\n",
    "from flax.training import checkpoints\n",
    "from pathlib import Path\n",
    "import ruamel.yaml as yaml\n",
    "\n",
    "# Runing on 2 GPUs\n",
    "import os\n",
    "os.environ['CUDA_VISIBLE_DEVICES'] = '0,1'\n",
    "\n",
    "# Import script function\n",
    "import sys\n",
    "sys.path.append('../scripts/')\n",
    "from Fit_ALMA_LP_Apr11_SgrA_Flare import preprocess_data"
   ]
  },
  {
   "cell_type": "code",
   "execution_count": 2,
   "id": "57c05f9f-57ea-48cf-9904-306ffcd39d16",
   "metadata": {},
   "outputs": [],
   "source": [
    "def sample_3D_recovery(checkpoint_dir, coords, chunk=-1):\n",
    "    predictor = bhnerf.network.NeRF_Predictor.from_yml(checkpoint_dir)\n",
    "    state = checkpoints.restore_checkpoint(checkpoint_dir, None)\n",
    "    emission = bhnerf.network.sample_3d_grid(predictor.apply, state['params'], coords=coords, chunk=chunk)\n",
    "    return emission\n",
    "\n",
    "def image_plane_model(inc, spin, randomize_subpixel_rays=False):\n",
    "    # Compute geodesics paths\n",
    "    geos = bhnerf.kgeo.image_plane_geos(\n",
    "        spin, inc, \n",
    "        num_alpha=num_alpha, \n",
    "        num_beta=num_beta, \n",
    "        alpha_range=[-fov_M/2, fov_M/2],\n",
    "        beta_range=[-fov_M/2, fov_M/2],\n",
    "        randomize_subpixel_rays=randomize_subpixel_rays\n",
    "    )\n",
    "    geos = geos.fillna(0.0)\n",
    "     # Keplerian velocity and Doppler boosting\n",
    "    rot_sign = {'cw': -1, 'ccw': 1}\n",
    "    Omega = rot_sign[Omega_dir] * np.sqrt(geos.M) / (geos.r**(3/2) + geos.spin * np.sqrt(geos.M))\n",
    "    umu = bhnerf.kgeo.azimuthal_velocity_vector(geos, Omega)\n",
    "    g = bhnerf.kgeo.doppler_factor(geos, umu)\n",
    "\n",
    "    # Magnitude normalized magnetic field in fluid-frame\n",
    "    b = bhnerf.kgeo.magnetic_field_fluid_frame(geos, umu, **b_consts)\n",
    "    domain = np.bitwise_and(np.bitwise_and(np.abs(geos.z) < z_width, geos.r > rmin), geos.r < rmax)\n",
    "    b_mean = np.sqrt(np.sum(b[domain]**2, axis=-1)).mean()\n",
    "    b /= b_mean\n",
    "\n",
    "    # Polarized emission factors (including parallel transport)\n",
    "    de_rot_model = np.deg2rad(de_rot_angle + 20.0)\n",
    "    J = np.nan_to_num(bhnerf.kgeo.parallel_transport(geos, umu, g, b, Q_frac=Q_frac, V_frac=0), 0.0)\n",
    "    J_rot = bhnerf.emission.rotate_evpa(J, de_rot_model)\n",
    "\n",
    "    t_injection = -float(geos.r_o + fov_M/4)\n",
    "    raytracing_args = bhnerf.network.raytracing_args(geos, Omega, t_injection, t_start_obs*units.hr, J_rot)\n",
    "    return raytracing_args\n",
    "\n",
    "def image_plane_model_perturb_rays(inc, spin):\n",
    "    raytracing_args = []\n",
    "    for i in tqdm(range(num_subrays), leave=False):\n",
    "        raytracing_args.append(image_plane_model(inc, spin, randomize_subpixel_rays=True))\n",
    "    return raytracing_args\n",
    "\n",
    "def image_plane_fit(raytracing_args, checkpoint_dir, t, data, rmin=0.0, rmax=np.inf, batchsize=20):\n",
    "    predictor = bhnerf.network.NeRF_Predictor.from_yml(checkpoint_dir)\n",
    "    predictor.rmax = min(rmax, predictor.rmax)\n",
    "    predictor.rmin = max(rmin, predictor.rmin)\n",
    "    params = predictor.init_params(raytracing_args)\n",
    "    state = predictor.init_state(params, checkpoint_dir=checkpoint_dir)\n",
    "    train_step = bhnerf.optimization.TrainStep.image(t, data, sigma, dtype='lc')\n",
    "    _, image_plane = bhnerf.optimization.total_movie_loss(batchsize, state, train_step, raytracing_args, return_frames=True)\n",
    "    datafit = np.sum(((image_plane.sum(axis=(-1,-2)) - data) / sigma)**2) / len(t)\n",
    "    return datafit, image_plane"
   ]
  },
  {
   "cell_type": "code",
   "execution_count": 17,
   "id": "c75fa4da-3ec5-479f-8422-a1943aad137a",
   "metadata": {},
   "outputs": [],
   "source": [
    "recovery_path = Path('../checkpoints/alma/intrinsic_fits/toroidal_b_variable_pixels1_new/')\n",
    "outpath = Path(os.path.join(*recovery_path.parts[2:]))\n",
    "outpath.mkdir(parents=True, exist_ok=True)\n",
    "\n",
    "with open(recovery_path.joinpath('config.yml'), 'r') as stream:\n",
    "    config = yaml.load(stream, Loader=yaml.Loader)\n",
    "\n",
    "locals().update(config['preprocess'])\n",
    "locals().update(config['model'])\n",
    "locals().update(config['optimization'])\n",
    "\n",
    "# Preprocess / split data to train/validation\n",
    "target, t_frames = preprocess_data(**config['preprocess'])\n",
    "train_idx = t_frames <= config['preprocess']['t_start']*units.hr + train_split*units.min\n",
    "val_idx = t_frames > config['preprocess']['t_start']*units.hr + train_split*units.min\n",
    "data_train, data_val  = target[train_idx], target[val_idx] \n",
    "t_train, t_val = t_frames[train_idx], t_frames[val_idx]\n",
    "rmax = fov_M / 2\n",
    "if rmin == 'ISCO': rmin = float(bhnerf.constants.isco_pro(spin))"
   ]
  },
  {
   "cell_type": "markdown",
   "id": "f051e636-fd23-430b-9559-5bfbdc6e7def",
   "metadata": {
    "jp-MarkdownHeadingCollapsed": true,
    "tags": []
   },
   "source": [
    "# Inclination data-fit\n",
    "---\n",
    "Data-fit as a function of inclination angle (\"zero-order\" marginal likelihood)"
   ]
  },
  {
   "cell_type": "code",
   "execution_count": 5,
   "id": "86be4156-afe2-4597-a038-d0e85828f13e",
   "metadata": {
    "collapsed": true,
    "jupyter": {
     "outputs_hidden": true
    },
    "tags": []
   },
   "outputs": [
    {
     "data": {
      "application/vnd.jupyter.widget-view+json": {
       "model_id": "215b7f8033294808b31b4ec8dbe5415d",
       "version_major": 2,
       "version_minor": 0
      },
      "text/plain": [
       "inc:   0%|          | 0/39 [00:00<?, ?it/s]"
      ]
     },
     "metadata": {},
     "output_type": "display_data"
    },
    {
     "data": {
      "application/vnd.jupyter.widget-view+json": {
       "model_id": "",
       "version_major": 2,
       "version_minor": 0
      },
      "text/plain": [
       "seed:   0%|          | 0/4 [00:00<?, ?it/s]"
      ]
     },
     "metadata": {},
     "output_type": "display_data"
    },
    {
     "data": {
      "application/vnd.jupyter.widget-view+json": {
       "model_id": "",
       "version_major": 2,
       "version_minor": 0
      },
      "text/plain": [
       "seed:   0%|          | 0/4 [00:00<?, ?it/s]"
      ]
     },
     "metadata": {},
     "output_type": "display_data"
    },
    {
     "data": {
      "application/vnd.jupyter.widget-view+json": {
       "model_id": "",
       "version_major": 2,
       "version_minor": 0
      },
      "text/plain": [
       "seed:   0%|          | 0/4 [00:00<?, ?it/s]"
      ]
     },
     "metadata": {},
     "output_type": "display_data"
    },
    {
     "data": {
      "application/vnd.jupyter.widget-view+json": {
       "model_id": "",
       "version_major": 2,
       "version_minor": 0
      },
      "text/plain": [
       "seed:   0%|          | 0/4 [00:00<?, ?it/s]"
      ]
     },
     "metadata": {},
     "output_type": "display_data"
    },
    {
     "data": {
      "application/vnd.jupyter.widget-view+json": {
       "model_id": "",
       "version_major": 2,
       "version_minor": 0
      },
      "text/plain": [
       "seed:   0%|          | 0/4 [00:00<?, ?it/s]"
      ]
     },
     "metadata": {},
     "output_type": "display_data"
    },
    {
     "data": {
      "application/vnd.jupyter.widget-view+json": {
       "model_id": "",
       "version_major": 2,
       "version_minor": 0
      },
      "text/plain": [
       "seed:   0%|          | 0/4 [00:00<?, ?it/s]"
      ]
     },
     "metadata": {},
     "output_type": "display_data"
    },
    {
     "data": {
      "application/vnd.jupyter.widget-view+json": {
       "model_id": "",
       "version_major": 2,
       "version_minor": 0
      },
      "text/plain": [
       "seed:   0%|          | 0/4 [00:00<?, ?it/s]"
      ]
     },
     "metadata": {},
     "output_type": "display_data"
    },
    {
     "data": {
      "application/vnd.jupyter.widget-view+json": {
       "model_id": "",
       "version_major": 2,
       "version_minor": 0
      },
      "text/plain": [
       "seed:   0%|          | 0/4 [00:00<?, ?it/s]"
      ]
     },
     "metadata": {},
     "output_type": "display_data"
    },
    {
     "data": {
      "application/vnd.jupyter.widget-view+json": {
       "model_id": "",
       "version_major": 2,
       "version_minor": 0
      },
      "text/plain": [
       "seed:   0%|          | 0/4 [00:00<?, ?it/s]"
      ]
     },
     "metadata": {},
     "output_type": "display_data"
    },
    {
     "data": {
      "application/vnd.jupyter.widget-view+json": {
       "model_id": "",
       "version_major": 2,
       "version_minor": 0
      },
      "text/plain": [
       "seed:   0%|          | 0/4 [00:00<?, ?it/s]"
      ]
     },
     "metadata": {},
     "output_type": "display_data"
    },
    {
     "data": {
      "application/vnd.jupyter.widget-view+json": {
       "model_id": "",
       "version_major": 2,
       "version_minor": 0
      },
      "text/plain": [
       "seed:   0%|          | 0/4 [00:00<?, ?it/s]"
      ]
     },
     "metadata": {},
     "output_type": "display_data"
    },
    {
     "data": {
      "application/vnd.jupyter.widget-view+json": {
       "model_id": "",
       "version_major": 2,
       "version_minor": 0
      },
      "text/plain": [
       "seed:   0%|          | 0/4 [00:00<?, ?it/s]"
      ]
     },
     "metadata": {},
     "output_type": "display_data"
    },
    {
     "data": {
      "application/vnd.jupyter.widget-view+json": {
       "model_id": "",
       "version_major": 2,
       "version_minor": 0
      },
      "text/plain": [
       "seed:   0%|          | 0/4 [00:00<?, ?it/s]"
      ]
     },
     "metadata": {},
     "output_type": "display_data"
    },
    {
     "data": {
      "application/vnd.jupyter.widget-view+json": {
       "model_id": "",
       "version_major": 2,
       "version_minor": 0
      },
      "text/plain": [
       "seed:   0%|          | 0/4 [00:00<?, ?it/s]"
      ]
     },
     "metadata": {},
     "output_type": "display_data"
    },
    {
     "data": {
      "application/vnd.jupyter.widget-view+json": {
       "model_id": "",
       "version_major": 2,
       "version_minor": 0
      },
      "text/plain": [
       "seed:   0%|          | 0/4 [00:00<?, ?it/s]"
      ]
     },
     "metadata": {},
     "output_type": "display_data"
    },
    {
     "data": {
      "application/vnd.jupyter.widget-view+json": {
       "model_id": "",
       "version_major": 2,
       "version_minor": 0
      },
      "text/plain": [
       "seed:   0%|          | 0/4 [00:00<?, ?it/s]"
      ]
     },
     "metadata": {},
     "output_type": "display_data"
    },
    {
     "data": {
      "application/vnd.jupyter.widget-view+json": {
       "model_id": "",
       "version_major": 2,
       "version_minor": 0
      },
      "text/plain": [
       "seed:   0%|          | 0/4 [00:00<?, ?it/s]"
      ]
     },
     "metadata": {},
     "output_type": "display_data"
    },
    {
     "data": {
      "application/vnd.jupyter.widget-view+json": {
       "model_id": "",
       "version_major": 2,
       "version_minor": 0
      },
      "text/plain": [
       "seed:   0%|          | 0/4 [00:00<?, ?it/s]"
      ]
     },
     "metadata": {},
     "output_type": "display_data"
    },
    {
     "data": {
      "application/vnd.jupyter.widget-view+json": {
       "model_id": "",
       "version_major": 2,
       "version_minor": 0
      },
      "text/plain": [
       "seed:   0%|          | 0/4 [00:00<?, ?it/s]"
      ]
     },
     "metadata": {},
     "output_type": "display_data"
    },
    {
     "data": {
      "application/vnd.jupyter.widget-view+json": {
       "model_id": "",
       "version_major": 2,
       "version_minor": 0
      },
      "text/plain": [
       "seed:   0%|          | 0/4 [00:00<?, ?it/s]"
      ]
     },
     "metadata": {},
     "output_type": "display_data"
    },
    {
     "data": {
      "application/vnd.jupyter.widget-view+json": {
       "model_id": "",
       "version_major": 2,
       "version_minor": 0
      },
      "text/plain": [
       "seed:   0%|          | 0/4 [00:00<?, ?it/s]"
      ]
     },
     "metadata": {},
     "output_type": "display_data"
    },
    {
     "data": {
      "application/vnd.jupyter.widget-view+json": {
       "model_id": "",
       "version_major": 2,
       "version_minor": 0
      },
      "text/plain": [
       "seed:   0%|          | 0/4 [00:00<?, ?it/s]"
      ]
     },
     "metadata": {},
     "output_type": "display_data"
    },
    {
     "data": {
      "application/vnd.jupyter.widget-view+json": {
       "model_id": "",
       "version_major": 2,
       "version_minor": 0
      },
      "text/plain": [
       "seed:   0%|          | 0/4 [00:00<?, ?it/s]"
      ]
     },
     "metadata": {},
     "output_type": "display_data"
    },
    {
     "data": {
      "application/vnd.jupyter.widget-view+json": {
       "model_id": "",
       "version_major": 2,
       "version_minor": 0
      },
      "text/plain": [
       "seed:   0%|          | 0/4 [00:00<?, ?it/s]"
      ]
     },
     "metadata": {},
     "output_type": "display_data"
    },
    {
     "data": {
      "application/vnd.jupyter.widget-view+json": {
       "model_id": "",
       "version_major": 2,
       "version_minor": 0
      },
      "text/plain": [
       "seed:   0%|          | 0/4 [00:00<?, ?it/s]"
      ]
     },
     "metadata": {},
     "output_type": "display_data"
    },
    {
     "data": {
      "application/vnd.jupyter.widget-view+json": {
       "model_id": "",
       "version_major": 2,
       "version_minor": 0
      },
      "text/plain": [
       "seed:   0%|          | 0/4 [00:00<?, ?it/s]"
      ]
     },
     "metadata": {},
     "output_type": "display_data"
    },
    {
     "data": {
      "application/vnd.jupyter.widget-view+json": {
       "model_id": "",
       "version_major": 2,
       "version_minor": 0
      },
      "text/plain": [
       "seed:   0%|          | 0/4 [00:00<?, ?it/s]"
      ]
     },
     "metadata": {},
     "output_type": "display_data"
    },
    {
     "data": {
      "application/vnd.jupyter.widget-view+json": {
       "model_id": "",
       "version_major": 2,
       "version_minor": 0
      },
      "text/plain": [
       "seed:   0%|          | 0/4 [00:00<?, ?it/s]"
      ]
     },
     "metadata": {},
     "output_type": "display_data"
    },
    {
     "data": {
      "application/vnd.jupyter.widget-view+json": {
       "model_id": "",
       "version_major": 2,
       "version_minor": 0
      },
      "text/plain": [
       "seed:   0%|          | 0/4 [00:00<?, ?it/s]"
      ]
     },
     "metadata": {},
     "output_type": "display_data"
    },
    {
     "data": {
      "application/vnd.jupyter.widget-view+json": {
       "model_id": "",
       "version_major": 2,
       "version_minor": 0
      },
      "text/plain": [
       "seed:   0%|          | 0/4 [00:00<?, ?it/s]"
      ]
     },
     "metadata": {},
     "output_type": "display_data"
    },
    {
     "data": {
      "application/vnd.jupyter.widget-view+json": {
       "model_id": "",
       "version_major": 2,
       "version_minor": 0
      },
      "text/plain": [
       "seed:   0%|          | 0/4 [00:00<?, ?it/s]"
      ]
     },
     "metadata": {},
     "output_type": "display_data"
    },
    {
     "data": {
      "application/vnd.jupyter.widget-view+json": {
       "model_id": "",
       "version_major": 2,
       "version_minor": 0
      },
      "text/plain": [
       "seed:   0%|          | 0/4 [00:00<?, ?it/s]"
      ]
     },
     "metadata": {},
     "output_type": "display_data"
    },
    {
     "data": {
      "application/vnd.jupyter.widget-view+json": {
       "model_id": "",
       "version_major": 2,
       "version_minor": 0
      },
      "text/plain": [
       "seed:   0%|          | 0/4 [00:00<?, ?it/s]"
      ]
     },
     "metadata": {},
     "output_type": "display_data"
    },
    {
     "data": {
      "application/vnd.jupyter.widget-view+json": {
       "model_id": "",
       "version_major": 2,
       "version_minor": 0
      },
      "text/plain": [
       "seed:   0%|          | 0/4 [00:00<?, ?it/s]"
      ]
     },
     "metadata": {},
     "output_type": "display_data"
    },
    {
     "data": {
      "application/vnd.jupyter.widget-view+json": {
       "model_id": "",
       "version_major": 2,
       "version_minor": 0
      },
      "text/plain": [
       "seed:   0%|          | 0/4 [00:00<?, ?it/s]"
      ]
     },
     "metadata": {},
     "output_type": "display_data"
    },
    {
     "data": {
      "application/vnd.jupyter.widget-view+json": {
       "model_id": "",
       "version_major": 2,
       "version_minor": 0
      },
      "text/plain": [
       "seed:   0%|          | 0/4 [00:00<?, ?it/s]"
      ]
     },
     "metadata": {},
     "output_type": "display_data"
    },
    {
     "data": {
      "application/vnd.jupyter.widget-view+json": {
       "model_id": "",
       "version_major": 2,
       "version_minor": 0
      },
      "text/plain": [
       "seed:   0%|          | 0/4 [00:00<?, ?it/s]"
      ]
     },
     "metadata": {},
     "output_type": "display_data"
    },
    {
     "data": {
      "application/vnd.jupyter.widget-view+json": {
       "model_id": "",
       "version_major": 2,
       "version_minor": 0
      },
      "text/plain": [
       "seed:   0%|          | 0/4 [00:00<?, ?it/s]"
      ]
     },
     "metadata": {},
     "output_type": "display_data"
    },
    {
     "data": {
      "application/vnd.jupyter.widget-view+json": {
       "model_id": "",
       "version_major": 2,
       "version_minor": 0
      },
      "text/plain": [
       "seed:   0%|          | 0/4 [00:00<?, ?it/s]"
      ]
     },
     "metadata": {},
     "output_type": "display_data"
    }
   ],
   "source": [
    "basename = 'inc_{:.1f}.seed_{}'\n",
    "seeds = range(4)\n",
    "inclinations = np.arange(4, 82, 2, dtype=float)\n",
    "\n",
    "data_fit = np.full((len(inclinations), len(seeds)), fill_value=np.nan)\n",
    "inc_prev = spin_pref = np.nan\n",
    "for i, inc in enumerate(tqdm(inclinations, desc='inc')):\n",
    "    for j, seed in enumerate(tqdm(seeds, desc='seed', leave=False)):\n",
    "        checkpoint_dir = recovery_path.joinpath(basename.format(inc, seed))\n",
    "        if os.path.exists(checkpoint_dir.joinpath('checkpoint_50000')):\n",
    "            if (inc_prev != inc) or (spin_prev != spin):\n",
    "                raytrace_args = image_plane_model(np.deg2rad(inc), spin)\n",
    "                inc_prev, spin_prev = inc, spin\n",
    "            data_fit[i,j],_ = image_plane_fit(raytrace_args, checkpoint_dir, t_train, data_train)\n",
    "            \n",
    "data_fit_df = pd.DataFrame(data_fit, index=inclinations, columns=['seed 0', 'seed 1', 'seed 2', 'seed 3'])\n",
    "data_fit_df.index.name = 'inc'\n",
    "data_fit_df.to_csv(recovery_path.joinpath('inclination_loss.csv'))"
   ]
  },
  {
   "cell_type": "code",
   "execution_count": 7,
   "id": "69e608fb-bd61-4581-accb-aea4fbb3e255",
   "metadata": {},
   "outputs": [
    {
     "data": {
      "application/vnd.jupyter.widget-view+json": {
       "model_id": "771c1191189a487fbf4ca7fc836e4ba7",
       "version_major": 2,
       "version_minor": 0
      },
      "text/plain": [
       "Canvas(toolbar=Toolbar(toolitems=[('Home', 'Reset original view', 'home', 'home'), ('Back', 'Back to previous …"
      ]
     },
     "metadata": {},
     "output_type": "display_data"
    }
   ],
   "source": [
    "inclinations = np.arange(4, 82, 2, dtype=float)\n",
    "inc_loss = pd.read_csv(recovery_path.joinpath('inclination_loss.csv'), index_col=0)\n",
    "plt.rcParams.update({\"text.usetex\": True, \"font.family\": \"Helvetica\"})\n",
    "\n",
    "%matplotlib widget\n",
    "plt.figure(figsize=(5,4.8))\n",
    "plt.errorbar(inclinations, np.nanmean(np.log10(inc_loss), axis=1), np.nanstd(np.log10(inc_loss), axis=1), \n",
    "             color='tab:orange', marker='^', mfc='r', mec='r', \n",
    "             label=r'$\\log \\chi^2(\\theta)$', markersize=5)\n",
    "plt.ylim([-1, 3])\n",
    "plt.legend(loc='best', fontsize=14)\n",
    "plt.axhline(0, color='gray', linestyle='--',linewidth=0.8)\n",
    "plt.xlabel(r'Inclination [deg]', fontsize=16)\n",
    "plt.title(r'Inclination data-fit: $\\log \\chi^2(\\theta | {\\bf w}^\\star)$', fontsize=16)\n",
    "plt.tight_layout()\n",
    "plt.savefig(outpath.joinpath('inclination_loss.pdf'))"
   ]
  },
  {
   "cell_type": "code",
   "execution_count": 16,
   "id": "68cacc5b-a9b3-43e4-b56f-f1b9b747cbeb",
   "metadata": {
    "tags": []
   },
   "outputs": [
    {
     "data": {
      "application/vnd.jupyter.widget-view+json": {
       "model_id": "a2c5ede916b643928a4021699ae3e04c",
       "version_major": 2,
       "version_minor": 0
      },
      "text/plain": [
       "inc:   0%|          | 0/39 [00:00<?, ?it/s]"
      ]
     },
     "metadata": {},
     "output_type": "display_data"
    },
    {
     "data": {
      "application/vnd.jupyter.widget-view+json": {
       "model_id": "",
       "version_major": 2,
       "version_minor": 0
      },
      "text/plain": [
       "seed:   0%|          | 0/4 [00:00<?, ?it/s]"
      ]
     },
     "metadata": {},
     "output_type": "display_data"
    },
    {
     "data": {
      "application/vnd.jupyter.widget-view+json": {
       "model_id": "",
       "version_major": 2,
       "version_minor": 0
      },
      "text/plain": [
       "  0%|          | 0/10 [00:00<?, ?it/s]"
      ]
     },
     "metadata": {},
     "output_type": "display_data"
    },
    {
     "data": {
      "application/vnd.jupyter.widget-view+json": {
       "model_id": "",
       "version_major": 2,
       "version_minor": 0
      },
      "text/plain": [
       "seed:   0%|          | 0/4 [00:00<?, ?it/s]"
      ]
     },
     "metadata": {},
     "output_type": "display_data"
    },
    {
     "data": {
      "application/vnd.jupyter.widget-view+json": {
       "model_id": "",
       "version_major": 2,
       "version_minor": 0
      },
      "text/plain": [
       "  0%|          | 0/10 [00:00<?, ?it/s]"
      ]
     },
     "metadata": {},
     "output_type": "display_data"
    },
    {
     "data": {
      "application/vnd.jupyter.widget-view+json": {
       "model_id": "",
       "version_major": 2,
       "version_minor": 0
      },
      "text/plain": [
       "seed:   0%|          | 0/4 [00:00<?, ?it/s]"
      ]
     },
     "metadata": {},
     "output_type": "display_data"
    },
    {
     "data": {
      "application/vnd.jupyter.widget-view+json": {
       "model_id": "",
       "version_major": 2,
       "version_minor": 0
      },
      "text/plain": [
       "  0%|          | 0/10 [00:00<?, ?it/s]"
      ]
     },
     "metadata": {},
     "output_type": "display_data"
    },
    {
     "data": {
      "application/vnd.jupyter.widget-view+json": {
       "model_id": "",
       "version_major": 2,
       "version_minor": 0
      },
      "text/plain": [
       "seed:   0%|          | 0/4 [00:00<?, ?it/s]"
      ]
     },
     "metadata": {},
     "output_type": "display_data"
    },
    {
     "data": {
      "application/vnd.jupyter.widget-view+json": {
       "model_id": "",
       "version_major": 2,
       "version_minor": 0
      },
      "text/plain": [
       "  0%|          | 0/10 [00:00<?, ?it/s]"
      ]
     },
     "metadata": {},
     "output_type": "display_data"
    },
    {
     "data": {
      "application/vnd.jupyter.widget-view+json": {
       "model_id": "",
       "version_major": 2,
       "version_minor": 0
      },
      "text/plain": [
       "seed:   0%|          | 0/4 [00:00<?, ?it/s]"
      ]
     },
     "metadata": {},
     "output_type": "display_data"
    },
    {
     "data": {
      "application/vnd.jupyter.widget-view+json": {
       "model_id": "",
       "version_major": 2,
       "version_minor": 0
      },
      "text/plain": [
       "  0%|          | 0/10 [00:00<?, ?it/s]"
      ]
     },
     "metadata": {},
     "output_type": "display_data"
    },
    {
     "data": {
      "application/vnd.jupyter.widget-view+json": {
       "model_id": "",
       "version_major": 2,
       "version_minor": 0
      },
      "text/plain": [
       "seed:   0%|          | 0/4 [00:00<?, ?it/s]"
      ]
     },
     "metadata": {},
     "output_type": "display_data"
    },
    {
     "data": {
      "application/vnd.jupyter.widget-view+json": {
       "model_id": "",
       "version_major": 2,
       "version_minor": 0
      },
      "text/plain": [
       "  0%|          | 0/10 [00:00<?, ?it/s]"
      ]
     },
     "metadata": {},
     "output_type": "display_data"
    },
    {
     "data": {
      "application/vnd.jupyter.widget-view+json": {
       "model_id": "",
       "version_major": 2,
       "version_minor": 0
      },
      "text/plain": [
       "seed:   0%|          | 0/4 [00:00<?, ?it/s]"
      ]
     },
     "metadata": {},
     "output_type": "display_data"
    },
    {
     "data": {
      "application/vnd.jupyter.widget-view+json": {
       "model_id": "",
       "version_major": 2,
       "version_minor": 0
      },
      "text/plain": [
       "  0%|          | 0/10 [00:00<?, ?it/s]"
      ]
     },
     "metadata": {},
     "output_type": "display_data"
    },
    {
     "data": {
      "application/vnd.jupyter.widget-view+json": {
       "model_id": "",
       "version_major": 2,
       "version_minor": 0
      },
      "text/plain": [
       "seed:   0%|          | 0/4 [00:00<?, ?it/s]"
      ]
     },
     "metadata": {},
     "output_type": "display_data"
    },
    {
     "data": {
      "application/vnd.jupyter.widget-view+json": {
       "model_id": "",
       "version_major": 2,
       "version_minor": 0
      },
      "text/plain": [
       "  0%|          | 0/10 [00:00<?, ?it/s]"
      ]
     },
     "metadata": {},
     "output_type": "display_data"
    },
    {
     "data": {
      "application/vnd.jupyter.widget-view+json": {
       "model_id": "",
       "version_major": 2,
       "version_minor": 0
      },
      "text/plain": [
       "seed:   0%|          | 0/4 [00:00<?, ?it/s]"
      ]
     },
     "metadata": {},
     "output_type": "display_data"
    },
    {
     "data": {
      "application/vnd.jupyter.widget-view+json": {
       "model_id": "",
       "version_major": 2,
       "version_minor": 0
      },
      "text/plain": [
       "  0%|          | 0/10 [00:00<?, ?it/s]"
      ]
     },
     "metadata": {},
     "output_type": "display_data"
    },
    {
     "data": {
      "application/vnd.jupyter.widget-view+json": {
       "model_id": "",
       "version_major": 2,
       "version_minor": 0
      },
      "text/plain": [
       "seed:   0%|          | 0/4 [00:00<?, ?it/s]"
      ]
     },
     "metadata": {},
     "output_type": "display_data"
    },
    {
     "data": {
      "application/vnd.jupyter.widget-view+json": {
       "model_id": "",
       "version_major": 2,
       "version_minor": 0
      },
      "text/plain": [
       "  0%|          | 0/10 [00:00<?, ?it/s]"
      ]
     },
     "metadata": {},
     "output_type": "display_data"
    },
    {
     "data": {
      "application/vnd.jupyter.widget-view+json": {
       "model_id": "",
       "version_major": 2,
       "version_minor": 0
      },
      "text/plain": [
       "seed:   0%|          | 0/4 [00:00<?, ?it/s]"
      ]
     },
     "metadata": {},
     "output_type": "display_data"
    },
    {
     "data": {
      "application/vnd.jupyter.widget-view+json": {
       "model_id": "",
       "version_major": 2,
       "version_minor": 0
      },
      "text/plain": [
       "  0%|          | 0/10 [00:00<?, ?it/s]"
      ]
     },
     "metadata": {},
     "output_type": "display_data"
    },
    {
     "data": {
      "application/vnd.jupyter.widget-view+json": {
       "model_id": "",
       "version_major": 2,
       "version_minor": 0
      },
      "text/plain": [
       "seed:   0%|          | 0/4 [00:00<?, ?it/s]"
      ]
     },
     "metadata": {},
     "output_type": "display_data"
    },
    {
     "data": {
      "application/vnd.jupyter.widget-view+json": {
       "model_id": "",
       "version_major": 2,
       "version_minor": 0
      },
      "text/plain": [
       "  0%|          | 0/10 [00:00<?, ?it/s]"
      ]
     },
     "metadata": {},
     "output_type": "display_data"
    },
    {
     "data": {
      "application/vnd.jupyter.widget-view+json": {
       "model_id": "",
       "version_major": 2,
       "version_minor": 0
      },
      "text/plain": [
       "seed:   0%|          | 0/4 [00:00<?, ?it/s]"
      ]
     },
     "metadata": {},
     "output_type": "display_data"
    },
    {
     "data": {
      "application/vnd.jupyter.widget-view+json": {
       "model_id": "",
       "version_major": 2,
       "version_minor": 0
      },
      "text/plain": [
       "  0%|          | 0/10 [00:00<?, ?it/s]"
      ]
     },
     "metadata": {},
     "output_type": "display_data"
    },
    {
     "data": {
      "application/vnd.jupyter.widget-view+json": {
       "model_id": "",
       "version_major": 2,
       "version_minor": 0
      },
      "text/plain": [
       "seed:   0%|          | 0/4 [00:00<?, ?it/s]"
      ]
     },
     "metadata": {},
     "output_type": "display_data"
    },
    {
     "data": {
      "application/vnd.jupyter.widget-view+json": {
       "model_id": "",
       "version_major": 2,
       "version_minor": 0
      },
      "text/plain": [
       "  0%|          | 0/10 [00:00<?, ?it/s]"
      ]
     },
     "metadata": {},
     "output_type": "display_data"
    },
    {
     "data": {
      "application/vnd.jupyter.widget-view+json": {
       "model_id": "",
       "version_major": 2,
       "version_minor": 0
      },
      "text/plain": [
       "seed:   0%|          | 0/4 [00:00<?, ?it/s]"
      ]
     },
     "metadata": {},
     "output_type": "display_data"
    },
    {
     "data": {
      "application/vnd.jupyter.widget-view+json": {
       "model_id": "",
       "version_major": 2,
       "version_minor": 0
      },
      "text/plain": [
       "  0%|          | 0/10 [00:00<?, ?it/s]"
      ]
     },
     "metadata": {},
     "output_type": "display_data"
    },
    {
     "data": {
      "application/vnd.jupyter.widget-view+json": {
       "model_id": "",
       "version_major": 2,
       "version_minor": 0
      },
      "text/plain": [
       "seed:   0%|          | 0/4 [00:00<?, ?it/s]"
      ]
     },
     "metadata": {},
     "output_type": "display_data"
    },
    {
     "data": {
      "application/vnd.jupyter.widget-view+json": {
       "model_id": "",
       "version_major": 2,
       "version_minor": 0
      },
      "text/plain": [
       "  0%|          | 0/10 [00:00<?, ?it/s]"
      ]
     },
     "metadata": {},
     "output_type": "display_data"
    },
    {
     "data": {
      "application/vnd.jupyter.widget-view+json": {
       "model_id": "",
       "version_major": 2,
       "version_minor": 0
      },
      "text/plain": [
       "seed:   0%|          | 0/4 [00:00<?, ?it/s]"
      ]
     },
     "metadata": {},
     "output_type": "display_data"
    },
    {
     "data": {
      "application/vnd.jupyter.widget-view+json": {
       "model_id": "",
       "version_major": 2,
       "version_minor": 0
      },
      "text/plain": [
       "  0%|          | 0/10 [00:00<?, ?it/s]"
      ]
     },
     "metadata": {},
     "output_type": "display_data"
    },
    {
     "data": {
      "application/vnd.jupyter.widget-view+json": {
       "model_id": "",
       "version_major": 2,
       "version_minor": 0
      },
      "text/plain": [
       "seed:   0%|          | 0/4 [00:00<?, ?it/s]"
      ]
     },
     "metadata": {},
     "output_type": "display_data"
    },
    {
     "data": {
      "application/vnd.jupyter.widget-view+json": {
       "model_id": "",
       "version_major": 2,
       "version_minor": 0
      },
      "text/plain": [
       "  0%|          | 0/10 [00:00<?, ?it/s]"
      ]
     },
     "metadata": {},
     "output_type": "display_data"
    },
    {
     "data": {
      "application/vnd.jupyter.widget-view+json": {
       "model_id": "",
       "version_major": 2,
       "version_minor": 0
      },
      "text/plain": [
       "seed:   0%|          | 0/4 [00:00<?, ?it/s]"
      ]
     },
     "metadata": {},
     "output_type": "display_data"
    },
    {
     "data": {
      "application/vnd.jupyter.widget-view+json": {
       "model_id": "",
       "version_major": 2,
       "version_minor": 0
      },
      "text/plain": [
       "  0%|          | 0/10 [00:00<?, ?it/s]"
      ]
     },
     "metadata": {},
     "output_type": "display_data"
    },
    {
     "data": {
      "application/vnd.jupyter.widget-view+json": {
       "model_id": "",
       "version_major": 2,
       "version_minor": 0
      },
      "text/plain": [
       "seed:   0%|          | 0/4 [00:00<?, ?it/s]"
      ]
     },
     "metadata": {},
     "output_type": "display_data"
    },
    {
     "data": {
      "application/vnd.jupyter.widget-view+json": {
       "model_id": "",
       "version_major": 2,
       "version_minor": 0
      },
      "text/plain": [
       "  0%|          | 0/10 [00:00<?, ?it/s]"
      ]
     },
     "metadata": {},
     "output_type": "display_data"
    },
    {
     "data": {
      "application/vnd.jupyter.widget-view+json": {
       "model_id": "",
       "version_major": 2,
       "version_minor": 0
      },
      "text/plain": [
       "seed:   0%|          | 0/4 [00:00<?, ?it/s]"
      ]
     },
     "metadata": {},
     "output_type": "display_data"
    },
    {
     "data": {
      "application/vnd.jupyter.widget-view+json": {
       "model_id": "",
       "version_major": 2,
       "version_minor": 0
      },
      "text/plain": [
       "  0%|          | 0/10 [00:00<?, ?it/s]"
      ]
     },
     "metadata": {},
     "output_type": "display_data"
    },
    {
     "data": {
      "application/vnd.jupyter.widget-view+json": {
       "model_id": "",
       "version_major": 2,
       "version_minor": 0
      },
      "text/plain": [
       "seed:   0%|          | 0/4 [00:00<?, ?it/s]"
      ]
     },
     "metadata": {},
     "output_type": "display_data"
    },
    {
     "data": {
      "application/vnd.jupyter.widget-view+json": {
       "model_id": "",
       "version_major": 2,
       "version_minor": 0
      },
      "text/plain": [
       "  0%|          | 0/10 [00:00<?, ?it/s]"
      ]
     },
     "metadata": {},
     "output_type": "display_data"
    },
    {
     "data": {
      "application/vnd.jupyter.widget-view+json": {
       "model_id": "",
       "version_major": 2,
       "version_minor": 0
      },
      "text/plain": [
       "seed:   0%|          | 0/4 [00:00<?, ?it/s]"
      ]
     },
     "metadata": {},
     "output_type": "display_data"
    },
    {
     "data": {
      "application/vnd.jupyter.widget-view+json": {
       "model_id": "",
       "version_major": 2,
       "version_minor": 0
      },
      "text/plain": [
       "  0%|          | 0/10 [00:00<?, ?it/s]"
      ]
     },
     "metadata": {},
     "output_type": "display_data"
    },
    {
     "data": {
      "application/vnd.jupyter.widget-view+json": {
       "model_id": "",
       "version_major": 2,
       "version_minor": 0
      },
      "text/plain": [
       "seed:   0%|          | 0/4 [00:00<?, ?it/s]"
      ]
     },
     "metadata": {},
     "output_type": "display_data"
    },
    {
     "data": {
      "application/vnd.jupyter.widget-view+json": {
       "model_id": "",
       "version_major": 2,
       "version_minor": 0
      },
      "text/plain": [
       "  0%|          | 0/10 [00:00<?, ?it/s]"
      ]
     },
     "metadata": {},
     "output_type": "display_data"
    },
    {
     "data": {
      "application/vnd.jupyter.widget-view+json": {
       "model_id": "",
       "version_major": 2,
       "version_minor": 0
      },
      "text/plain": [
       "seed:   0%|          | 0/4 [00:00<?, ?it/s]"
      ]
     },
     "metadata": {},
     "output_type": "display_data"
    },
    {
     "data": {
      "application/vnd.jupyter.widget-view+json": {
       "model_id": "",
       "version_major": 2,
       "version_minor": 0
      },
      "text/plain": [
       "  0%|          | 0/10 [00:00<?, ?it/s]"
      ]
     },
     "metadata": {},
     "output_type": "display_data"
    },
    {
     "data": {
      "application/vnd.jupyter.widget-view+json": {
       "model_id": "",
       "version_major": 2,
       "version_minor": 0
      },
      "text/plain": [
       "seed:   0%|          | 0/4 [00:00<?, ?it/s]"
      ]
     },
     "metadata": {},
     "output_type": "display_data"
    },
    {
     "data": {
      "application/vnd.jupyter.widget-view+json": {
       "model_id": "",
       "version_major": 2,
       "version_minor": 0
      },
      "text/plain": [
       "  0%|          | 0/10 [00:00<?, ?it/s]"
      ]
     },
     "metadata": {},
     "output_type": "display_data"
    },
    {
     "data": {
      "application/vnd.jupyter.widget-view+json": {
       "model_id": "",
       "version_major": 2,
       "version_minor": 0
      },
      "text/plain": [
       "seed:   0%|          | 0/4 [00:00<?, ?it/s]"
      ]
     },
     "metadata": {},
     "output_type": "display_data"
    },
    {
     "data": {
      "application/vnd.jupyter.widget-view+json": {
       "model_id": "",
       "version_major": 2,
       "version_minor": 0
      },
      "text/plain": [
       "  0%|          | 0/10 [00:00<?, ?it/s]"
      ]
     },
     "metadata": {},
     "output_type": "display_data"
    },
    {
     "data": {
      "application/vnd.jupyter.widget-view+json": {
       "model_id": "",
       "version_major": 2,
       "version_minor": 0
      },
      "text/plain": [
       "seed:   0%|          | 0/4 [00:00<?, ?it/s]"
      ]
     },
     "metadata": {},
     "output_type": "display_data"
    },
    {
     "data": {
      "application/vnd.jupyter.widget-view+json": {
       "model_id": "",
       "version_major": 2,
       "version_minor": 0
      },
      "text/plain": [
       "  0%|          | 0/10 [00:00<?, ?it/s]"
      ]
     },
     "metadata": {},
     "output_type": "display_data"
    },
    {
     "data": {
      "application/vnd.jupyter.widget-view+json": {
       "model_id": "",
       "version_major": 2,
       "version_minor": 0
      },
      "text/plain": [
       "seed:   0%|          | 0/4 [00:00<?, ?it/s]"
      ]
     },
     "metadata": {},
     "output_type": "display_data"
    },
    {
     "data": {
      "application/vnd.jupyter.widget-view+json": {
       "model_id": "",
       "version_major": 2,
       "version_minor": 0
      },
      "text/plain": [
       "  0%|          | 0/10 [00:00<?, ?it/s]"
      ]
     },
     "metadata": {},
     "output_type": "display_data"
    },
    {
     "data": {
      "application/vnd.jupyter.widget-view+json": {
       "model_id": "",
       "version_major": 2,
       "version_minor": 0
      },
      "text/plain": [
       "seed:   0%|          | 0/4 [00:00<?, ?it/s]"
      ]
     },
     "metadata": {},
     "output_type": "display_data"
    },
    {
     "data": {
      "application/vnd.jupyter.widget-view+json": {
       "model_id": "",
       "version_major": 2,
       "version_minor": 0
      },
      "text/plain": [
       "  0%|          | 0/10 [00:00<?, ?it/s]"
      ]
     },
     "metadata": {},
     "output_type": "display_data"
    },
    {
     "data": {
      "application/vnd.jupyter.widget-view+json": {
       "model_id": "",
       "version_major": 2,
       "version_minor": 0
      },
      "text/plain": [
       "seed:   0%|          | 0/4 [00:00<?, ?it/s]"
      ]
     },
     "metadata": {},
     "output_type": "display_data"
    },
    {
     "data": {
      "application/vnd.jupyter.widget-view+json": {
       "model_id": "",
       "version_major": 2,
       "version_minor": 0
      },
      "text/plain": [
       "  0%|          | 0/10 [00:00<?, ?it/s]"
      ]
     },
     "metadata": {},
     "output_type": "display_data"
    },
    {
     "data": {
      "application/vnd.jupyter.widget-view+json": {
       "model_id": "",
       "version_major": 2,
       "version_minor": 0
      },
      "text/plain": [
       "seed:   0%|          | 0/4 [00:00<?, ?it/s]"
      ]
     },
     "metadata": {},
     "output_type": "display_data"
    },
    {
     "data": {
      "application/vnd.jupyter.widget-view+json": {
       "model_id": "",
       "version_major": 2,
       "version_minor": 0
      },
      "text/plain": [
       "  0%|          | 0/10 [00:00<?, ?it/s]"
      ]
     },
     "metadata": {},
     "output_type": "display_data"
    },
    {
     "data": {
      "application/vnd.jupyter.widget-view+json": {
       "model_id": "",
       "version_major": 2,
       "version_minor": 0
      },
      "text/plain": [
       "seed:   0%|          | 0/4 [00:00<?, ?it/s]"
      ]
     },
     "metadata": {},
     "output_type": "display_data"
    },
    {
     "data": {
      "application/vnd.jupyter.widget-view+json": {
       "model_id": "",
       "version_major": 2,
       "version_minor": 0
      },
      "text/plain": [
       "  0%|          | 0/10 [00:00<?, ?it/s]"
      ]
     },
     "metadata": {},
     "output_type": "display_data"
    },
    {
     "data": {
      "application/vnd.jupyter.widget-view+json": {
       "model_id": "",
       "version_major": 2,
       "version_minor": 0
      },
      "text/plain": [
       "seed:   0%|          | 0/4 [00:00<?, ?it/s]"
      ]
     },
     "metadata": {},
     "output_type": "display_data"
    },
    {
     "data": {
      "application/vnd.jupyter.widget-view+json": {
       "model_id": "",
       "version_major": 2,
       "version_minor": 0
      },
      "text/plain": [
       "  0%|          | 0/10 [00:00<?, ?it/s]"
      ]
     },
     "metadata": {},
     "output_type": "display_data"
    },
    {
     "data": {
      "application/vnd.jupyter.widget-view+json": {
       "model_id": "",
       "version_major": 2,
       "version_minor": 0
      },
      "text/plain": [
       "seed:   0%|          | 0/4 [00:00<?, ?it/s]"
      ]
     },
     "metadata": {},
     "output_type": "display_data"
    },
    {
     "data": {
      "application/vnd.jupyter.widget-view+json": {
       "model_id": "",
       "version_major": 2,
       "version_minor": 0
      },
      "text/plain": [
       "  0%|          | 0/10 [00:00<?, ?it/s]"
      ]
     },
     "metadata": {},
     "output_type": "display_data"
    },
    {
     "data": {
      "application/vnd.jupyter.widget-view+json": {
       "model_id": "",
       "version_major": 2,
       "version_minor": 0
      },
      "text/plain": [
       "seed:   0%|          | 0/4 [00:00<?, ?it/s]"
      ]
     },
     "metadata": {},
     "output_type": "display_data"
    },
    {
     "data": {
      "application/vnd.jupyter.widget-view+json": {
       "model_id": "",
       "version_major": 2,
       "version_minor": 0
      },
      "text/plain": [
       "  0%|          | 0/10 [00:00<?, ?it/s]"
      ]
     },
     "metadata": {},
     "output_type": "display_data"
    },
    {
     "data": {
      "application/vnd.jupyter.widget-view+json": {
       "model_id": "",
       "version_major": 2,
       "version_minor": 0
      },
      "text/plain": [
       "seed:   0%|          | 0/4 [00:00<?, ?it/s]"
      ]
     },
     "metadata": {},
     "output_type": "display_data"
    },
    {
     "data": {
      "application/vnd.jupyter.widget-view+json": {
       "model_id": "",
       "version_major": 2,
       "version_minor": 0
      },
      "text/plain": [
       "  0%|          | 0/10 [00:00<?, ?it/s]"
      ]
     },
     "metadata": {},
     "output_type": "display_data"
    },
    {
     "data": {
      "application/vnd.jupyter.widget-view+json": {
       "model_id": "",
       "version_major": 2,
       "version_minor": 0
      },
      "text/plain": [
       "seed:   0%|          | 0/4 [00:00<?, ?it/s]"
      ]
     },
     "metadata": {},
     "output_type": "display_data"
    },
    {
     "data": {
      "application/vnd.jupyter.widget-view+json": {
       "model_id": "",
       "version_major": 2,
       "version_minor": 0
      },
      "text/plain": [
       "  0%|          | 0/10 [00:00<?, ?it/s]"
      ]
     },
     "metadata": {},
     "output_type": "display_data"
    },
    {
     "data": {
      "application/vnd.jupyter.widget-view+json": {
       "model_id": "",
       "version_major": 2,
       "version_minor": 0
      },
      "text/plain": [
       "seed:   0%|          | 0/4 [00:00<?, ?it/s]"
      ]
     },
     "metadata": {},
     "output_type": "display_data"
    },
    {
     "data": {
      "application/vnd.jupyter.widget-view+json": {
       "model_id": "",
       "version_major": 2,
       "version_minor": 0
      },
      "text/plain": [
       "  0%|          | 0/10 [00:00<?, ?it/s]"
      ]
     },
     "metadata": {},
     "output_type": "display_data"
    }
   ],
   "source": [
    "basename = 'inc_{:.1f}.seed_{}'\n",
    "seeds = range(4)\n",
    "inclinations = np.arange(4, 82, 2, dtype=float)\n",
    "num_subrays = 10\n",
    "\n",
    "data_fit = np.full((len(inclinations), len(seeds)), fill_value=np.nan)\n",
    "validation_fit = np.full((len(inclinations), len(seeds)), fill_value=np.nan)\n",
    "inc_prev = spin_pref = np.nan\n",
    "for i, inc in enumerate(tqdm(inclinations, desc='inc')):\n",
    "    for j, seed in enumerate(tqdm(seeds, desc='seed', leave=False)):\n",
    "        checkpoint_dir = recovery_path.joinpath(basename.format(inc, seed))\n",
    "        if os.path.exists(checkpoint_dir.joinpath('checkpoint_50000')):\n",
    "            if (inc_prev != inc) or (spin_prev != spin):\n",
    "                raytrace_args = image_plane_model_perturb_rays(np.deg2rad(inc), spin)\n",
    "                inc_prev, spin_prev = inc, spin\n",
    "            data_fit[i,j],_ = image_plane_fit(raytrace_args, checkpoint_dir, t_train, data_train)\n",
    "            validation_fit[i,j],_ = image_plane_fit(raytrace_args, checkpoint_dir, t_val, data_val)\n",
    "            \n",
    "data_fit_df = pd.DataFrame(data_fit, index=inclinations, columns=['seed 0', 'seed 1', 'seed 2', 'seed 3'])\n",
    "data_fit_df.index.name = 'inc'\n",
    "data_fit_df.to_csv(recovery_path.joinpath('inclination_loss_subrays_{}_0.csv'.format(num_subrays)))"
   ]
  },
  {
   "cell_type": "markdown",
   "id": "bc86e725-053d-4d18-b638-e3c4bdd22505",
   "metadata": {
    "jp-MarkdownHeadingCollapsed": true,
    "tags": []
   },
   "source": [
    "# Spin data-fit\n",
    "---\n",
    "Data-fit as a function of spin"
   ]
  },
  {
   "cell_type": "code",
   "execution_count": 32,
   "id": "f92d2d15-af5f-420f-9e7e-926a9c2d71fd",
   "metadata": {},
   "outputs": [
    {
     "data": {
      "application/vnd.jupyter.widget-view+json": {
       "model_id": "6e845320d62b4ca782e8d434d93daf78",
       "version_major": 2,
       "version_minor": 0
      },
      "text/plain": [
       "spin:   0%|          | 0/10 [00:00<?, ?it/s]"
      ]
     },
     "metadata": {},
     "output_type": "display_data"
    },
    {
     "data": {
      "application/vnd.jupyter.widget-view+json": {
       "model_id": "",
       "version_major": 2,
       "version_minor": 0
      },
      "text/plain": [
       "seed:   0%|          | 0/4 [00:00<?, ?it/s]"
      ]
     },
     "metadata": {},
     "output_type": "display_data"
    },
    {
     "data": {
      "application/vnd.jupyter.widget-view+json": {
       "model_id": "",
       "version_major": 2,
       "version_minor": 0
      },
      "text/plain": [
       "  0%|          | 0/10 [00:00<?, ?it/s]"
      ]
     },
     "metadata": {},
     "output_type": "display_data"
    },
    {
     "data": {
      "application/vnd.jupyter.widget-view+json": {
       "model_id": "",
       "version_major": 2,
       "version_minor": 0
      },
      "text/plain": [
       "seed:   0%|          | 0/4 [00:00<?, ?it/s]"
      ]
     },
     "metadata": {},
     "output_type": "display_data"
    },
    {
     "data": {
      "application/vnd.jupyter.widget-view+json": {
       "model_id": "",
       "version_major": 2,
       "version_minor": 0
      },
      "text/plain": [
       "  0%|          | 0/10 [00:00<?, ?it/s]"
      ]
     },
     "metadata": {},
     "output_type": "display_data"
    },
    {
     "data": {
      "application/vnd.jupyter.widget-view+json": {
       "model_id": "",
       "version_major": 2,
       "version_minor": 0
      },
      "text/plain": [
       "seed:   0%|          | 0/4 [00:00<?, ?it/s]"
      ]
     },
     "metadata": {},
     "output_type": "display_data"
    },
    {
     "data": {
      "application/vnd.jupyter.widget-view+json": {
       "model_id": "",
       "version_major": 2,
       "version_minor": 0
      },
      "text/plain": [
       "  0%|          | 0/10 [00:00<?, ?it/s]"
      ]
     },
     "metadata": {},
     "output_type": "display_data"
    },
    {
     "data": {
      "application/vnd.jupyter.widget-view+json": {
       "model_id": "",
       "version_major": 2,
       "version_minor": 0
      },
      "text/plain": [
       "seed:   0%|          | 0/4 [00:00<?, ?it/s]"
      ]
     },
     "metadata": {},
     "output_type": "display_data"
    },
    {
     "data": {
      "application/vnd.jupyter.widget-view+json": {
       "model_id": "",
       "version_major": 2,
       "version_minor": 0
      },
      "text/plain": [
       "  0%|          | 0/10 [00:00<?, ?it/s]"
      ]
     },
     "metadata": {},
     "output_type": "display_data"
    },
    {
     "data": {
      "application/vnd.jupyter.widget-view+json": {
       "model_id": "",
       "version_major": 2,
       "version_minor": 0
      },
      "text/plain": [
       "seed:   0%|          | 0/4 [00:00<?, ?it/s]"
      ]
     },
     "metadata": {},
     "output_type": "display_data"
    },
    {
     "data": {
      "application/vnd.jupyter.widget-view+json": {
       "model_id": "",
       "version_major": 2,
       "version_minor": 0
      },
      "text/plain": [
       "  0%|          | 0/10 [00:00<?, ?it/s]"
      ]
     },
     "metadata": {},
     "output_type": "display_data"
    },
    {
     "data": {
      "application/vnd.jupyter.widget-view+json": {
       "model_id": "",
       "version_major": 2,
       "version_minor": 0
      },
      "text/plain": [
       "seed:   0%|          | 0/4 [00:00<?, ?it/s]"
      ]
     },
     "metadata": {},
     "output_type": "display_data"
    },
    {
     "data": {
      "application/vnd.jupyter.widget-view+json": {
       "model_id": "",
       "version_major": 2,
       "version_minor": 0
      },
      "text/plain": [
       "  0%|          | 0/10 [00:00<?, ?it/s]"
      ]
     },
     "metadata": {},
     "output_type": "display_data"
    },
    {
     "data": {
      "application/vnd.jupyter.widget-view+json": {
       "model_id": "",
       "version_major": 2,
       "version_minor": 0
      },
      "text/plain": [
       "seed:   0%|          | 0/4 [00:00<?, ?it/s]"
      ]
     },
     "metadata": {},
     "output_type": "display_data"
    },
    {
     "data": {
      "application/vnd.jupyter.widget-view+json": {
       "model_id": "",
       "version_major": 2,
       "version_minor": 0
      },
      "text/plain": [
       "  0%|          | 0/10 [00:00<?, ?it/s]"
      ]
     },
     "metadata": {},
     "output_type": "display_data"
    },
    {
     "data": {
      "application/vnd.jupyter.widget-view+json": {
       "model_id": "",
       "version_major": 2,
       "version_minor": 0
      },
      "text/plain": [
       "seed:   0%|          | 0/4 [00:00<?, ?it/s]"
      ]
     },
     "metadata": {},
     "output_type": "display_data"
    },
    {
     "data": {
      "application/vnd.jupyter.widget-view+json": {
       "model_id": "",
       "version_major": 2,
       "version_minor": 0
      },
      "text/plain": [
       "  0%|          | 0/10 [00:00<?, ?it/s]"
      ]
     },
     "metadata": {},
     "output_type": "display_data"
    },
    {
     "data": {
      "application/vnd.jupyter.widget-view+json": {
       "model_id": "",
       "version_major": 2,
       "version_minor": 0
      },
      "text/plain": [
       "seed:   0%|          | 0/4 [00:00<?, ?it/s]"
      ]
     },
     "metadata": {},
     "output_type": "display_data"
    },
    {
     "data": {
      "application/vnd.jupyter.widget-view+json": {
       "model_id": "",
       "version_major": 2,
       "version_minor": 0
      },
      "text/plain": [
       "  0%|          | 0/10 [00:00<?, ?it/s]"
      ]
     },
     "metadata": {},
     "output_type": "display_data"
    },
    {
     "data": {
      "application/vnd.jupyter.widget-view+json": {
       "model_id": "",
       "version_major": 2,
       "version_minor": 0
      },
      "text/plain": [
       "seed:   0%|          | 0/4 [00:00<?, ?it/s]"
      ]
     },
     "metadata": {},
     "output_type": "display_data"
    },
    {
     "data": {
      "application/vnd.jupyter.widget-view+json": {
       "model_id": "",
       "version_major": 2,
       "version_minor": 0
      },
      "text/plain": [
       "  0%|          | 0/10 [00:00<?, ?it/s]"
      ]
     },
     "metadata": {},
     "output_type": "display_data"
    }
   ],
   "source": [
    "basename = 'spin_{:.1f}.seed_{}'\n",
    "seeds = range(4)\n",
    "spin_grid = np.linspace(1e-3, 0.99, 10)\n",
    "num_subrays = 10 \n",
    "\n",
    "data_fit = np.full((len(spin_grid), len(seeds)), fill_value=np.nan)\n",
    "inc_prev = spin_pref = np.nan\n",
    "for i, spin in enumerate(tqdm(spin_grid, desc='spin')):\n",
    "    if rmin == 'ISCO': rmin = float(bhnerf.constants.isco_pro(spin))\n",
    "    for j, seed in enumerate(tqdm(seeds, desc='seed', leave=False)):\n",
    "        checkpoint_dir = recovery_path.joinpath(basename.format(spin, seed))\n",
    "        if os.path.exists(checkpoint_dir.joinpath('checkpoint_50000')):\n",
    "            if (inc_prev != inclination) or (spin_prev != spin):\n",
    "                raytrace_args = image_plane_model_perturb_rays(np.deg2rad(inclination), spin)\n",
    "                inc_prev, spin_prev = inclination, spin\n",
    "            data_fit[i,j],_ = image_plane_fit(raytrace_args, checkpoint_dir, t_train, data_train)\n",
    "         \n",
    "data_fit_df = pd.DataFrame(data_fit, index=spin_grid, columns=['seed 0', 'seed 1', 'seed 2', 'seed 3'])\n",
    "data_fit_df.index.name = 'spin'\n",
    "data_fit_df.to_csv(recovery_path.joinpath('spin_loss_subrays_{}_1.csv'.format(num_subrays)))"
   ]
  },
  {
   "cell_type": "code",
   "execution_count": 45,
   "id": "d6b47a29-d565-4a56-8697-20b47d64534a",
   "metadata": {},
   "outputs": [
    {
     "data": {
      "application/vnd.jupyter.widget-view+json": {
       "model_id": "3accb3c7d5504e66ac8eb5c3cd084c03",
       "version_major": 2,
       "version_minor": 0
      },
      "text/plain": [
       "spin:   0%|          | 0/10 [00:00<?, ?it/s]"
      ]
     },
     "metadata": {},
     "output_type": "display_data"
    },
    {
     "data": {
      "application/vnd.jupyter.widget-view+json": {
       "model_id": "",
       "version_major": 2,
       "version_minor": 0
      },
      "text/plain": [
       "seed:   0%|          | 0/4 [00:00<?, ?it/s]"
      ]
     },
     "metadata": {},
     "output_type": "display_data"
    },
    {
     "data": {
      "application/vnd.jupyter.widget-view+json": {
       "model_id": "",
       "version_major": 2,
       "version_minor": 0
      },
      "text/plain": [
       "  0%|          | 0/10 [00:00<?, ?it/s]"
      ]
     },
     "metadata": {},
     "output_type": "display_data"
    },
    {
     "data": {
      "application/vnd.jupyter.widget-view+json": {
       "model_id": "",
       "version_major": 2,
       "version_minor": 0
      },
      "text/plain": [
       "seed:   0%|          | 0/4 [00:00<?, ?it/s]"
      ]
     },
     "metadata": {},
     "output_type": "display_data"
    },
    {
     "data": {
      "application/vnd.jupyter.widget-view+json": {
       "model_id": "",
       "version_major": 2,
       "version_minor": 0
      },
      "text/plain": [
       "  0%|          | 0/10 [00:00<?, ?it/s]"
      ]
     },
     "metadata": {},
     "output_type": "display_data"
    },
    {
     "data": {
      "application/vnd.jupyter.widget-view+json": {
       "model_id": "",
       "version_major": 2,
       "version_minor": 0
      },
      "text/plain": [
       "seed:   0%|          | 0/4 [00:00<?, ?it/s]"
      ]
     },
     "metadata": {},
     "output_type": "display_data"
    },
    {
     "data": {
      "application/vnd.jupyter.widget-view+json": {
       "model_id": "",
       "version_major": 2,
       "version_minor": 0
      },
      "text/plain": [
       "  0%|          | 0/10 [00:00<?, ?it/s]"
      ]
     },
     "metadata": {},
     "output_type": "display_data"
    },
    {
     "data": {
      "application/vnd.jupyter.widget-view+json": {
       "model_id": "",
       "version_major": 2,
       "version_minor": 0
      },
      "text/plain": [
       "seed:   0%|          | 0/4 [00:00<?, ?it/s]"
      ]
     },
     "metadata": {},
     "output_type": "display_data"
    },
    {
     "data": {
      "application/vnd.jupyter.widget-view+json": {
       "model_id": "",
       "version_major": 2,
       "version_minor": 0
      },
      "text/plain": [
       "  0%|          | 0/10 [00:00<?, ?it/s]"
      ]
     },
     "metadata": {},
     "output_type": "display_data"
    },
    {
     "data": {
      "application/vnd.jupyter.widget-view+json": {
       "model_id": "",
       "version_major": 2,
       "version_minor": 0
      },
      "text/plain": [
       "seed:   0%|          | 0/4 [00:00<?, ?it/s]"
      ]
     },
     "metadata": {},
     "output_type": "display_data"
    },
    {
     "data": {
      "application/vnd.jupyter.widget-view+json": {
       "model_id": "",
       "version_major": 2,
       "version_minor": 0
      },
      "text/plain": [
       "  0%|          | 0/10 [00:00<?, ?it/s]"
      ]
     },
     "metadata": {},
     "output_type": "display_data"
    },
    {
     "data": {
      "application/vnd.jupyter.widget-view+json": {
       "model_id": "",
       "version_major": 2,
       "version_minor": 0
      },
      "text/plain": [
       "seed:   0%|          | 0/4 [00:00<?, ?it/s]"
      ]
     },
     "metadata": {},
     "output_type": "display_data"
    },
    {
     "data": {
      "application/vnd.jupyter.widget-view+json": {
       "model_id": "",
       "version_major": 2,
       "version_minor": 0
      },
      "text/plain": [
       "  0%|          | 0/10 [00:00<?, ?it/s]"
      ]
     },
     "metadata": {},
     "output_type": "display_data"
    },
    {
     "data": {
      "application/vnd.jupyter.widget-view+json": {
       "model_id": "",
       "version_major": 2,
       "version_minor": 0
      },
      "text/plain": [
       "seed:   0%|          | 0/4 [00:00<?, ?it/s]"
      ]
     },
     "metadata": {},
     "output_type": "display_data"
    },
    {
     "data": {
      "application/vnd.jupyter.widget-view+json": {
       "model_id": "",
       "version_major": 2,
       "version_minor": 0
      },
      "text/plain": [
       "  0%|          | 0/10 [00:00<?, ?it/s]"
      ]
     },
     "metadata": {},
     "output_type": "display_data"
    },
    {
     "data": {
      "application/vnd.jupyter.widget-view+json": {
       "model_id": "",
       "version_major": 2,
       "version_minor": 0
      },
      "text/plain": [
       "seed:   0%|          | 0/4 [00:00<?, ?it/s]"
      ]
     },
     "metadata": {},
     "output_type": "display_data"
    },
    {
     "data": {
      "application/vnd.jupyter.widget-view+json": {
       "model_id": "",
       "version_major": 2,
       "version_minor": 0
      },
      "text/plain": [
       "  0%|          | 0/10 [00:00<?, ?it/s]"
      ]
     },
     "metadata": {},
     "output_type": "display_data"
    },
    {
     "data": {
      "application/vnd.jupyter.widget-view+json": {
       "model_id": "",
       "version_major": 2,
       "version_minor": 0
      },
      "text/plain": [
       "seed:   0%|          | 0/4 [00:00<?, ?it/s]"
      ]
     },
     "metadata": {},
     "output_type": "display_data"
    },
    {
     "data": {
      "application/vnd.jupyter.widget-view+json": {
       "model_id": "",
       "version_major": 2,
       "version_minor": 0
      },
      "text/plain": [
       "  0%|          | 0/10 [00:00<?, ?it/s]"
      ]
     },
     "metadata": {},
     "output_type": "display_data"
    },
    {
     "data": {
      "application/vnd.jupyter.widget-view+json": {
       "model_id": "",
       "version_major": 2,
       "version_minor": 0
      },
      "text/plain": [
       "seed:   0%|          | 0/4 [00:00<?, ?it/s]"
      ]
     },
     "metadata": {},
     "output_type": "display_data"
    },
    {
     "data": {
      "application/vnd.jupyter.widget-view+json": {
       "model_id": "",
       "version_major": 2,
       "version_minor": 0
      },
      "text/plain": [
       "  0%|          | 0/10 [00:00<?, ?it/s]"
      ]
     },
     "metadata": {},
     "output_type": "display_data"
    }
   ],
   "source": [
    "basename = 'spin_{:.1f}.seed_{}'\n",
    "seeds = range(4)\n",
    "spin_grid = np.linspace(1e-3, 0.99, 10)\n",
    "num_subrays = 10 \n",
    "\n",
    "data_fit = np.full((len(spin_grid), len(seeds)), fill_value=np.nan)\n",
    "inc_prev = spin_pref = np.nan\n",
    "for i, spin in enumerate(tqdm(spin_grid, desc='spin')):\n",
    "    if rmin == 'ISCO': rmin = float(bhnerf.constants.isco_pro(spin))\n",
    "    for j, seed in enumerate(tqdm(seeds, desc='seed', leave=False)):\n",
    "        checkpoint_dir = recovery_path.joinpath(basename.format(spin, seed))\n",
    "        if os.path.exists(checkpoint_dir.joinpath('checkpoint_50000')):\n",
    "            if (inc_prev != inclination) or (spin_prev != spin):\n",
    "                raytrace_args = image_plane_model_perturb_rays(np.deg2rad(inclination), spin)\n",
    "                inc_prev, spin_prev = inclination, spin\n",
    "            data_fit[i,j],_ = image_plane_fit(raytrace_args, checkpoint_dir, t_train, data_train)\n",
    "         \n",
    "data_fit_df = pd.DataFrame(data_fit, index=spin_grid, columns=['seed 0', 'seed 1', 'seed 2', 'seed 3'])\n",
    "data_fit_df.index.name = 'spin'\n",
    "data_fit_df.to_csv(recovery_path.joinpath('spin_loss_subrays_{}_3.csv'.format(num_subrays)))"
   ]
  },
  {
   "cell_type": "code",
   "execution_count": 47,
   "id": "91b131d3-0953-4c95-a4de-dc0dd68633d4",
   "metadata": {
    "tags": []
   },
   "outputs": [
    {
     "data": {
      "application/vnd.jupyter.widget-view+json": {
       "model_id": "e8f9daf67e4e4913b1184a5325d690d4",
       "version_major": 2,
       "version_minor": 0
      },
      "text/plain": [
       "Canvas(toolbar=Toolbar(toolitems=[('Home', 'Reset original view', 'home', 'home'), ('Back', 'Back to previous …"
      ]
     },
     "metadata": {},
     "output_type": "display_data"
    },
    {
     "data": {
      "text/plain": [
       "Text(0.5, 1.0, 'Spin data-fit: $\\\\log \\\\chi^2(a | {\\\\bf w}^\\\\star)$')"
      ]
     },
     "execution_count": 47,
     "metadata": {},
     "output_type": "execute_result"
    }
   ],
   "source": [
    "spin_loss = pd.read_csv(recovery_path.joinpath('spin_loss_subrays_10.csv'), index_col=0)\n",
    "\n",
    "plt.rcParams.update({\"text.usetex\": True, \"font.family\": \"Helvetica\"})\n",
    "\n",
    "%matplotlib widget\n",
    "plt.figure(figsize=(5,4))\n",
    "plt.errorbar(spin_grid, np.nanmean(np.log10(spin_loss), axis=1), np.nanstd(np.log10(spin_loss), axis=1), color='tab:orange', marker='^', mfc='r', mec='r', label='data-fit', markersize=5)\n",
    "plt.xticks(fontsize='14')\n",
    "plt.yticks(fontsize='14')\n",
    "plt.axhline(0, color='black', linestyle='--',linewidth=0.75)\n",
    "plt.title(r'Spin data-fit: $\\log \\chi^2(a | {\\bf w}^\\star)$', fontsize=16)\n",
    "# plt.legend(loc='best', fontsize=14)\n",
    "# plt.savefig(outpath.joinpath('spin_loss_subrays_10.pdf'))"
   ]
  },
  {
   "cell_type": "code",
   "execution_count": 14,
   "id": "4995574d-1275-439f-95c1-789313ecd95f",
   "metadata": {},
   "outputs": [
    {
     "data": {
      "application/vnd.jupyter.widget-view+json": {
       "model_id": "49f4909ef7cf4326ae0761064dc6aa9d",
       "version_major": 2,
       "version_minor": 0
      },
      "text/plain": [
       "spin:   0%|          | 0/10 [00:00<?, ?it/s]"
      ]
     },
     "metadata": {},
     "output_type": "display_data"
    },
    {
     "data": {
      "application/vnd.jupyter.widget-view+json": {
       "model_id": "",
       "version_major": 2,
       "version_minor": 0
      },
      "text/plain": [
       "seed:   0%|          | 0/4 [00:00<?, ?it/s]"
      ]
     },
     "metadata": {},
     "output_type": "display_data"
    },
    {
     "data": {
      "application/vnd.jupyter.widget-view+json": {
       "model_id": "",
       "version_major": 2,
       "version_minor": 0
      },
      "text/plain": [
       "seed:   0%|          | 0/4 [00:00<?, ?it/s]"
      ]
     },
     "metadata": {},
     "output_type": "display_data"
    },
    {
     "data": {
      "application/vnd.jupyter.widget-view+json": {
       "model_id": "",
       "version_major": 2,
       "version_minor": 0
      },
      "text/plain": [
       "seed:   0%|          | 0/4 [00:00<?, ?it/s]"
      ]
     },
     "metadata": {},
     "output_type": "display_data"
    },
    {
     "data": {
      "application/vnd.jupyter.widget-view+json": {
       "model_id": "",
       "version_major": 2,
       "version_minor": 0
      },
      "text/plain": [
       "seed:   0%|          | 0/4 [00:00<?, ?it/s]"
      ]
     },
     "metadata": {},
     "output_type": "display_data"
    },
    {
     "data": {
      "application/vnd.jupyter.widget-view+json": {
       "model_id": "",
       "version_major": 2,
       "version_minor": 0
      },
      "text/plain": [
       "seed:   0%|          | 0/4 [00:00<?, ?it/s]"
      ]
     },
     "metadata": {},
     "output_type": "display_data"
    },
    {
     "data": {
      "application/vnd.jupyter.widget-view+json": {
       "model_id": "",
       "version_major": 2,
       "version_minor": 0
      },
      "text/plain": [
       "seed:   0%|          | 0/4 [00:00<?, ?it/s]"
      ]
     },
     "metadata": {},
     "output_type": "display_data"
    },
    {
     "data": {
      "application/vnd.jupyter.widget-view+json": {
       "model_id": "",
       "version_major": 2,
       "version_minor": 0
      },
      "text/plain": [
       "seed:   0%|          | 0/4 [00:00<?, ?it/s]"
      ]
     },
     "metadata": {},
     "output_type": "display_data"
    },
    {
     "data": {
      "application/vnd.jupyter.widget-view+json": {
       "model_id": "",
       "version_major": 2,
       "version_minor": 0
      },
      "text/plain": [
       "seed:   0%|          | 0/4 [00:00<?, ?it/s]"
      ]
     },
     "metadata": {},
     "output_type": "display_data"
    },
    {
     "data": {
      "application/vnd.jupyter.widget-view+json": {
       "model_id": "",
       "version_major": 2,
       "version_minor": 0
      },
      "text/plain": [
       "seed:   0%|          | 0/4 [00:00<?, ?it/s]"
      ]
     },
     "metadata": {},
     "output_type": "display_data"
    },
    {
     "data": {
      "application/vnd.jupyter.widget-view+json": {
       "model_id": "",
       "version_major": 2,
       "version_minor": 0
      },
      "text/plain": [
       "seed:   0%|          | 0/4 [00:00<?, ?it/s]"
      ]
     },
     "metadata": {},
     "output_type": "display_data"
    }
   ],
   "source": [
    "basename = 'spin_{:.1f}.seed_{}'\n",
    "seeds = range(4)\n",
    "spin_grid = np.linspace(1e-3, 0.99, 10)\n",
    "\n",
    "data_fit = np.full((len(spin_grid), len(seeds)), fill_value=np.nan)\n",
    "for i, spin in enumerate(tqdm(spin_grid, desc='spin')):\n",
    "    if rmin == 'ISCO': rmin = float(bhnerf.constants.isco_pro(spin))\n",
    "    raytrace_args = image_plane_model(np.deg2rad(inclination), spin)\n",
    "    for j, seed in enumerate(tqdm(seeds, desc='seed', leave=False)):\n",
    "        checkpoint_dir = recovery_path.joinpath(basename.format(spin, seed))\n",
    "        if os.path.exists(checkpoint_dir.joinpath('checkpoint_50000')):\n",
    "            data_fit[i,j],_ = image_plane_fit(raytrace_args, checkpoint_dir, t_train, data_train)\n",
    "        \n",
    "data_fit_df = pd.DataFrame(data_fit, index=spin_grid, columns=['seed 0', 'seed 1', 'seed 2', 'seed 3'])\n",
    "data_fit_df.index.name = 'spin'\n",
    "data_fit_df.to_csv(recovery_path.joinpath('spin_loss.csv'))"
   ]
  },
  {
   "cell_type": "code",
   "execution_count": 16,
   "id": "babb2061-455d-4c15-8d11-37b5a8a4217c",
   "metadata": {},
   "outputs": [
    {
     "data": {
      "application/vnd.jupyter.widget-view+json": {
       "model_id": "a2557f0954164a119c631ad4cbc4f6bf",
       "version_major": 2,
       "version_minor": 0
      },
      "text/plain": [
       "Canvas(toolbar=Toolbar(toolitems=[('Home', 'Reset original view', 'home', 'home'), ('Back', 'Back to previous …"
      ]
     },
     "metadata": {},
     "output_type": "display_data"
    }
   ],
   "source": [
    "spin_loss = pd.read_csv(recovery_path.joinpath('spin_loss.csv'), index_col=0)\n",
    "\n",
    "plt.rcParams.update({\"text.usetex\": True, \"font.family\": \"Helvetica\"})\n",
    "\n",
    "%matplotlib widget\n",
    "plt.figure(figsize=(5,4))\n",
    "plt.errorbar(spin_grid, np.nanmean(np.log10(spin_loss), axis=1), np.nanstd(np.log10(spin_loss), axis=1), color='tab:orange', marker='^', mfc='r', mec='r', label='data-fit', markersize=5)\n",
    "\n",
    "plt.xticks(fontsize='14')\n",
    "plt.yticks(fontsize='14')\n",
    "plt.axhline(0, color='black', linestyle='--',linewidth=0.75)\n",
    "plt.title(r'Spin data-fit: $\\log \\chi^2(a | {\\bf w}^\\star)$', fontsize=16)\n",
    "# plt.legend(loc='best', fontsize=14)\n",
    "plt.savefig(outpath.joinpath('spin_loss.pdf'))"
   ]
  },
  {
   "cell_type": "code",
   "execution_count": 14,
   "id": "35a23d42-41ec-45bd-873c-05470e2fdeef",
   "metadata": {},
   "outputs": [
    {
     "data": {
      "application/vnd.jupyter.widget-view+json": {
       "model_id": "6777f91267594d0b9531386aec4d1cdf",
       "version_major": 2,
       "version_minor": 0
      },
      "text/plain": [
       "Canvas(toolbar=Toolbar(toolitems=[('Home', 'Reset original view', 'home', 'home'), ('Back', 'Back to previous …"
      ]
     },
     "metadata": {},
     "output_type": "display_data"
    }
   ],
   "source": [
    "spin_loss = pd.read_csv(recovery_path.joinpath('spin_loss.csv'), index_col=0)\n",
    "spin_loss_subrays = pd.read_csv(recovery_path.joinpath('spin_loss_subrays_10.csv'), index_col=0)\n",
    "\n",
    "plt.rcParams.update({\"text.usetex\": True, \"font.family\": \"Helvetica\"})\n",
    "\n",
    "%matplotlib widget\n",
    "plt.figure(figsize=(5,4))\n",
    "plt.errorbar(spin_grid, np.nanmean(np.log10(spin_loss), axis=1), np.nanstd(np.log10(spin_loss), axis=1), color='tab:orange', marker='^', mfc='r', mec='r', label='data-fit', markersize=5)\n",
    "plt.errorbar(spin_grid, np.nanmean(np.log10(spin_loss_subrays), axis=1), np.nanstd(np.log10(spin_loss_subrays), axis=1), color='tab:blue', marker='o', mfc='b', mec='b', label='validation', markersize=5)\n",
    "\n",
    "plt.xticks(fontsize='14')\n",
    "plt.yticks(fontsize='14')\n",
    "plt.axhline(0, color='black', linestyle='--',linewidth=0.75)\n",
    "plt.title(r'Spin data-fit: $\\log \\chi^2(a | {\\bf w}^\\star)$', fontsize=16)\n",
    "plt.legend(loc='best', fontsize=14)\n",
    "plt.savefig(outpath.joinpath('spin_loss_w_subray_validation.pdf'))"
   ]
  },
  {
   "cell_type": "markdown",
   "id": "08eec69e-6809-4feb-a717-a8bcb2dad173",
   "metadata": {
    "jp-MarkdownHeadingCollapsed": true,
    "tags": []
   },
   "source": [
    "# Visualize a single recovery\n",
    "---\n",
    "Visualize a single 3D recovery / datafit for fixed black-hole parameters"
   ]
  },
  {
   "cell_type": "code",
   "execution_count": 19,
   "id": "44dd1d4e-332e-42eb-92e9-6397ca1d2f05",
   "metadata": {},
   "outputs": [
    {
     "data": {
      "application/vnd.jupyter.widget-view+json": {
       "model_id": "dda0aa8228ea45f1b7e5d499b72b82e1",
       "version_major": 2,
       "version_minor": 0
      },
      "text/plain": [
       "VBox(children=(Figure(camera=PerspectiveCamera(fov=45.0, position=(0.0, -2.1650635094610964, 1.250000000000000…"
      ]
     },
     "metadata": {},
     "output_type": "display_data"
    }
   ],
   "source": [
    "basename = 'inc_{:.1f}.seed_{}'\n",
    "recovery_path = Path('../checkpoints/alma/intrinsic_fits/vertical_b_variable_pixels1/')\n",
    "\n",
    "seed = 0\n",
    "inclination = 12.0\n",
    "resolution = 64\n",
    "checkpoint_dir = recovery_path.joinpath(basename.format(inclination, seed))\n",
    "\n",
    "grid_1d = np.linspace(-fov_M/2, fov_M/2, resolution)\n",
    "coords = np.array(np.meshgrid(grid_1d, grid_1d, grid_1d, indexing='ij'))\n",
    "emission = sample_3D_recovery(checkpoint_dir, coords)\n",
    "bhnerf.visualization.ipyvolume_3d(emission, fov=fov_M, level=[0.1, .2, 0.6])\n",
    "\n",
    "# clip_rmin, clip_rmax = 0, 10\n",
    "# emission_clipped = bhnerf.emission.fill_unsupervised_emission(emission, coords, clip_rmin, clip_rmax, z_width)\n",
    "# bhnerf.visualization.ipyvolume_3d(emission_clipped, fov=fov_M, level=[0.1, .2, 0.6])"
   ]
  },
  {
   "cell_type": "code",
   "execution_count": 7,
   "id": "6bbe748c-60c7-4dab-bfdd-270344614813",
   "metadata": {},
   "outputs": [],
   "source": [
    "raytrace_args = image_plane_model(np.deg2rad(inclination), spin)\n",
    "datafit, image_plane = image_plane_fit(raytrace_args, checkpoint_dir, t_train, data_train)"
   ]
  },
  {
   "cell_type": "code",
   "execution_count": 11,
   "id": "a31c2d13-7b98-4a2b-b97e-a7cac43eacc1",
   "metadata": {},
   "outputs": [
    {
     "data": {
      "application/vnd.jupyter.widget-view+json": {
       "model_id": "af7b88d161814fa1ac4fa415b014f679",
       "version_major": 2,
       "version_minor": 0
      },
      "text/plain": [
       "Canvas(toolbar=Toolbar(toolitems=[('Home', 'Reset original view', 'home', 'home'), ('Back', 'Back to previous …"
      ]
     },
     "metadata": {},
     "output_type": "display_data"
    }
   ],
   "source": [
    "%matplotlib widget\n",
    "plt.rcParams.update({\"text.usetex\": True, \"font.family\": \"Helvetica\",})\n",
    "axes = bhnerf.visualization.plot_stokes_lc(data_train[:,1:], ['Q','U'], t_train, label='ALMA', color='black', plot_qu=True)\n",
    "bhnerf.visualization.plot_stokes_lc(model[:,1:], ['Q','U'], t_train, axes=axes, color='r', fmt='x', label='Model', plot_qu=True)\n",
    "\n",
    "titles = [r'$I_Q$ datafit', r'$I_U$ datafit', r'$Q-U$ datafit']\n",
    "for ax, title in zip(axes, titles):\n",
    "    ax.set_title(title, fontsize=16)\n",
    "    ax.legend()\n",
    "    \n",
    "axes[0].set_xlabel('Time [UT]', fontsize=12)\n",
    "axes[1].set_xlabel('Time [UT]', fontsize=12)\n",
    "plt.tight_layout()\n",
    "\n",
    "savepath = outpath.joinpath(basename.format(inclination, seed))\n",
    "savepath.mkdir(parents=True, exist_ok=True)\n",
    "plt.savefig(savepath.joinpath('QU.datafit.pdf'), bbox_inches='tight')"
   ]
  },
  {
   "cell_type": "code",
   "execution_count": 266,
   "id": "c9d01720-80f3-4219-a54e-2de5ca5ede73",
   "metadata": {},
   "outputs": [
    {
     "data": {
      "application/vnd.jupyter.widget-view+json": {
       "model_id": "11a08d4b631244c88ca8e9c2a6d836e0",
       "version_major": 2,
       "version_minor": 0
      },
      "text/plain": [
       "Canvas(toolbar=Toolbar(toolitems=[('Home', 'Reset original view', 'home', 'home'), ('Back', 'Back to previous …"
      ]
     },
     "metadata": {},
     "output_type": "display_data"
    }
   ],
   "source": [
    "fov_rad = (fov_M * consts.GM_c2(consts.sgra_mass) / consts.sgra_distance.to('m')) * units.rad\n",
    "psize = fov_rad.value / num_alpha\n",
    "\n",
    "im = eh.image.Image(np.rot90(image_plane[0,0], 2), psize, 0, 0)\n",
    "im.display();"
   ]
  },
  {
   "cell_type": "code",
   "execution_count": 44,
   "id": "177d9af9-3d34-4222-81b1-e07a80f87003",
   "metadata": {},
   "outputs": [
    {
     "data": {
      "application/vnd.jupyter.widget-view+json": {
       "model_id": "c76bb6d3751b411694bd09a87d47caff",
       "version_major": 2,
       "version_minor": 0
      },
      "text/plain": [
       "Canvas(toolbar=Toolbar(toolitems=[('Home', 'Reset original view', 'home', 'home'), ('Back', 'Back to previous …"
      ]
     },
     "metadata": {},
     "output_type": "display_data"
    },
    {
     "data": {
      "text/plain": [
       "<matplotlib.animation.FuncAnimation at 0x7f2a0458b8e0>"
      ]
     },
     "execution_count": 44,
     "metadata": {},
     "output_type": "execute_result"
    }
   ],
   "source": [
    "%matplotlib widget\n",
    "movie_list = [xr.DataArray(image_plane[:, i], dims=['t','beta','alpha']) for i in range(image_plane.shape[1])]\n",
    "fig, axes = plt.subplots(1, 3, figsize=(10, 3))\n",
    "bhnerf.visualization.animate_movies_synced(movie_list, axes, titles=['I', 'Q', 'U'], vmin=[0, -.02, -.02], vmax=[.03, .02, .01])"
   ]
  },
  {
   "cell_type": "markdown",
   "id": "f4a53235-c605-4683-b081-bdbfd7d95e1b",
   "metadata": {
    "jp-MarkdownHeadingCollapsed": true,
    "tags": []
   },
   "source": [
    "# Component decomposition"
   ]
  },
  {
   "cell_type": "code",
   "execution_count": null,
   "id": "78f8a487-4d26-4f5f-9994-74c0939dfa17",
   "metadata": {},
   "outputs": [],
   "source": [
    "raytrace_args = image_plane_model(np.deg2rad(inclination), spin)\n",
    "model_decomposition = []\n",
    "for clip_rmin, clip_rmax in zip([0, 13, 18], [13, 18, np.inf]):\n",
    "    datafit, image_plane = image_plane_fit(raytrace_args, checkpoint_dir, t_train, data_train, clip_rmin, clip_rmax)\n",
    "    model_decomposition.append(image_plane.sum(axis=(-1,-2)))\n",
    "    \n",
    "datafit, image_plane = image_plane_fit(raytrace_args, checkpoint_dir, t_train, data_train)\n",
    "%matplotlib widget\n",
    "plt.rcParams.update({\"text.usetex\": True, \"font.family\": \"Helvetica\",})\n",
    "axes = bhnerf.visualization.plot_stokes_lc(data_train[:,1:], ['Q','U'], t_train, label='ALMA', color='black')\n",
    "colors = ['tab:orange', 'tab:green', 'tab:blue']\n",
    "for i, model in enumerate(model_decomposition):\n",
    "    bhnerf.visualization.plot_stokes_lc(model[:,1:], ['Q','U'], t_train, axes=axes, label='region {}'.format(i), color=colors[i])\n",
    "bhnerf.visualization.plot_stokes_lc(np.sum(model_decomposition, axis=0)[:,1:], ['Q','U'], t_train, axes=axes, color='r', fmt='x', label='Model')\n",
    "\n",
    "titles = [r'$I_Q$ datafit', r'$I_U$ datafit', r'$Q-U$ datafit']\n",
    "for ax, title in zip(axes, titles):\n",
    "    ax.set_title(title, fontsize=16)\n",
    "    ax.legend()\n",
    "    \n",
    "axes[0].set_xlabel('Time [UT]', fontsize=12)\n",
    "axes[1].set_xlabel('Time [UT]', fontsize=12)\n",
    "plt.tight_layout()\n",
    "\n",
    "savepath = outpath.joinpath(basename.format(inclination, seed))\n",
    "savepath.mkdir(parents=True, exist_ok=True)\n",
    "plt.savefig(savepath.joinpath('QU.datafit.multiple_components.pdf'), bbox_inches='tight')"
   ]
  },
  {
   "cell_type": "code",
   "execution_count": 34,
   "id": "a1de454e-5a0a-4058-b437-4218693b0c46",
   "metadata": {},
   "outputs": [
    {
     "data": {
      "application/vnd.jupyter.widget-view+json": {
       "model_id": "b83554af70c44ec2989952be3ad2bd41",
       "version_major": 2,
       "version_minor": 0
      },
      "text/plain": [
       "view angle:   0%|          | 0/2 [00:00<?, ?it/s]"
      ]
     },
     "metadata": {},
     "output_type": "display_data"
    }
   ],
   "source": [
    "view_zeniths = [np.deg2rad(35), np.deg2rad(65)]\n",
    "jit = False if len(view_zeniths) < 5 else True\n",
    "resolution = 256\n",
    "bh_radius = 1 + np.sqrt(1-spin**2)\n",
    "cam_r = 55.\n",
    "linewidth = 0.14\n",
    "norm_const =  0.05\n",
    "visualizer = bhnerf.visualization.VolumeVisualizer(resolution, resolution, resolution)\n",
    "\n",
    "images = np.empty((len(view_zeniths), 3, resolution, resolution, 3))\n",
    "for i, zenith in enumerate(tqdm(view_zeniths, desc='view angle')):\n",
    "    visualizer.set_view(cam_r=cam_r, domain_r=rmax, azimuth=0.0, zenith=zenith)\n",
    "    checkpoint_dir = recovery_path.joinpath(basename.format(inclination, seed))\n",
    "    emission = sample_3D_recovery(checkpoint_dir, visualizer.coords, chunk=32)\n",
    "    for j, (clip_rmin, clip_rmax) in enumerate(zip([0, 13, 18], [13, 18, np.inf])):\n",
    "        emission_clipped = bhnerf.emission.fill_unsupervised_emission(emission, visualizer.coords, clip_rmin, clip_rmax, z_width)\n",
    "        images[i,j] = visualizer.render(emission_clipped / norm_const, facewidth=1.9*rmax, jit=jit, bh_radius=bh_radius, linewidth=linewidth).clip(a_max=1)"
   ]
  },
  {
   "cell_type": "code",
   "execution_count": 35,
   "id": "2fb2c687-6ae0-4785-84fa-9ccf1a892b13",
   "metadata": {},
   "outputs": [
    {
     "data": {
      "application/vnd.jupyter.widget-view+json": {
       "model_id": "6124598c796b4a5a9cd86c2f1f1c9276",
       "version_major": 2,
       "version_minor": 0
      },
      "text/plain": [
       "Canvas(toolbar=Toolbar(toolitems=[('Home', 'Reset original view', 'home', 'home'), ('Back', 'Back to previous …"
      ]
     },
     "metadata": {},
     "output_type": "display_data"
    },
    {
     "data": {
      "application/vnd.jupyter.widget-view+json": {
       "model_id": "c0eac7d82113450db9d1bbbe3672f3ee",
       "version_major": 2,
       "version_minor": 0
      },
      "text/plain": [
       "Canvas(toolbar=Toolbar(toolitems=[('Home', 'Reset original view', 'home', 'home'), ('Back', 'Back to previous …"
      ]
     },
     "metadata": {},
     "output_type": "display_data"
    },
    {
     "data": {
      "application/vnd.jupyter.widget-view+json": {
       "model_id": "1f51fb71f00a4dc69dd9dd64d9d050fd",
       "version_major": 2,
       "version_minor": 0
      },
      "text/plain": [
       "Canvas(toolbar=Toolbar(toolitems=[('Home', 'Reset original view', 'home', 'home'), ('Back', 'Back to previous …"
      ]
     },
     "metadata": {},
     "output_type": "display_data"
    }
   ],
   "source": [
    "from mpl_toolkits.axes_grid1 import make_axes_locatable\n",
    "from matplotlib.colors import Normalize\n",
    "\n",
    "for j in range(3):\n",
    "    fig, axes = plt.subplots(1, len(images[:,j]), figsize=(9,4))\n",
    "    for ax, image in zip(axes, images[:,j]):\n",
    "        ax.imshow(image)\n",
    "        ax.set_axis_off()\n",
    "\n",
    "    ax = fig.add_subplot(132)\n",
    "    ax.set_visible(False)\n",
    "    plt.tight_layout()\n",
    "\n",
    "    savepath = outpath.joinpath(basename.format(inclination, seed))\n",
    "    savepath.mkdir(parents=True, exist_ok=True)\n",
    "    plt.savefig(savepath.joinpath('3D.component_{}.pdf'.format(j)), bbox_inches='tight')"
   ]
  },
  {
   "cell_type": "markdown",
   "id": "fbbbe67f-c030-44bf-bdf1-853a4d5c0986",
   "metadata": {
    "tags": []
   },
   "source": [
    "# Visualize average recoveries\n",
    "---\n",
    "Visualize an average recovery with fixed black-hole parameters"
   ]
  },
  {
   "cell_type": "code",
   "execution_count": 9,
   "id": "6da55630-8dbc-4e41-aced-018436ed7fe3",
   "metadata": {},
   "outputs": [
    {
     "data": {
      "application/vnd.jupyter.widget-view+json": {
       "model_id": "d57e97c014a3488dba6975195a06913c",
       "version_major": 2,
       "version_minor": 0
      },
      "text/plain": [
       "seed:   0%|          | 0/4 [00:00<?, ?it/s]"
      ]
     },
     "metadata": {},
     "output_type": "display_data"
    },
    {
     "data": {
      "application/vnd.jupyter.widget-view+json": {
       "model_id": "d8b42bce05cf4a9b91c5d89c7f217431",
       "version_major": 2,
       "version_minor": 0
      },
      "text/plain": [
       "VBox(children=(Figure(camera=PerspectiveCamera(fov=45.0, position=(0.0, -2.1650635094610964, 1.250000000000000…"
      ]
     },
     "metadata": {},
     "output_type": "display_data"
    }
   ],
   "source": [
    "basename = 'inc_{:.1f}.seed_{}'\n",
    "recovery_path = Path('../checkpoints/alma/intrinsic_fits/vertical_b_variable_pixels1/')\n",
    "\n",
    "seeds = range(4)\n",
    "inc = 12\n",
    "resolution = 64\n",
    "\n",
    "grid_1d = np.linspace(-fov_M/2, fov_M/2, resolution)\n",
    "coords = np.array(np.meshgrid(grid_1d, grid_1d, grid_1d, indexing='ij'))\n",
    "emission = np.empty((len(seeds), resolution, resolution, resolution))\n",
    "for i, seed in enumerate(tqdm(seeds, desc='seed')):\n",
    "    checkpoint_dir = recovery_path.joinpath(basename.format(inc, seed))\n",
    "    emission[i] = sample_3D_recovery(checkpoint_dir, coords)\n",
    "\n",
    "bhnerf.visualization.ipyvolume_3d(emission.mean(axis=0), fov=fov_M, level=[0.1, .2, 0.6])"
   ]
  },
  {
   "cell_type": "code",
   "execution_count": 76,
   "id": "d09ef7e0-3bc9-4f3d-9181-6db0975a48a0",
   "metadata": {},
   "outputs": [
    {
     "data": {
      "application/vnd.jupyter.widget-view+json": {
       "model_id": "",
       "version_major": 2,
       "version_minor": 0
      },
      "text/plain": [
       "  0%|          | 0/10 [00:00<?, ?it/s]"
      ]
     },
     "metadata": {},
     "output_type": "display_data"
    },
    {
     "data": {
      "application/vnd.jupyter.widget-view+json": {
       "model_id": "215a4cfbf84c421fa859d1bb28afdeb7",
       "version_major": 2,
       "version_minor": 0
      },
      "text/plain": [
       "seed:   0%|          | 0/4 [00:00<?, ?it/s]"
      ]
     },
     "metadata": {},
     "output_type": "display_data"
    }
   ],
   "source": [
    "basename = 'inc_{:.1f}.seed_{}'\n",
    "recovery_path = Path('../checkpoints/alma/intrinsic_fits/vertical_b_variable_pixels1/')\n",
    "\n",
    "# Visualize image plane frames\n",
    "seeds = range(4)\n",
    "inc = 12\n",
    "\n",
    "raytrace_args = image_plane_model_perturb_rays(np.deg2rad(inc), spin)\n",
    "image_plane_average = 0\n",
    "for i, seed in enumerate(tqdm(seeds, desc='seed')):\n",
    "    checkpoint_dir = recovery_path.joinpath(basename.format(inc, seed))\n",
    "    datafit, image_plane = image_plane_fit(raytrace_args, checkpoint_dir, t_train, data_train)\n",
    "    image_plane_average += image_plane/len(seeds)"
   ]
  },
  {
   "cell_type": "code",
   "execution_count": 194,
   "id": "4107af97-c913-47f9-ac07-2c8e9835a394",
   "metadata": {},
   "outputs": [
    {
     "data": {
      "application/vnd.jupyter.widget-view+json": {
       "model_id": "1a20eb07792746598ce19a8a318db892",
       "version_major": 2,
       "version_minor": 0
      },
      "text/plain": [
       "Canvas(toolbar=Toolbar(toolitems=[('Home', 'Reset original view', 'home', 'home'), ('Back', 'Back to previous …"
      ]
     },
     "metadata": {},
     "output_type": "display_data"
    }
   ],
   "source": [
    "import math\n",
    "from mpl_toolkits.axes_grid1 import make_axes_locatable\n",
    "from mpl_toolkits.axes_grid1.anchored_artists import AnchoredSizeBar\n",
    "import ehtim as eh\n",
    "import matplotlib.font_manager as fm\n",
    "fontprops = fm.FontProperties(size=16)\n",
    "\n",
    "P = image_plane_average[:,0]\n",
    "psize = 200 * eh.const_def.RADPERUAS / 64\n",
    "%matplotlib widget\n",
    "fig, axes = plt.subplots(1, 4, figsize=(9,3))\n",
    "for i, t_idx in enumerate([0, 19, 40, 70]):\n",
    "    image = eh.image.Image(np.flipud(P[t_idx]), psize=psize, ra=0, dec=0)\n",
    "    image.display(axis=axes[i], cbar_orientation='horizontal', cbar_lims=[0, 0.005])\n",
    "    t0, t1 = math.modf(t_frames[t_idx].value)\n",
    "    axes[i].set_aspect('equal')\n",
    "    axes[i].get_xaxis().set_visible(False)\n",
    "    axes[i].get_yaxis().set_visible(False)\n",
    "    axes[i].set_title('{}:{:02d} UTC'.format(int(t1), int(t0*60)), fontsize=18)\n",
    "    \n",
    "    scalebar = AnchoredSizeBar(axes[i].transData,\n",
    "                   50 / 200 * 64, \n",
    "                   r'$50 \\mu as$', \n",
    "                   'lower center', \n",
    "                   pad=0.0,\n",
    "                   color='white',\n",
    "                   frameon=False,\n",
    "                   size_vertical=0.1,\n",
    "                   fontproperties=fontprops)\n",
    "    axes[i].add_artist(scalebar)\n",
    "plt.tight_layout()\n",
    "plt.savefig(recovery_path.joinpath('image_plane_I.pdf'))\n"
   ]
  },
  {
   "cell_type": "code",
   "execution_count": 144,
   "id": "70793826-81b9-499c-b828-a85ac6dd5e83",
   "metadata": {},
   "outputs": [
    {
     "data": {
      "application/vnd.jupyter.widget-view+json": {
       "model_id": "270767877c77443cad93a67934a98544",
       "version_major": 2,
       "version_minor": 0
      },
      "text/plain": [
       "Canvas(toolbar=Toolbar(toolitems=[('Home', 'Reset original view', 'home', 'home'), ('Back', 'Back to previous …"
      ]
     },
     "metadata": {},
     "output_type": "display_data"
    }
   ],
   "source": [
    "import math\n",
    "from mpl_toolkits.axes_grid1 import make_axes_locatable\n",
    "\n",
    "P = np.sqrt(image_plane_average[:,1]**2 + image_plane_average[:,2]**2)\n",
    "\n",
    "%matplotlib widget\n",
    "fig, axes = plt.subplots(1, 5, figsize=(10,3))\n",
    "for i, t_idx in enumerate([0, 20, 40, 60, 80]):\n",
    "    im = axes[i].imshow(P[t_idx], cmap='afmhot', origin='lower', vmax=0.006)\n",
    "    divider = make_axes_locatable(axes[i])\n",
    "    cax = divider.append_axes('bottom', size='5%', pad=0.05)\n",
    "    cbar = fig.colorbar(im, cax=cax, orientation='horizontal')\n",
    "    cbar.set_ticks([0, 0.0025, 0.005])\n",
    "    t0, t1 = math.modf(t_frames[t_idx].value)\n",
    "    axes[i].set_aspect('equal')\n",
    "    axes[i].get_xaxis().set_visible(False)\n",
    "    axes[i].get_yaxis().set_visible(False)\n",
    "    axes[i].set_title('{}:{:02d} UTC'.format(int(t1), int(t0*60)), fontsize=18)\n",
    "plt.tight_layout()\n",
    "# plt.savefig('hs+bg illustration/image_plane_stokes.pdf')\n"
   ]
  },
  {
   "cell_type": "code",
   "execution_count": 77,
   "id": "fcc22d4b-16da-4fcf-bb2d-17df744aa8be",
   "metadata": {},
   "outputs": [
    {
     "data": {
      "application/vnd.jupyter.widget-view+json": {
       "model_id": "26211c34ccd243188874210f9e83a7bf",
       "version_major": 2,
       "version_minor": 0
      },
      "text/plain": [
       "Canvas(toolbar=Toolbar(toolitems=[('Home', 'Reset original view', 'home', 'home'), ('Back', 'Back to previous …"
      ]
     },
     "metadata": {},
     "output_type": "display_data"
    },
    {
     "data": {
      "text/plain": [
       "<matplotlib.animation.FuncAnimation at 0x7fd0c4519520>"
      ]
     },
     "execution_count": 77,
     "metadata": {},
     "output_type": "execute_result"
    }
   ],
   "source": [
    "%matplotlib widget\n",
    "movie_list = [xr.DataArray(image_plane_average[:, i], dims=['t','beta','alpha']) for i in range(image_plane_average.shape[1])]\n",
    "fig, axes = plt.subplots(1, 3, figsize=(10, 3))\n",
    "bhnerf.visualization.animate_movies_synced(movie_list, axes, titles=['I', 'Q', 'U'], vmin=[0, -.02, -.02], vmax=[.03, .02, .01])"
   ]
  },
  {
   "cell_type": "code",
   "execution_count": 64,
   "id": "be402380-3ed2-4f58-a844-8a3b0393d8ef",
   "metadata": {},
   "outputs": [
    {
     "data": {
      "application/vnd.jupyter.widget-view+json": {
       "model_id": "46608907ad254541bffd41dbbd7c79e2",
       "version_major": 2,
       "version_minor": 0
      },
      "text/plain": [
       "Canvas(toolbar=Toolbar(toolitems=[('Home', 'Reset original view', 'home', 'home'), ('Back', 'Back to previous …"
      ]
     },
     "metadata": {},
     "output_type": "display_data"
    },
    {
     "data": {
      "text/plain": [
       "<matplotlib.legend.Legend at 0x7f8fc81c8ee0>"
      ]
     },
     "execution_count": 64,
     "metadata": {},
     "output_type": "execute_result"
    }
   ],
   "source": [
    "recovery_path = Path('../checkpoints/alma/intrinsic_fits/vertical_b_variable_pixels1/')\n",
    "inc_loss = 0.5 * (\n",
    "    np.log(pd.read_csv(recovery_path.joinpath('inclination_loss_subrays_10_0.csv'), index_col=0)) + \n",
    "    np.log(pd.read_csv(recovery_path.joinpath('inclination_loss_subrays_10_1.csv'), index_col=0))\n",
    ")\n",
    "\n",
    "%matplotlib widget\n",
    "thresh = np.array(inc_loss_mean).min() + (np.array(inc_loss_mean).max() - np.array(inc_loss_mean).min()) / 10\n",
    "mean_indices = inc_loss_mean < thresh\n",
    "plt.plot(inc_loss_mean.index, inc_loss_mean, marker='^', zorder=1)\n",
    "plt.axhline(thresh, color='black', linestyle='--',linewidth=1.3, label='20%')\n",
    "plt.legend(inc_loss_mean.columns)\n",
    "# plt.scatter(inc_loss_mean.index[mean_indices], inc_loss_mean[mean_indices], marker='^', color='r', zorder=2)"
   ]
  },
  {
   "cell_type": "code",
   "execution_count": 11,
   "id": "52ee6d0d-2d71-4a86-b3bb-de8e2a823ad5",
   "metadata": {},
   "outputs": [
    {
     "data": {
      "application/vnd.jupyter.widget-view+json": {
       "model_id": "3586da7fdd1c4800aa2a8c8a7b85ac44",
       "version_major": 2,
       "version_minor": 0
      },
      "text/plain": [
       "  0%|          | 0/30 [00:00<?, ?it/s]"
      ]
     },
     "metadata": {},
     "output_type": "display_data"
    }
   ],
   "source": [
    "# #D rotation around the recovered volume\n",
    "seeds = range(4)\n",
    "inc = 12\n",
    "\n",
    "zenith = np.deg2rad(60)\n",
    "view_azimuths = np.linspace(0, 2*np.pi, 30)\n",
    "\n",
    "jit = True\n",
    "resolution = 256\n",
    "bh_radius = 1 + np.sqrt(1-spin**2)\n",
    "cam_r = 55.\n",
    "linewidth = 0.14\n",
    "norm_const =  0.05\n",
    "\n",
    "visualizer = bhnerf.visualization.VolumeVisualizer(resolution, resolution, resolution)\n",
    "\n",
    "images = []\n",
    "for azimuth in tqdm(view_azimuths):\n",
    "    emission = 0\n",
    "    visualizer.set_view(cam_r=cam_r, domain_r=rmax, azimuth=azimuth, zenith=zenith)\n",
    "    for  seed in seeds:\n",
    "        checkpoint_dir = recovery_path.joinpath(basename.format(inc, seed))\n",
    "        emission += sample_3D_recovery(checkpoint_dir, visualizer.coords, chunk=32) / len(seeds)\n",
    "\n",
    "    image = visualizer.render(emission / norm_const, facewidth=1.9*rmax, jit=jit, bh_radius=bh_radius, linewidth=linewidth).clip(a_max=1)\n",
    "    images.append(image)\n",
    "    \n",
    "movie = np.array(images)\n",
    "np.save('alma/intrinsic_fits/radial_b_variable_pixels1/recovery_3D_rotation_zenith_60.npy', movie)"
   ]
  },
  {
   "cell_type": "code",
   "execution_count": 18,
   "id": "498ce48d-9add-4640-8799-545e4741fea3",
   "metadata": {},
   "outputs": [],
   "source": [
    "np.save('alma/intrinsic_fits/vertical_b_variable_pixels1/inc12.seeds0-4.recovery_3D_rotation_zenith_60.npy', movie)"
   ]
  },
  {
   "cell_type": "code",
   "execution_count": 22,
   "id": "43286e90-c3c8-44a2-8b29-04838adcff34",
   "metadata": {},
   "outputs": [
    {
     "data": {
      "application/vnd.jupyter.widget-view+json": {
       "model_id": "eb62de833b214761a9ed626455cc20eb",
       "version_major": 2,
       "version_minor": 0
      },
      "text/plain": [
       "Canvas(toolbar=Toolbar(toolitems=[('Home', 'Reset original view', 'home', 'home'), ('Back', 'Back to previous …"
      ]
     },
     "metadata": {},
     "output_type": "display_data"
    },
    {
     "data": {
      "text/plain": [
       "<matplotlib.animation.FuncAnimation at 0x7f4a08541c70>"
      ]
     },
     "execution_count": 22,
     "metadata": {},
     "output_type": "execute_result"
    }
   ],
   "source": [
    "from matplotlib import animation\n",
    "def animate(movie, t_frames, fps=10, output=None, writer='ffmpeg'):\n",
    "\n",
    "    # Image animation function (called sequentially)\n",
    "    def animate_frame(i):\n",
    "        #axes.set_title('t={:1.2f} UTC'.format(t_frames[i]))\n",
    "        im.set_array(movie[i])\n",
    "        return im\n",
    "    \n",
    "    num_frames = movie.shape[0]\n",
    "    \n",
    "    fig, axes = plt.subplots(1,1, figsize=(4,4))\n",
    "    im =  axes.imshow(movie[0])\n",
    "    #axes.set_title('t={:1.2f} UTC'.format(t_frames[0]), fontsize=16)\n",
    "    axes.set_axis_off()\n",
    "    \n",
    "    plt.tight_layout()\n",
    "    anim = animation.FuncAnimation(fig, animate_frame, frames=num_frames, interval=1e3 / fps)\n",
    "\n",
    "    if output is not None:\n",
    "        anim.save(output, writer=writer, fps=fps)\n",
    "    return anim\n",
    "\n",
    "%matplotlib widget\n",
    "animate(movie, t_frames, output='alma/intrinsic_fits/vertical_b_variable_pixels1/inc12.seeds0-4.recovery_3D_rotation_zenith_60.gif')"
   ]
  },
  {
   "cell_type": "code",
   "execution_count": 55,
   "id": "d9e99ad3-fae4-45ad-a6c6-867c8c4e3563",
   "metadata": {},
   "outputs": [
    {
     "data": {
      "application/vnd.jupyter.widget-view+json": {
       "model_id": "7f0ec038df9d43589099e8787d0ad8ee",
       "version_major": 2,
       "version_minor": 0
      },
      "text/plain": [
       "view angle:   0%|          | 0/2 [00:00<?, ?it/s]"
      ]
     },
     "metadata": {},
     "output_type": "display_data"
    },
    {
     "data": {
      "application/vnd.jupyter.widget-view+json": {
       "model_id": "",
       "version_major": 2,
       "version_minor": 0
      },
      "text/plain": [
       "inc/seed: 0it [00:00, ?it/s]"
      ]
     },
     "metadata": {},
     "output_type": "display_data"
    },
    {
     "data": {
      "application/vnd.jupyter.widget-view+json": {
       "model_id": "",
       "version_major": 2,
       "version_minor": 0
      },
      "text/plain": [
       "inc/seed: 0it [00:00, ?it/s]"
      ]
     },
     "metadata": {},
     "output_type": "display_data"
    }
   ],
   "source": [
    "# 10 precent configuration\n",
    "seeds = [0, 1, 2, 3, 0, 1]\n",
    "# inc_grid = np.arange(4, 24, 2, dtype=float)\n",
    "inc_grid = [12, 12, 12, 12, 16, 16]\n",
    "\n",
    "view_zeniths = [np.deg2rad(35), np.deg2rad(65)]\n",
    "\n",
    "jit = False if len(view_zeniths) < 5 else True\n",
    "resolution = 256\n",
    "bh_radius = 1 + np.sqrt(1-spin**2)\n",
    "cam_r = 55.\n",
    "linewidth = 0.14\n",
    "norm_const =  0.05\n",
    "\n",
    "visualizer = bhnerf.visualization.VolumeVisualizer(resolution, resolution, resolution)\n",
    "\n",
    "images = []\n",
    "for zenith in tqdm(view_zeniths, desc='view angle'):\n",
    "    emission = 0\n",
    "    visualizer.set_view(cam_r=cam_r, domain_r=rmax, azimuth=0.0, zenith=zenith)\n",
    "    for inc, seed in tqdm(zip(inc_grid, seeds), desc='inc/seed', leave=False):\n",
    "        checkpoint_dir = recovery_path.joinpath(basename.format(inc, seed))\n",
    "        emission += sample_3D_recovery(checkpoint_dir, visualizer.coords, chunk=32) / len(inc_grid)\n",
    "        \n",
    "    image = visualizer.render(emission / norm_const, facewidth=1.9*rmax, jit=jit, bh_radius=bh_radius, linewidth=linewidth).clip(a_max=1)\n",
    "    images.append(image)"
   ]
  },
  {
   "cell_type": "code",
   "execution_count": null,
   "id": "a8b9a83a-b6c9-4938-b24d-012964738f0e",
   "metadata": {},
   "outputs": [
    {
     "data": {
      "application/vnd.jupyter.widget-view+json": {
       "model_id": "",
       "version_major": 2,
       "version_minor": 0
      },
      "text/plain": [
       "Canvas(toolbar=Toolbar(toolitems=[('Home', 'Reset original view', 'home', 'home'), ('Back', 'Back to previous …"
      ]
     },
     "metadata": {},
     "output_type": "display_data"
    }
   ],
   "source": [
    "from mpl_toolkits.axes_grid1 import make_axes_locatable\n",
    "from matplotlib.colors import Normalize\n",
    "\n",
    "fig, axes = plt.subplots(1, len(images), figsize=(9,4))\n",
    "for ax, image in zip(axes, images):\n",
    "    ax.imshow(image)\n",
    "    ax.set_axis_off()\n",
    "\n",
    "ax = fig.add_subplot(132)\n",
    "ax.set_visible(False)\n",
    "divider = make_axes_locatable(ax)\n",
    "cax = divider.append_axes('bottom', size='3%', pad=-1)\n",
    "cmap = plt.cm.ScalarMappable(norm=Normalize(0, norm_const, clip=True), cmap=plt.get_cmap('hot'))\n",
    "cbar = fig.colorbar(cmap, cax=cax, orientation='horizontal', shrink=.0)\n",
    "cbar.ax.tick_params(labelsize=12) \n",
    "plt.tight_layout()\n",
    "\n",
    "outname = '3D_Recovery_20precent_seeds_{}_incs_{}.pdf'.format('-'.join([str(seed) for seed in seeds]), '-'.join([str(int(inc)) for inc in inc_grid]))\n",
    "plt.savefig(outpath.joinpath(outname), bbox_inches='tight')"
   ]
  },
  {
   "cell_type": "code",
   "execution_count": 69,
   "id": "bb9b7aec-8017-4a87-b4d9-29c6826861fc",
   "metadata": {
    "tags": []
   },
   "outputs": [
    {
     "data": {
      "application/vnd.jupyter.widget-view+json": {
       "model_id": "f51ab99937ab4f30a117a115268eb6b5",
       "version_major": 2,
       "version_minor": 0
      },
      "text/plain": [
       "view angle:   0%|          | 0/2 [00:00<?, ?it/s]"
      ]
     },
     "metadata": {},
     "output_type": "display_data"
    },
    {
     "data": {
      "application/vnd.jupyter.widget-view+json": {
       "model_id": "",
       "version_major": 2,
       "version_minor": 0
      },
      "text/plain": [
       "inc:   0%|          | 0/1 [00:00<?, ?it/s]"
      ]
     },
     "metadata": {},
     "output_type": "display_data"
    },
    {
     "data": {
      "application/vnd.jupyter.widget-view+json": {
       "model_id": "",
       "version_major": 2,
       "version_minor": 0
      },
      "text/plain": [
       "seed:   0%|          | 0/1 [00:00<?, ?it/s]"
      ]
     },
     "metadata": {},
     "output_type": "display_data"
    },
    {
     "data": {
      "application/vnd.jupyter.widget-view+json": {
       "model_id": "",
       "version_major": 2,
       "version_minor": 0
      },
      "text/plain": [
       "inc:   0%|          | 0/1 [00:00<?, ?it/s]"
      ]
     },
     "metadata": {},
     "output_type": "display_data"
    },
    {
     "data": {
      "application/vnd.jupyter.widget-view+json": {
       "model_id": "",
       "version_major": 2,
       "version_minor": 0
      },
      "text/plain": [
       "seed:   0%|          | 0/1 [00:00<?, ?it/s]"
      ]
     },
     "metadata": {},
     "output_type": "display_data"
    }
   ],
   "source": [
    "seeds = [0]\n",
    "# inc_grid = np.arange(4, 24, 2, dtype=float)\n",
    "inc_grid = [12]\n",
    "\n",
    "view_zeniths = [np.deg2rad(35), np.deg2rad(65)]\n",
    "\n",
    "jit = False if len(view_zeniths) < 5 else True\n",
    "resolution = 256\n",
    "bh_radius = 1 + np.sqrt(1-spin**2)\n",
    "cam_r = 55.\n",
    "linewidth = 0.14\n",
    "norm_const =  0.05\n",
    "\n",
    "visualizer = bhnerf.visualization.VolumeVisualizer(resolution, resolution, resolution)\n",
    "\n",
    "images = []\n",
    "for zenith in tqdm(view_zeniths, desc='view angle'):\n",
    "    emission = 0\n",
    "    visualizer.set_view(cam_r=cam_r, domain_r=rmax, azimuth=0.0, zenith=zenith)\n",
    "    for inc in tqdm(inc_grid, desc='inc', leave=False):\n",
    "        for seed in tqdm(seeds, desc='seed', leave=False):\n",
    "            checkpoint_dir = recovery_path.joinpath(basename.format(inc, seed))\n",
    "            emission += sample_3D_recovery(checkpoint_dir, visualizer.coords, chunk=32) / (len(seeds)*len(inc_grid))\n",
    "        \n",
    "    image = visualizer.render(emission / norm_const, facewidth=1.9*rmax, jit=jit, bh_radius=bh_radius, linewidth=linewidth).clip(a_max=1)\n",
    "    images.append(image)"
   ]
  },
  {
   "cell_type": "code",
   "execution_count": 70,
   "id": "a1446ba8-bcc3-4dac-85f4-1db063256942",
   "metadata": {},
   "outputs": [
    {
     "data": {
      "application/vnd.jupyter.widget-view+json": {
       "model_id": "7f3ebfb6a2824643bb19c665569b09c5",
       "version_major": 2,
       "version_minor": 0
      },
      "text/plain": [
       "Canvas(toolbar=Toolbar(toolitems=[('Home', 'Reset original view', 'home', 'home'), ('Back', 'Back to previous …"
      ]
     },
     "metadata": {},
     "output_type": "display_data"
    }
   ],
   "source": [
    "from mpl_toolkits.axes_grid1 import make_axes_locatable\n",
    "from matplotlib.colors import Normalize\n",
    "\n",
    "fig, axes = plt.subplots(1, len(images), figsize=(9,4))\n",
    "for ax, image in zip(axes, images):\n",
    "    ax.imshow(image)\n",
    "    ax.set_axis_off()\n",
    "\n",
    "ax = fig.add_subplot(132)\n",
    "ax.set_visible(False)\n",
    "divider = make_axes_locatable(ax)\n",
    "cax = divider.append_axes('bottom', size='3%', pad=-1)\n",
    "cmap = plt.cm.ScalarMappable(norm=Normalize(0, norm_const, clip=True), cmap=plt.get_cmap('hot'))\n",
    "cbar = fig.colorbar(cmap, cax=cax, orientation='horizontal', shrink=.0)\n",
    "cbar.ax.tick_params(labelsize=12) \n",
    "plt.tight_layout()\n",
    "\n",
    "outname = '3D_Recovery_seeds_{}_incs_{}.pdf'.format('-'.join([str(seed) for seed in seeds]), '-'.join([str(int(inc)) for inc in inc_grid]))\n",
    "plt.savefig(outpath.joinpath(outname), bbox_inches='tight')"
   ]
  },
  {
   "cell_type": "markdown",
   "id": "4e771770-2345-4e90-8759-393986a93d3a",
   "metadata": {
    "tags": []
   },
   "source": [
    "# Animate recoveries\n"
   ]
  },
  {
   "cell_type": "code",
   "execution_count": 6,
   "id": "92474708-fedf-4980-910d-bd496e5581c1",
   "metadata": {},
   "outputs": [],
   "source": [
    "from matplotlib import animation\n",
    "\n",
    "def animate_synced(movie1, movie2, loss, inc_grid, axes, cmap='RdBu_r', fps=10, output=None, writer='imagemagick'):\n",
    "\n",
    "    def animate_both(i):\n",
    "        return animate_frame(i), animate_plot(i)\n",
    "        \n",
    "    # Image animation function (called sequentially)\n",
    "    def animate_frame(i):\n",
    "        axes[0].set_title('Emission estimate: inc={:1.1f}'.format(inc_grid[i]))\n",
    "        im1.set_array(movie1[i])\n",
    "        \n",
    "        axes[1].set_title('Emission estimate: inc={:1.1f}'.format(inc_grid[i]))\n",
    "        im2.set_array(movie2[i])\n",
    "        return im1, im2\n",
    "    \n",
    "    def animate_plot(i):\n",
    "        line.set_xdata(inc_grid[i])\n",
    "        return line,\n",
    "    \n",
    "    num_frames = len(movie1)\n",
    "    \n",
    "    fig = plt.gcf()\n",
    "    axes[0].set_title('Emission estimate')\n",
    "    axes[0].set_xticks([])\n",
    "    axes[0].set_yticks([])\n",
    "    \n",
    "    im1 =  axes[0].imshow(np.zeros_like(movie1[0]))\n",
    "    im2 =  axes[1].imshow(np.zeros_like(movie2[0]))\n",
    "    axes[2].plot(inc_grid, loss)\n",
    "    line = axes[2].axvline(0, color='green', linestyle='--', label='inc hypothesis')\n",
    "    axes[2].set_title('Inclination Log(loss)')\n",
    "    axes[2].legend(loc='upper left')\n",
    "    \n",
    "    plt.tight_layout()\n",
    "    anim = animation.FuncAnimation(fig, animate_both, frames=num_frames, interval=1e3 / fps)\n",
    "\n",
    "    if output is not None:\n",
    "        anim.save(output, writer=writer, fps=fps)\n",
    "    return anim"
   ]
  },
  {
   "cell_type": "code",
   "execution_count": 8,
   "id": "2859c1f6-b938-4cfd-8127-73bc65d90d27",
   "metadata": {},
   "outputs": [],
   "source": [
    "checkpoint_dir_fmt = '../checkpoints/alma/intrinsic_fits/const_I/' + \\\n",
    "                      'IQU.sigmas_1e-01_1e-02_1e-02.spin_0.0.initkey{}.rmin6.0.z_width4.scale1.0.Qfrac{:.1f}.inc_{:1.1f}/'\n",
    "inc_grid = np.deg2rad(np.linspace(2, 80, 40))\n",
    "seeds = [2, 3, 4]\n",
    "Q_frac = 0.85"
   ]
  },
  {
   "cell_type": "code",
   "execution_count": 8,
   "id": "56a8c690-d0d0-4740-b89a-2d6cc21dcf3b",
   "metadata": {},
   "outputs": [
    {
     "data": {
      "application/vnd.jupyter.widget-view+json": {
       "model_id": "073a801e02664046b68615ec42015a60",
       "version_major": 2,
       "version_minor": 0
      },
      "text/plain": [
       "seed:   0%|          | 0/3 [00:00<?, ?it/s]"
      ]
     },
     "metadata": {},
     "output_type": "display_data"
    },
    {
     "data": {
      "application/vnd.jupyter.widget-view+json": {
       "model_id": "",
       "version_major": 2,
       "version_minor": 0
      },
      "text/plain": [
       "inc:   0%|          | 0/40 [00:00<?, ?it/s]"
      ]
     },
     "metadata": {},
     "output_type": "display_data"
    },
    {
     "data": {
      "application/vnd.jupyter.widget-view+json": {
       "model_id": "",
       "version_major": 2,
       "version_minor": 0
      },
      "text/plain": [
       "inc:   0%|          | 0/40 [00:00<?, ?it/s]"
      ]
     },
     "metadata": {},
     "output_type": "display_data"
    },
    {
     "data": {
      "application/vnd.jupyter.widget-view+json": {
       "model_id": "",
       "version_major": 2,
       "version_minor": 0
      },
      "text/plain": [
       "inc:   0%|          | 0/40 [00:00<?, ?it/s]"
      ]
     },
     "metadata": {},
     "output_type": "display_data"
    }
   ],
   "source": [
    "import warnings\n",
    "warnings.simplefilter(\"ignore\")\n",
    "\n",
    "batchsize = 20\n",
    "J_inds = [['I', 'Q', 'U'].index(s) for s in stokes]\n",
    "\n",
    "loss = np.full((len(seeds), len(inc_grid)), fill_value=np.nan)\n",
    "\n",
    "for i, seed in enumerate(tqdm(seeds, desc='seed')):\n",
    "    for j, inclination in enumerate(tqdm(inc_grid, desc='inc', leave=False)):\n",
    "        checkpoint_dir = checkpoint_dir_fmt.format(seed, Q_frac, np.rad2deg(inclination))\n",
    "        if os.path.exists(checkpoint_dir):\n",
    "            predictor = bhnerf.network.NeRF_Predictor.from_yml(checkpoint_dir)\n",
    "\n",
    "            geos = bhnerf.kgeo.image_plane_geos(\n",
    "                spin, inclination, \n",
    "                num_alpha=64, num_beta=64, \n",
    "                alpha_range=[-rmax, rmax],\n",
    "                beta_range=[-rmax, rmax]\n",
    "            )\n",
    "            geos = geos.fillna(0.0)\n",
    "            t_injection = -float(geos.r_o + fov_M/4)\n",
    "\n",
    "            # Keplerian prograde velocity field\n",
    "            Omega = rot_sign[Omega_dir] * np.sqrt(geos.M) / (geos.r**(3/2) + geos.spin * np.sqrt(geos.M))\n",
    "            # Omega = rot_sign[Omega_dir] * np.sqrt(geos.M) / (11.0**(3/2) + geos.spin * np.sqrt(geos.M))\n",
    "\n",
    "            umu = bhnerf.kgeo.azimuthal_velocity_vector(geos, Omega)\n",
    "            g = bhnerf.kgeo.doppler_factor(geos, umu)\n",
    "            b = bhnerf.kgeo.magnetic_field(geos, *b_consts)\n",
    "            J = np.nan_to_num(bhnerf.kgeo.parallel_transport(geos, umu, g, b, Q_frac=Q_frac, V_frac=0), 0.0)[J_inds]\n",
    "            J_rot = bhnerf.emission.rotate_evpa(J, de_rot_model)\n",
    "            raytracing_args = bhnerf.network.raytracing_args(geos, Omega, t_injection, t_frames[0], J_rot)\n",
    "            params = predictor.init_params(raytracing_args)\n",
    "            state = predictor.init_state(params, checkpoint_dir=checkpoint_dir)\n",
    "            loss[i, j] = bhnerf.optimization.total_movie_loss(batchsize, state, train_step, raytracing_args)"
   ]
  },
  {
   "cell_type": "code",
   "execution_count": 23,
   "id": "329e1b87-3b4e-411b-9ddf-bfd6e585530d",
   "metadata": {},
   "outputs": [
    {
     "data": {
      "application/vnd.jupyter.widget-view+json": {
       "model_id": "d78f5d572bf4462da853001837b6f15d",
       "version_major": 2,
       "version_minor": 0
      },
      "text/plain": [
       "Canvas(toolbar=Toolbar(toolitems=[('Home', 'Reset original view', 'home', 'home'), ('Back', 'Back to previous …"
      ]
     },
     "metadata": {},
     "output_type": "display_data"
    }
   ],
   "source": [
    "%matplotlib widget\n",
    "for i in range(len(seeds)):\n",
    "    plt.scatter(np.rad2deg(inc_grid), loss[i],  marker='^')"
   ]
  },
  {
   "cell_type": "code",
   "execution_count": null,
   "id": "75488372-e348-44cd-b2e2-54ce04d3926d",
   "metadata": {},
   "outputs": [],
   "source": [
    "plt.rcParams.update({\n",
    "    \"text.usetex\": True,\n",
    "    \"font.family\": \"Helvetica\"\n",
    "})\n"
   ]
  },
  {
   "cell_type": "code",
   "execution_count": 66,
   "id": "1eff1479-00f7-4dfc-883b-f8eee02f9d36",
   "metadata": {},
   "outputs": [
    {
     "data": {
      "application/vnd.jupyter.widget-view+json": {
       "model_id": "e5bdd94bbff242e5907c189be8041a6d",
       "version_major": 2,
       "version_minor": 0
      },
      "text/plain": [
       "Canvas(toolbar=Toolbar(toolitems=[('Home', 'Reset original view', 'home', 'home'), ('Back', 'Back to previous …"
      ]
     },
     "metadata": {},
     "output_type": "display_data"
    }
   ],
   "source": [
    "%matplotlib widget\n",
    "plt.figure(figsize=(5,4))\n",
    "plt.errorbar(np.rad2deg(inc_grid)[1:], np.nanmean(np.log(loss/nt), axis=0)[1:],  \n",
    "             np.nanstd(np.log(loss/nt), axis=0)[1:], marker='^', mfc='r', mec='r')\n",
    "plt.title(r'Inclination data-fit: $\\log \\chi^2(\\theta | \\hat{\\bf w})$', fontsize=16)\n",
    "plt.xticks(fontsize='14')\n",
    "plt.yticks(fontsize='14')\n",
    "plt.axhline(0, color='black', linestyle='--',linewidth=1)\n",
    "plt.savefig('alma/inclination_loss.pdf')"
   ]
  },
  {
   "cell_type": "code",
   "execution_count": 19,
   "id": "44903076-74d2-4794-9fd1-ae11b81cffda",
   "metadata": {},
   "outputs": [
    {
     "data": {
      "application/vnd.jupyter.widget-view+json": {
       "model_id": "c060a63e66da4afba943b922e30a0740",
       "version_major": 2,
       "version_minor": 0
      },
      "text/plain": [
       "Canvas(toolbar=Toolbar(toolitems=[('Home', 'Reset original view', 'home', 'home'), ('Back', 'Back to previous …"
      ]
     },
     "metadata": {},
     "output_type": "display_data"
    },
    {
     "data": {
      "text/plain": [
       "<matplotlib.collections.PathCollection at 0x7f9cd8057f10>"
      ]
     },
     "execution_count": 19,
     "metadata": {},
     "output_type": "execute_result"
    }
   ],
   "source": [
    "%matplotlib widget\n",
    "plt.scatter(np.rad2deg(inc_grid), np.log(loss),  marker='^')"
   ]
  },
  {
   "cell_type": "code",
   "execution_count": 18,
   "id": "fca196da-7381-4944-9eeb-507b7e402dfd",
   "metadata": {},
   "outputs": [
    {
     "data": {
      "application/vnd.jupyter.widget-view+json": {
       "model_id": "06e55a75d0794da9849621c1bbe6a70f",
       "version_major": 2,
       "version_minor": 0
      },
      "text/plain": [
       "inc:   0%|          | 0/40 [00:00<?, ?it/s]"
      ]
     },
     "metadata": {},
     "output_type": "display_data"
    }
   ],
   "source": [
    "import warnings\n",
    "warnings.simplefilter(\"ignore\")\n",
    "\n",
    "batchsize = 20\n",
    "stokes= ['Q', 'U']\n",
    "target_qu = target[:,1:]\n",
    "train_step = bhnerf.optimization.TrainStep.image(t_frames, target_qu, sigma[1:], dtype='lc')\n",
    "J_inds = [['I', 'Q', 'U'].index(s) for s in stokes]\n",
    "\n",
    "loss_qu = []\n",
    "for inclination in tqdm(inc_grid, desc='inc'):\n",
    "    \n",
    "    checkpoint_dir = checkpoint_dir_fmt.format(np.rad2deg(inclination))\n",
    "    if os.path.exists(checkpoint_dir):\n",
    "        predictor = bhnerf.network.NeRF_Predictor.from_yml(checkpoint_dir)\n",
    "\n",
    "        geos = bhnerf.kgeo.image_plane_geos(\n",
    "            spin, inclination, \n",
    "            num_alpha=64, num_beta=64, \n",
    "            alpha_range=[-rmax, rmax],\n",
    "            beta_range=[-rmax, rmax]\n",
    "        )\n",
    "        geos = geos.fillna(0.0)\n",
    "        t_injection = -float(geos.r_o + fov_M/4)\n",
    "\n",
    "        # Keplerian prograde velocity field\n",
    "        Omega = rot_sign[Omega_dir] * np.sqrt(geos.M) / (geos.r**(3/2) + geos.spin * np.sqrt(geos.M))\n",
    "        # Omega = rot_sign[Omega_dir] * np.sqrt(geos.M) / (11.0**(3/2) + geos.spin * np.sqrt(geos.M))\n",
    "\n",
    "        umu = bhnerf.kgeo.azimuthal_velocity_vector(geos, Omega)\n",
    "        g = bhnerf.kgeo.doppler_factor(geos, umu)\n",
    "        b = bhnerf.kgeo.magnetic_field(geos, *b_consts)\n",
    "        J = np.nan_to_num(bhnerf.kgeo.parallel_transport(geos, umu, g, b, Q_frac=Q_frac, V_frac=0), 0.0)[J_inds]\n",
    "        J_rot = bhnerf.emission.rotate_evpa(J, de_rot_model)\n",
    "        raytracing_args = bhnerf.network.raytracing_args(geos, Omega, t_injection, t_frames[0], J_rot)\n",
    "        params = predictor.init_params(raytracing_args)\n",
    "        state = predictor.init_state(params, checkpoint_dir=checkpoint_dir)\n",
    "\n",
    "        loss_qu.append(bhnerf.optimization.total_movie_loss(batchsize, state, train_step, raytracing_args))\n",
    "    else:\n",
    "        loss_qu.append(np.nan)\n",
    "    \n",
    "loss_qu = np.array(loss_qu)"
   ]
  },
  {
   "cell_type": "code",
   "execution_count": 18,
   "id": "cb8e9f07-2ee6-4cd5-9602-7e272d9a6402",
   "metadata": {},
   "outputs": [
    {
     "data": {
      "application/vnd.jupyter.widget-view+json": {
       "model_id": "33131ec844004b75a682a03584baa922",
       "version_major": 2,
       "version_minor": 0
      },
      "text/plain": [
       "inc:   0%|          | 0/40 [00:00<?, ?it/s]"
      ]
     },
     "metadata": {},
     "output_type": "display_data"
    }
   ],
   "source": [
    "checkpoint_dir_fmt = '../checkpoints/alma/intrinsic_fits/inc_scan_const_omega_r_11/' + \\\n",
    "                     'QU.spin_0.0.initkey2.rmin6.0.z_width4.inc_{:1.1f}/'\n",
    "\n",
    "import warnings\n",
    "warnings.simplefilter(\"ignore\")\n",
    "\n",
    "batchsize = 20\n",
    "J_inds = [['I', 'Q', 'U'].index(s) for s in stokes]\n",
    "\n",
    "loss_noshear = []\n",
    "for inclination in tqdm(inc_grid, desc='inc'):\n",
    "    checkpoint_dir = checkpoint_dir_fmt.format(np.rad2deg(inclination))\n",
    "    predictor = bhnerf.network.NeRF_Predictor.from_yml(checkpoint_dir)\n",
    "        \n",
    "    geos = bhnerf.kgeo.image_plane_geos(\n",
    "        spin, inclination, \n",
    "        num_alpha=64, num_beta=64, \n",
    "        alpha_range=[-rmax, rmax],\n",
    "        beta_range=[-rmax, rmax]\n",
    "    )\n",
    "    geos = geos.fillna(0.0)\n",
    "    t_injection = -float(geos.r_o)\n",
    "\n",
    "    # Keplerian prograde velocity field\n",
    "    # Omega = rot_sign[Omega_dir] * np.sqrt(geos.M) / (geos.r**(3/2) + geos.spin * np.sqrt(geos.M))\n",
    "    Omega = rot_sign[Omega_dir] * np.sqrt(geos.M) / (11.0**(3/2) + geos.spin * np.sqrt(geos.M))\n",
    "    \n",
    "    umu = bhnerf.kgeo.azimuthal_velocity_vector(geos, Omega)\n",
    "    g = bhnerf.kgeo.doppler_factor(geos, umu)\n",
    "    b = bhnerf.kgeo.magnetic_field(geos, *b_consts)\n",
    "    J = np.nan_to_num(bhnerf.kgeo.parallel_transport(geos, umu, g, b, Q_frac=Q_frac, V_frac=0), 0.0)[J_inds]\n",
    "    J_rot = bhnerf.emission.rotate_evpa(J, de_rot_model)\n",
    "    raytracing_args = bhnerf.network.raytracing_args(geos, Omega, t_injection, t_frames[0], J_rot)\n",
    "    params = predictor.init_params(raytracing_args)\n",
    "    state = predictor.init_state(params, checkpoint_dir=checkpoint_dir)\n",
    "    \n",
    "    loss_noshear.append(bhnerf.optimization.total_movie_loss(batchsize, state, train_step, raytracing_args))\n",
    "    \n",
    "loss_noshear = np.array(loss_noshear)"
   ]
  },
  {
   "cell_type": "code",
   "execution_count": 38,
   "id": "52266dbb-f812-4b7d-94b0-ddeeea7ff972",
   "metadata": {},
   "outputs": [
    {
     "data": {
      "application/vnd.jupyter.widget-view+json": {
       "model_id": "13ccf56c2800446d9764c2646975cc63",
       "version_major": 2,
       "version_minor": 0
      },
      "text/plain": [
       "Canvas(toolbar=Toolbar(toolitems=[('Home', 'Reset original view', 'home', 'home'), ('Back', 'Back to previous …"
      ]
     },
     "metadata": {},
     "output_type": "display_data"
    }
   ],
   "source": [
    "%matplotlib widget\n",
    "\n",
    "snr = 1\n",
    "min_loss = np.rad2deg(inc_grid)[np.argmin(loss)]\n",
    "plt.title('Inclination data-fit [log-scale]')\n",
    "plt.scatter(np.rad2deg(inc_grid), np.log(loss * snr), label='With shear', marker='x')\n",
    "plt.scatter(np.rad2deg(inc_grid), np.log(loss_noshear * snr), label='Without shear', marker='^')\n",
    "plt.legend()\n",
    "plt.savefig('alma/intrinsic fits/inc_loss_both.pdf')"
   ]
  },
  {
   "cell_type": "markdown",
   "id": "cadc8199-4c51-40ff-98e2-b78e129ba7d6",
   "metadata": {
    "tags": []
   },
   "source": [
    "## Animate recovered volumes"
   ]
  },
  {
   "cell_type": "code",
   "execution_count": 16,
   "id": "30bbc1bc-d2ac-4903-81c8-337fabdfe6b3",
   "metadata": {
    "tags": []
   },
   "outputs": [
    {
     "data": {
      "application/vnd.jupyter.widget-view+json": {
       "model_id": "2428b3f304f14b868c0ded5a31766417",
       "version_major": 2,
       "version_minor": 0
      },
      "text/plain": [
       "  0%|          | 0/9 [00:00<?, ?it/s]"
      ]
     },
     "metadata": {},
     "output_type": "display_data"
    },
    {
     "ename": "IndexError",
     "evalue": "Replacement index 2 out of range for positional args tuple",
     "output_type": "error",
     "traceback": [
      "\u001b[0;31m---------------------------------------------------------------------------\u001b[0m",
      "\u001b[0;31mIndexError\u001b[0m                                Traceback (most recent call last)",
      "\u001b[0;32m/tmp/ipykernel_47422/2437357878.py\u001b[0m in \u001b[0;36m<module>\u001b[0;34m\u001b[0m\n\u001b[1;32m     18\u001b[0m \u001b[0mimages1\u001b[0m\u001b[0;34m,\u001b[0m \u001b[0mimages2\u001b[0m \u001b[0;34m=\u001b[0m \u001b[0;34m[\u001b[0m\u001b[0;34m]\u001b[0m\u001b[0;34m,\u001b[0m \u001b[0;34m[\u001b[0m\u001b[0;34m]\u001b[0m\u001b[0;34m\u001b[0m\u001b[0;34m\u001b[0m\u001b[0m\n\u001b[1;32m     19\u001b[0m \u001b[0;32mfor\u001b[0m \u001b[0mi\u001b[0m\u001b[0;34m,\u001b[0m \u001b[0minclination\u001b[0m \u001b[0;32min\u001b[0m \u001b[0menumerate\u001b[0m\u001b[0;34m(\u001b[0m\u001b[0mtqdm\u001b[0m\u001b[0;34m(\u001b[0m\u001b[0minc_grid\u001b[0m\u001b[0;34m)\u001b[0m\u001b[0;34m)\u001b[0m\u001b[0;34m:\u001b[0m\u001b[0;34m\u001b[0m\u001b[0;34m\u001b[0m\u001b[0m\n\u001b[0;32m---> 20\u001b[0;31m     \u001b[0mcheckpoint_dir\u001b[0m \u001b[0;34m=\u001b[0m \u001b[0mcheckpoint_dir_fmt\u001b[0m\u001b[0;34m.\u001b[0m\u001b[0mformat\u001b[0m\u001b[0;34m(\u001b[0m\u001b[0mQ_frac\u001b[0m\u001b[0;34m,\u001b[0m \u001b[0minclination\u001b[0m\u001b[0;34m)\u001b[0m\u001b[0;34m\u001b[0m\u001b[0;34m\u001b[0m\u001b[0m\n\u001b[0m\u001b[1;32m     21\u001b[0m     \u001b[0mpredictor\u001b[0m \u001b[0;34m=\u001b[0m \u001b[0mbhnerf\u001b[0m\u001b[0;34m.\u001b[0m\u001b[0mnetwork\u001b[0m\u001b[0;34m.\u001b[0m\u001b[0mNeRF_Predictor\u001b[0m\u001b[0;34m.\u001b[0m\u001b[0mfrom_yml\u001b[0m\u001b[0;34m(\u001b[0m\u001b[0mcheckpoint_dir\u001b[0m\u001b[0;34m)\u001b[0m\u001b[0;34m\u001b[0m\u001b[0;34m\u001b[0m\u001b[0m\n\u001b[1;32m     22\u001b[0m     \u001b[0mstate\u001b[0m \u001b[0;34m=\u001b[0m \u001b[0mcheckpoints\u001b[0m\u001b[0;34m.\u001b[0m\u001b[0mrestore_checkpoint\u001b[0m\u001b[0;34m(\u001b[0m\u001b[0mcheckpoint_dir\u001b[0m\u001b[0;34m,\u001b[0m \u001b[0;32mNone\u001b[0m\u001b[0;34m)\u001b[0m\u001b[0;34m\u001b[0m\u001b[0;34m\u001b[0m\u001b[0m\n",
      "\u001b[0;31mIndexError\u001b[0m: Replacement index 2 out of range for positional args tuple"
     ]
    }
   ],
   "source": [
    "\"\"\"\n",
    "Animate the recovered volumes from two view angles.\n",
    "Note: this is time consuming to produce high res images.\n",
    "\"\"\"\n",
    "seed = 2\n",
    "inc_grid = list(range(4, 22, 2))\n",
    "from flax.training import checkpoints\n",
    "\n",
    "jit = True\n",
    "resolution = 256\n",
    "bh_radius = 2.0\n",
    "cam_r = 55.\n",
    "linewidth = 0.1\n",
    "bh_radius = 1 + np.sqrt(1-spin**2)\n",
    "norm_const =  0.1\n",
    "visualizer = bhnerf.visualization.VolumeVisualizer(resolution, resolution, resolution)\n",
    "visualizer.set_view(cam_r=cam_r, domain_r=rmax, azimuth=0.0, zenith=np.deg2rad(35))\n",
    "\n",
    "images1, images2 = [], []\n",
    "for i, inclination in enumerate(tqdm(inc_grid)):\n",
    "    checkpoint_dir = checkpoint_dir_fmt.format(seed, Q_frac, inclination)\n",
    "    predictor = bhnerf.network.NeRF_Predictor.from_yml(checkpoint_dir)\n",
    "    state = checkpoints.restore_checkpoint(checkpoint_dir, None)\n",
    "    \n",
    "    emission = bhnerf.network.sample_3d_grid(predictor.apply, state['params'], \n",
    "                                             coords=visualizer.coords, chunk=32)\n",
    "    image = visualizer.render(emission / norm_const, facewidth=1.9*rmax, jit=jit, \n",
    "                              bh_radius=bh_radius, linewidth=linewidth)\n",
    "    images1.append(image.clip(a_max=1))\n",
    "    \n",
    "    visualizer.set_view(cam_r=cam_r, domain_r=rmax, azimuth=0.0, zenith=np.deg2rad(65))\n",
    "    emission = bhnerf.network.sample_3d_grid(predictor.apply, state['params'], \n",
    "                                             coords=visualizer.coords, chunk=32)\n",
    "    image = visualizer.render(emission / norm_const, facewidth=1.9*rmax, jit=jit, \n",
    "                              bh_radius=bh_radius, linewidth=linewidth)\n",
    "    images2.append(image.clip(a_max=1))"
   ]
  },
  {
   "cell_type": "code",
   "execution_count": null,
   "id": "8ca4071b-80b1-4dfc-bf77-bcb85cf6d505",
   "metadata": {},
   "outputs": [],
   "source": [
    "%matplotlib widget\n",
    "\n",
    "fig, axes = plt.subplots(1, 3,figsize=(9,3.5))\n",
    "output = 'alma/intrinsic fits/emission_estimate_1fps.mp4'\n",
    "animate_synced(images, images_view2, np.log(loss), np.rad2deg(inc_grid), axes, output=output, fps=1, , writer='ffmpeg')"
   ]
  },
  {
   "cell_type": "markdown",
   "id": "ca6d57dd-360f-43fe-ba06-0036bbe39017",
   "metadata": {},
   "source": [
    "## Animate data fits across inclinations"
   ]
  },
  {
   "cell_type": "code",
   "execution_count": 79,
   "id": "4015c228-e9e4-421b-b5b0-4ec8750bb258",
   "metadata": {
    "tags": []
   },
   "outputs": [
    {
     "data": {
      "application/vnd.jupyter.widget-view+json": {
       "model_id": "a07a582cb5e54df6b6d0d006ecfc6da3",
       "version_major": 2,
       "version_minor": 0
      },
      "text/plain": [
       "inc:   0%|          | 0/40 [00:00<?, ?it/s]"
      ]
     },
     "metadata": {},
     "output_type": "display_data"
    },
    {
     "name": "stderr",
     "output_type": "stream",
     "text": [
      "WARNING:imageio_ffmpeg:IMAGEIO FFMPEG_WRITER WARNING: input image is not divisible by macro_block_size=16, resizing from (1400, 350) to (1408, 352) to ensure video compatibility with most codecs and players. To prevent resizing, make your input image divisible by the macro_block_size or set the macro_block_size to 1 (risking incompatibility).\n"
     ]
    }
   ],
   "source": [
    "%matplotlib inline\n",
    "\n",
    "import glob, warnings, subprocess\n",
    "from pathlib import Path\n",
    "import imageio\n",
    "\n",
    "plt.style.use('default')\n",
    "\n",
    "warnings.simplefilter(\"ignore\")\n",
    "\n",
    "directory = 'alma/datafit/'\n",
    "frame_fmt = directory + 'frame{:03d}.png'\n",
    "Path(directory).mkdir(parents=True, exist_ok=True)\n",
    "gif_writer = imageio.get_writer(directory + 'datafit.gif', fps=1)\n",
    "mp4_writer = imageio.get_writer(directory + 'datafit.mp4', fps=1)\n",
    "\n",
    "stokes = ['Q', 'U']\n",
    "J_inds = [['I', 'Q', 'U'].index(s) for s in stokes]\n",
    "target = np.array(alma_lc_means[stokes])\n",
    "sigma = 1.0\n",
    "snr = 1.0\n",
    "batchsize = 20\n",
    "train_step = bhnerf.optimization.TrainStep.image(t_frames, target, sigma, dtype='lc')\n",
    "\n",
    "for i, inclination in enumerate(tqdm(inc_grid, desc='inc')):\n",
    "    checkpoint_dir = checkpoint_dir_fmt.format(np.rad2deg(inclination))\n",
    "    \n",
    "    geos = bhnerf.kgeo.image_plane_geos(\n",
    "        spin, inclination, \n",
    "        num_alpha=64, num_beta=64, \n",
    "        alpha_range=[-rmax, rmax],\n",
    "        beta_range=[-rmax, rmax]\n",
    "    )\n",
    "    geos = geos.fillna(0.0)\n",
    "    t_injection = -float(geos.r_o)\n",
    "\n",
    "    # Keplerian prograde velocity field\n",
    "    Omega = rot_sign[Omega_dir] * np.sqrt(geos.M) / (geos.r**(3/2) + geos.spin * np.sqrt(geos.M))\n",
    "    umu = bhnerf.kgeo.azimuthal_velocity_vector(geos, Omega)\n",
    "    g = bhnerf.kgeo.doppler_factor(geos, umu)\n",
    "    b = bhnerf.kgeo.magnetic_field(geos, *b_consts)\n",
    "    J = np.nan_to_num(bhnerf.kgeo.parallel_transport(geos, umu, g, b, Q_frac=Q_frac, V_frac=0), 0.0)\n",
    "    \n",
    "    raytracing_args = bhnerf.network.raytracing_args(geos, Omega, t_injection, t_frames[0], J[J_inds])\n",
    "    predictor = bhnerf.network.NeRF_Predictor.from_yml(checkpoint_dir)\n",
    "    params = predictor.init_params(raytracing_args)\n",
    "    state = predictor.init_state(params, checkpoint_dir=checkpoint_dir)\n",
    "    \n",
    "    _, movie = bhnerf.optimization.total_movie_loss(batchsize, state, train_step, raytracing_args, True)\n",
    "    lc_est = movie.sum(axis=(-1,-2))\n",
    "    \n",
    "    fig, axes = plt.subplots(1, 4, figsize=(14, 3.5))\n",
    "    axes[3].set_title(r'Inclination log(loss): ${:1.1f}^\\circ$'.format(np.rad2deg(inclination)))\n",
    "    axes[3].plot(np.rad2deg(inc_grid), np.log(loss * snr))\n",
    "    axes[3].axvline(np.rad2deg(inclination), color='green', linestyle='--', label='inc hypothesis')\n",
    "    bhnerf.visualization.plot_stokes_lc(target, stokes, t_frames, axes=axes[:3], label='True')\n",
    "    bhnerf.visualization.plot_stokes_lc(lc_est, stokes, t_frames, axes=axes[:3], color='r', fmt='x', label='Estimate')\n",
    "    for ax in axes:\n",
    "        ax.legend()\n",
    "        \n",
    "    plt.savefig(frame_fmt.format(i), dpi=100)\n",
    "    plt.close()\n",
    "    \n",
    "    im = imageio.imread(frame_fmt.format(i))\n",
    "    gif_writer.append_data(im)\n",
    "    mp4_writer.append_data(im)\n",
    "    \n",
    "gif_writer.close()\n",
    "mp4_writer.close()"
   ]
  }
 ],
 "metadata": {
  "kernelspec": {
   "display_name": "jax",
   "language": "python",
   "name": "jax"
  },
  "language_info": {
   "codemirror_mode": {
    "name": "ipython",
    "version": 3
   },
   "file_extension": ".py",
   "mimetype": "text/x-python",
   "name": "python",
   "nbconvert_exporter": "python",
   "pygments_lexer": "ipython3",
   "version": "3.9.6"
  }
 },
 "nbformat": 4,
 "nbformat_minor": 5
}
