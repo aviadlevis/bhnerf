{
 "cells": [
  {
   "cell_type": "markdown",
   "id": "14a3ac3c-0d93-491f-aa27-3a6388484dc3",
   "metadata": {
    "tags": []
   },
   "source": [
    "# Estimating hotspot(s) emission and rotational axis from visibilties. \n",
    "\n",
    "Notes:\n",
    "Inner most stable circular orbit (ISCO), for spin=0 with r_g=2 this is at 3M \\\n",
    "Overleaf notes: https://www.overleaf.com/project/60ff0ece5aa4f90d07f2a417"
   ]
  },
  {
   "cell_type": "code",
   "execution_count": 1,
   "id": "d450b1d8-b7b0-4731-a8f2-1a9772547f3a",
   "metadata": {
    "tags": []
   },
   "outputs": [
    {
     "name": "stderr",
     "output_type": "stream",
     "text": [
      "Matplotlib created a temporary config/cache directory at /tmp/matplotlib-br_p2cvn because the default path (/home/jovyan/.cache/matplotlib) is not a writable directory; it is highly recommended to set the MPLCONFIGDIR environment variable to a writable directory, in particular to speed up the import of Matplotlib and to better support multiprocessing.\n"
     ]
    },
    {
     "name": "stdout",
     "output_type": "stream",
     "text": [
      "Welcome to eht-imaging! v 1.2.2 \n",
      "\n"
     ]
    }
   ],
   "source": [
    "import sys\n",
    "sys.path.append('../bhnerf')\n",
    "\n",
    "import os\n",
    "\n",
    "import jax\n",
    "from jax import random\n",
    "from jax import numpy as jnp\n",
    "import jax.scipy.ndimage as jnd\n",
    "import scipy.ndimage as nd\n",
    "\n",
    "os.environ['CUDA_VISIBLE_DEVICES'] = '1'\n",
    "\n",
    "import xarray as xr\n",
    "import flax\n",
    "from flax.training import train_state\n",
    "import optax\n",
    "import numpy as np\n",
    "import matplotlib.pyplot as plt\n",
    "\n",
    "import utils, emission_utils, visualization, network_utils, observation_utils\n",
    "from network_utils import shard\n",
    "\n",
    "import ehtim as eh\n",
    "import ehtim.const_def as ehc\n",
    "from tensorboardX import SummaryWriter\n",
    "from datetime import datetime\n",
    "from tqdm.notebook import tqdm\n",
    "import ipyvolume as ipv\n",
    "from ipywidgets import interact\n",
    "import ipywidgets as widgets\n",
    "\n",
    "# from jax.config import config\n",
    "# config.update(\"jax_debug_nans\", True)\n",
    "%load_ext autoreload\n",
    "%autoreload 2"
   ]
  },
  {
   "cell_type": "code",
   "execution_count": 73,
   "id": "bf18daf3-00ef-4232-81d1-0ba48a800005",
   "metadata": {},
   "outputs": [],
   "source": [
    "def intensity_to_nchw(intensity, cmap='viridis', gamma=0.5):\n",
    "    cm = plt.get_cmap(cmap)\n",
    "    norm_images = ( (intensity - np.min(intensity)) / (np.max(intensity) - np.min(intensity)) )**gamma\n",
    "    nchw_images = np.moveaxis(cm(norm_images)[...,:3], (0, 1, 2, 3), (3, 2, 0, 1))\n",
    "    return nchw_images\n",
    "\n",
    "def train_network(sensor, emission, emission_test, velocity_field, obs_times, hparams, runname, \n",
    "                  log_period=100, x_res_vis=64, y_res_vis=64, z_res_vis=64):\n",
    "    \n",
    "    tstart = obs_times[0]\n",
    "    tstop = obs_times[-1]\n",
    "\n",
    "    # Training / testing coordinates\n",
    "    train_coords = network_utils.get_input_coords(sensor, t_array=obs_times, batch='t')\n",
    "    t, x, y, z, d = train_coords.values()\n",
    "    t = obs_times\n",
    "    train_vis = measurements\n",
    "\n",
    "    test_coords = network_utils.get_input_coords(sensor, t_array=obs_times, batch='t')\n",
    "    test_vis = measurements_test\n",
    "    t_test, x_test, y_test, z_test, d_test = test_coords.values()\n",
    "    t_test = obs_times\n",
    "\n",
    "    # Emission visualization inputs\n",
    "    t_res_vis = 1\n",
    "    emission_extent = [emission.x[0], emission.x[-1], emission.y[0], emission.y[-1], emission.z[0], emission.z[-1]]\n",
    "    t_vis, x_vis, y_vis, z_vis  = np.meshgrid(tstart, np.linspace(emission_extent[0], emission_extent[1], x_res_vis),\n",
    "                                              np.linspace(emission_extent[2], emission_extent[3], y_res_vis),\n",
    "                                              np.linspace(emission_extent[4], emission_extent[5], x_res_vis),\n",
    "                                              indexing='ij')\n",
    "\n",
    "    d_vis = np.ones_like(y_vis)                  # meaningless placeholder for emission visualization\n",
    "\n",
    "    # Model setup and initialization\n",
    "    rng = jax.random.PRNGKey(1)\n",
    "    predictor = network_utils.PREDICT_EMISSION_AND_ROTAXIS_3D_FROM_VIS(posenc_deg=hparams['posenc_deg'])\n",
    "    params = predictor.init(rng, x[:1, ...], y[:1, ...], z[:1, ...], t[:1, ...], velocity_field, tstart, tstop)['params']\n",
    "\n",
    "    def flattened_traversal(fn):\n",
    "        def mask(data):\n",
    "            flat = flax.traverse_util.flatten_dict(data)\n",
    "            return flax.traverse_util.unflatten_dict({k: fn(k, v) for k, v in flat.items()})\n",
    "        return mask\n",
    "\n",
    "    tx = optax.chain(\n",
    "        optax.masked(optax.adam(learning_rate=hparams['lr_axis']),\n",
    "                     mask=flattened_traversal(lambda path, _: path[-1] == 'axis')),\n",
    "        optax.masked(optax.adam(learning_rate=optax.polynomial_schedule(hparams['lr_init'], hparams['lr_final'], 1, hparams['num_iters'])),\n",
    "                     mask=flattened_traversal(lambda path, _: path[-1] != 'axis')),\n",
    "    )\n",
    "\n",
    "    state = train_state.TrainState.create(apply_fn=predictor.apply, params=params.unfreeze(), tx=tx)  # TODO(pratul): this unfreeze feels sketchy\n",
    "\n",
    "    train_pstep = jax.pmap(predictor.train_step, axis_name='batch', in_axes=(None, None, 0, 0, 0, 0, 0, 0, None, None, None, 0, 0, 0), static_broadcasted_argnums=(0))\n",
    "    eval_pstep = jax.pmap(predictor.eval_step, axis_name='batch', in_axes=(None, None, 0, 0, 0, 0, 0, 0, None, None, None, 0, 0, 0), static_broadcasted_argnums=(0))\n",
    "    rand_key = jax.random.split(rng, jax.local_device_count())\n",
    "    state = flax.jax_utils.replicate(state)\n",
    "\n",
    "\n",
    "    # TensorBoard logging\n",
    "    time = datetime.now().strftime('%Y-%m-%d.%H:%M:%S')\n",
    "    logdir = 'runs/{}.{}'.format(runname, time)\n",
    "    with SummaryWriter(logdir=logdir) as writer:\n",
    "\n",
    "        # Log ground-truth data   \n",
    "        %matplotlib inline\n",
    "        images = intensity_to_nchw(emission.isel(t=0))\n",
    "        writer.add_images('emission/true', images, global_step=0)\n",
    "\n",
    "        for i in tqdm(range(1, hparams['num_iters']+1), desc='iteration'):\n",
    "\n",
    "            # Testing and Visualization\n",
    "            if (i == 1) or (i % log_period) == 0:\n",
    "                batch_inds = np.random.randint(0, x.shape[0], hparams['batchsize'])\n",
    "                loss_test, _, _, _, _, _ = eval_pstep(\n",
    "                    velocity_field, i, shard(x[batch_inds, ...]), shard(y[batch_inds, ...]), shard(z[batch_inds, ...]), \n",
    "                    shard(d[batch_inds, ...]), shard(t[batch_inds, ...]), shard(uv[batch_inds, ...]),\n",
    "                    fov, tstart, tstop, shard(test_vis[batch_inds,...]), state, rand_key\n",
    "                )\n",
    "                writer.add_scalar('log loss/test', np.log10(np.mean(float(loss_test))), global_step=i)\n",
    "\n",
    "                # Log prediction and estimate\n",
    "                _, _, emission_vis, _, axis_estimation, _ = eval_pstep(\n",
    "                    velocity_field, i, shard(x_vis), shard(y_vis), shard(z_vis), shard(d_vis), shard(t_vis),\n",
    "                    shard(uv[0, ...]), fov, tstart, tstop, shard(test_vis[0,...]), state, rand_key\n",
    "                )\n",
    "                axis_estimation = axis_estimation[0] / np.sqrt(np.dot(axis_estimation[0], axis_estimation[0]))\n",
    "                emission_vis = np.reshape(emission_vis, [t_res_vis, x_res_vis, y_res_vis, z_res_vis])\n",
    "                emission_vis = jnp.where(x_vis**2 + y_vis**2 + z_vis**2 >= hparams['r_min']**2, emission_vis, jnp.zeros_like(emission_vis))\n",
    "                \n",
    "                # Log emission and rotation axis\n",
    "                images = intensity_to_nchw(emission_vis[0])\n",
    "                writer.add_images('emission/estimate', images, global_step=i)\n",
    "                writer.add_scalar('rotation/dot_product', np.dot(rot_axis, axis_estimation), global_step=i)\n",
    "                writer.add_scalar('rotation/x', axis_estimation[0], global_step=i)\n",
    "                writer.add_scalar('rotation/y', axis_estimation[1], global_step=i)\n",
    "                writer.add_scalar('rotation/z', axis_estimation[2], global_step=i)\n",
    "\n",
    "            # Training\n",
    "            batch_inds = np.random.randint(0, x.shape[0], hparams['batchsize'])\n",
    "            loss_train, state, _, _, _, rand_key = train_pstep(\n",
    "                velocity_field, i, shard(x[batch_inds, ...]), shard(y[batch_inds, ...]), shard(z[batch_inds, ...]), \n",
    "                shard(d[batch_inds, ...]), shard(t[batch_inds, ...]), shard(uv[batch_inds, ...]), fov, tstart, tstop,\n",
    "                shard(train_vis[batch_inds, ...]), state, rand_key\n",
    "            )\n",
    "            writer.add_scalar('log loss/train', np.log10(float(np.mean(loss_train))), global_step=i)\n",
    "            \n",
    "    return state, emission_vis, axis_estimation"
   ]
  },
  {
   "cell_type": "code",
   "execution_count": 38,
   "id": "3b5b535e-306b-42d3-a610-4fc0d540c2d9",
   "metadata": {},
   "outputs": [],
   "source": [
    "# Generate hotspot emission\n",
    "nt, nx, ny, nz = 64, 64, 64, 64\n",
    "nt_test = 64\n",
    "nspots = 1\n",
    "r_isco = 3.0 \n",
    "\n",
    "phi = 0        # azimuth angle (ccw from x-axis)\n",
    "theta = np.pi / 3.0    # zenith angle (pi/2 = equatorial plane)\n",
    "\n",
    "orbit_radius = 3.5 \n",
    "std = .4 * np.ones_like(orbit_radius)\n",
    "initial_frame = emission_utils.generate_hotspots_3d(nx, ny, nz, theta, phi, orbit_radius, std, r_isco)\n",
    "\n",
    "orbit_period = 3.5**(-3./2.) \n",
    "velocity_field = lambda r: (1.0 / orbit_period) * r**(-3/2)\n",
    "\n",
    "rot_axis =  np.array([np.cos(theta)*np.cos(phi), np.cos(theta)*np.sin(phi), -np.sin(theta)])\n",
    "emission = emission_utils.generate_orbit_3d(initial_frame, nt, velocity_field, rot_axis)\n",
    "emission_test = emission_utils.generate_orbit_3d(initial_frame, nt_test, velocity_field, rot_axis)\n",
    "\n",
    "normalization_factor = 0.03305721036378928\n",
    "emission *= normalization_factor\n",
    "emission_test *= normalization_factor"
   ]
  },
  {
   "cell_type": "code",
   "execution_count": 39,
   "id": "1f614de3-37dc-4f8b-b7c4-aacda3e25336",
   "metadata": {},
   "outputs": [
    {
     "data": {
      "application/vnd.jupyter.widget-view+json": {
       "model_id": "70474c4001064d609f9e88a18fa52526",
       "version_major": 2,
       "version_minor": 0
      },
      "text/plain": [
       "interactive(children=(IntSlider(value=0, description='t', max=63), Output()), _dom_classes=('widget-interact',…"
      ]
     },
     "metadata": {},
     "output_type": "display_data"
    }
   ],
   "source": [
    "extent = [(float(initial_frame[dim].min()), float(initial_frame[dim].max())) for dim in initial_frame.dims]\n",
    "@interact(t=widgets.IntSlider(min=0, max=emission.t.size-1, step=1, value=0))\n",
    "def plot_vol(t):\n",
    "    ipv.figure()\n",
    "    ipv.view(0, -60, distance=2.5)\n",
    "    ipv.volshow(emission.isel(t=t), extent=extent, memorder='F', level=[0, 0.2, 0.7], opacity=[0, 0.2, 0.3], controls=False)\n",
    "    ipv.show()"
   ]
  },
  {
   "cell_type": "code",
   "execution_count": 96,
   "id": "5c79513a-f35c-4f5a-b564-3f6a49a4871f",
   "metadata": {},
   "outputs": [],
   "source": [
    "# Generate image plane fluxes\n",
    "fov = 160.0\n",
    "\n",
    "sensor = xr.load_dataset('../sensors/a0.00_th1.57_ngeo100_npix4096.nc')\n",
    "sensor = sensor.where(sensor.r < 5)\n",
    "r_min = sensor.r.min().data   # Minimum supervision radius\n",
    "sensor = sensor.fillna(0.0)\n",
    "\n",
    "image_plane = emission_utils.integrate_rays(emission, sensor).data.reshape(nt, sensor.num_alpha, sensor.num_beta)\n",
    "image_plane_test = emission_utils.integrate_rays(emission_test, sensor).data.reshape(nt_test, sensor.num_alpha, sensor.num_beta)"
   ]
  },
  {
   "cell_type": "code",
   "execution_count": 41,
   "id": "a1fd80d5-7c7e-48f5-8b9b-94ab03816428",
   "metadata": {},
   "outputs": [
    {
     "name": "stderr",
     "output_type": "stream",
     "text": [
      "/scratch/imaging/projects/bh_nerf/envs/jax/lib/python3.9/site-packages/ehtim/obsdata.py:508: VisibleDeprecationWarning: Creating an ndarray from ragged nested sequences (which is a list-or-tuple of lists-or-tuples-or ndarrays with different lengths or shapes) is deprecated. If you meant to do this, you must specify 'dtype=object' when creating the ndarray.\n",
      "  return np.array(datalist)\n"
     ]
    },
    {
     "data": {
      "application/vnd.jupyter.widget-view+json": {
       "model_id": "e1f4a4ac6e8f4ef3a8d66e04533ece30",
       "version_major": 2,
       "version_minor": 0
      },
      "text/plain": [
       "Canvas(toolbar=Toolbar(toolitems=[('Home', 'Reset original view', 'home', 'home'), ('Back', 'Back to previous …"
      ]
     },
     "metadata": {},
     "output_type": "display_data"
    }
   ],
   "source": [
    "obs_params = {\n",
    "    'array': eh.array.load_txt('../eht_arrays/ngEHT.txt'),\n",
    "    'nt': 128,      # number of time samples \n",
    "    'tstart': 4.0,  # start of observations (UTC hr)\n",
    "    'tstop': 15.5,  # end of observation (UTC hr)\n",
    "    'tint': 60.0    # integration time\n",
    "}\n",
    "obs_empty = observation_utils.empty_eht_obs(**obs_params)\n",
    "obs_args = {\n",
    "    'psize': fov / sensor.num_alpha * ehc.RADPERUAS,\n",
    "    'ra': obs_empty.ra, \n",
    "    'dec': obs_empty.dec,\n",
    "    'rf': obs_empty.rf, \n",
    "    'mjd': obs_empty.mjd\n",
    "}\n",
    "\n",
    "%matplotlib widget\n",
    "observation_utils.plot_uv_coverage(obs_empty)"
   ]
  },
  {
   "cell_type": "code",
   "execution_count": 97,
   "id": "accf96d1-f7cb-46a1-af87-5bb2ca03a22e",
   "metadata": {},
   "outputs": [
    {
     "name": "stdout",
     "output_type": "stream",
     "text": [
      "Producing clean visibilities from movie with fast FT . . . \n"
     ]
    },
    {
     "name": "stderr",
     "output_type": "stream",
     "text": [
      "/scratch/imaging/projects/bh_nerf/envs/jax/lib/python3.9/site-packages/ehtim/obsdata.py:508: VisibleDeprecationWarning: Creating an ndarray from ragged nested sequences (which is a list-or-tuple of lists-or-tuples-or ndarrays with different lengths or shapes) is deprecated. If you meant to do this, you must specify 'dtype=object' when creating the ndarray.\n",
      "  return np.array(datalist)\n"
     ]
    },
    {
     "name": "stdout",
     "output_type": "stream",
     "text": [
      "Producing clean visibilities from movie with fast FT . . . \n"
     ]
    }
   ],
   "source": [
    "# Generate visibility measurements\n",
    "times = np.linspace(obs_params['tstart'], obs_params['tstop'], nt)\n",
    "movie = eh.movie.Movie(image_plane, times, **obs_args)\n",
    "obs = movie.observe_same_nonoise(obs_empty, ttype='fast')\n",
    "\n",
    "times_test = np.linspace(obs_params['tstart'], obs_params['tstop'], nt_test)\n",
    "movie_test = eh.movie.Movie(image_plane, times_test, **obs_args)\n",
    "obs_test = movie_test.observe_same_nonoise(obs_empty, ttype='fast')\n",
    "\n",
    "measurements = observation_utils.padded_obs(obs, 'vis', fill_value=0.0)\n",
    "measurements_test = observation_utils.padded_obs(obs_test, 'vis', fill_value=0.0)\n",
    "uv = np.stack((observation_utils.padded_obs(obs, 'u'), \n",
    "               observation_utils.padded_obs(obs, 'v')), axis=2)\n",
    "\n",
    "obs_times = np.array([np.mean(obsdata['time'][0]) for obsdata in obs.tlist()])"
   ]
  },
  {
   "cell_type": "code",
   "execution_count": 86,
   "id": "004931a0-50ee-4f23-85d9-6ec111ff4a07",
   "metadata": {},
   "outputs": [
    {
     "data": {
      "application/vnd.jupyter.widget-view+json": {
       "model_id": "e8154f07b2074f488ad38a6948b63080",
       "version_major": 2,
       "version_minor": 0
      },
      "text/plain": [
       "Canvas(toolbar=Toolbar(toolitems=[('Home', 'Reset original view', 'home', 'home'), ('Back', 'Back to previous …"
      ]
     },
     "metadata": {},
     "output_type": "display_data"
    },
    {
     "name": "stderr",
     "output_type": "stream",
     "text": [
      "/scratch/imaging/projects/bh_nerf/bhNeRF/notebooks/../bhnerf/visualization.py:167: MatplotlibDeprecationWarning: Starting from Matplotlib 3.6, colorbar() will steal space from the mappable's axes, rather than from the current axes, to place the colorbar.  To silence this warning, explicitly pass the 'ax' argument to colorbar().\n",
      "  fig.colorbar(im)\n",
      "WARNING:matplotlib.animation:MovieWriter imagemagick unavailable; using Pillow instead.\n"
     ]
    }
   ],
   "source": [
    "# Visualize radiance measurements \n",
    "%matplotlib widget\n",
    "\n",
    "fig, ax = plt.subplots(1,2, figsize=(9.5,4))\n",
    "image_plane_visualization = xr.DataArray(image_plane, dims=['t', 'alpha', 'beta'])\n",
    "anim = image_plane_visualization.utils_visualization.animate(ax=ax[0])\n",
    "obs.plotall('uvdist', 'amp', axis=ax[1], ebar=False)\n",
    "outpath = 'gifs/ngEHT.measurements.theta_{:2.0f}.phi_{:2.0f}.gif'.format(np.rad2deg(theta), np.rad2deg(phi))\n",
    "anim.save(outpath, writer='imagemagick', fps=10)"
   ]
  },
  {
   "cell_type": "code",
   "execution_count": 99,
   "id": "6d686451-c79e-4058-bade-9ca8f7077db2",
   "metadata": {
    "tags": []
   },
   "outputs": [
    {
     "name": "stderr",
     "output_type": "stream",
     "text": [
      "[autoreload of network_utils failed: Traceback (most recent call last):\n",
      "  File \"/scratch/imaging/projects/bh_nerf/envs/jax/lib/python3.9/site-packages/IPython/extensions/autoreload.py\", line 245, in check\n",
      "    superreload(m, reload, self.old_objects)\n",
      "  File \"/scratch/imaging/projects/bh_nerf/envs/jax/lib/python3.9/site-packages/IPython/extensions/autoreload.py\", line 410, in superreload\n",
      "    update_generic(old_obj, new_obj)\n",
      "  File \"/scratch/imaging/projects/bh_nerf/envs/jax/lib/python3.9/site-packages/IPython/extensions/autoreload.py\", line 347, in update_generic\n",
      "    update(a, b)\n",
      "  File \"/scratch/imaging/projects/bh_nerf/envs/jax/lib/python3.9/site-packages/IPython/extensions/autoreload.py\", line 317, in update_class\n",
      "    update_instances(old, new)\n",
      "  File \"/scratch/imaging/projects/bh_nerf/envs/jax/lib/python3.9/site-packages/IPython/extensions/autoreload.py\", line 280, in update_instances\n",
      "    ref.__class__ = new\n",
      "  File \"/scratch/imaging/projects/bh_nerf/envs/jax/lib/python3.9/site-packages/flax/linen/module.py\", line 528, in __setattr__\n",
      "    raise errors.SetAttributeFrozenModuleError(self.__class__.__name__, name,\n",
      "flax.errors.SetAttributeFrozenModuleError: Can't set __class__=<class 'network_utils.MLP'> for Module of type MLP: Module instance is frozen outside of setup method. (https://flax.readthedocs.io/en/latest/flax.errors.html#flax.errors.SetAttributeFrozenModuleError)\n",
      "]\n",
      "/scratch/imaging/projects/bh_nerf/envs/jax/lib/python3.9/site-packages/jax/lib/xla_bridge.py:390: UserWarning: jax.host_count has been renamed to jax.process_count. This alias will eventually be removed; please update your code.\n",
      "  warnings.warn(\n",
      "/scratch/imaging/projects/bh_nerf/envs/jax/lib/python3.9/site-packages/jax/lib/xla_bridge.py:377: UserWarning: jax.host_id has been renamed to jax.process_index. This alias will eventually be removed; please update your code.\n",
      "  warnings.warn(\n"
     ]
    },
    {
     "data": {
      "application/vnd.jupyter.widget-view+json": {
       "model_id": "b8517a2207d94e76bd4817d56e994b64",
       "version_major": 2,
       "version_minor": 0
      },
      "text/plain": [
       "iteration:   0%|          | 0/50000 [00:00<?, ?it/s]"
      ]
     },
     "metadata": {},
     "output_type": "display_data"
    }
   ],
   "source": [
    "# Training parameters\n",
    "hparams = {\n",
    "    'num_iters': 50000,\n",
    "    'lr_init': 1e-4,\n",
    "    'lr_final': 1e-6,\n",
    "    'lr_axis': 1e-1,\n",
    "    'posenc_deg': 3,\n",
    "    'batchsize': 1,\n",
    "    'r_min': r_min\n",
    "}\n",
    "state, emission_vis, rot_axis_est = train_network(\n",
    "    sensor, emission, emission_test, velocity_field, obs_times, hparams, \n",
    "    runname='visibilities/image_res{}x{}.ngeo{}.init_axis_0.0.-1'.format(sensor.num_alpha, sensor.num_beta, sensor.geo.size), \n",
    "    log_period=100, x_res_vis=64, y_res_vis=64, z_res_vis=64\n",
    ")\n",
    "emission_estimate = emission_utils.generate_orbit_3d(\n",
    "    xr.DataArray(emission_vis[0], coords=initial_frame.coords), nt, velocity_field, rot_axis_est)"
   ]
  },
  {
   "cell_type": "code",
   "execution_count": 81,
   "id": "44d3fba9-de93-4940-8460-a4c2be26dcae",
   "metadata": {},
   "outputs": [
    {
     "data": {
      "application/vnd.jupyter.widget-view+json": {
       "model_id": "e6d18fca4fda4cee837337daeb0de192",
       "version_major": 2,
       "version_minor": 0
      },
      "text/plain": [
       "interactive(children=(IntSlider(value=0, description='t', max=63), Output()), _dom_classes=('widget-interact',…"
      ]
     },
     "metadata": {},
     "output_type": "display_data"
    }
   ],
   "source": [
    "extent = [(float(initial_frame[dim].min()), float(initial_frame[dim].max())) for dim in initial_frame.dims]\n",
    "@interact(t=widgets.IntSlider(min=0, max=emission.t.size-1, step=1, value=0))\n",
    "def plot_vol(t):\n",
    "    ipv.figure()\n",
    "    ipv.view(0, -60, distance=2.5)\n",
    "    ipv.volshow(emission_estimate.isel(t=t), extent=extent, memorder='F', level=[0, 0.2, 0.7], opacity=[0, 0.2, 0.3], controls=False)\n",
    "    ipv.show()"
   ]
  },
  {
   "cell_type": "code",
   "execution_count": 83,
   "id": "ab702fdc-9311-4264-856f-bacd8f8f9f63",
   "metadata": {},
   "outputs": [
    {
     "data": {
      "application/vnd.jupyter.widget-view+json": {
       "model_id": "b5460871ceac493785b033c5779911f5",
       "version_major": 2,
       "version_minor": 0
      },
      "text/plain": [
       "Canvas(toolbar=Toolbar(toolitems=[('Home', 'Reset original view', 'home', 'home'), ('Back', 'Back to previous …"
      ]
     },
     "metadata": {},
     "output_type": "display_data"
    },
    {
     "name": "stderr",
     "output_type": "stream",
     "text": [
      "WARNING:matplotlib.animation:MovieWriter imagemagick unavailable; using Pillow instead.\n"
     ]
    },
    {
     "data": {
      "text/plain": [
       "<matplotlib.animation.FuncAnimation at 0x7fbf2c181b20>"
      ]
     },
     "execution_count": 83,
     "metadata": {},
     "output_type": "execute_result"
    }
   ],
   "source": [
    "# Save measurement prediction\n",
    "plt.rcdefaults()\n",
    "\n",
    "image_prediction = emission_utils.integrate_rays(emission_estimate, sensor)\n",
    "image_prediction = xr.DataArray(image_prediction.data.reshape(nt, sensor.num_alpha, sensor.num_beta), dims=['t', 'alpha', 'beta'])\n",
    "\n",
    "%matplotlib widget\n",
    "outpath = 'gifs/ngEHT.true_rotaxis.prediction.theta_{:2.0f}.phi_{:2.0f}.gif'.format(np.rad2deg(theta), np.rad2deg(phi))\n",
    "image_prediction.utils_visualization.animate(output=outpath)"
   ]
  },
  {
   "cell_type": "code",
   "execution_count": null,
   "id": "0c0a8057-d064-435f-a146-0b6593f50cf0",
   "metadata": {},
   "outputs": [],
   "source": [
    "%matplotlib widget\n",
    "ax = plt.figure(figsize=(7,7)).add_subplot(projection='3d')\n",
    "ax.scatter(0,0,0, color='black', s=50)\n",
    "ax.quiver(0,0,0,*rot_axis, length=0.05, linewidths=3,  label='true')\n",
    "ax.quiver(0,0,0,*rot_axis_est, length=0.05, linewidths=3, label='estimated', color='r')\n",
    "ax.set_xlabel('x')\n",
    "ax.set_ylabel('y')\n",
    "ax.set_zlabel('z')\n",
    "plt.legend(fontsize=14)"
   ]
  },
  {
   "cell_type": "markdown",
   "id": "0e63dab5-ddd5-4194-a424-00c49f13841f",
   "metadata": {},
   "source": [
    "## DEBUG"
   ]
  },
  {
   "cell_type": "code",
   "execution_count": null,
   "id": "53f3353f-26d3-4027-bb76-91be3682d225",
   "metadata": {},
   "outputs": [
    {
     "name": "stderr",
     "output_type": "stream",
     "text": [
      "/scratch/imaging/projects/bh_nerf/envs/jax/lib/python3.9/site-packages/jax/lib/xla_bridge.py:390: UserWarning: jax.host_count has been renamed to jax.process_count. This alias will eventually be removed; please update your code.\n",
      "  warnings.warn(\n",
      "/scratch/imaging/projects/bh_nerf/envs/jax/lib/python3.9/site-packages/jax/lib/xla_bridge.py:377: UserWarning: jax.host_id has been renamed to jax.process_index. This alias will eventually be removed; please update your code.\n",
      "  warnings.warn(\n"
     ]
    }
   ],
   "source": [
    "log_period=1\n",
    "x_res_vis=64\n",
    "y_res_vis=64\n",
    "z_res_vis=64\n",
    "\n",
    "hparams = {\n",
    "    'num_iters': 5,\n",
    "    'lr_init': 1e-4,\n",
    "    'lr_final': 1e-6,\n",
    "    'lr_axis': 1e-1,\n",
    "    'posenc_deg': 3,\n",
    "    'batchsize': 1,\n",
    "    'r_min': r_min\n",
    "}\n",
    "\n",
    "\n",
    "tstart = obs_times[0]\n",
    "tstop = obs_times[-1]\n",
    "\n",
    "# Training / testing coordinates\n",
    "train_coords = network_utils.get_input_coords(sensor, t_array=obs_times, batch='t')\n",
    "t, x, y, z, d = train_coords.values()\n",
    "t = obs_times\n",
    "train_vis = measurements\n",
    "\n",
    "test_coords = network_utils.get_input_coords(sensor, t_array=obs_times, batch='t')\n",
    "test_vis = measurements_test\n",
    "t_test, x_test, y_test, z_test, d_test = test_coords.values()\n",
    "t_test = obs_times\n",
    "\n",
    "# Emission visualization inputs\n",
    "t_res_vis = 1\n",
    "emission_extent = [emission.x[0], emission.x[-1], emission.y[0], emission.y[-1], emission.z[0], emission.z[-1]]\n",
    "t_vis, x_vis, y_vis, z_vis  = np.meshgrid(tstart, np.linspace(emission_extent[0], emission_extent[1], x_res_vis),\n",
    "                                          np.linspace(emission_extent[2], emission_extent[3], y_res_vis),\n",
    "                                          np.linspace(emission_extent[4], emission_extent[5], x_res_vis),\n",
    "                                          indexing='ij')\n",
    "\n",
    "d_vis = np.ones_like(y_vis)                  # meaningless placeholder for emission visualization\n",
    "\n",
    "# Model setup and initialization\n",
    "rng = jax.random.PRNGKey(1)\n",
    "predictor = network_utils.PREDICT_EMISSION_AND_ROTAXIS_3D_FROM_VIS(posenc_deg=hparams['posenc_deg'])\n",
    "params = predictor.init(rng, x[:1, ...], y[:1, ...], z[:1, ...], t[:1, ...], velocity_field, tstart, tstop)['params']\n",
    "\n",
    "def flattened_traversal(fn):\n",
    "    def mask(data):\n",
    "        flat = flax.traverse_util.flatten_dict(data)\n",
    "        return flax.traverse_util.unflatten_dict({k: fn(k, v) for k, v in flat.items()})\n",
    "    return mask\n",
    "\n",
    "tx = optax.chain(\n",
    "    optax.masked(optax.adam(learning_rate=hparams['lr_axis']),\n",
    "                 mask=flattened_traversal(lambda path, _: path[-1] == 'axis')),\n",
    "    optax.masked(optax.adam(learning_rate=optax.polynomial_schedule(hparams['lr_init'], hparams['lr_final'], 1, hparams['num_iters'])),\n",
    "                 mask=flattened_traversal(lambda path, _: path[-1] != 'axis')),\n",
    ")\n",
    "\n",
    "state = train_state.TrainState.create(apply_fn=predictor.apply, params=params.unfreeze(), tx=tx)  # TODO(pratul): this unfreeze feels sketchy\n",
    "\n",
    "train_pstep = jax.pmap(predictor.train_step, axis_name='batch', in_axes=(None, None, 0, 0, 0, 0, 0, 0, None, None, None, 0, 0, 0), static_broadcasted_argnums=(0))\n",
    "eval_pstep = jax.pmap(predictor.eval_step, axis_name='batch', in_axes=(None, None, 0, 0, 0, 0, 0, 0, None, None, None, 0, 0, 0), static_broadcasted_argnums=(0))\n",
    "rand_key = jax.random.split(rng, jax.local_device_count())\n",
    "state = flax.jax_utils.replicate(state)\n",
    "\n",
    "\n",
    "i = 1\n",
    "\n",
    "# Testing and Vsualization\n",
    "batch_inds = np.random.randint(0, x.shape[0], hparams['batchsize'])\n",
    "loss_test, _, _, rend, _, _, vis = eval_pstep(\n",
    "    velocity_field, i, shard(x[batch_inds, ...]), shard(y[batch_inds, ...]), shard(z[batch_inds, ...]), \n",
    "    shard(d[batch_inds, ...]), shard(t[batch_inds, ...]), shard(uv[batch_inds, ...]),\n",
    "    fov, tstart, tstop, shard(test_vis[batch_inds,...]), state, rand_key\n",
    ")\n",
    "\n",
    "# Log prediction and estimate\n",
    "# _, _, emission_vis, _, axis_estimation, _, vis = eval_pstep(\n",
    "#     velocity_field, i, shard(x_vis), shard(y_vis), shard(z_vis), shard(d_vis), shard(t_vis),\n",
    "#     shard(uv[0, ...]), fov, tstart, tstop, shard(test_vis[0,...]), state, rand_key\n",
    "# )\n",
    "# axis_estimation = axis_estimation[0] / np.sqrt(np.dot(axis_estimation[0], axis_estimation[0]))\n",
    "# emission_vis = np.reshape(emission_vis, [t_res_vis, x_res_vis, y_res_vis, z_res_vis])\n",
    "# emission_vis = jnp.where(x_vis**2 + y_vis**2 + z_vis**2 >= hparams['r_min']**2, emission_vis, jnp.zeros_like(emission_vis))"
   ]
  },
  {
   "cell_type": "code",
   "execution_count": null,
   "id": "5c631aac-bad4-4c9a-bc83-e04b09b9b5d5",
   "metadata": {},
   "outputs": [
    {
     "data": {
      "application/vnd.jupyter.widget-view+json": {
       "model_id": "",
       "version_major": 2,
       "version_minor": 0
      },
      "text/plain": [
       "Canvas(toolbar=Toolbar(toolitems=[('Home', 'Reset original view', 'home', 'home'), ('Back', 'Back to previous …"
      ]
     },
     "metadata": {},
     "output_type": "display_data"
    },
    {
     "data": {
      "text/plain": [
       "<matplotlib.colorbar.Colorbar at 0x7fbf2ce17af0>"
      ]
     },
     "execution_count": 59,
     "metadata": {},
     "output_type": "execute_result"
    }
   ],
   "source": [
    "%matplotlib widget\n",
    "t1 = int(64*(t[batch_inds] - tstart) / (tstop - tstart))\n",
    "plt.figure()\n",
    "plt.imshow(image_plane_test[t1])\n",
    "plt.colorbar()"
   ]
  },
  {
   "cell_type": "code",
   "execution_count": 60,
   "id": "e3c31a0a-1585-481a-a717-3681f6c2e59a",
   "metadata": {},
   "outputs": [
    {
     "data": {
      "application/vnd.jupyter.widget-view+json": {
       "model_id": "5dc93de58cce47b6bd0b9881f538aa33",
       "version_major": 2,
       "version_minor": 0
      },
      "text/plain": [
       "Canvas(toolbar=Toolbar(toolitems=[('Home', 'Reset original view', 'home', 'home'), ('Back', 'Back to previous …"
      ]
     },
     "metadata": {},
     "output_type": "display_data"
    },
    {
     "data": {
      "text/plain": [
       "<matplotlib.colorbar.Colorbar at 0x7fbfc57f0040>"
      ]
     },
     "execution_count": 60,
     "metadata": {},
     "output_type": "execute_result"
    }
   ],
   "source": [
    "plt.figure()\n",
    "plt.imshow(rend[0,0])\n",
    "plt.colorbar()"
   ]
  }
 ],
 "metadata": {
  "kernelspec": {
   "display_name": "jax",
   "language": "python",
   "name": "jax"
  },
  "language_info": {
   "codemirror_mode": {
    "name": "ipython",
    "version": 3
   },
   "file_extension": ".py",
   "mimetype": "text/x-python",
   "name": "python",
   "nbconvert_exporter": "python",
   "pygments_lexer": "ipython3",
   "version": "3.9.6"
  }
 },
 "nbformat": 4,
 "nbformat_minor": 5
}
