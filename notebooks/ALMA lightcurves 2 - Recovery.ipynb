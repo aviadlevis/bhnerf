{
 "cells": [
  {
   "cell_type": "code",
   "execution_count": 1,
   "id": "b85f8e98-8ea4-4e4c-9304-038107b539e2",
   "metadata": {},
   "outputs": [
    {
     "name": "stderr",
     "output_type": "stream",
     "text": [
      "Matplotlib created a temporary config/cache directory at /tmp/matplotlib-gyusdqln because the default path (/home/jovyan/.cache/matplotlib) is not a writable directory; it is highly recommended to set the MPLCONFIGDIR environment variable to a writable directory, in particular to speed up the import of Matplotlib and to better support multiprocessing.\n"
     ]
    },
    {
     "name": "stdout",
     "output_type": "stream",
     "text": [
      "Welcome to eht-imaging! v 1.2.2 \n",
      "\n"
     ]
    },
    {
     "name": "stderr",
     "output_type": "stream",
     "text": [
      "2023-04-19 17:16:54.468224: W tensorflow/stream_executor/platform/default/dso_loader.cc:64] Could not load dynamic library 'libcudart.so.11.0'; dlerror: libcudart.so.11.0: cannot open shared object file: No such file or directory; LD_LIBRARY_PATH: /.singularity.d/libs\n"
     ]
    }
   ],
   "source": [
    "import bhnerf\n",
    "from astropy import units\n",
    "import jax\n",
    "from bhnerf.optimization import LogFn\n",
    "import numpy as np\n",
    "import xarray as xr\n",
    "import matplotlib.pyplot as plt\n",
    "import pandas as pd\n",
    "from tqdm.notebook import tqdm\n",
    "from flax.training import checkpoints\n",
    "from pathlib import Path\n",
    "import ruamel.yaml as yaml\n",
    "\n",
    "# Runing on 2 GPUs\n",
    "import os\n",
    "os.environ['CUDA_VISIBLE_DEVICES'] = '2,3'\n",
    "\n",
    "# Import script function\n",
    "import sys\n",
    "sys.path.append('../scripts/')\n",
    "from Fit_ALMA_LP_Apr11_SgrA_Flare import preprocess_data"
   ]
  },
  {
   "cell_type": "code",
   "execution_count": 2,
   "id": "fc6f2227-0e21-407f-96f4-c0146d636ea6",
   "metadata": {},
   "outputs": [],
   "source": [
    "def image_plane_model(inc, spin):\n",
    "    geos = bhnerf.kgeo.image_plane_geos(\n",
    "        spin, inc, \n",
    "        num_alpha=num_alpha, \n",
    "        num_beta=num_beta, \n",
    "        alpha_range=[-fov_M/2, fov_M/2],\n",
    "        beta_range=[-fov_M/2, fov_M/2]\n",
    "    )\n",
    "    geos = geos.fillna(0.0)\n",
    "\n",
    "     # Keplerian velocity and Doppler boosting\n",
    "    rot_sign = {'cw': -1, 'ccw': 1}\n",
    "    Omega = rot_sign[Omega_dir] * np.sqrt(geos.M) / (geos.r**(3/2) + geos.spin * np.sqrt(geos.M))\n",
    "    umu = bhnerf.kgeo.azimuthal_velocity_vector(geos, Omega)\n",
    "    g = bhnerf.kgeo.doppler_factor(geos, umu)\n",
    "\n",
    "    # Magnitude normalized magnetic field in fluid-frame\n",
    "    b = bhnerf.kgeo.magnetic_field_fluid_frame(geos, umu, **b_consts)\n",
    "    domain = np.bitwise_and(np.bitwise_and(np.abs(geos.z) < z_width, geos.r > rmin), geos.r < rmax)\n",
    "    b_mean = np.sqrt(np.sum(b[domain]**2, axis=-1)).mean()\n",
    "    b /= b_mean\n",
    "\n",
    "    # Polarized emission factors (including parallel transport)\n",
    "    de_rot_model = np.deg2rad(de_rot_angle + 20.0)\n",
    "    J = np.nan_to_num(bhnerf.kgeo.parallel_transport(geos, umu, g, b, Q_frac=Q_frac, V_frac=0), 0.0)\n",
    "    J_rot = bhnerf.emission.rotate_evpa(J, de_rot_model)\n",
    "\n",
    "    t_injection = -float(geos.r_o + fov_M/4)\n",
    "    raytracing_args = bhnerf.network.raytracing_args(geos, Omega, t_injection, t_start_obs*units.hr, J_rot)\n",
    "    return raytracing_args"
   ]
  },
  {
   "cell_type": "code",
   "execution_count": 3,
   "id": "ddf09151-dd21-4575-9760-a177cfab54af",
   "metadata": {},
   "outputs": [],
   "source": [
    "recovery_path = Path('../checkpoints/alma/intrinsic_fits/vertical_b_85min/')\n",
    "outpath = Path(os.path.join(*recovery_path.parts[2:]))\n",
    "outpath.mkdir(parents=True, exist_ok=True)\n",
    "\n",
    "with open(recovery_path.joinpath('config.yml'), 'r') as stream:\n",
    "    config = yaml.load(stream, Loader=yaml.Loader)\n",
    "\n",
    "locals().update(config['preprocess'])\n",
    "locals().update(config['model'])\n",
    "locals().update(config['optimization'])\n",
    "\n",
    "# Preprocess / split data to train/validation\n",
    "target, t_frames = preprocess_data(**config['preprocess'])\n",
    "train_idx = t_frames <= config['preprocess']['t_start']*units.hr + train_split*units.min\n",
    "val_idx = t_frames > config['preprocess']['t_start']*units.hr + train_split*units.min\n",
    "data_train, data_val  = target[train_idx], target[val_idx] \n",
    "t_train, t_val = t_frames[train_idx], t_frames[val_idx]\n",
    "\n",
    "rmax = fov_M / 2\n",
    "if rmin == 'ISCO': rmin = float(bhnerf.constants.isco_pro(spin))\n",
    "\n",
    "train_step = bhnerf.optimization.TrainStep.image(t_train, data_train, sigma, dtype='lc')\n",
    "val_step = bhnerf.optimization.TrainStep.image(t_val, data_val, sigma, dtype='lc')\n",
    "predictor = bhnerf.network.NeRF_Predictor(rmax, rmin, rmax, z_width, posenc_var=recovery_scale/fov_M)"
   ]
  },
  {
   "cell_type": "code",
   "execution_count": 4,
   "id": "7d047f4b-ef4c-4e34-8e1a-dd6c095cb400",
   "metadata": {},
   "outputs": [
    {
     "data": {
      "application/vnd.jupyter.widget-view+json": {
       "model_id": "1ec29b9b4d814330b4826aad5a7fe378",
       "version_major": 2,
       "version_minor": 0
      },
      "text/plain": [
       "iteration:   0%|          | 0/1500 [00:00<?, ?it/s]"
      ]
     },
     "metadata": {},
     "output_type": "display_data"
    }
   ],
   "source": [
    "%matplotlib inline\n",
    "import warnings\n",
    "from bhnerf.optimization import LogFn\n",
    "warnings.simplefilter(\"ignore\")\n",
    "\n",
    "inclination, spin = 14.0, 0.0\n",
    "raytracing_args = image_plane_model(np.deg2rad(inclination), spin)\n",
    "\n",
    "seed = 1\n",
    "hparams.update(\n",
    "    seed=seed,\n",
    "    num_iters=1500\n",
    ")\n",
    "\n",
    "# Logging\n",
    "save_period = -1\n",
    "log_period = 200\n",
    "basename = 'inc_{:.1f}.seed_{}_num_iters_{}'\n",
    "runname = basename.format(inclination, seed, hparams['num_iters'])\n",
    "writer = bhnerf.optimization.SummaryWriter(logdir=os.path.join(log_dir, runname))\n",
    "log_fns = [\n",
    "    LogFn(lambda opt: writer.add_scalar('log_loss/train', np.log10(np.mean(opt.loss)), global_step=opt.step)), \n",
    "    LogFn(lambda opt: writer.recovery_3d(fov_M)(opt), log_period=log_period),\n",
    "    LogFn(lambda opt: writer.plot_lc_datafit(opt, 'training', train_step, data_train, ['I', 'Q', 'U'], t_train, batchsize=20), log_period=log_period),\n",
    "    LogFn(lambda opt: writer.plot_lc_datafit(opt, 'validation', val_step, data_val, ['I', 'Q', 'U'], t_val, batchsize=20), log_period=log_period)\n",
    "]\n",
    "        \n",
    "# Optimization\n",
    "optimizer = bhnerf.optimization.Optimizer(\n",
    "    hparams, predictor, raytracing_args, \n",
    "    save_period=save_period, \n",
    "    checkpoint_dir=os.path.join(checkpoint_dir, runname)\n",
    ")\n",
    "\n",
    "optimizer.run(batchsize, train_step, raytracing_args, log_fns=log_fns)\n",
    "writer.close()"
   ]
  },
  {
   "cell_type": "code",
   "execution_count": null,
   "id": "88bf1ecc-40e7-4e71-a919-5deeab2d4686",
   "metadata": {
    "tags": []
   },
   "outputs": [],
   "source": [
    "seeds = range(4)\n",
    "inclinations = np.arange(4, 82, 2, dtype=float)\n",
    "\n",
    "data_fit = np.full((len(inclinations), len(seeds)), fill_value=np.nan)\n",
    "validation_fit = np.full((len(inclinations), len(seeds)), fill_value=np.nan)\n",
    "for i, inc in enumerate(tqdm(inclinations, desc='inc')):\n",
    "    raytrace_args = image_plane_model(np.deg2rad(inc), spin)\n",
    "    for j, seed in enumerate(tqdm(seeds, desc='seed', leave=False)):\n",
    "        checkpoint_dir = recovery_path.joinpath(basename.format(inc, seed))\n",
    "        data_fit[i,j],_ = image_plane_fit(raytrace_args, checkpoint_dir, t_frames, target)"
   ]
  },
  {
   "cell_type": "code",
   "execution_count": 6,
   "id": "4db7fd8c-d709-4846-b8a9-36a7e62330c9",
   "metadata": {
    "tags": []
   },
   "outputs": [
    {
     "data": {
      "application/vnd.jupyter.widget-view+json": {
       "model_id": "a381328a2fd04dada9057135ffef36db",
       "version_major": 2,
       "version_minor": 0
      },
      "text/plain": [
       "inc:   0%|          | 0/39 [00:00<?, ?it/s]"
      ]
     },
     "metadata": {},
     "output_type": "display_data"
    },
    {
     "data": {
      "application/vnd.jupyter.widget-view+json": {
       "model_id": "",
       "version_major": 2,
       "version_minor": 0
      },
      "text/plain": [
       "seed:   0%|          | 0/4 [00:00<?, ?it/s]"
      ]
     },
     "metadata": {},
     "output_type": "display_data"
    },
    {
     "data": {
      "application/vnd.jupyter.widget-view+json": {
       "model_id": "",
       "version_major": 2,
       "version_minor": 0
      },
      "text/plain": [
       "seed:   0%|          | 0/4 [00:00<?, ?it/s]"
      ]
     },
     "metadata": {},
     "output_type": "display_data"
    },
    {
     "data": {
      "application/vnd.jupyter.widget-view+json": {
       "model_id": "",
       "version_major": 2,
       "version_minor": 0
      },
      "text/plain": [
       "seed:   0%|          | 0/4 [00:00<?, ?it/s]"
      ]
     },
     "metadata": {},
     "output_type": "display_data"
    },
    {
     "data": {
      "application/vnd.jupyter.widget-view+json": {
       "model_id": "",
       "version_major": 2,
       "version_minor": 0
      },
      "text/plain": [
       "seed:   0%|          | 0/4 [00:00<?, ?it/s]"
      ]
     },
     "metadata": {},
     "output_type": "display_data"
    },
    {
     "data": {
      "application/vnd.jupyter.widget-view+json": {
       "model_id": "",
       "version_major": 2,
       "version_minor": 0
      },
      "text/plain": [
       "seed:   0%|          | 0/4 [00:00<?, ?it/s]"
      ]
     },
     "metadata": {},
     "output_type": "display_data"
    },
    {
     "data": {
      "application/vnd.jupyter.widget-view+json": {
       "model_id": "",
       "version_major": 2,
       "version_minor": 0
      },
      "text/plain": [
       "seed:   0%|          | 0/4 [00:00<?, ?it/s]"
      ]
     },
     "metadata": {},
     "output_type": "display_data"
    },
    {
     "data": {
      "application/vnd.jupyter.widget-view+json": {
       "model_id": "",
       "version_major": 2,
       "version_minor": 0
      },
      "text/plain": [
       "seed:   0%|          | 0/4 [00:00<?, ?it/s]"
      ]
     },
     "metadata": {},
     "output_type": "display_data"
    },
    {
     "data": {
      "application/vnd.jupyter.widget-view+json": {
       "model_id": "",
       "version_major": 2,
       "version_minor": 0
      },
      "text/plain": [
       "seed:   0%|          | 0/4 [00:00<?, ?it/s]"
      ]
     },
     "metadata": {},
     "output_type": "display_data"
    },
    {
     "data": {
      "application/vnd.jupyter.widget-view+json": {
       "model_id": "",
       "version_major": 2,
       "version_minor": 0
      },
      "text/plain": [
       "seed:   0%|          | 0/4 [00:00<?, ?it/s]"
      ]
     },
     "metadata": {},
     "output_type": "display_data"
    },
    {
     "data": {
      "application/vnd.jupyter.widget-view+json": {
       "model_id": "",
       "version_major": 2,
       "version_minor": 0
      },
      "text/plain": [
       "seed:   0%|          | 0/4 [00:00<?, ?it/s]"
      ]
     },
     "metadata": {},
     "output_type": "display_data"
    },
    {
     "data": {
      "application/vnd.jupyter.widget-view+json": {
       "model_id": "",
       "version_major": 2,
       "version_minor": 0
      },
      "text/plain": [
       "seed:   0%|          | 0/4 [00:00<?, ?it/s]"
      ]
     },
     "metadata": {},
     "output_type": "display_data"
    },
    {
     "data": {
      "application/vnd.jupyter.widget-view+json": {
       "model_id": "",
       "version_major": 2,
       "version_minor": 0
      },
      "text/plain": [
       "seed:   0%|          | 0/4 [00:00<?, ?it/s]"
      ]
     },
     "metadata": {},
     "output_type": "display_data"
    },
    {
     "data": {
      "application/vnd.jupyter.widget-view+json": {
       "model_id": "",
       "version_major": 2,
       "version_minor": 0
      },
      "text/plain": [
       "seed:   0%|          | 0/4 [00:00<?, ?it/s]"
      ]
     },
     "metadata": {},
     "output_type": "display_data"
    },
    {
     "data": {
      "application/vnd.jupyter.widget-view+json": {
       "model_id": "",
       "version_major": 2,
       "version_minor": 0
      },
      "text/plain": [
       "seed:   0%|          | 0/4 [00:00<?, ?it/s]"
      ]
     },
     "metadata": {},
     "output_type": "display_data"
    },
    {
     "data": {
      "application/vnd.jupyter.widget-view+json": {
       "model_id": "",
       "version_major": 2,
       "version_minor": 0
      },
      "text/plain": [
       "seed:   0%|          | 0/4 [00:00<?, ?it/s]"
      ]
     },
     "metadata": {},
     "output_type": "display_data"
    },
    {
     "data": {
      "application/vnd.jupyter.widget-view+json": {
       "model_id": "",
       "version_major": 2,
       "version_minor": 0
      },
      "text/plain": [
       "seed:   0%|          | 0/4 [00:00<?, ?it/s]"
      ]
     },
     "metadata": {},
     "output_type": "display_data"
    },
    {
     "data": {
      "application/vnd.jupyter.widget-view+json": {
       "model_id": "",
       "version_major": 2,
       "version_minor": 0
      },
      "text/plain": [
       "seed:   0%|          | 0/4 [00:00<?, ?it/s]"
      ]
     },
     "metadata": {},
     "output_type": "display_data"
    },
    {
     "data": {
      "application/vnd.jupyter.widget-view+json": {
       "model_id": "",
       "version_major": 2,
       "version_minor": 0
      },
      "text/plain": [
       "seed:   0%|          | 0/4 [00:00<?, ?it/s]"
      ]
     },
     "metadata": {},
     "output_type": "display_data"
    },
    {
     "data": {
      "application/vnd.jupyter.widget-view+json": {
       "model_id": "",
       "version_major": 2,
       "version_minor": 0
      },
      "text/plain": [
       "seed:   0%|          | 0/4 [00:00<?, ?it/s]"
      ]
     },
     "metadata": {},
     "output_type": "display_data"
    },
    {
     "data": {
      "application/vnd.jupyter.widget-view+json": {
       "model_id": "",
       "version_major": 2,
       "version_minor": 0
      },
      "text/plain": [
       "seed:   0%|          | 0/4 [00:00<?, ?it/s]"
      ]
     },
     "metadata": {},
     "output_type": "display_data"
    },
    {
     "data": {
      "application/vnd.jupyter.widget-view+json": {
       "model_id": "",
       "version_major": 2,
       "version_minor": 0
      },
      "text/plain": [
       "seed:   0%|          | 0/4 [00:00<?, ?it/s]"
      ]
     },
     "metadata": {},
     "output_type": "display_data"
    },
    {
     "data": {
      "application/vnd.jupyter.widget-view+json": {
       "model_id": "",
       "version_major": 2,
       "version_minor": 0
      },
      "text/plain": [
       "seed:   0%|          | 0/4 [00:00<?, ?it/s]"
      ]
     },
     "metadata": {},
     "output_type": "display_data"
    },
    {
     "data": {
      "application/vnd.jupyter.widget-view+json": {
       "model_id": "",
       "version_major": 2,
       "version_minor": 0
      },
      "text/plain": [
       "seed:   0%|          | 0/4 [00:00<?, ?it/s]"
      ]
     },
     "metadata": {},
     "output_type": "display_data"
    },
    {
     "data": {
      "application/vnd.jupyter.widget-view+json": {
       "model_id": "",
       "version_major": 2,
       "version_minor": 0
      },
      "text/plain": [
       "seed:   0%|          | 0/4 [00:00<?, ?it/s]"
      ]
     },
     "metadata": {},
     "output_type": "display_data"
    },
    {
     "data": {
      "application/vnd.jupyter.widget-view+json": {
       "model_id": "",
       "version_major": 2,
       "version_minor": 0
      },
      "text/plain": [
       "seed:   0%|          | 0/4 [00:00<?, ?it/s]"
      ]
     },
     "metadata": {},
     "output_type": "display_data"
    },
    {
     "data": {
      "application/vnd.jupyter.widget-view+json": {
       "model_id": "",
       "version_major": 2,
       "version_minor": 0
      },
      "text/plain": [
       "seed:   0%|          | 0/4 [00:00<?, ?it/s]"
      ]
     },
     "metadata": {},
     "output_type": "display_data"
    },
    {
     "data": {
      "application/vnd.jupyter.widget-view+json": {
       "model_id": "",
       "version_major": 2,
       "version_minor": 0
      },
      "text/plain": [
       "seed:   0%|          | 0/4 [00:00<?, ?it/s]"
      ]
     },
     "metadata": {},
     "output_type": "display_data"
    },
    {
     "data": {
      "application/vnd.jupyter.widget-view+json": {
       "model_id": "",
       "version_major": 2,
       "version_minor": 0
      },
      "text/plain": [
       "seed:   0%|          | 0/4 [00:00<?, ?it/s]"
      ]
     },
     "metadata": {},
     "output_type": "display_data"
    },
    {
     "data": {
      "application/vnd.jupyter.widget-view+json": {
       "model_id": "",
       "version_major": 2,
       "version_minor": 0
      },
      "text/plain": [
       "seed:   0%|          | 0/4 [00:00<?, ?it/s]"
      ]
     },
     "metadata": {},
     "output_type": "display_data"
    },
    {
     "data": {
      "application/vnd.jupyter.widget-view+json": {
       "model_id": "",
       "version_major": 2,
       "version_minor": 0
      },
      "text/plain": [
       "seed:   0%|          | 0/4 [00:00<?, ?it/s]"
      ]
     },
     "metadata": {},
     "output_type": "display_data"
    },
    {
     "data": {
      "application/vnd.jupyter.widget-view+json": {
       "model_id": "",
       "version_major": 2,
       "version_minor": 0
      },
      "text/plain": [
       "seed:   0%|          | 0/4 [00:00<?, ?it/s]"
      ]
     },
     "metadata": {},
     "output_type": "display_data"
    },
    {
     "data": {
      "application/vnd.jupyter.widget-view+json": {
       "model_id": "",
       "version_major": 2,
       "version_minor": 0
      },
      "text/plain": [
       "seed:   0%|          | 0/4 [00:00<?, ?it/s]"
      ]
     },
     "metadata": {},
     "output_type": "display_data"
    },
    {
     "data": {
      "application/vnd.jupyter.widget-view+json": {
       "model_id": "",
       "version_major": 2,
       "version_minor": 0
      },
      "text/plain": [
       "seed:   0%|          | 0/4 [00:00<?, ?it/s]"
      ]
     },
     "metadata": {},
     "output_type": "display_data"
    },
    {
     "data": {
      "application/vnd.jupyter.widget-view+json": {
       "model_id": "",
       "version_major": 2,
       "version_minor": 0
      },
      "text/plain": [
       "seed:   0%|          | 0/4 [00:00<?, ?it/s]"
      ]
     },
     "metadata": {},
     "output_type": "display_data"
    },
    {
     "data": {
      "application/vnd.jupyter.widget-view+json": {
       "model_id": "",
       "version_major": 2,
       "version_minor": 0
      },
      "text/plain": [
       "seed:   0%|          | 0/4 [00:00<?, ?it/s]"
      ]
     },
     "metadata": {},
     "output_type": "display_data"
    },
    {
     "data": {
      "application/vnd.jupyter.widget-view+json": {
       "model_id": "",
       "version_major": 2,
       "version_minor": 0
      },
      "text/plain": [
       "seed:   0%|          | 0/4 [00:00<?, ?it/s]"
      ]
     },
     "metadata": {},
     "output_type": "display_data"
    },
    {
     "data": {
      "application/vnd.jupyter.widget-view+json": {
       "model_id": "",
       "version_major": 2,
       "version_minor": 0
      },
      "text/plain": [
       "seed:   0%|          | 0/4 [00:00<?, ?it/s]"
      ]
     },
     "metadata": {},
     "output_type": "display_data"
    },
    {
     "data": {
      "application/vnd.jupyter.widget-view+json": {
       "model_id": "",
       "version_major": 2,
       "version_minor": 0
      },
      "text/plain": [
       "seed:   0%|          | 0/4 [00:00<?, ?it/s]"
      ]
     },
     "metadata": {},
     "output_type": "display_data"
    },
    {
     "data": {
      "application/vnd.jupyter.widget-view+json": {
       "model_id": "",
       "version_major": 2,
       "version_minor": 0
      },
      "text/plain": [
       "seed:   0%|          | 0/4 [00:00<?, ?it/s]"
      ]
     },
     "metadata": {},
     "output_type": "display_data"
    }
   ],
   "source": [
    "seeds = range(4)\n",
    "inclinations = np.arange(4, 82, 2, dtype=float)\n",
    "\n",
    "data_fit = np.full((len(inclinations), len(seeds)), fill_value=np.nan)\n",
    "validation_fit = np.full((len(inclinations), len(seeds)), fill_value=np.nan)\n",
    "for i, inc in enumerate(tqdm(inclinations, desc='inc')):\n",
    "    raytrace_args = image_plane_model(np.deg2rad(inc), spin)\n",
    "    for j, seed in enumerate(tqdm(seeds, desc='seed', leave=False)):\n",
    "        checkpoint_dir = recovery_path.joinpath(basename.format(inc, seed))\n",
    "        data_fit[i,j],_ = image_plane_fit(raytrace_args, checkpoint_dir, t_train, data_train)\n",
    "        validation_fit[i,j],_ = image_plane_fit(raytrace_args, checkpoint_dir, t_val, data_val)"
   ]
  },
  {
   "cell_type": "code",
   "execution_count": 7,
   "id": "1eda85b0-5dcb-412d-8044-58ae04a3cfb2",
   "metadata": {},
   "outputs": [
    {
     "data": {
      "application/vnd.jupyter.widget-view+json": {
       "model_id": "82e7a20d4a3746fa826200adbe352039",
       "version_major": 2,
       "version_minor": 0
      },
      "text/plain": [
       "Canvas(toolbar=Toolbar(toolitems=[('Home', 'Reset original view', 'home', 'home'), ('Back', 'Back to previous …"
      ]
     },
     "metadata": {},
     "output_type": "display_data"
    }
   ],
   "source": [
    "plt.rcParams.update({\"text.usetex\": True, \"font.family\": \"Helvetica\"})\n",
    "\n",
    "%matplotlib widget\n",
    "plt.figure(figsize=(5,4))\n",
    "plt.errorbar(inclinations, np.nanmean(np.log(data_fit), axis=1), np.nanstd(np.log(data_fit), axis=1), color='tab:orange', marker='^', mfc='r', mec='r', label='data', markersize=5)\n",
    "plt.errorbar(inclinations, np.nanmean(np.log(validation_fit), axis=1), np.nanstd(np.log(validation_fit), axis=1), color='tab:blue', marker='o', mfc='blue', mec='blue', label='validation', markersize=4)\n",
    "plt.title(r'Inclination data-fit: $\\log \\chi^2(\\theta | {\\bf w}^\\star)$', fontsize=16)\n",
    "plt.xticks(fontsize='14')\n",
    "plt.yticks(fontsize='14')\n",
    "plt.axhline(0, color='black', linestyle='--',linewidth=0.75)\n",
    "plt.legend()\n",
    "plt.savefig(outpath.joinpath('inclination_data_fit.pdf'))"
   ]
  },
  {
   "cell_type": "code",
   "execution_count": 7,
   "id": "9683736a-f49a-4ceb-94d0-b8909df6efb1",
   "metadata": {},
   "outputs": [
    {
     "data": {
      "application/vnd.jupyter.widget-view+json": {
       "model_id": "a5f2cf38e8dd427e9590e973c76b3d73",
       "version_major": 2,
       "version_minor": 0
      },
      "text/plain": [
       "Canvas(toolbar=Toolbar(toolitems=[('Home', 'Reset original view', 'home', 'home'), ('Back', 'Back to previous …"
      ]
     },
     "metadata": {},
     "output_type": "display_data"
    }
   ],
   "source": [
    "plt.rcParams.update({\"text.usetex\": True, \"font.family\": \"Helvetica\"})\n",
    "\n",
    "%matplotlib widget\n",
    "plt.figure(figsize=(5,4))\n",
    "plt.errorbar(inclinations, np.nanmean(np.log(data_fit), axis=1), np.nanstd(np.log(data_fit), axis=1), color='tab:orange', marker='^', mfc='r', mec='r', label='data', markersize=5)\n",
    "plt.title(r'Inclination data-fit: $\\log \\chi^2(\\theta | {\\bf w}^\\star)$', fontsize=16)\n",
    "plt.xticks(fontsize='14')\n",
    "plt.yticks(fontsize='14')\n",
    "plt.axhline(0, color='black', linestyle='--',linewidth=0.75)\n",
    "plt.legend()\n",
    "\n",
    "plt.savefig(outpath.joinpath('inclination_data_fit.pdf'))"
   ]
  },
  {
   "cell_type": "code",
   "execution_count": 33,
   "id": "afbaf29c-515f-4594-8b89-378c81e8345b",
   "metadata": {},
   "outputs": [
    {
     "data": {
      "application/vnd.jupyter.widget-view+json": {
       "model_id": "885c2bd4a3a64334990026d2c52cdb38",
       "version_major": 2,
       "version_minor": 0
      },
      "text/plain": [
       "Canvas(toolbar=Toolbar(toolitems=[('Home', 'Reset original view', 'home', 'home'), ('Back', 'Back to previous …"
      ]
     },
     "metadata": {},
     "output_type": "display_data"
    }
   ],
   "source": [
    "plt.rcParams.update({\"text.usetex\": True, \"font.family\": \"Helvetica\"})\n",
    "\n",
    "%matplotlib widget\n",
    "plt.figure(figsize=(5,4))\n",
    "plt.errorbar(inclinations, np.nanmean(np.log(data_fit), axis=1), np.nanstd(np.log(data_fit), axis=1), color='tab:orange', marker='o', mfc='r', mec='r', label='68 min data', markersize=5)\n",
    "plt.errorbar(inclinations, np.nanmean(np.log(validation_fit), axis=1), np.nanstd(np.log(validation_fit), axis=1), color='tab:blue', marker='o', mfc='blue', mec='blue', label='35 min validation', markersize=4)\n",
    "\n",
    "plt.errorbar(inclinations, np.nanmean(np.log(data_fit1), axis=1), np.nanstd(np.log(data_fit1), axis=1), color='tab:orange', marker='^', mfc='r', mec='r', label='100 min data', markersize=5)\n",
    "plt.errorbar(inclinations, np.nanmean(np.log(validation_fit1), axis=1), np.nanstd(np.log(validation_fit1), axis=1), color='tab:blue', marker='^', mfc='blue', mec='blue', label='45 min validation', markersize=4)\n",
    "\n",
    "plt.title(r'Inclination data-fit: $\\log \\chi^2(\\theta | {\\bf w}^\\star)$', fontsize=16)\n",
    "plt.xticks(fontsize='14')\n",
    "plt.yticks(fontsize='14')\n",
    "plt.axhline(0, color='black', linestyle='--',linewidth=0.75)\n",
    "plt.legend(fontsize=12)\n",
    "\n",
    "plt.savefig(outpath.joinpath('inclination_data_fit.pdf'))"
   ]
  },
  {
   "cell_type": "markdown",
   "id": "08eec69e-6809-4feb-a717-a8bcb2dad173",
   "metadata": {
    "tags": []
   },
   "source": [
    "# Visualize a single recovery\n",
    "---\n",
    "Visualize a single 3D recovery / datafit for fixed black-hole parameters"
   ]
  },
  {
   "cell_type": "code",
   "execution_count": 17,
   "id": "8a2fd9c8-1941-4c77-8982-6522847f218f",
   "metadata": {},
   "outputs": [
    {
     "data": {
      "application/vnd.jupyter.widget-view+json": {
       "model_id": "f9999b459fa840bf8a779435bab36bf9",
       "version_major": 2,
       "version_minor": 0
      },
      "text/plain": [
       "VBox(children=(Figure(camera=PerspectiveCamera(fov=45.0, position=(0.0, -2.1650635094610964, 1.250000000000000…"
      ]
     },
     "metadata": {},
     "output_type": "display_data"
    }
   ],
   "source": [
    "basename = 'inc_{:.1f}.seed_{}'\n",
    "recovery_path = Path('../checkpoints/alma/intrinsic_fits/vertical_b_variable_pixels1_testsubpix/')\n",
    "\n",
    "seed = 0\n",
    "inclination = 12.0\n",
    "resolution = 64\n",
    "checkpoint_dir = recovery_path.joinpath(basename.format(inclination, seed))\n",
    "\n",
    "grid_1d = np.linspace(-fov_M/2, fov_M/2, resolution)\n",
    "coords = np.array(np.meshgrid(grid_1d, grid_1d, grid_1d, indexing='ij'))\n",
    "emission = sample_3D_recovery(checkpoint_dir, coords)\n",
    "bhnerf.visualization.ipyvolume_3d(emission_clipped, fov=fov_M, level=[0.1, .2, 0.6])"
   ]
  },
  {
   "cell_type": "code",
   "execution_count": null,
   "id": "6bbe748c-60c7-4dab-bfdd-270344614813",
   "metadata": {},
   "outputs": [],
   "source": [
    "raytrace_args = image_plane_model(np.deg2rad(inclination), spin)\n",
    "datafit, image_plane = image_plane_fit(raytrace_args, checkpoint_dir, t_train, data_train)\n",
    "model = image_plane.sum(axis=(-1,-2))\n",
    "    \n",
    "datafit, image_plane = image_plane_fit(raytrace_args, checkpoint_dir, t_train, data_train)\n",
    "%matplotlib widget\n",
    "plt.rcParams.update({\"text.usetex\": True, \"font.family\": \"Helvetica\",})\n",
    "axes = bhnerf.visualization.plot_stokes_lc(data_train[:,1:], ['Q','U'], t_train, label='ALMA', color='black')\n",
    "bhnerf.visualization.plot_stokes_lc(model[:,1:], ['Q','U'], t_train, axes=axes, color='r', fmt='x', label='Model')\n",
    "\n",
    "titles = [r'$I_Q$ datafit', r'$I_U$ datafit', r'$Q-U$ datafit']\n",
    "for ax, title in zip(axes, titles):\n",
    "    ax.set_title(title, fontsize=16)\n",
    "    ax.legend()\n",
    "    \n",
    "axes[0].set_xlabel('Time [UT]', fontsize=12)\n",
    "axes[1].set_xlabel('Time [UT]', fontsize=12)\n",
    "plt.tight_layout()\n",
    "\n",
    "savepath = outpath.joinpath(basename.format(inclination, seed))\n",
    "savepath.mkdir(parents=True, exist_ok=True)\n",
    "plt.savefig(savepath.joinpath('QU.datafit.pdf'), bbox_inches='tight')"
   ]
  },
  {
   "cell_type": "code",
   "execution_count": 260,
   "id": "3eb466d4-be7d-48f4-b2f8-86ff47938b1f",
   "metadata": {},
   "outputs": [
    {
     "data": {
      "application/vnd.jupyter.widget-view+json": {
       "model_id": "71af8a84ca8c473c88d9dd3224126138",
       "version_major": 2,
       "version_minor": 0
      },
      "text/plain": [
       "Canvas(toolbar=Toolbar(toolitems=[('Home', 'Reset original view', 'home', 'home'), ('Back', 'Back to previous …"
      ]
     },
     "metadata": {},
     "output_type": "display_data"
    },
    {
     "data": {
      "text/plain": [
       "<matplotlib.image.AxesImage at 0x7f2640220fd0>"
      ]
     },
     "execution_count": 260,
     "metadata": {},
     "output_type": "execute_result"
    }
   ],
   "source": [
    "%matplotlib widget\n",
    "plt.imshow(image_plane[0, 0], origin='lower')"
   ]
  },
  {
   "cell_type": "code",
   "execution_count": 266,
   "id": "c9d01720-80f3-4219-a54e-2de5ca5ede73",
   "metadata": {},
   "outputs": [
    {
     "data": {
      "application/vnd.jupyter.widget-view+json": {
       "model_id": "11a08d4b631244c88ca8e9c2a6d836e0",
       "version_major": 2,
       "version_minor": 0
      },
      "text/plain": [
       "Canvas(toolbar=Toolbar(toolitems=[('Home', 'Reset original view', 'home', 'home'), ('Back', 'Back to previous …"
      ]
     },
     "metadata": {},
     "output_type": "display_data"
    }
   ],
   "source": [
    "fov_rad = (fov_M * consts.GM_c2(consts.sgra_mass) / consts.sgra_distance.to('m')) * units.rad\n",
    "psize = fov_rad.value / num_alpha\n",
    "\n",
    "im = eh.image.Image(np.rot90(image_plane[0,0], 2), psize, 0, 0)\n",
    "im.display();"
   ]
  },
  {
   "cell_type": "code",
   "execution_count": 44,
   "id": "177d9af9-3d34-4222-81b1-e07a80f87003",
   "metadata": {},
   "outputs": [
    {
     "data": {
      "application/vnd.jupyter.widget-view+json": {
       "model_id": "c76bb6d3751b411694bd09a87d47caff",
       "version_major": 2,
       "version_minor": 0
      },
      "text/plain": [
       "Canvas(toolbar=Toolbar(toolitems=[('Home', 'Reset original view', 'home', 'home'), ('Back', 'Back to previous …"
      ]
     },
     "metadata": {},
     "output_type": "display_data"
    },
    {
     "data": {
      "text/plain": [
       "<matplotlib.animation.FuncAnimation at 0x7f2a0458b8e0>"
      ]
     },
     "execution_count": 44,
     "metadata": {},
     "output_type": "execute_result"
    }
   ],
   "source": [
    "%matplotlib widget\n",
    "movie_list = [xr.DataArray(image_plane[:, i], dims=['t','beta','alpha']) for i in range(image_plane.shape[1])]\n",
    "fig, axes = plt.subplots(1, 3, figsize=(10, 3))\n",
    "bhnerf.visualization.animate_movies_synced(movie_list, axes, titles=['I', 'Q', 'U'], vmin=[0, -.02, -.02], vmax=[.03, .02, .01])"
   ]
  },
  {
   "cell_type": "markdown",
   "id": "f4a53235-c605-4683-b081-bdbfd7d95e1b",
   "metadata": {
    "jp-MarkdownHeadingCollapsed": true,
    "tags": []
   },
   "source": [
    "# Component decomposition"
   ]
  },
  {
   "cell_type": "code",
   "execution_count": null,
   "id": "78f8a487-4d26-4f5f-9994-74c0939dfa17",
   "metadata": {},
   "outputs": [],
   "source": [
    "raytrace_args = image_plane_model(np.deg2rad(inclination), spin)\n",
    "model_decomposition = []\n",
    "for clip_rmin, clip_rmax in zip([0, 13, 18], [13, 18, np.inf]):\n",
    "    datafit, image_plane = image_plane_fit(raytrace_args, checkpoint_dir, t_train, data_train, clip_rmin, clip_rmax)\n",
    "    model_decomposition.append(image_plane.sum(axis=(-1,-2)))\n",
    "    \n",
    "datafit, image_plane = image_plane_fit(raytrace_args, checkpoint_dir, t_train, data_train)\n",
    "%matplotlib widget\n",
    "plt.rcParams.update({\"text.usetex\": True, \"font.family\": \"Helvetica\",})\n",
    "axes = bhnerf.visualization.plot_stokes_lc(data_train[:,1:], ['Q','U'], t_train, label='ALMA', color='black')\n",
    "colors = ['tab:orange', 'tab:green', 'tab:blue']\n",
    "for i, model in enumerate(model_decomposition):\n",
    "    bhnerf.visualization.plot_stokes_lc(model[:,1:], ['Q','U'], t_train, axes=axes, label='region {}'.format(i), color=colors[i])\n",
    "bhnerf.visualization.plot_stokes_lc(np.sum(model_decomposition, axis=0)[:,1:], ['Q','U'], t_train, axes=axes, color='r', fmt='x', label='Model')\n",
    "\n",
    "titles = [r'$I_Q$ datafit', r'$I_U$ datafit', r'$Q-U$ datafit']\n",
    "for ax, title in zip(axes, titles):\n",
    "    ax.set_title(title, fontsize=16)\n",
    "    ax.legend()\n",
    "    \n",
    "axes[0].set_xlabel('Time [UT]', fontsize=12)\n",
    "axes[1].set_xlabel('Time [UT]', fontsize=12)\n",
    "plt.tight_layout()\n",
    "\n",
    "savepath = outpath.joinpath(basename.format(inclination, seed))\n",
    "savepath.mkdir(parents=True, exist_ok=True)\n",
    "plt.savefig(savepath.joinpath('QU.datafit.multiple_components.pdf'), bbox_inches='tight')"
   ]
  },
  {
   "cell_type": "code",
   "execution_count": 34,
   "id": "a1de454e-5a0a-4058-b437-4218693b0c46",
   "metadata": {},
   "outputs": [
    {
     "data": {
      "application/vnd.jupyter.widget-view+json": {
       "model_id": "b83554af70c44ec2989952be3ad2bd41",
       "version_major": 2,
       "version_minor": 0
      },
      "text/plain": [
       "view angle:   0%|          | 0/2 [00:00<?, ?it/s]"
      ]
     },
     "metadata": {},
     "output_type": "display_data"
    }
   ],
   "source": [
    "view_zeniths = [np.deg2rad(35), np.deg2rad(65)]\n",
    "jit = False if len(view_zeniths) < 5 else True\n",
    "resolution = 256\n",
    "bh_radius = 1 + np.sqrt(1-spin**2)\n",
    "cam_r = 55.\n",
    "linewidth = 0.14\n",
    "norm_const =  0.05\n",
    "visualizer = bhnerf.visualization.VolumeVisualizer(resolution, resolution, resolution)\n",
    "\n",
    "images = np.empty((len(view_zeniths), 3, resolution, resolution, 3))\n",
    "for i, zenith in enumerate(tqdm(view_zeniths, desc='view angle')):\n",
    "    visualizer.set_view(cam_r=cam_r, domain_r=rmax, azimuth=0.0, zenith=zenith)\n",
    "    checkpoint_dir = recovery_path.joinpath(basename.format(inclination, seed))\n",
    "    emission = sample_3D_recovery(checkpoint_dir, visualizer.coords, chunk=32)\n",
    "    for j, (clip_rmin, clip_rmax) in enumerate(zip([0, 13, 18], [13, 18, np.inf])):\n",
    "        emission_clipped = bhnerf.emission.fill_unsupervised_emission(emission, visualizer.coords, clip_rmin, clip_rmax, z_width)\n",
    "        images[i,j] = visualizer.render(emission_clipped / norm_const, facewidth=1.9*rmax, jit=jit, bh_radius=bh_radius, linewidth=linewidth).clip(a_max=1)"
   ]
  },
  {
   "cell_type": "code",
   "execution_count": 35,
   "id": "2fb2c687-6ae0-4785-84fa-9ccf1a892b13",
   "metadata": {},
   "outputs": [
    {
     "data": {
      "application/vnd.jupyter.widget-view+json": {
       "model_id": "6124598c796b4a5a9cd86c2f1f1c9276",
       "version_major": 2,
       "version_minor": 0
      },
      "text/plain": [
       "Canvas(toolbar=Toolbar(toolitems=[('Home', 'Reset original view', 'home', 'home'), ('Back', 'Back to previous …"
      ]
     },
     "metadata": {},
     "output_type": "display_data"
    },
    {
     "data": {
      "application/vnd.jupyter.widget-view+json": {
       "model_id": "c0eac7d82113450db9d1bbbe3672f3ee",
       "version_major": 2,
       "version_minor": 0
      },
      "text/plain": [
       "Canvas(toolbar=Toolbar(toolitems=[('Home', 'Reset original view', 'home', 'home'), ('Back', 'Back to previous …"
      ]
     },
     "metadata": {},
     "output_type": "display_data"
    },
    {
     "data": {
      "application/vnd.jupyter.widget-view+json": {
       "model_id": "1f51fb71f00a4dc69dd9dd64d9d050fd",
       "version_major": 2,
       "version_minor": 0
      },
      "text/plain": [
       "Canvas(toolbar=Toolbar(toolitems=[('Home', 'Reset original view', 'home', 'home'), ('Back', 'Back to previous …"
      ]
     },
     "metadata": {},
     "output_type": "display_data"
    }
   ],
   "source": [
    "from mpl_toolkits.axes_grid1 import make_axes_locatable\n",
    "from matplotlib.colors import Normalize\n",
    "\n",
    "for j in range(3):\n",
    "    fig, axes = plt.subplots(1, len(images[:,j]), figsize=(9,4))\n",
    "    for ax, image in zip(axes, images[:,j]):\n",
    "        ax.imshow(image)\n",
    "        ax.set_axis_off()\n",
    "\n",
    "    ax = fig.add_subplot(132)\n",
    "    ax.set_visible(False)\n",
    "    plt.tight_layout()\n",
    "\n",
    "    savepath = outpath.joinpath(basename.format(inclination, seed))\n",
    "    savepath.mkdir(parents=True, exist_ok=True)\n",
    "    plt.savefig(savepath.joinpath('3D.component_{}.pdf'.format(j)), bbox_inches='tight')"
   ]
  },
  {
   "cell_type": "markdown",
   "id": "fbbbe67f-c030-44bf-bdf1-853a4d5c0986",
   "metadata": {
    "jp-MarkdownHeadingCollapsed": true,
    "tags": []
   },
   "source": [
    "# Visualize average recoveries\n",
    "---\n",
    "Visualize an average recovery with fixed black-hole parameters"
   ]
  },
  {
   "cell_type": "code",
   "execution_count": 11,
   "id": "bb9b7aec-8017-4a87-b4d9-29c6826861fc",
   "metadata": {
    "tags": []
   },
   "outputs": [
    {
     "data": {
      "application/vnd.jupyter.widget-view+json": {
       "model_id": "b12752207d454a6693a307264de059e4",
       "version_major": 2,
       "version_minor": 0
      },
      "text/plain": [
       "view angle:   0%|          | 0/2 [00:00<?, ?it/s]"
      ]
     },
     "metadata": {},
     "output_type": "display_data"
    },
    {
     "data": {
      "application/vnd.jupyter.widget-view+json": {
       "model_id": "",
       "version_major": 2,
       "version_minor": 0
      },
      "text/plain": [
       "inc:   0%|          | 0/1 [00:00<?, ?it/s]"
      ]
     },
     "metadata": {},
     "output_type": "display_data"
    },
    {
     "data": {
      "application/vnd.jupyter.widget-view+json": {
       "model_id": "",
       "version_major": 2,
       "version_minor": 0
      },
      "text/plain": [
       "seed:   0%|          | 0/4 [00:00<?, ?it/s]"
      ]
     },
     "metadata": {},
     "output_type": "display_data"
    },
    {
     "data": {
      "application/vnd.jupyter.widget-view+json": {
       "model_id": "",
       "version_major": 2,
       "version_minor": 0
      },
      "text/plain": [
       "inc:   0%|          | 0/1 [00:00<?, ?it/s]"
      ]
     },
     "metadata": {},
     "output_type": "display_data"
    },
    {
     "data": {
      "application/vnd.jupyter.widget-view+json": {
       "model_id": "",
       "version_major": 2,
       "version_minor": 0
      },
      "text/plain": [
       "seed:   0%|          | 0/4 [00:00<?, ?it/s]"
      ]
     },
     "metadata": {},
     "output_type": "display_data"
    }
   ],
   "source": [
    "seeds = range(4)\n",
    "# inc_grid = np.arange(4, 24, 2, dtype=float)\n",
    "inc_grid = [12]\n",
    "\n",
    "view_zeniths = [np.deg2rad(35), np.deg2rad(65)]\n",
    "\n",
    "jit = False if len(view_zeniths) < 5 else True\n",
    "resolution = 256\n",
    "bh_radius = 1 + np.sqrt(1-spin**2)\n",
    "cam_r = 55.\n",
    "linewidth = 0.14\n",
    "norm_const =  0.05\n",
    "\n",
    "visualizer = bhnerf.visualization.VolumeVisualizer(resolution, resolution, resolution)\n",
    "\n",
    "images = []\n",
    "for zenith in tqdm(view_zeniths, desc='view angle'):\n",
    "    emission = 0\n",
    "    visualizer.set_view(cam_r=cam_r, domain_r=rmax, azimuth=0.0, zenith=zenith)\n",
    "    for inc in tqdm(inc_grid, desc='inc', leave=False):\n",
    "        for seed in tqdm(seeds, desc='seed', leave=False):\n",
    "            checkpoint_dir = recovery_path.joinpath(basename.format(inc, seed))\n",
    "            emission += sample_3D_recovery(checkpoint_dir, visualizer.coords, chunk=32) / (len(seeds)*len(inc_grid))\n",
    "        \n",
    "    image = visualizer.render(emission / norm_const, facewidth=1.9*rmax, jit=jit, bh_radius=bh_radius, linewidth=linewidth).clip(a_max=1)\n",
    "    images.append(image)"
   ]
  },
  {
   "cell_type": "code",
   "execution_count": 12,
   "id": "a1446ba8-bcc3-4dac-85f4-1db063256942",
   "metadata": {},
   "outputs": [
    {
     "data": {
      "application/vnd.jupyter.widget-view+json": {
       "model_id": "67d1786f923d4f9d843cf8336b51034f",
       "version_major": 2,
       "version_minor": 0
      },
      "text/plain": [
       "Canvas(toolbar=Toolbar(toolitems=[('Home', 'Reset original view', 'home', 'home'), ('Back', 'Back to previous …"
      ]
     },
     "metadata": {},
     "output_type": "display_data"
    }
   ],
   "source": [
    "from mpl_toolkits.axes_grid1 import make_axes_locatable\n",
    "from matplotlib.colors import Normalize\n",
    "\n",
    "fig, axes = plt.subplots(1, len(images), figsize=(9,4))\n",
    "for ax, image in zip(axes, images):\n",
    "    ax.imshow(image)\n",
    "    ax.set_axis_off()\n",
    "\n",
    "ax = fig.add_subplot(132)\n",
    "ax.set_visible(False)\n",
    "divider = make_axes_locatable(ax)\n",
    "cax = divider.append_axes('bottom', size='3%', pad=-1)\n",
    "cmap = plt.cm.ScalarMappable(norm=Normalize(0, norm_const, clip=True), cmap=plt.get_cmap('hot'))\n",
    "cbar = fig.colorbar(cmap, cax=cax, orientation='horizontal', shrink=.0)\n",
    "cbar.ax.tick_params(labelsize=12) \n",
    "plt.tight_layout()\n",
    "\n",
    "outname = '3D_Recovery_seeds_{}_incs_{}.pdf'.format('-'.join([str(seed) for seed in seeds]), '-'.join([str(int(inc)) for inc in inc_grid]))\n",
    "plt.savefig(outpath.joinpath(outname), bbox_inches='tight')"
   ]
  },
  {
   "cell_type": "markdown",
   "id": "b773cbf9-644d-4443-9daa-757c84f3f288",
   "metadata": {
    "jp-MarkdownHeadingCollapsed": true,
    "tags": []
   },
   "source": [
    "# DEBUG"
   ]
  },
  {
   "cell_type": "code",
   "execution_count": 7,
   "id": "15b0f676-b4de-4d2b-96aa-ef020d67e01c",
   "metadata": {},
   "outputs": [
    {
     "data": {
      "application/vnd.jupyter.widget-view+json": {
       "model_id": "e41f6170d6d147f8a507f9509ffe6719",
       "version_major": 2,
       "version_minor": 0
      },
      "text/plain": [
       "seed:   0%|          | 0/3 [00:00<?, ?it/s]"
      ]
     },
     "metadata": {},
     "output_type": "display_data"
    },
    {
     "data": {
      "application/vnd.jupyter.widget-view+json": {
       "model_id": "",
       "version_major": 2,
       "version_minor": 0
      },
      "text/plain": [
       "inc:   0%|          | 0/9 [00:00<?, ?it/s]"
      ]
     },
     "metadata": {},
     "output_type": "display_data"
    },
    {
     "data": {
      "application/vnd.jupyter.widget-view+json": {
       "model_id": "",
       "version_major": 2,
       "version_minor": 0
      },
      "text/plain": [
       "inc:   0%|          | 0/9 [00:00<?, ?it/s]"
      ]
     },
     "metadata": {},
     "output_type": "display_data"
    },
    {
     "data": {
      "application/vnd.jupyter.widget-view+json": {
       "model_id": "",
       "version_major": 2,
       "version_minor": 0
      },
      "text/plain": [
       "inc:   0%|          | 0/9 [00:00<?, ?it/s]"
      ]
     },
     "metadata": {},
     "output_type": "display_data"
    }
   ],
   "source": [
    "seeds = range(5)\n",
    "inclinations = range(4, \n",
    "resolution = 64\n",
    "\n",
    "grid_1d = np.linspace(-fov_M/2, fov_M/2, resolution)\n",
    "coords = np.array(np.meshgrid(grid_1d, grid_1d, grid_1d, indexing='ij'))\n",
    "emission = np.zeros((len(inclinations), len(seeds), resolution, resolution, resolution))\n",
    "for i, inc in enumerate(tqdm(inclinations, desc='inc', leave=False)):\n",
    "    for j, seed in enumerate(tqdm(seeds, desc='seed')):\n",
    "        checkpoint_dir = recovery_path.joinpath(basename.format(inc, seed))\n",
    "        emission[i,j] = sample_3D_recovery(checkpoint_dir, coords)\n",
    "\n",
    "emission_mean = emission.mean(axis=(0,1))\n",
    "emission_std = emission.std(axis=(0,1))\n",
    "\n",
    "bhnerf.visualization.ipyvolume_3d(emission_mean, fov=fov_M, level=[0.1, .2, 0.6])"
   ]
  },
  {
   "cell_type": "code",
   "execution_count": 62,
   "id": "ad112317-182a-4374-9db8-a6ffa4aa96ce",
   "metadata": {},
   "outputs": [],
   "source": [
    "res = 64\n",
    "emission_xr = xr.DataArray(\n",
    "    data=bhnerf.network.sample_3d_grid(predictor.apply, state.params, fov=fov_M, resolution=res),\n",
    "    coords=bhnerf.utils.linspace_xr((res, res, res), -rmax, rmax).coords\n",
    ")"
   ]
  },
  {
   "cell_type": "code",
   "execution_count": null,
   "id": "6df13ccc-15f7-4076-9d4f-eb115263e870",
   "metadata": {},
   "outputs": [],
   "source": [
    "bhnerf.visualization.ipyvolume_3d(emission_mean, fov=fov_M, level=[0, 0.2, 0.7], controls=False)"
   ]
  },
  {
   "cell_type": "code",
   "execution_count": 71,
   "id": "472d6069-c336-4a6e-8841-4ab352854f21",
   "metadata": {},
   "outputs": [],
   "source": [
    "grid_1d = np.linspace(-fov_M/2, fov_M/2, res)\n",
    "coords = np.array(np.meshgrid(grid_1d, grid_1d, grid_1d, indexing='ij'))\n",
    "emission_r = bhnerf.emission.fill_unsupervised_emission(emission_mean, coords, rmin=11, z_width=z_width) - \\\n",
    "bhnerf.emission.fill_unsupervised_emission(emission_mean, coords, rmin=12, z_width=z_width)"
   ]
  },
  {
   "cell_type": "code",
   "execution_count": 72,
   "id": "62849164-b38e-40b6-8ffc-b3cc6eb63d29",
   "metadata": {},
   "outputs": [
    {
     "data": {
      "application/vnd.jupyter.widget-view+json": {
       "model_id": "8649f3c24c4540359364297b614f5ec6",
       "version_major": 2,
       "version_minor": 0
      },
      "text/plain": [
       "VBox(children=(Figure(camera=PerspectiveCamera(fov=45.0, position=(0.0, -2.1650635094610964, 1.250000000000000…"
      ]
     },
     "metadata": {},
     "output_type": "display_data"
    }
   ],
   "source": [
    "bhnerf.visualization.ipyvolume_3d(emission_r, fov=fov_M, level=[0, 0.2, 0.7], controls=False)"
   ]
  },
  {
   "cell_type": "code",
   "execution_count": 27,
   "id": "a9fb17b6-0c3a-44c8-80b0-5f2ebaa32b6a",
   "metadata": {},
   "outputs": [],
   "source": [
    "emission_12 = emission_estimates[:,6].mean(axis=0)"
   ]
  },
  {
   "cell_type": "code",
   "execution_count": 36,
   "id": "b52357ce-87b9-4530-873e-246ca7200153",
   "metadata": {},
   "outputs": [
    {
     "data": {
      "application/vnd.jupyter.widget-view+json": {
       "model_id": "4ddff258b5744735958cd5d80aebb756",
       "version_major": 2,
       "version_minor": 0
      },
      "text/plain": [
       "VBox(children=(VBox(children=(HBox(children=(Label(value='levels:'), FloatSlider(value=0.0, max=1.0, step=0.00…"
      ]
     },
     "metadata": {},
     "output_type": "display_data"
    }
   ],
   "source": [
    "bhnerf.visualization.ipyvolume_3d(emission_mean/emission_std, fov=fov_M, \n",
    "                                  level=[0, 0.6, 0.7], controls=True)"
   ]
  },
  {
   "cell_type": "code",
   "execution_count": 37,
   "id": "556e53cc-f6fc-4e64-8d3d-8706c9cc93d3",
   "metadata": {},
   "outputs": [
    {
     "data": {
      "application/vnd.jupyter.widget-view+json": {
       "model_id": "a28dcd41133a4a5db4e3468c21fa250c",
       "version_major": 2,
       "version_minor": 0
      },
      "text/plain": [
       "seed:   0%|          | 0/3 [00:00<?, ?it/s]"
      ]
     },
     "metadata": {},
     "output_type": "display_data"
    },
    {
     "data": {
      "application/vnd.jupyter.widget-view+json": {
       "model_id": "",
       "version_major": 2,
       "version_minor": 0
      },
      "text/plain": [
       "inc:   0%|          | 0/9 [00:00<?, ?it/s]"
      ]
     },
     "metadata": {},
     "output_type": "display_data"
    },
    {
     "data": {
      "application/vnd.jupyter.widget-view+json": {
       "model_id": "",
       "version_major": 2,
       "version_minor": 0
      },
      "text/plain": [
       "inc:   0%|          | 0/9 [00:00<?, ?it/s]"
      ]
     },
     "metadata": {},
     "output_type": "display_data"
    },
    {
     "data": {
      "application/vnd.jupyter.widget-view+json": {
       "model_id": "",
       "version_major": 2,
       "version_minor": 0
      },
      "text/plain": [
       "inc:   0%|          | 0/9 [00:00<?, ?it/s]"
      ]
     },
     "metadata": {},
     "output_type": "display_data"
    }
   ],
   "source": [
    "jit = False\n",
    "resolution = 256\n",
    "bh_radius = 2.0\n",
    "cam_r = 55.\n",
    "\n",
    "\n",
    "bh_radius = 1 + np.sqrt(1-spin**2)\n",
    "norm_const =  0.05\n",
    "visualizer = bhnerf.visualization.VolumeVisualizer(resolution, resolution, resolution)\n",
    "visualizer.set_view(cam_r=cam_r, domain_r=rmax, azimuth=0.0, zenith=np.deg2rad(35))\n",
    "\n",
    "Q_frac = 0.85\n",
    "seeds = [2,3,4]\n",
    "inc_grid = np.arange(4, 22, 2)\n",
    "emission = 0\n",
    "\n",
    "for i, seed in enumerate(tqdm(seeds, desc='seed')):\n",
    "    for j, inclination in enumerate(tqdm(inc_grid, desc='inc', leave=False)):\n",
    "        checkpoint_dir = checkpoint_dir_fmt.format(seed, Q_frac, inclination)\n",
    "        predictor = bhnerf.network.NeRF_Predictor.from_yml(checkpoint_dir)\n",
    "        state = checkpoints.restore_checkpoint(checkpoint_dir, None)\n",
    "        emission += bhnerf.network.sample_3d_grid(predictor.apply, state['params'], \n",
    "                                                  coords=visualizer.coords, chunk=32)\n",
    "emission = emission/(len(seeds)*len(inc_grid))\n",
    "image = visualizer.render(emission / norm_const, facewidth=1.9*rmax, jit=jit, \n",
    "                          bh_radius=bh_radius, linewidth=linewidth).clip(a_max=1)"
   ]
  },
  {
   "cell_type": "code",
   "execution_count": 51,
   "id": "519f988b-f5f5-439f-8a7b-567174a7d4e8",
   "metadata": {},
   "outputs": [
    {
     "name": "stdout",
     "output_type": "stream",
     "text": [
      "Warning: Cannot change to a different GUI toolkit: notebook. Using widget instead.\n"
     ]
    },
    {
     "data": {
      "application/vnd.jupyter.widget-view+json": {
       "model_id": "deb0fab6a09a427d82847ea8f91894d6",
       "version_major": 2,
       "version_minor": 0
      },
      "text/plain": [
       "Canvas(toolbar=Toolbar(toolitems=[('Home', 'Reset original view', 'home', 'home'), ('Back', 'Back to previous …"
      ]
     },
     "metadata": {},
     "output_type": "display_data"
    }
   ],
   "source": [
    "%matplotlib notebook\n",
    "plt.imshow(image)\n",
    "plt.savefig('alma/figures/mean_recovery.seeds_2_3_4.angles_4_to_20.pdf', bbox_inches='tight')"
   ]
  },
  {
   "cell_type": "code",
   "execution_count": 52,
   "id": "c6ea877f-9534-46aa-ada3-857a694c5905",
   "metadata": {},
   "outputs": [
    {
     "data": {
      "application/vnd.jupyter.widget-view+json": {
       "model_id": "070096e7cda6405e9fccc1d358456e51",
       "version_major": 2,
       "version_minor": 0
      },
      "text/plain": [
       "seed:   0%|          | 0/3 [00:00<?, ?it/s]"
      ]
     },
     "metadata": {},
     "output_type": "display_data"
    },
    {
     "data": {
      "application/vnd.jupyter.widget-view+json": {
       "model_id": "",
       "version_major": 2,
       "version_minor": 0
      },
      "text/plain": [
       "inc:   0%|          | 0/9 [00:00<?, ?it/s]"
      ]
     },
     "metadata": {},
     "output_type": "display_data"
    },
    {
     "data": {
      "application/vnd.jupyter.widget-view+json": {
       "model_id": "",
       "version_major": 2,
       "version_minor": 0
      },
      "text/plain": [
       "inc:   0%|          | 0/9 [00:00<?, ?it/s]"
      ]
     },
     "metadata": {},
     "output_type": "display_data"
    },
    {
     "data": {
      "application/vnd.jupyter.widget-view+json": {
       "model_id": "",
       "version_major": 2,
       "version_minor": 0
      },
      "text/plain": [
       "inc:   0%|          | 0/9 [00:00<?, ?it/s]"
      ]
     },
     "metadata": {},
     "output_type": "display_data"
    }
   ],
   "source": [
    "visualizer.set_view(cam_r=cam_r, domain_r=rmax, azimuth=0.0, zenith=np.deg2rad(65))\n",
    "for i, seed in enumerate(tqdm(seeds, desc='seed')):\n",
    "    for j, inclination in enumerate(tqdm(inc_grid, desc='inc', leave=False)):\n",
    "        checkpoint_dir = checkpoint_dir_fmt.format(seed, Q_frac, inclination)\n",
    "        predictor = bhnerf.network.NeRF_Predictor.from_yml(checkpoint_dir)\n",
    "        state = checkpoints.restore_checkpoint(checkpoint_dir, None)\n",
    "        emission += bhnerf.network.sample_3d_grid(predictor.apply, state['params'], \n",
    "                                                  coords=visualizer.coords, chunk=32)\n",
    "emission = emission/(len(seeds)*len(inc_grid))\n",
    "image = visualizer.render(emission / norm_const, facewidth=1.9*rmax, jit=jit, \n",
    "                          bh_radius=bh_radius, linewidth=linewidth).clip(a_max=1)"
   ]
  },
  {
   "cell_type": "code",
   "execution_count": 53,
   "id": "3453b1a6-40a0-41b6-abf3-3e3b25b92db7",
   "metadata": {},
   "outputs": [
    {
     "name": "stdout",
     "output_type": "stream",
     "text": [
      "Warning: Cannot change to a different GUI toolkit: notebook. Using widget instead.\n"
     ]
    },
    {
     "data": {
      "application/vnd.jupyter.widget-view+json": {
       "model_id": "1a4d5aa97f1e44408b806414a4a2e661",
       "version_major": 2,
       "version_minor": 0
      },
      "text/plain": [
       "Canvas(toolbar=Toolbar(toolitems=[('Home', 'Reset original view', 'home', 'home'), ('Back', 'Back to previous …"
      ]
     },
     "metadata": {},
     "output_type": "display_data"
    }
   ],
   "source": [
    "%matplotlib notebook\n",
    "plt.imshow(image)\n",
    "plt.savefig('alma/figures/mean_recovery.seeds_2_3_4.angles_4_to_20_view65.pdf', bbox_inches='tight')"
   ]
  },
  {
   "cell_type": "code",
   "execution_count": 131,
   "id": "2d1edae6-b8e6-4e85-86a2-bd4ebbdfbce6",
   "metadata": {},
   "outputs": [
    {
     "ename": "Exception",
     "evalue": "th_o should be a float in range (0,pi/2)",
     "output_type": "error",
     "traceback": [
      "\u001b[0;31m---------------------------------------------------------------------------\u001b[0m",
      "\u001b[0;31mException\u001b[0m                                 Traceback (most recent call last)",
      "\u001b[0;32m/tmp/ipykernel_63458/3364480254.py\u001b[0m in \u001b[0;36m<module>\u001b[0;34m\u001b[0m\n\u001b[1;32m      4\u001b[0m \u001b[0mtrain_step\u001b[0m \u001b[0;34m=\u001b[0m \u001b[0mbhnerf\u001b[0m\u001b[0;34m.\u001b[0m\u001b[0moptimization\u001b[0m\u001b[0;34m.\u001b[0m\u001b[0mTrainStep\u001b[0m\u001b[0;34m.\u001b[0m\u001b[0mimage\u001b[0m\u001b[0;34m(\u001b[0m\u001b[0mt_frames\u001b[0m\u001b[0;34m,\u001b[0m \u001b[0mtarget\u001b[0m\u001b[0;34m,\u001b[0m \u001b[0msigma\u001b[0m\u001b[0;34m,\u001b[0m \u001b[0mdtype\u001b[0m\u001b[0;34m=\u001b[0m\u001b[0;34m'lc'\u001b[0m\u001b[0;34m)\u001b[0m\u001b[0;34m\u001b[0m\u001b[0;34m\u001b[0m\u001b[0m\n\u001b[1;32m      5\u001b[0m \u001b[0;34m\u001b[0m\u001b[0m\n\u001b[0;32m----> 6\u001b[0;31m geos = bhnerf.kgeo.image_plane_geos(\n\u001b[0m\u001b[1;32m      7\u001b[0m     \u001b[0mspin\u001b[0m\u001b[0;34m,\u001b[0m \u001b[0minclination\u001b[0m\u001b[0;34m,\u001b[0m\u001b[0;34m\u001b[0m\u001b[0;34m\u001b[0m\u001b[0m\n\u001b[1;32m      8\u001b[0m     \u001b[0mnum_alpha\u001b[0m\u001b[0;34m=\u001b[0m\u001b[0;36m64\u001b[0m\u001b[0;34m,\u001b[0m \u001b[0mnum_beta\u001b[0m\u001b[0;34m=\u001b[0m\u001b[0;36m64\u001b[0m\u001b[0;34m,\u001b[0m\u001b[0;34m\u001b[0m\u001b[0;34m\u001b[0m\u001b[0m\n",
      "\u001b[0;32m/scratch/imaging/projects/bh_nerf/bhNeRF/bhnerf/kgeo.py\u001b[0m in \u001b[0;36mimage_plane_geos\u001b[0;34m(spin, inclination, alpha_range, beta_range, ngeo, num_alpha, num_beta, distance, E, M, verbose)\u001b[0m\n\u001b[1;32m     47\u001b[0m \u001b[0;34m\u001b[0m\u001b[0m\n\u001b[1;32m     48\u001b[0m     \u001b[0mobserver_coords\u001b[0m \u001b[0;34m=\u001b[0m \u001b[0;34m[\u001b[0m\u001b[0;36m0\u001b[0m\u001b[0;34m,\u001b[0m \u001b[0mdistance\u001b[0m\u001b[0;34m,\u001b[0m \u001b[0minclination\u001b[0m\u001b[0;34m,\u001b[0m \u001b[0;36m0\u001b[0m\u001b[0;34m]\u001b[0m\u001b[0;34m\u001b[0m\u001b[0;34m\u001b[0m\u001b[0m\n\u001b[0;32m---> 49\u001b[0;31m     \u001b[0mgeos\u001b[0m \u001b[0;34m=\u001b[0m \u001b[0mraytrace_ana\u001b[0m\u001b[0;34m(\u001b[0m\u001b[0mspin\u001b[0m\u001b[0;34m,\u001b[0m \u001b[0mobserver_coords\u001b[0m\u001b[0;34m,\u001b[0m \u001b[0mimage_coords\u001b[0m\u001b[0;34m,\u001b[0m \u001b[0mngeo\u001b[0m\u001b[0;34m,\u001b[0m \u001b[0mplotdata\u001b[0m\u001b[0;34m=\u001b[0m\u001b[0;32mFalse\u001b[0m\u001b[0;34m,\u001b[0m \u001b[0mverbose\u001b[0m\u001b[0;34m=\u001b[0m\u001b[0mverbose\u001b[0m\u001b[0;34m)\u001b[0m\u001b[0;34m\u001b[0m\u001b[0;34m\u001b[0m\u001b[0m\n\u001b[0m\u001b[1;32m     50\u001b[0m     \u001b[0mgeos\u001b[0m \u001b[0;34m=\u001b[0m \u001b[0mgeos\u001b[0m\u001b[0;34m.\u001b[0m\u001b[0mget_dataset\u001b[0m\u001b[0;34m(\u001b[0m\u001b[0mnum_alpha\u001b[0m\u001b[0;34m,\u001b[0m \u001b[0mnum_beta\u001b[0m\u001b[0;34m,\u001b[0m \u001b[0mE\u001b[0m\u001b[0;34m,\u001b[0m \u001b[0mM\u001b[0m\u001b[0;34m)\u001b[0m\u001b[0;34m\u001b[0m\u001b[0;34m\u001b[0m\u001b[0m\n\u001b[1;32m     51\u001b[0m     \u001b[0;32mreturn\u001b[0m \u001b[0mgeos\u001b[0m\u001b[0;34m\u001b[0m\u001b[0;34m\u001b[0m\u001b[0m\n",
      "\u001b[0;32m/scratch/imaging/projects/bh_nerf/bhNeRF/kgeo/kgeo/kerr_raytracing_ana.py\u001b[0m in \u001b[0;36mraytrace_ana\u001b[0;34m(a, observer_coords, image_coords, ngeo, do_phi_and_t, savedata, plotdata, verbose)\u001b[0m\n\u001b[1;32m     67\u001b[0m         \u001b[0;32mraise\u001b[0m \u001b[0mException\u001b[0m\u001b[0;34m(\u001b[0m\u001b[0;34m\"r_o should be a float >= 100\"\u001b[0m\u001b[0;34m)\u001b[0m\u001b[0;34m\u001b[0m\u001b[0;34m\u001b[0m\u001b[0m\n\u001b[1;32m     68\u001b[0m     \u001b[0;32mif\u001b[0m \u001b[0;32mnot\u001b[0m \u001b[0;34m(\u001b[0m\u001b[0misinstance\u001b[0m\u001b[0;34m(\u001b[0m\u001b[0mth_o\u001b[0m\u001b[0;34m,\u001b[0m\u001b[0mfloat\u001b[0m\u001b[0;34m)\u001b[0m \u001b[0;32mand\u001b[0m \u001b[0;34m(\u001b[0m\u001b[0;36m0\u001b[0m\u001b[0;34m<\u001b[0m\u001b[0mth_o\u001b[0m\u001b[0;34m<=\u001b[0m\u001b[0mnp\u001b[0m\u001b[0;34m.\u001b[0m\u001b[0mpi\u001b[0m\u001b[0;34m/\u001b[0m\u001b[0;36m2.\u001b[0m\u001b[0;34m)\u001b[0m\u001b[0;34m)\u001b[0m\u001b[0;34m:\u001b[0m\u001b[0;34m\u001b[0m\u001b[0;34m\u001b[0m\u001b[0m\n\u001b[0;32m---> 69\u001b[0;31m         \u001b[0;32mraise\u001b[0m \u001b[0mException\u001b[0m\u001b[0;34m(\u001b[0m\u001b[0;34m\"th_o should be a float in range (0,pi/2)\"\u001b[0m\u001b[0;34m)\u001b[0m\u001b[0;34m\u001b[0m\u001b[0;34m\u001b[0m\u001b[0m\n\u001b[0m\u001b[1;32m     70\u001b[0m     \u001b[0;32mif\u001b[0m \u001b[0;32mnot\u001b[0m \u001b[0misinstance\u001b[0m\u001b[0;34m(\u001b[0m\u001b[0malpha\u001b[0m\u001b[0;34m,\u001b[0m \u001b[0mnp\u001b[0m\u001b[0;34m.\u001b[0m\u001b[0mndarray\u001b[0m\u001b[0;34m)\u001b[0m\u001b[0;34m:\u001b[0m \u001b[0malpha\u001b[0m \u001b[0;34m=\u001b[0m \u001b[0mnp\u001b[0m\u001b[0;34m.\u001b[0m\u001b[0marray\u001b[0m\u001b[0;34m(\u001b[0m\u001b[0;34m[\u001b[0m\u001b[0malpha\u001b[0m\u001b[0;34m]\u001b[0m\u001b[0;34m)\u001b[0m\u001b[0;34m.\u001b[0m\u001b[0mflatten\u001b[0m\u001b[0;34m(\u001b[0m\u001b[0;34m)\u001b[0m\u001b[0;34m\u001b[0m\u001b[0;34m\u001b[0m\u001b[0m\n\u001b[1;32m     71\u001b[0m     \u001b[0;32mif\u001b[0m \u001b[0;32mnot\u001b[0m \u001b[0misinstance\u001b[0m\u001b[0;34m(\u001b[0m\u001b[0mbeta\u001b[0m\u001b[0;34m,\u001b[0m \u001b[0mnp\u001b[0m\u001b[0;34m.\u001b[0m\u001b[0mndarray\u001b[0m\u001b[0;34m)\u001b[0m\u001b[0;34m:\u001b[0m \u001b[0mbeta\u001b[0m \u001b[0;34m=\u001b[0m \u001b[0mnp\u001b[0m\u001b[0;34m.\u001b[0m\u001b[0marray\u001b[0m\u001b[0;34m(\u001b[0m\u001b[0;34m[\u001b[0m\u001b[0mbeta\u001b[0m\u001b[0;34m]\u001b[0m\u001b[0;34m)\u001b[0m\u001b[0;34m.\u001b[0m\u001b[0mflatten\u001b[0m\u001b[0;34m(\u001b[0m\u001b[0;34m)\u001b[0m\u001b[0;34m\u001b[0m\u001b[0;34m\u001b[0m\u001b[0m\n",
      "\u001b[0;31mException\u001b[0m: th_o should be a float in range (0,pi/2)"
     ]
    }
   ],
   "source": [
    "batchsize = 20\n",
    "\n",
    "J_inds = [['I', 'Q', 'U'].index(s) for s in stokes]\n",
    "train_step = bhnerf.optimization.TrainStep.image(t_frames, target, sigma, dtype='lc')\n",
    "\n",
    "geos = bhnerf.kgeo.image_plane_geos(\n",
    "    spin, inclination, \n",
    "    num_alpha=64, num_beta=64, \n",
    "    alpha_range=[-rmax, rmax],\n",
    "    beta_range=[-rmax, rmax]\n",
    ")\n",
    "geos = geos.fillna(0.0)\n",
    "t_injection = -float(geos.r_o)\n",
    "\n",
    "# Keplerian prograde velocity field\n",
    "Omega = rot_sign[Omega_dir] * np.sqrt(geos.M) / (geos.r**(3/2) + geos.spin * np.sqrt(geos.M))\n",
    "umu = bhnerf.kgeo.azimuthal_velocity_vector(geos, Omega)\n",
    "g = bhnerf.kgeo.doppler_factor(geos, umu)\n",
    "b = bhnerf.kgeo.magnetic_field(geos, *b_consts) \n",
    "J = np.nan_to_num(bhnerf.kgeo.parallel_transport(geos, umu, g, b, Q_frac=Q_frac, V_frac=0), 0.0)[J_inds]\n",
    "J_rot = bhnerf.emission.rotate_evpa(J, de_rot_model)\n",
    "raytracing_args = bhnerf.network.raytracing_args(geos, Omega, t_injection, t_frames[0], J_rot)\n",
    "params = predictor.init_params(raytracing_args)\n",
    "state = predictor.init_state(params, checkpoint_dir=checkpoint_dir)\n",
    "\n",
    "_, movie = bhnerf.optimization.total_movie_loss(batchsize, state, train_step, raytracing_args, return_frames=True)\n",
    "lc_est = movie.sum(axis=(-1,-2))"
   ]
  },
  {
   "cell_type": "code",
   "execution_count": 11,
   "id": "f7bad1bd-8015-4435-8c5b-aa4ce930b631",
   "metadata": {},
   "outputs": [
    {
     "data": {
      "application/vnd.jupyter.widget-view+json": {
       "model_id": "1d5c113f4fbe4881aa31efd48484b745",
       "version_major": 2,
       "version_minor": 0
      },
      "text/plain": [
       "Canvas(toolbar=Toolbar(toolitems=[('Home', 'Reset original view', 'home', 'home'), ('Back', 'Back to previous …"
      ]
     },
     "metadata": {},
     "output_type": "display_data"
    }
   ],
   "source": [
    "%matplotlib widget\n",
    "axes = bhnerf.visualization.plot_stokes_lc(target, stokes, t_frames, label='True')\n",
    "bhnerf.visualization.plot_stokes_lc(lc_est, stokes, t_frames, axes=axes, color='r', fmt='x', label='Estimate')\n",
    "for ax in axes:\n",
    "    ax.legend()"
   ]
  },
  {
   "cell_type": "code",
   "execution_count": 12,
   "id": "13625bd4-345c-407f-8d5b-cb053dd983b6",
   "metadata": {},
   "outputs": [
    {
     "data": {
      "application/vnd.jupyter.widget-view+json": {
       "model_id": "d223e7a991eb4f7aacc63bb9bef919fb",
       "version_major": 2,
       "version_minor": 0
      },
      "text/plain": [
       "Canvas(toolbar=Toolbar(toolitems=[('Home', 'Reset original view', 'home', 'home'), ('Back', 'Back to previous …"
      ]
     },
     "metadata": {},
     "output_type": "display_data"
    },
    {
     "data": {
      "text/plain": [
       "<matplotlib.animation.FuncAnimation at 0x7f48442c69d0>"
      ]
     },
     "execution_count": 12,
     "metadata": {},
     "output_type": "execute_result"
    }
   ],
   "source": [
    "%matplotlib widget\n",
    "movie_list = [xr.DataArray(movie[:,i] , dims=['t','alpha','beta']) for i in range(movie.shape[1])]\n",
    "fig, axes = plt.subplots(1, 2, figsize=(10, 3))\n",
    "bhnerf.visualization.animate_movies_synced(movie_list, axes, titles=['I', 'Q', 'U'])"
   ]
  },
  {
   "cell_type": "code",
   "execution_count": 11,
   "id": "d58bac8b-830a-4970-9e0f-a6ef7487a0fa",
   "metadata": {},
   "outputs": [
    {
     "data": {
      "application/vnd.jupyter.widget-view+json": {
       "model_id": "c1bc6820760649339278d369e7c084b1",
       "version_major": 2,
       "version_minor": 0
      },
      "text/plain": [
       "VBox(children=(Figure(camera=PerspectiveCamera(fov=45.0, position=(0.0, -2.1650635094610964, 1.250000000000000…"
      ]
     },
     "metadata": {},
     "output_type": "display_data"
    }
   ],
   "source": [
    "emission_grid = bhnerf.network.sample_3d_grid(predictor.apply, state.params, rmin, rmax, z_width, fov=fov_M)\n",
    "bhnerf.visualization.ipyvolume_3d(emission_grid, fov=fov_M, level=[0, 0.2, 0.7])"
   ]
  },
  {
   "cell_type": "code",
   "execution_count": 113,
   "id": "3f1ba13d-e24a-4ebf-a671-83c02c1acc59",
   "metadata": {},
   "outputs": [],
   "source": [
    "checkpoint_dir = '../checkpoints/alma/intrinsic_fits/inc_scan/QU.spin_0.0.initkey2.rmin6.0.z_width4.inc_16.0/'\n",
    "predictor = bhnerf.network.NeRF_Predictor.from_yml(checkpoint_dir)\n",
    "state = checkpoints.restore_checkpoint(checkpoint_dir, None)\n",
    "\n",
    "jit = False\n",
    "resolution = 256\n",
    "bh_radius = 2.0\n",
    "cam_r = 55.\n",
    "linewidth = 0.14\n",
    "bh_radius = 1 + np.sqrt(1-spin**2)\n",
    "norm_const =  0.075\n",
    "visualizer = bhnerf.visualization.VolumeVisualizer(resolution, resolution, resolution)\n",
    "visualizer.set_view(cam_r=cam_r, domain_r=rmax, azimuth=0.0, zenith=np.deg2rad(35))\n",
    "\n",
    "\n",
    "emission = bhnerf.network.sample_3d_grid(predictor.apply, state['params'], coords=visualizer.coords, chunk=32)\n",
    "image = visualizer.render(emission / norm_const, facewidth=1.9*rmax, jit=jit, bh_radius=bh_radius, linewidth=linewidth).clip(a_max=1)"
   ]
  },
  {
   "cell_type": "code",
   "execution_count": 114,
   "id": "4169d3d2-14a5-4719-89f2-50b5b2ae6642",
   "metadata": {},
   "outputs": [
    {
     "data": {
      "application/vnd.jupyter.widget-view+json": {
       "model_id": "2480f74e457a470d834514264621d692",
       "version_major": 2,
       "version_minor": 0
      },
      "text/plain": [
       "Canvas(toolbar=Toolbar(toolitems=[('Home', 'Reset original view', 'home', 'home'), ('Back', 'Back to previous …"
      ]
     },
     "metadata": {},
     "output_type": "display_data"
    },
    {
     "data": {
      "text/plain": [
       "<matplotlib.image.AxesImage at 0x7f453c660f70>"
      ]
     },
     "execution_count": 114,
     "metadata": {},
     "output_type": "execute_result"
    }
   ],
   "source": [
    "%matplotlib widget\n",
    "plt.imshow(image)\n",
    "#plt.savefig(frame_fmt.format(i), dpi=100)"
   ]
  },
  {
   "cell_type": "code",
   "execution_count": 101,
   "id": "70cb29a1-4e79-4312-996f-430db2cb7135",
   "metadata": {},
   "outputs": [
    {
     "data": {
      "application/vnd.jupyter.widget-view+json": {
       "model_id": "6ccc069cff2042cba3dcaff04c54e6c7",
       "version_major": 2,
       "version_minor": 0
      },
      "text/plain": [
       "Canvas(toolbar=Toolbar(toolitems=[('Home', 'Reset original view', 'home', 'home'), ('Back', 'Back to previous …"
      ]
     },
     "metadata": {},
     "output_type": "display_data"
    },
    {
     "data": {
      "text/plain": [
       "<matplotlib.image.AxesImage at 0x7f455c05f1f0>"
      ]
     },
     "execution_count": 101,
     "metadata": {},
     "output_type": "execute_result"
    }
   ],
   "source": [
    "%matplotlib widget\n",
    "plt.imshow(image)\n",
    "#plt.savefig(frame_fmt.format(i), dpi=100)"
   ]
  },
  {
   "cell_type": "code",
   "execution_count": 6,
   "id": "27e317cb-96a4-4a18-ae0d-40252362b569",
   "metadata": {},
   "outputs": [
    {
     "name": "stderr",
     "output_type": "stream",
     "text": [
      "/scratch/imaging/projects/bh_nerf/envs/jax/lib/python3.9/site-packages/xarray/core/computation.py:700: RuntimeWarning: invalid value encountered in sqrt\n",
      "  result_data = func(*input_data)\n",
      "/scratch/imaging/projects/bh_nerf/envs/jax/lib/python3.9/site-packages/xarray/core/computation.py:700: RuntimeWarning: invalid value encountered in sqrt\n",
      "  result_data = func(*input_data)\n",
      "/scratch/imaging/projects/bh_nerf/envs/jax/lib/python3.9/site-packages/jax/lib/xla_bridge.py:390: UserWarning: jax.host_count has been renamed to jax.process_count. This alias will eventually be removed; please update your code.\n",
      "  warnings.warn(\n",
      "/scratch/imaging/projects/bh_nerf/envs/jax/lib/python3.9/site-packages/jax/lib/xla_bridge.py:377: UserWarning: jax.host_id has been renamed to jax.process_index. This alias will eventually be removed; please update your code.\n",
      "  warnings.warn(\n"
     ]
    }
   ],
   "source": [
    "batchsize = 20\n",
    "inclination = np.deg2rad(6.0)\n",
    "checkpoint_dir = '../checkpoints/alma/intrinsic_fits/inc_scan/' +\\\n",
    "                 'QU.spin_0.0.initkey2.rmin6.0.z_width4.inc_{:1.1f}/'.format(np.rad2deg(inclination))\n",
    "\n",
    "stokes = ['I', 'Q', 'U']\n",
    "target = bhnerf.emission.rotate_evpa(np.array(alma_lc_means[stokes]) - iqu_sha, de_rot_data, axis=1)\n",
    "\n",
    "J_inds = [['I', 'Q', 'U'].index(s) for s in stokes]\n",
    "train_step = bhnerf.optimization.TrainStep.image(t_frames, target, sigma, dtype='lc')\n",
    "\n",
    "geos = bhnerf.kgeo.image_plane_geos(\n",
    "    spin, inclination, \n",
    "    num_alpha=64, num_beta=64, \n",
    "    alpha_range=[-rmax, rmax],\n",
    "    beta_range=[-rmax, rmax]\n",
    ")\n",
    "geos = geos.fillna(0.0)\n",
    "t_injection = -float(geos.r_o)\n",
    "\n",
    "# Keplerian prograde velocity field\n",
    "Omega = rot_sign[Omega_dir] * np.sqrt(geos.M) / (geos.r**(3/2) + geos.spin * np.sqrt(geos.M))\n",
    "umu = bhnerf.kgeo.azimuthal_velocity_vector(geos, Omega)\n",
    "g = bhnerf.kgeo.doppler_factor(geos, umu)\n",
    "b = bhnerf.kgeo.magnetic_field(geos, *b_consts) \n",
    "J = np.nan_to_num(bhnerf.kgeo.parallel_transport(geos, umu, g, b, Q_frac=Q_frac, V_frac=0), 0.0)[J_inds]\n",
    "J_rot = bhnerf.emission.rotate_evpa(J, de_rot_model)\n",
    "\n",
    "raytracing_args = bhnerf.network.raytracing_args(geos, Omega, t_injection, t_frames[0], J_rot)\n",
    "params = predictor.init_params(raytracing_args)\n",
    "state = predictor.init_state(params, checkpoint_dir=checkpoint_dir)\n",
    "\n",
    "_, movie = bhnerf.optimization.total_movie_loss(batchsize, state, train_step, raytracing_args, return_frames=True)\n",
    "lc_est = movie.sum(axis=(-1,-2))"
   ]
  },
  {
   "cell_type": "code",
   "execution_count": 7,
   "id": "e8dca8bf-ca60-4a89-9d38-7a0c486fef27",
   "metadata": {},
   "outputs": [
    {
     "data": {
      "application/vnd.jupyter.widget-view+json": {
       "model_id": "98e76e7951ec4cc6b54d4a3e9da8a83e",
       "version_major": 2,
       "version_minor": 0
      },
      "text/plain": [
       "Canvas(toolbar=Toolbar(toolitems=[('Home', 'Reset original view', 'home', 'home'), ('Back', 'Back to previous …"
      ]
     },
     "metadata": {},
     "output_type": "display_data"
    }
   ],
   "source": [
    "%matplotlib widget\n",
    "axes = bhnerf.visualization.plot_stokes_lc(target, stokes, t_frames, label='True')\n",
    "bhnerf.visualization.plot_stokes_lc(lc_est, stokes, t_frames, axes=axes, color='r', fmt='x', label='Estimate')\n",
    "for ax in axes:\n",
    "    ax.legend()"
   ]
  },
  {
   "cell_type": "code",
   "execution_count": 11,
   "id": "0a776e1d-83e2-43dc-a0ad-504ba37f075c",
   "metadata": {},
   "outputs": [
    {
     "data": {
      "application/vnd.jupyter.widget-view+json": {
       "model_id": "187cc9ca184e403cae3dcf6420ae8df5",
       "version_major": 2,
       "version_minor": 0
      },
      "text/plain": [
       "Canvas(toolbar=Toolbar(toolitems=[('Home', 'Reset original view', 'home', 'home'), ('Back', 'Back to previous …"
      ]
     },
     "metadata": {},
     "output_type": "display_data"
    }
   ],
   "source": [
    "%matplotlib widget\n",
    "axes = bhnerf.visualization.plot_stokes_lc(target, stokes, t_frames, label='True')\n",
    "bhnerf.visualization.plot_stokes_lc(lc_est, stokes, t_frames, axes=axes, color='r', fmt='x', label='Estimate')\n",
    "for ax in axes:\n",
    "    ax.legend()"
   ]
  },
  {
   "cell_type": "code",
   "execution_count": 179,
   "id": "165f066a-baa1-4df1-b639-aeabd08f0e81",
   "metadata": {},
   "outputs": [
    {
     "data": {
      "application/vnd.jupyter.widget-view+json": {
       "model_id": "01ff2e6256a94838a5def491163f396b",
       "version_major": 2,
       "version_minor": 0
      },
      "text/plain": [
       "Canvas(toolbar=Toolbar(toolitems=[('Home', 'Reset original view', 'home', 'home'), ('Back', 'Back to previous …"
      ]
     },
     "metadata": {},
     "output_type": "display_data"
    }
   ],
   "source": [
    "%matplotlib widget\n",
    "axes = bhnerf.visualization.plot_stokes_lc(target, stokes, t_frames, label='True')\n",
    "bhnerf.visualization.plot_stokes_lc(lc_est, stokes, t_frames, axes=axes, color='r', fmt='x', label='Estimate')\n",
    "for ax in axes:\n",
    "    ax.legend()"
   ]
  },
  {
   "cell_type": "code",
   "execution_count": 177,
   "id": "ab93b4b7-acfb-446a-9c72-bb2dbaeedb54",
   "metadata": {},
   "outputs": [
    {
     "data": {
      "application/vnd.jupyter.widget-view+json": {
       "model_id": "bd0139fd66234a7c9e50b0a73afedbbe",
       "version_major": 2,
       "version_minor": 0
      },
      "text/plain": [
       "Canvas(toolbar=Toolbar(toolitems=[('Home', 'Reset original view', 'home', 'home'), ('Back', 'Back to previous …"
      ]
     },
     "metadata": {},
     "output_type": "display_data"
    }
   ],
   "source": [
    "%matplotlib widget\n",
    "axes = bhnerf.visualization.plot_stokes_lc(target, stokes, t_frames, label='True')\n",
    "bhnerf.visualization.plot_stokes_lc(lc_est, stokes, t_frames, axes=axes, color='r', fmt='x', label='Estimate')\n",
    "for ax in axes:\n",
    "    ax.legend()"
   ]
  },
  {
   "cell_type": "markdown",
   "id": "4e771770-2345-4e90-8759-393986a93d3a",
   "metadata": {
    "tags": []
   },
   "source": [
    "# Animate recoveries\n"
   ]
  },
  {
   "cell_type": "code",
   "execution_count": 6,
   "id": "92474708-fedf-4980-910d-bd496e5581c1",
   "metadata": {},
   "outputs": [],
   "source": [
    "from matplotlib import animation\n",
    "\n",
    "def animate_synced(movie1, movie2, loss, inc_grid, axes, cmap='RdBu_r', fps=10, output=None, writer='imagemagick'):\n",
    "\n",
    "    def animate_both(i):\n",
    "        return animate_frame(i), animate_plot(i)\n",
    "        \n",
    "    # Image animation function (called sequentially)\n",
    "    def animate_frame(i):\n",
    "        axes[0].set_title('Emission estimate: inc={:1.1f}'.format(inc_grid[i]))\n",
    "        im1.set_array(movie1[i])\n",
    "        \n",
    "        axes[1].set_title('Emission estimate: inc={:1.1f}'.format(inc_grid[i]))\n",
    "        im2.set_array(movie2[i])\n",
    "        return im1, im2\n",
    "    \n",
    "    def animate_plot(i):\n",
    "        line.set_xdata(inc_grid[i])\n",
    "        return line,\n",
    "    \n",
    "    num_frames = len(movie1)\n",
    "    \n",
    "    fig = plt.gcf()\n",
    "    axes[0].set_title('Emission estimate')\n",
    "    axes[0].set_xticks([])\n",
    "    axes[0].set_yticks([])\n",
    "    \n",
    "    im1 =  axes[0].imshow(np.zeros_like(movie1[0]))\n",
    "    im2 =  axes[1].imshow(np.zeros_like(movie2[0]))\n",
    "    axes[2].plot(inc_grid, loss)\n",
    "    line = axes[2].axvline(0, color='green', linestyle='--', label='inc hypothesis')\n",
    "    axes[2].set_title('Inclination Log(loss)')\n",
    "    axes[2].legend(loc='upper left')\n",
    "    \n",
    "    plt.tight_layout()\n",
    "    anim = animation.FuncAnimation(fig, animate_both, frames=num_frames, interval=1e3 / fps)\n",
    "\n",
    "    if output is not None:\n",
    "        anim.save(output, writer=writer, fps=fps)\n",
    "    return anim"
   ]
  },
  {
   "cell_type": "code",
   "execution_count": 8,
   "id": "2859c1f6-b938-4cfd-8127-73bc65d90d27",
   "metadata": {},
   "outputs": [],
   "source": [
    "checkpoint_dir_fmt = '../checkpoints/alma/intrinsic_fits/const_I/' + \\\n",
    "                      'IQU.sigmas_1e-01_1e-02_1e-02.spin_0.0.initkey{}.rmin6.0.z_width4.scale1.0.Qfrac{:.1f}.inc_{:1.1f}/'\n",
    "inc_grid = np.deg2rad(np.linspace(2, 80, 40))\n",
    "seeds = [2, 3, 4]\n",
    "Q_frac = 0.85"
   ]
  },
  {
   "cell_type": "code",
   "execution_count": 8,
   "id": "56a8c690-d0d0-4740-b89a-2d6cc21dcf3b",
   "metadata": {},
   "outputs": [
    {
     "data": {
      "application/vnd.jupyter.widget-view+json": {
       "model_id": "073a801e02664046b68615ec42015a60",
       "version_major": 2,
       "version_minor": 0
      },
      "text/plain": [
       "seed:   0%|          | 0/3 [00:00<?, ?it/s]"
      ]
     },
     "metadata": {},
     "output_type": "display_data"
    },
    {
     "data": {
      "application/vnd.jupyter.widget-view+json": {
       "model_id": "",
       "version_major": 2,
       "version_minor": 0
      },
      "text/plain": [
       "inc:   0%|          | 0/40 [00:00<?, ?it/s]"
      ]
     },
     "metadata": {},
     "output_type": "display_data"
    },
    {
     "data": {
      "application/vnd.jupyter.widget-view+json": {
       "model_id": "",
       "version_major": 2,
       "version_minor": 0
      },
      "text/plain": [
       "inc:   0%|          | 0/40 [00:00<?, ?it/s]"
      ]
     },
     "metadata": {},
     "output_type": "display_data"
    },
    {
     "data": {
      "application/vnd.jupyter.widget-view+json": {
       "model_id": "",
       "version_major": 2,
       "version_minor": 0
      },
      "text/plain": [
       "inc:   0%|          | 0/40 [00:00<?, ?it/s]"
      ]
     },
     "metadata": {},
     "output_type": "display_data"
    }
   ],
   "source": [
    "import warnings\n",
    "warnings.simplefilter(\"ignore\")\n",
    "\n",
    "batchsize = 20\n",
    "J_inds = [['I', 'Q', 'U'].index(s) for s in stokes]\n",
    "\n",
    "loss = np.full((len(seeds), len(inc_grid)), fill_value=np.nan)\n",
    "\n",
    "for i, seed in enumerate(tqdm(seeds, desc='seed')):\n",
    "    for j, inclination in enumerate(tqdm(inc_grid, desc='inc', leave=False)):\n",
    "        checkpoint_dir = checkpoint_dir_fmt.format(seed, Q_frac, np.rad2deg(inclination))\n",
    "        if os.path.exists(checkpoint_dir):\n",
    "            predictor = bhnerf.network.NeRF_Predictor.from_yml(checkpoint_dir)\n",
    "\n",
    "            geos = bhnerf.kgeo.image_plane_geos(\n",
    "                spin, inclination, \n",
    "                num_alpha=64, num_beta=64, \n",
    "                alpha_range=[-rmax, rmax],\n",
    "                beta_range=[-rmax, rmax]\n",
    "            )\n",
    "            geos = geos.fillna(0.0)\n",
    "            t_injection = -float(geos.r_o + fov_M/4)\n",
    "\n",
    "            # Keplerian prograde velocity field\n",
    "            Omega = rot_sign[Omega_dir] * np.sqrt(geos.M) / (geos.r**(3/2) + geos.spin * np.sqrt(geos.M))\n",
    "            # Omega = rot_sign[Omega_dir] * np.sqrt(geos.M) / (11.0**(3/2) + geos.spin * np.sqrt(geos.M))\n",
    "\n",
    "            umu = bhnerf.kgeo.azimuthal_velocity_vector(geos, Omega)\n",
    "            g = bhnerf.kgeo.doppler_factor(geos, umu)\n",
    "            b = bhnerf.kgeo.magnetic_field(geos, *b_consts)\n",
    "            J = np.nan_to_num(bhnerf.kgeo.parallel_transport(geos, umu, g, b, Q_frac=Q_frac, V_frac=0), 0.0)[J_inds]\n",
    "            J_rot = bhnerf.emission.rotate_evpa(J, de_rot_model)\n",
    "            raytracing_args = bhnerf.network.raytracing_args(geos, Omega, t_injection, t_frames[0], J_rot)\n",
    "            params = predictor.init_params(raytracing_args)\n",
    "            state = predictor.init_state(params, checkpoint_dir=checkpoint_dir)\n",
    "            loss[i, j] = bhnerf.optimization.total_movie_loss(batchsize, state, train_step, raytracing_args)"
   ]
  },
  {
   "cell_type": "code",
   "execution_count": 23,
   "id": "329e1b87-3b4e-411b-9ddf-bfd6e585530d",
   "metadata": {},
   "outputs": [
    {
     "data": {
      "application/vnd.jupyter.widget-view+json": {
       "model_id": "d78f5d572bf4462da853001837b6f15d",
       "version_major": 2,
       "version_minor": 0
      },
      "text/plain": [
       "Canvas(toolbar=Toolbar(toolitems=[('Home', 'Reset original view', 'home', 'home'), ('Back', 'Back to previous …"
      ]
     },
     "metadata": {},
     "output_type": "display_data"
    }
   ],
   "source": [
    "%matplotlib widget\n",
    "for i in range(len(seeds)):\n",
    "    plt.scatter(np.rad2deg(inc_grid), loss[i],  marker='^')"
   ]
  },
  {
   "cell_type": "code",
   "execution_count": null,
   "id": "75488372-e348-44cd-b2e2-54ce04d3926d",
   "metadata": {},
   "outputs": [],
   "source": [
    "plt.rcParams.update({\n",
    "    \"text.usetex\": True,\n",
    "    \"font.family\": \"Helvetica\"\n",
    "})\n"
   ]
  },
  {
   "cell_type": "code",
   "execution_count": 66,
   "id": "1eff1479-00f7-4dfc-883b-f8eee02f9d36",
   "metadata": {},
   "outputs": [
    {
     "data": {
      "application/vnd.jupyter.widget-view+json": {
       "model_id": "e5bdd94bbff242e5907c189be8041a6d",
       "version_major": 2,
       "version_minor": 0
      },
      "text/plain": [
       "Canvas(toolbar=Toolbar(toolitems=[('Home', 'Reset original view', 'home', 'home'), ('Back', 'Back to previous …"
      ]
     },
     "metadata": {},
     "output_type": "display_data"
    }
   ],
   "source": [
    "%matplotlib widget\n",
    "plt.figure(figsize=(5,4))\n",
    "plt.errorbar(np.rad2deg(inc_grid)[1:], np.nanmean(np.log(loss/nt), axis=0)[1:],  \n",
    "             np.nanstd(np.log(loss/nt), axis=0)[1:], marker='^', mfc='r', mec='r')\n",
    "plt.title(r'Inclination data-fit: $\\log \\chi^2(\\theta | \\hat{\\bf w})$', fontsize=16)\n",
    "plt.xticks(fontsize='14')\n",
    "plt.yticks(fontsize='14')\n",
    "plt.axhline(0, color='black', linestyle='--',linewidth=1)\n",
    "plt.savefig('alma/inclination_loss.pdf')"
   ]
  },
  {
   "cell_type": "code",
   "execution_count": 19,
   "id": "44903076-74d2-4794-9fd1-ae11b81cffda",
   "metadata": {},
   "outputs": [
    {
     "data": {
      "application/vnd.jupyter.widget-view+json": {
       "model_id": "c060a63e66da4afba943b922e30a0740",
       "version_major": 2,
       "version_minor": 0
      },
      "text/plain": [
       "Canvas(toolbar=Toolbar(toolitems=[('Home', 'Reset original view', 'home', 'home'), ('Back', 'Back to previous …"
      ]
     },
     "metadata": {},
     "output_type": "display_data"
    },
    {
     "data": {
      "text/plain": [
       "<matplotlib.collections.PathCollection at 0x7f9cd8057f10>"
      ]
     },
     "execution_count": 19,
     "metadata": {},
     "output_type": "execute_result"
    }
   ],
   "source": [
    "%matplotlib widget\n",
    "plt.scatter(np.rad2deg(inc_grid), np.log(loss),  marker='^')"
   ]
  },
  {
   "cell_type": "code",
   "execution_count": 18,
   "id": "fca196da-7381-4944-9eeb-507b7e402dfd",
   "metadata": {},
   "outputs": [
    {
     "data": {
      "application/vnd.jupyter.widget-view+json": {
       "model_id": "06e55a75d0794da9849621c1bbe6a70f",
       "version_major": 2,
       "version_minor": 0
      },
      "text/plain": [
       "inc:   0%|          | 0/40 [00:00<?, ?it/s]"
      ]
     },
     "metadata": {},
     "output_type": "display_data"
    }
   ],
   "source": [
    "import warnings\n",
    "warnings.simplefilter(\"ignore\")\n",
    "\n",
    "batchsize = 20\n",
    "stokes= ['Q', 'U']\n",
    "target_qu = target[:,1:]\n",
    "train_step = bhnerf.optimization.TrainStep.image(t_frames, target_qu, sigma[1:], dtype='lc')\n",
    "J_inds = [['I', 'Q', 'U'].index(s) for s in stokes]\n",
    "\n",
    "loss_qu = []\n",
    "for inclination in tqdm(inc_grid, desc='inc'):\n",
    "    \n",
    "    checkpoint_dir = checkpoint_dir_fmt.format(np.rad2deg(inclination))\n",
    "    if os.path.exists(checkpoint_dir):\n",
    "        predictor = bhnerf.network.NeRF_Predictor.from_yml(checkpoint_dir)\n",
    "\n",
    "        geos = bhnerf.kgeo.image_plane_geos(\n",
    "            spin, inclination, \n",
    "            num_alpha=64, num_beta=64, \n",
    "            alpha_range=[-rmax, rmax],\n",
    "            beta_range=[-rmax, rmax]\n",
    "        )\n",
    "        geos = geos.fillna(0.0)\n",
    "        t_injection = -float(geos.r_o + fov_M/4)\n",
    "\n",
    "        # Keplerian prograde velocity field\n",
    "        Omega = rot_sign[Omega_dir] * np.sqrt(geos.M) / (geos.r**(3/2) + geos.spin * np.sqrt(geos.M))\n",
    "        # Omega = rot_sign[Omega_dir] * np.sqrt(geos.M) / (11.0**(3/2) + geos.spin * np.sqrt(geos.M))\n",
    "\n",
    "        umu = bhnerf.kgeo.azimuthal_velocity_vector(geos, Omega)\n",
    "        g = bhnerf.kgeo.doppler_factor(geos, umu)\n",
    "        b = bhnerf.kgeo.magnetic_field(geos, *b_consts)\n",
    "        J = np.nan_to_num(bhnerf.kgeo.parallel_transport(geos, umu, g, b, Q_frac=Q_frac, V_frac=0), 0.0)[J_inds]\n",
    "        J_rot = bhnerf.emission.rotate_evpa(J, de_rot_model)\n",
    "        raytracing_args = bhnerf.network.raytracing_args(geos, Omega, t_injection, t_frames[0], J_rot)\n",
    "        params = predictor.init_params(raytracing_args)\n",
    "        state = predictor.init_state(params, checkpoint_dir=checkpoint_dir)\n",
    "\n",
    "        loss_qu.append(bhnerf.optimization.total_movie_loss(batchsize, state, train_step, raytracing_args))\n",
    "    else:\n",
    "        loss_qu.append(np.nan)\n",
    "    \n",
    "loss_qu = np.array(loss_qu)"
   ]
  },
  {
   "cell_type": "code",
   "execution_count": 18,
   "id": "cb8e9f07-2ee6-4cd5-9602-7e272d9a6402",
   "metadata": {},
   "outputs": [
    {
     "data": {
      "application/vnd.jupyter.widget-view+json": {
       "model_id": "33131ec844004b75a682a03584baa922",
       "version_major": 2,
       "version_minor": 0
      },
      "text/plain": [
       "inc:   0%|          | 0/40 [00:00<?, ?it/s]"
      ]
     },
     "metadata": {},
     "output_type": "display_data"
    }
   ],
   "source": [
    "checkpoint_dir_fmt = '../checkpoints/alma/intrinsic_fits/inc_scan_const_omega_r_11/' + \\\n",
    "                     'QU.spin_0.0.initkey2.rmin6.0.z_width4.inc_{:1.1f}/'\n",
    "\n",
    "import warnings\n",
    "warnings.simplefilter(\"ignore\")\n",
    "\n",
    "batchsize = 20\n",
    "J_inds = [['I', 'Q', 'U'].index(s) for s in stokes]\n",
    "\n",
    "loss_noshear = []\n",
    "for inclination in tqdm(inc_grid, desc='inc'):\n",
    "    checkpoint_dir = checkpoint_dir_fmt.format(np.rad2deg(inclination))\n",
    "    predictor = bhnerf.network.NeRF_Predictor.from_yml(checkpoint_dir)\n",
    "        \n",
    "    geos = bhnerf.kgeo.image_plane_geos(\n",
    "        spin, inclination, \n",
    "        num_alpha=64, num_beta=64, \n",
    "        alpha_range=[-rmax, rmax],\n",
    "        beta_range=[-rmax, rmax]\n",
    "    )\n",
    "    geos = geos.fillna(0.0)\n",
    "    t_injection = -float(geos.r_o)\n",
    "\n",
    "    # Keplerian prograde velocity field\n",
    "    # Omega = rot_sign[Omega_dir] * np.sqrt(geos.M) / (geos.r**(3/2) + geos.spin * np.sqrt(geos.M))\n",
    "    Omega = rot_sign[Omega_dir] * np.sqrt(geos.M) / (11.0**(3/2) + geos.spin * np.sqrt(geos.M))\n",
    "    \n",
    "    umu = bhnerf.kgeo.azimuthal_velocity_vector(geos, Omega)\n",
    "    g = bhnerf.kgeo.doppler_factor(geos, umu)\n",
    "    b = bhnerf.kgeo.magnetic_field(geos, *b_consts)\n",
    "    J = np.nan_to_num(bhnerf.kgeo.parallel_transport(geos, umu, g, b, Q_frac=Q_frac, V_frac=0), 0.0)[J_inds]\n",
    "    J_rot = bhnerf.emission.rotate_evpa(J, de_rot_model)\n",
    "    raytracing_args = bhnerf.network.raytracing_args(geos, Omega, t_injection, t_frames[0], J_rot)\n",
    "    params = predictor.init_params(raytracing_args)\n",
    "    state = predictor.init_state(params, checkpoint_dir=checkpoint_dir)\n",
    "    \n",
    "    loss_noshear.append(bhnerf.optimization.total_movie_loss(batchsize, state, train_step, raytracing_args))\n",
    "    \n",
    "loss_noshear = np.array(loss_noshear)"
   ]
  },
  {
   "cell_type": "code",
   "execution_count": 38,
   "id": "52266dbb-f812-4b7d-94b0-ddeeea7ff972",
   "metadata": {},
   "outputs": [
    {
     "data": {
      "application/vnd.jupyter.widget-view+json": {
       "model_id": "13ccf56c2800446d9764c2646975cc63",
       "version_major": 2,
       "version_minor": 0
      },
      "text/plain": [
       "Canvas(toolbar=Toolbar(toolitems=[('Home', 'Reset original view', 'home', 'home'), ('Back', 'Back to previous …"
      ]
     },
     "metadata": {},
     "output_type": "display_data"
    }
   ],
   "source": [
    "%matplotlib widget\n",
    "\n",
    "snr = 1\n",
    "min_loss = np.rad2deg(inc_grid)[np.argmin(loss)]\n",
    "plt.title('Inclination data-fit [log-scale]')\n",
    "plt.scatter(np.rad2deg(inc_grid), np.log(loss * snr), label='With shear', marker='x')\n",
    "plt.scatter(np.rad2deg(inc_grid), np.log(loss_noshear * snr), label='Without shear', marker='^')\n",
    "plt.legend()\n",
    "plt.savefig('alma/intrinsic fits/inc_loss_both.pdf')"
   ]
  },
  {
   "cell_type": "markdown",
   "id": "cadc8199-4c51-40ff-98e2-b78e129ba7d6",
   "metadata": {
    "tags": []
   },
   "source": [
    "## Animate recovered volumes"
   ]
  },
  {
   "cell_type": "code",
   "execution_count": 16,
   "id": "30bbc1bc-d2ac-4903-81c8-337fabdfe6b3",
   "metadata": {
    "tags": []
   },
   "outputs": [
    {
     "data": {
      "application/vnd.jupyter.widget-view+json": {
       "model_id": "2428b3f304f14b868c0ded5a31766417",
       "version_major": 2,
       "version_minor": 0
      },
      "text/plain": [
       "  0%|          | 0/9 [00:00<?, ?it/s]"
      ]
     },
     "metadata": {},
     "output_type": "display_data"
    },
    {
     "ename": "IndexError",
     "evalue": "Replacement index 2 out of range for positional args tuple",
     "output_type": "error",
     "traceback": [
      "\u001b[0;31m---------------------------------------------------------------------------\u001b[0m",
      "\u001b[0;31mIndexError\u001b[0m                                Traceback (most recent call last)",
      "\u001b[0;32m/tmp/ipykernel_47422/2437357878.py\u001b[0m in \u001b[0;36m<module>\u001b[0;34m\u001b[0m\n\u001b[1;32m     18\u001b[0m \u001b[0mimages1\u001b[0m\u001b[0;34m,\u001b[0m \u001b[0mimages2\u001b[0m \u001b[0;34m=\u001b[0m \u001b[0;34m[\u001b[0m\u001b[0;34m]\u001b[0m\u001b[0;34m,\u001b[0m \u001b[0;34m[\u001b[0m\u001b[0;34m]\u001b[0m\u001b[0;34m\u001b[0m\u001b[0;34m\u001b[0m\u001b[0m\n\u001b[1;32m     19\u001b[0m \u001b[0;32mfor\u001b[0m \u001b[0mi\u001b[0m\u001b[0;34m,\u001b[0m \u001b[0minclination\u001b[0m \u001b[0;32min\u001b[0m \u001b[0menumerate\u001b[0m\u001b[0;34m(\u001b[0m\u001b[0mtqdm\u001b[0m\u001b[0;34m(\u001b[0m\u001b[0minc_grid\u001b[0m\u001b[0;34m)\u001b[0m\u001b[0;34m)\u001b[0m\u001b[0;34m:\u001b[0m\u001b[0;34m\u001b[0m\u001b[0;34m\u001b[0m\u001b[0m\n\u001b[0;32m---> 20\u001b[0;31m     \u001b[0mcheckpoint_dir\u001b[0m \u001b[0;34m=\u001b[0m \u001b[0mcheckpoint_dir_fmt\u001b[0m\u001b[0;34m.\u001b[0m\u001b[0mformat\u001b[0m\u001b[0;34m(\u001b[0m\u001b[0mQ_frac\u001b[0m\u001b[0;34m,\u001b[0m \u001b[0minclination\u001b[0m\u001b[0;34m)\u001b[0m\u001b[0;34m\u001b[0m\u001b[0;34m\u001b[0m\u001b[0m\n\u001b[0m\u001b[1;32m     21\u001b[0m     \u001b[0mpredictor\u001b[0m \u001b[0;34m=\u001b[0m \u001b[0mbhnerf\u001b[0m\u001b[0;34m.\u001b[0m\u001b[0mnetwork\u001b[0m\u001b[0;34m.\u001b[0m\u001b[0mNeRF_Predictor\u001b[0m\u001b[0;34m.\u001b[0m\u001b[0mfrom_yml\u001b[0m\u001b[0;34m(\u001b[0m\u001b[0mcheckpoint_dir\u001b[0m\u001b[0;34m)\u001b[0m\u001b[0;34m\u001b[0m\u001b[0;34m\u001b[0m\u001b[0m\n\u001b[1;32m     22\u001b[0m     \u001b[0mstate\u001b[0m \u001b[0;34m=\u001b[0m \u001b[0mcheckpoints\u001b[0m\u001b[0;34m.\u001b[0m\u001b[0mrestore_checkpoint\u001b[0m\u001b[0;34m(\u001b[0m\u001b[0mcheckpoint_dir\u001b[0m\u001b[0;34m,\u001b[0m \u001b[0;32mNone\u001b[0m\u001b[0;34m)\u001b[0m\u001b[0;34m\u001b[0m\u001b[0;34m\u001b[0m\u001b[0m\n",
      "\u001b[0;31mIndexError\u001b[0m: Replacement index 2 out of range for positional args tuple"
     ]
    }
   ],
   "source": [
    "\"\"\"\n",
    "Animate the recovered volumes from two view angles.\n",
    "Note: this is time consuming to produce high res images.\n",
    "\"\"\"\n",
    "seed = 2\n",
    "inc_grid = list(range(4, 22, 2))\n",
    "from flax.training import checkpoints\n",
    "\n",
    "jit = True\n",
    "resolution = 256\n",
    "bh_radius = 2.0\n",
    "cam_r = 55.\n",
    "linewidth = 0.1\n",
    "bh_radius = 1 + np.sqrt(1-spin**2)\n",
    "norm_const =  0.1\n",
    "visualizer = bhnerf.visualization.VolumeVisualizer(resolution, resolution, resolution)\n",
    "visualizer.set_view(cam_r=cam_r, domain_r=rmax, azimuth=0.0, zenith=np.deg2rad(35))\n",
    "\n",
    "images1, images2 = [], []\n",
    "for i, inclination in enumerate(tqdm(inc_grid)):\n",
    "    checkpoint_dir = checkpoint_dir_fmt.format(seed, Q_frac, inclination)\n",
    "    predictor = bhnerf.network.NeRF_Predictor.from_yml(checkpoint_dir)\n",
    "    state = checkpoints.restore_checkpoint(checkpoint_dir, None)\n",
    "    \n",
    "    emission = bhnerf.network.sample_3d_grid(predictor.apply, state['params'], \n",
    "                                             coords=visualizer.coords, chunk=32)\n",
    "    image = visualizer.render(emission / norm_const, facewidth=1.9*rmax, jit=jit, \n",
    "                              bh_radius=bh_radius, linewidth=linewidth)\n",
    "    images1.append(image.clip(a_max=1))\n",
    "    \n",
    "    visualizer.set_view(cam_r=cam_r, domain_r=rmax, azimuth=0.0, zenith=np.deg2rad(65))\n",
    "    emission = bhnerf.network.sample_3d_grid(predictor.apply, state['params'], \n",
    "                                             coords=visualizer.coords, chunk=32)\n",
    "    image = visualizer.render(emission / norm_const, facewidth=1.9*rmax, jit=jit, \n",
    "                              bh_radius=bh_radius, linewidth=linewidth)\n",
    "    images2.append(image.clip(a_max=1))"
   ]
  },
  {
   "cell_type": "code",
   "execution_count": null,
   "id": "8ca4071b-80b1-4dfc-bf77-bcb85cf6d505",
   "metadata": {},
   "outputs": [],
   "source": [
    "%matplotlib widget\n",
    "\n",
    "fig, axes = plt.subplots(1, 3,figsize=(9,3.5))\n",
    "output = 'alma/intrinsic fits/emission_estimate_1fps.mp4'\n",
    "animate_synced(images, images_view2, np.log(loss), np.rad2deg(inc_grid), axes, output=output, fps=1, , writer='ffmpeg')"
   ]
  },
  {
   "cell_type": "markdown",
   "id": "ca6d57dd-360f-43fe-ba06-0036bbe39017",
   "metadata": {},
   "source": [
    "## Animate data fits across inclinations"
   ]
  },
  {
   "cell_type": "code",
   "execution_count": 79,
   "id": "4015c228-e9e4-421b-b5b0-4ec8750bb258",
   "metadata": {
    "tags": []
   },
   "outputs": [
    {
     "data": {
      "application/vnd.jupyter.widget-view+json": {
       "model_id": "a07a582cb5e54df6b6d0d006ecfc6da3",
       "version_major": 2,
       "version_minor": 0
      },
      "text/plain": [
       "inc:   0%|          | 0/40 [00:00<?, ?it/s]"
      ]
     },
     "metadata": {},
     "output_type": "display_data"
    },
    {
     "name": "stderr",
     "output_type": "stream",
     "text": [
      "WARNING:imageio_ffmpeg:IMAGEIO FFMPEG_WRITER WARNING: input image is not divisible by macro_block_size=16, resizing from (1400, 350) to (1408, 352) to ensure video compatibility with most codecs and players. To prevent resizing, make your input image divisible by the macro_block_size or set the macro_block_size to 1 (risking incompatibility).\n"
     ]
    }
   ],
   "source": [
    "%matplotlib inline\n",
    "\n",
    "import glob, warnings, subprocess\n",
    "from pathlib import Path\n",
    "import imageio\n",
    "\n",
    "plt.style.use('default')\n",
    "\n",
    "warnings.simplefilter(\"ignore\")\n",
    "\n",
    "directory = 'alma/datafit/'\n",
    "frame_fmt = directory + 'frame{:03d}.png'\n",
    "Path(directory).mkdir(parents=True, exist_ok=True)\n",
    "gif_writer = imageio.get_writer(directory + 'datafit.gif', fps=1)\n",
    "mp4_writer = imageio.get_writer(directory + 'datafit.mp4', fps=1)\n",
    "\n",
    "stokes = ['Q', 'U']\n",
    "J_inds = [['I', 'Q', 'U'].index(s) for s in stokes]\n",
    "target = np.array(alma_lc_means[stokes])\n",
    "sigma = 1.0\n",
    "snr = 1.0\n",
    "batchsize = 20\n",
    "train_step = bhnerf.optimization.TrainStep.image(t_frames, target, sigma, dtype='lc')\n",
    "\n",
    "for i, inclination in enumerate(tqdm(inc_grid, desc='inc')):\n",
    "    checkpoint_dir = checkpoint_dir_fmt.format(np.rad2deg(inclination))\n",
    "    \n",
    "    geos = bhnerf.kgeo.image_plane_geos(\n",
    "        spin, inclination, \n",
    "        num_alpha=64, num_beta=64, \n",
    "        alpha_range=[-rmax, rmax],\n",
    "        beta_range=[-rmax, rmax]\n",
    "    )\n",
    "    geos = geos.fillna(0.0)\n",
    "    t_injection = -float(geos.r_o)\n",
    "\n",
    "    # Keplerian prograde velocity field\n",
    "    Omega = rot_sign[Omega_dir] * np.sqrt(geos.M) / (geos.r**(3/2) + geos.spin * np.sqrt(geos.M))\n",
    "    umu = bhnerf.kgeo.azimuthal_velocity_vector(geos, Omega)\n",
    "    g = bhnerf.kgeo.doppler_factor(geos, umu)\n",
    "    b = bhnerf.kgeo.magnetic_field(geos, *b_consts)\n",
    "    J = np.nan_to_num(bhnerf.kgeo.parallel_transport(geos, umu, g, b, Q_frac=Q_frac, V_frac=0), 0.0)\n",
    "    \n",
    "    raytracing_args = bhnerf.network.raytracing_args(geos, Omega, t_injection, t_frames[0], J[J_inds])\n",
    "    predictor = bhnerf.network.NeRF_Predictor.from_yml(checkpoint_dir)\n",
    "    params = predictor.init_params(raytracing_args)\n",
    "    state = predictor.init_state(params, checkpoint_dir=checkpoint_dir)\n",
    "    \n",
    "    _, movie = bhnerf.optimization.total_movie_loss(batchsize, state, train_step, raytracing_args, True)\n",
    "    lc_est = movie.sum(axis=(-1,-2))\n",
    "    \n",
    "    fig, axes = plt.subplots(1, 4, figsize=(14, 3.5))\n",
    "    axes[3].set_title(r'Inclination log(loss): ${:1.1f}^\\circ$'.format(np.rad2deg(inclination)))\n",
    "    axes[3].plot(np.rad2deg(inc_grid), np.log(loss * snr))\n",
    "    axes[3].axvline(np.rad2deg(inclination), color='green', linestyle='--', label='inc hypothesis')\n",
    "    bhnerf.visualization.plot_stokes_lc(target, stokes, t_frames, axes=axes[:3], label='True')\n",
    "    bhnerf.visualization.plot_stokes_lc(lc_est, stokes, t_frames, axes=axes[:3], color='r', fmt='x', label='Estimate')\n",
    "    for ax in axes:\n",
    "        ax.legend()\n",
    "        \n",
    "    plt.savefig(frame_fmt.format(i), dpi=100)\n",
    "    plt.close()\n",
    "    \n",
    "    im = imageio.imread(frame_fmt.format(i))\n",
    "    gif_writer.append_data(im)\n",
    "    mp4_writer.append_data(im)\n",
    "    \n",
    "gif_writer.close()\n",
    "mp4_writer.close()"
   ]
  }
 ],
 "metadata": {
  "kernelspec": {
   "display_name": "jax",
   "language": "python",
   "name": "jax"
  },
  "language_info": {
   "codemirror_mode": {
    "name": "ipython",
    "version": 3
   },
   "file_extension": ".py",
   "mimetype": "text/x-python",
   "name": "python",
   "nbconvert_exporter": "python",
   "pygments_lexer": "ipython3",
   "version": "3.9.6"
  }
 },
 "nbformat": 4,
 "nbformat_minor": 5
}
