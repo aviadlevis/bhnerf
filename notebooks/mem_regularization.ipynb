{
 "cells": [
  {
   "cell_type": "code",
   "execution_count": 22,
   "id": "d450b1d8-b7b0-4731-a8f2-1a9772547f3a",
   "metadata": {
    "tags": []
   },
   "outputs": [
    {
     "name": "stdout",
     "output_type": "stream",
     "text": [
      "The autoreload extension is already loaded. To reload it, use:\n",
      "  %reload_ext autoreload\n"
     ]
    }
   ],
   "source": [
    "import sys\n",
    "sys.path.append('../bhnerf')\n",
    "\n",
    "import os\n",
    "\n",
    "import jax\n",
    "from jax import random\n",
    "from jax import numpy as jnp\n",
    "\n",
    "os.environ['CUDA_VISIBLE_DEVICES'] = '1'\n",
    "\n",
    "import xarray as xr\n",
    "import flax\n",
    "from flax.training import train_state\n",
    "import optax\n",
    "import numpy as np\n",
    "import matplotlib.pyplot as plt\n",
    "\n",
    "import utils, emission_utils, visualization, network_utils\n",
    "from network_utils import shard\n",
    "import mediapy\n",
    "\n",
    "from tensorboardX import SummaryWriter\n",
    "from datetime import datetime\n",
    "from tqdm.notebook import tqdm\n",
    "import ipyvolume as ipv\n",
    "from ipywidgets import interact\n",
    "import ipywidgets as widgets\n",
    "\n",
    "# from jax.config import config\n",
    "# config.update(\"jax_debug_nans\", True)\n",
    "\n",
    "%load_ext autoreload\n",
    "%autoreload 2"
   ]
  },
  {
   "cell_type": "code",
   "execution_count": 21,
   "id": "98872744-0f5a-4906-8403-6bcc77b2e074",
   "metadata": {},
   "outputs": [
    {
     "data": {
      "text/plain": [
       "array([0., 1.])"
      ]
     },
     "execution_count": 21,
     "metadata": {},
     "output_type": "execute_result"
    }
   ],
   "source": [
    "nt, nx, ny, nz = 64, 64, 64, 64\n",
    "fov = (10.0, 'GM/c^2')\n",
    "std = (10.0, 10.0, 1.0)\n",
    "gaussian = emission_utils.gaussian_3d(nx, ny, nz, std, fov)\n",
    "gaussian = emission_utils.rotate_3d(gaussian, axis"
   ]
  },
  {
   "cell_type": "code",
   "execution_count": null,
   "id": "57484603-5b5e-4291-b4d1-8e0ea53000f8",
   "metadata": {},
   "outputs": [],
   "source": [
    "def intensity_to_nchw(intensity, cmap='viridis', gamma=0.5):\n",
    "    cm = plt.get_cmap(cmap)\n",
    "    norm_images = ( (intensity - np.min(intensity)) / (np.max(intensity) - np.min(intensity)) )**gamma\n",
    "    nchw_images = np.moveaxis(cm(norm_images)[...,:3], (0, 1, 2, 3), (3, 2, 0, 1))\n",
    "    return nchw_images\n",
    "\n",
    "def train_network(sensor, emission, emission_test, velocity_field, hparams, runname, \n",
    "                  log_period=100, x_res_vis=64, y_res_vis=64, z_res_vis=64):\n",
    "    \n",
    "    # Training / testing coordinates\n",
    "    train_coords = network_utils.get_input_coords(sensor, nt=emission.t.size)\n",
    "    t, x, y, z, d = train_coords.values()\n",
    "    train_radiance = measurements.data.ravel() \n",
    "\n",
    "    test_coords = network_utils.get_input_coords(sensor, nt=emission_test.t.size)\n",
    "    test_radiance = measurements_test.data.ravel() \n",
    "    t_test, x_test, y_test, z_test, d_test = test_coords.values()\n",
    "\n",
    "    # Emission visualization inputs\n",
    "    t_res_vis = 1\n",
    "    emission_extent = [emission.x[0], emission.x[-1], emission.y[0], emission.y[-1], emission.z[0], emission.z[-1]]\n",
    "    t_vis, x_vis, y_vis, z_vis  = np.meshgrid(0.0, np.linspace(emission_extent[0], emission_extent[1], x_res_vis),\n",
    "                                              np.linspace(emission_extent[2], emission_extent[3], y_res_vis),\n",
    "                                              np.linspace(emission_extent[4], emission_extent[5], x_res_vis),\n",
    "                                              indexing='ij')\n",
    "\n",
    "    d_vis = np.ones_like(y_vis)                  # meaningless placeholder for emission visualization\n",
    "    target_vis = np.ones([y_res_vis, x_res_vis]) # meaningless placeholder for emission visualization\n",
    "    r_min = sensor.r.min().data                  # Zero network output where there is no supervision (within black-hole radius)  \n",
    "\n",
    "    # Model setup and initialization\n",
    "    rng = jax.random.PRNGKey(1)\n",
    "    predictor = network_utils.PREDICT_EMISSION_AND_ROTAXIS_3D(posenc_deg=hparams['posenc_deg'])\n",
    "    params = predictor.init(rng, x[:1, ...], y[:1, ...], z[:1, ...], t[:1, ...], velocity_field)['params']\n",
    "\n",
    "    def flattened_traversal(fn):\n",
    "        def mask(data):\n",
    "            flat = flax.traverse_util.flatten_dict(data)\n",
    "            return flax.traverse_util.unflatten_dict({k: fn(k, v) for k, v in flat.items()})\n",
    "        return mask\n",
    "\n",
    "    tx = optax.chain(\n",
    "        optax.masked(optax.adam(learning_rate=hparams['lr_axis']),\n",
    "                     mask=flattened_traversal(lambda path, _: path[-1] == 'axis')),\n",
    "        optax.masked(optax.adam(learning_rate=optax.polynomial_schedule(hparams['lr_init'], hparams['lr_final'], 1, hparams['num_iters'])),\n",
    "                     mask=flattened_traversal(lambda path, _: path[-1] != 'axis')),\n",
    "    )\n",
    "\n",
    "    state = train_state.TrainState.create(apply_fn=predictor.apply, params=params.unfreeze(), tx=tx)  # TODO(pratul): this unfreeze feels sketchy\n",
    "\n",
    "    train_pstep = jax.pmap(predictor.train_step, axis_name='batch', in_axes=(None, None, 0, 0, 0, 0, 0, 0, 0, 0), static_broadcasted_argnums=(0))\n",
    "    eval_pstep = jax.pmap(predictor.eval_step, axis_name='batch', in_axes=(None, None, 0, 0, 0, 0, 0, 0, 0, 0), static_broadcasted_argnums=(0))\n",
    "    rand_key = jax.random.split(rng, jax.local_device_count())\n",
    "    state = flax.jax_utils.replicate(state)\n",
    "\n",
    "\n",
    "    # TensorBoard logging\n",
    "    time = datetime.now().strftime('%Y-%m-%d.%H:%M:%S')\n",
    "    logdir = 'runs/{}.{}'.format(runname, time)\n",
    "    with SummaryWriter(logdir=logdir) as writer:\n",
    "\n",
    "        # Log ground-truth data   \n",
    "        %matplotlib inline\n",
    "        images = intensity_to_nchw(emission.isel(t=0))\n",
    "        writer.add_images('emission/true', images, global_step=0)\n",
    "\n",
    "        for i in tqdm(range(1, hparams['num_iters']+1), desc='iteration'):\n",
    "\n",
    "            # Testing and Visualization\n",
    "            if (i == 1) or (i % log_period) == 0:\n",
    "                batch_inds = np.random.randint(0, x.shape[0], hparams['batchsize'])\n",
    "                loss_test, _, _, _, _, _ = eval_pstep(\n",
    "                    velocity_field, i, shard(x[batch_inds, ...]), shard(y[batch_inds, ...]), shard(z[batch_inds, ...]), \n",
    "                    shard(d[batch_inds, ...]), shard(t[batch_inds, ...]), shard(train_radiance[batch_inds, ...]), \n",
    "                    state, rand_key\n",
    "                )\n",
    "                writer.add_scalar('log loss/test', np.log10(np.mean(float(loss_test))), global_step=i)\n",
    "\n",
    "                # Log prediction and estimate\n",
    "                _, _, emission_vis, _, axis_estimation, _ = eval_pstep(\n",
    "                    velocity_field, i, shard(x_vis), shard(y_vis), shard(z_vis), \n",
    "                    shard(d_vis), shard(t_vis), shard(target_vis), state, rand_key\n",
    "                )\n",
    "                axis_estimation = axis_estimation[0] / np.sqrt(np.dot(axis_estimation[0], axis_estimation[0]))\n",
    "                emission_vis = np.reshape(emission_vis, [t_res_vis, x_res_vis, y_res_vis, z_res_vis])\n",
    "                emission_vis = jnp.where(x_vis**2 + y_vis**2 + z_vis**2 >= r_min**2, emission_vis, jnp.zeros_like(emission_vis))\n",
    "                \n",
    "                # Log emission and rotation axis\n",
    "                images = intensity_to_nchw(emission_vis[0])\n",
    "                writer.add_images('emission/estimate', images, global_step=i)\n",
    "                writer.add_scalar('rotation/dot_product', np.dot(rot_axis, axis_estimation), global_step=i)\n",
    "                writer.add_scalar('rotation/x', axis_estimation[0], global_step=i)\n",
    "                writer.add_scalar('rotation/y', axis_estimation[1], global_step=i)\n",
    "                writer.add_scalar('rotation/z', axis_estimation[2], global_step=i)\n",
    "\n",
    "            # Training\n",
    "            batch_inds = np.random.randint(0, x.shape[0], hparams['batchsize'])\n",
    "            loss_train, state, _, _, _, rand_key = train_pstep(\n",
    "                velocity_field, i, shard(x[batch_inds, ...]), shard(y[batch_inds, ...]), shard(z[batch_inds, ...]), \n",
    "                shard(d[batch_inds, ...]), shard(t[batch_inds, ...]), shard(train_radiance[batch_inds, ...]), \n",
    "                state, rand_key\n",
    "            )\n",
    "            writer.add_scalar('log loss/train', np.log10(float(np.mean(loss_train))), global_step=i)\n",
    "            \n",
    "    return state, emission_vis, axis_estimation"
   ]
  },
  {
   "cell_type": "code",
   "execution_count": null,
   "id": "15918e7b-d629-4cbf-9bb9-634205c8a8dc",
   "metadata": {},
   "outputs": [],
   "source": [
    "sensor = xr.load_dataset('../sensors/a0.00_th1.57_ngeo200_npix10000.nc')"
   ]
  },
  {
   "cell_type": "code",
   "execution_count": 213,
   "id": "3b5b535e-306b-42d3-a610-4fc0d540c2d9",
   "metadata": {},
   "outputs": [],
   "source": [
    "# Generate hotspot emission\n",
    "nt, nx, ny, nz = 64, 64, 64, 64\n",
    "nt_test = 64\n",
    "nspots = 1\n",
    "r_isco = 3.0 \n",
    "\n",
    "phi = np.random.rand()*2*np.pi             # azimuth angle (ccw from x-axis)\n",
    "theta = np.random.rand()*np.pi    # zenith angle (pi/2 = equatorial plane)\n",
    "\n",
    "orbit_radius = 3.5 \n",
    "std = .4 * np.ones_like(orbit_radius)\n",
    "initial_frame = emission_utils.generate_hotspots_3d(nx, ny, nz, theta, phi, orbit_radius, std, r_isco)\n",
    "\n",
    "orbit_period = 3.5**(-3./2.) \n",
    "velocity_field = lambda r: (1.0 / orbit_period) * r**(-3/2)\n",
    "\n",
    "rot_axis =  np.array([np.cos(theta)*np.cos(phi), np.cos(theta)*np.sin(phi), -np.sin(theta)])\n",
    "emission = emission_utils.generate_orbit_3d(initial_frame, nt, velocity_field, rot_axis)\n",
    "# emission_test = emission_utils.generate_orbit_3d(initial_frame, nt_test, velocity_field, rot_axis)"
   ]
  },
  {
   "cell_type": "code",
   "execution_count": 183,
   "id": "a78bd89d-9c93-4d6f-b216-d4dcfe615f7f",
   "metadata": {},
   "outputs": [
    {
     "data": {
      "text/plain": [
       "(5.623960004418948, 2.3204244726992567)"
      ]
     },
     "execution_count": 183,
     "metadata": {},
     "output_type": "execute_result"
    }
   ],
   "source": [
    "phi, theta"
   ]
  },
  {
   "cell_type": "code",
   "execution_count": 215,
   "id": "108e82db-6590-41a3-904f-73237c8020b6",
   "metadata": {},
   "outputs": [
    {
     "name": "stderr",
     "output_type": "stream",
     "text": [
      "/scratch/imaging/projects/bh_nerf/envs/jax/lib/python3.9/site-packages/ipyvolume/serialize.py:92: RuntimeWarning: invalid value encountered in true_divide\n",
      "  gradient = gradient / np.sqrt(gradient[0] ** 2 + gradient[1] ** 2 + gradient[2] ** 2)\n"
     ]
    },
    {
     "data": {
      "application/vnd.jupyter.widget-view+json": {
       "model_id": "553210955ee64bf586d2a0e3ab3828b9",
       "version_major": 2,
       "version_minor": 0
      },
      "text/plain": [
       "VBox(children=(VBox(children=(HBox(children=(Label(value='levels:'), FloatSlider(value=0.0, max=1.0, step=0.00…"
      ]
     },
     "metadata": {},
     "output_type": "display_data"
    }
   ],
   "source": [
    "nt, nx, ny, nz = 64, 64, 64, 64\n",
    "rho = np.sqrt(rot_axis[0]**2 + rot_axis[1]**2)\n",
    "\n",
    "fov = (10.0, 'GM/c^2')\n",
    "std = (0.5, 10.0, 10.0)\n",
    "\n",
    "phi_ = -np.arctan2(rho, rot_axis[2])\n",
    "theta_ = np.arctan2(rot_axis[1], rot_axis[0])\n",
    "axis = [-np.cos(theta_), np.sin(theta_), 0]\n",
    "gaussian = emission_utils.gaussian_3d(nx, ny, nz, std, fov)\n",
    "gaussian = emission_utils.rotate_3d(gaussian, axis=[0, 0, 1], angle=phi_)\n",
    "gaussian = emission_utils.rotate_3d(gaussian, axis=axis, angle=-theta_)\n",
    "\n",
    "ipv.figure()\n",
    "ipv.view(0, -60, distance=2.5)\n",
    "a = emission.sum('t')\n",
    "# a = emission.sel(t=0)\n",
    "ipv.volshow(gaussian + a, \n",
    "            memorder='F', extent=extent, level=[0, 0.2, 0.7], opacity=[0, 0.2, 0.3])\n",
    "ipv.show()"
   ]
  },
  {
   "cell_type": "code",
   "execution_count": 82,
   "id": "a9e7f807-eaf8-4f16-a6d5-553285bc719a",
   "metadata": {},
   "outputs": [
    {
     "data": {
      "application/vnd.jupyter.widget-view+json": {
       "model_id": "1d1681b250e54d709bd1a1c56db522c8",
       "version_major": 2,
       "version_minor": 0
      },
      "text/plain": [
       "VBox(children=(VBox(children=(HBox(children=(Label(value='levels:'), FloatSlider(value=0.0, max=1.0, step=0.00…"
      ]
     },
     "metadata": {},
     "output_type": "display_data"
    }
   ],
   "source": [
    "nt, nx, ny, nz = 64, 64, 64, 64\n",
    "rho = np.sqrt(rot_axis[0]**2 + rot_axis[1]**2)\n",
    "axis =  np.array([-rot_axis[1]/rho, rot_axis[0]/rho, 0])\n",
    "\n",
    "fov = (10.0, 'GM/c^2')\n",
    "std = (10.0, 10.0, 1.0)\n",
    "gaussian = emission_utils.gaussian_3d(nx, ny, nz, std, fov)\n",
    "gaussian = emission_utils.rotate_3d(gaussian, axis, theta)\n",
    "\n",
    "ipv.figure()\n",
    "ipv.view(0, -60, distance=2.5)\n",
    "ipv.volshow(gaussian + emission.sum('t'), memorder='F', extent=extent, level=[0, 0.2, 0.7], opacity=[0, 0.2, 0.3])\n",
    "ipv.show()"
   ]
  },
  {
   "cell_type": "code",
   "execution_count": 61,
   "id": "1f614de3-37dc-4f8b-b7c4-aacda3e25336",
   "metadata": {},
   "outputs": [
    {
     "data": {
      "application/vnd.jupyter.widget-view+json": {
       "model_id": "483a89a24d6644eda99eae465904cfa0",
       "version_major": 2,
       "version_minor": 0
      },
      "text/plain": [
       "interactive(children=(IntSlider(value=0, description='t', max=63), Output()), _dom_classes=('widget-interact',…"
      ]
     },
     "metadata": {},
     "output_type": "display_data"
    }
   ],
   "source": [
    "extent = [(float(initial_frame[dim].min()), float(initial_frame[dim].max())) for dim in initial_frame.dims]\n",
    "@interact(t=widgets.IntSlider(min=0, max=emission.t.size-1, step=1, value=0))\n",
    "def plot_vol(t):\n",
    "    ipv.figure()\n",
    "    ipv.view(0, -60, distance=2.5)\n",
    "    ipv.volshow(emission.sel(t=t), extent=extent, memorder='F', level=[0, 0.2, 0.7], opacity=[0, 0.2, 0.3], controls=False)\n",
    "    ipv.show()"
   ]
  },
  {
   "cell_type": "code",
   "execution_count": 97,
   "id": "004931a0-50ee-4f23-85d9-6ec111ff4a07",
   "metadata": {},
   "outputs": [
    {
     "data": {
      "application/vnd.jupyter.widget-view+json": {
       "model_id": "0ee41c09e2494de7917fbb17570f3b80",
       "version_major": 2,
       "version_minor": 0
      },
      "text/plain": [
       "Canvas(toolbar=Toolbar(toolitems=[('Home', 'Reset original view', 'home', 'home'), ('Back', 'Back to previous …"
      ]
     },
     "metadata": {},
     "output_type": "display_data"
    },
    {
     "name": "stderr",
     "output_type": "stream",
     "text": [
      "WARNING:matplotlib.animation:MovieWriter imagemagick unavailable; using Pillow instead.\n"
     ]
    }
   ],
   "source": [
    "# Visualize radiance measurements \n",
    "%matplotlib widget\n",
    "measurements_2d = emission_utils.integrate_rays(emission, sensor.where(sensor.r < 5))\n",
    "measurements_2d = xr.DataArray(measurements_2d.data.reshape(nt, sensor.num_alpha, sensor.num_beta), dims=['t', 'alpha', 'beta'])\n",
    "anim = measurements_2d.utils_visualization.animate()\n",
    "\n",
    "#outpath = 'gifs/unknown_rotaxis.measurements.theta_{:2.0f}.phi_{:2.0f}.gif'.format(np.rad2deg(theta), np.rad2deg(phi))\n",
    "#anim.save(outpath, writer='imagemagick', fps=10)"
   ]
  },
  {
   "cell_type": "code",
   "execution_count": 9,
   "id": "26ca6275-c501-4be8-be9c-2a1963aa941f",
   "metadata": {},
   "outputs": [],
   "source": [
    "# Drop rays which do not cross the domain (this gives measurements that cannot be reshaped into an image)\n",
    "sensor = sensor.where(sensor.r < 5, drop=True).fillna(0.0)\n",
    "measurements = emission_utils.integrate_rays(emission, sensor)\n",
    "measurements_test = emission_utils.integrate_rays(emission_test, sensor)"
   ]
  },
  {
   "cell_type": "code",
   "execution_count": 24,
   "id": "6d686451-c79e-4058-bade-9ca8f7077db2",
   "metadata": {},
   "outputs": [
    {
     "name": "stderr",
     "output_type": "stream",
     "text": [
      "/scratch/imaging/projects/bh_nerf/envs/jax/lib/python3.9/site-packages/jax/lib/xla_bridge.py:390: UserWarning: jax.host_count has been renamed to jax.process_count. This alias will eventually be removed; please update your code.\n",
      "  warnings.warn(\n",
      "/scratch/imaging/projects/bh_nerf/envs/jax/lib/python3.9/site-packages/jax/lib/xla_bridge.py:377: UserWarning: jax.host_id has been renamed to jax.process_index. This alias will eventually be removed; please update your code.\n",
      "  warnings.warn(\n"
     ]
    },
    {
     "data": {
      "application/vnd.jupyter.widget-view+json": {
       "model_id": "19a4f3a2f5a44652812b52dd32068194",
       "version_major": 2,
       "version_minor": 0
      },
      "text/plain": [
       "iteration:   0%|          | 0/50000 [00:00<?, ?it/s]"
      ]
     },
     "metadata": {},
     "output_type": "display_data"
    }
   ],
   "source": [
    "# Training parameters\n",
    "hparams = {\n",
    "    'num_iters': 50000,\n",
    "    'lr_init': 1e-4,\n",
    "    'lr_final': 1e-6,\n",
    "    'lr_axis': 1e-1,\n",
    "    'posenc_deg': 3,\n",
    "    'batchsize': 1024,\n",
    "}\n",
    "state, emission_vis, rot_axis_est = train_network(\n",
    "    sensor, emission, emission_test, velocity_field, hparams, \n",
    "    runname='unknown_rotation/init_axis_0.0.-1', \n",
    "    log_period=100, x_res_vis=64, y_res_vis=64, z_res_vis=64\n",
    ")\n",
    "emission_estimate = emission_utils.generate_orbit_3d(\n",
    "    xr.DataArray(emission_vis[0], coords=initial_frame.coords), nt, velocity_field, rot_axis_est)"
   ]
  },
  {
   "cell_type": "code",
   "execution_count": 25,
   "id": "fee16ef0-4683-468e-a67e-281483818759",
   "metadata": {},
   "outputs": [
    {
     "data": {
      "application/vnd.jupyter.widget-view+json": {
       "model_id": "565fce7beaf44fdbb820e98e3ed9906e",
       "version_major": 2,
       "version_minor": 0
      },
      "text/plain": [
       "Canvas(toolbar=Toolbar(toolitems=[('Home', 'Reset original view', 'home', 'home'), ('Back', 'Back to previous …"
      ]
     },
     "metadata": {},
     "output_type": "display_data"
    },
    {
     "data": {
      "text/plain": [
       "<matplotlib.legend.Legend at 0x7fca500a4f10>"
      ]
     },
     "execution_count": 25,
     "metadata": {},
     "output_type": "execute_result"
    }
   ],
   "source": [
    "%matplotlib widget\n",
    "ax = plt.figure(figsize=(7,7)).add_subplot(projection='3d')\n",
    "ax.scatter(0,0,0, color='black', s=50)\n",
    "ax.quiver(0,0,0,*rot_axis, length=0.05, linewidths=3,  label='true')\n",
    "ax.quiver(0,0,0,*rot_axis_est, length=0.05, linewidths=3, label='estimated', color='r')\n",
    "ax.set_xlabel('x')\n",
    "ax.set_ylabel('y')\n",
    "ax.set_zlabel('z')\n",
    "plt.legend(fontsize=14)"
   ]
  },
  {
   "cell_type": "code",
   "execution_count": 26,
   "id": "015c91b8-91cf-4c48-bc6f-dfc7c7334eb9",
   "metadata": {},
   "outputs": [
    {
     "data": {
      "application/vnd.jupyter.widget-view+json": {
       "model_id": "e8aba5c7fdb94ff18671610be18dc1c8",
       "version_major": 2,
       "version_minor": 0
      },
      "text/plain": [
       "interactive(children=(IntSlider(value=0, description='t', max=63), Output()), _dom_classes=('widget-interact',…"
      ]
     },
     "metadata": {},
     "output_type": "display_data"
    }
   ],
   "source": [
    "extent = [(float(initial_frame[dim].min()), float(initial_frame[dim].max())) for dim in initial_frame.dims]\n",
    "@interact(t=widgets.IntSlider(min=0, max=emission.t.size-1, step=1, value=0))\n",
    "def plot_vol(t):\n",
    "    ipv.figure()\n",
    "    ipv.view(0, -60, distance=2.5)\n",
    "    ipv.volshow(emission_estimate.isel(t=t), extent=extent, memorder='F', level=[0, 0.2, 0.7], opacity=[0, 0.2, 0.3], controls=False)\n",
    "    ipv.show()"
   ]
  },
  {
   "cell_type": "code",
   "execution_count": 12,
   "id": "a3f52b62-ebc2-450f-b15a-63cc513a0dec",
   "metadata": {},
   "outputs": [
    {
     "data": {
      "application/vnd.jupyter.widget-view+json": {
       "model_id": "0d5fd4e6c30f465f9ccce79624555a54",
       "version_major": 2,
       "version_minor": 0
      },
      "text/plain": [
       "Canvas(toolbar=Toolbar(toolitems=[('Home', 'Reset original view', 'home', 'home'), ('Back', 'Back to previous …"
      ]
     },
     "metadata": {},
     "output_type": "display_data"
    },
    {
     "name": "stderr",
     "output_type": "stream",
     "text": [
      "WARNING:matplotlib.animation:MovieWriter imagemagick unavailable; using Pillow instead.\n"
     ]
    },
    {
     "data": {
      "text/plain": [
       "<matplotlib.animation.FuncAnimation at 0x7fa8d45b4d30>"
      ]
     },
     "execution_count": 12,
     "metadata": {},
     "output_type": "execute_result"
    }
   ],
   "source": [
    "# Save measurement prediction\n",
    "sensor = xr.load_dataset('../sensors/a0.00_th1.57_ngeo200_npix10000.nc')\n",
    "measurements_2d = emission_utils.integrate_rays(emission_estimate, sensor.where(sensor.r < 5))\n",
    "measurements_2d = xr.DataArray(measurements_2d.data.reshape(nt, sensor.num_alpha, sensor.num_beta), dims=['t', 'alpha', 'beta'])\n",
    "\n",
    "%matplotlib widget\n",
    "outpath = 'gifs/unknown_rotaxis.prediction.theta_{:2.0f}.phi_{:2.0f}.gif'.format(np.rad2deg(theta), np.rad2deg(phi))\n",
    "measurements_2d.utils_visualization.animate(output=outpath)"
   ]
  }
 ],
 "metadata": {
  "kernelspec": {
   "display_name": "jax",
   "language": "python",
   "name": "jax"
  },
  "language_info": {
   "codemirror_mode": {
    "name": "ipython",
    "version": 3
   },
   "file_extension": ".py",
   "mimetype": "text/x-python",
   "name": "python",
   "nbconvert_exporter": "python",
   "pygments_lexer": "ipython3",
   "version": "3.9.6"
  }
 },
 "nbformat": 4,
 "nbformat_minor": 5
}
