{
 "cells": [
  {
   "cell_type": "markdown",
   "id": "14a3ac3c-0d93-491f-aa27-3a6388484dc3",
   "metadata": {
    "tags": []
   },
   "source": [
    "# Estimating hotspot(s) emission and rotational axis from visibilties. \n",
    "\n",
    "Notes:\n",
    "Inner most stable circular orbit (ISCO), for spin=0 with r_g=2 this is at 3M \\\n",
    "Overleaf notes: https://www.overleaf.com/project/60ff0ece5aa4f90d07f2a417"
   ]
  },
  {
   "cell_type": "code",
   "execution_count": 1,
   "id": "d450b1d8-b7b0-4731-a8f2-1a9772547f3a",
   "metadata": {
    "tags": []
   },
   "outputs": [
    {
     "name": "stderr",
     "output_type": "stream",
     "text": [
      "2021-09-24 15:43:01.499923: W tensorflow/stream_executor/platform/default/dso_loader.cc:64] Could not load dynamic library 'libcudart.so.11.0'; dlerror: libcudart.so.11.0: cannot open shared object file: No such file or directory; LD_LIBRARY_PATH: /.singularity.d/libs\n",
      "Matplotlib created a temporary config/cache directory at /tmp/matplotlib-g3il66x0 because the default path (/home/jovyan/.cache/matplotlib) is not a writable directory; it is highly recommended to set the MPLCONFIGDIR environment variable to a writable directory, in particular to speed up the import of Matplotlib and to better support multiprocessing.\n"
     ]
    },
    {
     "name": "stdout",
     "output_type": "stream",
     "text": [
      "Welcome to eht-imaging! v 1.2.2 \n",
      "\n"
     ]
    }
   ],
   "source": [
    "import sys\n",
    "sys.path.append('../bhnerf')\n",
    "\n",
    "import os\n",
    "\n",
    "import jax\n",
    "from jax import random\n",
    "from jax import numpy as jnp\n",
    "import jax.scipy.ndimage as jnd\n",
    "import scipy.ndimage as nd\n",
    "\n",
    "os.environ['CUDA_VISIBLE_DEVICES'] = '1'\n",
    "\n",
    "import xarray as xr\n",
    "import flax\n",
    "from flax.training import train_state\n",
    "from flax.training import checkpoints\n",
    "import optax\n",
    "import numpy as np\n",
    "import matplotlib.pyplot as plt\n",
    "\n",
    "import utils, emission_utils, visualization, network_utils, observation_utils\n",
    "from network_utils import shard\n",
    "\n",
    "import ehtim as eh\n",
    "import ehtim.const_def as ehc\n",
    "from tensorboardX import SummaryWriter\n",
    "from datetime import datetime\n",
    "from tqdm.notebook import tqdm\n",
    "import ipyvolume as ipv\n",
    "from ipywidgets import interact\n",
    "import ipywidgets as widgets\n",
    "\n",
    "# from jax.config import config\n",
    "# config.update(\"jax_debug_nans\", True)\n",
    "%load_ext autoreload\n",
    "%autoreload 2"
   ]
  },
  {
   "cell_type": "code",
   "execution_count": 7,
   "id": "f926e89b-3206-422d-bacf-2c180cad835f",
   "metadata": {},
   "outputs": [],
   "source": [
    "def load_state(checkpoint_path, velocity_field, nt=64, nx=64, ny=64, nz=64, x_res_vis=64, y_res_vis=64, z_res_vis=64):\n",
    "\n",
    "    hparams = {\n",
    "        'num_iters': 50000,\n",
    "        'lr_init': 1e-4,\n",
    "        'lr_final': 1e-6,\n",
    "        'lr_axis': 1e-1,\n",
    "        'posenc_deg': 3,\n",
    "        'batchsize': 1,\n",
    "        'r_min': r_min\n",
    "    }\n",
    "\n",
    "    # Training / testing coordinates\n",
    "    train_coords = network_utils.get_input_coords(sensor, t_array=np.linspace(0, 1, nt), batch='t')\n",
    "    t, x, y, z, d = train_coords.values()\n",
    "    t = np.linspace(0, 1, nt)\n",
    "\n",
    "    # Emission visualization inputs\n",
    "    t_res_vis = 1\n",
    "    emission_extent = [-5, 5, -5, 5, -5, 5]\n",
    "    t_vis, x_vis, y_vis, z_vis  = np.meshgrid(0, np.linspace(emission_extent[0], emission_extent[1], x_res_vis),\n",
    "                                              np.linspace(emission_extent[2], emission_extent[3], y_res_vis),\n",
    "                                              np.linspace(emission_extent[4], emission_extent[5], x_res_vis),\n",
    "                                              indexing='ij')\n",
    "\n",
    "    d_vis = np.ones_like(y_vis)                  # meaningless placeholder for emission visualization\n",
    "    uv = np.zeros((1,171,2))\n",
    "    test_vis = np.zeros((1,171))\n",
    "\n",
    "    # Model setup and initialization\n",
    "    rng = jax.random.PRNGKey(1)\n",
    "    predictor = network_utils.PREDICT_EMISSION_AND_ROTAXIS_3D_FROM_VIS(posenc_deg=hparams['posenc_deg'])\n",
    "    params = predictor.init(rng, x[:1, ...], y[:1, ...], z[:1, ...], t[:1, ...], velocity_field, 0, 1)['params']\n",
    "\n",
    "    def flattened_traversal(fn):\n",
    "        def mask(data):\n",
    "            flat = flax.traverse_util.flatten_dict(data)\n",
    "            return flax.traverse_util.unflatten_dict({k: fn(k, v) for k, v in flat.items()})\n",
    "        return mask\n",
    "\n",
    "    tx = optax.chain(\n",
    "        optax.masked(optax.adam(learning_rate=hparams['lr_axis']),\n",
    "                     mask=flattened_traversal(lambda path, _: path[-1] == 'axis')),\n",
    "        optax.masked(optax.adam(learning_rate=optax.polynomial_schedule(hparams['lr_init'], hparams['lr_final'], 1, hparams['num_iters'])),\n",
    "                     mask=flattened_traversal(lambda path, _: path[-1] != 'axis')),\n",
    "    )\n",
    "\n",
    "    state = train_state.TrainState.create(apply_fn=predictor.apply, params=params.unfreeze(), tx=tx)  # TODO(pratul): this unfreeze feels sketchy\n",
    "    state = checkpoints.restore_checkpoint(checkpoint_path, state)\n",
    "    state = flax.jax_utils.replicate(state)\n",
    "\n",
    "    eval_pstep = jax.pmap(predictor.eval_step, axis_name='batch', in_axes=(None, None, 0, 0, 0, 0, 0, 0, None, None, None, 0, 0, 0), static_broadcasted_argnums=(0))\n",
    "    rng = jax.random.PRNGKey(1)\n",
    "    rand_key = jax.random.split(rng, jax.local_device_count())\n",
    "    _, _, emission_vis, _, axis_estimation, _ = eval_pstep(\n",
    "        velocity_field, 1, shard(x_vis), shard(y_vis), shard(z_vis), shard(d_vis), shard(t_vis),\n",
    "        shard(uv[0, ...]), 100, 0, 1, shard(test_vis[0,...]), state, rand_key\n",
    "    )\n",
    "    axis_estimation = axis_estimation[0] / np.sqrt(np.dot(axis_estimation[0], axis_estimation[0]))\n",
    "    emission_vis = np.reshape(emission_vis, [t_res_vis, x_res_vis, y_res_vis, z_res_vis])\n",
    "    emission_vis = jnp.where(x_vis**2 + y_vis**2 + z_vis**2 >= hparams['r_min']**2, emission_vis, jnp.zeros_like(emission_vis))\n",
    "    emission_estimation = emission_utils.generate_orbit_3d(\n",
    "        xr.DataArray(emission_vis[0], dims=['x', 'y', 'z'], \n",
    "                     coords={'x': np.linspace(-5, 5, nx), \n",
    "                             'y': np.linspace(-5, 5, ny),\n",
    "                             'z': np.linspace(-5, 5, nz)}), \n",
    "        nt, velocity_field, axis_estimation)\n",
    "\n",
    "    return emission_estimation, axis_estimation"
   ]
  },
  {
   "cell_type": "code",
   "execution_count": 3,
   "id": "14f22486-6230-4345-943e-be140c7661c3",
   "metadata": {},
   "outputs": [],
   "source": [
    "sensor = xr.load_dataset('../sensors/a0.00_th1.57_ngeo100_npix4096.nc')\n",
    "sensor = sensor.where(sensor.r < 5)\n",
    "r_min = sensor.r.min().data   # Minimum supervision radius\n",
    "sensor = sensor.fillna(0.0)"
   ]
  },
  {
   "cell_type": "code",
   "execution_count": 16,
   "id": "551866a4-20ed-439c-baf1-a39352b1c833",
   "metadata": {},
   "outputs": [
    {
     "name": "stderr",
     "output_type": "stream",
     "text": [
      "/scratch/imaging/projects/bh_nerf/envs/jax/lib/python3.9/site-packages/jax/lib/xla_bridge.py:390: UserWarning: jax.host_count has been renamed to jax.process_count. This alias will eventually be removed; please update your code.\n",
      "  warnings.warn(\n",
      "/scratch/imaging/projects/bh_nerf/envs/jax/lib/python3.9/site-packages/jax/lib/xla_bridge.py:377: UserWarning: jax.host_id has been renamed to jax.process_index. This alias will eventually be removed; please update your code.\n",
      "  warnings.warn(\n"
     ]
    }
   ],
   "source": [
    "phi = 0.0                # azimuth angle (ccw from x-axis)\n",
    "theta = np.pi/3          # zenith angle (pi/2 = equatorial plane)\n",
    "rot_axis = np.array([np.cos(theta)*np.cos(phi), np.cos(theta)*np.sin(phi), -np.sin(theta)])\n",
    "orbit_period = 3.5**(-3./2.) \n",
    "velocity_field = lambda r: (1.0 / orbit_period) * r**(-3/2)\n",
    "    \n",
    "checkpoint_path = 'checkpoints/ngEHT/image_res64x64.fov100.0.ngeo100.nspots10.axis_init_(0,0,-1).nobias/checkpoint_50000'\n",
    "emission_est, axis_est = load_state(checkpoint_path, velocity_field)"
   ]
  },
  {
   "cell_type": "code",
   "execution_count": 14,
   "id": "44db6b02-ea8c-4b6d-87ce-3f0bc9e7433a",
   "metadata": {},
   "outputs": [
    {
     "data": {
      "application/vnd.jupyter.widget-view+json": {
       "model_id": "3c32022d018a4c7d8e5507b234fbbc72",
       "version_major": 2,
       "version_minor": 0
      },
      "text/plain": [
       "interactive(children=(IntSlider(value=0, description='t', max=63), Output()), _dom_classes=('widget-interact',…"
      ]
     },
     "metadata": {},
     "output_type": "display_data"
    }
   ],
   "source": [
    "extent = [(float(emission_est[dim].min()), float(emission_est[dim].max())) for dim in ('x', 'y', 'z')]\n",
    "@interact(t=widgets.IntSlider(min=0, max=emission_est.t.size-1, step=1, value=0))\n",
    "def plot_vol(t):\n",
    "    ipv.figure()\n",
    "    ipv.view(0, -60, distance=2.5)\n",
    "    ipv.volshow(emission_est.isel(t=t), extent=extent, memorder='F', level=[0, 0.2, 0.7], opacity=[0, 0.2, 0.3], controls=False)\n",
    "    ipv.show()"
   ]
  },
  {
   "cell_type": "code",
   "execution_count": 17,
   "id": "52fde153-aa1d-47d9-95f1-a699eb753fa2",
   "metadata": {},
   "outputs": [
    {
     "data": {
      "application/vnd.jupyter.widget-view+json": {
       "model_id": "f69203868dba457b972524c2a2475a8c",
       "version_major": 2,
       "version_minor": 0
      },
      "text/plain": [
       "Canvas(toolbar=Toolbar(toolitems=[('Home', 'Reset original view', 'home', 'home'), ('Back', 'Back to previous …"
      ]
     },
     "metadata": {},
     "output_type": "display_data"
    },
    {
     "data": {
      "text/plain": [
       "<matplotlib.legend.Legend at 0x7f6de1f9d370>"
      ]
     },
     "execution_count": 17,
     "metadata": {},
     "output_type": "execute_result"
    }
   ],
   "source": [
    "%matplotlib widget\n",
    "ax = plt.figure(figsize=(7,7)).add_subplot(projection='3d')\n",
    "ax.scatter(0,0,0, color='black', s=50)\n",
    "ax.quiver(0,0,0,*rot_axis, length=0.05, linewidths=3,  label='true')\n",
    "ax.quiver(0,0,0,*axis_est, length=0.05, linewidths=3, label='estimated', color='r')\n",
    "ax.set_xlabel('x')\n",
    "ax.set_ylabel('y')\n",
    "ax.set_zlabel('z')\n",
    "plt.legend(fontsize=14)"
   ]
  }
 ],
 "metadata": {
  "kernelspec": {
   "display_name": "jax",
   "language": "python",
   "name": "jax"
  },
  "language_info": {
   "codemirror_mode": {
    "name": "ipython",
    "version": 3
   },
   "file_extension": ".py",
   "mimetype": "text/x-python",
   "name": "python",
   "nbconvert_exporter": "python",
   "pygments_lexer": "ipython3",
   "version": "3.9.6"
  }
 },
 "nbformat": 4,
 "nbformat_minor": 5
}
