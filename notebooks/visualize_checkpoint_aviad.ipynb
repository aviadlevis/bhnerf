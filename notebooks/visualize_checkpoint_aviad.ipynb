{
 "cells": [
  {
   "cell_type": "markdown",
   "id": "14a3ac3c-0d93-491f-aa27-3a6388484dc3",
   "metadata": {
    "tags": []
   },
   "source": [
    "# Estimating hotspot(s) emission and rotational axis from visibilties. \n",
    "\n",
    "Notes:\n",
    "Inner most stable circular orbit (ISCO), for spin=0 with r_g=2 this is at 3M \\\n",
    "Overleaf notes: https://www.overleaf.com/project/60ff0ece5aa4f90d07f2a417"
   ]
  },
  {
   "cell_type": "code",
   "execution_count": 20,
   "id": "d450b1d8-b7b0-4731-a8f2-1a9772547f3a",
   "metadata": {
    "tags": []
   },
   "outputs": [
    {
     "name": "stdout",
     "output_type": "stream",
     "text": [
      "The autoreload extension is already loaded. To reload it, use:\n",
      "  %reload_ext autoreload\n"
     ]
    }
   ],
   "source": [
    "import sys\n",
    "sys.path.append('../bhnerf')\n",
    "\n",
    "import os\n",
    "\n",
    "import jax\n",
    "from jax import random\n",
    "from jax import numpy as jnp\n",
    "import jax.scipy.ndimage as jnd\n",
    "import scipy.ndimage as nd\n",
    "\n",
    "os.environ['CUDA_VISIBLE_DEVICES'] = '2'\n",
    "\n",
    "import xarray as xr\n",
    "import flax\n",
    "from flax.training import train_state\n",
    "from flax.training import checkpoints\n",
    "import optax\n",
    "import numpy as np\n",
    "import matplotlib.pyplot as plt\n",
    "\n",
    "import utils, emission_utils, visualization, network_utils, observation_utils\n",
    "from network_utils import shard\n",
    "\n",
    "import ehtim as eh\n",
    "import ehtim.const_def as ehc\n",
    "from tensorboardX import SummaryWriter\n",
    "from datetime import datetime\n",
    "from tqdm.notebook import tqdm\n",
    "import ipyvolume as ipv\n",
    "from ipywidgets import interact\n",
    "import ipywidgets as widgets\n",
    "\n",
    "import mediapy as media\n",
    "from sklearn.gaussian_process.kernels import RBF\n",
    "from sklearn.gaussian_process import GaussianProcessRegressor as GPR\n",
    "\n",
    "# from jax.config import config\n",
    "# config.update(\"jax_debug_nans\", True)\n",
    "%load_ext autoreload\n",
    "%autoreload 2"
   ]
  },
  {
   "cell_type": "code",
   "execution_count": 21,
   "id": "a3a2ee9c-b272-48bb-b097-efc150db3e8d",
   "metadata": {},
   "outputs": [],
   "source": [
    "# Perspective camera functions\n",
    "\n",
    "def normalize(x):\n",
    "    \"\"\"Normalization helper function.\"\"\"\n",
    "    return x / np.linalg.norm(x)\n",
    "\n",
    "def viewmatrix(lookdir, up, position):\n",
    "    \"\"\"Construct lookat view matrix.\"\"\"\n",
    "    vec2 = normalize(lookdir)\n",
    "    vec0 = normalize(np.cross(up, vec2))\n",
    "    vec1 = normalize(np.cross(vec2, vec0))\n",
    "    m = np.stack([vec0, vec1, vec2, position], axis=1)\n",
    "    return m\n",
    "\n",
    "def generate_hemispherical_orbit(radius, n_frames=120):\n",
    "    \"\"\"Calculates a render path which orbits around the z-axis.\"\"\"\n",
    "    # Assume that z-axis points up towards approximate camera hemisphere\n",
    "    render_poses = []\n",
    "\n",
    "    up = np.array([0., 0., 1.])\n",
    "    for theta in np.linspace(0., 2. * np.pi, n_frames):\n",
    "        camorigin = radius * np.array(\n",
    "            [np.cos(theta), np.sin(theta), 0.])\n",
    "        render_poses.append(viewmatrix(camorigin, up, camorigin))\n",
    "\n",
    "    render_poses = np.stack(render_poses, axis=0)\n",
    "    return render_poses\n",
    "\n",
    "def generate_elevated_orbit(radius, height, n_frames=120):\n",
    "    \"\"\"Calculates a render path which orbits around the z-axis.\"\"\"\n",
    "    # Assume that z-axis points up towards approximate camera hemisphere\n",
    "    render_poses = []\n",
    "    \n",
    "    orbit_radius = np.sqrt(radius**2 - height**2)\n",
    "\n",
    "    up = np.array([0., 0., 1.])\n",
    "    for theta in np.linspace(0., 2. * np.pi, n_frames):\n",
    "        camorigin = np.array(\n",
    "            [orbit_radius * np.cos(theta), orbit_radius * np.sin(theta), height])\n",
    "        render_poses.append(viewmatrix(camorigin, up, camorigin))\n",
    "\n",
    "    render_poses = np.stack(render_poses, axis=0)\n",
    "    return render_poses\n",
    "\n",
    "def generate_rays(camtoworlds, width, height, focal):\n",
    "    \"\"\"Generating rays for all images.\"\"\"\n",
    "    x, y = np.meshgrid(  # pylint: disable=unbalanced-tuple-unpacking\n",
    "        np.arange(width, dtype=np.float32),  # X-Axis (columns)\n",
    "        np.arange(height, dtype=np.float32),  # Y-Axis (rows)\n",
    "        indexing='xy')\n",
    "    camera_dirs = np.stack(\n",
    "        [(x - width * 0.5 + 0.5) / focal,\n",
    "         -(y - height * 0.5 + 0.5) / focal, -np.ones_like(x)],\n",
    "        axis=-1)\n",
    "    directions = ((camera_dirs[None, ..., None, :] *\n",
    "                   camtoworlds[:, None, None, :3, :3]).sum(axis=-1))\n",
    "    origins = np.broadcast_to(camtoworlds[:, None, None, :3, -1],\n",
    "                              directions.shape)\n",
    "\n",
    "    return origins, directions\n",
    "\n",
    "def sample_along_rays(rays_o, rays_d, near, far, num_samples):\n",
    "    t_vals = jnp.linspace(near, far, num_samples)\n",
    "    pts = rays_o[:, :, :, None, :] + t_vals[None, None, None, :, None] * rays_d[:, :, :, None, :]\n",
    "    return pts\n",
    "\n",
    "def draw_cube(emission, pts):\n",
    "    facewidth = 10.\n",
    "    linewidth = 0.15\n",
    "    linecolor = jnp.array([1000.0, 1000.0, 1000.0])\n",
    "    vertices = jnp.array([[-facewidth/2., -facewidth/2., -facewidth/2.],\n",
    "                        [facewidth/2., -facewidth/2., -facewidth/2.],\n",
    "                        [-facewidth/2., facewidth/2., -facewidth/2.],\n",
    "                        [facewidth/2., facewidth/2., -facewidth/2.],\n",
    "                        [-facewidth/2., -facewidth/2., facewidth/2.],\n",
    "                        [facewidth/2., -facewidth/2., facewidth/2.],\n",
    "                        [-facewidth/2., facewidth/2., facewidth/2.],\n",
    "                        [facewidth/2., facewidth/2., facewidth/2.]])\n",
    "    dirs = jnp.array([[-1., 0., 0.],\n",
    "                      [1., 0., 0.],\n",
    "                      [0., -1., 0.],\n",
    "                      [0., 1., 0.],\n",
    "                      [0., 0., -1.],\n",
    "                      [0., 0., 1.]])\n",
    "    \n",
    "    cm = plt.get_cmap('hot')\n",
    "    emission = cm(emission)[..., :3]\n",
    "    emission = jnp.clip(emission - 0.05, 0.0, 1.0)\n",
    "\n",
    "    for i in range(vertices.shape[0]):\n",
    "\n",
    "        for j in range(dirs.shape[0]):\n",
    "            # Draw line segments from each vertex\n",
    "            line_seg_pts = vertices[i, None, :] + jnp.linspace(0.0, facewidth, 64)[:, None] * dirs[j, None, :]\n",
    "\n",
    "            for k in range(line_seg_pts.shape[0]):\n",
    "                dists = jnp.linalg.norm(pts - jnp.broadcast_to(line_seg_pts[k, None, None, None, :], pts.shape), axis=-1)\n",
    "                # out = jnp.where(jnp.less_equal(dists, linewidth),\n",
    "                #                 lineval * jnp.exp(-1. * dists), out)\n",
    "                emission += linecolor[None, None, None, :] * jnp.exp(-1. * dists / linewidth ** 2)[..., None]\n",
    "    \n",
    "    out = jnp.where(jnp.greater(jnp.broadcast_to(jnp.amax(jnp.abs(pts), axis=-1, keepdims=True), \n",
    "                                                 emission.shape), \n",
    "                                facewidth/2. + linewidth), \n",
    "                    jnp.zeros_like(emission), emission)\n",
    "        \n",
    "    return out"
   ]
  },
  {
   "cell_type": "code",
   "execution_count": 22,
   "id": "14f22486-6230-4345-943e-be140c7661c3",
   "metadata": {},
   "outputs": [],
   "source": [
    "sensor = xr.load_dataset('../sensors/a0.00_th1.57_ngeo100_npix4096.nc')\n",
    "sensor = sensor.where(sensor.r < 5)\n",
    "r_min = sensor.r.min().data   # Minimum supervision radius\n",
    "sensor = sensor.fillna(0.0)"
   ]
  },
  {
   "cell_type": "code",
   "execution_count": 23,
   "id": "551866a4-20ed-439c-baf1-a39352b1c833",
   "metadata": {},
   "outputs": [],
   "source": [
    "phi = 0.0                # azimuth angle (ccw from x-axis)\n",
    "theta = np.pi/3          # zenith angle (pi/2 = equatorial plane)\n",
    "rot_axis = np.array([np.cos(theta)*np.cos(phi), np.cos(theta)*np.sin(phi), -np.sin(theta)])\n",
    "orbit_period = 3.5**(-3./2.) \n",
    "velocity_field = lambda r: (1.0 / orbit_period) * r**(-3/2)\n",
    "    \n",
    "checkpoint_path = 'checkpoints/v_noise/ngEHT_amp0.35_corrlen0.01_random_state0_phi0.00_theta1.05/checkpoint_5000'\n"
   ]
  },
  {
   "cell_type": "code",
   "execution_count": 24,
   "id": "d0624007-08c4-4240-80a7-eadfb698b7b1",
   "metadata": {},
   "outputs": [],
   "source": [
    "velocity_std = 0.35\n",
    "length_scale = 0.01\n",
    "random_state = 0\n",
    "radii = np.linspace(1, 10, 100)\n",
    "\n",
    "nt, nx, ny, nz = 64, 128, 128, 128\n",
    "nspots = 1\n",
    "r_isco = 3.0 \n",
    "orbit_radius = 3.5\n",
    "std = .4 * np.ones_like(orbit_radius)\n",
    "orbit_period = orbit_radius**(-3./2.) \n",
    "velocity_field = lambda r: (1.0 / orbit_period) * r**(-3/2)\n",
    "                        \n",
    "phi = 0.0         \n",
    "theta = np.pi / 3 \n",
    "initial_frame = emission_utils.generate_hotspots_3d(nx, ny, nz, theta, phi, orbit_radius, std, r_isco, std_clip=np.inf)\n",
    "rot_axis = np.array([np.cos(theta)*np.cos(phi), np.cos(theta)*np.sin(phi), -np.sin(theta)])\n",
    "\n",
    "\n",
    "gpr = GPR(kernel=RBF(length_scale=length_scale))\n",
    "gp_noise = np.squeeze(velocity_std * gpr.sample_y(radii.reshape(-1, 1), n_samples=1, random_state=random_state))\n",
    "noisy_velocity_field = lambda r: velocity_field(r) + np.interp(r, radii, gp_noise)\n",
    "emission = emission_utils.generate_orbit_3d(initial_frame, nt, noisy_velocity_field, rot_axis)"
   ]
  },
  {
   "cell_type": "code",
   "execution_count": 25,
   "id": "f926e89b-3206-422d-bacf-2c180cad835f",
   "metadata": {},
   "outputs": [
    {
     "name": "stderr",
     "output_type": "stream",
     "text": [
      "/scratch/imaging/projects/bh_nerf/envs/jax/lib/python3.9/site-packages/jax/lib/xla_bridge.py:390: UserWarning: jax.host_count has been renamed to jax.process_count. This alias will eventually be removed; please update your code.\n",
      "  warnings.warn(\n",
      "/scratch/imaging/projects/bh_nerf/envs/jax/lib/python3.9/site-packages/jax/lib/xla_bridge.py:377: UserWarning: jax.host_id has been renamed to jax.process_index. This alias will eventually be removed; please update your code.\n",
      "  warnings.warn(\n"
     ]
    }
   ],
   "source": [
    "nt = 64\n",
    "nx = 64\n",
    "ny = 64\n",
    "nz = 64\n",
    "\n",
    "x_res_vis = 128\n",
    "y_res_vis = 128\n",
    "z_res_vis = 128\n",
    "\n",
    "hparams = {\n",
    "    'num_iters': 50000,\n",
    "    'lr_init': 1e-4,\n",
    "    'lr_final': 1e-6,\n",
    "    'lr_axis': 1e-1,\n",
    "    'posenc_deg': 3,\n",
    "    'batchsize': 1,\n",
    "    'r_min': r_min\n",
    "}\n",
    "\n",
    "# Training / testing coordinates\n",
    "train_coords = network_utils.get_input_coords(sensor, t_array=np.linspace(0, 1, nt), batch='t')\n",
    "t, x, y, z, d = train_coords.values()\n",
    "t = np.linspace(0, 1, nt)\n",
    "\n",
    "# Emission visualization inputs\n",
    "t_res_vis = 1\n",
    "emission_extent = [-5, 5, -5, 5, -5, 5]\n",
    "t_vis, x_vis, y_vis, z_vis  = np.meshgrid(0, np.linspace(emission_extent[0], emission_extent[1], x_res_vis),\n",
    "                                          np.linspace(emission_extent[2], emission_extent[3], y_res_vis),\n",
    "                                          np.linspace(emission_extent[4], emission_extent[5], x_res_vis),\n",
    "                                          indexing='ij')\n",
    "\n",
    "d_vis = np.ones_like(y_vis)                  # meaningless placeholder for emission visualization\n",
    "uv = np.zeros((1,171,2))\n",
    "test_vis = np.zeros((1,171))\n",
    "\n",
    "# Model setup and initialization\n",
    "rng = jax.random.PRNGKey(1)\n",
    "predictor = network_utils.PREDICT_EMISSION_AND_MLP_ROTAXIS_3D_FROM_VIS_W_BG_PRATUL(posenc_deg=hparams['posenc_deg'])\n",
    "params = predictor.init(rng, x[:1, ...], y[:1, ...], z[:1, ...], t[:1, ...], velocity_field, 0, 1)['params']\n",
    "\n",
    "def flattened_traversal(fn):\n",
    "    def mask(data):\n",
    "        flat = flax.traverse_util.flatten_dict(data)\n",
    "        return flax.traverse_util.unflatten_dict({k: fn(k, v) for k, v in flat.items()})\n",
    "    return mask\n",
    "\n",
    "tx = optax.chain(\n",
    "    optax.masked(optax.adam(learning_rate=hparams['lr_axis']),\n",
    "                 mask=flattened_traversal(lambda path, _: path[-1] == 'axis')),\n",
    "    optax.masked(optax.adam(learning_rate=optax.polynomial_schedule(hparams['lr_init'], hparams['lr_final'], 1, hparams['num_iters'])),\n",
    "                 mask=flattened_traversal(lambda path, _: path[-1] != 'axis')),\n",
    ")\n",
    "\n",
    "state = train_state.TrainState.create(apply_fn=predictor.apply, params=params.unfreeze(), tx=tx)  # TODO(pratul): this unfreeze feels sketchy\n",
    "state = checkpoints.restore_checkpoint(checkpoint_path, state)\n",
    "state = flax.jax_utils.replicate(state)\n",
    "\n",
    "eval_pstep = jax.pmap(predictor.eval_step, axis_name='batch', in_axes=(None, None, 0, 0, 0, 0, 0, 0, None, None, None, 0, 0, 0, None, 0, 0), static_broadcasted_argnums=(0))\n",
    "rng = jax.random.PRNGKey(1)\n",
    "rand_key = jax.random.split(rng, jax.local_device_count())"
   ]
  },
  {
   "cell_type": "code",
   "execution_count": 42,
   "id": "aa1c4f3f-9e99-4273-b7c7-35107302cc5c",
   "metadata": {},
   "outputs": [],
   "source": [
    "# poses = generate_hemispherical_orbit(25., n_frames=60)\n",
    "poses = generate_elevated_orbit(25., 20., n_frames=60)\n",
    "height = y_res_vis\n",
    "width = x_res_vis\n",
    "focal = .5 * width / jnp.tan(.5 * 0.7)\n",
    "rays_o, rays_d = generate_rays(poses, width, height, focal)\n",
    "pts = sample_along_rays(rays_o, rays_d, 15., 35., z_res_vis)"
   ]
  },
  {
   "cell_type": "code",
   "execution_count": 43,
   "id": "7986f846-5311-40c8-8866-86a05f56beda",
   "metadata": {},
   "outputs": [],
   "source": [
    "i = 0\n",
    "t = 0.0\n",
    "x_vis = pts[i:i+1, :, :, :, 0]\n",
    "y_vis = pts[i:i+1, :, :, :, 1]\n",
    "z_vis = pts[i:i+1, :, :, :, 2]\n",
    "d_vis = jnp.linalg.norm(jnp.concatenate([jnp.diff(pts[i:i+1, ...], axis=3),\n",
    "                                         jnp.zeros_like(pts[i:i+1, :, :, -1:])], \n",
    "                                         axis=3), axis=-1)\n",
    "\n",
    "t_vis = t * jnp.ones_like(x_vis)\n",
    "\n",
    "_, _, emission_vis, rendering_vis, axis_est, _ = eval_pstep(\n",
    "    velocity_field, 0, \n",
    "    shard(x_vis), shard(y_vis), shard(z_vis), shard(d_vis), shard(t_vis), shard(uv), \n",
    "    100, 0, 1, \n",
    "    shard(test_vis), shard(jnp.zeros((1, y_res_vis, x_res_vis))), shard(jnp.ones_like(test_vis)), \n",
    "    jnp.zeros((y_res_vis, x_res_vis)),\n",
    "    state, rand_key\n",
    ")\n",
    "axis_est = axis_est[0] / np.sqrt(np.dot(axis_est[0], axis_est[0]))\n",
    "emission_vis = np.reshape(emission_vis, [t_res_vis, x_res_vis, y_res_vis, z_res_vis])\n",
    "emission_vis = jnp.where(x_vis**2 + y_vis**2 + z_vis**2 >= hparams['r_min']**2, emission_vis, jnp.zeros_like(emission_vis))\n",
    "emission_vis = jnp.where(x_vis**2 + y_vis**2 + z_vis**2 <= sensor.r.max().data**2, emission_vis, jnp.zeros_like(emission_vis))\n",
    "emission_vis = emission_vis / emission_vis.max()\n",
    "emission_vis_cube = draw_cube(emission_vis[0], jnp.stack([x_vis[0], y_vis[0], z_vis[0]], axis=-1))\n",
    "\n",
    "rendering = jnp.sum(emission_vis_cube * d_vis[0, ..., None], axis=-2)\n",
    "rendering = jnp.clip(rendering, 0.0, 1.0)"
   ]
  },
  {
   "cell_type": "code",
   "execution_count": 41,
   "id": "135effba-8f58-47f2-a4f9-a9343767d889",
   "metadata": {},
   "outputs": [
    {
     "data": {
      "application/vnd.jupyter.widget-view+json": {
       "model_id": "05d01a9ef8224e499b0307a2405735e4",
       "version_major": 2,
       "version_minor": 0
      },
      "text/plain": [
       "Canvas(toolbar=Toolbar(toolitems=[('Home', 'Reset original view', 'home', 'home'), ('Back', 'Back to previous …"
      ]
     },
     "metadata": {},
     "output_type": "display_data"
    },
    {
     "data": {
      "text/plain": [
       "<matplotlib.image.AxesImage at 0x7fae731afc10>"
      ]
     },
     "execution_count": 41,
     "metadata": {},
     "output_type": "execute_result"
    }
   ],
   "source": [
    "%matplotlib widget\n",
    "plt.figure()\n",
    "plt.imshow(rendering)"
   ]
  },
  {
   "cell_type": "code",
   "execution_count": 33,
   "id": "14ab6014-a322-4e2e-9af7-0a8bb509f244",
   "metadata": {},
   "outputs": [],
   "source": [
    "i = 0\n",
    "t = 0.\n",
    "x_vis = pts[i:i+1, :, :, :, 0]\n",
    "y_vis = pts[i:i+1, :, :, :, 1]\n",
    "z_vis = pts[i:i+1, :, :, :, 2]\n",
    "d_vis = jnp.linalg.norm(jnp.concatenate([jnp.diff(pts[i:i+1, ...], axis=3),\n",
    "                                         jnp.zeros_like(pts[i:i+1, :, :, -1:])], \n",
    "                                         axis=3), axis=-1)\n",
    "\n",
    "emission_gt = emission.sel(t=t, method='nearest').interp(x=xr.DataArray(x_vis[0]),\n",
    "                                                         y=xr.DataArray(y_vis[0]),\n",
    "                                                         z=xr.DataArray(z_vis[0])).data\n",
    "emission_vis_cube = draw_cube(emission_gt, jnp.stack([x_vis[0], y_vis[0], z_vis[0]], axis=-1))\n",
    "\n",
    "rendering = jnp.sum(emission_vis_cube * d_vis[0, ..., None], axis=-2)\n",
    "rendering = jnp.clip(rendering, 0.0, 1.0)"
   ]
  },
  {
   "cell_type": "code",
   "execution_count": 34,
   "id": "c09522dd-867a-4edd-b2ba-b2f0490cd32c",
   "metadata": {},
   "outputs": [
    {
     "data": {
      "application/vnd.jupyter.widget-view+json": {
       "model_id": "83494d9d1f6d435c841fc0aa958f3a72",
       "version_major": 2,
       "version_minor": 0
      },
      "text/plain": [
       "Canvas(toolbar=Toolbar(toolitems=[('Home', 'Reset original view', 'home', 'home'), ('Back', 'Back to previous …"
      ]
     },
     "metadata": {},
     "output_type": "display_data"
    },
    {
     "data": {
      "text/plain": [
       "<matplotlib.image.AxesImage at 0x7fae73617220>"
      ]
     },
     "execution_count": 34,
     "metadata": {},
     "output_type": "execute_result"
    }
   ],
   "source": [
    "%matplotlib widget\n",
    "plt.figure()\n",
    "plt.imshow(rendering)"
   ]
  },
  {
   "cell_type": "code",
   "execution_count": 8,
   "id": "77308bc3-10cd-461d-af99-2be6d98c9fcd",
   "metadata": {},
   "outputs": [
    {
     "name": "stdout",
     "output_type": "stream",
     "text": [
      "rendering pose: 0 at time: 0.0\n",
      "rendering pose: 1 at time: 0.0\n",
      "rendering pose: 2 at time: 0.0\n",
      "rendering pose: 3 at time: 0.0\n",
      "rendering pose: 4 at time: 0.0\n",
      "rendering pose: 5 at time: 0.0\n",
      "rendering pose: 6 at time: 0.0\n",
      "rendering pose: 7 at time: 0.0\n",
      "rendering pose: 8 at time: 0.0\n",
      "rendering pose: 9 at time: 0.0\n",
      "rendering pose: 10 at time: 0.0\n",
      "rendering pose: 11 at time: 0.0\n",
      "rendering pose: 12 at time: 0.0\n",
      "rendering pose: 13 at time: 0.0\n",
      "rendering pose: 14 at time: 0.0\n",
      "rendering pose: 15 at time: 0.0\n",
      "rendering pose: 16 at time: 0.0\n",
      "rendering pose: 17 at time: 0.0\n",
      "rendering pose: 18 at time: 0.0\n",
      "rendering pose: 19 at time: 0.0\n",
      "rendering pose: 20 at time: 0.0\n",
      "rendering pose: 21 at time: 0.0\n",
      "rendering pose: 22 at time: 0.0\n",
      "rendering pose: 23 at time: 0.0\n",
      "rendering pose: 24 at time: 0.0\n",
      "rendering pose: 25 at time: 0.0\n",
      "rendering pose: 26 at time: 0.0\n",
      "rendering pose: 27 at time: 0.0\n",
      "rendering pose: 28 at time: 0.0\n",
      "rendering pose: 29 at time: 0.0\n",
      "rendering pose: 30 at time: 0.0\n",
      "rendering pose: 31 at time: 0.0\n",
      "rendering pose: 32 at time: 0.0\n",
      "rendering pose: 33 at time: 0.0\n",
      "rendering pose: 34 at time: 0.0\n",
      "rendering pose: 35 at time: 0.0\n",
      "rendering pose: 36 at time: 0.0\n",
      "rendering pose: 37 at time: 0.0\n",
      "rendering pose: 38 at time: 0.0\n",
      "rendering pose: 39 at time: 0.0\n",
      "rendering pose: 40 at time: 0.0\n",
      "rendering pose: 41 at time: 0.0\n",
      "rendering pose: 42 at time: 0.0\n",
      "rendering pose: 43 at time: 0.0\n",
      "rendering pose: 44 at time: 0.0\n",
      "rendering pose: 45 at time: 0.0\n",
      "rendering pose: 46 at time: 0.0\n",
      "rendering pose: 47 at time: 0.0\n",
      "rendering pose: 48 at time: 0.0\n",
      "rendering pose: 49 at time: 0.0\n",
      "rendering pose: 50 at time: 0.0\n",
      "rendering pose: 51 at time: 0.0\n",
      "rendering pose: 52 at time: 0.0\n",
      "rendering pose: 53 at time: 0.0\n",
      "rendering pose: 54 at time: 0.0\n",
      "rendering pose: 55 at time: 0.0\n",
      "rendering pose: 56 at time: 0.0\n",
      "rendering pose: 57 at time: 0.0\n",
      "rendering pose: 58 at time: 0.0\n",
      "rendering pose: 59 at time: 0.0\n",
      "59 0.0\n",
      "59 0.008474576\n"
     ]
    },
    {
     "ename": "KeyboardInterrupt",
     "evalue": "",
     "output_type": "error",
     "traceback": [
      "\u001b[0;31m---------------------------------------------------------------------------\u001b[0m",
      "\u001b[0;31mKeyboardInterrupt\u001b[0m                         Traceback (most recent call last)",
      "\u001b[0;32m/tmp/ipykernel_74657/3838754787.py\u001b[0m in \u001b[0;36m<module>\u001b[0;34m\u001b[0m\n\u001b[1;32m     61\u001b[0m     \u001b[0memission_vis\u001b[0m \u001b[0;34m=\u001b[0m \u001b[0mjnp\u001b[0m\u001b[0;34m.\u001b[0m\u001b[0mwhere\u001b[0m\u001b[0;34m(\u001b[0m\u001b[0mx_vis\u001b[0m\u001b[0;34m**\u001b[0m\u001b[0;36m2\u001b[0m \u001b[0;34m+\u001b[0m \u001b[0my_vis\u001b[0m\u001b[0;34m**\u001b[0m\u001b[0;36m2\u001b[0m \u001b[0;34m+\u001b[0m \u001b[0mz_vis\u001b[0m\u001b[0;34m**\u001b[0m\u001b[0;36m2\u001b[0m \u001b[0;34m<=\u001b[0m \u001b[0msensor\u001b[0m\u001b[0;34m.\u001b[0m\u001b[0mr\u001b[0m\u001b[0;34m.\u001b[0m\u001b[0mmax\u001b[0m\u001b[0;34m(\u001b[0m\u001b[0;34m)\u001b[0m\u001b[0;34m.\u001b[0m\u001b[0mdata\u001b[0m\u001b[0;34m**\u001b[0m\u001b[0;36m2\u001b[0m\u001b[0;34m,\u001b[0m \u001b[0memission_vis\u001b[0m\u001b[0;34m,\u001b[0m \u001b[0mjnp\u001b[0m\u001b[0;34m.\u001b[0m\u001b[0mzeros_like\u001b[0m\u001b[0;34m(\u001b[0m\u001b[0memission_vis\u001b[0m\u001b[0;34m)\u001b[0m\u001b[0;34m)\u001b[0m\u001b[0;34m\u001b[0m\u001b[0;34m\u001b[0m\u001b[0m\n\u001b[1;32m     62\u001b[0m \u001b[0;34m\u001b[0m\u001b[0m\n\u001b[0;32m---> 63\u001b[0;31m     \u001b[0memission_vis_cube\u001b[0m \u001b[0;34m=\u001b[0m \u001b[0mdraw_cube\u001b[0m\u001b[0;34m(\u001b[0m\u001b[0memission_vis\u001b[0m\u001b[0;34m[\u001b[0m\u001b[0;36m0\u001b[0m\u001b[0;34m]\u001b[0m\u001b[0;34m,\u001b[0m \u001b[0mjnp\u001b[0m\u001b[0;34m.\u001b[0m\u001b[0mstack\u001b[0m\u001b[0;34m(\u001b[0m\u001b[0;34m[\u001b[0m\u001b[0mx_vis\u001b[0m\u001b[0;34m[\u001b[0m\u001b[0;36m0\u001b[0m\u001b[0;34m]\u001b[0m\u001b[0;34m,\u001b[0m \u001b[0my_vis\u001b[0m\u001b[0;34m[\u001b[0m\u001b[0;36m0\u001b[0m\u001b[0;34m]\u001b[0m\u001b[0;34m,\u001b[0m \u001b[0mz_vis\u001b[0m\u001b[0;34m[\u001b[0m\u001b[0;36m0\u001b[0m\u001b[0;34m]\u001b[0m\u001b[0;34m]\u001b[0m\u001b[0;34m,\u001b[0m \u001b[0maxis\u001b[0m\u001b[0;34m=\u001b[0m\u001b[0;34m-\u001b[0m\u001b[0;36m1\u001b[0m\u001b[0;34m)\u001b[0m\u001b[0;34m)\u001b[0m\u001b[0;34m\u001b[0m\u001b[0;34m\u001b[0m\u001b[0m\n\u001b[0m\u001b[1;32m     64\u001b[0m \u001b[0;34m\u001b[0m\u001b[0m\n\u001b[1;32m     65\u001b[0m     \u001b[0mrendering\u001b[0m \u001b[0;34m=\u001b[0m \u001b[0mjnp\u001b[0m\u001b[0;34m.\u001b[0m\u001b[0msum\u001b[0m\u001b[0;34m(\u001b[0m\u001b[0memission_vis_cube\u001b[0m \u001b[0;34m*\u001b[0m \u001b[0md_vis\u001b[0m\u001b[0;34m[\u001b[0m\u001b[0;36m0\u001b[0m\u001b[0;34m,\u001b[0m \u001b[0;34m...\u001b[0m\u001b[0;34m,\u001b[0m \u001b[0;32mNone\u001b[0m\u001b[0;34m]\u001b[0m\u001b[0;34m,\u001b[0m \u001b[0maxis\u001b[0m\u001b[0;34m=\u001b[0m\u001b[0;34m-\u001b[0m\u001b[0;36m2\u001b[0m\u001b[0;34m)\u001b[0m\u001b[0;34m\u001b[0m\u001b[0;34m\u001b[0m\u001b[0m\n",
      "\u001b[0;32m/tmp/ipykernel_74657/3946152466.py\u001b[0m in \u001b[0;36mdraw_cube\u001b[0;34m(emission, pts)\u001b[0m\n\u001b[1;32m     79\u001b[0m \u001b[0;34m\u001b[0m\u001b[0m\n\u001b[1;32m     80\u001b[0m             \u001b[0;32mfor\u001b[0m \u001b[0mk\u001b[0m \u001b[0;32min\u001b[0m \u001b[0mrange\u001b[0m\u001b[0;34m(\u001b[0m\u001b[0mline_seg_pts\u001b[0m\u001b[0;34m.\u001b[0m\u001b[0mshape\u001b[0m\u001b[0;34m[\u001b[0m\u001b[0;36m0\u001b[0m\u001b[0;34m]\u001b[0m\u001b[0;34m)\u001b[0m\u001b[0;34m:\u001b[0m\u001b[0;34m\u001b[0m\u001b[0;34m\u001b[0m\u001b[0m\n\u001b[0;32m---> 81\u001b[0;31m                 \u001b[0mdists\u001b[0m \u001b[0;34m=\u001b[0m \u001b[0mjnp\u001b[0m\u001b[0;34m.\u001b[0m\u001b[0mlinalg\u001b[0m\u001b[0;34m.\u001b[0m\u001b[0mnorm\u001b[0m\u001b[0;34m(\u001b[0m\u001b[0mpts\u001b[0m \u001b[0;34m-\u001b[0m \u001b[0mjnp\u001b[0m\u001b[0;34m.\u001b[0m\u001b[0mbroadcast_to\u001b[0m\u001b[0;34m(\u001b[0m\u001b[0mline_seg_pts\u001b[0m\u001b[0;34m[\u001b[0m\u001b[0mk\u001b[0m\u001b[0;34m,\u001b[0m \u001b[0;32mNone\u001b[0m\u001b[0;34m,\u001b[0m \u001b[0;32mNone\u001b[0m\u001b[0;34m,\u001b[0m \u001b[0;32mNone\u001b[0m\u001b[0;34m,\u001b[0m \u001b[0;34m:\u001b[0m\u001b[0;34m]\u001b[0m\u001b[0;34m,\u001b[0m \u001b[0mpts\u001b[0m\u001b[0;34m.\u001b[0m\u001b[0mshape\u001b[0m\u001b[0;34m)\u001b[0m\u001b[0;34m,\u001b[0m \u001b[0maxis\u001b[0m\u001b[0;34m=\u001b[0m\u001b[0;34m-\u001b[0m\u001b[0;36m1\u001b[0m\u001b[0;34m)\u001b[0m\u001b[0;34m\u001b[0m\u001b[0;34m\u001b[0m\u001b[0m\n\u001b[0m\u001b[1;32m     82\u001b[0m                 \u001b[0;31m# out = jnp.where(jnp.less_equal(dists, linewidth),\u001b[0m\u001b[0;34m\u001b[0m\u001b[0;34m\u001b[0m\u001b[0;34m\u001b[0m\u001b[0m\n\u001b[1;32m     83\u001b[0m                 \u001b[0;31m#                 lineval * jnp.exp(-1. * dists), out)\u001b[0m\u001b[0;34m\u001b[0m\u001b[0;34m\u001b[0m\u001b[0;34m\u001b[0m\u001b[0m\n",
      "\u001b[0;32m/scratch/imaging/projects/bh_nerf/envs/jax/lib/python3.9/site-packages/jax/_src/numpy/linalg.py\u001b[0m in \u001b[0;36mnorm\u001b[0;34m(x, ord, axis, keepdims)\u001b[0m\n\u001b[1;32m    455\u001b[0m \u001b[0;34m@\u001b[0m\u001b[0m_wraps\u001b[0m\u001b[0;34m(\u001b[0m\u001b[0mnp\u001b[0m\u001b[0;34m.\u001b[0m\u001b[0mlinalg\u001b[0m\u001b[0;34m.\u001b[0m\u001b[0mnorm\u001b[0m\u001b[0;34m)\u001b[0m\u001b[0;34m\u001b[0m\u001b[0;34m\u001b[0m\u001b[0m\n\u001b[1;32m    456\u001b[0m \u001b[0;32mdef\u001b[0m \u001b[0mnorm\u001b[0m\u001b[0;34m(\u001b[0m\u001b[0mx\u001b[0m\u001b[0;34m,\u001b[0m \u001b[0mord\u001b[0m\u001b[0;34m=\u001b[0m\u001b[0;32mNone\u001b[0m\u001b[0;34m,\u001b[0m \u001b[0maxis\u001b[0m\u001b[0;34m=\u001b[0m\u001b[0;32mNone\u001b[0m\u001b[0;34m,\u001b[0m \u001b[0mkeepdims\u001b[0m\u001b[0;34m=\u001b[0m\u001b[0;32mFalse\u001b[0m\u001b[0;34m)\u001b[0m\u001b[0;34m:\u001b[0m\u001b[0;34m\u001b[0m\u001b[0;34m\u001b[0m\u001b[0m\n\u001b[0;32m--> 457\u001b[0;31m   \u001b[0;32mreturn\u001b[0m \u001b[0m_norm\u001b[0m\u001b[0;34m(\u001b[0m\u001b[0mx\u001b[0m\u001b[0;34m,\u001b[0m \u001b[0mord\u001b[0m\u001b[0;34m,\u001b[0m \u001b[0maxis\u001b[0m\u001b[0;34m,\u001b[0m \u001b[0mkeepdims\u001b[0m\u001b[0;34m)\u001b[0m\u001b[0;34m\u001b[0m\u001b[0;34m\u001b[0m\u001b[0m\n\u001b[0m\u001b[1;32m    458\u001b[0m \u001b[0;34m\u001b[0m\u001b[0m\n\u001b[1;32m    459\u001b[0m \u001b[0;34m\u001b[0m\u001b[0m\n",
      "\u001b[0;31mKeyboardInterrupt\u001b[0m: "
     ]
    }
   ],
   "source": [
    "renderings = []\n",
    "\n",
    "t = 0.\n",
    "\n",
    "for i in range(0, pts.shape[0]):\n",
    "    \n",
    "    print('rendering pose:', i, 'at time:', t)\n",
    "            \n",
    "    x_vis = pts[i:i+1, :, :, :, 0]\n",
    "    y_vis = pts[i:i+1, :, :, :, 1]\n",
    "    z_vis = pts[i:i+1, :, :, :, 2]\n",
    "    d_vis = jnp.linalg.norm(jnp.concatenate([jnp.diff(pts[i:i+1, ...], axis=3),\n",
    "                                             jnp.zeros_like(pts[i:i+1, :, :, -1:])], \n",
    "                                            axis=3), axis=-1)\n",
    "    \n",
    "    t_vis = t * jnp.ones_like(x_vis)\n",
    "    \n",
    "    _, _, emission_vis, rendering_vis, axis_est, _ = eval_pstep(\n",
    "        velocity_field, 0, \n",
    "        shard(x_vis), shard(y_vis), shard(z_vis), shard(d_vis), shard(t_vis), shard(uv), \n",
    "        100, 0, 1, \n",
    "        shard(test_vis), shard(jnp.zeros((1, y_res_vis, x_res_vis))), shard(jnp.ones_like(test_vis)), \n",
    "        jnp.zeros((y_res_vis, x_res_vis)),\n",
    "        state, rand_key\n",
    "    )\n",
    "    axis_est = axis_est[0] / np.sqrt(np.dot(axis_est[0], axis_est[0]))\n",
    "    emission_vis = np.reshape(emission_vis, [t_res_vis, x_res_vis, y_res_vis, z_res_vis])\n",
    "    emission_vis = jnp.where(x_vis**2 + y_vis**2 + z_vis**2 >= hparams['r_min']**2, emission_vis, jnp.zeros_like(emission_vis))\n",
    "    emission_vis = jnp.where(x_vis**2 + y_vis**2 + z_vis**2 <= sensor.r.max().data**2, emission_vis, jnp.zeros_like(emission_vis))\n",
    "    \n",
    "    emission_vis_cube = draw_cube(emission_vis[0], jnp.stack([x_vis[0], y_vis[0], z_vis[0]], axis=-1))\n",
    "    \n",
    "    rendering = jnp.sum(emission_vis_cube * d_vis[0, ..., None], axis=-2)\n",
    "    rendering = jnp.clip(rendering, 0.0, 1.0)\n",
    "    renderings.append(rendering)\n",
    "\n",
    "for t in jnp.linspace(0.0, 0.5, pts.shape[0]):\n",
    "        \n",
    "    print(i, t)\n",
    "    \n",
    "    x_vis = pts[i:i+1, :, :, :, 0]\n",
    "    y_vis = pts[i:i+1, :, :, :, 1]\n",
    "    z_vis = pts[i:i+1, :, :, :, 2]\n",
    "    d_vis = jnp.linalg.norm(jnp.concatenate([jnp.diff(pts[i:i+1, ...], axis=3),\n",
    "                                             jnp.zeros_like(pts[i:i+1, :, :, -1:])], \n",
    "                                            axis=3), axis=-1)\n",
    "    \n",
    "    t_vis = t * jnp.ones_like(x_vis)\n",
    "    \n",
    "    _, _, emission_vis, rendering_vis, axis_est, _ = eval_pstep(\n",
    "        velocity_field, 0, \n",
    "        shard(x_vis), shard(y_vis), shard(z_vis), shard(d_vis), shard(t_vis), shard(uv), \n",
    "        100, 0, 1, \n",
    "        shard(test_vis), shard(jnp.zeros((1, y_res_vis, x_res_vis))), shard(jnp.ones_like(test_vis)), \n",
    "        jnp.zeros((y_res_vis, x_res_vis)),\n",
    "        state, rand_key\n",
    "    )\n",
    "    axis_est = axis_est[0] / np.sqrt(np.dot(axis_est[0], axis_est[0]))\n",
    "    emission_vis = np.reshape(emission_vis, [t_res_vis, x_res_vis, y_res_vis, z_res_vis])\n",
    "    emission_vis = jnp.where(x_vis**2 + y_vis**2 + z_vis**2 >= hparams['r_min']**2, emission_vis, jnp.zeros_like(emission_vis))\n",
    "    emission_vis = jnp.where(x_vis**2 + y_vis**2 + z_vis**2 <= sensor.r.max().data**2, emission_vis, jnp.zeros_like(emission_vis))\n",
    "    \n",
    "    emission_vis_cube = draw_cube(emission_vis[0], jnp.stack([x_vis[0], y_vis[0], z_vis[0]], axis=-1))\n",
    "    \n",
    "    rendering = jnp.sum(emission_vis_cube * d_vis[0, ..., None], axis=-2)\n",
    "    rendering = jnp.clip(rendering, 0.0, 1.0)\n",
    "    renderings.append(rendering)\n",
    "    \n",
    "for i, t in enumerate(jnp.linspace(0.5, 1., pts.shape[0])):\n",
    "    \n",
    "    i += 30\n",
    "        \n",
    "    print(i, t)\n",
    "    \n",
    "    x_vis = pts[i:i+1, :, :, :, 0]\n",
    "    y_vis = pts[i:i+1, :, :, :, 1]\n",
    "    z_vis = pts[i:i+1, :, :, :, 2]\n",
    "    d_vis = jnp.linalg.norm(jnp.concatenate([jnp.diff(pts[i:i+1, ...], axis=3),\n",
    "                                             jnp.zeros_like(pts[i:i+1, :, :, -1:])], \n",
    "                                            axis=3), axis=-1)\n",
    "    \n",
    "    t_vis = t * jnp.ones_like(x_vis)\n",
    "    \n",
    "    _, _, emission_vis, rendering_vis, axis_est, _ = eval_pstep(\n",
    "        velocity_field, 0, \n",
    "        shard(x_vis), shard(y_vis), shard(z_vis), shard(d_vis), shard(t_vis), shard(uv), \n",
    "        100, 0, 1, \n",
    "        shard(test_vis), shard(jnp.zeros((1, y_res_vis, x_res_vis))), shard(jnp.ones_like(test_vis)), \n",
    "        jnp.zeros((y_res_vis, x_res_vis)),\n",
    "        state, rand_key\n",
    "    )\n",
    "    axis_est = axis_est[0] / np.sqrt(np.dot(axis_est[0], axis_est[0]))\n",
    "    emission_vis = np.reshape(emission_vis, [t_res_vis, x_res_vis, y_res_vis, z_res_vis])\n",
    "    emission_vis = jnp.where(x_vis**2 + y_vis**2 + z_vis**2 >= hparams['r_min']**2, emission_vis, jnp.zeros_like(emission_vis))\n",
    "    emission_vis = jnp.where(x_vis**2 + y_vis**2 + z_vis**2 <= sensor.r.max().data**2, emission_vis, jnp.zeros_like(emission_vis))\n",
    "    \n",
    "    emission_vis_cube = draw_cube(emission_vis[0], jnp.stack([x_vis[0], y_vis[0], z_vis[0]], axis=-1))\n",
    "    \n",
    "    rendering = jnp.sum(emission_vis_cube * d_vis[0, ..., None], axis=-2)\n",
    "    rendering = jnp.clip(rendering, 0.0, 1.0)\n",
    "    renderings.append(rendering)"
   ]
  },
  {
   "cell_type": "code",
   "execution_count": 11,
   "id": "cb4dde6e-3661-4797-b527-0e7c0a501d51",
   "metadata": {},
   "outputs": [
    {
     "data": {
      "text/html": [
       "<table class=\"show_videos\" style=\"border-spacing:0px;\"><tr><td style=\"padding:1px;\"><video controls width=\"400\" height=\"400\" style=\"object-fit:cover;\" loop autoplay>\n",
       "      <source src=\"data:video/mp4;base64,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\" type=\"video/mp4\"/>\n",
       "      This browser does not support the video tag.\n",
       "      </video></td></tr></table>"
      ],
      "text/plain": [
       "<IPython.core.display.HTML object>"
      ]
     },
     "metadata": {},
     "output_type": "display_data"
    }
   ],
   "source": [
    "media.show_video(renderings, fps=30, codec='h264', width=400)"
   ]
  },
  {
   "cell_type": "code",
   "execution_count": null,
   "id": "52fde153-aa1d-47d9-95f1-a699eb753fa2",
   "metadata": {},
   "outputs": [
    {
     "data": {
      "application/vnd.jupyter.widget-view+json": {
       "model_id": "da9a61033e68409384fceee0f1c17267",
       "version_major": 2,
       "version_minor": 0
      },
      "text/plain": [
       "Canvas(toolbar=Toolbar(toolitems=[('Home', 'Reset original view', 'home', 'home'), ('Back', 'Back to previous …"
      ]
     },
     "metadata": {},
     "output_type": "display_data"
    },
    {
     "ename": "NameError",
     "evalue": "name 'axis_est' is not defined",
     "output_type": "error",
     "traceback": [
      "\u001b[0;31m---------------------------------------------------------------------------\u001b[0m",
      "\u001b[0;31mNameError\u001b[0m                                 Traceback (most recent call last)",
      "\u001b[0;32m/tmp/ipykernel_68928/987942438.py\u001b[0m in \u001b[0;36m<module>\u001b[0;34m\u001b[0m\n\u001b[1;32m      3\u001b[0m \u001b[0max\u001b[0m\u001b[0;34m.\u001b[0m\u001b[0mscatter\u001b[0m\u001b[0;34m(\u001b[0m\u001b[0;36m0\u001b[0m\u001b[0;34m,\u001b[0m\u001b[0;36m0\u001b[0m\u001b[0;34m,\u001b[0m\u001b[0;36m0\u001b[0m\u001b[0;34m,\u001b[0m \u001b[0mcolor\u001b[0m\u001b[0;34m=\u001b[0m\u001b[0;34m'black'\u001b[0m\u001b[0;34m,\u001b[0m \u001b[0ms\u001b[0m\u001b[0;34m=\u001b[0m\u001b[0;36m50\u001b[0m\u001b[0;34m)\u001b[0m\u001b[0;34m\u001b[0m\u001b[0;34m\u001b[0m\u001b[0m\n\u001b[1;32m      4\u001b[0m \u001b[0max\u001b[0m\u001b[0;34m.\u001b[0m\u001b[0mquiver\u001b[0m\u001b[0;34m(\u001b[0m\u001b[0;36m0\u001b[0m\u001b[0;34m,\u001b[0m\u001b[0;36m0\u001b[0m\u001b[0;34m,\u001b[0m\u001b[0;36m0\u001b[0m\u001b[0;34m,\u001b[0m\u001b[0;34m*\u001b[0m\u001b[0mrot_axis\u001b[0m\u001b[0;34m,\u001b[0m \u001b[0mlength\u001b[0m\u001b[0;34m=\u001b[0m\u001b[0;36m0.05\u001b[0m\u001b[0;34m,\u001b[0m \u001b[0mlinewidths\u001b[0m\u001b[0;34m=\u001b[0m\u001b[0;36m3\u001b[0m\u001b[0;34m,\u001b[0m  \u001b[0mlabel\u001b[0m\u001b[0;34m=\u001b[0m\u001b[0;34m'true'\u001b[0m\u001b[0;34m)\u001b[0m\u001b[0;34m\u001b[0m\u001b[0;34m\u001b[0m\u001b[0m\n\u001b[0;32m----> 5\u001b[0;31m \u001b[0max\u001b[0m\u001b[0;34m.\u001b[0m\u001b[0mquiver\u001b[0m\u001b[0;34m(\u001b[0m\u001b[0;36m0\u001b[0m\u001b[0;34m,\u001b[0m\u001b[0;36m0\u001b[0m\u001b[0;34m,\u001b[0m\u001b[0;36m0\u001b[0m\u001b[0;34m,\u001b[0m\u001b[0;34m*\u001b[0m\u001b[0maxis_est\u001b[0m\u001b[0;34m,\u001b[0m \u001b[0mlength\u001b[0m\u001b[0;34m=\u001b[0m\u001b[0;36m0.05\u001b[0m\u001b[0;34m,\u001b[0m \u001b[0mlinewidths\u001b[0m\u001b[0;34m=\u001b[0m\u001b[0;36m3\u001b[0m\u001b[0;34m,\u001b[0m \u001b[0mlabel\u001b[0m\u001b[0;34m=\u001b[0m\u001b[0;34m'estimated'\u001b[0m\u001b[0;34m,\u001b[0m \u001b[0mcolor\u001b[0m\u001b[0;34m=\u001b[0m\u001b[0;34m'r'\u001b[0m\u001b[0;34m)\u001b[0m\u001b[0;34m\u001b[0m\u001b[0;34m\u001b[0m\u001b[0m\n\u001b[0m\u001b[1;32m      6\u001b[0m \u001b[0max\u001b[0m\u001b[0;34m.\u001b[0m\u001b[0mset_xlabel\u001b[0m\u001b[0;34m(\u001b[0m\u001b[0;34m'x'\u001b[0m\u001b[0;34m)\u001b[0m\u001b[0;34m\u001b[0m\u001b[0;34m\u001b[0m\u001b[0m\n\u001b[1;32m      7\u001b[0m \u001b[0max\u001b[0m\u001b[0;34m.\u001b[0m\u001b[0mset_ylabel\u001b[0m\u001b[0;34m(\u001b[0m\u001b[0;34m'y'\u001b[0m\u001b[0;34m)\u001b[0m\u001b[0;34m\u001b[0m\u001b[0;34m\u001b[0m\u001b[0m\n",
      "\u001b[0;31mNameError\u001b[0m: name 'axis_est' is not defined"
     ]
    }
   ],
   "source": [
    "%matplotlib widget\n",
    "ax = plt.figure(figsize=(7,7)).add_subplot(projection='3d')\n",
    "ax.scatter(0,0,0, color='black', s=50)\n",
    "ax.quiver(0,0,0,*rot_axis, length=0.05, linewidths=3,  label='true')\n",
    "ax.quiver(0,0,0,*axis_est, length=0.05, linewidths=3, label='estimated', color='r')\n",
    "ax.set_xlabel('x')\n",
    "ax.set_ylabel('y')\n",
    "ax.set_zlabel('z')\n",
    "plt.legend(fontsize=14)"
   ]
  }
 ],
 "metadata": {
  "kernelspec": {
   "display_name": "jax",
   "language": "python",
   "name": "jax"
  },
  "language_info": {
   "codemirror_mode": {
    "name": "ipython",
    "version": 3
   },
   "file_extension": ".py",
   "mimetype": "text/x-python",
   "name": "python",
   "nbconvert_exporter": "python",
   "pygments_lexer": "ipython3",
   "version": "3.9.6"
  }
 },
 "nbformat": 4,
 "nbformat_minor": 5
}
