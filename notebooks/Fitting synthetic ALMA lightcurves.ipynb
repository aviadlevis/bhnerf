{
 "cells": [
  {
   "cell_type": "code",
   "execution_count": 1,
   "id": "b85f8e98-8ea4-4e4c-9304-038107b539e2",
   "metadata": {},
   "outputs": [
    {
     "name": "stderr",
     "output_type": "stream",
     "text": [
      "Matplotlib created a temporary config/cache directory at /tmp/matplotlib-6v8uwegk because the default path (/home/jovyan/.cache/matplotlib) is not a writable directory; it is highly recommended to set the MPLCONFIGDIR environment variable to a writable directory, in particular to speed up the import of Matplotlib and to better support multiprocessing.\n"
     ]
    },
    {
     "name": "stdout",
     "output_type": "stream",
     "text": [
      "Welcome to eht-imaging! v 1.2.2 \n",
      "\n"
     ]
    },
    {
     "name": "stderr",
     "output_type": "stream",
     "text": [
      "2022-12-23 11:36:16.692362: W tensorflow/stream_executor/platform/default/dso_loader.cc:64] Could not load dynamic library 'libcudart.so.11.0'; dlerror: libcudart.so.11.0: cannot open shared object file: No such file or directory; LD_LIBRARY_PATH: /.singularity.d/libs\n"
     ]
    }
   ],
   "source": [
    "import bhnerf\n",
    "from astropy import units\n",
    "import jax\n",
    "import numpy as np\n",
    "import xarray as xr\n",
    "import matplotlib.pyplot as plt\n",
    "import pandas as pd\n",
    "\n",
    "# Runing on 2 GPUs\n",
    "import os\n",
    "os.environ['CUDA_VISIBLE_DEVICES'] = '2,3'"
   ]
  },
  {
   "cell_type": "markdown",
   "id": "37080b65-356d-4038-9765-3a7c1a8ecf39",
   "metadata": {
    "jp-MarkdownHeadingCollapsed": true,
    "tags": []
   },
   "source": [
    "# Generate synthetic ALMA lightcurves \n",
    "---\n",
    "Polarized lightcurves corresponding to ALMA observation times on April 11, 2017. \\\n",
    "Generate synthetic hot-spot data and the resulting polarized image-plane."
   ]
  },
  {
   "cell_type": "code",
   "execution_count": 2,
   "id": "23f4f47a-f7af-4126-b590-fa98007a1a06",
   "metadata": {},
   "outputs": [
    {
     "data": {
      "application/vnd.jupyter.widget-view+json": {
       "model_id": "8de8a32d7f1c43c5a19cb36f462a2d92",
       "version_major": 2,
       "version_minor": 0
      },
      "text/plain": [
       "Canvas(toolbar=Toolbar(toolitems=[('Home', 'Reset original view', 'home', 'home'), ('Back', 'Back to previous …"
      ]
     },
     "metadata": {},
     "output_type": "display_data"
    },
    {
     "name": "stderr",
     "output_type": "stream",
     "text": [
      "No handles with labels found to put in legend.\n"
     ]
    },
    {
     "data": {
      "text/plain": [
       "Text(0.5, 1.0, 'ALMA lightcurve')"
      ]
     },
     "execution_count": 2,
     "metadata": {},
     "output_type": "execute_result"
    }
   ],
   "source": [
    "\"\"\"\n",
    "Load ALMA Data and time average over a window\n",
    "\"\"\"\n",
    "data_path = '../data/LC_EHT2017_V30_I25_K15/AA_SELFC_LO_Apr11.dat'\n",
    "alma_lc = pd.read_csv(data_path)\n",
    "\n",
    "t0 = 9. + 20./60.           # UTC\n",
    "t7 = t0 + 68./60. + 35./60. # UTC\n",
    "\n",
    "alma_lc_loops = alma_lc.loc[np.bitwise_and(alma_lc['time']>=t0, alma_lc['time']<=t7)]\n",
    "window_size = 7\n",
    "alma_lc_means = alma_lc_loops.rolling(window_size).mean().loc[::window_size].dropna()\n",
    "t_frames = alma_lc_means['time'].values * units.hr\n",
    "\n",
    "%matplotlib widget\n",
    "plt.figure(figsize=(5,3))\n",
    "plt.errorbar(alma_lc.time,  alma_lc['amp'], yerr=alma_lc['sigma'], fmt='.', ecolor='black')\n",
    "plt.errorbar(alma_lc_means.time,  alma_lc_means['amp'], fmt='.', color='tab:orange')\n",
    "plt.fill_between([t0, t7], [3.0, 3.0], alpha=0.3, color='gray')\n",
    "plt.legend()\n",
    "plt.ylim([1.5, 3])\n",
    "plt.title('ALMA lightcurve')"
   ]
  },
  {
   "cell_type": "code",
   "execution_count": 3,
   "id": "de653b06-d2a5-4098-9001-1a94b128c0aa",
   "metadata": {},
   "outputs": [
    {
     "name": "stderr",
     "output_type": "stream",
     "text": [
      "/scratch/imaging/projects/bh_nerf/envs/jax/lib/python3.9/site-packages/xarray/core/computation.py:700: RuntimeWarning: invalid value encountered in sqrt\n",
      "  result_data = func(*input_data)\n"
     ]
    }
   ],
   "source": [
    "\"\"\"\n",
    "Compute geodesics, azimuthal velocity field, stokes factors\n",
    "\"\"\"\n",
    "fov_M = 30.0 \n",
    "spin = 0.2\n",
    "inclination = np.deg2rad(20.0)\n",
    "\n",
    "# Compute geodesics (see Tutorial1)\n",
    "geos = bhnerf.kgeo.image_plane_geos(\n",
    "    spin, inclination, \n",
    "    num_alpha=64, num_beta=64, \n",
    "    alpha_range=[-fov_M/2, fov_M/2],\n",
    "    beta_range=[-fov_M/2, fov_M/2]\n",
    ")\n",
    "t_injection = -float(geos.r_o)\n",
    "\n",
    "# Keplerian prograde velocity field\n",
    "Omega = np.sign(spin + np.finfo(float).eps) * np.sqrt(geos.M) / (geos.r**(3/2) + geos.spin * np.sqrt(geos.M))\n",
    "umu = bhnerf.kgeo.azimuthal_velocity_vector(geos, Omega)\n",
    "g = bhnerf.kgeo.doppler_factor(geos, umu)\n",
    "\n",
    "# To match ~hs inensity=0.3, ~hs pol=0.15 (https://www.aanda.org/articles/aa/pdf/2022/09/aa44493-22.pdf)\n",
    "flux_scale = 0.05\n",
    "Q_frac = 0.8\n",
    "\n",
    "# Polarized emission\n",
    "stokes = ['I', 'Q', 'U']\n",
    "b_consts = [0.0, -1.0, 0.0]\n",
    "b = bhnerf.kgeo.magnetic_field(geos, *b_consts) \n",
    "J = np.nan_to_num(bhnerf.kgeo.parallel_transport(geos, umu, g, b, Q_frac=Q_frac, V_frac=0), 0.0)"
   ]
  },
  {
   "cell_type": "code",
   "execution_count": 4,
   "id": "4652b915-0616-44cb-8f6e-f4f2f95aa7a8",
   "metadata": {},
   "outputs": [
    {
     "name": "stderr",
     "output_type": "stream",
     "text": [
      "/scratch/imaging/projects/bh_nerf/envs/jax/lib/python3.9/site-packages/xarray/core/computation.py:700: RuntimeWarning: invalid value encountered in sqrt\n",
      "  result_data = func(*input_data)\n"
     ]
    }
   ],
   "source": [
    "\"\"\"\n",
    "Generate synthetic hot-spot lightcurves matching ALMA observation times.\n",
    "\"\"\"\n",
    "rot_angle = np.deg2rad(180)\n",
    "orbit_radius = 10.0\n",
    "hs_std = 1.0\n",
    "\n",
    "emission_hs = flux_scale * bhnerf.emission.generate_hotspot_xr(\n",
    "    resolution=(64, 64, 64), \n",
    "    rot_axis=[0.0, 0.0, 1.0], \n",
    "    rot_angle=rot_angle,\n",
    "    orbit_radius=orbit_radius,\n",
    "    std=hs_std,\n",
    "    r_isco=bhnerf.constants.isco_pro(spin),\n",
    "    fov=(fov_M, 'GM/c^2')\n",
    ")\n",
    "image_plane_hs = bhnerf.emission.image_plane_dynamics(emission_hs, geos, Omega, t_frames, t_injection, J)\n",
    "lc_hs = image_plane_hs.sum(axis=(-1,-2))"
   ]
  },
  {
   "cell_type": "code",
   "execution_count": 5,
   "id": "4448ca51-54ae-4a48-8c80-ec76a345a3ee",
   "metadata": {},
   "outputs": [
    {
     "data": {
      "application/vnd.jupyter.widget-view+json": {
       "model_id": "8cd6d187bf4f429cb0c8f4ec0d72bf4e",
       "version_major": 2,
       "version_minor": 0
      },
      "text/plain": [
       "Canvas(toolbar=Toolbar(toolitems=[('Home', 'Reset original view', 'home', 'home'), ('Back', 'Back to previous …"
      ]
     },
     "metadata": {},
     "output_type": "display_data"
    },
    {
     "data": {
      "text/plain": [
       "<matplotlib.animation.FuncAnimation at 0x7f7c9b7abd60>"
      ]
     },
     "execution_count": 5,
     "metadata": {},
     "output_type": "execute_result"
    }
   ],
   "source": [
    "%matplotlib widget\n",
    "movie_list = [xr.DataArray(image_plane_hs[:,i], dims=['t','alpha','beta']) for i in range(image_plane_hs.shape[1])]\n",
    "fig, axes = plt.subplots(1, 3, figsize=(10, 3))\n",
    "bhnerf.visualization.animate_movies_synced(movie_list, axes, titles=stokes)"
   ]
  },
  {
   "cell_type": "code",
   "execution_count": 10,
   "id": "53b7ddf7-da02-44e3-b3b6-cba34037488f",
   "metadata": {},
   "outputs": [
    {
     "data": {
      "application/vnd.jupyter.widget-view+json": {
       "model_id": "8b4645fbb110433c810f7da406161a5e",
       "version_major": 2,
       "version_minor": 0
      },
      "text/plain": [
       "Canvas(toolbar=Toolbar(toolitems=[('Home', 'Reset original view', 'home', 'home'), ('Back', 'Back to previous …"
      ]
     },
     "metadata": {},
     "output_type": "display_data"
    },
    {
     "data": {
      "text/plain": [
       "array([<AxesSubplot:title={'center':'I lightcurve'}>,\n",
       "       <AxesSubplot:title={'center':'Q lightcurve'}>,\n",
       "       <AxesSubplot:title={'center':'U lightcurve'}>,\n",
       "       <AxesSubplot:title={'center':'Q-U loop'}>], dtype=object)"
      ]
     },
     "execution_count": 10,
     "metadata": {},
     "output_type": "execute_result"
    }
   ],
   "source": [
    "%matplotlib widget\n",
    "bhnerf.visualization.plot_stokes_lc(lc_hs, stokes, t_frames, add_mean=True)"
   ]
  },
  {
   "cell_type": "markdown",
   "id": "404ebbfc-9fd4-464a-95cb-efa3ea97074e",
   "metadata": {
    "tags": []
   },
   "source": [
    "# Recover 3D emission \n",
    "---\n",
    "Recover the unknown 3D emission directly from the polarized lightcurves using bh-NeRF. \\\n",
    "This recovery is an idealized recovery with no systematic noise modeling."
   ]
  },
  {
   "cell_type": "markdown",
   "id": "684467ee-5edb-40bb-aa80-518b87499b93",
   "metadata": {
    "jp-MarkdownHeadingCollapsed": true,
    "tags": []
   },
   "source": [
    "## No background accretion"
   ]
  },
  {
   "cell_type": "code",
   "execution_count": 11,
   "id": "fd6c6a58-0005-4b88-bece-b5f3a6c8addb",
   "metadata": {},
   "outputs": [
    {
     "data": {
      "application/vnd.jupyter.widget-view+json": {
       "model_id": "39054e2f1b8f4c5593003d8cb8a23357",
       "version_major": 2,
       "version_minor": 0
      },
      "text/plain": [
       "iteration:   0%|          | 0/50000 [00:00<?, ?it/s]"
      ]
     },
     "metadata": {},
     "output_type": "display_data"
    }
   ],
   "source": [
    "%matplotlib inline\n",
    "\n",
    "import warnings\n",
    "from bhnerf.optimization import LogFn\n",
    "warnings.simplefilter(\"ignore\")\n",
    "\n",
    "batchsize = 6\n",
    "z_width = 4                # maximum disk width [M]\n",
    "rmax = fov_M / 2           # maximum recovery radius\n",
    "rmin = float(geos.r.min()) # minimum recovery radius\n",
    "hparams = {'num_iters': 50000, 'lr_init': 1e-4, 'lr_final': 1e-6, 'seed': 1}\n",
    "\n",
    "lc_total = image_plane_hs.sum(axis=(-1,-2))\n",
    "sigma = [1, 0.1, 0.1]\n",
    "\n",
    "# Logging \n",
    "runname = 'bg_noisy/alma_model.no_noise.spin_{:.1f}.inc_{:.1f}.rot{:.1f}.initkey{}.z_width{}'.format(\n",
    "    spin, np.rad2deg(inclination), np.rad2deg(rot_angle), hparams['seed'], z_width)\n",
    "\n",
    "writer = bhnerf.optimization.SummaryWriter(logdir='../runs/{}'.format(runname))\n",
    "writer.add_images('emission/true', bhnerf.utils.intensity_to_nchw(emission_hs), global_step=0)\n",
    "log_fns = [\n",
    "    LogFn(lambda opt: writer.add_scalar('log_loss/train', np.log10(np.mean(opt.loss)), global_step=opt.step)), \n",
    "    LogFn(lambda opt: writer.recovery_3d(fov_M, emission_true=emission_hs)(opt), log_period=200),\n",
    "    LogFn(lambda opt: writer.plot_lc_datafit(opt, lc_total, stokes, t_frames, batchsize=20), log_period=200)\n",
    "]\n",
    "\n",
    "# Optimization\n",
    "train_step = bhnerf.optimization.TrainStep.image(t_frames, lc_total, sigma, dtype='lc')\n",
    "predictor = bhnerf.network.NeRF_Predictor(rmax, rmin, rmax, z_width)\n",
    "raytracing_args = bhnerf.network.raytracing_args(geos, Omega, t_injection, t_frames[0], J)\n",
    "\n",
    "optimizer = bhnerf.optimization.Optimizer(hparams, predictor, raytracing_args, checkpoint_dir='../checkpoints/{}'.format(runname))\n",
    "optimizer.run(batchsize, train_step, raytracing_args, log_fns=log_fns)"
   ]
  },
  {
   "cell_type": "code",
   "execution_count": 12,
   "id": "0bc0d12c-a295-4658-a080-9e001fe69a0a",
   "metadata": {},
   "outputs": [
    {
     "data": {
      "application/vnd.jupyter.widget-view+json": {
       "model_id": "3ec73c8ef5884bc18ac218de5a21cb43",
       "version_major": 2,
       "version_minor": 0
      },
      "text/plain": [
       "VBox(children=(Figure(camera=PerspectiveCamera(fov=45.0, position=(0.0, -2.1650635094610964, 1.250000000000000…"
      ]
     },
     "metadata": {},
     "output_type": "display_data"
    }
   ],
   "source": [
    "emission_estimate = bhnerf.network.sample_3d_grid(predictor.apply, optimizer.state.params, fov=fov_M)\n",
    "bhnerf.visualization.ipyvolume_3d(emission_estimate, fov=fov_M, level=[0, 0.2, 0.7])"
   ]
  },
  {
   "cell_type": "markdown",
   "id": "9853c6ff-c25b-426d-b235-15977899ded4",
   "metadata": {
    "jp-MarkdownHeadingCollapsed": true,
    "tags": []
   },
   "source": [
    "## Stochastic background accretion"
   ]
  },
  {
   "cell_type": "code",
   "execution_count": 14,
   "id": "58c4d587-d074-46fb-b651-a73d2037c4c9",
   "metadata": {},
   "outputs": [],
   "source": [
    "\"\"\"\n",
    "Load a 2D Gaussian Random Field (GRF) and expand it to 3D.\n",
    "pynoisy: https://github.com/aviadlevis/pynoisy\n",
    "\"\"\"\n",
    "grf = xr.load_dataarray('../data/grf.seed12.nc')\n",
    "t_interp = float(grf.t[-1]) * (t_frames - t_frames.min()) / (t_frames.max() - t_frames.min())\n",
    "image_plane_bg = bhnerf.emission.grf_to_image_plane(grf.interp(t=t_interp), geos, Omega, J, alpha=2.0)\n",
    "\n",
    "# From https://www.aanda.org/articles/aa/pdf/2022/09/aa44493-22.pdf\n",
    "I_sha, P_sha, V_sha = 2.4, 0.2, -0.025\n",
    "image_plane_bg = bhnerf.emission.normalize_stokes(image_plane_bg, I_sha, P_sha)\n",
    "lc_bg = image_plane_bg.sum(axis=(-1,-2))\n",
    "\n",
    "image_plane = image_plane_hs + image_plane_bg\n",
    "lc_total = image_plane.sum(axis=(-1,-2))"
   ]
  },
  {
   "cell_type": "code",
   "execution_count": 15,
   "id": "36b75ed0-ca19-4b15-b9a7-c56bfb3ba878",
   "metadata": {},
   "outputs": [
    {
     "data": {
      "application/vnd.jupyter.widget-view+json": {
       "model_id": "7e254f11f3784db78964e18e6e848432",
       "version_major": 2,
       "version_minor": 0
      },
      "text/plain": [
       "Canvas(toolbar=Toolbar(toolitems=[('Home', 'Reset original view', 'home', 'home'), ('Back', 'Back to previous …"
      ]
     },
     "metadata": {},
     "output_type": "display_data"
    },
    {
     "data": {
      "text/plain": [
       "<matplotlib.animation.FuncAnimation at 0x7f780468d040>"
      ]
     },
     "execution_count": 15,
     "metadata": {},
     "output_type": "execute_result"
    }
   ],
   "source": [
    "%matplotlib widget\n",
    "movie_list = [xr.DataArray(image_plane[:,i], dims=['t','alpha','beta']) for i in range(image_plane.shape[1])]\n",
    "fig, axes = plt.subplots(1, 3, figsize=(9,3))\n",
    "bhnerf.visualization.animate_movies_synced(movie_list, axes, titles=['I', 'Q', 'U'])"
   ]
  },
  {
   "cell_type": "code",
   "execution_count": 16,
   "id": "d714ad8b-6a9d-4243-bb64-2ad9944e120f",
   "metadata": {},
   "outputs": [
    {
     "data": {
      "application/vnd.jupyter.widget-view+json": {
       "model_id": "7220d209c7ab489bb897d96aadef81d6",
       "version_major": 2,
       "version_minor": 0
      },
      "text/plain": [
       "iteration:   0%|          | 0/50000 [00:00<?, ?it/s]"
      ]
     },
     "metadata": {},
     "output_type": "display_data"
    }
   ],
   "source": [
    "\"\"\"\n",
    "Optimization: fit Q, U stokes components \n",
    "\"\"\"\n",
    "%matplotlib inline\n",
    "\n",
    "import warnings\n",
    "from bhnerf.optimization import LogFn\n",
    "warnings.simplefilter(\"ignore\")\n",
    "\n",
    "batchsize = 6\n",
    "z_width = 4                # maximum disk width [M]\n",
    "rmax = fov_M / 2           # maximum recovery radius\n",
    "rmin = float(geos.r.min()) # minimum recovery radius\n",
    "hparams = {'num_iters': 50000, 'lr_init': 1e-4, 'lr_final': 1e-6, 'seed': 1}\n",
    "\n",
    "stokes = ['Q', 'U']\n",
    "_J = J[1:]\n",
    "lc_total = image_plane.sum(axis=(-1,-2))[:, 1:]\n",
    "sigma = [0.1, 0.1]\n",
    "\n",
    "# Logging \n",
    "runname = 'bg_noisy/alma_model.spin_{:.1f}.inc_{:.1f}.rot{:.1f}.QU_only.seed12.initkey{}.z_width{}'.format(\n",
    "    spin, np.rad2deg(inclination), np.rad2deg(rot_angle),hparams['seed'], z_width)\n",
    "\n",
    "writer = bhnerf.optimization.SummaryWriter(logdir='../runs/{}'.format(runname))\n",
    "writer.add_images('emission/true', bhnerf.utils.intensity_to_nchw(emission_hs), global_step=0)\n",
    "log_fns = [\n",
    "    LogFn(lambda opt: writer.add_scalar('log_loss/train', np.log10(np.mean(opt.loss)), global_step=opt.step)), \n",
    "    LogFn(lambda opt: writer.recovery_3d(fov_M, emission_true=emission_hs)(opt), log_period=200),\n",
    "    LogFn(lambda opt: writer.plot_lc_datafit(opt, lc_total, stokes, t_frames, batchsize=20), log_period=200)\n",
    "]\n",
    "\n",
    "# Optimization\n",
    "train_step = bhnerf.optimization.TrainStep.image(t_frames, lc_total, sigma, dtype='lc')\n",
    "predictor = bhnerf.network.NeRF_Predictor(rmax, rmin, rmax, z_width)\n",
    "raytracing_args = bhnerf.network.raytracing_args(geos, Omega, t_injection, t_frames[0], _J)\n",
    "\n",
    "optimizer = bhnerf.optimization.Optimizer(hparams, predictor, raytracing_args, \n",
    "                                          save_period=10000,\n",
    "                                          checkpoint_dir='../checkpoints/{}'.format(runname))\n",
    "optimizer.run(batchsize, train_step, raytracing_args, log_fns=log_fns)"
   ]
  },
  {
   "cell_type": "code",
   "execution_count": 17,
   "id": "2889308e-1932-41d2-98e9-c0eeaf8664f4",
   "metadata": {},
   "outputs": [
    {
     "data": {
      "application/vnd.jupyter.widget-view+json": {
       "model_id": "a965afae6ed943109d132346891f9241",
       "version_major": 2,
       "version_minor": 0
      },
      "text/plain": [
       "VBox(children=(Figure(camera=PerspectiveCamera(fov=45.0, position=(0.0, -2.1650635094610964, 1.250000000000000…"
      ]
     },
     "metadata": {},
     "output_type": "display_data"
    }
   ],
   "source": [
    "emission_estimate = bhnerf.network.sample_3d_grid(predictor.apply, optimizer.state.params, fov=fov_M)\n",
    "bhnerf.visualization.ipyvolume_3d(emission_estimate, fov=fov_M, level=[0, 0.2, 0.7])"
   ]
  },
  {
   "cell_type": "markdown",
   "id": "6e7cad7e-8cc8-45bb-acd1-8754e6a9d865",
   "metadata": {
    "jp-MarkdownHeadingCollapsed": true,
    "tags": []
   },
   "source": [
    "# Visualize recovery"
   ]
  },
  {
   "cell_type": "code",
   "execution_count": 19,
   "id": "f087e1a0-05c6-4e6b-a6a2-b15f66af1f33",
   "metadata": {},
   "outputs": [],
   "source": [
    "def trim_to_gpu_num(array):\n",
    "    output = array\n",
    "    if output.shape[0] % jax.device_count():\n",
    "        output = output[:-1]\n",
    "    return output\n",
    "\n",
    "#checkpoint_dir = '../checkpoints/bg_noisy/alma_model.spin_0.2.inc_20.0.rot180.0.QU_only.seed12.initkey2/'\n",
    "\n",
    "checkpoint_dir = '../checkpoints/tutorial3/recovery.2022-12-23.11:28:41/'\n",
    "batchsize = 20\n",
    "\n",
    "t_frames = trim_to_gpu_num(t_frames)\n",
    "target = trim_to_gpu_num(lc_total)\n",
    "\n",
    "train_step = bhnerf.optimization.TrainStep.image(t_frames, lc_total, sigma, dtype='lc')\n",
    "predictor = bhnerf.network.NeRF_Predictor.from_yml(checkpoint_dir)\n",
    "raytracing_args = bhnerf.network.raytracing_args(geos, Omega, t_injection, t_frames[0], _J)\n",
    "params = predictor.init_params(raytracing_args)\n",
    "state = predictor.init_state(params, checkpoint_dir=checkpoint_dir)\n",
    "\n",
    "loss, movie = bhnerf.optimization.total_movie_loss(batchsize, state, train_step, raytracing_args, return_frames=True)\n",
    "lc_est = movie.sum(axis=(-1,-2))"
   ]
  },
  {
   "cell_type": "code",
   "execution_count": 20,
   "id": "e9d4d4a9-7a5c-437c-b096-2c3204f22f34",
   "metadata": {},
   "outputs": [
    {
     "data": {
      "application/vnd.jupyter.widget-view+json": {
       "model_id": "f0aebedb7059401abb00f3bde3e01e72",
       "version_major": 2,
       "version_minor": 0
      },
      "text/plain": [
       "Canvas(toolbar=Toolbar(toolitems=[('Home', 'Reset original view', 'home', 'home'), ('Back', 'Back to previous …"
      ]
     },
     "metadata": {},
     "output_type": "display_data"
    },
    {
     "data": {
      "text/plain": [
       "<matplotlib.animation.FuncAnimation at 0x7f79e0732190>"
      ]
     },
     "execution_count": 20,
     "metadata": {},
     "output_type": "execute_result"
    }
   ],
   "source": [
    "%matplotlib widget\n",
    "movie_list = [xr.DataArray(movie[:,i], dims=['t','alpha','beta']) for i in range(movie.shape[1])]\n",
    "fig, axes = plt.subplots(1, movie.shape[1], figsize=(3*movie.shape[1], 3))\n",
    "bhnerf.visualization.animate_movies_synced(movie_list, axes)"
   ]
  },
  {
   "cell_type": "code",
   "execution_count": 21,
   "id": "f1093c35-176d-4e3c-a4ed-42c3ddf21cf8",
   "metadata": {},
   "outputs": [
    {
     "data": {
      "application/vnd.jupyter.widget-view+json": {
       "model_id": "90944a3c144043a1b1e7cef57941e783",
       "version_major": 2,
       "version_minor": 0
      },
      "text/plain": [
       "Canvas(toolbar=Toolbar(toolitems=[('Home', 'Reset original view', 'home', 'home'), ('Back', 'Back to previous …"
      ]
     },
     "metadata": {},
     "output_type": "display_data"
    }
   ],
   "source": [
    "%matplotlib widget\n",
    "axes = bhnerf.visualization.plot_stokes_lc(target, ['Q','U'], t_frames, label='True')\n",
    "bhnerf.visualization.plot_stokes_lc(lc_est, ['Q','U'], t_frames, axes=axes, color='r', fmt='x', label='Estimate')\n",
    "for ax in axes:\n",
    "    ax.legend()"
   ]
  },
  {
   "cell_type": "code",
   "execution_count": 23,
   "id": "d58bac8b-830a-4970-9e0f-a6ef7487a0fa",
   "metadata": {},
   "outputs": [
    {
     "data": {
      "application/vnd.jupyter.widget-view+json": {
       "model_id": "ae6221a325b446a8aabcb1b5fd5c5fe7",
       "version_major": 2,
       "version_minor": 0
      },
      "text/plain": [
       "VBox(children=(Figure(camera=PerspectiveCamera(fov=45.0, position=(0.0, -2.1650635094610964, 1.250000000000000…"
      ]
     },
     "metadata": {},
     "output_type": "display_data"
    }
   ],
   "source": [
    "emission_estimate = bhnerf.network.sample_3d_grid(predictor.apply, state.params, fov=fov_M)\n",
    "bhnerf.visualization.ipyvolume_3d(emission_estimate, fov=fov_M, level=[0, 0.2, 0.7])"
   ]
  }
 ],
 "metadata": {
  "kernelspec": {
   "display_name": "jax",
   "language": "python",
   "name": "jax"
  },
  "language_info": {
   "codemirror_mode": {
    "name": "ipython",
    "version": 3
   },
   "file_extension": ".py",
   "mimetype": "text/x-python",
   "name": "python",
   "nbconvert_exporter": "python",
   "pygments_lexer": "ipython3",
   "version": "3.9.6"
  }
 },
 "nbformat": 4,
 "nbformat_minor": 5
}
