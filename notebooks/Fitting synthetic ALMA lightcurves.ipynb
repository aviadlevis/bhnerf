{
 "cells": [
  {
   "cell_type": "code",
   "execution_count": 1,
   "id": "b85f8e98-8ea4-4e4c-9304-038107b539e2",
   "metadata": {},
   "outputs": [
    {
     "name": "stderr",
     "output_type": "stream",
     "text": [
      "Matplotlib created a temporary config/cache directory at /tmp/matplotlib-endt1obe because the default path (/home/jovyan/.cache/matplotlib) is not a writable directory; it is highly recommended to set the MPLCONFIGDIR environment variable to a writable directory, in particular to speed up the import of Matplotlib and to better support multiprocessing.\n"
     ]
    },
    {
     "name": "stdout",
     "output_type": "stream",
     "text": [
      "Welcome to eht-imaging! v 1.2.2 \n",
      "\n"
     ]
    },
    {
     "name": "stderr",
     "output_type": "stream",
     "text": [
      "2022-12-15 14:41:16.952255: W tensorflow/stream_executor/platform/default/dso_loader.cc:64] Could not load dynamic library 'libcudart.so.11.0'; dlerror: libcudart.so.11.0: cannot open shared object file: No such file or directory; LD_LIBRARY_PATH: /.singularity.d/libs\n"
     ]
    }
   ],
   "source": [
    "import bhnerf\n",
    "from astropy import units\n",
    "import jax\n",
    "\n",
    "import numpy as np\n",
    "import xarray as xr\n",
    "import matplotlib.pyplot as plt\n",
    "import pandas as pd\n",
    "\n",
    "# Runing on 2 GPUs\n",
    "import os\n",
    "os.environ['CUDA_VISIBLE_DEVICES'] = '2,3'"
   ]
  },
  {
   "cell_type": "markdown",
   "id": "37080b65-356d-4038-9765-3a7c1a8ecf39",
   "metadata": {
    "tags": []
   },
   "source": [
    "# Generate synthetic ALMA lightcurves \n",
    "---\n",
    "Polarized lightcurves corresponding to ALMA observation times on April 11, 2017. \\\n",
    "Generate synthetic hot-spot data and the resulting polarized image-plane."
   ]
  },
  {
   "cell_type": "code",
   "execution_count": 2,
   "id": "23f4f47a-f7af-4126-b590-fa98007a1a06",
   "metadata": {},
   "outputs": [
    {
     "data": {
      "application/vnd.jupyter.widget-view+json": {
       "model_id": "fec42284150042c69da80bd858400523",
       "version_major": 2,
       "version_minor": 0
      },
      "text/plain": [
       "Canvas(toolbar=Toolbar(toolitems=[('Home', 'Reset original view', 'home', 'home'), ('Back', 'Back to previous …"
      ]
     },
     "metadata": {},
     "output_type": "display_data"
    },
    {
     "name": "stderr",
     "output_type": "stream",
     "text": [
      "No handles with labels found to put in legend.\n"
     ]
    },
    {
     "data": {
      "text/plain": [
       "Text(0.5, 1.0, 'ALMA lightcurve')"
      ]
     },
     "execution_count": 2,
     "metadata": {},
     "output_type": "execute_result"
    }
   ],
   "source": [
    "\"\"\"\n",
    "Load ALMA Data and time average over a window\n",
    "\"\"\"\n",
    "data_path = '../data/LC_EHT2017_V30_I25_K15/AA_SELFC_LO_Apr11.dat'\n",
    "alma_lc = pd.read_csv(data_path)\n",
    "\n",
    "t0 = 9. + 20./60.           # UTC\n",
    "t7 = t0 + 68./60. + 35./60. # UTC\n",
    "\n",
    "alma_lc_loops = alma_lc.loc[np.bitwise_and(alma_lc['time']>=t0, alma_lc['time']<=t7)]\n",
    "window_size = 8\n",
    "alma_lc_means = alma_lc_loops.rolling(window_size).mean().loc[::window_size].dropna()\n",
    "t_frames = alma_lc_means['time'].values * units.hr\n",
    "\n",
    "%matplotlib widget\n",
    "plt.figure(figsize=(5,3))\n",
    "plt.errorbar(alma_lc.time,  alma_lc['amp'], yerr=alma_lc['sigma'], fmt='.', ecolor='black')\n",
    "plt.errorbar(alma_lc_means.time,  alma_lc_means['amp'], fmt='.', color='tab:orange')\n",
    "plt.fill_between([t0, t7], [3.0, 3.0], alpha=0.3, color='gray')\n",
    "plt.legend()\n",
    "plt.ylim([1.5, 3])\n",
    "plt.title('ALMA lightcurve')"
   ]
  },
  {
   "cell_type": "code",
   "execution_count": 3,
   "id": "de653b06-d2a5-4098-9001-1a94b128c0aa",
   "metadata": {},
   "outputs": [
    {
     "name": "stderr",
     "output_type": "stream",
     "text": [
      "/scratch/imaging/projects/bh_nerf/envs/jax/lib/python3.9/site-packages/xarray/core/computation.py:700: RuntimeWarning: invalid value encountered in sqrt\n",
      "  result_data = func(*input_data)\n"
     ]
    }
   ],
   "source": [
    "\"\"\"\n",
    "Compute geodesics, azimuthal velocity field, stokes factors\n",
    "\"\"\"\n",
    "fov_M = 30.0 \n",
    "spin = 0.2\n",
    "inclination = np.deg2rad(20.0)\n",
    "rmax = fov_M / 2\n",
    "\n",
    "# Compute geodesics (see Tutorial1)\n",
    "geos = bhnerf.kgeo.image_plane_geos(\n",
    "    spin, inclination, \n",
    "    num_alpha=64, num_beta=64, \n",
    "    alpha_range=[-fov_M/2, fov_M/2],\n",
    "    beta_range=[-fov_M/2, fov_M/2]\n",
    ")\n",
    "t_injection = -float(geos.r_o)\n",
    "rmin = float(geos.r.min())\n",
    "\n",
    "# Keplerian prograde velocity field\n",
    "Omega = np.sign(spin + np.finfo(float).eps) * np.sqrt(geos.M) / (geos.r**(3/2) + geos.spin * np.sqrt(geos.M))\n",
    "umu = bhnerf.kgeo.azimuthal_velocity_vector(geos, Omega)\n",
    "g = bhnerf.kgeo.doppler_factor(geos, umu)\n",
    "\n",
    "# To match ~hs inensity=0.3, ~hs pol=0.15 (https://www.aanda.org/articles/aa/pdf/2022/09/aa44493-22.pdf)\n",
    "flux_scale = 0.05\n",
    "Q_frac = 0.8\n",
    "V_frac = 0.1\n",
    "\n",
    "# Polarized emission\n",
    "b_consts = [0.0, -1.0, 0.0]\n",
    "b = bhnerf.kgeo.magnetic_field(geos, *b_consts) \n",
    "J = np.nan_to_num(bhnerf.kgeo.parallel_transport(geos, umu, g, b, Q_frac=Q_frac, V_frac=V_frac), 0.0)"
   ]
  },
  {
   "cell_type": "code",
   "execution_count": 6,
   "id": "4652b915-0616-44cb-8f6e-f4f2f95aa7a8",
   "metadata": {},
   "outputs": [
    {
     "name": "stderr",
     "output_type": "stream",
     "text": [
      "/scratch/imaging/projects/bh_nerf/envs/jax/lib/python3.9/site-packages/xarray/core/computation.py:700: RuntimeWarning: invalid value encountered in sqrt\n",
      "  result_data = func(*input_data)\n"
     ]
    }
   ],
   "source": [
    "\"\"\"\n",
    "Generate synthetic hot-spot lightcurves matching ALMA observation times.\n",
    "\"\"\"\n",
    "rot_angle = np.deg2rad(180)\n",
    "orbit_radius = 10.0\n",
    "hs_std = 1.0\n",
    "\n",
    "# Generate hotspot measurements (see Tutorial2)\n",
    "emission_hs = flux_scale * bhnerf.emission.generate_hotspot_xr(\n",
    "    resolution=(64, 64, 64), \n",
    "    rot_axis=[0.0, 0.0, 1.0], \n",
    "    rot_angle=rot_angle,\n",
    "    orbit_radius=orbit_radius,\n",
    "    std=hs_std,\n",
    "    r_isco=bhnerf.constants.isco_pro(spin),\n",
    "    fov=(fov_M, 'GM/c^2')\n",
    ")\n",
    "image_plane_hs = bhnerf.emission.image_plane_dynamics(emission_hs, geos, Omega, t_frames, t_injection, J)\n",
    "lc_hs = image_plane_hs.sum(axis=(-1,-2))"
   ]
  },
  {
   "cell_type": "code",
   "execution_count": 7,
   "id": "4448ca51-54ae-4a48-8c80-ec76a345a3ee",
   "metadata": {},
   "outputs": [
    {
     "data": {
      "application/vnd.jupyter.widget-view+json": {
       "model_id": "2b8fb5a79c0446a4a0a4d584298e32a1",
       "version_major": 2,
       "version_minor": 0
      },
      "text/plain": [
       "Canvas(toolbar=Toolbar(toolitems=[('Home', 'Reset original view', 'home', 'home'), ('Back', 'Back to previous …"
      ]
     },
     "metadata": {},
     "output_type": "display_data"
    },
    {
     "data": {
      "text/plain": [
       "<matplotlib.animation.FuncAnimation at 0x7f08782dc7f0>"
      ]
     },
     "execution_count": 7,
     "metadata": {},
     "output_type": "execute_result"
    }
   ],
   "source": [
    "%matplotlib widget\n",
    "movie_list = [xr.DataArray(image_plane_hs[:,i], dims=['t','alpha','beta']) for i in range(image_plane_hs.shape[1])]\n",
    "fig, axes = plt.subplots(1, 4, figsize=(10, 3))\n",
    "bhnerf.visualization.animate_movies_synced(movie_list, axes, titles=['I', 'Q', 'U', 'V'])"
   ]
  },
  {
   "cell_type": "code",
   "execution_count": 11,
   "id": "53b7ddf7-da02-44e3-b3b6-cba34037488f",
   "metadata": {},
   "outputs": [
    {
     "data": {
      "application/vnd.jupyter.widget-view+json": {
       "model_id": "4fc99af7a69f4665a0cb53dc32527d2a",
       "version_major": 2,
       "version_minor": 0
      },
      "text/plain": [
       "Canvas(toolbar=Toolbar(toolitems=[('Home', 'Reset original view', 'home', 'home'), ('Back', 'Back to previous …"
      ]
     },
     "metadata": {},
     "output_type": "display_data"
    }
   ],
   "source": [
    "%matplotlib widget\n",
    "bhnerf.visualization.plot_stokes_lc(lc_hs, t_frames, add_mean=True)"
   ]
  },
  {
   "cell_type": "markdown",
   "id": "404ebbfc-9fd4-464a-95cb-efa3ea97074e",
   "metadata": {
    "tags": []
   },
   "source": [
    "# Recover 3D emission \n",
    "---\n",
    "Recover the unknown 3D emission directly from the polarized lightcurves using bh-NeRF. \\\n",
    "This recovery is an idealized recovery with no systematic noise modeling."
   ]
  },
  {
   "cell_type": "markdown",
   "id": "684467ee-5edb-40bb-aa80-518b87499b93",
   "metadata": {
    "tags": []
   },
   "source": [
    "## No background accretion"
   ]
  },
  {
   "cell_type": "code",
   "execution_count": 7,
   "id": "5529543d-664d-48ae-9b06-3f17d0c684ae",
   "metadata": {},
   "outputs": [
    {
     "data": {
      "application/vnd.jupyter.widget-view+json": {
       "model_id": "271f12aa9721420e9f574f26b9f73b2a",
       "version_major": 2,
       "version_minor": 0
      },
      "text/plain": [
       "iteration:   0%|          | 0/100001 [00:00<?, ?it/s]"
      ]
     },
     "metadata": {},
     "output_type": "display_data"
    }
   ],
   "source": [
    "import warnings\n",
    "warnings.simplefilter(\"ignore\")\n",
    "\n",
    "seed = 1\n",
    "batchsize = 6\n",
    "hparams = {'num_iters': 100000, 'lr_init': 1e-4, 'lr_final': 1e-6}\n",
    "\n",
    "lc_total = image_plane_hs.sum(axis=(-1,-2))\n",
    "sigma = np.ones_like(lc_total)\n",
    "sigma[:] = [1, 0.1, 0.1]\n",
    "\n",
    "train_step = bhnerf.optimization.TrainStep.image(t_frames, lc_total, sigma, dtype='lc')\n",
    "predictor = bhnerf.network.NeRF_Predictor()\n",
    "raytracing_args = bhnerf.network.raytracing_args(geos, Omega, t_injection, t_frames[0], rmax, J)\n",
    "params = predictor.init_params(raytracing_args, seed=seed)\n",
    "state = predictor.init_state(params, **hparams)\n",
    "\n",
    "runname = 'bg_noisy/alma_model.no_noise.spin_{:.1f}.inc_{:.1f}.rot{:.1f}.initkey{}'.format(\n",
    "    spin, np.rad2deg(inclination), np.rad2deg(rot_angle), seed)\n",
    "\n",
    "state = bhnerf.optimization.run(\n",
    "    runname, batchsize, hparams['num_iters'], state, train_step,\n",
    "    raytracing_args, rmin, rmax, emission_true=emission_hs)"
   ]
  },
  {
   "cell_type": "markdown",
   "id": "9853c6ff-c25b-426d-b235-15977899ded4",
   "metadata": {
    "jp-MarkdownHeadingCollapsed": true,
    "tags": []
   },
   "source": [
    "## Stochastic background accretion"
   ]
  },
  {
   "cell_type": "code",
   "execution_count": 5,
   "id": "58c4d587-d074-46fb-b651-a73d2037c4c9",
   "metadata": {},
   "outputs": [
    {
     "name": "stderr",
     "output_type": "stream",
     "text": [
      "/scratch/imaging/projects/bh_nerf/envs/jax/lib/python3.9/site-packages/xarray/core/computation.py:700: RuntimeWarning: invalid value encountered in sqrt\n",
      "  result_data = func(*input_data)\n"
     ]
    }
   ],
   "source": [
    "\"\"\"\n",
    "Load a 2D Gaussian Random Field (GRF) and expand it to 3D.\n",
    "pynoisy: https://github.com/aviadlevis/pynoisy\n",
    "\"\"\"\n",
    "grf = xr.load_dataarray('../data/grf.seed12.nc')\n",
    "t_interp = float(grf.t[-1]) * (t_frames - t_frames.min()) / (t_frames.max() - t_frames.min())\n",
    "image_plane_bg = bhnerf.emission.grf_to_image_plane(grf.interp(t=t_interp), geos, Omega, J, alpha=2.0)\n",
    "\n",
    "# From https://www.aanda.org/articles/aa/pdf/2022/09/aa44493-22.pdf\n",
    "I_sha, P_sha, V_sha = 2.4, 0.2, -0.025\n",
    "image_plane_bg = bhnerf.emission.normalize_stokes(image_plane_bg, I_sha, P_sha, V_sha)\n",
    "lc_bg = image_plane_bg.sum(axis=(-1,-2))\n",
    "\n",
    "image_plane = image_plane_hs + image_plane_bg\n",
    "lc_total = image_plane.sum(axis=(-1,-2))"
   ]
  },
  {
   "cell_type": "code",
   "execution_count": 6,
   "id": "36b75ed0-ca19-4b15-b9a7-c56bfb3ba878",
   "metadata": {},
   "outputs": [
    {
     "data": {
      "application/vnd.jupyter.widget-view+json": {
       "model_id": "5aa787eabfbf4090b7a7fd65cf8bc534",
       "version_major": 2,
       "version_minor": 0
      },
      "text/plain": [
       "Canvas(toolbar=Toolbar(toolitems=[('Home', 'Reset original view', 'home', 'home'), ('Back', 'Back to previous …"
      ]
     },
     "metadata": {},
     "output_type": "display_data"
    },
    {
     "data": {
      "text/plain": [
       "<matplotlib.animation.FuncAnimation at 0x7fea8c7d6610>"
      ]
     },
     "execution_count": 6,
     "metadata": {},
     "output_type": "execute_result"
    }
   ],
   "source": [
    "%matplotlib widget\n",
    "movie_list = [xr.DataArray(image_plane[:,i], dims=['t','alpha','beta']) for i in range(image_plane.shape[1])]\n",
    "fig, axes = plt.subplots(1, 4, figsize=(10,3))\n",
    "bhnerf.visualization.animate_movies_synced(movie_list, axes, titles=['I', 'Q', 'U', 'V'])"
   ]
  },
  {
   "cell_type": "code",
   "execution_count": 7,
   "id": "f44f9b83-6d22-49f2-98de-276eaf9f6e5c",
   "metadata": {},
   "outputs": [
    {
     "data": {
      "application/vnd.jupyter.widget-view+json": {
       "model_id": "cb7b8a8f59bd4a3c8ccdb99db3239247",
       "version_major": 2,
       "version_minor": 0
      },
      "text/plain": [
       "Canvas(toolbar=Toolbar(toolitems=[('Home', 'Reset original view', 'home', 'home'), ('Back', 'Back to previous …"
      ]
     },
     "metadata": {},
     "output_type": "display_data"
    }
   ],
   "source": [
    "%matplotlib widget\n",
    "bhnerf.visualization.plot_stokes_lc(lc_bg, t_frames)"
   ]
  },
  {
   "cell_type": "code",
   "execution_count": 13,
   "id": "05133303-d4ea-4f57-bd5f-4854ff7fc568",
   "metadata": {},
   "outputs": [
    {
     "data": {
      "application/vnd.jupyter.widget-view+json": {
       "model_id": "4049bf3a47ff44799bf4b4e0d0fb4304",
       "version_major": 2,
       "version_minor": 0
      },
      "text/plain": [
       "iteration:   0%|          | 0/100000 [00:00<?, ?it/s]"
      ]
     },
     "metadata": {},
     "output_type": "display_data"
    }
   ],
   "source": [
    "import warnings\n",
    "warnings.simplefilter(\"ignore\")\n",
    "\n",
    "seed = 2\n",
    "batchsize = 6\n",
    "hparams = {'num_iters': 100000, 'lr_init': 1e-4, 'lr_final': 1e-6}\n",
    "\n",
    "sigma = np.ones_like(lc_total)\n",
    "sigma[:] = [1, 0.1, 0.1]\n",
    "\n",
    "train_step = bhnerf.optimization.TrainStep.image(t_frames, lc_total, sigma, dtype='lc')\n",
    "predictor = bhnerf.network.NeRF_Predictor()\n",
    "raytracing_args = bhnerf.network.raytracing_args(geos, Omega, t_injection, t_frames[0], rmax, J)\n",
    "params = predictor.init_params(raytracing_args, seed=seed)\n",
    "state = predictor.init_state(params, **hparams)\n",
    "\n",
    "runname = 'bg_noisy/alma_model.spin_{:.1f}.inc_{:.1f}.rot{:.1f}.stokes_norm.seed12.initkey{}'.format(\n",
    "    spin, np.rad2deg(inclination), np.rad2deg(rot_angle), seed)\n",
    "\n",
    "state = bhnerf.optimization.run(\n",
    "    runname, batchsize, hparams['num_iters'], state, train_step,\n",
    "    raytracing_args, rmin, rmax, emission_true=emission_hs)"
   ]
  },
  {
   "cell_type": "markdown",
   "id": "6e7cad7e-8cc8-45bb-acd1-8754e6a9d865",
   "metadata": {
    "jp-MarkdownHeadingCollapsed": true,
    "tags": []
   },
   "source": [
    "# Visualize recovery"
   ]
  },
  {
   "cell_type": "code",
   "execution_count": 12,
   "id": "f087e1a0-05c6-4e6b-a6a2-b15f66af1f33",
   "metadata": {},
   "outputs": [
    {
     "name": "stderr",
     "output_type": "stream",
     "text": [
      "/scratch/imaging/projects/bh_nerf/envs/jax/lib/python3.9/site-packages/xarray/core/computation.py:700: RuntimeWarning: invalid value encountered in sqrt\n",
      "  result_data = func(*input_data)\n",
      "/scratch/imaging/projects/bh_nerf/envs/jax/lib/python3.9/site-packages/jax/lib/xla_bridge.py:390: UserWarning: jax.host_count has been renamed to jax.process_count. This alias will eventually be removed; please update your code.\n",
      "  warnings.warn(\n",
      "/scratch/imaging/projects/bh_nerf/envs/jax/lib/python3.9/site-packages/jax/lib/xla_bridge.py:377: UserWarning: jax.host_id has been renamed to jax.process_index. This alias will eventually be removed; please update your code.\n",
      "  warnings.warn(\n"
     ]
    }
   ],
   "source": [
    "def trim_to_gpu_num(array):\n",
    "    output = array\n",
    "    if output.shape[0] % jax.device_count():\n",
    "        output = output[:-1]\n",
    "    return output\n",
    "\n",
    "checkpoint_dir = '../checkpoints/bg_noisy/alma_model.no_noise.spin_0.2.inc_20.0.rot180.0.initkey2/'\n",
    "batchsize = 20\n",
    "\n",
    "t_frames = trim_to_gpu_num(t_frames)\n",
    "target = trim_to_gpu_num(lc_hs)\n",
    "\n",
    "train_step = bhnerf.optimization.TrainStep.image(t_frames, target, dtype='lc')\n",
    "predictor = bhnerf.network.NeRF_Predictor()\n",
    "raytracing_args = bhnerf.network.raytracing_args(geos, Omega, t_injection, t_frames[0], rmax, J)\n",
    "params = predictor.init_params(raytracing_args)\n",
    "state = predictor.init_state(params, checkpoint_dir=checkpoint_dir)\n",
    "\n",
    "_, movie = bhnerf.optimization.total_movie_loss(\n",
    "    checkpoint_dir, batchsize, state, train_step, raytracing_args, rmax, return_frames=True\n",
    ")\n",
    "lc_est = movie.sum(axis=(-1,-2))"
   ]
  },
  {
   "cell_type": "code",
   "execution_count": 15,
   "id": "e9d4d4a9-7a5c-437c-b096-2c3204f22f34",
   "metadata": {},
   "outputs": [
    {
     "data": {
      "application/vnd.jupyter.widget-view+json": {
       "model_id": "ef51a7e27beb45b0b14d597b6ae1042e",
       "version_major": 2,
       "version_minor": 0
      },
      "text/plain": [
       "Canvas(toolbar=Toolbar(toolitems=[('Home', 'Reset original view', 'home', 'home'), ('Back', 'Back to previous …"
      ]
     },
     "metadata": {},
     "output_type": "display_data"
    },
    {
     "data": {
      "text/plain": [
       "<matplotlib.animation.FuncAnimation at 0x7f9a40075700>"
      ]
     },
     "execution_count": 15,
     "metadata": {},
     "output_type": "execute_result"
    }
   ],
   "source": [
    "%matplotlib widget\n",
    "movie_list = [xr.DataArray(movie[:,i], dims=['t','alpha','beta']) for i in range(movie.shape[1])]\n",
    "fig, axes = plt.subplots(1, 4, figsize=(10, 3))\n",
    "bhnerf.visualization.animate_movies_synced(movie_list, axes, titles=['I', 'Q', 'U', 'V'])"
   ]
  },
  {
   "cell_type": "code",
   "execution_count": 13,
   "id": "f1093c35-176d-4e3c-a4ed-42c3ddf21cf8",
   "metadata": {},
   "outputs": [
    {
     "data": {
      "application/vnd.jupyter.widget-view+json": {
       "model_id": "7f27deb4f311410fa03c69e9ded25b55",
       "version_major": 2,
       "version_minor": 0
      },
      "text/plain": [
       "Canvas(toolbar=Toolbar(toolitems=[('Home', 'Reset original view', 'home', 'home'), ('Back', 'Back to previous …"
      ]
     },
     "metadata": {},
     "output_type": "display_data"
    }
   ],
   "source": [
    "%matplotlib widget\n",
    "fig, axes = plt.subplots(1, 5, figsize=(12,3))\n",
    "bhnerf.visualization.plot_stokes_lc(target, t_frames, axes=axes, label='True')\n",
    "bhnerf.visualization.plot_stokes_lc(lc_est, t_frames, axes=axes, color='r', linestyle='--', label='Estimate')\n",
    "for ax in axes:\n",
    "    ax.legend()"
   ]
  },
  {
   "cell_type": "code",
   "execution_count": 14,
   "id": "d58bac8b-830a-4970-9e0f-a6ef7487a0fa",
   "metadata": {},
   "outputs": [
    {
     "data": {
      "application/vnd.jupyter.widget-view+json": {
       "model_id": "45d70898d5e5451f834497ac3c0995d5",
       "version_major": 2,
       "version_minor": 0
      },
      "text/plain": [
       "VBox(children=(Figure(camera=PerspectiveCamera(fov=45.0, position=(0.0, -2.1650635094610964, 1.250000000000000…"
      ]
     },
     "metadata": {},
     "output_type": "display_data"
    }
   ],
   "source": [
    "emission_grid = bhnerf.network.sample_3d_grid(predictor.apply, state.params, float(geos.r.min()), rmax, fov=fov_M)\n",
    "bhnerf.visualization.ipyvolume_3d(emission_grid, fov=fov_M, level=[0, 0.2, 0.7])"
   ]
  }
 ],
 "metadata": {
  "kernelspec": {
   "display_name": "jax",
   "language": "python",
   "name": "jax"
  },
  "language_info": {
   "codemirror_mode": {
    "name": "ipython",
    "version": 3
   },
   "file_extension": ".py",
   "mimetype": "text/x-python",
   "name": "python",
   "nbconvert_exporter": "python",
   "pygments_lexer": "ipython3",
   "version": "3.9.6"
  }
 },
 "nbformat": 4,
 "nbformat_minor": 5
}
