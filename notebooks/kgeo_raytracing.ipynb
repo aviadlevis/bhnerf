{
 "cells": [
  {
   "cell_type": "code",
   "execution_count": 1,
   "id": "a5b7564b-c8f4-4101-91b5-f0fec34206dc",
   "metadata": {},
   "outputs": [
    {
     "name": "stderr",
     "output_type": "stream",
     "text": [
      "Matplotlib created a temporary config/cache directory at /tmp/matplotlib-n67atazf because the default path (/home/jovyan/.cache/matplotlib) is not a writable directory; it is highly recommended to set the MPLCONFIGDIR environment variable to a writable directory, in particular to speed up the import of Matplotlib and to better support multiprocessing.\n"
     ]
    }
   ],
   "source": [
    "import sys\n",
    "sys.path.append('../kgeo')\n",
    "sys.path.append('../bhnerf')\n",
    "\n",
    "import numpy as np\n",
    "import xarray as xr\n",
    "\n",
    "import utils, emission_utils, visualization, network_utils\n",
    "from kerr_raytracing_ana import raytrace_ana"
   ]
  },
  {
   "cell_type": "markdown",
   "id": "cbb325fd-b847-4d1e-9009-36fcd7e708df",
   "metadata": {
    "tags": []
   },
   "source": [
    "# Generate1D rays for a non spinning black hole"
   ]
  },
  {
   "cell_type": "code",
   "execution_count": 3,
   "id": "e708b0eb-e6ec-4934-b232-509934404ebf",
   "metadata": {},
   "outputs": [
    {
     "name": "stdout",
     "output_type": "stream",
     "text": [
      "calculating preliminaries...\n",
      "integrating in theta...2.04 s\n",
      "integrating in r...3.54 s\n",
      "plotting data...\n"
     ]
    },
    {
     "data": {
      "application/vnd.jupyter.widget-view+json": {
       "model_id": "c36ca88068bd4e409ac873cb6260e18f",
       "version_major": 2,
       "version_minor": 0
      },
      "text/plain": [
       "Canvas(toolbar=Toolbar(toolitems=[('Home', 'Reset original view', 'home', 'home'), ('Back', 'Back to previous …"
      ]
     },
     "metadata": {},
     "output_type": "display_data"
    },
    {
     "name": "stdout",
     "output_type": "stream",
     "text": [
      "done!\n"
     ]
    }
   ],
   "source": [
    "%matplotlib widget\n",
    "sensor_1d = raytrace_ana(a=0.0, th_o=np.pi/2, plotdata=True)"
   ]
  },
  {
   "cell_type": "code",
   "execution_count": 5,
   "id": "4daa1a21-a875-4d83-b890-bfebde2e0013",
   "metadata": {},
   "outputs": [],
   "source": [
    "# Save the sensor to netcdf\n",
    "output_path = '../sensors/a{:0.2f}_th{:0.2f}_ngeo{}_npix{}.nc'.format(\n",
    "    sensor_1d.spin.data, sensor_1d.inc.data, sensor_1d.geo.size, sensor_1d.pix.size\n",
    ")\n",
    "sensor_1d.to_netcdf(output_path)"
   ]
  },
  {
   "cell_type": "markdown",
   "id": "374abfda-a3df-4b11-b2e1-f2ddd8d5b9e4",
   "metadata": {},
   "source": [
    "# Generate 2D image rays for a non spinning black hole"
   ]
  },
  {
   "cell_type": "code",
   "execution_count": 2,
   "id": "649126e7-980f-4852-a9b5-d545dda66c75",
   "metadata": {},
   "outputs": [
    {
     "name": "stdout",
     "output_type": "stream",
     "text": [
      "calculating preliminaries...\n",
      "integrating in theta...49.77 s\n",
      "integrating in r...100.74 s\n",
      "plotting data...\n"
     ]
    },
    {
     "data": {
      "application/vnd.jupyter.widget-view+json": {
       "model_id": "e05ce01d3c834ef6a5c85537cc0b8856",
       "version_major": 2,
       "version_minor": 0
      },
      "text/plain": [
       "Canvas(toolbar=Toolbar(toolitems=[('Home', 'Reset original view', 'home', 'home'), ('Back', 'Back to previous …"
      ]
     },
     "metadata": {},
     "output_type": "display_data"
    },
    {
     "name": "stdout",
     "output_type": "stream",
     "text": [
      "done!\n"
     ]
    }
   ],
   "source": [
    "num_alpha, num_beta = 100, 100\n",
    "alpha, beta = np.meshgrid(np.linspace(-8., 8., num_alpha), np.linspace(-8., 8., num_beta))\n",
    "\n",
    "%matplotlib widget\n",
    "sensor_2d = raytrace_ana(a=0.0, beta=beta.ravel(), alpha=alpha.ravel(), th_o=np.pi/2, plotdata=True)"
   ]
  },
  {
   "cell_type": "code",
   "execution_count": 7,
   "id": "ef168b78-36dd-4851-b30b-889163666aeb",
   "metadata": {},
   "outputs": [],
   "source": [
    "# Save the sensor to netcdf \n",
    "sensor_2d.attrs.update(num_alpha=num_alpha, num_beta=num_beta)\n",
    "output_path = '../sensors/a{:0.2f}_th{:0.2f}_ngeo{}_npix{}.nc'.format(\n",
    "    sensor_2d.spin.data, sensor_2d.inc.data, sensor_2d.geo.size, sensor_2d.pix.size\n",
    ")\n",
    "sensor_2d.to_netcdf(output_path)"
   ]
  }
 ],
 "metadata": {
  "kernelspec": {
   "display_name": "jax",
   "language": "python",
   "name": "jax"
  },
  "language_info": {
   "codemirror_mode": {
    "name": "ipython",
    "version": 3
   },
   "file_extension": ".py",
   "mimetype": "text/x-python",
   "name": "python",
   "nbconvert_exporter": "python",
   "pygments_lexer": "ipython3",
   "version": "3.9.6"
  }
 },
 "nbformat": 4,
 "nbformat_minor": 5
}
