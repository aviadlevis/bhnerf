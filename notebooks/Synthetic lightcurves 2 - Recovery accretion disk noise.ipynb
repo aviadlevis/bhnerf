{
 "cells": [
  {
   "cell_type": "code",
   "execution_count": 1,
   "id": "b85f8e98-8ea4-4e4c-9304-038107b539e2",
   "metadata": {},
   "outputs": [
    {
     "name": "stderr",
     "output_type": "stream",
     "text": [
      "Matplotlib created a temporary config/cache directory at /tmp/matplotlib-oi3yt11c because the default path (/home/jovyan/.cache/matplotlib) is not a writable directory; it is highly recommended to set the MPLCONFIGDIR environment variable to a writable directory, in particular to speed up the import of Matplotlib and to better support multiprocessing.\n"
     ]
    },
    {
     "name": "stdout",
     "output_type": "stream",
     "text": [
      "Welcome to eht-imaging! v 1.2.2 \n",
      "\n"
     ]
    },
    {
     "name": "stderr",
     "output_type": "stream",
     "text": [
      "2023-03-17 13:03:59.233599: W tensorflow/stream_executor/platform/default/dso_loader.cc:64] Could not load dynamic library 'libcudart.so.11.0'; dlerror: libcudart.so.11.0: cannot open shared object file: No such file or directory; LD_LIBRARY_PATH: /.singularity.d/libs\n"
     ]
    }
   ],
   "source": [
    "import bhnerf\n",
    "from astropy import units\n",
    "import jax\n",
    "import numpy as np\n",
    "import xarray as xr\n",
    "import matplotlib.pyplot as plt\n",
    "import pandas as pd\n",
    "from pathlib import Path\n",
    "import ruamel.yaml as yaml\n",
    "\n",
    "# Runing on 2 GPUs\n",
    "import os\n",
    "os.environ['CUDA_VISIBLE_DEVICES'] = '1,3'\n",
    "\n",
    "import warnings\n",
    "from bhnerf.optimization import LogFn\n",
    "warnings.simplefilter(\"ignore\")"
   ]
  },
  {
   "cell_type": "markdown",
   "id": "00b17e33-f366-45fa-bf28-db20ed49d1be",
   "metadata": {},
   "source": [
    "# Load synthetic data\n",
    "---"
   ]
  },
  {
   "cell_type": "code",
   "execution_count": 2,
   "id": "91335518-63d5-4212-bfec-2ab73a60ad01",
   "metadata": {},
   "outputs": [
    {
     "data": {
      "text/html": [
       "<div>\n",
       "<style scoped>\n",
       "    .dataframe tbody tr th:only-of-type {\n",
       "        vertical-align: middle;\n",
       "    }\n",
       "\n",
       "    .dataframe tbody tr th {\n",
       "        vertical-align: top;\n",
       "    }\n",
       "\n",
       "    .dataframe thead th {\n",
       "        text-align: right;\n",
       "    }\n",
       "</style>\n",
       "<table border=\"1\" class=\"dataframe\">\n",
       "  <thead>\n",
       "    <tr style=\"text-align: right;\">\n",
       "      <th></th>\n",
       "      <th>t</th>\n",
       "      <th>I</th>\n",
       "      <th>Q</th>\n",
       "      <th>U</th>\n",
       "    </tr>\n",
       "  </thead>\n",
       "  <tbody>\n",
       "    <tr>\n",
       "      <th>0</th>\n",
       "      <td>9.340563</td>\n",
       "      <td>0.260572</td>\n",
       "      <td>0.096583</td>\n",
       "      <td>0.122080</td>\n",
       "    </tr>\n",
       "    <tr>\n",
       "      <th>1</th>\n",
       "      <td>9.350670</td>\n",
       "      <td>0.255594</td>\n",
       "      <td>0.102229</td>\n",
       "      <td>0.110132</td>\n",
       "    </tr>\n",
       "    <tr>\n",
       "      <th>2</th>\n",
       "      <td>9.360777</td>\n",
       "      <td>0.250520</td>\n",
       "      <td>0.106546</td>\n",
       "      <td>0.097898</td>\n",
       "    </tr>\n",
       "    <tr>\n",
       "      <th>3</th>\n",
       "      <td>9.370883</td>\n",
       "      <td>0.245289</td>\n",
       "      <td>0.109462</td>\n",
       "      <td>0.085561</td>\n",
       "    </tr>\n",
       "    <tr>\n",
       "      <th>4</th>\n",
       "      <td>9.380990</td>\n",
       "      <td>0.240443</td>\n",
       "      <td>0.110972</td>\n",
       "      <td>0.072903</td>\n",
       "    </tr>\n",
       "  </tbody>\n",
       "</table>\n",
       "</div>"
      ],
      "text/plain": [
       "          t         I         Q         U\n",
       "0  9.340563  0.260572  0.096583  0.122080\n",
       "1  9.350670  0.255594  0.102229  0.110132\n",
       "2  9.360777  0.250520  0.106546  0.097898\n",
       "3  9.370883  0.245289  0.109462  0.085561\n",
       "4  9.380990  0.240443  0.110972  0.072903"
      ]
     },
     "execution_count": 2,
     "metadata": {},
     "output_type": "execute_result"
    }
   ],
   "source": [
    "data_path = Path('../data/synthetic_lightcurves/flux_tube/sim1_lightcurve.csv')\n",
    "lightcurves_df = pd.read_csv(data_path)\n",
    "lightcurves_df.head()"
   ]
  },
  {
   "cell_type": "markdown",
   "id": "404ebbfc-9fd4-464a-95cb-efa3ea97074e",
   "metadata": {
    "tags": []
   },
   "source": [
    "# Recover 3D emission \n",
    "---\n",
    "Recover the unknown 3D emission directly from the polarized lightcurves using [bh-NeRF](https://github.com/aviadlevis/bhnerf). \\\n",
    "Generate background accretion represented as a Gaussian Random Field (GRF) pre-computed using [pynoisy](https://github.com/aviadlevis/pynoisy)"
   ]
  },
  {
   "cell_type": "code",
   "execution_count": 3,
   "id": "f6466bd6-6272-432e-be7e-9b5454ea46ca",
   "metadata": {},
   "outputs": [],
   "source": [
    "with open(data_path.parent.joinpath('sim1_params.yaml'), 'r') as stream:\n",
    "    simulation_params = yaml.load(stream, Loader=yaml.Loader)\n",
    "locals().update(simulation_params['model'])\n",
    "\n",
    "recovery_params = { \n",
    "    # Domain dimensions\n",
    "    'z_width': 4,                                   # maximum disk width [M]\n",
    "    'rmax': fov_M / 2,                              # maximum recovery radius\n",
    "    'rmin': float(bhnerf.constants.isco_pro(spin)), # minimum recovery radius\n",
    "    'recovery_scale': 1.0,                          # feature scale for recovery [M] \n",
    "    \n",
    "    # Background accretion\n",
    "    'grf_seed': 12,                                 # random seed of precomputed grf\n",
    "    'alpha': 2.0,                                   # envelope  * exp(alpha * grf)\n",
    "    'diameter_M': 15,                               # Gaussian envelope diameter (M)\n",
    "    'H_r': 0.075,                                   # H/r (opening angle in the Z direction)\n",
    "    'I_mean_disk': 2.2,                             # Jy\n",
    "    'Q_frac_disk': 0.25,                            # Fraction of linear polarization\n",
    "    \n",
    "    # Optimization\n",
    "    'stokes': ['Q', 'U'],\n",
    "    'batchsize': 6,\n",
    "    'sigma': 1,\n",
    "    'hparams': {'num_iters': 50000, 'lr_init': 1e-4, 'lr_final': 1e-6, 'seed': 1}\n",
    "}\n",
    "\n",
    "locals().update(recovery_params)"
   ]
  },
  {
   "cell_type": "code",
   "execution_count": 70,
   "id": "886b7356-8a0d-4147-9130-4577d5d79b13",
   "metadata": {},
   "outputs": [],
   "source": [
    "# Load ground truth flare for comparison\n",
    "sim_name = simulation_params['name']\n",
    "flare_path = Path(simulation_params['flare_path'])\n",
    "emission_flare = xr.load_dataarray(flare_path)\n",
    "lightcurves_flare = np.array(lightcurves_df[stokes])\n",
    "t_frames = np.array(lightcurves_df['t'])\n",
    "\n",
    "# Compute geodesics\n",
    "geos = bhnerf.kgeo.image_plane_geos(\n",
    "    spin, np.deg2rad(inclination), \n",
    "    num_alpha=num_alpha, num_beta=num_beta, \n",
    "    alpha_range=[-fov_M/2, fov_M/2],\n",
    "    beta_range=[-fov_M/2, fov_M/2])\n",
    "t_injection = -float(geos.r_o + fov_M/4)\n",
    "\n",
    "# Keplerian velocity and Doppler boosting\n",
    "rot_sign = {'cw': -1, 'ccw': 1}\n",
    "Omega = rot_sign[Omega_dir] * np.sqrt(geos.M) / (geos.r**(3/2) + geos.spin * np.sqrt(geos.M))\n",
    "umu = bhnerf.kgeo.azimuthal_velocity_vector(geos, Omega)\n",
    "g = bhnerf.kgeo.doppler_factor(geos, umu)\n",
    "\n",
    "# Magnitude normalized magnetic field in fluid-frame\n",
    "b = bhnerf.kgeo.magnetic_field_fluid_frame(geos, umu, **b_consts)\n",
    "domain = np.bitwise_and(np.bitwise_and(np.abs(geos.z) < z_width, geos.r > rmin), geos.r < rmax)\n",
    "b_mean = np.sqrt(np.sum(b[domain]**2, axis=-1)).mean()\n",
    "b /= b_mean\n",
    "\n",
    "# Polarized emission factors (including parallel transport)\n",
    "J_inds = [['I', 'Q', 'U'].index(s) for s in stokes]\n",
    "J = np.nan_to_num(bhnerf.kgeo.parallel_transport(geos, umu, g, b, Q_frac=Q_frac, V_frac=0), 0.0)[J_inds]\n",
    "J_disk = np.nan_to_num(bhnerf.kgeo.parallel_transport(geos, umu, g, b, Q_frac=Q_frac_disk, V_frac=0), 0.0)\n",
    "\n",
    "# Network / Optimization parameters\n",
    "raytracing_args = bhnerf.network.raytracing_args(geos, Omega, t_injection, t_start_obs*units.hr, J)\n",
    "predictor = bhnerf.network.NeRF_Predictor(rmax, rmin, rmax, z_width, posenc_var=recovery_scale/fov_M)\n",
    "\n",
    "\"\"\" Background accretion modeled as Gaussian Random Field (GRF) \"\"\"\n",
    "grf_path = '../data/synthetic_lightcurves/accretion_grfs/grf.seed{}.nc'.format(grf_seed)\n",
    "grf = xr.load_dataarray(grf_path)\n",
    "grf = grf.interp(t=float(grf.t[-1]) * (t_frames - t_frames.min()) / (t_frames.max() - t_frames.min()))\n",
    "image_plane_disk = bhnerf.emission.grf_to_image_plane(grf, geos, Omega, J_disk, diameter_M, alpha, H_r)\n",
    "lightcurves_disk = image_plane_disk.sum(axis=(-1,-2))\n",
    "lightcurves_disk *=  I_mean_disk/lightcurves_disk.mean(axis=0)[0]\n",
    "lightcurves_disk_qu = lightcurves_disk[:,J_inds]\n",
    "disk_LP = np.sqrt(np.sum(lightcurves_disk_qu**2, axis=1)).mean()\n",
    "\n",
    "# Update noisy target and sigmas for recovery\n",
    "target = lightcurves_flare + lightcurves_disk_qu"
   ]
  },
  {
   "cell_type": "code",
   "execution_count": 13,
   "id": "8b0aa261-8267-4c28-a48b-f4fae5a0373e",
   "metadata": {},
   "outputs": [
    {
     "data": {
      "application/vnd.jupyter.widget-view+json": {
       "model_id": "291375ba89f14c4fb2a9035b96e4b9eb",
       "version_major": 2,
       "version_minor": 0
      },
      "text/plain": [
       "Canvas(toolbar=Toolbar(toolitems=[('Home', 'Reset original view', 'home', 'home'), ('Back', 'Back to previous …"
      ]
     },
     "metadata": {},
     "output_type": "display_data"
    },
    {
     "data": {
      "text/plain": [
       "<matplotlib.animation.FuncAnimation at 0x7f91342bc400>"
      ]
     },
     "execution_count": 13,
     "metadata": {},
     "output_type": "execute_result"
    }
   ],
   "source": [
    "%matplotlib widget\n",
    "grf.visualization.animate()"
   ]
  },
  {
   "cell_type": "code",
   "execution_count": 71,
   "id": "28909d77-d68e-4a30-ad27-dfede42aef9d",
   "metadata": {},
   "outputs": [
    {
     "data": {
      "application/vnd.jupyter.widget-view+json": {
       "model_id": "d8c0a8209582414490fbaad0efccfe27",
       "version_major": 2,
       "version_minor": 0
      },
      "text/plain": [
       "Canvas(toolbar=Toolbar(toolitems=[('Home', 'Reset original view', 'home', 'home'), ('Back', 'Back to previous …"
      ]
     },
     "metadata": {},
     "output_type": "display_data"
    },
    {
     "data": {
      "text/plain": [
       "<matplotlib.animation.FuncAnimation at 0x7f8fb40739d0>"
      ]
     },
     "execution_count": 71,
     "metadata": {},
     "output_type": "execute_result"
    }
   ],
   "source": [
    "image_plane_xr = xr.DataArray(image_plane, {'t': t_frames, 'stokes': ['I', 'Q', 'U'], 'beta': geos.beta, 'alpha': geos.alpha}, ['t', 'stokes', 'beta', 'alpha'], 'Image Plane')\n",
    "%matplotlib widget\n",
    "fig, axes = plt.subplots(1, 3, figsize=(10, 3))\n",
    "bhnerf.visualization.animate_movies_synced(image_plane_xr.transpose('stokes',...), axes, vmax=[0.01,None, None])"
   ]
  },
  {
   "cell_type": "code",
   "execution_count": 16,
   "id": "5cc5dbfd-4cc7-4d36-b5c9-68c8bf413fa2",
   "metadata": {},
   "outputs": [
    {
     "data": {
      "application/vnd.jupyter.widget-view+json": {
       "model_id": "9e3a1e56566940b0bc7ae7ce58340d0f",
       "version_major": 2,
       "version_minor": 0
      },
      "text/plain": [
       "interactive(children=(IntSlider(value=0, description='t', max=97), Output()), _dom_classes=('widget-interact',…"
      ]
     },
     "metadata": {},
     "output_type": "display_data"
    }
   ],
   "source": [
    "%matplotlib widget\n",
    "bhnerf.visualization.ipyvolume_3d(emission, fov_M)"
   ]
  },
  {
   "cell_type": "code",
   "execution_count": 53,
   "id": "7ecf79a6-6c96-4ddf-8d08-8a94ed3bb48f",
   "metadata": {},
   "outputs": [],
   "source": [
    "Q_frac_disk = 0.25\n",
    "H_r=0.05\n",
    "J_disk = np.nan_to_num(bhnerf.kgeo.parallel_transport(geos, umu, g, b, Q_frac=Q_frac_disk, V_frac=0), 0.0)\n"
   ]
  },
  {
   "cell_type": "code",
   "execution_count": 67,
   "id": "5447d427-96b7-470a-8880-1d885c41b9b8",
   "metadata": {},
   "outputs": [],
   "source": [
    "disk_width = 0.15\n",
    "H_r = 0.075\n",
    "image_plane_disk = bhnerf.emission.grf_to_image_plane(grf, geos, Omega, J_disk, alpha, disk_width, H_r)\n",
    "lightcurves_disk = image_plane_disk.sum(axis=(-1,-2))\n",
    "lightcurves_disk *=  I_mean_disk/lightcurves_disk.mean(axis=0)[0]\n",
    "lightcurves_disk_qu = lightcurves_disk[:,J_inds]\n",
    "disk_LP = np.sqrt(np.sum(lightcurves_disk_qu**2, axis=1)).mean()"
   ]
  },
  {
   "cell_type": "code",
   "execution_count": 115,
   "id": "cc1834f0-1c0a-4a28-98d2-cde7748064a5",
   "metadata": {},
   "outputs": [],
   "source": [
    "diameter_M = 15.0\n",
    "H_r = 0.05\n",
    "grf = xr.load_dataarray(grf_path)\n",
    "grf = grf.interp(t=float(grf.t[-1]) * (t_frames - t_frames.min()) / (t_frames.max() - t_frames.min()))\n",
    "gaussian = bhnerf.utils.gaussian_xr([grf.y.size, grf.x.size], [0,0], std=diameter_M/2.355, fov=(fov_M, 'M')).data\n",
    "movie = np.exp(alpha*grf) * gaussian\n",
    "# Expand the 2D grf into 3D\n",
    "emission = bhnerf.utils.expand_3d(movie, fov_z=fov_M, H_r=H_r)\n",
    "emission.coords.update(bhnerf.utils.linspace_xr(emission.shape[1:], -fov_M/2, fov_M/2))\n",
    "image_plane_disk = bhnerf.emission.image_plane_dynamics(emission, geos, Omega, 0.0, 0.0, J_disk, slow_light=False)"
   ]
  },
  {
   "cell_type": "code",
   "execution_count": 113,
   "id": "7c716d2e-0501-4d35-a2be-61c5b09f0adb",
   "metadata": {},
   "outputs": [
    {
     "data": {
      "application/vnd.jupyter.widget-view+json": {
       "model_id": "5ef04df379ca48c69779060ca7cda834",
       "version_major": 2,
       "version_minor": 0
      },
      "text/plain": [
       "Canvas(toolbar=Toolbar(toolitems=[('Home', 'Reset original view', 'home', 'home'), ('Back', 'Back to previous …"
      ]
     },
     "metadata": {},
     "output_type": "display_data"
    },
    {
     "data": {
      "text/plain": [
       "<matplotlib.animation.FuncAnimation at 0x7f5a703d7820>"
      ]
     },
     "execution_count": 113,
     "metadata": {},
     "output_type": "execute_result"
    }
   ],
   "source": [
    "image_plane_xr = xr.DataArray(image_plane_disk, {'t': t_frames, 'stokes': ['I', 'Q', 'U'], 'beta': geos.beta, 'alpha': geos.alpha}, ['t', 'stokes', 'beta', 'alpha'], 'Image Plane')\n",
    "%matplotlib widget\n",
    "fig, axes = plt.subplots(1, 3, figsize=(10, 3))\n",
    "bhnerf.visualization.animate_movies_synced(image_plane_xr.transpose('stokes',...), axes, vmax=[0.025, None, None])"
   ]
  },
  {
   "cell_type": "code",
   "execution_count": 16,
   "id": "0925ff86-abf0-49fa-b71d-9ef3be495fa2",
   "metadata": {},
   "outputs": [
    {
     "data": {
      "application/vnd.jupyter.widget-view+json": {
       "model_id": "9f1bbc34468140a3bf42445959b1a16f",
       "version_major": 2,
       "version_minor": 0
      },
      "text/plain": [
       "iteration:   0%|          | 0/50000 [00:00<?, ?it/s]"
      ]
     },
     "metadata": {},
     "output_type": "display_data"
    }
   ],
   "source": [
    "%matplotlib inline\n",
    "log_period = 500\n",
    "recovery_dir = data_path.parent.joinpath('recovery/{}.seed_{}.disk_LP_{:1.2}.grf_seed_{}.{}'.format(\n",
    "    sim_name, hparams['seed'], disk_LP, grf_seed, ''.join(stokes)))\n",
    "train_step = bhnerf.optimization.TrainStep.image(t_frames, target, sigma, dtype='lc')\n",
    "\n",
    "writer = bhnerf.optimization.SummaryWriter(logdir=recovery_dir)\n",
    "writer.add_images('emission/true', bhnerf.utils.intensity_to_nchw(emission_flare), global_step=0)\n",
    "log_fns = [\n",
    "    LogFn(lambda opt: writer.add_scalar('log_loss/train', np.log10(np.mean(opt.loss)), global_step=opt.step)), \n",
    "    LogFn(lambda opt: writer.recovery_3d(fov_M, emission_true=emission_flare)(opt), log_period=log_period),\n",
    "    LogFn(lambda opt: writer.plot_lc_datafit(opt, target, stokes, t_frames, batchsize=20), log_period=log_period)\n",
    "]\n",
    "\n",
    "# Optimization\n",
    "optimizer = bhnerf.optimization.Optimizer(hparams, predictor, raytracing_args, checkpoint_dir=recovery_dir)\n",
    "optimizer.run(batchsize, train_step, raytracing_args, log_fns=log_fns)\n",
    "writer.close()\n",
    "\n",
    "params = {'simulation': simulation_params, 'recovery': recovery_params}\n",
    "with open('{}/params.yaml'.format(recovery_dir), 'w') as file:\n",
    "    yaml.dump(params, file, default_flow_style=False)"
   ]
  }
 ],
 "metadata": {
  "kernelspec": {
   "display_name": "jax",
   "language": "python",
   "name": "jax"
  },
  "language_info": {
   "codemirror_mode": {
    "name": "ipython",
    "version": 3
   },
   "file_extension": ".py",
   "mimetype": "text/x-python",
   "name": "python",
   "nbconvert_exporter": "python",
   "pygments_lexer": "ipython3",
   "version": "3.9.6"
  }
 },
 "nbformat": 4,
 "nbformat_minor": 5
}
