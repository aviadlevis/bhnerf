{
 "cells": [
  {
   "cell_type": "code",
   "execution_count": 16,
   "id": "b85f8e98-8ea4-4e4c-9304-038107b539e2",
   "metadata": {},
   "outputs": [],
   "source": [
    "import bhnerf\n",
    "from astropy import units\n",
    "import numpy as np\n",
    "import xarray as xr\n",
    "import matplotlib.pyplot as plt\n",
    "from pathlib import Path\n",
    "import ruamel.yaml as yaml\n",
    "\n",
    "data_path = Path('../data/synthetic_lightcurves')"
   ]
  },
  {
   "cell_type": "markdown",
   "id": "96b549db-fec5-45ea-9280-7236035892be",
   "metadata": {
    "tags": []
   },
   "source": [
    "# Generate 3D emissivities\n",
    "---\n",
    "Generate different emissivity structures for recovery:\n",
    " - Single hotspot\n",
    " - Three Hotspots\n",
    " - Hotpot + tube"
   ]
  },
  {
   "cell_type": "markdown",
   "id": "9dc9a11b-b0d4-4bf8-815f-a017e03e78c9",
   "metadata": {
    "jp-MarkdownHeadingCollapsed": true,
    "tags": []
   },
   "source": [
    "### Single Gaussian hotspot"
   ]
  },
  {
   "cell_type": "code",
   "execution_count": 24,
   "id": "3165238e-08c0-4de4-a92e-bff7898cc98f",
   "metadata": {},
   "outputs": [],
   "source": [
    "fov_M = 40.0\n",
    "emission_scale = 3.0   \n",
    "hs_fwhm = 3\n",
    "hs_std = hs_fwhm / 2.355\n",
    "orbit_radius = 11.0\n",
    "rot_angle = np.deg2rad(120) + np.pi/2\n",
    "emission = emission_scale * bhnerf.emission.generate_hotspot_xr(\n",
    "    resolution=(64, 64, 64), \n",
    "    rot_axis=[0.0, 0.0, 1.0], \n",
    "    rot_angle=rot_angle,\n",
    "    orbit_radius=orbit_radius,\n",
    "    std=hs_std,\n",
    "    r_isco=6.0,\n",
    "    fov=(fov_M, 'GM/c^2'))\n",
    "emission.name = 'Single Gaussian'\n",
    "emission.attrs = {\n",
    "    'fov_M': fov_M,\n",
    "    'hs_fwhm': hs_fwhm,\n",
    "    'orbit_radius': orbit_radius,\n",
    "    'rot_angle': rot_angle,\n",
    "    'emission_scale': emission_scale}\n",
    "\n",
    "# Save ground truth emission \n",
    "directory = data_path.joinpath('single_gaussian')\n",
    "directory.mkdir(parents=True, exist_ok=True)\n",
    "emission.to_netcdf(directory.joinpath('emission_3d.nc'))"
   ]
  },
  {
   "cell_type": "code",
   "execution_count": 20,
   "id": "a8f20bda-8eb8-4ef6-815d-007b5ed8caef",
   "metadata": {},
   "outputs": [
    {
     "data": {
      "application/vnd.jupyter.widget-view+json": {
       "model_id": "39833b7e5d464d579259c54361c87883",
       "version_major": 2,
       "version_minor": 0
      },
      "text/plain": [
       "VBox(children=(Figure(camera=PerspectiveCamera(fov=45.0, position=(0.0, -2.1650635094610964, 1.250000000000000…"
      ]
     },
     "metadata": {},
     "output_type": "display_data"
    }
   ],
   "source": [
    "%matplotlib widget\n",
    "bhnerf.visualization.ipyvolume_3d(emission, fov_M)"
   ]
  },
  {
   "cell_type": "markdown",
   "id": "e13a0b01-3d23-4b4b-9dba-208de4be1c06",
   "metadata": {
    "jp-MarkdownHeadingCollapsed": true,
    "tags": []
   },
   "source": [
    "### Three Gaussian hotspots"
   ]
  },
  {
   "cell_type": "code",
   "execution_count": 3,
   "id": "411e1d26-09b0-44be-befa-a7f1d1199f97",
   "metadata": {},
   "outputs": [],
   "source": [
    "fov_M = 40.0\n",
    "emission_scale = 1\n",
    "hs_fwhms = np.array([3.4, 4.2, 4.6])\n",
    "hs_stds = hs_fwhms / 2.355\n",
    "orbit_radii = [6.5, 11.0, 13.0]\n",
    "rot_angles = np.deg2rad(np.array([9.5, 72.3, 221.8]))\n",
    "\n",
    "emission = 0\n",
    "for hs_std, orbit_radius, rot_angle in zip(hs_stds, orbit_radii, rot_angles):\n",
    "    emission += emission_scale * bhnerf.emission.generate_hotspot_xr(\n",
    "        resolution=(64, 64, 64), \n",
    "        rot_axis=[0.0, 0.0, 1.0], \n",
    "        rot_angle=rot_angle,\n",
    "        orbit_radius=orbit_radius,\n",
    "        std=hs_std,\n",
    "        r_isco=6.0,\n",
    "        fov=(fov_M, 'GM/c^2'))\n",
    "emission.name = 'Three Gaussians'\n",
    "emission.attrs = {\n",
    "    'fov_M': fov_M,\n",
    "    'hs_fwhm': hs_fwhms,\n",
    "    'orbit_radius': orbit_radii,\n",
    "    'rot_angle': rot_angles,\n",
    "    'emission_scale': emission_scale}\n",
    "\n",
    "# Save ground truth emission \n",
    "directory = data_path.joinpath('3_gaussians')\n",
    "directory.mkdir(parents=True, exist_ok=True)\n",
    "emission.to_netcdf(directory.joinpath('emission_3d.nc'))"
   ]
  },
  {
   "cell_type": "code",
   "execution_count": 6,
   "id": "21d5c2c4-6783-4a2b-88a9-6ba47f1590a5",
   "metadata": {},
   "outputs": [
    {
     "data": {
      "application/vnd.jupyter.widget-view+json": {
       "model_id": "948a06eb248d4e4c9d1ee440619dfd58",
       "version_major": 2,
       "version_minor": 0
      },
      "text/plain": [
       "VBox(children=(Figure(camera=PerspectiveCamera(fov=45.0, position=(0.0, -2.1650635094610964, 1.250000000000000…"
      ]
     },
     "metadata": {},
     "output_type": "display_data"
    }
   ],
   "source": [
    "%matplotlib widget\n",
    "bhnerf.visualization.ipyvolume_3d(emission, fov_M)"
   ]
  },
  {
   "cell_type": "markdown",
   "id": "22f8a7d6-79bd-4387-9092-ac14f95ef15b",
   "metadata": {
    "jp-MarkdownHeadingCollapsed": true,
    "tags": []
   },
   "source": [
    "### Flux Tube"
   ]
  },
  {
   "cell_type": "code",
   "execution_count": 91,
   "id": "a1fa58f9-9d39-46d2-8d1f-14ee7bc7493a",
   "metadata": {},
   "outputs": [],
   "source": [
    "fov_M = 40.0\n",
    "hs_std = 1.2\n",
    "tube_std = 1.\n",
    "tube_radius = 10.0\n",
    "phi_start = np.deg2rad(190)\n",
    "phi_end = np.deg2rad(270)\n",
    "emission = 4\n",
    "\n",
    "emission = emission * bhnerf.emission.generate_tube_xr(\n",
    "    resolution=(64, 64, 64), \n",
    "    rot_axis=[0.0, 0.0, 1.0], \n",
    "    phi_start=phi_start,\n",
    "    phi_end=phi_end,\n",
    "    orbit_radius=tube_radius,\n",
    "    std=tube_std,\n",
    "    r_isco=6.0,\n",
    "    fov=(fov_M, 'GM/c^2'))\n",
    "emission.name = 'Flux Tube'\n",
    "emission.attrs = {\n",
    "    'fov_M': fov_M,\n",
    "    'hs_std': hs_std,\n",
    "    'tube_std':tube_std,\n",
    "    'tube_radius':tube_radius,\n",
    "    'tube_scale': tube_scale}\n",
    "\n",
    "\n",
    "# Save ground truth emission \n",
    "directory = data_path.joinpath('flux_tube')\n",
    "directory.mkdir(parents=True, exist_ok=True)\n",
    "emission.to_netcdf(directory.joinpath('emission_3d.nc'))"
   ]
  },
  {
   "cell_type": "code",
   "execution_count": 80,
   "id": "1844cc62-0e84-4d4b-bfe5-2ed541d5ad23",
   "metadata": {},
   "outputs": [
    {
     "data": {
      "application/vnd.jupyter.widget-view+json": {
       "model_id": "60595be0b9444bdb8bca472fcda0a943",
       "version_major": 2,
       "version_minor": 0
      },
      "text/plain": [
       "VBox(children=(Figure(camera=PerspectiveCamera(fov=45.0, position=(0.0, -2.1650635094610964, 1.250000000000000…"
      ]
     },
     "metadata": {},
     "output_type": "display_data"
    }
   ],
   "source": [
    "%matplotlib widget\n",
    "bhnerf.visualization.ipyvolume_3d(emission, fov_M)"
   ]
  },
  {
   "cell_type": "markdown",
   "id": "37080b65-356d-4038-9765-3a7c1a8ecf39",
   "metadata": {
    "jp-MarkdownHeadingCollapsed": true,
    "tags": []
   },
   "source": [
    "# Generate lightcurves \n",
    "---\n",
    "Polarized image-plane/lightcurves corresponding to ALMA scan times on April 11, 2017."
   ]
  },
  {
   "cell_type": "code",
   "execution_count": 92,
   "id": "9943a54d-2bbf-4069-b71c-65155f93a0f3",
   "metadata": {},
   "outputs": [],
   "source": [
    "simulation_params = {\n",
    "    'name': 'sim1',\n",
    "    'desc': 'Image fluxes without background accretion',\n",
    "    'flare_path': '../data/synthetic_lightcurves/flux_tube/emission_3d.nc',\n",
    "    'model': {\n",
    "        # Domain dimensions and black-hole params\n",
    "        'spin': 0.0,\n",
    "        'inclination': 12.0,\n",
    "        'fov_M': 40.0, \n",
    "        # Magnetic field / polarization parameters\n",
    "        'Q_frac': 0.85,      # Fraction of linear polarization\n",
    "        'b_consts': {\n",
    "            'arad': 0,       # Radial component (in lab-frame) \n",
    "            'avert': 1,      # Vertical component (in lab-frame)\n",
    "            'ator': 0,       # Toroidal component (in lab-frame)\n",
    "        },\n",
    "        # Keplerian velocity field\n",
    "        'Omega_dir': 'cw',\n",
    "        # Image plane \n",
    "        'num_alpha': 64,\n",
    "        'num_beta': 64,\n",
    "        't_start_obs': 9.25 \n",
    "    }}\n",
    "locals().update(simulation_params['model'])"
   ]
  },
  {
   "cell_type": "code",
   "execution_count": 93,
   "id": "bf5c0ccd-859c-44bb-83e1-8a1c56ec8b16",
   "metadata": {},
   "outputs": [
    {
     "name": "stderr",
     "output_type": "stream",
     "text": [
      "/scratch/imaging/projects/bh_nerf/envs/jax/lib/python3.9/site-packages/xarray/core/computation.py:700: RuntimeWarning: invalid value encountered in sqrt\n",
      "  result_data = func(*input_data)\n",
      "/scratch/imaging/projects/bh_nerf/bhNeRF/bhnerf/kgeo.py:482: RuntimeWarning: invalid value encountered in sqrt\n",
      "  cot_th_b = np.sqrt(1 - sin_th_b**2) / sin_th_b\n",
      "/scratch/imaging/projects/bh_nerf/envs/jax/lib/python3.9/site-packages/xarray/core/computation.py:700: RuntimeWarning: invalid value encountered in sqrt\n",
      "  result_data = func(*input_data)\n"
     ]
    }
   ],
   "source": [
    "\"\"\" Flare emissivity \"\"\"\n",
    "sim_name = simulation_params['name']\n",
    "flare_path = Path(simulation_params['flare_path'])\n",
    "emission_flare = xr.load_dataarray(flare_path)\n",
    "\n",
    "# Compute geodesics\n",
    "geos = bhnerf.kgeo.image_plane_geos(\n",
    "    spin, np.deg2rad(inclination), \n",
    "    num_alpha=num_alpha, num_beta=num_beta, \n",
    "    alpha_range=[-fov_M/2, fov_M/2],\n",
    "    beta_range=[-fov_M/2, fov_M/2])\n",
    "t_injection = -float(geos.r_o + fov_M/4)\n",
    "\n",
    "\n",
    "# Keplerian velocity field\n",
    "rot_sign = {'cw': -1, 'ccw': 1}\n",
    "Omega = rot_sign[Omega_dir] * np.sqrt(geos.M) / (geos.r**(3/2) + geos.spin * np.sqrt(geos.M))\n",
    "umu = bhnerf.kgeo.azimuthal_velocity_vector(geos, Omega)\n",
    "g = bhnerf.kgeo.doppler_factor(geos, umu)\n",
    "\n",
    "# Magnitude normalized magnetic field in fluid-frame\n",
    "b = bhnerf.kgeo.magnetic_field_fluid_frame(geos, umu, **b_consts)\n",
    "z_width = 4                                      # maximum disk width [M]\n",
    "rmax = fov_M / 2                                 # maximum recovery radius\n",
    "rmin = float(bhnerf.constants.isco_pro(spin))    # minimum recovery radius\n",
    "domain = np.bitwise_and(np.bitwise_and(np.abs(geos.z) < z_width, geos.r > rmin), geos.r < rmax)\n",
    "b_mean = np.sqrt(np.sum(b[domain]**2, axis=-1)).mean()\n",
    "b /= b_mean\n",
    "\n",
    "# Polarized emission factors (including parallel transport)\n",
    "J = np.nan_to_num(bhnerf.kgeo.parallel_transport(geos, umu, g, b, Q_frac=Q_frac, V_frac=0), 0.0)\n",
    "\n",
    "# ALMA scans on Apr11, 2017.\n",
    "t_frames = np.array([ 9.34056333,  9.35067   ,  9.36077667,  9.37088333,  9.38099   ,\n",
    "                      9.39109667,  9.40120333,  9.41131   ,  9.42169667,  9.43405   ,\n",
    "                      9.44415667,  9.45426333,  9.46437   ,  9.47447667,  9.48458333,\n",
    "                      9.49546167,  9.56607333,  9.57618   ,  9.58628667,  9.59639333,\n",
    "                      9.6065    ,  9.61660667,  9.62671333,  9.63682   ,  9.64889333,\n",
    "                      9.65956   ,  9.66966667,  9.67977333,  9.68988   ,  9.69998667,\n",
    "                      9.71191667,  9.91607333,  9.92618   ,  9.93881333,  9.94892   ,\n",
    "                      9.95902667,  9.96913333,  9.97924   ,  9.98962667, 10.00071667,\n",
    "                     10.01082333, 10.02093   , 10.03103667, 10.04114333, 10.05139   ,\n",
    "                     10.06262   , 10.13274   , 10.14284667, 10.15295333, 10.16306   ,\n",
    "                     10.17316667, 10.18327333, 10.19338   , 10.20348667, 10.21359333,\n",
    "                     10.2237    , 10.23507   , 10.24644   , 10.28883833, 10.30975667,\n",
    "                     10.31986333, 10.32997   , 10.34007667, 10.35018333, 10.36029   ,\n",
    "                     10.37039667, 10.381415  , 10.39187333, 10.40198   , 10.41405333,\n",
    "                     10.42472   , 10.43482667, 10.44493333, 10.45504   , 10.73603833,\n",
    "                     10.74663667, 10.75674333, 10.76685   , 10.77695667, 10.78706333,\n",
    "                     10.79808167, 10.80854   , 10.81977   , 10.83632167, 10.90067   ,\n",
    "                     10.91077667, 10.92088333, 10.93211333, 10.94236   , 10.95246667,\n",
    "                     10.96257333, 10.97345167, 10.98405   , 10.99415667, 11.00426333,\n",
    "                     11.01437   , 11.02447667, 11.03584667]) * units.hr\n",
    "image_plane_flare = bhnerf.emission.image_plane_dynamics(\n",
    "    emission_flare, geos, Omega, t_frames, t_injection, J, t_start_obs=t_start_obs*units.hr\n",
    ")\n",
    "\n",
    "\"\"\" Background disk emissivity \"\"\"\n",
    "image_plane_disk = 0.0\n",
    "\n",
    "\"\"\" Image-plane fluxes \"\"\"\n",
    "image_plane = image_plane_disk + image_plane_flare\n",
    "lightcurves = image_plane.sum(axis=(-1,-2))\n",
    "\n",
    "# Save image_plane, light curves and simulation parameters\n",
    "image_plane_xr = xr.DataArray(image_plane, {'t': t_frames, 'stokes': ['I', 'Q', 'U'], 'beta': geos.beta, 'alpha': geos.alpha}, ['t', 'stokes', 'beta', 'alpha'], 'Image Plane')\n",
    "lightcurves_xr =  xr.DataArray(lightcurves, {'t': t_frames, 'stokes': ['I', 'Q', 'U']}, ['t', 'stokes'], 'lightcurves')\n",
    "image_plane_xr.to_netcdf(flare_path.parent.joinpath(sim_name+'_image_plane.nc'))\n",
    "lightcurves_xr.to_pandas().to_csv(flare_path.parent.joinpath(sim_name+'_lightcurve.csv'))\n",
    "with open(flare_path.parent.joinpath('{}_params.yml'.format(sim_name)), 'w') as file:\n",
    "    yaml.dump(simulation_params, file, default_flow_style=False)"
   ]
  },
  {
   "cell_type": "code",
   "execution_count": 94,
   "id": "4448ca51-54ae-4a48-8c80-ec76a345a3ee",
   "metadata": {},
   "outputs": [
    {
     "data": {
      "application/vnd.jupyter.widget-view+json": {
       "model_id": "47adbaf4a3ca45f1891b13510681b45f",
       "version_major": 2,
       "version_minor": 0
      },
      "text/plain": [
       "Canvas(toolbar=Toolbar(toolitems=[('Home', 'Reset original view', 'home', 'home'), ('Back', 'Back to previous …"
      ]
     },
     "metadata": {},
     "output_type": "display_data"
    },
    {
     "data": {
      "text/plain": [
       "<matplotlib.animation.FuncAnimation at 0x7fe99da6a8e0>"
      ]
     },
     "execution_count": 94,
     "metadata": {},
     "output_type": "execute_result"
    }
   ],
   "source": [
    "%matplotlib widget\n",
    "fig, axes = plt.subplots(1, 3, figsize=(10, 3))\n",
    "bhnerf.visualization.animate_movies_synced(\n",
    "    image_plane_xr.transpose('stokes',...), axes, output=flare_path.parent.joinpath(sim_name + '_image_plane.gif'))"
   ]
  },
  {
   "cell_type": "code",
   "execution_count": 95,
   "id": "a954cd38-ad5f-48d7-bc56-e1175efef857",
   "metadata": {},
   "outputs": [
    {
     "data": {
      "application/vnd.jupyter.widget-view+json": {
       "model_id": "9b1122e6348e472bb153f72ff8597fbb",
       "version_major": 2,
       "version_minor": 0
      },
      "text/plain": [
       "Canvas(toolbar=Toolbar(toolitems=[('Home', 'Reset original view', 'home', 'home'), ('Back', 'Back to previous …"
      ]
     },
     "metadata": {},
     "output_type": "display_data"
    }
   ],
   "source": [
    "%matplotlib widget\n",
    "axes = bhnerf.visualization.plot_stokes_lc(lightcurves, ['I', 'Q', 'U'], t_frames, add_mean=True)\n",
    "plt.savefig(flare_path.parent.joinpath(sim_name + '_lightcurve.pdf'))"
   ]
  },
  {
   "cell_type": "code",
   "execution_count": null,
   "id": "77e83a7f-a605-4cf1-bfea-2fb160c85091",
   "metadata": {},
   "outputs": [],
   "source": []
  }
 ],
 "metadata": {
  "kernelspec": {
   "display_name": "jax",
   "language": "python",
   "name": "jax"
  },
  "language_info": {
   "codemirror_mode": {
    "name": "ipython",
    "version": 3
   },
   "file_extension": ".py",
   "mimetype": "text/x-python",
   "name": "python",
   "nbconvert_exporter": "python",
   "pygments_lexer": "ipython3",
   "version": "3.9.6"
  }
 },
 "nbformat": 4,
 "nbformat_minor": 5
}
