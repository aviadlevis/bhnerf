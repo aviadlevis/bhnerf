{
 "cells": [
  {
   "cell_type": "code",
   "execution_count": 1,
   "id": "b85f8e98-8ea4-4e4c-9304-038107b539e2",
   "metadata": {},
   "outputs": [
    {
     "name": "stderr",
     "output_type": "stream",
     "text": [
      "Matplotlib created a temporary config/cache directory at /tmp/matplotlib-95va40t2 because the default path (/home/jovyan/.cache/matplotlib) is not a writable directory; it is highly recommended to set the MPLCONFIGDIR environment variable to a writable directory, in particular to speed up the import of Matplotlib and to better support multiprocessing.\n"
     ]
    },
    {
     "name": "stdout",
     "output_type": "stream",
     "text": [
      "Welcome to eht-imaging! v 1.2.2 \n",
      "\n"
     ]
    },
    {
     "name": "stderr",
     "output_type": "stream",
     "text": [
      "2023-04-06 17:04:03.840763: W tensorflow/stream_executor/platform/default/dso_loader.cc:64] Could not load dynamic library 'libcudart.so.11.0'; dlerror: libcudart.so.11.0: cannot open shared object file: No such file or directory; LD_LIBRARY_PATH: /.singularity.d/libs\n"
     ]
    }
   ],
   "source": [
    "import bhnerf\n",
    "from astropy import units\n",
    "import numpy as np\n",
    "import xarray as xr\n",
    "import matplotlib.pyplot as plt\n",
    "from pathlib import Path\n",
    "import ruamel.yaml as yaml\n",
    "from tqdm.auto import tqdm\n",
    "from bhnerf import constants as consts\n",
    "\n",
    "data_path = Path('../data/synthetic_lightcurves')\n",
    "\n",
    "import warnings\n",
    "warnings.simplefilter(\"ignore\")\n",
    "\n",
    "# ALMA-like scans on Apr11, 2017 (time-averaged over a window)\n",
    "t_frames = np.array([ 9.34056333,  9.35067   ,  9.36077667,  9.37088333,  9.38099   ,\n",
    "                      9.39109667,  9.40120333,  9.41131   ,  9.42169667,  9.43405   ,\n",
    "                      9.44415667,  9.45426333,  9.46437   ,  9.47447667,  9.48458333,\n",
    "                      9.49546167,  9.56607333,  9.57618   ,  9.58628667,  9.59639333,\n",
    "                      9.6065    ,  9.61660667,  9.62671333,  9.63682   ,  9.64889333,\n",
    "                      9.65956   ,  9.66966667,  9.67977333,  9.68988   ,  9.69998667,\n",
    "                      9.71191667,  9.91607333,  9.92618   ,  9.93881333,  9.94892   ,\n",
    "                      9.95902667,  9.96913333,  9.97924   ,  9.98962667, 10.00071667,\n",
    "                     10.01082333, 10.02093   , 10.03103667, 10.04114333, 10.05139   ,\n",
    "                     10.06262   , 10.13274   , 10.14284667, 10.15295333, 10.16306   ,\n",
    "                     10.17316667, 10.18327333, 10.19338   , 10.20348667, 10.21359333,\n",
    "                     10.2237    , 10.23507   , 10.24644   , 10.28883833, 10.30975667,\n",
    "                     10.31986333, 10.32997   , 10.34007667, 10.35018333, 10.36029   ,\n",
    "                     10.37039667, 10.381415  , 10.39187333, 10.40198   , 10.41405333,\n",
    "                     10.42472   , 10.43482667, 10.44493333, 10.45504   , 10.73603833,\n",
    "                     10.74663667, 10.75674333, 10.76685   , 10.77695667, 10.78706333,\n",
    "                     10.79808167, 10.80854   , 10.81977   , 10.83632167, 10.90067   ,\n",
    "                     10.91077667, 10.92088333, 10.93211333, 10.94236   , 10.95246667,\n",
    "                     10.96257333, 10.97345167, 10.98405   , 10.99415667, 11.00426333,\n",
    "                     11.01437   , 11.02447667, 11.03584667,\n",
    "                     11.10596667, 11.116565  , 11.12744333, 11.13755   , 11.14765667,\n",
    "                     11.15776333, 11.16801   , 11.17924   , 11.19201333, 11.20324333,\n",
    "                     11.21335   , 11.22345667, 11.23356333, 11.24367   , 11.25377667,\n",
    "                     11.28678833, 11.45723   , 11.46733667, 11.47744333, 11.48881333,\n",
    "                     11.50018333, 11.51092167, 11.52166   , 11.53176667, 11.54187333,\n",
    "                     11.55198   , 11.56208667, 11.57219333, 11.5823    , 11.59240667]) * units.hr"
   ]
  },
  {
   "cell_type": "markdown",
   "id": "96b549db-fec5-45ea-9280-7236035892be",
   "metadata": {
    "tags": []
   },
   "source": [
    "# Generate 3D emissivities\n",
    "---\n",
    "Generate different emissivity structures for recovery:\n",
    " - Single hotspot\n",
    " - Three Hotspots\n",
    " - Hotpot + tube\n",
    " - Accretion disk"
   ]
  },
  {
   "cell_type": "markdown",
   "id": "9dc9a11b-b0d4-4bf8-815f-a017e03e78c9",
   "metadata": {
    "jp-MarkdownHeadingCollapsed": true,
    "tags": []
   },
   "source": [
    "### Single Gaussian hotspot"
   ]
  },
  {
   "cell_type": "code",
   "execution_count": 15,
   "id": "3165238e-08c0-4de4-a92e-bff7898cc98f",
   "metadata": {},
   "outputs": [],
   "source": [
    "fov_M = 40.0\n",
    "hs_fwhm = 3\n",
    "hs_std = hs_fwhm / 2.355\n",
    "orbit_radius = 11.0\n",
    "rot_angle = np.deg2rad(120) + np.pi/2\n",
    "emission = bhnerf.emission.generate_hotspot_xr(\n",
    "    resolution=(64, 64, 64), \n",
    "    rot_axis=[0.0, 0.0, 1.0], \n",
    "    rot_angle=rot_angle,\n",
    "    orbit_radius=orbit_radius,\n",
    "    std=hs_std,\n",
    "    r_isco=6.0,\n",
    "    fov=(fov_M, 'GM/c^2'))\n",
    "emission.name = 'Single Gaussian'\n",
    "emission.attrs = {\n",
    "    'fov_M': fov_M,\n",
    "    'hs_fwhm': hs_fwhm,\n",
    "    'orbit_radius': orbit_radius,\n",
    "    'rot_angle': rot_angle\n",
    "}\n",
    "\n",
    "# Save ground truth emission \n",
    "directory = data_path.joinpath('single_gaussian')\n",
    "directory.mkdir(parents=True, exist_ok=True)\n",
    "emission.to_netcdf(directory.joinpath('emission_3d.nc'))"
   ]
  },
  {
   "cell_type": "code",
   "execution_count": 20,
   "id": "a8f20bda-8eb8-4ef6-815d-007b5ed8caef",
   "metadata": {},
   "outputs": [
    {
     "data": {
      "application/vnd.jupyter.widget-view+json": {
       "model_id": "39833b7e5d464d579259c54361c87883",
       "version_major": 2,
       "version_minor": 0
      },
      "text/plain": [
       "VBox(children=(Figure(camera=PerspectiveCamera(fov=45.0, position=(0.0, -2.1650635094610964, 1.250000000000000…"
      ]
     },
     "metadata": {},
     "output_type": "display_data"
    }
   ],
   "source": [
    "%matplotlib widget\n",
    "bhnerf.visualization.ipyvolume_3d(emission, fov_M)"
   ]
  },
  {
   "cell_type": "markdown",
   "id": "e13a0b01-3d23-4b4b-9dba-208de4be1c06",
   "metadata": {
    "jp-MarkdownHeadingCollapsed": true,
    "tags": []
   },
   "source": [
    "### Three Gaussian hotspots"
   ]
  },
  {
   "cell_type": "code",
   "execution_count": 10,
   "id": "411e1d26-09b0-44be-befa-a7f1d1199f97",
   "metadata": {},
   "outputs": [],
   "source": [
    "fov_M = 40.0\n",
    "hs_fwhms = np.array([3.4, 4.2, 4.6])\n",
    "hs_stds = hs_fwhms / 2.355\n",
    "orbit_radii = [6.5, 11.0, 13.0]\n",
    "rot_angles = np.deg2rad(np.array([9.5, 72.3, 221.8]))\n",
    "\n",
    "emission = 0\n",
    "for hs_std, orbit_radius, rot_angle in zip(hs_stds, orbit_radii, rot_angles):\n",
    "    emission +=  bhnerf.emission.generate_hotspot_xr(\n",
    "        resolution=(64, 64, 64), \n",
    "        rot_axis=[0.0, 0.0, 1.0], \n",
    "        rot_angle=rot_angle,\n",
    "        orbit_radius=orbit_radius,\n",
    "        std=hs_std,\n",
    "        r_isco=6.0,\n",
    "        fov=(fov_M, 'GM/c^2'))\n",
    "emission.name = 'Three Gaussians'\n",
    "emission.attrs = {\n",
    "    'fov_M': fov_M,\n",
    "    'hs_fwhm': hs_fwhms,\n",
    "    'orbit_radius': orbit_radii,\n",
    "    'rot_angle': rot_angles\n",
    "}\n",
    "\n",
    "# Save ground truth emission \n",
    "directory = data_path.joinpath('3_gaussians')\n",
    "directory.mkdir(parents=True, exist_ok=True)\n",
    "emission.to_netcdf(directory.joinpath('emission_3d.nc'))"
   ]
  },
  {
   "cell_type": "code",
   "execution_count": 6,
   "id": "21d5c2c4-6783-4a2b-88a9-6ba47f1590a5",
   "metadata": {},
   "outputs": [
    {
     "data": {
      "application/vnd.jupyter.widget-view+json": {
       "model_id": "948a06eb248d4e4c9d1ee440619dfd58",
       "version_major": 2,
       "version_minor": 0
      },
      "text/plain": [
       "VBox(children=(Figure(camera=PerspectiveCamera(fov=45.0, position=(0.0, -2.1650635094610964, 1.250000000000000…"
      ]
     },
     "metadata": {},
     "output_type": "display_data"
    }
   ],
   "source": [
    "%matplotlib widget\n",
    "bhnerf.visualization.ipyvolume_3d(emission, fov_M)"
   ]
  },
  {
   "cell_type": "markdown",
   "id": "22f8a7d6-79bd-4387-9092-ac14f95ef15b",
   "metadata": {
    "jp-MarkdownHeadingCollapsed": true,
    "tags": []
   },
   "source": [
    "### Flux Tube"
   ]
  },
  {
   "cell_type": "code",
   "execution_count": 11,
   "id": "a1fa58f9-9d39-46d2-8d1f-14ee7bc7493a",
   "metadata": {},
   "outputs": [],
   "source": [
    "fov_M = 40.0\n",
    "hs_std = 1.2\n",
    "tube_std = 1.\n",
    "tube_radius = 10.0\n",
    "phi_start = np.deg2rad(190)\n",
    "phi_end = np.deg2rad(270)\n",
    "\n",
    "emission = bhnerf.emission.generate_tube_xr(\n",
    "    resolution=(64, 64, 64), \n",
    "    rot_axis=[0.0, 0.0, 1.0], \n",
    "    phi_start=phi_start,\n",
    "    phi_end=phi_end,\n",
    "    orbit_radius=tube_radius,\n",
    "    std=tube_std,\n",
    "    r_isco=6.0,\n",
    "    fov=(fov_M, 'GM/c^2'))\n",
    "emission.name = 'Flux Tube'\n",
    "emission.attrs = {\n",
    "    'fov_M': fov_M,\n",
    "    'hs_std': hs_std,\n",
    "    'tube_std':tube_std,\n",
    "    'tube_radius':tube_radius\n",
    "}\n",
    "\n",
    "# Save ground truth emission \n",
    "directory = data_path.joinpath('flux_tube')\n",
    "directory.mkdir(parents=True, exist_ok=True)\n",
    "emission.to_netcdf(directory.joinpath('emission_3d.nc'))"
   ]
  },
  {
   "cell_type": "code",
   "execution_count": 80,
   "id": "1844cc62-0e84-4d4b-bfe5-2ed541d5ad23",
   "metadata": {},
   "outputs": [
    {
     "data": {
      "application/vnd.jupyter.widget-view+json": {
       "model_id": "60595be0b9444bdb8bca472fcda0a943",
       "version_major": 2,
       "version_minor": 0
      },
      "text/plain": [
       "VBox(children=(Figure(camera=PerspectiveCamera(fov=45.0, position=(0.0, -2.1650635094610964, 1.250000000000000…"
      ]
     },
     "metadata": {},
     "output_type": "display_data"
    }
   ],
   "source": [
    "%matplotlib widget\n",
    "bhnerf.visualization.ipyvolume_3d(emission, fov_M)"
   ]
  },
  {
   "cell_type": "markdown",
   "id": "e7f6faab-77d7-4034-93b3-5414a5627518",
   "metadata": {
    "jp-MarkdownHeadingCollapsed": true,
    "tags": []
   },
   "source": [
    "### Accretion Disk (Gaussian Random Field)"
   ]
  },
  {
   "cell_type": "code",
   "execution_count": 16,
   "id": "18a49373-2852-4fa5-9bec-db6c920c6cd4",
   "metadata": {},
   "outputs": [],
   "source": [
    "grf_path = Path('../data/synthetic_lightcurves/accretion_grfs/grf.evo_140min_411M.seed_0.nc')\n",
    "fov_M = 40.0\n",
    "alpha = 0.5\n",
    "diameter_M = 20   \n",
    "H_r = 0            \n",
    "std_z = 1\n",
    "\n",
    "GM_c3 = consts.GM_c3(consts.sgra_mass).to('hr')\n",
    "grf = xr.load_dataarray(grf_path).interp(t=(t_frames-t_frames[0]) / GM_c3.value)\n",
    "\n",
    "gaussian = bhnerf.utils.gaussian_xr([grf.y.size, grf.x.size], [0,0], std=diameter_M/2.355, fov=(fov_M, 'M')).data\n",
    "emission =  bhnerf.utils.expand_3d(np.exp(alpha*grf) * gaussian, fov_z=fov_M, H_r=H_r, std=std_z)\n",
    "emission.coords.update(bhnerf.utils.linspace_xr(emission.shape[1:], -fov_M/2, fov_M/2))\n",
    "emission.name = 'Accretion Disk'\n",
    "emission.attrs = grf.attrs\n",
    "emission.attrs.update({\n",
    "    'grf_path': str(grf_path),\n",
    "    'alpha': alpha,\n",
    "    'diameter_M':diameter_M,\n",
    "    'H_r': H_r, \n",
    "    'std_z': std_z\n",
    "})\n",
    "\n",
    "# Save ground truth emission \n",
    "emission.to_netcdf(grf_path.parent.joinpath('emission_3d_seed_{}.nc'.format(grf.seed)))"
   ]
  },
  {
   "cell_type": "code",
   "execution_count": 11,
   "id": "8440f9d7-807b-401b-8aa3-0a228542b176",
   "metadata": {},
   "outputs": [
    {
     "data": {
      "application/vnd.jupyter.widget-view+json": {
       "model_id": "d3eec3c388854abcbc47e2b232c7c523",
       "version_major": 2,
       "version_minor": 0
      },
      "text/plain": [
       "interactive(children=(IntSlider(value=0, description='t', max=127), Output()), _dom_classes=('widget-interact'…"
      ]
     },
     "metadata": {},
     "output_type": "display_data"
    }
   ],
   "source": [
    "%matplotlib widget\n",
    "bhnerf.visualization.ipyvolume_3d(emission, fov_M)"
   ]
  },
  {
   "cell_type": "markdown",
   "id": "7703a914-5eac-4013-b7bf-aecc36517c7e",
   "metadata": {
    "tags": []
   },
   "source": [
    "# Generate lightcurves"
   ]
  },
  {
   "cell_type": "code",
   "execution_count": 61,
   "id": "164cb825-9aea-43e2-9d4b-4b8845efd55f",
   "metadata": {},
   "outputs": [],
   "source": [
    "def lc_average_fluxes(lightcurves, t_window_hr=100.0/60.0):\n",
    "    radio_loops = lightcurves.where(lightcurves.t < lightcurves.t[0] + t_window_hr, drop=True)\n",
    "    I = float(radio_loops.sel(stokes='I').mean('t'))\n",
    "    P = float(np.sqrt(radio_loops.sel(stokes='Q')**2 + radio_loops.sel(stokes='U')**2).mean('t'))\n",
    "    return I, P\n",
    "\n",
    "def lc_polarized_std(lightcurves, t_window_hr=100.0/60.0):     \n",
    "    radio_loops = lightcurves.where(lightcurves.t < lightcurves.t[0] + t_window_hr, drop=True)\n",
    "    P_std = float((radio_loops.sel(stokes='Q') + 1j*radio_loops.sel(stokes='U')).std('t'))\n",
    "    return P_std\n",
    "\n",
    "def lc_lp_angle(lightcurves, t_window_hr=100.0/60.0):\n",
    "    radio_loops = lightcurves.where(lightcurves.t < lightcurves.t[0] + t_window_hr, drop=True)\n",
    "    chi = np.rad2deg(np.angle(radio_loops.sel(stokes='Q').mean('t') + 1j*radio_loops.sel(stokes='U').mean('t')) / 2.0)\n",
    "    return chi"
   ]
  },
  {
   "cell_type": "code",
   "execution_count": 5,
   "id": "9943a54d-2bbf-4069-b71c-65155f93a0f3",
   "metadata": {},
   "outputs": [],
   "source": [
    "simulation_params = {\n",
    "    'name': 'sim1',\n",
    "    'desc': 'Image fluxes without background accretion',\n",
    "    'model': {\n",
    "        # Domain dimensions and black-hole params\n",
    "        'spin': 0.0,\n",
    "        'inclination': 12.0,\n",
    "        'fov_M': 40.0, \n",
    "        'num_subrays': 10,\n",
    "        \n",
    "        # Magnetic field / polarization parameters\n",
    "        'I_flux': 0.3,\n",
    "        'Q_frac': 0.85,      # Fraction of linear polarization\n",
    "        'b_consts': {\n",
    "            'arad': 0,       # Radial component (in lab-frame) \n",
    "            'avert': 1,      # Vertical component (in lab-frame)\n",
    "            'ator': 0,       # Toroidal component (in lab-frame)\n",
    "        },\n",
    "        # Keplerian velocity field\n",
    "        'Omega_dir': 'cw',\n",
    "        \n",
    "        # Image plane \n",
    "        'num_alpha': 64,\n",
    "        'num_beta': 64,\n",
    "        't_start_obs': 9.3 \n",
    "    }}"
   ]
  },
  {
   "cell_type": "code",
   "execution_count": 31,
   "id": "80b93537-2c82-4bb3-8899-280b4d7084dd",
   "metadata": {},
   "outputs": [],
   "source": [
    "simulation_params = {\n",
    "    'name': 'sim2',\n",
    "    'desc': 'Image fluxes without background accretion',\n",
    "    'flare_path': '../data/synthetic_lightcurves/3_gaussians/emission_3d_scale_0.1.nc',\n",
    "    'model': {\n",
    "        # Domain dimensions and black-hole params\n",
    "        'spin': 0.0,\n",
    "        'inclination': 64.0,\n",
    "        'fov_M': 40.0, \n",
    "        \n",
    "        # Magnetic field / polarization parameters\n",
    "        'Q_frac': 0.5,      # Fraction of linear polarization\n",
    "        'b_consts': {\n",
    "            'arad': 0,       # Radial component (in lab-frame) \n",
    "            'avert': 1,      # Vertical component (in lab-frame)\n",
    "            'ator': 0,       # Toroidal component (in lab-frame)\n",
    "        },\n",
    "        # Keplerian velocity field\n",
    "        'Omega_dir': 'cw',\n",
    "        \n",
    "        # Image plane \n",
    "        'num_alpha': 64,\n",
    "        'num_beta': 64,\n",
    "        't_start_obs': 9.25 \n",
    "    }}"
   ]
  },
  {
   "cell_type": "markdown",
   "id": "37080b65-356d-4038-9765-3a7c1a8ecf39",
   "metadata": {
    "jp-MarkdownHeadingCollapsed": true,
    "tags": []
   },
   "source": [
    "## Flare lightcurves \n",
    "---\n",
    "Polarized image-plane/lightcurves corresponding to ALMA scan times on April 11, 2017. "
   ]
  },
  {
   "cell_type": "code",
   "execution_count": 38,
   "id": "77c759e3-28c1-415e-9015-d2fbcb5f4a81",
   "metadata": {},
   "outputs": [
    {
     "data": {
      "application/vnd.jupyter.widget-view+json": {
       "model_id": "af9db6a876c24f93b11b86e3a496fcf7",
       "version_major": 2,
       "version_minor": 0
      },
      "text/plain": [
       "  0%|          | 0/10 [00:00<?, ?it/s]"
      ]
     },
     "metadata": {},
     "output_type": "display_data"
    }
   ],
   "source": [
    "flare_path = Path('../data/synthetic_lightcurves/3_gaussians/emission_3d.nc')\n",
    "\n",
    "locals().update(simulation_params['model'])\n",
    "emission = xr.load_dataarray(flare_path)\n",
    "\n",
    "# Random sample pixel ray positions and integrate to avoid numerical artifacts\n",
    "image_plane = 0\n",
    "for i in tqdm(range(num_subrays)):\n",
    "    # Compute geodesics\n",
    "    geos = bhnerf.kgeo.image_plane_geos(\n",
    "        spin, np.deg2rad(inclination), \n",
    "        num_alpha=num_alpha, num_beta=num_beta, \n",
    "        alpha_range=[-fov_M/2, fov_M/2],\n",
    "        beta_range=[-fov_M/2, fov_M/2],\n",
    "        randomize_subpixel_rays=True\n",
    "    )\n",
    "    t_injection = -float(geos.r_o + fov_M/4)\n",
    "\n",
    "    # Keplerian velocity field\n",
    "    rot_sign = {'cw': -1, 'ccw': 1}\n",
    "    Omega = rot_sign[Omega_dir] * np.sqrt(geos.M) / (geos.r**(3/2) + geos.spin * np.sqrt(geos.M))\n",
    "    umu = bhnerf.kgeo.azimuthal_velocity_vector(geos, Omega)\n",
    "    g = bhnerf.kgeo.doppler_factor(geos, umu)\n",
    "\n",
    "    # Magnitude normalized magnetic field in fluid-frame\n",
    "    b = bhnerf.kgeo.magnetic_field_fluid_frame(geos, umu, **b_consts)\n",
    "    z_width = 4                                      # maximum disk width [M]\n",
    "    rmax = fov_M / 2                                 # maximum recovery radius\n",
    "    rmin = float(bhnerf.constants.isco_pro(spin))    # minimum recovery radius\n",
    "    domain = np.bitwise_and(np.bitwise_and(np.abs(geos.z) < z_width, geos.r > rmin), geos.r < rmax)\n",
    "    b_mean = np.sqrt(np.sum(b[domain]**2, axis=-1)).mean()\n",
    "    b /= b_mean\n",
    "\n",
    "    # Polarized emission factors (including parallel transport)\n",
    "    J = np.nan_to_num(bhnerf.kgeo.parallel_transport(geos, umu, g, b, Q_frac=Q_frac, V_frac=0), 0.0)\n",
    "\n",
    "    image_plane += (1/num_subrays) * bhnerf.emission.image_plane_dynamics(\n",
    "        emission, geos, Omega, t_frames, t_injection, J, t_start_obs=t_start_obs*units.hr\n",
    "    )\n",
    "\n",
    "image_plane = xr.DataArray(\n",
    "    image_plane, \n",
    "    name='Image Plane',\n",
    "    dims=['t', 'stokes', 'beta', 'alpha'], \n",
    "    coords={'t': t_frames, 'stokes': ['I', 'Q', 'U'], 'beta': geos.beta, 'alpha': geos.alpha})\n",
    "lightcurves = image_plane.sum(['alpha','beta'])\n",
    "\n",
    "# Normalize image/plane and lightcurves\n",
    "I, P = lc_average_fluxes(lightcurves) \n",
    "emission_scale = I_flux / I\n",
    "image_plane *= emission_scale\n",
    "lightcurves *= emission_scale\n",
    "I, P = lc_average_fluxes(lightcurves) \n",
    "\n",
    "# Save image_plane and lightcurves\n",
    "sim_name = simulation_params['name']\n",
    "image_path = flare_path.parent.joinpath(sim_name+'_image_plane.nc')\n",
    "lightcurve_path = flare_path.parent.joinpath(sim_name+'_lightcurve.csv')\n",
    "image_plane.to_netcdf(image_path)\n",
    "lightcurves.to_pandas().to_csv(lightcurve_path)\n",
    "\n",
    "# Update and save simulation parameters\n",
    "simulation_params['model'].update(emission_scale=emission_scale, P_flux=P)\n",
    "simulation_params.update(\n",
    "    flare_path=str(flare_path),\n",
    "    image_path=str(image_path), \n",
    "    lightcurve_path=str(lightcurve_path)\n",
    ")\n",
    "with open(flare_path.parent.joinpath('{}_params.yaml'.format(sim_name)), 'w') as file:\n",
    "    yaml.dump(simulation_params, file, default_flow_style=False)"
   ]
  },
  {
   "cell_type": "code",
   "execution_count": 39,
   "id": "d82dc006-40a3-46d4-8b27-89fd8a7302ca",
   "metadata": {},
   "outputs": [
    {
     "name": "stdout",
     "output_type": "stream",
     "text": [
      "I mean: 0.3  P mean:0.14185841229980198\n"
     ]
    },
    {
     "data": {
      "application/vnd.jupyter.widget-view+json": {
       "model_id": "1b3895069479444fbd9fc2f6be875773",
       "version_major": 2,
       "version_minor": 0
      },
      "text/plain": [
       "Canvas(toolbar=Toolbar(toolitems=[('Home', 'Reset original view', 'home', 'home'), ('Back', 'Back to previous …"
      ]
     },
     "metadata": {},
     "output_type": "display_data"
    },
    {
     "data": {
      "application/vnd.jupyter.widget-view+json": {
       "model_id": "11ac19f54b284019848b5bf13ef61af3",
       "version_major": 2,
       "version_minor": 0
      },
      "text/plain": [
       "Canvas(toolbar=Toolbar(toolitems=[('Home', 'Reset original view', 'home', 'home'), ('Back', 'Back to previous …"
      ]
     },
     "metadata": {},
     "output_type": "display_data"
    },
    {
     "data": {
      "text/plain": [
       "<matplotlib.animation.FuncAnimation at 0x7efb2dd583d0>"
      ]
     },
     "execution_count": 39,
     "metadata": {},
     "output_type": "execute_result"
    }
   ],
   "source": [
    "%matplotlib widget\n",
    "print('I mean: {}  P mean:{}'.format(I, P))\n",
    "axes = bhnerf.visualization.plot_stokes_lc(lightcurves, ['I', 'Q', 'U'], t_frames, add_mean=True, plot_qu=True)\n",
    "plt.savefig(flare_path.parent.joinpath(sim_name + '_lightcurve.pdf'))\n",
    "\n",
    "fig, axes = plt.subplots(1, 3, figsize=(10, 3))\n",
    "bhnerf.visualization.animate_movies_synced(\n",
    "    image_plane.transpose('stokes',...), axes, output=flare_path.parent.joinpath(sim_name + '_image_plane.gif'))"
   ]
  },
  {
   "cell_type": "markdown",
   "id": "40bdc18e-d786-4270-acc3-835f3eda15e3",
   "metadata": {
    "tags": []
   },
   "source": [
    "## Noisy accretion lightcurves \n",
    "---\n",
    "Background accretion is generated as a Gaussian Random Field (GRF) using [pynoisy](https://github.com/aviadlevis/pynoisy)"
   ]
  },
  {
   "cell_type": "code",
   "execution_count": 93,
   "id": "4f39260f-d3b6-4a02-b9a6-b632aa0dde41",
   "metadata": {
    "collapsed": true,
    "jupyter": {
     "outputs_hidden": true
    },
    "tags": []
   },
   "outputs": [
    {
     "data": {
      "application/vnd.jupyter.widget-view+json": {
       "model_id": "323b4b2241d14fa3bdc54fd7817b2481",
       "version_major": 2,
       "version_minor": 0
      },
      "text/plain": [
       "seeds:   0%|          | 0/5 [00:00<?, ?it/s]"
      ]
     },
     "metadata": {},
     "output_type": "display_data"
    },
    {
     "data": {
      "application/vnd.jupyter.widget-view+json": {
       "model_id": "",
       "version_major": 2,
       "version_minor": 0
      },
      "text/plain": [
       "Q_frac:   0%|          | 0/3 [00:00<?, ?it/s]"
      ]
     },
     "metadata": {},
     "output_type": "display_data"
    },
    {
     "data": {
      "application/vnd.jupyter.widget-view+json": {
       "model_id": "",
       "version_major": 2,
       "version_minor": 0
      },
      "text/plain": [
       "  0%|          | 0/10 [00:00<?, ?it/s]"
      ]
     },
     "metadata": {},
     "output_type": "display_data"
    },
    {
     "name": "stdout",
     "output_type": "stream",
     "text": [
      "I mean: 2.400000000000001  P mean:0.12156061457053331  P std:0.013395542032903319\n"
     ]
    },
    {
     "data": {
      "application/vnd.jupyter.widget-view+json": {
       "model_id": "69d1a1cbdb474f038e7bae153dbff0ac",
       "version_major": 2,
       "version_minor": 0
      },
      "text/plain": [
       "Canvas(toolbar=Toolbar(toolitems=[('Home', 'Reset original view', 'home', 'home'), ('Back', 'Back to previous …"
      ]
     },
     "metadata": {},
     "output_type": "display_data"
    },
    {
     "data": {
      "application/vnd.jupyter.widget-view+json": {
       "model_id": "",
       "version_major": 2,
       "version_minor": 0
      },
      "text/plain": [
       "  0%|          | 0/10 [00:00<?, ?it/s]"
      ]
     },
     "metadata": {},
     "output_type": "display_data"
    },
    {
     "name": "stdout",
     "output_type": "stream",
     "text": [
      "I mean: 2.4  P mean:0.23001077440907497  P std:0.025617191403427154\n"
     ]
    },
    {
     "data": {
      "application/vnd.jupyter.widget-view+json": {
       "model_id": "49154d8dc27348cd8b4e84ac20c99966",
       "version_major": 2,
       "version_minor": 0
      },
      "text/plain": [
       "Canvas(toolbar=Toolbar(toolitems=[('Home', 'Reset original view', 'home', 'home'), ('Back', 'Back to previous …"
      ]
     },
     "metadata": {},
     "output_type": "display_data"
    },
    {
     "data": {
      "application/vnd.jupyter.widget-view+json": {
       "model_id": "",
       "version_major": 2,
       "version_minor": 0
      },
      "text/plain": [
       "  0%|          | 0/10 [00:00<?, ?it/s]"
      ]
     },
     "metadata": {},
     "output_type": "display_data"
    },
    {
     "name": "stdout",
     "output_type": "stream",
     "text": [
      "I mean: 2.4  P mean:0.35707099358396455  P std:0.03932171197287202\n"
     ]
    },
    {
     "data": {
      "application/vnd.jupyter.widget-view+json": {
       "model_id": "8bc6ccec8e884ee691752dddeaa3b5aa",
       "version_major": 2,
       "version_minor": 0
      },
      "text/plain": [
       "Canvas(toolbar=Toolbar(toolitems=[('Home', 'Reset original view', 'home', 'home'), ('Back', 'Back to previous …"
      ]
     },
     "metadata": {},
     "output_type": "display_data"
    },
    {
     "data": {
      "application/vnd.jupyter.widget-view+json": {
       "model_id": "",
       "version_major": 2,
       "version_minor": 0
      },
      "text/plain": [
       "Q_frac:   0%|          | 0/3 [00:00<?, ?it/s]"
      ]
     },
     "metadata": {},
     "output_type": "display_data"
    },
    {
     "data": {
      "application/vnd.jupyter.widget-view+json": {
       "model_id": "",
       "version_major": 2,
       "version_minor": 0
      },
      "text/plain": [
       "  0%|          | 0/10 [00:00<?, ?it/s]"
      ]
     },
     "metadata": {},
     "output_type": "display_data"
    },
    {
     "name": "stdout",
     "output_type": "stream",
     "text": [
      "I mean: 2.399999999999999  P mean:0.1304861155001552  P std:0.010586198985031754\n"
     ]
    },
    {
     "data": {
      "application/vnd.jupyter.widget-view+json": {
       "model_id": "10c0a5b612e047b5abf07e6ed3074c9e",
       "version_major": 2,
       "version_minor": 0
      },
      "text/plain": [
       "Canvas(toolbar=Toolbar(toolitems=[('Home', 'Reset original view', 'home', 'home'), ('Back', 'Back to previous …"
      ]
     },
     "metadata": {},
     "output_type": "display_data"
    },
    {
     "data": {
      "application/vnd.jupyter.widget-view+json": {
       "model_id": "",
       "version_major": 2,
       "version_minor": 0
      },
      "text/plain": [
       "  0%|          | 0/10 [00:00<?, ?it/s]"
      ]
     },
     "metadata": {},
     "output_type": "display_data"
    },
    {
     "name": "stdout",
     "output_type": "stream",
     "text": [
      "I mean: 2.4  P mean:0.25351778758580895  P std:0.020801028044305548\n"
     ]
    },
    {
     "data": {
      "application/vnd.jupyter.widget-view+json": {
       "model_id": "5b61bd084034470c96810467273b2521",
       "version_major": 2,
       "version_minor": 0
      },
      "text/plain": [
       "Canvas(toolbar=Toolbar(toolitems=[('Home', 'Reset original view', 'home', 'home'), ('Back', 'Back to previous …"
      ]
     },
     "metadata": {},
     "output_type": "display_data"
    },
    {
     "data": {
      "application/vnd.jupyter.widget-view+json": {
       "model_id": "",
       "version_major": 2,
       "version_minor": 0
      },
      "text/plain": [
       "  0%|          | 0/10 [00:00<?, ?it/s]"
      ]
     },
     "metadata": {},
     "output_type": "display_data"
    },
    {
     "name": "stdout",
     "output_type": "stream",
     "text": [
      "I mean: 2.4000000000000004  P mean:0.37151489194068404  P std:0.03200749677911812\n"
     ]
    },
    {
     "data": {
      "application/vnd.jupyter.widget-view+json": {
       "model_id": "99e12823d8f5428d89d1e879ef5af41c",
       "version_major": 2,
       "version_minor": 0
      },
      "text/plain": [
       "Canvas(toolbar=Toolbar(toolitems=[('Home', 'Reset original view', 'home', 'home'), ('Back', 'Back to previous …"
      ]
     },
     "metadata": {},
     "output_type": "display_data"
    },
    {
     "data": {
      "application/vnd.jupyter.widget-view+json": {
       "model_id": "",
       "version_major": 2,
       "version_minor": 0
      },
      "text/plain": [
       "Q_frac:   0%|          | 0/3 [00:00<?, ?it/s]"
      ]
     },
     "metadata": {},
     "output_type": "display_data"
    },
    {
     "data": {
      "application/vnd.jupyter.widget-view+json": {
       "model_id": "",
       "version_major": 2,
       "version_minor": 0
      },
      "text/plain": [
       "  0%|          | 0/10 [00:00<?, ?it/s]"
      ]
     },
     "metadata": {},
     "output_type": "display_data"
    },
    {
     "name": "stdout",
     "output_type": "stream",
     "text": [
      "I mean: 2.4000000000000004  P mean:0.13079195172925487  P std:0.014886707539718005\n"
     ]
    },
    {
     "data": {
      "application/vnd.jupyter.widget-view+json": {
       "model_id": "9604f9ff73da49819fcadfb64a76f55d",
       "version_major": 2,
       "version_minor": 0
      },
      "text/plain": [
       "Canvas(toolbar=Toolbar(toolitems=[('Home', 'Reset original view', 'home', 'home'), ('Back', 'Back to previous …"
      ]
     },
     "metadata": {},
     "output_type": "display_data"
    },
    {
     "data": {
      "application/vnd.jupyter.widget-view+json": {
       "model_id": "",
       "version_major": 2,
       "version_minor": 0
      },
      "text/plain": [
       "  0%|          | 0/10 [00:00<?, ?it/s]"
      ]
     },
     "metadata": {},
     "output_type": "display_data"
    },
    {
     "name": "stdout",
     "output_type": "stream",
     "text": [
      "I mean: 2.400000000000001  P mean:0.2401377722727642  P std:0.029679537315611727\n"
     ]
    },
    {
     "data": {
      "application/vnd.jupyter.widget-view+json": {
       "model_id": "5f81a220417e4293a572ba2eca120f58",
       "version_major": 2,
       "version_minor": 0
      },
      "text/plain": [
       "Canvas(toolbar=Toolbar(toolitems=[('Home', 'Reset original view', 'home', 'home'), ('Back', 'Back to previous …"
      ]
     },
     "metadata": {},
     "output_type": "display_data"
    },
    {
     "data": {
      "application/vnd.jupyter.widget-view+json": {
       "model_id": "",
       "version_major": 2,
       "version_minor": 0
      },
      "text/plain": [
       "  0%|          | 0/10 [00:00<?, ?it/s]"
      ]
     },
     "metadata": {},
     "output_type": "display_data"
    },
    {
     "name": "stdout",
     "output_type": "stream",
     "text": [
      "I mean: 2.4  P mean:0.3760195586045917  P std:0.044480830743211804\n"
     ]
    },
    {
     "data": {
      "application/vnd.jupyter.widget-view+json": {
       "model_id": "3fac1576aef84087aae4f003218a922f",
       "version_major": 2,
       "version_minor": 0
      },
      "text/plain": [
       "Canvas(toolbar=Toolbar(toolitems=[('Home', 'Reset original view', 'home', 'home'), ('Back', 'Back to previous …"
      ]
     },
     "metadata": {},
     "output_type": "display_data"
    },
    {
     "data": {
      "application/vnd.jupyter.widget-view+json": {
       "model_id": "",
       "version_major": 2,
       "version_minor": 0
      },
      "text/plain": [
       "Q_frac:   0%|          | 0/3 [00:00<?, ?it/s]"
      ]
     },
     "metadata": {},
     "output_type": "display_data"
    },
    {
     "data": {
      "application/vnd.jupyter.widget-view+json": {
       "model_id": "",
       "version_major": 2,
       "version_minor": 0
      },
      "text/plain": [
       "  0%|          | 0/10 [00:00<?, ?it/s]"
      ]
     },
     "metadata": {},
     "output_type": "display_data"
    },
    {
     "name": "stdout",
     "output_type": "stream",
     "text": [
      "I mean: 2.4  P mean:0.11609008030922648  P std:0.01969328981609391\n"
     ]
    },
    {
     "data": {
      "application/vnd.jupyter.widget-view+json": {
       "model_id": "6cff4c478d02491f996a65be288296d6",
       "version_major": 2,
       "version_minor": 0
      },
      "text/plain": [
       "Canvas(toolbar=Toolbar(toolitems=[('Home', 'Reset original view', 'home', 'home'), ('Back', 'Back to previous …"
      ]
     },
     "metadata": {},
     "output_type": "display_data"
    },
    {
     "data": {
      "application/vnd.jupyter.widget-view+json": {
       "model_id": "",
       "version_major": 2,
       "version_minor": 0
      },
      "text/plain": [
       "  0%|          | 0/10 [00:00<?, ?it/s]"
      ]
     },
     "metadata": {},
     "output_type": "display_data"
    },
    {
     "name": "stdout",
     "output_type": "stream",
     "text": [
      "I mean: 2.4  P mean:0.23013210934306208  P std:0.03917997396662839\n"
     ]
    },
    {
     "data": {
      "application/vnd.jupyter.widget-view+json": {
       "model_id": "916d2b7a6d7e448b893afb6f9b4faa84",
       "version_major": 2,
       "version_minor": 0
      },
      "text/plain": [
       "Canvas(toolbar=Toolbar(toolitems=[('Home', 'Reset original view', 'home', 'home'), ('Back', 'Back to previous …"
      ]
     },
     "metadata": {},
     "output_type": "display_data"
    },
    {
     "data": {
      "application/vnd.jupyter.widget-view+json": {
       "model_id": "",
       "version_major": 2,
       "version_minor": 0
      },
      "text/plain": [
       "  0%|          | 0/10 [00:00<?, ?it/s]"
      ]
     },
     "metadata": {},
     "output_type": "display_data"
    },
    {
     "name": "stdout",
     "output_type": "stream",
     "text": [
      "I mean: 2.4  P mean:0.371594459829549  P std:0.05917937682908514\n"
     ]
    },
    {
     "data": {
      "application/vnd.jupyter.widget-view+json": {
       "model_id": "7d9babcfd1d842af8b5d6e4b657542f5",
       "version_major": 2,
       "version_minor": 0
      },
      "text/plain": [
       "Canvas(toolbar=Toolbar(toolitems=[('Home', 'Reset original view', 'home', 'home'), ('Back', 'Back to previous …"
      ]
     },
     "metadata": {},
     "output_type": "display_data"
    },
    {
     "data": {
      "application/vnd.jupyter.widget-view+json": {
       "model_id": "",
       "version_major": 2,
       "version_minor": 0
      },
      "text/plain": [
       "Q_frac:   0%|          | 0/3 [00:00<?, ?it/s]"
      ]
     },
     "metadata": {},
     "output_type": "display_data"
    },
    {
     "data": {
      "application/vnd.jupyter.widget-view+json": {
       "model_id": "",
       "version_major": 2,
       "version_minor": 0
      },
      "text/plain": [
       "  0%|          | 0/10 [00:00<?, ?it/s]"
      ]
     },
     "metadata": {},
     "output_type": "display_data"
    },
    {
     "name": "stdout",
     "output_type": "stream",
     "text": [
      "I mean: 2.4  P mean:0.12432693987099362  P std:0.017159329601578545\n"
     ]
    },
    {
     "data": {
      "application/vnd.jupyter.widget-view+json": {
       "model_id": "60cb709caec14b13a1c5b664c1bfd6a2",
       "version_major": 2,
       "version_minor": 0
      },
      "text/plain": [
       "Canvas(toolbar=Toolbar(toolitems=[('Home', 'Reset original view', 'home', 'home'), ('Back', 'Back to previous …"
      ]
     },
     "metadata": {},
     "output_type": "display_data"
    },
    {
     "data": {
      "application/vnd.jupyter.widget-view+json": {
       "model_id": "",
       "version_major": 2,
       "version_minor": 0
      },
      "text/plain": [
       "  0%|          | 0/10 [00:00<?, ?it/s]"
      ]
     },
     "metadata": {},
     "output_type": "display_data"
    },
    {
     "name": "stdout",
     "output_type": "stream",
     "text": [
      "I mean: 2.399999999999999  P mean:0.24885242732902177  P std:0.03430364017335448\n"
     ]
    },
    {
     "data": {
      "application/vnd.jupyter.widget-view+json": {
       "model_id": "be488393d24d43d684c621d7d7c0ff96",
       "version_major": 2,
       "version_minor": 0
      },
      "text/plain": [
       "Canvas(toolbar=Toolbar(toolitems=[('Home', 'Reset original view', 'home', 'home'), ('Back', 'Back to previous …"
      ]
     },
     "metadata": {},
     "output_type": "display_data"
    },
    {
     "data": {
      "application/vnd.jupyter.widget-view+json": {
       "model_id": "",
       "version_major": 2,
       "version_minor": 0
      },
      "text/plain": [
       "  0%|          | 0/10 [00:00<?, ?it/s]"
      ]
     },
     "metadata": {},
     "output_type": "display_data"
    },
    {
     "name": "stdout",
     "output_type": "stream",
     "text": [
      "I mean: 2.3999999999999995  P mean:0.38139732791585984  P std:0.050225172036325316\n"
     ]
    },
    {
     "data": {
      "application/vnd.jupyter.widget-view+json": {
       "model_id": "fea677476b9c4a0da516289d088254b6",
       "version_major": 2,
       "version_minor": 0
      },
      "text/plain": [
       "Canvas(toolbar=Toolbar(toolitems=[('Home', 'Reset original view', 'home', 'home'), ('Back', 'Back to previous …"
      ]
     },
     "metadata": {},
     "output_type": "display_data"
    }
   ],
   "source": [
    "Q_fracs = [0.25, 0.5, 0.75]\n",
    "seeds = [0, 1, 2, 3 ,4]\n",
    "\n",
    "for seed in tqdm(seeds, desc='seeds'):\n",
    "    for Q_frac in tqdm(Q_fracs, desc='Q_frac', leave=False):\n",
    "        simulation_params['model'].update(I_flux=2.4, Q_frac=Q_frac)\n",
    "        simulation_params['name'] = 'sim1_seed{}_Q_{:1.2f}'.format(seed, Q_frac)\n",
    "        locals().update(simulation_params['model'])\n",
    "\n",
    "        flare_path = Path('../data/synthetic_lightcurves/accretion_grfs/emission_3d_seed_{}.nc'.format(seed))\n",
    "        emission = xr.load_dataarray(flare_path)\n",
    "\n",
    "        # Random sample pixel ray positions and integrate to avoid numerical artifacts\n",
    "        image_plane = 0\n",
    "        for i in tqdm(range(num_subrays), leave=False):\n",
    "            # Compute geodesics\n",
    "            geos = bhnerf.kgeo.image_plane_geos(\n",
    "                spin, np.deg2rad(inclination), \n",
    "                num_alpha=num_alpha, num_beta=num_beta, \n",
    "                alpha_range=[-fov_M/2, fov_M/2],\n",
    "                beta_range=[-fov_M/2, fov_M/2],\n",
    "                randomize_subpixel_rays=True\n",
    "            )\n",
    "            t_injection = -float(geos.r_o + fov_M/4)\n",
    "\n",
    "            # Keplerian velocity field\n",
    "            rot_sign = {'cw': -1, 'ccw': 1}\n",
    "            Omega = rot_sign[Omega_dir] * np.sqrt(geos.M) / (geos.r**(3/2) + geos.spin * np.sqrt(geos.M))\n",
    "            umu = bhnerf.kgeo.azimuthal_velocity_vector(geos, Omega)\n",
    "            g = bhnerf.kgeo.doppler_factor(geos, umu)\n",
    "\n",
    "            # Magnitude normalized magnetic field in fluid-frame\n",
    "            b = bhnerf.kgeo.magnetic_field_fluid_frame(geos, umu, **b_consts)\n",
    "            z_width = 4                                      # maximum disk width [M]\n",
    "            rmax = fov_M / 2                                 # maximum recovery radius\n",
    "            rmin = float(bhnerf.constants.isco_pro(spin))    # minimum recovery radius\n",
    "            domain = np.bitwise_and(np.bitwise_and(np.abs(geos.z) < z_width, geos.r > rmin), geos.r < rmax)\n",
    "            b_mean = np.sqrt(np.sum(b[domain]**2, axis=-1)).mean()\n",
    "            b /= b_mean\n",
    "\n",
    "            # Polarized emission factors (including parallel transport)\n",
    "            J = np.nan_to_num(bhnerf.kgeo.parallel_transport(geos, umu, g, b, Q_frac=Q_frac, V_frac=0), 0.0)\n",
    "\n",
    "            image_plane += (1/num_subrays) * bhnerf.emission.image_plane_dynamics(emission, geos, Omega, 0.0, 0.0, J, slow_light=False)\n",
    "\n",
    "        image_plane = xr.DataArray(\n",
    "            image_plane, \n",
    "            name='Image Plane',\n",
    "            dims=['t', 'stokes', 'beta', 'alpha'], \n",
    "            coords={'t': t_frames, 'stokes': ['I', 'Q', 'U'], 'beta': geos.beta, 'alpha': geos.alpha})\n",
    "        lightcurves = image_plane.sum(['alpha','beta'])\n",
    "\n",
    "        # Normalize image/plane and lightcurves\n",
    "        I, P = lc_average_fluxes(lightcurves) \n",
    "        emission_scale = I_flux / I\n",
    "        image_plane *= emission_scale\n",
    "        lightcurves *= emission_scale\n",
    "        I, P_mean = lc_average_fluxes(lightcurves)\n",
    "        P_std = float(np.std(lightcurves[:,1] + 1j*lightcurves[:,2]))\n",
    "\n",
    "        # Save image_plane and lightcurves\n",
    "        sim_name = simulation_params['name']\n",
    "        image_path = flare_path.parent.joinpath(sim_name+'_image_plane.nc')\n",
    "        lightcurve_path = flare_path.parent.joinpath(sim_name+'_lightcurve.csv')\n",
    "        image_plane.to_netcdf(image_path)\n",
    "        lightcurves.to_pandas().to_csv(lightcurve_path)\n",
    "\n",
    "        # Update and save simulation parameters\n",
    "        simulation_params['model'].update(emission_scale=emission_scale, P_flux=P_mean, P_std=P_std)\n",
    "        simulation_params.update(\n",
    "            flare_path=str(flare_path),\n",
    "            image_path=str(image_path), \n",
    "            lightcurve_path=str(lightcurve_path)\n",
    "        )\n",
    "        with open(flare_path.parent.joinpath('{}_params.yaml'.format(sim_name)), 'w') as file:\n",
    "            yaml.dump(simulation_params, file, default_flow_style=False)\n",
    "\n",
    "        %matplotlib widget\n",
    "        print('I mean: {}  P mean:{}  P std:{}'.format(I, P_mean, P_std))\n",
    "        axes = bhnerf.visualization.plot_stokes_lc(lightcurves, ['I', 'Q', 'U'], t_frames, add_mean=True, plot_qu=True)\n",
    "        plt.savefig(flare_path.parent.joinpath(sim_name + '_lightcurve.pdf'))"
   ]
  },
  {
   "cell_type": "code",
   "execution_count": 44,
   "id": "b29b2a81-3d19-48e1-8096-0d174844c2a4",
   "metadata": {},
   "outputs": [
    {
     "data": {
      "application/vnd.jupyter.widget-view+json": {
       "model_id": "b96cccc292f1401f9dc52da591aabb8a",
       "version_major": 2,
       "version_minor": 0
      },
      "text/plain": [
       "Canvas(toolbar=Toolbar(toolitems=[('Home', 'Reset original view', 'home', 'home'), ('Back', 'Back to previous …"
      ]
     },
     "metadata": {},
     "output_type": "display_data"
    },
    {
     "data": {
      "text/plain": [
       "<matplotlib.animation.FuncAnimation at 0x7f593112b3d0>"
      ]
     },
     "execution_count": 44,
     "metadata": {},
     "output_type": "execute_result"
    }
   ],
   "source": [
    "%matplotlib widget\n",
    "dynamic_range = 1.e3\n",
    "gamma = 0.1\n",
    "gamma_fn = lambda movie : (movie + np.max(movie) / dynamic_range)**(gamma)\n",
    "log_fn = lambda movie: np.log10(movie + np.max(movie) / dynamic_range)\n",
    "log_fn(image_plane.sel(stokes='I')).visualization.animate()"
   ]
  },
  {
   "cell_type": "code",
   "execution_count": null,
   "id": "90a80977-7793-4e26-88e6-3327d66597cd",
   "metadata": {},
   "outputs": [],
   "source": []
  },
  {
   "cell_type": "code",
   "execution_count": null,
   "id": "d484ee8b-c2a3-4587-8539-d66eec36b8e9",
   "metadata": {},
   "outputs": [],
   "source": []
  }
 ],
 "metadata": {
  "kernelspec": {
   "display_name": "jax",
   "language": "python",
   "name": "jax"
  },
  "language_info": {
   "codemirror_mode": {
    "name": "ipython",
    "version": 3
   },
   "file_extension": ".py",
   "mimetype": "text/x-python",
   "name": "python",
   "nbconvert_exporter": "python",
   "pygments_lexer": "ipython3",
   "version": "3.9.6"
  }
 },
 "nbformat": 4,
 "nbformat_minor": 5
}
