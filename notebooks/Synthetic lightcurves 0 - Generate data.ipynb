{
 "cells": [
  {
   "cell_type": "code",
   "execution_count": 1,
   "id": "b85f8e98-8ea4-4e4c-9304-038107b539e2",
   "metadata": {},
   "outputs": [
    {
     "name": "stderr",
     "output_type": "stream",
     "text": [
      "Matplotlib created a temporary config/cache directory at /tmp/matplotlib-v8mq2ovl because the default path (/home/jovyan/.cache/matplotlib) is not a writable directory; it is highly recommended to set the MPLCONFIGDIR environment variable to a writable directory, in particular to speed up the import of Matplotlib and to better support multiprocessing.\n"
     ]
    },
    {
     "name": "stdout",
     "output_type": "stream",
     "text": [
      "Welcome to eht-imaging! v 1.2.2 \n",
      "\n"
     ]
    },
    {
     "name": "stderr",
     "output_type": "stream",
     "text": [
      "2023-05-08 13:35:39.630107: W tensorflow/stream_executor/platform/default/dso_loader.cc:64] Could not load dynamic library 'libcudart.so.11.0'; dlerror: libcudart.so.11.0: cannot open shared object file: No such file or directory; LD_LIBRARY_PATH: /.singularity.d/libs\n"
     ]
    }
   ],
   "source": [
    "import bhnerf\n",
    "from astropy import units\n",
    "import numpy as np\n",
    "import xarray as xr\n",
    "import matplotlib.pyplot as plt\n",
    "from pathlib import Path\n",
    "import ruamel.yaml as yaml\n",
    "from tqdm.auto import tqdm\n",
    "from bhnerf import constants as consts\n",
    "import pandas as pd\n",
    "data_path = Path('../data/synthetic_lightcurves')\n",
    "\n",
    "import warnings\n",
    "warnings.simplefilter(\"ignore\")\n",
    "\n",
    "# ALMA-like scans on Apr11, 2017 (time-averaged over a window)\n",
    "t_frames = np.array([ 9.34056333,  9.35067   ,  9.36077667,  9.37088333,  9.38099   ,\n",
    "                      9.39109667,  9.40120333,  9.41131   ,  9.42169667,  9.43405   ,\n",
    "                      9.44415667,  9.45426333,  9.46437   ,  9.47447667,  9.48458333,\n",
    "                      9.49546167,  9.56607333,  9.57618   ,  9.58628667,  9.59639333,\n",
    "                      9.6065    ,  9.61660667,  9.62671333,  9.63682   ,  9.64889333,\n",
    "                      9.65956   ,  9.66966667,  9.67977333,  9.68988   ,  9.69998667,\n",
    "                      9.71191667,  9.91607333,  9.92618   ,  9.93881333,  9.94892   ,\n",
    "                      9.95902667,  9.96913333,  9.97924   ,  9.98962667, 10.00071667,\n",
    "                     10.01082333, 10.02093   , 10.03103667, 10.04114333, 10.05139   ,\n",
    "                     10.06262   , 10.13274   , 10.14284667, 10.15295333, 10.16306   ,\n",
    "                     10.17316667, 10.18327333, 10.19338   , 10.20348667, 10.21359333,\n",
    "                     10.2237    , 10.23507   , 10.24644   , 10.28883833, 10.30975667,\n",
    "                     10.31986333, 10.32997   , 10.34007667, 10.35018333, 10.36029   ,\n",
    "                     10.37039667, 10.381415  , 10.39187333, 10.40198   , 10.41405333,\n",
    "                     10.42472   , 10.43482667, 10.44493333, 10.45504   , 10.73603833,\n",
    "                     10.74663667, 10.75674333, 10.76685   , 10.77695667, 10.78706333,\n",
    "                     10.79808167, 10.80854   , 10.81977   , 10.83632167, 10.90067   ,\n",
    "                     10.91077667, 10.92088333, 10.93211333, 10.94236   , 10.95246667,\n",
    "                     10.96257333, 10.97345167, 10.98405   , 10.99415667, 11.00426333,\n",
    "                     11.01437   , 11.02447667, 11.03584667,\n",
    "                     11.10596667, 11.116565  , 11.12744333, 11.13755   , 11.14765667,\n",
    "                     11.15776333, 11.16801   , 11.17924   , 11.19201333, 11.20324333,\n",
    "                     11.21335   , 11.22345667, 11.23356333, 11.24367   , 11.25377667,\n",
    "                     11.28678833, 11.45723   , 11.46733667, 11.47744333, 11.48881333,\n",
    "                     11.50018333, 11.51092167, 11.52166   , 11.53176667, 11.54187333,\n",
    "                     11.55198   , 11.56208667, 11.57219333, 11.5823    , 11.59240667]) * units.hr"
   ]
  },
  {
   "cell_type": "code",
   "execution_count": 2,
   "id": "164cb825-9aea-43e2-9d4b-4b8845efd55f",
   "metadata": {},
   "outputs": [],
   "source": [
    "def lc_average_fluxes(lightcurves, t_window_hr=100.0/60.0):\n",
    "    radio_loops = lightcurves.where(lightcurves.t < lightcurves.t[0] + t_window_hr, drop=True)\n",
    "    I = float(radio_loops.sel(stokes='I').mean('t'))\n",
    "    P = float(np.sqrt(radio_loops.sel(stokes='Q')**2 + radio_loops.sel(stokes='U')**2).mean('t'))\n",
    "    return I, P\n",
    "\n",
    "def lc_polarized_std(lightcurves, t_window_hr=100.0/60.0):     \n",
    "    radio_loops = lightcurves.where(lightcurves.t < lightcurves.t[0] + t_window_hr, drop=True)\n",
    "    P_std = float((radio_loops.sel(stokes='Q') + 1j*radio_loops.sel(stokes='U')).std('t'))\n",
    "    return P_std\n",
    "\n",
    "def lc_lp_angle(lightcurves, t_window_hr=100.0/60.0):\n",
    "    radio_loops = lightcurves.where(lightcurves.t < lightcurves.t[0] + t_window_hr, drop=True)\n",
    "    chi = np.rad2deg(np.angle(radio_loops.sel(stokes='Q').mean('t') + 1j*radio_loops.sel(stokes='U').mean('t')) / 2.0)\n",
    "    return chi"
   ]
  },
  {
   "cell_type": "markdown",
   "id": "96b549db-fec5-45ea-9280-7236035892be",
   "metadata": {
    "jp-MarkdownHeadingCollapsed": true,
    "tags": []
   },
   "source": [
    "# Generate 3D emissivities\n",
    "---\n",
    "Generate different emissivity structures for recovery:\n",
    " - Single hotspot\n",
    " - Two hotspots\n",
    " - Three hotspots\n",
    " - Flux tube\n",
    " - Accretion disk"
   ]
  },
  {
   "cell_type": "markdown",
   "id": "9dc9a11b-b0d4-4bf8-815f-a017e03e78c9",
   "metadata": {
    "jp-MarkdownHeadingCollapsed": true,
    "tags": []
   },
   "source": [
    "### Single Gaussian hotspot"
   ]
  },
  {
   "cell_type": "code",
   "execution_count": 15,
   "id": "3165238e-08c0-4de4-a92e-bff7898cc98f",
   "metadata": {},
   "outputs": [],
   "source": [
    "fov_M = 40.0\n",
    "hs_fwhm = 3\n",
    "hs_std = hs_fwhm / 2.355\n",
    "orbit_radius = 11.0\n",
    "rot_angle = np.deg2rad(120) + np.pi/2\n",
    "emission = bhnerf.emission.generate_hotspot_xr(\n",
    "    resolution=(64, 64, 64), \n",
    "    rot_axis=[0.0, 0.0, 1.0], \n",
    "    rot_angle=rot_angle,\n",
    "    orbit_radius=orbit_radius,\n",
    "    std=hs_std,\n",
    "    r_isco=6.0,\n",
    "    fov=(fov_M, 'GM/c^2'))\n",
    "emission.name = 'Single Gaussian'\n",
    "emission.attrs = {\n",
    "    'fov_M': fov_M,\n",
    "    'hs_fwhm': hs_fwhm,\n",
    "    'orbit_radius': orbit_radius,\n",
    "    'rot_angle': rot_angle\n",
    "}\n",
    "\n",
    "# Save ground truth emission \n",
    "directory = data_path.joinpath('single_gaussian')\n",
    "directory.mkdir(parents=True, exist_ok=True)\n",
    "emission.to_netcdf(directory.joinpath('emission_3d.nc'))"
   ]
  },
  {
   "cell_type": "code",
   "execution_count": 20,
   "id": "a8f20bda-8eb8-4ef6-815d-007b5ed8caef",
   "metadata": {},
   "outputs": [
    {
     "data": {
      "application/vnd.jupyter.widget-view+json": {
       "model_id": "39833b7e5d464d579259c54361c87883",
       "version_major": 2,
       "version_minor": 0
      },
      "text/plain": [
       "VBox(children=(Figure(camera=PerspectiveCamera(fov=45.0, position=(0.0, -2.1650635094610964, 1.250000000000000…"
      ]
     },
     "metadata": {},
     "output_type": "display_data"
    }
   ],
   "source": [
    "%matplotlib widget\n",
    "bhnerf.visualization.ipyvolume_3d(emission, fov_M)"
   ]
  },
  {
   "cell_type": "markdown",
   "id": "15ccdde7-fcf8-43ce-9a1c-ee4b89d77c47",
   "metadata": {
    "jp-MarkdownHeadingCollapsed": true,
    "tags": []
   },
   "source": [
    "## Two Gaussian hotspots"
   ]
  },
  {
   "cell_type": "code",
   "execution_count": 20,
   "id": "72c77de2-e858-4787-ba0e-a9faf7166c03",
   "metadata": {},
   "outputs": [],
   "source": [
    "fov_M = 40.0\n",
    "hs_fwhms = np.array([4.0, 3.8])\n",
    "hs_stds = hs_fwhms / 2.355\n",
    "orbit_radii = [12.0, 10.0]\n",
    "base_angle = 220\n",
    "other_angles = [145, 40, 300]\n",
    "\n",
    "for i, other_angle in enumerate(other_angles):\n",
    "    emission = 0\n",
    "    rot_angles = np.deg2rad(np.array([base_angle, other_angle]))\n",
    "    \n",
    "    for hs_std, orbit_radius, rot_angle in zip(hs_stds, orbit_radii, rot_angles):\n",
    "        emission +=  bhnerf.emission.generate_hotspot_xr(\n",
    "            resolution=(64, 64, 64), \n",
    "            rot_axis=[0.0, 0.0, 1.0], \n",
    "            rot_angle=rot_angle,\n",
    "            orbit_radius=orbit_radius,\n",
    "            std=hs_std,\n",
    "            r_isco=6.0,\n",
    "            fov=(fov_M, 'GM/c^2'))\n",
    "        \n",
    "    emission.name = 'Two Gaussians: {} deg'.format(other_angle)\n",
    "    emission.attrs = {\n",
    "        'fov_M': fov_M,\n",
    "        'hs_fwhm': hs_fwhms,\n",
    "        'orbit_radius': orbit_radii,\n",
    "        'rot_angle': rot_angles\n",
    "    }\n",
    "\n",
    "    # Save ground truth emission \n",
    "    directory = data_path.joinpath('two_gaussians')\n",
    "    directory.mkdir(parents=True, exist_ok=True)\n",
    "    emission.to_netcdf(directory.joinpath('emission_3d_quadrant_{}.nc'.format(i)))"
   ]
  },
  {
   "cell_type": "code",
   "execution_count": 26,
   "id": "edc63fb7-debe-4215-8e16-2cd08f274c55",
   "metadata": {},
   "outputs": [
    {
     "data": {
      "application/vnd.jupyter.widget-view+json": {
       "model_id": "fbfcc1bfa77849638985b61b30c8a5c1",
       "version_major": 2,
       "version_minor": 0
      },
      "text/plain": [
       "VBox(children=(Figure(camera=PerspectiveCamera(fov=45.0, position=(0.0, -2.1650635094610964, 1.250000000000000…"
      ]
     },
     "metadata": {},
     "output_type": "display_data"
    }
   ],
   "source": [
    "%matplotlib widget\n",
    "emission = xr.load_dataarray(data_path.joinpath('two_gaussians/emission_3d_quadrant_0.nc'))\n",
    "bhnerf.visualization.ipyvolume_3d(emission, fov_M)"
   ]
  },
  {
   "cell_type": "markdown",
   "id": "e13a0b01-3d23-4b4b-9dba-208de4be1c06",
   "metadata": {
    "tags": []
   },
   "source": [
    "### Three Gaussian hotspots"
   ]
  },
  {
   "cell_type": "code",
   "execution_count": 10,
   "id": "411e1d26-09b0-44be-befa-a7f1d1199f97",
   "metadata": {},
   "outputs": [],
   "source": [
    "fov_M = 40.0\n",
    "hs_fwhms = np.array([3.4, 4.2, 4.6])\n",
    "hs_stds = hs_fwhms / 2.355\n",
    "orbit_radii = [6.5, 11.0, 13.0]\n",
    "rot_angles = np.deg2rad(np.array([9.5, 72.3, 221.8]))\n",
    "\n",
    "emission = 0\n",
    "for hs_std, orbit_radius, rot_angle in zip(hs_stds, orbit_radii, rot_angles):\n",
    "    emission +=  bhnerf.emission.generate_hotspot_xr(\n",
    "        resolution=(64, 64, 64), \n",
    "        rot_axis=[0.0, 0.0, 1.0], \n",
    "        rot_angle=rot_angle,\n",
    "        orbit_radius=orbit_radius,\n",
    "        std=hs_std,\n",
    "        r_isco=6.0,\n",
    "        fov=(fov_M, 'GM/c^2'))\n",
    "emission.name = 'Three Gaussians'\n",
    "emission.attrs = {\n",
    "    'fov_M': fov_M,\n",
    "    'hs_fwhm': hs_fwhms,\n",
    "    'orbit_radius': orbit_radii,\n",
    "    'rot_angle': rot_angles\n",
    "}\n",
    "\n",
    "# Save ground truth emission \n",
    "directory = data_path.joinpath('3_gaussians')\n",
    "directory.mkdir(parents=True, exist_ok=True)\n",
    "emission.to_netcdf(directory.joinpath('emission_3d.nc'))"
   ]
  },
  {
   "cell_type": "code",
   "execution_count": 6,
   "id": "21d5c2c4-6783-4a2b-88a9-6ba47f1590a5",
   "metadata": {},
   "outputs": [
    {
     "data": {
      "application/vnd.jupyter.widget-view+json": {
       "model_id": "948a06eb248d4e4c9d1ee440619dfd58",
       "version_major": 2,
       "version_minor": 0
      },
      "text/plain": [
       "VBox(children=(Figure(camera=PerspectiveCamera(fov=45.0, position=(0.0, -2.1650635094610964, 1.250000000000000…"
      ]
     },
     "metadata": {},
     "output_type": "display_data"
    }
   ],
   "source": [
    "%matplotlib widget\n",
    "bhnerf.visualization.ipyvolume_3d(emission, fov_M)"
   ]
  },
  {
   "cell_type": "markdown",
   "id": "22f8a7d6-79bd-4387-9092-ac14f95ef15b",
   "metadata": {
    "jp-MarkdownHeadingCollapsed": true,
    "tags": []
   },
   "source": [
    "### Flux Tube"
   ]
  },
  {
   "cell_type": "code",
   "execution_count": 11,
   "id": "a1fa58f9-9d39-46d2-8d1f-14ee7bc7493a",
   "metadata": {},
   "outputs": [],
   "source": [
    "fov_M = 40.0\n",
    "hs_std = 1.2\n",
    "tube_std = 1.\n",
    "tube_radius = 10.0\n",
    "phi_start = np.deg2rad(190)\n",
    "phi_end = np.deg2rad(270)\n",
    "\n",
    "emission = bhnerf.emission.generate_tube_xr(\n",
    "    resolution=(64, 64, 64), \n",
    "    rot_axis=[0.0, 0.0, 1.0], \n",
    "    phi_start=phi_start,\n",
    "    phi_end=phi_end,\n",
    "    orbit_radius=tube_radius,\n",
    "    std=tube_std,\n",
    "    r_isco=6.0,\n",
    "    fov=(fov_M, 'GM/c^2'))\n",
    "emission.name = 'Flux Tube'\n",
    "emission.attrs = {\n",
    "    'fov_M': fov_M,\n",
    "    'hs_std': hs_std,\n",
    "    'tube_std':tube_std,\n",
    "    'tube_radius':tube_radius\n",
    "}\n",
    "\n",
    "# Save ground truth emission \n",
    "directory = data_path.joinpath('flux_tube')\n",
    "directory.mkdir(parents=True, exist_ok=True)\n",
    "emission.to_netcdf(directory.joinpath('emission_3d.nc'))"
   ]
  },
  {
   "cell_type": "code",
   "execution_count": 80,
   "id": "1844cc62-0e84-4d4b-bfe5-2ed541d5ad23",
   "metadata": {},
   "outputs": [
    {
     "data": {
      "application/vnd.jupyter.widget-view+json": {
       "model_id": "60595be0b9444bdb8bca472fcda0a943",
       "version_major": 2,
       "version_minor": 0
      },
      "text/plain": [
       "VBox(children=(Figure(camera=PerspectiveCamera(fov=45.0, position=(0.0, -2.1650635094610964, 1.250000000000000…"
      ]
     },
     "metadata": {},
     "output_type": "display_data"
    }
   ],
   "source": [
    "%matplotlib widget\n",
    "bhnerf.visualization.ipyvolume_3d(emission, fov_M)"
   ]
  },
  {
   "cell_type": "markdown",
   "id": "e7f6faab-77d7-4034-93b3-5414a5627518",
   "metadata": {
    "jp-MarkdownHeadingCollapsed": true,
    "tags": []
   },
   "source": [
    "### Accretion Disk (Gaussian Random Field)"
   ]
  },
  {
   "cell_type": "code",
   "execution_count": 16,
   "id": "18a49373-2852-4fa5-9bec-db6c920c6cd4",
   "metadata": {},
   "outputs": [],
   "source": [
    "grf_path = Path('../data/synthetic_lightcurves/accretion_grfs/grf.evo_140min_411M.seed_0.nc')\n",
    "fov_M = 40.0\n",
    "alpha = 0.5\n",
    "diameter_M = 20   \n",
    "H_r = 0            \n",
    "std_z = 1\n",
    "\n",
    "GM_c3 = consts.GM_c3(consts.sgra_mass).to('hr')\n",
    "grf = xr.load_dataarray(grf_path).interp(t=(t_frames-t_frames[0]) / GM_c3.value)\n",
    "\n",
    "gaussian = bhnerf.utils.gaussian_xr([grf.y.size, grf.x.size], [0,0], std=diameter_M/2.355, fov=(fov_M, 'M')).data\n",
    "emission =  bhnerf.utils.expand_3d(np.exp(alpha*grf) * gaussian, fov_z=fov_M, H_r=H_r, std=std_z)\n",
    "emission.coords.update(bhnerf.utils.linspace_xr(emission.shape[1:], -fov_M/2, fov_M/2))\n",
    "emission.name = 'Accretion Disk'\n",
    "emission.attrs = grf.attrs\n",
    "emission.attrs.update({\n",
    "    'grf_path': str(grf_path),\n",
    "    'alpha': alpha,\n",
    "    'diameter_M':diameter_M,\n",
    "    'H_r': H_r, \n",
    "    'std_z': std_z\n",
    "})\n",
    "\n",
    "# Save ground truth emission \n",
    "emission.to_netcdf(grf_path.parent.joinpath('emission_3d_seed_{}.nc'.format(grf.seed)))"
   ]
  },
  {
   "cell_type": "code",
   "execution_count": 11,
   "id": "8440f9d7-807b-401b-8aa3-0a228542b176",
   "metadata": {},
   "outputs": [
    {
     "data": {
      "application/vnd.jupyter.widget-view+json": {
       "model_id": "d3eec3c388854abcbc47e2b232c7c523",
       "version_major": 2,
       "version_minor": 0
      },
      "text/plain": [
       "interactive(children=(IntSlider(value=0, description='t', max=127), Output()), _dom_classes=('widget-interact'…"
      ]
     },
     "metadata": {},
     "output_type": "display_data"
    }
   ],
   "source": [
    "%matplotlib widget\n",
    "bhnerf.visualization.ipyvolume_3d(emission, fov_M)"
   ]
  },
  {
   "cell_type": "markdown",
   "id": "7703a914-5eac-4013-b7bf-aecc36517c7e",
   "metadata": {
    "tags": []
   },
   "source": [
    "# Generate lightcurves"
   ]
  },
  {
   "cell_type": "code",
   "execution_count": 27,
   "id": "9943a54d-2bbf-4069-b71c-65155f93a0f3",
   "metadata": {},
   "outputs": [],
   "source": [
    "simulation_params = {\n",
    "    'name': 'sim1',\n",
    "    'desc': 'Image fluxes without background accretion',\n",
    "    'model': {\n",
    "        # Domain dimensions and black-hole params\n",
    "        'spin': 0.0,\n",
    "        'inclination': 12.0,\n",
    "        'fov_M': 40.0, \n",
    "        'num_subrays': 10,\n",
    "        \n",
    "        # Magnetic field / polarization parameters\n",
    "        'I_flux': 0.3,\n",
    "        'Q_frac': 0.85,      # Fraction of linear polarization\n",
    "        'b_consts': {\n",
    "            'arad': 0,       # Radial component (in lab-frame) \n",
    "            'avert': 1,      # Vertical component (in lab-frame)\n",
    "            'ator': 0,       # Toroidal component (in lab-frame)\n",
    "        },\n",
    "        # Keplerian velocity field\n",
    "        'Omega_dir': 'cw',\n",
    "        \n",
    "        # Image plane \n",
    "        'num_alpha': 64,\n",
    "        'num_beta': 64,\n",
    "        't_start_obs': 9.3 \n",
    "    }}\n",
    "locals().update(simulation_params['model'])"
   ]
  },
  {
   "cell_type": "code",
   "execution_count": 35,
   "id": "80b93537-2c82-4bb3-8899-280b4d7084dd",
   "metadata": {},
   "outputs": [],
   "source": [
    "simulation_params = {\n",
    "    'name': 'sim2',\n",
    "    'desc': 'Image fluxes without background accretion',\n",
    "    'model': {\n",
    "        # Domain dimensions and black-hole params\n",
    "        'spin': 0.0,\n",
    "        'inclination': 64.0,\n",
    "        'fov_M': 40.0, \n",
    "        'num_subrays': 10,\n",
    "        \n",
    "        # Magnetic field / polarization parameters\n",
    "        'I_flux': 0.3,\n",
    "        'Q_frac': 0.5,      # Fraction of linear polarization\n",
    "        'b_consts': {\n",
    "            'arad': 0,       # Radial component (in lab-frame) \n",
    "            'avert': 1,      # Vertical component (in lab-frame)\n",
    "            'ator': 0,       # Toroidal component (in lab-frame)\n",
    "        },\n",
    "        # Keplerian velocity field\n",
    "        'Omega_dir': 'cw',\n",
    "        \n",
    "        # Image plane \n",
    "        'num_alpha': 64,\n",
    "        'num_beta': 64,\n",
    "        't_start_obs': 9.3\n",
    "    }}\n",
    "locals().update(simulation_params['model'])"
   ]
  },
  {
   "cell_type": "code",
   "execution_count": 5,
   "id": "adb2a69f-2260-4552-a26e-06cd55445b66",
   "metadata": {},
   "outputs": [],
   "source": [
    "simulation_params = {\n",
    "    'name': 'sim2_nosubrays',\n",
    "    'desc': 'Image fluxes without background accretion',\n",
    "    'model': {\n",
    "        # Domain dimensions and black-hole params\n",
    "        'spin': 0.0,\n",
    "        'inclination': 64.0,\n",
    "        'fov_M': 40.0, \n",
    "        'num_subrays': 1,\n",
    "        \n",
    "        # Magnetic field / polarization parameters\n",
    "        'I_flux': 0.3,\n",
    "        'Q_frac': 0.5,      # Fraction of linear polarization\n",
    "        'b_consts': {\n",
    "            'arad': 0,       # Radial component (in lab-frame) \n",
    "            'avert': 1,      # Vertical component (in lab-frame)\n",
    "            'ator': 0,       # Toroidal component (in lab-frame)\n",
    "        },\n",
    "        # Keplerian velocity field\n",
    "        'Omega_dir': 'cw',\n",
    "        \n",
    "        # Image plane \n",
    "        'num_alpha': 64,\n",
    "        'num_beta': 64,\n",
    "        't_start_obs': 9.3\n",
    "    }}\n",
    "locals().update(simulation_params['model'])"
   ]
  },
  {
   "cell_type": "markdown",
   "id": "37080b65-356d-4038-9765-3a7c1a8ecf39",
   "metadata": {
    "jp-MarkdownHeadingCollapsed": true,
    "tags": []
   },
   "source": [
    "## Flare lightcurves \n",
    "---\n",
    "Polarized image-plane/lightcurves corresponding to ALMA scan times on April 11, 2017. "
   ]
  },
  {
   "cell_type": "code",
   "execution_count": 6,
   "id": "77c759e3-28c1-415e-9015-d2fbcb5f4a81",
   "metadata": {},
   "outputs": [
    {
     "data": {
      "application/vnd.jupyter.widget-view+json": {
       "model_id": "b97b73404c864b129416dfc322c3d206",
       "version_major": 2,
       "version_minor": 0
      },
      "text/plain": [
       "  0%|          | 0/1 [00:00<?, ?it/s]"
      ]
     },
     "metadata": {},
     "output_type": "display_data"
    }
   ],
   "source": [
    "flare_path = Path('../data/synthetic_lightcurves/single_gaussian/emission_3d.nc')\n",
    "emission = xr.load_dataarray(flare_path)\n",
    "\n",
    "# Random sample pixel ray positions and integrate to avoid numerical artifacts\n",
    "image_plane = 0\n",
    "for i in tqdm(range(num_subrays)):\n",
    "    # Compute geodesics\n",
    "    geos = bhnerf.kgeo.image_plane_geos(\n",
    "        spin, np.deg2rad(inclination), \n",
    "        num_alpha=num_alpha, num_beta=num_beta, \n",
    "        alpha_range=[-fov_M/2, fov_M/2],\n",
    "        beta_range=[-fov_M/2, fov_M/2],\n",
    "        #randomize_subpixel_rays=True\n",
    "    )\n",
    "    t_injection = -float(geos.r_o + fov_M/4)\n",
    "\n",
    "    # Keplerian velocity field\n",
    "    rot_sign = {'cw': -1, 'ccw': 1}\n",
    "    Omega = rot_sign[Omega_dir] * np.sqrt(geos.M) / (geos.r**(3/2) + geos.spin * np.sqrt(geos.M))\n",
    "    umu = bhnerf.kgeo.azimuthal_velocity_vector(geos, Omega)\n",
    "    g = bhnerf.kgeo.doppler_factor(geos, umu)\n",
    "\n",
    "    # Magnitude normalized magnetic field in fluid-frame\n",
    "    b = bhnerf.kgeo.magnetic_field_fluid_frame(geos, umu, **b_consts)\n",
    "    z_width = 4                                      # maximum disk width [M]\n",
    "    rmax = fov_M / 2                                 # maximum recovery radius\n",
    "    rmin = float(bhnerf.constants.isco_pro(spin))    # minimum recovery radius\n",
    "    domain = np.bitwise_and(np.bitwise_and(np.abs(geos.z) < z_width, geos.r > rmin), geos.r < rmax)\n",
    "    b_mean = np.sqrt(np.sum(b[domain]**2, axis=-1)).mean()\n",
    "    b /= b_mean\n",
    "\n",
    "    # Polarized emission factors (including parallel transport)\n",
    "    J = np.nan_to_num(bhnerf.kgeo.parallel_transport(geos, umu, g, b, Q_frac=Q_frac, V_frac=0), 0.0)\n",
    "\n",
    "    image_plane += (1/num_subrays) * bhnerf.emission.image_plane_dynamics(\n",
    "        emission, geos, Omega, t_frames, t_injection, J, t_start_obs=t_start_obs*units.hr\n",
    "    )\n",
    "\n",
    "image_plane = xr.DataArray(\n",
    "    image_plane, \n",
    "    name='Image Plane',\n",
    "    dims=['t', 'stokes', 'beta', 'alpha'], \n",
    "    coords={'t': t_frames, 'stokes': ['I', 'Q', 'U'], 'beta': geos.beta, 'alpha': geos.alpha})\n",
    "lightcurves = image_plane.sum(['alpha','beta'])\n",
    "\n",
    "# Normalize image/plane and lightcurves\n",
    "I, P = lc_average_fluxes(lightcurves) \n",
    "emission_scale = I_flux / I\n",
    "image_plane *= emission_scale\n",
    "lightcurves *= emission_scale\n",
    "I, P = lc_average_fluxes(lightcurves) \n",
    "\n",
    "# Save image_plane and lightcurves\n",
    "sim_name = simulation_params['name']\n",
    "image_path = flare_path.parent.joinpath(sim_name+'_image_plane.nc')\n",
    "lightcurve_path = flare_path.parent.joinpath(sim_name+'_lightcurve.csv')\n",
    "image_plane.to_netcdf(image_path)\n",
    "lightcurves.to_pandas().to_csv(lightcurve_path)\n",
    "\n",
    "# Update and save simulation parameters\n",
    "simulation_params['model'].update(emission_scale=emission_scale, P_flux=P)\n",
    "simulation_params.update(\n",
    "    flare_path=str(flare_path),\n",
    "    image_path=str(image_path), \n",
    "    lightcurve_path=str(lightcurve_path)\n",
    ")\n",
    "with open(flare_path.parent.joinpath('{}_params.yaml'.format(sim_name)), 'w') as file:\n",
    "    yaml.dump(simulation_params, file, default_flow_style=False)"
   ]
  },
  {
   "cell_type": "code",
   "execution_count": 41,
   "id": "d82dc006-40a3-46d4-8b27-89fd8a7302ca",
   "metadata": {},
   "outputs": [
    {
     "name": "stdout",
     "output_type": "stream",
     "text": [
      "I mean: 0.29999999999999993  P mean:0.1427234614730399\n"
     ]
    },
    {
     "data": {
      "application/vnd.jupyter.widget-view+json": {
       "model_id": "df9c031fa7fb48149f520ed2cc030062",
       "version_major": 2,
       "version_minor": 0
      },
      "text/plain": [
       "Canvas(toolbar=Toolbar(toolitems=[('Home', 'Reset original view', 'home', 'home'), ('Back', 'Back to previous …"
      ]
     },
     "metadata": {},
     "output_type": "display_data"
    },
    {
     "data": {
      "application/vnd.jupyter.widget-view+json": {
       "model_id": "16813f5a8db2495b8181cea8607a39cb",
       "version_major": 2,
       "version_minor": 0
      },
      "text/plain": [
       "Canvas(toolbar=Toolbar(toolitems=[('Home', 'Reset original view', 'home', 'home'), ('Back', 'Back to previous …"
      ]
     },
     "metadata": {},
     "output_type": "display_data"
    },
    {
     "data": {
      "text/plain": [
       "<matplotlib.animation.FuncAnimation at 0x7f05702ee1c0>"
      ]
     },
     "execution_count": 41,
     "metadata": {},
     "output_type": "execute_result"
    }
   ],
   "source": [
    "%matplotlib widget\n",
    "print('I mean: {}  P mean:{}'.format(I, P))\n",
    "axes = bhnerf.visualization.plot_stokes_lc(lightcurves, ['I', 'Q', 'U'], t_frames, add_mean=True, plot_qu=True)\n",
    "plt.savefig(flare_path.parent.joinpath(sim_name + '_lightcurve.pdf'))\n",
    "\n",
    "fig, axes = plt.subplots(1, 3, figsize=(10, 3))\n",
    "bhnerf.visualization.animate_movies_synced(\n",
    "    image_plane.transpose('stokes',...), axes, output=flare_path.parent.joinpath(sim_name + '_image_plane.gif'))"
   ]
  },
  {
   "cell_type": "markdown",
   "id": "40bdc18e-d786-4270-acc3-835f3eda15e3",
   "metadata": {
    "tags": []
   },
   "source": [
    "## Noisy accretion lightcurves \n",
    "---\n",
    "Background accretion is generated as a Gaussian Random Field (GRF) using [pynoisy](https://github.com/aviadlevis/pynoisy)"
   ]
  },
  {
   "cell_type": "code",
   "execution_count": 6,
   "id": "4f39260f-d3b6-4a02-b9a6-b632aa0dde41",
   "metadata": {
    "tags": []
   },
   "outputs": [
    {
     "data": {
      "application/vnd.jupyter.widget-view+json": {
       "model_id": "c062ba32ef294aae84ef4bc8a1a2c14d",
       "version_major": 2,
       "version_minor": 0
      },
      "text/plain": [
       "seeds:   0%|          | 0/3 [00:00<?, ?it/s]"
      ]
     },
     "metadata": {},
     "output_type": "display_data"
    },
    {
     "data": {
      "application/vnd.jupyter.widget-view+json": {
       "model_id": "",
       "version_major": 2,
       "version_minor": 0
      },
      "text/plain": [
       "Q_frac:   0%|          | 0/3 [00:00<?, ?it/s]"
      ]
     },
     "metadata": {},
     "output_type": "display_data"
    },
    {
     "data": {
      "application/vnd.jupyter.widget-view+json": {
       "model_id": "",
       "version_major": 2,
       "version_minor": 0
      },
      "text/plain": [
       "  0%|          | 0/10 [00:00<?, ?it/s]"
      ]
     },
     "metadata": {},
     "output_type": "display_data"
    },
    {
     "name": "stdout",
     "output_type": "stream",
     "text": [
      "I mean: 2.400000000000001  P mean:0.5791513456652907  P std:0.024308007653421042\n"
     ]
    },
    {
     "data": {
      "application/vnd.jupyter.widget-view+json": {
       "model_id": "4da5b36230c44afc974b95e01b5c2a48",
       "version_major": 2,
       "version_minor": 0
      },
      "text/plain": [
       "Canvas(toolbar=Toolbar(toolitems=[('Home', 'Reset original view', 'home', 'home'), ('Back', 'Back to previous …"
      ]
     },
     "metadata": {},
     "output_type": "display_data"
    },
    {
     "data": {
      "application/vnd.jupyter.widget-view+json": {
       "model_id": "",
       "version_major": 2,
       "version_minor": 0
      },
      "text/plain": [
       "  0%|          | 0/10 [00:00<?, ?it/s]"
      ]
     },
     "metadata": {},
     "output_type": "display_data"
    },
    {
     "name": "stdout",
     "output_type": "stream",
     "text": [
      "I mean: 2.4  P mean:1.1582589595950872  P std:0.048700264032064795\n"
     ]
    },
    {
     "data": {
      "application/vnd.jupyter.widget-view+json": {
       "model_id": "40319d8686c74f53bf0bcb163bed36e6",
       "version_major": 2,
       "version_minor": 0
      },
      "text/plain": [
       "Canvas(toolbar=Toolbar(toolitems=[('Home', 'Reset original view', 'home', 'home'), ('Back', 'Back to previous …"
      ]
     },
     "metadata": {},
     "output_type": "display_data"
    },
    {
     "data": {
      "application/vnd.jupyter.widget-view+json": {
       "model_id": "",
       "version_major": 2,
       "version_minor": 0
      },
      "text/plain": [
       "  0%|          | 0/10 [00:00<?, ?it/s]"
      ]
     },
     "metadata": {},
     "output_type": "display_data"
    },
    {
     "name": "stdout",
     "output_type": "stream",
     "text": [
      "I mean: 2.400000000000001  P mean:1.7364301973628882  P std:0.07278528178709147\n"
     ]
    },
    {
     "data": {
      "application/vnd.jupyter.widget-view+json": {
       "model_id": "3a479200136047d1adb4c4d492060fe1",
       "version_major": 2,
       "version_minor": 0
      },
      "text/plain": [
       "Canvas(toolbar=Toolbar(toolitems=[('Home', 'Reset original view', 'home', 'home'), ('Back', 'Back to previous …"
      ]
     },
     "metadata": {},
     "output_type": "display_data"
    },
    {
     "data": {
      "application/vnd.jupyter.widget-view+json": {
       "model_id": "",
       "version_major": 2,
       "version_minor": 0
      },
      "text/plain": [
       "Q_frac:   0%|          | 0/3 [00:00<?, ?it/s]"
      ]
     },
     "metadata": {},
     "output_type": "display_data"
    },
    {
     "data": {
      "application/vnd.jupyter.widget-view+json": {
       "model_id": "",
       "version_major": 2,
       "version_minor": 0
      },
      "text/plain": [
       "  0%|          | 0/10 [00:00<?, ?it/s]"
      ]
     },
     "metadata": {},
     "output_type": "display_data"
    },
    {
     "name": "stdout",
     "output_type": "stream",
     "text": [
      "I mean: 2.4  P mean:0.579660486819993  P std:0.019561454531861498\n"
     ]
    },
    {
     "data": {
      "application/vnd.jupyter.widget-view+json": {
       "model_id": "16eaa0d5acb9430dbaab2ef458d33958",
       "version_major": 2,
       "version_minor": 0
      },
      "text/plain": [
       "Canvas(toolbar=Toolbar(toolitems=[('Home', 'Reset original view', 'home', 'home'), ('Back', 'Back to previous …"
      ]
     },
     "metadata": {},
     "output_type": "display_data"
    },
    {
     "data": {
      "application/vnd.jupyter.widget-view+json": {
       "model_id": "",
       "version_major": 2,
       "version_minor": 0
      },
      "text/plain": [
       "  0%|          | 0/10 [00:00<?, ?it/s]"
      ]
     },
     "metadata": {},
     "output_type": "display_data"
    },
    {
     "name": "stdout",
     "output_type": "stream",
     "text": [
      "I mean: 2.3999999999999995  P mean:1.1583342697892967  P std:0.039552912592855885\n"
     ]
    },
    {
     "data": {
      "application/vnd.jupyter.widget-view+json": {
       "model_id": "8c51b663aee045ac89a0686a3d7f1b4e",
       "version_major": 2,
       "version_minor": 0
      },
      "text/plain": [
       "Canvas(toolbar=Toolbar(toolitems=[('Home', 'Reset original view', 'home', 'home'), ('Back', 'Back to previous …"
      ]
     },
     "metadata": {},
     "output_type": "display_data"
    },
    {
     "data": {
      "application/vnd.jupyter.widget-view+json": {
       "model_id": "",
       "version_major": 2,
       "version_minor": 0
      },
      "text/plain": [
       "  0%|          | 0/10 [00:00<?, ?it/s]"
      ]
     },
     "metadata": {},
     "output_type": "display_data"
    },
    {
     "name": "stdout",
     "output_type": "stream",
     "text": [
      "I mean: 2.4000000000000004  P mean:1.7390011034379513  P std:0.059072929385502314\n"
     ]
    },
    {
     "data": {
      "application/vnd.jupyter.widget-view+json": {
       "model_id": "ce1cce6a0f934716afa7374c6b53fa75",
       "version_major": 2,
       "version_minor": 0
      },
      "text/plain": [
       "Canvas(toolbar=Toolbar(toolitems=[('Home', 'Reset original view', 'home', 'home'), ('Back', 'Back to previous …"
      ]
     },
     "metadata": {},
     "output_type": "display_data"
    },
    {
     "data": {
      "application/vnd.jupyter.widget-view+json": {
       "model_id": "",
       "version_major": 2,
       "version_minor": 0
      },
      "text/plain": [
       "Q_frac:   0%|          | 0/3 [00:00<?, ?it/s]"
      ]
     },
     "metadata": {},
     "output_type": "display_data"
    },
    {
     "data": {
      "application/vnd.jupyter.widget-view+json": {
       "model_id": "",
       "version_major": 2,
       "version_minor": 0
      },
      "text/plain": [
       "  0%|          | 0/10 [00:00<?, ?it/s]"
      ]
     },
     "metadata": {},
     "output_type": "display_data"
    },
    {
     "name": "stdout",
     "output_type": "stream",
     "text": [
      "I mean: 2.4  P mean:0.5786511762333004  P std:0.03864865308270003\n"
     ]
    },
    {
     "data": {
      "application/vnd.jupyter.widget-view+json": {
       "model_id": "fe35b3943b074175a3c25b4a743b12cb",
       "version_major": 2,
       "version_minor": 0
      },
      "text/plain": [
       "Canvas(toolbar=Toolbar(toolitems=[('Home', 'Reset original view', 'home', 'home'), ('Back', 'Back to previous …"
      ]
     },
     "metadata": {},
     "output_type": "display_data"
    },
    {
     "data": {
      "application/vnd.jupyter.widget-view+json": {
       "model_id": "",
       "version_major": 2,
       "version_minor": 0
      },
      "text/plain": [
       "  0%|          | 0/10 [00:00<?, ?it/s]"
      ]
     },
     "metadata": {},
     "output_type": "display_data"
    },
    {
     "name": "stdout",
     "output_type": "stream",
     "text": [
      "I mean: 2.4  P mean:1.1562372538967143  P std:0.07682243299564999\n"
     ]
    },
    {
     "data": {
      "application/vnd.jupyter.widget-view+json": {
       "model_id": "2457238ec3a54fed91501eac540d6140",
       "version_major": 2,
       "version_minor": 0
      },
      "text/plain": [
       "Canvas(toolbar=Toolbar(toolitems=[('Home', 'Reset original view', 'home', 'home'), ('Back', 'Back to previous …"
      ]
     },
     "metadata": {},
     "output_type": "display_data"
    },
    {
     "data": {
      "application/vnd.jupyter.widget-view+json": {
       "model_id": "",
       "version_major": 2,
       "version_minor": 0
      },
      "text/plain": [
       "  0%|          | 0/10 [00:00<?, ?it/s]"
      ]
     },
     "metadata": {},
     "output_type": "display_data"
    },
    {
     "name": "stdout",
     "output_type": "stream",
     "text": [
      "I mean: 2.4  P mean:1.7368134909980466  P std:0.11600897604873163\n"
     ]
    },
    {
     "data": {
      "application/vnd.jupyter.widget-view+json": {
       "model_id": "d4612261506c4ae5aa97ba415e10910c",
       "version_major": 2,
       "version_minor": 0
      },
      "text/plain": [
       "Canvas(toolbar=Toolbar(toolitems=[('Home', 'Reset original view', 'home', 'home'), ('Back', 'Back to previous …"
      ]
     },
     "metadata": {},
     "output_type": "display_data"
    }
   ],
   "source": [
    "I_flux = 2.4\n",
    "sim_base_name = 'sim2'\n",
    "\n",
    "Q_fracs = [0.25, 0.5, 0.75]\n",
    "seeds = [1, 2, 3]\n",
    "\n",
    "for seed in tqdm(seeds, desc='seeds'):\n",
    "    flare_path = Path('../data/synthetic_lightcurves/accretion_grfs/emission_3d_seed_{}.nc'.format(seed))\n",
    "    emission = xr.load_dataarray(flare_path)\n",
    "    for Q_frac in tqdm(Q_fracs, desc='Q_frac', leave=False):\n",
    "        simulation_params['model'].update(I_flux=I_flux, Q_frac=Q_frac)\n",
    "        simulation_params['name'] = '{}_seed{}_Q_{:1.2f}'.format(sim_base_name, seed, Q_frac)\n",
    "        locals().update(simulation_params['model'])\n",
    "\n",
    "        # Random sample pixel ray positions and integrate to avoid numerical artifacts\n",
    "        image_plane = 0\n",
    "        for i in tqdm(range(num_subrays), leave=False):\n",
    "            # Compute geodesics\n",
    "            geos = bhnerf.kgeo.image_plane_geos(\n",
    "                spin, np.deg2rad(inclination), \n",
    "                num_alpha=num_alpha, num_beta=num_beta, \n",
    "                alpha_range=[-fov_M/2, fov_M/2],\n",
    "                beta_range=[-fov_M/2, fov_M/2],\n",
    "                randomize_subpixel_rays=True\n",
    "            )\n",
    "            \n",
    "            # Keplerian velocity field\n",
    "            rot_sign = {'cw': -1, 'ccw': 1}\n",
    "            Omega = rot_sign[Omega_dir] * np.sqrt(geos.M) / (geos.r**(3/2) + geos.spin * np.sqrt(geos.M))\n",
    "            umu = bhnerf.kgeo.azimuthal_velocity_vector(geos, Omega)\n",
    "            g = bhnerf.kgeo.doppler_factor(geos, umu)\n",
    "\n",
    "            # Magnitude normalized magnetic field in fluid-frame\n",
    "            b = bhnerf.kgeo.magnetic_field_fluid_frame(geos, umu, **b_consts)\n",
    "            z_width = 4                                      # maximum disk width [M]\n",
    "            rmax = fov_M / 2                                 # maximum recovery radius\n",
    "            rmin = float(bhnerf.constants.isco_pro(spin))    # minimum recovery radius\n",
    "            domain = np.bitwise_and(np.bitwise_and(np.abs(geos.z) < z_width, geos.r > rmin), geos.r < rmax)\n",
    "            b_mean = np.sqrt(np.sum(b[domain]**2, axis=-1)).mean()\n",
    "            b /= b_mean\n",
    "\n",
    "            # Polarized emission factors (including parallel transport)\n",
    "            J = np.nan_to_num(bhnerf.kgeo.parallel_transport(geos, umu, g, b, Q_frac=Q_frac, V_frac=0), 0.0)\n",
    "\n",
    "            image_plane += (1/num_subrays) * bhnerf.emission.image_plane_dynamics(emission, geos, Omega, 0.0, 0.0, J, slow_light=False)\n",
    "\n",
    "        image_plane = xr.DataArray(\n",
    "            image_plane, \n",
    "            name='Image Plane',\n",
    "            dims=['t', 'stokes', 'beta', 'alpha'], \n",
    "            coords={'t': t_frames, 'stokes': ['I', 'Q', 'U'], 'beta': geos.beta, 'alpha': geos.alpha})\n",
    "        lightcurves = image_plane.sum(['alpha','beta'])\n",
    "\n",
    "        # Normalize image/plane and lightcurves\n",
    "        I, P = lc_average_fluxes(lightcurves) \n",
    "        emission_scale = I_flux / I\n",
    "        image_plane *= emission_scale\n",
    "        lightcurves *= emission_scale\n",
    "        I, P_mean = lc_average_fluxes(lightcurves)\n",
    "        P_std = float(np.std(lightcurves[:,1] + 1j*lightcurves[:,2]))\n",
    "\n",
    "        # Save image_plane and lightcurves\n",
    "        sim_name = simulation_params['name']\n",
    "        image_path = flare_path.parent.joinpath(sim_name+'_image_plane.nc')\n",
    "        lightcurve_path = flare_path.parent.joinpath(sim_name+'_lightcurve.csv')\n",
    "        image_plane.to_netcdf(image_path)\n",
    "        lightcurves.to_pandas().to_csv(lightcurve_path)\n",
    "\n",
    "        # Update and save simulation parameters\n",
    "        simulation_params['model'].update(emission_scale=emission_scale, P_flux=P_mean, P_std=P_std)\n",
    "        simulation_params.update(\n",
    "            flare_path=str(flare_path),\n",
    "            image_path=str(image_path), \n",
    "            lightcurve_path=str(lightcurve_path)\n",
    "        )\n",
    "        with open(flare_path.parent.joinpath('{}_params.yaml'.format(sim_name)), 'w') as file:\n",
    "            yaml.dump(simulation_params, file, default_flow_style=False)\n",
    "\n",
    "        %matplotlib widget\n",
    "        print('I mean: {}  P mean:{}  P std:{}'.format(I, P_mean, P_std))\n",
    "        axes = bhnerf.visualization.plot_stokes_lc(lightcurves, ['I', 'Q', 'U'], t_frames, add_mean=True, plot_qu=True)\n",
    "        plt.savefig(flare_path.parent.joinpath(sim_name + '_lightcurve.pdf'))"
   ]
  },
  {
   "cell_type": "code",
   "execution_count": 44,
   "id": "b29b2a81-3d19-48e1-8096-0d174844c2a4",
   "metadata": {},
   "outputs": [
    {
     "data": {
      "application/vnd.jupyter.widget-view+json": {
       "model_id": "b96cccc292f1401f9dc52da591aabb8a",
       "version_major": 2,
       "version_minor": 0
      },
      "text/plain": [
       "Canvas(toolbar=Toolbar(toolitems=[('Home', 'Reset original view', 'home', 'home'), ('Back', 'Back to previous …"
      ]
     },
     "metadata": {},
     "output_type": "display_data"
    },
    {
     "data": {
      "text/plain": [
       "<matplotlib.animation.FuncAnimation at 0x7f593112b3d0>"
      ]
     },
     "execution_count": 44,
     "metadata": {},
     "output_type": "execute_result"
    }
   ],
   "source": [
    "%matplotlib widget\n",
    "dynamic_range = 1.e3\n",
    "gamma = 0.1\n",
    "gamma_fn = lambda movie : (movie + np.max(movie) / dynamic_range)**(gamma)\n",
    "log_fn = lambda movie: np.log10(movie + np.max(movie) / dynamic_range)\n",
    "log_fn(image_plane.sel(stokes='I')).visualization.animate()"
   ]
  },
  {
   "cell_type": "markdown",
   "id": "816f6b79-12f0-48d4-8a83-8567ef82026f",
   "metadata": {
    "tags": []
   },
   "source": [
    "# Combine lightcurves\n",
    "---\n",
    "Combine flare with stochastic background accretion. \\\n",
    "Remove the time-average background component for intrinsic lightcurves"
   ]
  },
  {
   "cell_type": "code",
   "execution_count": 57,
   "id": "aabaded3-01ab-4573-ac4f-2644a7369274",
   "metadata": {},
   "outputs": [
    {
     "data": {
      "application/vnd.jupyter.widget-view+json": {
       "model_id": "16d328ff6658466b8e4d01bc5f9ce822",
       "version_major": 2,
       "version_minor": 0
      },
      "text/plain": [
       "Canvas(toolbar=Toolbar(toolitems=[('Home', 'Reset original view', 'home', 'home'), ('Back', 'Back to previous …"
      ]
     },
     "metadata": {},
     "output_type": "display_data"
    },
    {
     "data": {
      "application/vnd.jupyter.widget-view+json": {
       "model_id": "6bdfe545c3cc4fceb4534a75b283b9c0",
       "version_major": 2,
       "version_minor": 0
      },
      "text/plain": [
       "Canvas(toolbar=Toolbar(toolitems=[('Home', 'Reset original view', 'home', 'home'), ('Back', 'Back to previous …"
      ]
     },
     "metadata": {},
     "output_type": "display_data"
    },
    {
     "data": {
      "application/vnd.jupyter.widget-view+json": {
       "model_id": "4f92cbe51e79486bb7d9f188f1cbcb6c",
       "version_major": 2,
       "version_minor": 0
      },
      "text/plain": [
       "Canvas(toolbar=Toolbar(toolitems=[('Home', 'Reset original view', 'home', 'home'), ('Back', 'Back to previous …"
      ]
     },
     "metadata": {},
     "output_type": "display_data"
    }
   ],
   "source": [
    "sim_name = 'sim2'\n",
    "disk_names = ['{}_seed1_Q_0.25'.format(sim_name), '{}_seed2_Q_0.50'.format(sim_name), '{}_seed3_Q_0.75'.format(sim_name)]\n",
    "flare_name = '{}_quadrant_1'.format(sim_name)\n",
    "stokes = ['I', 'Q', 'U']\n",
    "\n",
    "%matplotlib widget\n",
    "for disk_name in disk_names:\n",
    "    out_sim_name = flare_name + disk_name.split(sim_name)[-1] + '_intrinsic'\n",
    "    flare_path = Path('../data/synthetic_lightcurves/two_gaussians/{}_lightcurve.csv'.format(flare_name))\n",
    "    flare = pd.read_csv(flare_path)\n",
    "    disk_path = '../data/synthetic_lightcurves/accretion_grfs/{}_lightcurve.csv'.format(disk_name)\n",
    "    disk = pd.read_csv(disk_path)\n",
    "    t = flare['t']\n",
    "\n",
    "    # Remove the mean disk flux\n",
    "    lightcurves = flare + disk - np.mean(disk, axis=0)\n",
    "    lightcurves['t'] = t\n",
    "\n",
    "    axes = bhnerf.visualization.plot_stokes_lc(np.array(flare[stokes]), stokes, t, plot_qu=True, label='flare')\n",
    "    bhnerf.visualization.plot_stokes_lc(np.array(disk[stokes]), stokes, t, plot_qu=True, axes=axes, label='disk')\n",
    "    bhnerf.visualization.plot_stokes_lc(np.array(lightcurves[stokes]), stokes, t, plot_qu=True, axes=axes, label='total', add_mean=True)\n",
    "    axes[0].legend()\n",
    "\n",
    "    plt.savefig(flare_path.parent.joinpath(out_sim_name + '_lightcurve.pdf'))\n",
    "    lightcurves.to_csv(flare_path.parent.joinpath(out_sim_name + '_lightcurve.csv'))\n",
    "\n",
    "    with open(flare_path.parent.joinpath('{}_params.yaml'.format(flare_name)), 'r') as stream:\n",
    "        simulation_params = yaml.load(stream, Loader=yaml.Loader)\n",
    "    simulation_params.update(\n",
    "        name=out_sim_name,\n",
    "        desc='Intrinsic (mean corrected) image fluxes with background accretion',\n",
    "        disk_path=disk_path, \n",
    "        lightcurve_path=str(flare_path.parent.joinpath(out_sim_name + '_lightcurve.csv')),\n",
    "    )\n",
    "\n",
    "    with open(flare_path.parent.joinpath('{}_params.yaml'.format(simulation_params['name'])), 'w') as file:\n",
    "        yaml.dump(simulation_params, file, default_flow_style=False)"
   ]
  }
 ],
 "metadata": {
  "kernelspec": {
   "display_name": "jax",
   "language": "python",
   "name": "jax"
  },
  "language_info": {
   "codemirror_mode": {
    "name": "ipython",
    "version": 3
   },
   "file_extension": ".py",
   "mimetype": "text/x-python",
   "name": "python",
   "nbconvert_exporter": "python",
   "pygments_lexer": "ipython3",
   "version": "3.9.6"
  }
 },
 "nbformat": 4,
 "nbformat_minor": 5
}
