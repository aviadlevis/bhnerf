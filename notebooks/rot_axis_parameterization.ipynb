{
 "cells": [
  {
   "cell_type": "markdown",
   "id": "14a3ac3c-0d93-491f-aa27-3a6388484dc3",
   "metadata": {
    "tags": []
   },
   "source": [
    "# Estimating hotspot(s) emission and rotational axis from visibilties. \n",
    "\n",
    "Notes:\n",
    "Inner most stable circular orbit (ISCO), for spin=0 with r_g=2 this is at 3M \\\n",
    "Overleaf notes: https://www.overleaf.com/project/60ff0ece5aa4f90d07f2a417"
   ]
  },
  {
   "cell_type": "code",
   "execution_count": 1,
   "id": "d450b1d8-b7b0-4731-a8f2-1a9772547f3a",
   "metadata": {
    "tags": []
   },
   "outputs": [
    {
     "name": "stderr",
     "output_type": "stream",
     "text": [
      "2021-10-01 11:05:49.255948: W tensorflow/stream_executor/platform/default/dso_loader.cc:64] Could not load dynamic library 'libcudart.so.11.0'; dlerror: libcudart.so.11.0: cannot open shared object file: No such file or directory; LD_LIBRARY_PATH: /.singularity.d/libs\n",
      "Matplotlib created a temporary config/cache directory at /tmp/matplotlib-jbz_hdvu because the default path (/home/jovyan/.cache/matplotlib) is not a writable directory; it is highly recommended to set the MPLCONFIGDIR environment variable to a writable directory, in particular to speed up the import of Matplotlib and to better support multiprocessing.\n"
     ]
    },
    {
     "name": "stdout",
     "output_type": "stream",
     "text": [
      "Welcome to eht-imaging! v 1.2.2 \n",
      "\n"
     ]
    }
   ],
   "source": [
    "import sys\n",
    "sys.path.append('../bhnerf')\n",
    "\n",
    "import os\n",
    "\n",
    "import jax\n",
    "from jax import random\n",
    "from jax import numpy as jnp\n",
    "import jax.scipy.ndimage as jnd\n",
    "import scipy.ndimage as nd\n",
    "\n",
    "os.environ['CUDA_VISIBLE_DEVICES'] = '0,1,2,3'\n",
    "\n",
    "import xarray as xr\n",
    "import flax\n",
    "from flax.training import train_state\n",
    "from flax.training import checkpoints\n",
    "import optax\n",
    "import numpy as np\n",
    "import matplotlib.pyplot as plt\n",
    "\n",
    "import utils, emission_utils, visualization, network_utils, observation_utils\n",
    "from network_utils import shard\n",
    "\n",
    "import ehtim as eh\n",
    "import ehtim.const_def as ehc\n",
    "from tensorboardX import SummaryWriter\n",
    "from datetime import datetime\n",
    "from tqdm.notebook import tqdm\n",
    "import ipyvolume as ipv\n",
    "from ipywidgets import interact\n",
    "import ipywidgets as widgets\n",
    "\n",
    "# from jax.config import config\n",
    "# config.update(\"jax_debug_nans\", True)\n",
    "%load_ext autoreload\n",
    "%autoreload 2"
   ]
  },
  {
   "cell_type": "code",
   "execution_count": 49,
   "id": "7a7ee3ff-8582-4d6b-b003-1120280d9e77",
   "metadata": {},
   "outputs": [
    {
     "name": "stdout",
     "output_type": "stream",
     "text": [
      "rotation axis: [ 0.5        0.        -0.8660254]\n"
     ]
    }
   ],
   "source": [
    "# Generate hotspot emission\n",
    "nt, nx, ny, nz = 64, 64, 64, 64\n",
    "nt_test = 64\n",
    "nspots = 1\n",
    "r_isco = 3.0 \n",
    "\n",
    "phi = 0.0            # azimuth angle (ccw from x-axis)\n",
    "theta = np.pi/3      # zenith angle (pi/2 = equatorial plane)\n",
    "orbit_radius = 3.5 \n",
    "std = .4 * np.ones_like(orbit_radius)\n",
    "initial_frame = emission_utils.generate_hotspots_3d(nx, ny, nz, theta, phi, orbit_radius, std, r_isco)\n",
    "\n",
    "nspots = 10\n",
    "rot_axis = np.array([np.cos(theta)*np.cos(phi), np.cos(theta)*np.sin(phi), -np.sin(theta)])\n",
    "initial_frame = emission_utils.generate_orbit_3d(initial_frame, nt, 1, rot_axis).isel(\n",
    "    t=np.random.choice(range(0, nt, 5), size=nspots)).sum('t')\n",
    "\n",
    "orbit_period = 3.5**(-3./2.) \n",
    "velocity_field = lambda r: (1.0 / orbit_period) * r**(-3/2)\n",
    "emission = emission_utils.generate_orbit_3d(initial_frame, nt, velocity_field, rot_axis)\n",
    "emission_test = emission_utils.generate_orbit_3d(initial_frame, nt_test, velocity_field, rot_axis)\n",
    "\n",
    "normalization_factor = 0.03\n",
    "emission *= normalization_factor\n",
    "emission_test *= normalization_factor\n",
    "\n",
    "print('rotation axis: {}'.format(rot_axis))"
   ]
  },
  {
   "cell_type": "code",
   "execution_count": 51,
   "id": "e4b94b2a-aefc-4a96-9164-259663012a7b",
   "metadata": {},
   "outputs": [],
   "source": [
    "# Save emission \n",
    "# outpath = 'emission/emission.phi{:1.2f}.theta{:1.2f}.radius{}.std{}.nspots{}_1'.format(phi, theta, orbit_radius, std, nspots)\n",
    "# outpath_test = 'emission/emission_test.phi{:1.2f}.theta{:1.2f}.radius{}.std{}.nspots{}_1'.format(phi, theta, orbit_radius, std, nspots)\n",
    "# emission.to_netcdf(outpath)\n",
    "# emission_test.to_netcdf(outpath_test)"
   ]
  },
  {
   "cell_type": "code",
   "execution_count": 4,
   "id": "f350ee74-fcb8-4251-b5b7-71326902a5d2",
   "metadata": {},
   "outputs": [],
   "source": [
    "# Load emission \n",
    "# emission = xr.load_dataarray('emission/emission.phi0.00.theta1.05.radius3.5.std0.4.nspots10')\n",
    "# emission_test = xr.load_dataarray('emission/emission_test.phi0.00.theta1.05.radius3.5.std0.4.nspots10')"
   ]
  },
  {
   "cell_type": "code",
   "execution_count": 59,
   "id": "8f59a81b-93f2-49c3-aa65-1d940726fdb0",
   "metadata": {},
   "outputs": [
    {
     "data": {
      "application/vnd.jupyter.widget-view+json": {
       "model_id": "d26a5093947b4ababe7ee318a929d5e4",
       "version_major": 2,
       "version_minor": 0
      },
      "text/plain": [
       "interactive(children=(IntSlider(value=0, description='t', max=63), Output()), _dom_classes=('widget-interact',…"
      ]
     },
     "metadata": {},
     "output_type": "display_data"
    }
   ],
   "source": [
    "extent = [(float(emission[dim].min()), float(emission[dim].max())) for dim in ('x', 'y', 'z')]\n",
    "@interact(t=widgets.IntSlider(min=0, max=emission.t.size-1, step=1, value=0))\n",
    "def plot_vol(t):\n",
    "    ipv.figure()\n",
    "    ipv.view(0, -60, distance=2.5)\n",
    "    ipv.volshow(emission.isel(t=t), extent=extent, memorder='F', level=[0, 0.2, 0.7], opacity=[0, 0.2, 0.3], controls=False)\n",
    "    ipv.show()"
   ]
  },
  {
   "cell_type": "code",
   "execution_count": 52,
   "id": "5c79513a-f35c-4f5a-b564-3f6a49a4871f",
   "metadata": {},
   "outputs": [],
   "source": [
    "# Generate image plane fluxes\n",
    "# sensor = xr.load_dataset('../sensors/a0.00_th1.57_ngeo100_npix4096.nc')\n",
    "sensor = xr.load_dataset('../sensors/a0.00_th1.57_ngeo100_npix4096.nc')\n",
    "sensor = sensor.where(sensor.r < 5)\n",
    "r_min = sensor.r.min().data   # Minimum supervision radius\n",
    "sensor = sensor.fillna(0.0)\n",
    "\n",
    "image_plane = emission_utils.integrate_rays(emission, sensor).data.reshape(nt, sensor.num_alpha, sensor.num_beta)\n",
    "image_plane_test = emission_utils.integrate_rays(emission_test, sensor).data.reshape(nt_test, sensor.num_alpha, sensor.num_beta)"
   ]
  },
  {
   "cell_type": "code",
   "execution_count": 53,
   "id": "a1fd80d5-7c7e-48f5-8b9b-94ab03816428",
   "metadata": {},
   "outputs": [
    {
     "name": "stderr",
     "output_type": "stream",
     "text": [
      "/scratch/imaging/projects/bh_nerf/envs/jax/lib/python3.9/site-packages/ehtim/obsdata.py:508: VisibleDeprecationWarning: Creating an ndarray from ragged nested sequences (which is a list-or-tuple of lists-or-tuples-or ndarrays with different lengths or shapes) is deprecated. If you meant to do this, you must specify 'dtype=object' when creating the ndarray\n",
      "  return np.array(datalist)\n"
     ]
    },
    {
     "data": {
      "application/vnd.jupyter.widget-view+json": {
       "model_id": "d11e22978c784909960aed12008ac50d",
       "version_major": 2,
       "version_minor": 0
      },
      "text/plain": [
       "Canvas(toolbar=Toolbar(toolitems=[('Home', 'Reset original view', 'home', 'home'), ('Back', 'Back to previous …"
      ]
     },
     "metadata": {},
     "output_type": "display_data"
    }
   ],
   "source": [
    "fov = 85.0         # field of view in uas \n",
    "array_name = 'ngEHT'\n",
    "\n",
    "obs_params = {\n",
    "    'array': eh.array.load_txt('../eht_arrays/{}.txt'.format(array_name)),\n",
    "    'nt': 128,      # number of time samples \n",
    "    'tstart': 4.0,  # start of observations (UTC hr)\n",
    "    'tstop': 15.5,  # end of observation (UTC hr)\n",
    "    'tint': 60.0    # integration time\n",
    "}\n",
    "obs_empty = observation_utils.empty_eht_obs(**obs_params)\n",
    "obs_args = {\n",
    "    'psize': fov / sensor.num_alpha * ehc.RADPERUAS,\n",
    "    'ra': obs_empty.ra, \n",
    "    'dec': obs_empty.dec,\n",
    "    'rf': obs_empty.rf, \n",
    "    'mjd': obs_empty.mjd\n",
    "}\n",
    "\n",
    "%matplotlib widget\n",
    "observation_utils.plot_uv_coverage(obs_empty)"
   ]
  },
  {
   "cell_type": "code",
   "execution_count": 54,
   "id": "accf96d1-f7cb-46a1-af87-5bb2ca03a22e",
   "metadata": {},
   "outputs": [
    {
     "name": "stdout",
     "output_type": "stream",
     "text": [
      "Producing clean visibilities from movie with fast FT . . . \n",
      "Producing clean visibilities from movie with fast FT . . . \n"
     ]
    }
   ],
   "source": [
    "# Generate visibility measurements\n",
    "times = np.linspace(obs_params['tstart'], obs_params['tstop'], nt)\n",
    "movie = eh.movie.Movie(image_plane, times, **obs_args)\n",
    "obs = movie.observe_same_nonoise(obs_empty, ttype='fast')\n",
    "\n",
    "times_test = np.linspace(obs_params['tstart'], obs_params['tstop'], nt_test)\n",
    "movie_test = eh.movie.Movie(image_plane, times_test, **obs_args)\n",
    "obs_test = movie_test.observe_same_nonoise(obs_empty, ttype='fast')\n",
    "\n",
    "measurements = observation_utils.padded_obs(obs, 'vis', fill_value=0.0)\n",
    "measurements_test = observation_utils.padded_obs(obs_test, 'vis', fill_value=0.0)\n",
    "uv = np.stack((observation_utils.padded_obs(obs, 'u'), \n",
    "               observation_utils.padded_obs(obs, 'v')), axis=2)\n",
    "\n",
    "obs_times = np.array([np.mean(obsdata['time'][0]) for obsdata in obs.tlist()])"
   ]
  },
  {
   "cell_type": "code",
   "execution_count": 55,
   "id": "004931a0-50ee-4f23-85d9-6ec111ff4a07",
   "metadata": {},
   "outputs": [
    {
     "data": {
      "application/vnd.jupyter.widget-view+json": {
       "model_id": "e2068d86616640508fbdf2d312f5f6da",
       "version_major": 2,
       "version_minor": 0
      },
      "text/plain": [
       "Canvas(toolbar=Toolbar(toolitems=[('Home', 'Reset original view', 'home', 'home'), ('Back', 'Back to previous …"
      ]
     },
     "metadata": {},
     "output_type": "display_data"
    },
    {
     "name": "stderr",
     "output_type": "stream",
     "text": [
      "/scratch/imaging/projects/bh_nerf/bhNeRF/notebooks/../bhnerf/visualization.py:167: MatplotlibDeprecationWarning: Starting from Matplotlib 3.6, colorbar() will steal space from the mappable's axes, rather than from the current axes, to place the colorbar.  To silence this warning, explicitly pass the 'ax' argument to colorbar().\n",
      "  fig.colorbar(im)\n",
      "WARNING:matplotlib.animation:MovieWriter imagemagick unavailable; using Pillow instead.\n"
     ]
    }
   ],
   "source": [
    "# Visualize radiance measurements \n",
    "%matplotlib widget\n",
    "\n",
    "fig, ax = plt.subplots(1,2, figsize=(9.5,4))\n",
    "image_plane_visualization = xr.DataArray(image_plane, dims=['t', 'alpha', 'beta'])\n",
    "anim = image_plane_visualization.utils_visualization.animate(ax=ax[0])\n",
    "obs.plotall('uvdist', 'amp', axis=ax[1], ebar=False)\n",
    "outpath = 'gifs/{}.measurements.fov{:2.1f}.nspots{:d}.theta_{:2.0f}.phi_{:2.0f}.gif'.format(\n",
    "    array_name, fov, nspots, np.rad2deg(theta), np.rad2deg(phi))\n",
    "# anim.save(outpath, writer='imagemagick', fps=10)"
   ]
  },
  {
   "cell_type": "code",
   "execution_count": 56,
   "id": "bf18daf3-00ef-4232-81d1-0ba48a800005",
   "metadata": {},
   "outputs": [],
   "source": [
    "def intensity_to_nchw(intensity, cmap='viridis', gamma=0.5):\n",
    "    cm = plt.get_cmap(cmap)\n",
    "    norm_images = ( (intensity - np.min(intensity)) / (np.max(intensity) - np.min(intensity)) )**gamma\n",
    "    nchw_images = np.moveaxis(cm(norm_images)[...,:3], (0, 1, 2, 3), (3, 2, 0, 1))\n",
    "    return nchw_images\n",
    "\n",
    "def train_network(sensor, emission, emission_test, velocity_field, obs_times, hparams, runname, \n",
    "                  log_period=100, save_period=10000, x_res_vis=64, y_res_vis=64, z_res_vis=64):\n",
    "    \n",
    "    tstart = obs_times[0]\n",
    "    tstop = obs_times[-1]\n",
    "\n",
    "    # Training / testing coordinates\n",
    "    train_coords = network_utils.get_input_coords(sensor, t_array=obs_times, batch='t')\n",
    "    t, x, y, z, d = train_coords.values()\n",
    "    train_vis = measurements\n",
    "\n",
    "    test_coords = network_utils.get_input_coords(sensor, t_array=obs_times, batch='t')\n",
    "    test_vis = measurements_test\n",
    "    t_test, x_test, y_test, z_test, d_test = test_coords.values()\n",
    "\n",
    "    # Emission visualization inputs\n",
    "    t_res_vis = hparams['batchsize']\n",
    "    emission_extent = [emission.x[0], emission.x[-1], emission.y[0], emission.y[-1], emission.z[0], emission.z[-1]]\n",
    "    t_vis, x_vis, y_vis, z_vis  = np.meshgrid(np.full(t_res_vis, fill_value=tstart), \n",
    "                                              np.linspace(emission_extent[0], emission_extent[1], x_res_vis),\n",
    "                                              np.linspace(emission_extent[2], emission_extent[3], y_res_vis),\n",
    "                                              np.linspace(emission_extent[4], emission_extent[5], x_res_vis),\n",
    "                                              indexing='ij')\n",
    "\n",
    "    d_vis = np.ones_like(y_vis)                  # meaningless placeholder for emission visualization\n",
    "\n",
    "    # Model setup and initialization\n",
    "    rng = jax.random.PRNGKey(1)\n",
    "    predictor = network_utils.PREDICT_EMISSION_AND_MLP_ROTAXIS_3D_FROM_VIS(posenc_deg=hparams['posenc_deg'])\n",
    "    params = predictor.init(rng, x[:1, ...], y[:1, ...], z[:1, ...], t[:1, ...], velocity_field, tstart, tstop)['params']\n",
    "\n",
    "    def flattened_traversal(fn):\n",
    "        def mask(data):\n",
    "            flat = flax.traverse_util.flatten_dict(data)\n",
    "            return flax.traverse_util.unflatten_dict({k: fn(k, v) for k, v in flat.items()})\n",
    "        return mask\n",
    "\n",
    "    tx = optax.chain(\n",
    "        optax.masked(optax.adam(learning_rate=hparams['lr_axis']),\n",
    "                     mask=flattened_traversal(lambda path, _: path[-1] == 'axis')),\n",
    "        optax.masked(optax.adam(learning_rate=optax.polynomial_schedule(hparams['lr_init'], hparams['lr_final'], 1, hparams['num_iters'])),\n",
    "                     mask=flattened_traversal(lambda path, _: path[-1] != 'axis')),\n",
    "    )\n",
    "\n",
    "    state = train_state.TrainState.create(apply_fn=predictor.apply, params=params.unfreeze(), tx=tx)  # TODO(pratul): this unfreeze feels sketchy\n",
    "    \n",
    "    if np.isscalar(save_period):\n",
    "        checkpoint_dir = 'checkpoints/{}'.format(runname)\n",
    "        state = checkpoints.restore_checkpoint(checkpoint_dir, state)\n",
    "\n",
    "    train_pstep = jax.pmap(predictor.train_step, axis_name='batch', in_axes=(None, None, 0, 0, 0, 0, 0, 0, None, None, None, 0, 0, 0), static_broadcasted_argnums=(0))\n",
    "    eval_pstep = jax.pmap(predictor.eval_step, axis_name='batch', in_axes=(None, None, 0, 0, 0, 0, 0, 0, None, None, None, 0, 0, 0), static_broadcasted_argnums=(0))\n",
    "    rand_key = jax.random.split(rng, jax.local_device_count())\n",
    "    state = flax.jax_utils.replicate(state)\n",
    "\n",
    "    # TensorBoard logging\n",
    "    time = datetime.now().strftime('%Y-%m-%d.%H:%M:%S')\n",
    "    logdir = 'runs/{}.{}'.format(runname, time)\n",
    "    \n",
    "    with SummaryWriter(logdir=logdir) as writer:\n",
    "\n",
    "        # Log ground-truth data   \n",
    "        %matplotlib inline\n",
    "        images = intensity_to_nchw(emission.isel(t=0))\n",
    "        writer.add_images('emission/true', images, global_step=0)\n",
    "\n",
    "        for i in tqdm(range(1, hparams['num_iters']+1), desc='iteration'):\n",
    "\n",
    "            # Testing and Visualization\n",
    "            if (i == 1) or (i % log_period) == 0:\n",
    "                batch_inds = np.random.choice(range(x.shape[0]), hparams['batchsize'], replace=False)\n",
    "                loss_test, _, _, _, _, _ = eval_pstep(\n",
    "                    velocity_field, i, shard(x[batch_inds, ...]), shard(y[batch_inds, ...]), shard(z[batch_inds, ...]), \n",
    "                    shard(d[batch_inds, ...]), shard(t[batch_inds, ...]), shard(uv[batch_inds, ...]),\n",
    "                    fov, tstart, tstop, shard(test_vis[batch_inds,...]), state, rand_key\n",
    "                )\n",
    "                writer.add_scalar('log loss/test', np.log10(np.mean(loss_test)), global_step=i)\n",
    "\n",
    "                # Log prediction and estimate\n",
    "                _, _, emission_vis, _, axis_estimation, _ = eval_pstep(\n",
    "                    velocity_field, i, shard(x_vis), shard(y_vis), shard(z_vis), shard(d_vis), shard(t_vis),\n",
    "                    shard(uv[batch_inds, ...]), fov, tstart, tstop, shard(test_vis[batch_inds,...]), state, rand_key\n",
    "                )\n",
    "                axis_estimation = axis_estimation[0] / np.sqrt(np.dot(axis_estimation[0], axis_estimation[0]))\n",
    "                emission_vis = np.reshape(emission_vis[0,0], [x_res_vis, y_res_vis, z_res_vis])\n",
    "                emission_vis = jnp.where(x_vis**2 + y_vis**2 + z_vis**2 >= hparams['r_min']**2, emission_vis, jnp.zeros_like(emission_vis))\n",
    "                \n",
    "                # Log emission and rotation axis\n",
    "                images = intensity_to_nchw(emission_vis[0])\n",
    "                writer.add_images('emission/estimate', images, global_step=i)\n",
    "                writer.add_scalar('rotation/dot_product', np.dot(rot_axis, axis_estimation), global_step=i)\n",
    "                writer.add_scalar('rotation/norm', np.sqrt(np.dot(axis_estimation, axis_estimation)), global_step=i)\n",
    "                writer.add_scalar('rotation/x', axis_estimation[0], global_step=i)\n",
    "                writer.add_scalar('rotation/y', axis_estimation[1], global_step=i)\n",
    "                writer.add_scalar('rotation/z', axis_estimation[2], global_step=i)\n",
    "                \n",
    "            # Training\n",
    "            batch_inds = np.random.choice(range(x.shape[0]), hparams['batchsize'], replace=False)\n",
    "            loss_train, state, _, _, _, rand_key = train_pstep(\n",
    "                velocity_field, i, shard(x[batch_inds, ...]), shard(y[batch_inds, ...]), shard(z[batch_inds, ...]), \n",
    "                shard(d[batch_inds, ...]), shard(t[batch_inds, ...]), shard(uv[batch_inds, ...]), fov, tstart, tstop,\n",
    "                shard(train_vis[batch_inds, ...]), state, rand_key\n",
    "            )\n",
    "            writer.add_scalar('log loss/train', np.log10(np.mean(loss_train)), global_step=i)\n",
    "    \n",
    "            \n",
    "            if np.isscalar(save_period) and ((i % save_period == 0) or (i == hparams['num_iters'])):\n",
    "                state_to_save = jax.device_get(jax.tree_map(lambda x: x[0], state))\n",
    "                checkpoints.save_checkpoint(checkpoint_dir, state_to_save, int(i), keep=5)\n",
    "            \n",
    "    return state, emission_vis, axis_estimation"
   ]
  },
  {
   "cell_type": "code",
   "execution_count": 57,
   "id": "13816b88-28b5-468e-8af4-7b28aca7e84f",
   "metadata": {},
   "outputs": [
    {
     "name": "stderr",
     "output_type": "stream",
     "text": [
      "/scratch/imaging/projects/bh_nerf/envs/jax/lib/python3.9/site-packages/jax/lib/xla_bridge.py:390: UserWarning: jax.host_count has been renamed to jax.process_count. This alias will eventually be removed; please update your code.\n",
      "  warnings.warn(\n",
      "/scratch/imaging/projects/bh_nerf/envs/jax/lib/python3.9/site-packages/jax/lib/xla_bridge.py:377: UserWarning: jax.host_id has been renamed to jax.process_index. This alias will eventually be removed; please update your code.\n",
      "  warnings.warn(\n"
     ]
    },
    {
     "data": {
      "application/vnd.jupyter.widget-view+json": {
       "model_id": "92fd957bc75a424e96601e95ea19f77c",
       "version_major": 2,
       "version_minor": 0
      },
      "text/plain": [
       "iteration:   0%|          | 0/50000 [00:00<?, ?it/s]"
      ]
     },
     "metadata": {},
     "output_type": "display_data"
    }
   ],
   "source": [
    "# Training parameters\n",
    "hparams = {\n",
    "    'num_iters': 50000,\n",
    "    'lr_init': 1e-4,\n",
    "    'lr_final': 1e-6,\n",
    "    'lr_axis': 1e-2,\n",
    "    'posenc_deg': 3,\n",
    "    'batchsize': 8,\n",
    "    'r_min': r_min\n",
    "}\n",
    "runname = '{}/rot_axis_MLP.fov{}.batch{}.phi{:2.1f}.theta{:2.1f}.nspots{}'.format(\n",
    "    array_name, fov, hparams['batchsize'], np.rad2deg(phi), np.rad2deg(theta), nspots\n",
    ")\n",
    "state, emission_vis, rot_axis_est = train_network(\n",
    "    sensor, emission, emission_test, velocity_field, obs_times, hparams, \n",
    "    runname=runname, log_period=100, save_period=5000, x_res_vis=64, y_res_vis=64, z_res_vis=64\n",
    ")\n",
    "emission_estimate = emission_utils.generate_orbit_3d(\n",
    "    xr.DataArray(emission_vis[0], coords=initial_frame.coords), nt, velocity_field, rot_axis_est)"
   ]
  },
  {
   "cell_type": "code",
   "execution_count": 31,
   "id": "5b461b0c-4611-4c26-8750-2507e2f8d454",
   "metadata": {},
   "outputs": [],
   "source": [
    "emission_estimate = emission_utils.generate_orbit_3d(\n",
    "    xr.DataArray(emission_vis[0], coords=initial_frame.coords), nt, velocity_field, rot_axis_est)"
   ]
  },
  {
   "cell_type": "code",
   "execution_count": 58,
   "id": "44d3fba9-de93-4940-8460-a4c2be26dcae",
   "metadata": {},
   "outputs": [
    {
     "data": {
      "application/vnd.jupyter.widget-view+json": {
       "model_id": "ab9313872e3b49a591795cebfc5cace1",
       "version_major": 2,
       "version_minor": 0
      },
      "text/plain": [
       "interactive(children=(IntSlider(value=0, description='t', max=63), Output()), _dom_classes=('widget-interact',…"
      ]
     },
     "metadata": {},
     "output_type": "display_data"
    }
   ],
   "source": [
    "extent = [(float(initial_frame[dim].min()), float(initial_frame[dim].max())) for dim in initial_frame.dims]\n",
    "@interact(t=widgets.IntSlider(min=0, max=emission.t.size-1, step=1, value=0))\n",
    "def plot_vol(t):\n",
    "    ipv.figure()\n",
    "    ipv.view(0, -60, distance=2.5)\n",
    "    ipv.volshow(emission_estimate.isel(t=t), extent=extent, memorder='F', level=[0, 0.2, 0.7], opacity=[0, 0.2, 0.3], controls=False)\n",
    "    ipv.show()"
   ]
  },
  {
   "cell_type": "code",
   "execution_count": 29,
   "id": "ab702fdc-9311-4264-856f-bacd8f8f9f63",
   "metadata": {},
   "outputs": [
    {
     "name": "stdout",
     "output_type": "stream",
     "text": [
      "Producing clean visibilities from movie with fast FT . . . \n"
     ]
    },
    {
     "name": "stderr",
     "output_type": "stream",
     "text": [
      "/scratch/imaging/projects/bh_nerf/envs/jax/lib/python3.9/site-packages/ehtim/obsdata.py:508: VisibleDeprecationWarning: Creating an ndarray from ragged nested sequences (which is a list-or-tuple of lists-or-tuples-or ndarrays with different lengths or shapes) is deprecated. If you meant to do this, you must specify 'dtype=object' when creating the ndarray.\n",
      "  return np.array(datalist)\n"
     ]
    },
    {
     "data": {
      "application/vnd.jupyter.widget-view+json": {
       "model_id": "426fecb1e9124b5b810337c3db540832",
       "version_major": 2,
       "version_minor": 0
      },
      "text/plain": [
       "Canvas(toolbar=Toolbar(toolitems=[('Home', 'Reset original view', 'home', 'home'), ('Back', 'Back to previous …"
      ]
     },
     "metadata": {},
     "output_type": "display_data"
    },
    {
     "name": "stderr",
     "output_type": "stream",
     "text": [
      "WARNING:matplotlib.animation:MovieWriter imagemagick unavailable; using Pillow instead.\n"
     ]
    },
    {
     "data": {
      "text/plain": [
       "<matplotlib.animation.FuncAnimation at 0x7f1237041d00>"
      ]
     },
     "execution_count": 29,
     "metadata": {},
     "output_type": "execute_result"
    }
   ],
   "source": [
    "# Save measurement prediction\n",
    "plt.rcdefaults()\n",
    "image_prediction = emission_utils.integrate_rays(emission_estimate, sensor)\n",
    "image_prediction = xr.DataArray(image_prediction.data.reshape(nt, sensor.num_alpha, sensor.num_beta), dims=['t', 'alpha', 'beta'])\n",
    "\n",
    "movie_pred = eh.movie.Movie(image_plane, times, **obs_args)\n",
    "obs_pred = movie_pred.observe_same_nonoise(obs_empty, ttype='fast')\n",
    "\n",
    "# Visualize radiance measurements \n",
    "%matplotlib widget\n",
    "\n",
    "fig, ax = plt.subplots(1,2, figsize=(9.5,4))\n",
    "image_plane_visualization = xr.DataArray(image_plane, dims=['t', 'alpha', 'beta'])\n",
    "anim = image_plane_visualization.utils_visualization.animate(ax=ax[0])\n",
    "obs_pred.plotall('uvdist', 'amp', axis=ax[1], ebar=False)\n",
    "outpath = 'gifs/{}.prediction.fov{:2.1f}.nspots{:d}.theta_{:1.1f}.phi_{:1.1f}.gif'.format(\n",
    "    array_name, fov, nspots, np.rad2deg(theta), np.rad2deg(phi))\n",
    "# anim.save(outpath, writer='imagemagick', fps=10)"
   ]
  },
  {
   "cell_type": "code",
   "execution_count": 34,
   "id": "0c0a8057-d064-435f-a146-0b6593f50cf0",
   "metadata": {},
   "outputs": [
    {
     "data": {
      "application/vnd.jupyter.widget-view+json": {
       "model_id": "bdad897e63984e55bd7f1b390c2a47ac",
       "version_major": 2,
       "version_minor": 0
      },
      "text/plain": [
       "Canvas(toolbar=Toolbar(toolitems=[('Home', 'Reset original view', 'home', 'home'), ('Back', 'Back to previous …"
      ]
     },
     "metadata": {},
     "output_type": "display_data"
    },
    {
     "data": {
      "text/plain": [
       "<matplotlib.legend.Legend at 0x7fccbc6a53a0>"
      ]
     },
     "execution_count": 34,
     "metadata": {},
     "output_type": "execute_result"
    }
   ],
   "source": [
    "%matplotlib widget\n",
    "ax = plt.figure(figsize=(7,7)).add_subplot(projection='3d')\n",
    "ax.scatter(0,0,0, color='black', s=50)\n",
    "ax.quiver(0,0,0,*rot_axis, length=0.05, linewidths=3,  label='true')\n",
    "ax.quiver(0,0,0,*rot_axis_est, length=0.05, linewidths=3, label='estimated', color='r')\n",
    "ax.set_xlabel('x')\n",
    "ax.set_ylabel('y')\n",
    "ax.set_zlabel('z')\n",
    "plt.legend(fontsize=14)"
   ]
  },
  {
   "cell_type": "markdown",
   "id": "0e63dab5-ddd5-4194-a424-00c49f13841f",
   "metadata": {
    "tags": []
   },
   "source": [
    "## DEBUG"
   ]
  },
  {
   "cell_type": "code",
   "execution_count": 22,
   "id": "3af745da-ce05-42f4-b572-a4331811a429",
   "metadata": {},
   "outputs": [],
   "source": [
    "def train_network(sensor, emission, emission_test, velocity_field, obs_times, hparams, runname, batch_inds,\n",
    "                  log_period=100, save_period=10000, x_res_vis=64, y_res_vis=64, z_res_vis=64):\n",
    "    \n",
    "    tstart = obs_times[0]\n",
    "    tstop = obs_times[-1]\n",
    "\n",
    "    # Training / testing coordinates\n",
    "    train_coords = network_utils.get_input_coords(sensor, t_array=obs_times, batch='t')\n",
    "    t, x, y, z, d = train_coords.values()\n",
    "    train_vis = measurements\n",
    "\n",
    "    test_coords = network_utils.get_input_coords(sensor, t_array=obs_times, batch='t')\n",
    "    test_vis = measurements_test\n",
    "    t_test, x_test, y_test, z_test, d_test = test_coords.values()\n",
    "\n",
    "    # Emission visualization inputs\n",
    "    t_res_vis = 1\n",
    "    emission_extent = [emission.x[0], emission.x[-1], emission.y[0], emission.y[-1], emission.z[0], emission.z[-1]]\n",
    "    t_vis, x_vis, y_vis, z_vis  = np.meshgrid(tstart, np.linspace(emission_extent[0], emission_extent[1], x_res_vis),\n",
    "                                              np.linspace(emission_extent[2], emission_extent[3], y_res_vis),\n",
    "                                              np.linspace(emission_extent[4], emission_extent[5], x_res_vis),\n",
    "                                              indexing='ij')\n",
    "\n",
    "    d_vis = np.ones_like(y_vis)                  # meaningless placeholder for emission visualization\n",
    "\n",
    "    # Model setup and initialization\n",
    "    rng = jax.random.PRNGKey(1)\n",
    "    predictor = network_utils.PREDICT_EMISSION_AND_ROTAXIS_3D_FROM_VIS_UNCERTAINTY(posenc_deg=hparams['posenc_deg'])\n",
    "    params = predictor.init(rng, x[:1, ...], y[:1, ...], z[:1, ...], t[:1, ...], velocity_field, tstart, tstop)['params']\n",
    "\n",
    "    def flattened_traversal(fn):\n",
    "        def mask(data):\n",
    "            flat = flax.traverse_util.flatten_dict(data)\n",
    "            return flax.traverse_util.unflatten_dict({k: fn(k, v) for k, v in flat.items()})\n",
    "        return mask\n",
    "\n",
    "    tx = optax.chain(\n",
    "        optax.masked(optax.adam(learning_rate=hparams['lr_axis']),\n",
    "                     mask=flattened_traversal(lambda path, _: path[-1] == 'axis')),\n",
    "        optax.masked(optax.adam(learning_rate=optax.polynomial_schedule(hparams['lr_init'], hparams['lr_final'], 1, hparams['num_iters'])),\n",
    "                     mask=flattened_traversal(lambda path, _: path[-1] != 'axis')),\n",
    "    )\n",
    "\n",
    "    state = train_state.TrainState.create(apply_fn=predictor.apply, params=params.unfreeze(), tx=tx)  # TODO(pratul): this unfreeze feels sketchy\n",
    "    \n",
    "    if np.isscalar(save_period):\n",
    "        checkpoint_dir = 'checkpoints/{}'.format(runname)\n",
    "        state = checkpoints.restore_checkpoint(checkpoint_dir, state)\n",
    "\n",
    "    train_pstep = jax.pmap(predictor.train_step, axis_name='batch', in_axes=(None, None, 0, 0, 0, 0, 0, 0, None, None, None, 0, 0, 0), static_broadcasted_argnums=(0))\n",
    "    eval_pstep = jax.pmap(predictor.eval_step, axis_name='batch', in_axes=(None, None, 0, 0, 0, 0, 0, 0, None, None, None, 0, 0, 0), static_broadcasted_argnums=(0))\n",
    "    rand_key = jax.random.split(rng, jax.local_device_count())\n",
    "    state = flax.jax_utils.replicate(state)\n",
    "\n",
    "    # TensorBoard logging\n",
    "    time = datetime.now().strftime('%Y-%m-%d.%H:%M:%S')\n",
    "    logdir = 'runs/{}.{}'.format(runname, time)\n",
    "\n",
    "    with SummaryWriter(logdir=logdir) as writer:\n",
    "\n",
    "        # Log ground-truth data   \n",
    "        %matplotlib inline\n",
    "        images = intensity_to_nchw(emission.isel(t=0))\n",
    "        writer.add_images('emission/true', images, global_step=0)\n",
    "\n",
    "        for i in tqdm(range(1, hparams['num_iters']+1), desc='iteration'):\n",
    "\n",
    "            # Testing and Visualization\n",
    "            if (i == 1) or (i % log_period) == 0:\n",
    "                # batch_inds = np.random.choice(range(x.shape[0]), hparams['batchsize'], replace=False)\n",
    "                # batch_inds = np.random.randint(0, x.shape[0], hparams['batchsize'])\n",
    "                loss_test, _, _, _, _, _ = eval_pstep(\n",
    "                    velocity_field, i, shard(x[batch_inds, ...]), shard(y[batch_inds, ...]), shard(z[batch_inds, ...]), \n",
    "                    shard(d[batch_inds, ...]), shard(t[batch_inds, ...]), shard(uv[batch_inds, ...]),\n",
    "                    fov, tstart, tstop, shard(test_vis[batch_inds,...]), state, rand_key\n",
    "                )\n",
    "                writer.add_scalar('log loss/test', np.log10(np.mean(loss_test)), global_step=i)\n",
    "\n",
    "                # Log prediction and estimate\n",
    "                _, _, emission_vis, _, axis_estimation, _ = eval_pstep(\n",
    "                    velocity_field, i, shard(x_vis), shard(y_vis), shard(z_vis), shard(d_vis), shard(t_vis),\n",
    "                    shard(uv[[0], ...]), fov, tstart, tstop, shard(test_vis[[0],...]), state, rand_key\n",
    "                )\n",
    "                axis_estimation = axis_estimation[0] / np.sqrt(np.dot(axis_estimation[0], axis_estimation[0]))\n",
    "                emission_vis = np.reshape(emission_vis, [t_res_vis, x_res_vis, y_res_vis, z_res_vis])\n",
    "                emission_vis = jnp.where(x_vis**2 + y_vis**2 + z_vis**2 >= hparams['r_min']**2, emission_vis, jnp.zeros_like(emission_vis))\n",
    "                \n",
    "                # Log emission and rotation axis\n",
    "                images = intensity_to_nchw(emission_vis[0])\n",
    "                writer.add_images('emission/estimate', images, global_step=i)\n",
    "                writer.add_scalar('rotation/dot_product', np.dot(rot_axis, axis_estimation), global_step=i)\n",
    "                writer.add_scalar('rotation/x', axis_estimation[0], global_step=i)\n",
    "                writer.add_scalar('rotation/y', axis_estimation[1], global_step=i)\n",
    "                writer.add_scalar('rotation/z', axis_estimation[2], global_step=i)\n",
    "\n",
    "            # Training\n",
    "            # batch_inds = np.random.randint(0, x.shape[0], hparams['batchsize'])\n",
    "            # batch_inds = np.random.choice(range(x.shape[0]), hparams['batchsize'], replace=False, p=p)\n",
    "            loss_train, state, _, _, _, rand_key = train_pstep(\n",
    "                velocity_field, i, shard(x[batch_inds, ...]), shard(y[batch_inds, ...]), shard(z[batch_inds, ...]), \n",
    "                shard(d[batch_inds, ...]), shard(t[batch_inds, ...]), shard(uv[batch_inds, ...]), fov, tstart, tstop,\n",
    "                shard(train_vis[batch_inds, ...]), state, rand_key\n",
    "            )\n",
    "            writer.add_scalar('log loss/train', np.log10(np.mean(loss_train)), global_step=i)\n",
    "            \n",
    "            if np.isscalar(save_period) and ((i % save_period == 0) or (i == hparams['num_iters'])):\n",
    "                state_to_save = jax.device_get(jax.tree_map(lambda x: x[0], state))\n",
    "                checkpoints.save_checkpoint(checkpoint_dir, state_to_save, int(i), keep=5)\n",
    "            \n",
    "    return state, emission_vis, axis_estimation\n",
    "\n",
    "def train_network_image_plane(sensor, emission, emission_test, velocity_field, obs_times, hparams, runname, batch_inds, \n",
    "                  log_period=100, save_period=10000, x_res_vis=64, y_res_vis=64, z_res_vis=64):\n",
    "    \n",
    "    tstart = obs_times[0]\n",
    "    tstop = obs_times[-1]\n",
    "\n",
    "    # Training / testing coordinates\n",
    "    train_coords = network_utils.get_input_coords(sensor, t_array=obs_times, batch='t')\n",
    "    t, x, y, z, d = train_coords.values()\n",
    "    train_vis = image_plane\n",
    "\n",
    "    test_coords = network_utils.get_input_coords(sensor, t_array=obs_times, batch='t')\n",
    "    test_vis = image_plane_test\n",
    "    t_test, x_test, y_test, z_test, d_test = test_coords.values()\n",
    "\n",
    "    # Emission visualization inputs\n",
    "    t_res_vis = 1\n",
    "    emission_extent = [emission.x[0], emission.x[-1], emission.y[0], emission.y[-1], emission.z[0], emission.z[-1]]\n",
    "    t_vis, x_vis, y_vis, z_vis  = np.meshgrid(tstart, np.linspace(emission_extent[0], emission_extent[1], x_res_vis),\n",
    "                                              np.linspace(emission_extent[2], emission_extent[3], y_res_vis),\n",
    "                                              np.linspace(emission_extent[4], emission_extent[5], x_res_vis),\n",
    "                                              indexing='ij')\n",
    "\n",
    "    d_vis = np.ones_like(y_vis)                  # meaningless placeholder for emission visualization\n",
    "\n",
    "    # Model setup and initialization\n",
    "    rng = jax.random.PRNGKey(1)\n",
    "    predictor = network_utils.PREDICT_EMISSION_AND_ROTAXIS_3D_FROM_VIS_UNCERTAINTY(posenc_deg=hparams['posenc_deg'])\n",
    "    params = predictor.init(rng, x[:1, ...], y[:1, ...], z[:1, ...], t[:1, ...], velocity_field, tstart, tstop)['params']\n",
    "\n",
    "    def flattened_traversal(fn):\n",
    "        def mask(data):\n",
    "            flat = flax.traverse_util.flatten_dict(data)\n",
    "            return flax.traverse_util.unflatten_dict({k: fn(k, v) for k, v in flat.items()})\n",
    "        return mask\n",
    "\n",
    "    tx = optax.chain(\n",
    "        optax.masked(optax.adam(learning_rate=hparams['lr_axis']),\n",
    "                     mask=flattened_traversal(lambda path, _: path[-1] == 'axis')),\n",
    "        optax.masked(optax.adam(learning_rate=optax.polynomial_schedule(hparams['lr_init'], hparams['lr_final'], 1, hparams['num_iters'])),\n",
    "                     mask=flattened_traversal(lambda path, _: path[-1] != 'axis')),\n",
    "    )\n",
    "\n",
    "    state = train_state.TrainState.create(apply_fn=predictor.apply, params=params.unfreeze(), tx=tx)  # TODO(pratul): this unfreeze feels sketchy\n",
    "    \n",
    "    if np.isscalar(save_period):\n",
    "        checkpoint_dir = 'checkpoints/{}'.format(runname)\n",
    "        state = checkpoints.restore_checkpoint(checkpoint_dir, state)\n",
    "\n",
    "    train_pstep = jax.pmap(predictor.train_step, axis_name='batch', in_axes=(None, None, 0, 0, 0, 0, 0, 0, None, None, None, 0, 0, 0), static_broadcasted_argnums=(0))\n",
    "    eval_pstep = jax.pmap(predictor.eval_step, axis_name='batch', in_axes=(None, None, 0, 0, 0, 0, 0, 0, None, None, None, 0, 0, 0), static_broadcasted_argnums=(0))\n",
    "    rand_key = jax.random.split(rng, jax.local_device_count())\n",
    "    state = flax.jax_utils.replicate(state)\n",
    "\n",
    "    # TensorBoard logging\n",
    "    time = datetime.now().strftime('%Y-%m-%d.%H:%M:%S')\n",
    "    logdir = 'runs/{}.{}'.format(runname, time)\n",
    "    \n",
    "    with SummaryWriter(logdir=logdir) as writer:\n",
    "\n",
    "        # Log ground-truth data   \n",
    "        %matplotlib inline\n",
    "        images = intensity_to_nchw(emission.isel(t=0))\n",
    "        writer.add_images('emission/true', images, global_step=0)\n",
    "\n",
    "        for i in tqdm(range(1, hparams['num_iters']+1), desc='iteration'):\n",
    "\n",
    "            # Testing and Visualization\n",
    "            if (i == 1) or (i % log_period) == 0:\n",
    "                # batch_inds = np.random.choice(range(x.shape[0]), hparams['batchsize'], replace=False)\n",
    "                # batch_inds = np.random.randint(0, x.shape[0], hparams['batchsize'])\n",
    "                loss_test, _, _, _, _, _ = eval_pstep(\n",
    "                    velocity_field, i, shard(x[batch_inds, ...]), shard(y[batch_inds, ...]), shard(z[batch_inds, ...]), \n",
    "                    shard(d[batch_inds, ...]), shard(t[batch_inds, ...]), shard(uv[batch_inds, ...]),\n",
    "                    fov, tstart, tstop, shard(test_vis[batch_inds,...]), state, rand_key\n",
    "                )\n",
    "                writer.add_scalar('log loss/test', np.log10(np.mean(loss_test)), global_step=i)\n",
    "\n",
    "                # Log prediction and estimate\n",
    "                _, _, emission_vis, _, axis_estimation, _ = eval_pstep(\n",
    "                    velocity_field, i, shard(x_vis), shard(y_vis), shard(z_vis), shard(d_vis), shard(t_vis),\n",
    "                    shard(uv[[0], ...]), fov, tstart, tstop, shard(test_vis[[0],...]), state, rand_key\n",
    "                )\n",
    "                axis_estimation = axis_estimation[0] / np.sqrt(np.dot(axis_estimation[0], axis_estimation[0]))\n",
    "                emission_vis = np.reshape(emission_vis, [t_res_vis, x_res_vis, y_res_vis, z_res_vis])\n",
    "                emission_vis = jnp.where(x_vis**2 + y_vis**2 + z_vis**2 >= hparams['r_min']**2, emission_vis, jnp.zeros_like(emission_vis))\n",
    "                \n",
    "                # Log emission and rotation axis\n",
    "                images = intensity_to_nchw(emission_vis[0])\n",
    "                writer.add_images('emission/estimate', images, global_step=i)\n",
    "                writer.add_scalar('rotation/dot_product', np.dot(rot_axis, axis_estimation), global_step=i)\n",
    "                writer.add_scalar('rotation/x', axis_estimation[0], global_step=i)\n",
    "                writer.add_scalar('rotation/y', axis_estimation[1], global_step=i)\n",
    "                writer.add_scalar('rotation/z', axis_estimation[2], global_step=i)\n",
    "\n",
    "            # Training\n",
    "            # batch_inds = np.random.randint(0, x.shape[0], hparams['batchsize'])\n",
    "            # batch_inds = np.random.choice(range(x.shape[0]), hparams['batchsize'], replace=False)\n",
    "            loss_train, state, _, _, _, rand_key = train_pstep(\n",
    "                velocity_field, i, shard(x[batch_inds, ...]), shard(y[batch_inds, ...]), shard(z[batch_inds, ...]), \n",
    "                shard(d[batch_inds, ...]), shard(t[batch_inds, ...]), shard(uv[batch_inds, ...]), fov, tstart, tstop,\n",
    "                shard(train_vis[batch_inds, ...]), state, rand_key\n",
    "            )\n",
    "            writer.add_scalar('log loss/train', np.log10(np.mean(loss_train)), global_step=i)\n",
    "            \n",
    "            if np.isscalar(save_period) and ((i % save_period == 0) or (i == hparams['num_iters'])):\n",
    "                state_to_save = jax.device_get(jax.tree_map(lambda x: x[0], state))\n",
    "                checkpoints.save_checkpoint(checkpoint_dir, state_to_save, int(i), keep=5)\n",
    "            \n",
    "    return state, emission_vis, axis_estimation"
   ]
  },
  {
   "cell_type": "code",
   "execution_count": 285,
   "id": "53f3353f-26d3-4027-bb76-91be3682d225",
   "metadata": {
    "tags": []
   },
   "outputs": [
    {
     "name": "stderr",
     "output_type": "stream",
     "text": [
      "/scratch/imaging/projects/bh_nerf/envs/jax/lib/python3.9/site-packages/jax/lib/xla_bridge.py:390: UserWarning: jax.host_count has been renamed to jax.process_count. This alias will eventually be removed; please update your code.\n",
      "  warnings.warn(\n",
      "/scratch/imaging/projects/bh_nerf/envs/jax/lib/python3.9/site-packages/jax/lib/xla_bridge.py:377: UserWarning: jax.host_id has been renamed to jax.process_index. This alias will eventually be removed; please update your code.\n",
      "  warnings.warn(\n"
     ]
    }
   ],
   "source": [
    "log_period=1\n",
    "x_res_vis=64\n",
    "y_res_vis=64\n",
    "z_res_vis=64\n",
    "\n",
    "hparams = {\n",
    "    'num_iters': 5,\n",
    "    'lr_init': 1e-4,\n",
    "    'lr_final': 1e-6,\n",
    "    'lr_axis': 1e-1,\n",
    "    'posenc_deg': 3,\n",
    "    'batchsize': 2,\n",
    "    'r_min': r_min\n",
    "}\n",
    "\n",
    "\n",
    "tstart = obs_times[0]\n",
    "tstop = obs_times[-1]\n",
    "\n",
    "# Training / testing coordinates\n",
    "train_coords = network_utils.get_input_coords(sensor, t_array=obs_times, batch='t')\n",
    "t, x, y, z, d = train_coords.values()\n",
    "train_vis = image_plane\n",
    "\n",
    "test_coords = network_utils.get_input_coords(sensor, t_array=obs_times, batch='t')\n",
    "test_vis = image_plane_test\n",
    "t_test, x_test, y_test, z_test, d_test = test_coords.values()\n",
    "\n",
    "# Emission visualization inputs\n",
    "t_res_vis = 1\n",
    "emission_extent = [emission.x[0], emission.x[-1], emission.y[0], emission.y[-1], emission.z[0], emission.z[-1]]\n",
    "t_vis, x_vis, y_vis, z_vis  = np.meshgrid(tstart, np.linspace(emission_extent[0], emission_extent[1], x_res_vis),\n",
    "                                          np.linspace(emission_extent[2], emission_extent[3], y_res_vis),\n",
    "                                          np.linspace(emission_extent[4], emission_extent[5], x_res_vis),\n",
    "                                          indexing='ij')\n",
    "\n",
    "d_vis = np.ones_like(y_vis)                  # meaningless placeholder for emission visualization\n",
    "\n",
    "# Model setup and initialization\n",
    "rng = jax.random.PRNGKey(1)\n",
    "predictor = network_utils.PREDICT_EMISSION_AND_ROTAXIS_3D_FROM_VIS_UNCERTAINTY(posenc_deg=hparams['posenc_deg'])\n",
    "params = predictor.init(rng, x[:1, ...], y[:1, ...], z[:1, ...], t[:1, ...], velocity_field, tstart, tstop)['params']\n",
    "\n",
    "def flattened_traversal(fn):\n",
    "    def mask(data):\n",
    "        flat = flax.traverse_util.flatten_dict(data)\n",
    "        return flax.traverse_util.unflatten_dict({k: fn(k, v) for k, v in flat.items()})\n",
    "    return mask\n",
    "\n",
    "tx = optax.chain(\n",
    "    optax.masked(optax.adam(learning_rate=hparams['lr_axis']),\n",
    "                 mask=flattened_traversal(lambda path, _: path[-1] == 'axis')),\n",
    "    optax.masked(optax.adam(learning_rate=optax.polynomial_schedule(hparams['lr_init'], hparams['lr_final'], 1, hparams['num_iters'])),\n",
    "                 mask=flattened_traversal(lambda path, _: path[-1] != 'axis')),\n",
    ")\n",
    "\n",
    "state = train_state.TrainState.create(apply_fn=predictor.apply, params=params.unfreeze(), tx=tx)  # TODO(pratul): this unfreeze feels sketchy\n",
    "\n",
    "train_pstep = jax.pmap(predictor.train_step, axis_name='batch', in_axes=(None, None, 0, 0, 0, 0, 0, 0, None, None, None, 0, 0, 0), static_broadcasted_argnums=(0))\n",
    "eval_pstep = jax.pmap(predictor.eval_step, axis_name='batch', in_axes=(None, None, 0, 0, 0, 0, 0, 0, None, None, None, 0, 0, 0), static_broadcasted_argnums=(0))\n",
    "rand_key = jax.random.split(rng, jax.local_device_count())\n",
    "state = flax.jax_utils.replicate(state)"
   ]
  },
  {
   "cell_type": "code",
   "execution_count": 286,
   "id": "37753e6e-f2c7-4d7c-b480-061efc25405f",
   "metadata": {},
   "outputs": [],
   "source": [
    "#state.params['axis'] = jnp.array([rot_axis])\n",
    "state.params['axis'] = jnp.array([[0.44412354, 0.05837725, 0.8940622 ]])\n",
    "#state.params['axis'] = jnp.array([[0, 0, 0]])"
   ]
  },
  {
   "cell_type": "code",
   "execution_count": 288,
   "id": "141361f6-bc33-4b73-92f9-411ea811ac65",
   "metadata": {},
   "outputs": [
    {
     "name": "stdout",
     "output_type": "stream",
     "text": [
      "loss: [0.00471678]\n",
      "grad: {'axis': ShardedDeviceArray([[-5.8867619e-05,  4.1988096e-04,  1.8263236e-06]], dtype=float32)}\n",
      "state: [[0.44412333 0.05837722 0.8940618 ]]\n"
     ]
    },
    {
     "data": {
      "application/vnd.jupyter.widget-view+json": {
       "model_id": "ea8947de08764d498c027ec2ef2d4c58",
       "version_major": 2,
       "version_minor": 0
      },
      "text/plain": [
       "Canvas(toolbar=Toolbar(toolitems=[('Home', 'Reset original view', 'home', 'home'), ('Back', 'Back to previous …"
      ]
     },
     "metadata": {},
     "output_type": "display_data"
    },
    {
     "data": {
      "text/plain": [
       "<matplotlib.image.AxesImage at 0x7fb7f008b940>"
      ]
     },
     "execution_count": 288,
     "metadata": {},
     "output_type": "execute_result"
    }
   ],
   "source": [
    "batch_inds = [6]\n",
    "\n",
    "i = 1\n",
    "loss_test, _, _, rend, axis, _, grads = eval_pstep(\n",
    "    velocity_field, i, shard(x[batch_inds, ...]), shard(y[batch_inds, ...]), shard(z[batch_inds, ...]), \n",
    "    shard(d[batch_inds, ...]), shard(t[batch_inds, ...]), shard(uv[batch_inds, ...]),\n",
    "    fov, tstart, tstop, shard(test_vis[batch_inds,...]), state, rand_key\n",
    ")\n",
    "state.params['axis'] = state.params['axis'] / jnp.linalg.norm(state.params['axis'])\n",
    "print('loss: {}'.format(loss_test))\n",
    "print('grad: {}'.format(grads))\n",
    "print('state: {}'.format(state.params['axis']))\n",
    "\n",
    "%matplotlib widget\n",
    "i = 0\n",
    "fig, ax = plt.subplots(1,2)\n",
    "ax[0].imshow(rend[0,i], origin='lower')\n",
    "ax[1].imshow(test_vis[batch_inds[i]], origin='lower')"
   ]
  },
  {
   "cell_type": "code",
   "execution_count": 541,
   "id": "64bfb1ef-7418-4233-83bb-2667df3713d8",
   "metadata": {},
   "outputs": [
    {
     "data": {
      "application/vnd.jupyter.widget-view+json": {
       "model_id": "c674c3aa3fc944fd81aa028915e30d8d",
       "version_major": 2,
       "version_minor": 0
      },
      "text/plain": [
       "Canvas(toolbar=Toolbar(toolitems=[('Home', 'Reset original view', 'home', 'home'), ('Back', 'Back to previous …"
      ]
     },
     "metadata": {},
     "output_type": "display_data"
    }
   ],
   "source": [
    "sensor = xr.load_dataset('../sensors/a0.00_th1.57_ngeo200_npix4096.nc')\n",
    "sensor = sensor.assign_coords({'rho': ('pix', np.sqrt(sensor.alpha**2 + sensor.beta**2))})\n",
    "sensor = sensor.where(np.abs(sensor.rho - np.sqrt(27)) > 0.25)\n",
    "sensor = sensor.where(sensor.r < 5)\n",
    "r_min = sensor.r.min().data   # Minimum supervision radius\n",
    "sensor = sensor.fillna(0.0)\n",
    "\n",
    "image_plane = emission_utils.integrate_rays(emission, sensor).data.reshape(nt, sensor.num_alpha, sensor.num_beta)\n",
    "image_plane_test = emission_utils.integrate_rays(emission_test, sensor).data.reshape(nt_test, sensor.num_alpha, sensor.num_beta)\n",
    "\n",
    "# Visualize radiance measurements \n",
    "%matplotlib widget\n",
    "image_plane_visualization = xr.DataArray(image_plane, dims=['t', 'alpha', 'beta'])\n",
    "anim = image_plane_visualization.utils_visualization.animate()\n",
    "# anim.save(outpath, writer='imagemagick', fps=10)"
   ]
  },
  {
   "cell_type": "code",
   "execution_count": 287,
   "id": "b648775d-c848-410a-b12c-1139003125a3",
   "metadata": {},
   "outputs": [
    {
     "name": "stdout",
     "output_type": "stream",
     "text": [
      "loss: [0.00462338]\n",
      "grad: {'axis': ShardedDeviceArray([[ 1.0849355e-05,  3.4945927e-04, -2.8206850e-05]], dtype=float32)}\n",
      "state: [[0.4441234  0.05837723 0.8940619 ]]\n"
     ]
    },
    {
     "data": {
      "application/vnd.jupyter.widget-view+json": {
       "model_id": "5475cb3f366d469d9dd53395d0689f9a",
       "version_major": 2,
       "version_minor": 0
      },
      "text/plain": [
       "Canvas(toolbar=Toolbar(toolitems=[('Home', 'Reset original view', 'home', 'home'), ('Back', 'Back to previous …"
      ]
     },
     "metadata": {},
     "output_type": "display_data"
    },
    {
     "data": {
      "text/plain": [
       "<matplotlib.image.AxesImage at 0x7fb7f015fd90>"
      ]
     },
     "execution_count": 287,
     "metadata": {},
     "output_type": "execute_result"
    }
   ],
   "source": [
    "batch_inds = [5]\n",
    "\n",
    "i = 1\n",
    "loss_test, _, _, rend, axis, _, grads = eval_pstep(\n",
    "    velocity_field, i, shard(x[batch_inds, ...]), shard(y[batch_inds, ...]), shard(z[batch_inds, ...]), \n",
    "    shard(d[batch_inds, ...]), shard(t[batch_inds, ...]), shard(uv[batch_inds, ...]),\n",
    "    fov, tstart, tstop, shard(test_vis[batch_inds,...]), state, rand_key\n",
    ")\n",
    "state.params['axis'] = state.params['axis'] / jnp.linalg.norm(state.params['axis'])\n",
    "print('loss: {}'.format(loss_test))\n",
    "print('grad: {}'.format(grads))\n",
    "print('state: {}'.format(state.params['axis']))\n",
    "\n",
    "%matplotlib widget\n",
    "i = 0\n",
    "fig, ax = plt.subplots(1,2)\n",
    "ax[0].imshow(rend[0,i], origin='lower')\n",
    "ax[1].imshow(test_vis[batch_inds[i]], origin='lower')"
   ]
  },
  {
   "cell_type": "code",
   "execution_count": 534,
   "id": "1269e158-60bc-400d-b1e6-837b791ec66b",
   "metadata": {},
   "outputs": [
    {
     "data": {
      "application/vnd.jupyter.widget-view+json": {
       "model_id": "06cff517ae7a431998f0a7630a6c83ff",
       "version_major": 2,
       "version_minor": 0
      },
      "text/plain": [
       "VBox(children=(Figure(camera=PerspectiveCamera(fov=45.0, position=(0.0, -2.1650635094610964, 1.250000000000000…"
      ]
     },
     "metadata": {},
     "output_type": "display_data"
    }
   ],
   "source": [
    "sensor = xr.load_dataset('../sensors/a0.00_th1.57_ngeo200_npix4096.nc')\n",
    "sensor = sensor.assign_coords({'rho': ('pix', np.sqrt(sensor.alpha**2 + sensor.beta**2))})\n",
    "sensor = sensor.where(np.abs(sensor.rho - np.sqrt(27)) < 1e-1, drop=True)\n",
    "sensor = sensor.where(sensor.r < 10)\n",
    "x = sensor.x.data\n",
    "y = sensor.y.data\n",
    "z = sensor.z.data\n",
    "\n",
    "ii = 11\n",
    "ipv.figure()\n",
    "ipv.view(0, -60, distance=2.5)\n",
    "ipv.plot(x[ii], y[ii], z[ii])\n",
    "ipv.volshow(emission.isel(t=0), extent=extent, memorder='F', level=[0, 0.2, 0.7], opacity=[0, 0.2, 0.3], controls=False)\n",
    "ipv.show()"
   ]
  },
  {
   "cell_type": "code",
   "execution_count": 220,
   "id": "0365dbba-f8ad-4b5f-af1c-89e2c64b35ce",
   "metadata": {},
   "outputs": [],
   "source": [
    "x = sensor.x.where(sensor.r<5, drop=True).isel(pix=500)\n",
    "y = sensor.y.where(sensor.r<5, drop=True).isel(pix=500)\n",
    "z = sensor.z.where(sensor.r<5, drop=True).isel(pix=500)\n",
    "\n",
    "extent = [(float(emission[dim].min()), float(emission[dim].max())) for dim in ('x', 'y', 'z')]\n",
    "@interact(t=widgets.IntSlider(min=0, max=emission.t.size-1, step=1, value=0))\n",
    "def plot_vol(t):\n",
    "    ipv.figure()\n",
    "    ipv.view(0, -60, distance=2.5)\n",
    "    ipv.scatter(x, y, z)\n",
    "    ipv.volshow(emission.isel(t=t), extent=extent, memorder='F', level=[0, 0.2, 0.7], opacity=[0, 0.2, 0.3], controls=False)\n",
    "    ipv.show()"
   ]
  },
  {
   "cell_type": "code",
   "execution_count": 140,
   "id": "5a3770c6-9d97-4ec0-b455-712de113f028",
   "metadata": {},
   "outputs": [
    {
     "name": "stdout",
     "output_type": "stream",
     "text": [
      "loss: [0.00513504]\n",
      "grad: {'axis': ShardedDeviceArray([[ 0.0003377 ,  0.00026869, -0.00018529]], dtype=float32)}\n",
      "state: [[0.39606112 0.12123612 0.9101854 ]]\n"
     ]
    }
   ],
   "source": [
    "batch_inds = [5]\n",
    "loss_train, state, _, _, _, rand_key, grads = train_pstep(\n",
    "    velocity_field, i, shard(x[batch_inds, ...]), shard(y[batch_inds, ...]), shard(z[batch_inds, ...]), \n",
    "    shard(d[batch_inds, ...]), shard(t[batch_inds, ...]), shard(uv[batch_inds, ...]), fov, tstart, tstop,\n",
    "    shard(train_vis[batch_inds, ...]), state, rand_key\n",
    ")\n",
    "state.params['axis'] = state.params['axis'] / jnp.linalg.norm(state.params['axis'])\n",
    "print('loss: {}'.format(loss_train))\n",
    "print('grad: {}'.format(grads))\n",
    "print('state: {}'.format(state.params['axis']))"
   ]
  },
  {
   "cell_type": "code",
   "execution_count": 131,
   "id": "c87e0780-4ab0-4dfb-9f89-fe96a2b96322",
   "metadata": {},
   "outputs": [
    {
     "data": {
      "application/vnd.jupyter.widget-view+json": {
       "model_id": "466ab65598b44dc5ab7b4fd530ffb6c1",
       "version_major": 2,
       "version_minor": 0
      },
      "text/plain": [
       "Canvas(toolbar=Toolbar(toolitems=[('Home', 'Reset original view', 'home', 'home'), ('Back', 'Back to previous …"
      ]
     },
     "metadata": {},
     "output_type": "display_data"
    },
    {
     "data": {
      "text/plain": [
       "<matplotlib.image.AxesImage at 0x7fb98406c730>"
      ]
     },
     "execution_count": 131,
     "metadata": {},
     "output_type": "execute_result"
    }
   ],
   "source": [
    "%matplotlib widget\n",
    "i = 0\n",
    "fig, ax = plt.subplots(1,2)\n",
    "ax[0].imshow(rend[0,i], origin='lower')\n",
    "ax[1].imshow(test_vis[batch_inds[i]], origin='lower')"
   ]
  },
  {
   "cell_type": "code",
   "execution_count": 83,
   "id": "21834d73-25e2-40f9-ad5d-74c4b6d7c100",
   "metadata": {},
   "outputs": [
    {
     "data": {
      "application/vnd.jupyter.widget-view+json": {
       "model_id": "16d0b4f27aef40afb4d920c85e2ac1dc",
       "version_major": 2,
       "version_minor": 0
      },
      "text/plain": [
       "Canvas(toolbar=Toolbar(toolitems=[('Home', 'Reset original view', 'home', 'home'), ('Back', 'Back to previous …"
      ]
     },
     "metadata": {},
     "output_type": "display_data"
    }
   ],
   "source": [
    "%matplotlib widget\n",
    "image_plane_visualization = xr.DataArray(test_vis[batch_inds,...], dims=['t', 'alpha', 'beta'])\n",
    "anim = image_plane_visualization.utils_visualization.animate()"
   ]
  },
  {
   "cell_type": "code",
   "execution_count": 81,
   "id": "136d7bb6-5de4-4a5c-a14b-ea47255fbbc4",
   "metadata": {},
   "outputs": [
    {
     "data": {
      "application/vnd.jupyter.widget-view+json": {
       "model_id": "46a6233032194420a09e02b9ef4df4ba",
       "version_major": 2,
       "version_minor": 0
      },
      "text/plain": [
       "Canvas(toolbar=Toolbar(toolitems=[('Home', 'Reset original view', 'home', 'home'), ('Back', 'Back to previous …"
      ]
     },
     "metadata": {},
     "output_type": "display_data"
    }
   ],
   "source": [
    "%matplotlib widget\n",
    "image_plane_visualization = xr.DataArray(rend[0], dims=['t', 'alpha', 'beta'])\n",
    "anim = image_plane_visualization.utils_visualization.animate()"
   ]
  },
  {
   "cell_type": "code",
   "execution_count": 221,
   "id": "39008961-00a7-4355-8d78-a9a4f4841634",
   "metadata": {},
   "outputs": [
    {
     "name": "stdout",
     "output_type": "stream",
     "text": [
      "[0.00490387]\n",
      "{'axis': ShardedDeviceArray([[-2.2118911e-09, -2.2700988e-09,  1.0477379e-09]], dtype=float32)}\n"
     ]
    }
   ],
   "source": [
    "batch_inds = [6]\n",
    "i = 1\n",
    "loss_test, _, _, rend, axis, _, grads = eval_pstep(\n",
    "    velocity_field, i, shard(x[batch_inds, ...]), shard(y[batch_inds, ...]), shard(z[batch_inds, ...]), \n",
    "    shard(d[batch_inds, ...]), shard(t[batch_inds, ...]), shard(uv[batch_inds, ...]),\n",
    "    fov, tstart, tstop, shard(test_vis[batch_inds,...]), state, rand_key\n",
    ")\n",
    "print(loss_test)\n",
    "print(grads)"
   ]
  },
  {
   "cell_type": "code",
   "execution_count": 220,
   "id": "3689bd09-dcfc-441a-be2d-c12915920478",
   "metadata": {},
   "outputs": [
    {
     "name": "stdout",
     "output_type": "stream",
     "text": [
      "[0.00477987]\n",
      "{'axis': ShardedDeviceArray([[-0.00047558, -0.00043153,  0.00026442]], dtype=float32)}\n"
     ]
    }
   ],
   "source": [
    "batch_inds = [7]\n",
    "i = 1\n",
    "loss_test, _, _, rend, axis, _, grads = eval_pstep(\n",
    "    velocity_field, i, shard(x[batch_inds, ...]), shard(y[batch_inds, ...]), shard(z[batch_inds, ...]), \n",
    "    shard(d[batch_inds, ...]), shard(t[batch_inds, ...]), shard(uv[batch_inds, ...]),\n",
    "    fov, tstart, tstop, shard(test_vis[batch_inds,...]), state, rand_key\n",
    ")\n",
    "print(loss_test)\n",
    "print(grads)"
   ]
  },
  {
   "cell_type": "code",
   "execution_count": 205,
   "id": "f152c37d-3b10-4c11-8636-3c25efeab9c4",
   "metadata": {},
   "outputs": [
    {
     "name": "stdout",
     "output_type": "stream",
     "text": [
      "[0.00490387]\n",
      "{'axis': ShardedDeviceArray([[4.2130705e-07, 5.3631084e-08, 8.5367355e-07]], dtype=float32)}\n"
     ]
    }
   ],
   "source": [
    "batch_inds = [6]\n",
    "i = 1\n",
    "loss_test, _, _, rend, axis, _, grads = eval_pstep(\n",
    "    velocity_field, i, shard(x[batch_inds, ...]), shard(y[batch_inds, ...]), shard(z[batch_inds, ...]), \n",
    "    shard(d[batch_inds, ...]), shard(t[batch_inds, ...]), shard(uv[batch_inds, ...]),\n",
    "    fov, tstart, tstop, shard(test_vis[batch_inds,...]), state, rand_key\n",
    ")\n",
    "print(loss_test)\n",
    "print(grads)"
   ]
  },
  {
   "cell_type": "code",
   "execution_count": 201,
   "id": "0fd1bc18-a384-4f92-bfb6-cea333817d25",
   "metadata": {},
   "outputs": [
    {
     "data": {
      "text/plain": [
       "{'axis': ShardedDeviceArray([[ 0.00033812,  0.00026874, -0.00018444]], dtype=float32)}"
      ]
     },
     "execution_count": 203,
     "metadata": {},
     "output_type": "execute_result"
    }
   ],
   "source": [
    "grads"
   ]
  },
  {
   "cell_type": "code",
   "execution_count": 196,
   "id": "d70e554b-55d4-4c1c-a489-7657cdfefa2c",
   "metadata": {},
   "outputs": [
    {
     "data": {
      "text/plain": [
       "<matplotlib.image.AxesImage at 0x7efa7c659c10>"
      ]
     },
     "execution_count": 196,
     "metadata": {},
     "output_type": "execute_result"
    },
    {
     "data": {
      "image/png": "[encoded data removed]",
      "text/plain": [
       "<Figure size 432x288 with 2 Axes>"
      ]
     },
     "metadata": {
      "needs_background": "light"
     },
     "output_type": "display_data"
    }
   ],
   "source": [
    "i = 0\n",
    "fig, ax = plt.subplots(1,2)\n",
    "ax[0].imshow(rend[0,i])\n",
    "ax[1].imshow(test_vis[batch_inds[i]])"
   ]
  },
  {
   "cell_type": "code",
   "execution_count": 280,
   "id": "57a366ec-7b91-4144-a457-e9d11a124575",
   "metadata": {},
   "outputs": [
    {
     "data": {
      "application/vnd.jupyter.widget-view+json": {
       "model_id": "ecf77371d6ab4cfb84d74755e5b86c5f",
       "version_major": 2,
       "version_minor": 0
      },
      "text/plain": [
       "interactive(children=(IntSlider(value=0, description='t', max=63), Output()), _dom_classes=('widget-interact',…"
      ]
     },
     "metadata": {},
     "output_type": "display_data"
    }
   ],
   "source": [
    "x = sensor.x.data.ravel()\n",
    "y = sensor.y.data.ravel()\n",
    "z = sensor.z.data.ravel()\n",
    "\n",
    "extent = [(float(emission[dim].min()), float(emission[dim].max())) for dim in ('x', 'y', 'z')]\n",
    "@interact(t=widgets.IntSlider(min=0, max=emission.t.size-1, step=1, value=0))\n",
    "def plot_vol(t):\n",
    "    ipv.figure()\n",
    "    ipv.view(0, -60, distance=2.5)\n",
    "    ipv.scatter(x, y, z, size=0.3, marker='sphere')\n",
    "    ipv.volshow(emission.isel(t=t), extent=extent, memorder='F', level=[0, 0.2, 0.7], opacity=[0, 0.2, 0.3], controls=False)\n",
    "    ipv.show()"
   ]
  },
  {
   "cell_type": "code",
   "execution_count": null,
   "id": "cd18db86-8d83-4303-bedd-3a83bc5b4457",
   "metadata": {},
   "outputs": [],
   "source": []
  },
  {
   "cell_type": "code",
   "execution_count": 815,
   "id": "9966daa0-dcb4-4fa5-b816-f43eb81d992d",
   "metadata": {},
   "outputs": [
    {
     "data": {
      "text/plain": [
       "<matplotlib.colorbar.Colorbar at 0x7fb4e8c8c700>"
      ]
     },
     "execution_count": 815,
     "metadata": {},
     "output_type": "execute_result"
    },
    {
     "data": {
      "image/png": "[encoded data removed]",
      "text/plain": [
       "<Figure size 432x288 with 2 Axes>"
      ]
     },
     "metadata": {
      "needs_background": "light"
     },
     "output_type": "display_data"
    }
   ],
   "source": [
    "i=-1\n",
    "plt.figure()\n",
    "plt.imshow(image_plane[batch_inds[i]])\n",
    "plt.colorbar()"
   ]
  },
  {
   "cell_type": "code",
   "execution_count": 816,
   "id": "90edc735-b8c4-4c9b-8ea8-8ec3969f5ad2",
   "metadata": {},
   "outputs": [
    {
     "data": {
      "text/plain": [
       "<matplotlib.colorbar.Colorbar at 0x7fb4e060b8b0>"
      ]
     },
     "execution_count": 816,
     "metadata": {},
     "output_type": "execute_result"
    },
    {
     "data": {
      "image/png": "[encoded data removed]",
      "text/plain": [
       "<Figure size 432x288 with 2 Axes>"
      ]
     },
     "metadata": {
      "needs_background": "light"
     },
     "output_type": "display_data"
    }
   ],
   "source": [
    "plt.figure()\n",
    "plt.imshow(rend[0,i])\n",
    "plt.colorbar()"
   ]
  },
  {
   "cell_type": "code",
   "execution_count": 758,
   "id": "f0daea4b-72d9-4da6-84e7-8ff6575d09f9",
   "metadata": {},
   "outputs": [
    {
     "data": {
      "text/plain": [
       "<matplotlib.colorbar.Colorbar at 0x7fb03a908910>"
      ]
     },
     "execution_count": 758,
     "metadata": {},
     "output_type": "execute_result"
    },
    {
     "data": {
      "image/png": "[encoded data removed]",
      "text/plain": [
       "<Figure size 432x288 with 2 Axes>"
      ]
     },
     "metadata": {
      "needs_background": "light"
     },
     "output_type": "display_data"
    }
   ],
   "source": [
    "i = 4\n",
    "plt.figure()\n",
    "plt.imshow(rend[1,i]-image_plane[batch_inds[i]])\n",
    "plt.colorbar()"
   ]
  },
  {
   "cell_type": "code",
   "execution_count": null,
   "id": "f0b1b70d-4fee-4bbf-93ea-9e372953e251",
   "metadata": {},
   "outputs": [],
   "source": []
  },
  {
   "cell_type": "code",
   "execution_count": 629,
   "id": "faaddf02-99c9-49f6-905c-6a08f91fc7b1",
   "metadata": {},
   "outputs": [
    {
     "name": "stdout",
     "output_type": "stream",
     "text": [
      "{'axis': ShardedDeviceArray([[-0.00121563, -0.00507453,  0.        ]], dtype=float32)}\n"
     ]
    }
   ],
   "source": [
    "# Testing and Vsualization\n",
    "batch_inds = np.array([1,0])\n",
    "loss_test, _, _, _, _, _,grads = eval_pstep(\n",
    "    velocity_field, i, shard(x[batch_inds, ...]), shard(y[batch_inds, ...]), shard(z[batch_inds, ...]), \n",
    "    shard(d[batch_inds, ...]), shard(t[batch_inds, ...]), shard(uv[batch_inds, ...]),\n",
    "    fov, tstart, tstop, shard(test_vis[batch_inds,...]), state, rand_key\n",
    ")\n",
    "print(grads)"
   ]
  },
  {
   "cell_type": "code",
   "execution_count": 309,
   "id": "077f95a3-3f5a-4529-a573-4663ceffaac4",
   "metadata": {},
   "outputs": [
    {
     "name": "stdout",
     "output_type": "stream",
     "text": [
      "{'axis': ShardedDeviceArray([[0.00137613, 0.0018365 , 0.01977683]], dtype=float32)}\n"
     ]
    }
   ],
   "source": [
    "batch_inds = np.array([0,1])\n",
    "loss_train, state, _, _, _, rand_key, grads = train_pstep(\n",
    "    velocity_field, i, shard(x[batch_inds, ...]), shard(y[batch_inds, ...]), shard(z[batch_inds, ...]), \n",
    "    shard(d[batch_inds, ...]), shard(t[batch_inds, ...]), shard(uv[batch_inds, ...]), fov, tstart, tstop,\n",
    "    shard(train_vis[batch_inds, ...]), state, rand_key\n",
    ")\n",
    "print(grads)"
   ]
  },
  {
   "cell_type": "code",
   "execution_count": 296,
   "id": "1135820e-f603-4a44-b202-28a078c9e834",
   "metadata": {},
   "outputs": [],
   "source": [
    "batch_inds = [0]\n",
    "\n",
    "u = shard(uv[batch_inds, ...])[0,...,0]\n",
    "v = shard(uv[batch_inds, ...])[0,...,1]\n",
    "\n",
    "use_jax= True\n",
    "import jax.scipy.ndimage as _nd\n",
    "interp_order = 1"
   ]
  },
  {
   "cell_type": "code",
   "execution_count": 297,
   "id": "139b50a1-d351-4a9f-956f-fcf40169c120",
   "metadata": {},
   "outputs": [],
   "source": [
    "_np = jnp\n",
    "\n",
    "image = np.zeros((64,64))\n",
    "\n",
    "if image.ndim == 2:\n",
    "    image = image[None,...]\n",
    "\n",
    "nb, ny, nx = image.shape   \n",
    "b = np.tile(np.array(range(nb))[...,None], u.shape[-1])\n",
    "\n",
    "rad_per_uas = 4.848136811094136e-12\n",
    "psize = fov / nx * rad_per_uas\n",
    "freqs = _np.fft.fftshift(_np.fft.fftfreq(n=nx, d=psize))\n",
    "fft = _np.fft.fftshift(_np.fft.fft2(_np.fft.ifftshift(image)))"
   ]
  },
  {
   "cell_type": "code",
   "execution_count": 298,
   "id": "7f5af7ee-c917-4973-9517-a5c7d0474f96",
   "metadata": {},
   "outputs": [],
   "source": [
    "pulsefac = observation_utils.trianglePulse2D(u, v, psize, use_jax=use_jax)\n",
    "phase = observation_utils.extra_phase(u, v, psize, image.shape, use_jax=use_jax)\n",
    "coords = _np.stack((v, u), axis=-1)"
   ]
  },
  {
   "cell_type": "code",
   "execution_count": 300,
   "id": "fca31640-8b4e-4a3c-aa6e-0707cc831568",
   "metadata": {},
   "outputs": [],
   "source": [
    "fov_uv = _np.array((freqs[-1]-freqs[0], freqs[-1]-freqs[0]))\n",
    "fourier_image_coords = _np.concatenate((\n",
    "    b[...,None], \n",
    "    utils.world_to_image_coords(coords, fov_uv, (nx, ny), use_jax=use_jax) + 0.5\n",
    "), axis=-1)\n",
    "\n",
    "visibilities = _nd.map_coordinates(fft, fourier_image_coords.T, order=interp_order).T"
   ]
  },
  {
   "cell_type": "code",
   "execution_count": 174,
   "id": "046eb6cf-ced4-4216-b7bb-a13092f3a2ff",
   "metadata": {
    "collapsed": true,
    "jupyter": {
     "outputs_hidden": true
    },
    "tags": []
   },
   "outputs": [
    {
     "name": "stdout",
     "output_type": "stream",
     "text": [
      "(2, 171, 2)\n",
      "(2, 64, 64)\n"
     ]
    },
    {
     "ename": "TypeError",
     "evalue": "mul got incompatible shapes for broadcasting: (171, 2), (2, 171).",
     "output_type": "error",
     "traceback": [
      "\u001b[0;31m---------------------------------------------------------------------------\u001b[0m",
      "\u001b[0;31mTypeError\u001b[0m                                 Traceback (most recent call last)",
      "\u001b[0;32m/tmp/ipykernel_1832/1134105235.py\u001b[0m in \u001b[0;36m<module>\u001b[0;34m\u001b[0m\n\u001b[1;32m      1\u001b[0m \u001b[0mbatch_inds\u001b[0m \u001b[0;34m=\u001b[0m \u001b[0mnp\u001b[0m\u001b[0;34m.\u001b[0m\u001b[0marray\u001b[0m\u001b[0;34m(\u001b[0m\u001b[0;34m[\u001b[0m\u001b[0;36m1\u001b[0m\u001b[0;34m,\u001b[0m\u001b[0;36m0\u001b[0m\u001b[0;34m]\u001b[0m\u001b[0;34m)\u001b[0m\u001b[0;34m\u001b[0m\u001b[0;34m\u001b[0m\u001b[0m\n\u001b[0;32m----> 2\u001b[0;31m loss_train, state, _, _, _, rand_key, grads = train_pstep(\n\u001b[0m\u001b[1;32m      3\u001b[0m     \u001b[0mvelocity_field\u001b[0m\u001b[0;34m,\u001b[0m \u001b[0mi\u001b[0m\u001b[0;34m,\u001b[0m \u001b[0mshard\u001b[0m\u001b[0;34m(\u001b[0m\u001b[0mx\u001b[0m\u001b[0;34m[\u001b[0m\u001b[0mbatch_inds\u001b[0m\u001b[0;34m,\u001b[0m \u001b[0;34m...\u001b[0m\u001b[0;34m]\u001b[0m\u001b[0;34m)\u001b[0m\u001b[0;34m,\u001b[0m \u001b[0mshard\u001b[0m\u001b[0;34m(\u001b[0m\u001b[0my\u001b[0m\u001b[0;34m[\u001b[0m\u001b[0mbatch_inds\u001b[0m\u001b[0;34m,\u001b[0m \u001b[0;34m...\u001b[0m\u001b[0;34m]\u001b[0m\u001b[0;34m)\u001b[0m\u001b[0;34m,\u001b[0m \u001b[0mshard\u001b[0m\u001b[0;34m(\u001b[0m\u001b[0mz\u001b[0m\u001b[0;34m[\u001b[0m\u001b[0mbatch_inds\u001b[0m\u001b[0;34m,\u001b[0m \u001b[0;34m...\u001b[0m\u001b[0;34m]\u001b[0m\u001b[0;34m)\u001b[0m\u001b[0;34m,\u001b[0m\u001b[0;34m\u001b[0m\u001b[0;34m\u001b[0m\u001b[0m\n\u001b[1;32m      4\u001b[0m     \u001b[0mshard\u001b[0m\u001b[0;34m(\u001b[0m\u001b[0md\u001b[0m\u001b[0;34m[\u001b[0m\u001b[0mbatch_inds\u001b[0m\u001b[0;34m,\u001b[0m \u001b[0;34m...\u001b[0m\u001b[0;34m]\u001b[0m\u001b[0;34m)\u001b[0m\u001b[0;34m,\u001b[0m \u001b[0mshard\u001b[0m\u001b[0;34m(\u001b[0m\u001b[0mt\u001b[0m\u001b[0;34m[\u001b[0m\u001b[0mbatch_inds\u001b[0m\u001b[0;34m,\u001b[0m \u001b[0;34m...\u001b[0m\u001b[0;34m]\u001b[0m\u001b[0;34m)\u001b[0m\u001b[0;34m,\u001b[0m \u001b[0mshard\u001b[0m\u001b[0;34m(\u001b[0m\u001b[0muv\u001b[0m\u001b[0;34m[\u001b[0m\u001b[0mbatch_inds\u001b[0m\u001b[0;34m,\u001b[0m \u001b[0;34m...\u001b[0m\u001b[0;34m]\u001b[0m\u001b[0;34m)\u001b[0m\u001b[0;34m,\u001b[0m \u001b[0mfov\u001b[0m\u001b[0;34m,\u001b[0m \u001b[0mtstart\u001b[0m\u001b[0;34m,\u001b[0m \u001b[0mtstop\u001b[0m\u001b[0;34m,\u001b[0m\u001b[0;34m\u001b[0m\u001b[0;34m\u001b[0m\u001b[0m\n\u001b[1;32m      5\u001b[0m     \u001b[0mshard\u001b[0m\u001b[0;34m(\u001b[0m\u001b[0mtrain_vis\u001b[0m\u001b[0;34m[\u001b[0m\u001b[0mbatch_inds\u001b[0m\u001b[0;34m,\u001b[0m \u001b[0;34m...\u001b[0m\u001b[0;34m]\u001b[0m\u001b[0;34m)\u001b[0m\u001b[0;34m,\u001b[0m \u001b[0mstate\u001b[0m\u001b[0;34m,\u001b[0m \u001b[0mrand_key\u001b[0m\u001b[0;34m\u001b[0m\u001b[0;34m\u001b[0m\u001b[0m\n",
      "    \u001b[0;31m[... skipping hidden 13 frame]\u001b[0m\n",
      "\u001b[0;32m/scratch/imaging/projects/bh_nerf/envs/jax/lib/python3.9/site-packages/flax/linen/module.py\u001b[0m in \u001b[0;36mwrapped_module_method\u001b[0;34m(*args, **kwargs)\u001b[0m\n\u001b[1;32m    273\u001b[0m     \u001b[0m_context\u001b[0m\u001b[0;34m.\u001b[0m\u001b[0mmodule_stack\u001b[0m\u001b[0;34m.\u001b[0m\u001b[0mappend\u001b[0m\u001b[0;34m(\u001b[0m\u001b[0mself\u001b[0m\u001b[0;34m)\u001b[0m\u001b[0;34m\u001b[0m\u001b[0;34m\u001b[0m\u001b[0m\n\u001b[1;32m    274\u001b[0m     \u001b[0;32mtry\u001b[0m\u001b[0;34m:\u001b[0m\u001b[0;34m\u001b[0m\u001b[0;34m\u001b[0m\u001b[0m\n\u001b[0;32m--> 275\u001b[0;31m       \u001b[0my\u001b[0m \u001b[0;34m=\u001b[0m \u001b[0mfun\u001b[0m\u001b[0;34m(\u001b[0m\u001b[0mself\u001b[0m\u001b[0;34m,\u001b[0m \u001b[0;34m*\u001b[0m\u001b[0margs\u001b[0m\u001b[0;34m,\u001b[0m \u001b[0;34m**\u001b[0m\u001b[0mkwargs\u001b[0m\u001b[0;34m)\u001b[0m\u001b[0;34m\u001b[0m\u001b[0;34m\u001b[0m\u001b[0m\n\u001b[0m\u001b[1;32m    276\u001b[0m       \u001b[0;32mif\u001b[0m \u001b[0m_context\u001b[0m\u001b[0;34m.\u001b[0m\u001b[0mcapture_stack\u001b[0m\u001b[0;34m:\u001b[0m\u001b[0;34m\u001b[0m\u001b[0;34m\u001b[0m\u001b[0m\n\u001b[1;32m    277\u001b[0m         \u001b[0mfilter_fn\u001b[0m \u001b[0;34m=\u001b[0m \u001b[0m_context\u001b[0m\u001b[0;34m.\u001b[0m\u001b[0mcapture_stack\u001b[0m\u001b[0;34m[\u001b[0m\u001b[0;34m-\u001b[0m\u001b[0;36m1\u001b[0m\u001b[0;34m]\u001b[0m\u001b[0;34m\u001b[0m\u001b[0;34m\u001b[0m\u001b[0m\n",
      "    \u001b[0;31m[... skipping hidden 8 frame]\u001b[0m\n",
      "\u001b[0;32m/scratch/imaging/projects/bh_nerf/bhNeRF/notebooks/../bhnerf/network_utils.py\u001b[0m in \u001b[0;36mtrain_step\u001b[0;34m(self, velocity, i, x, y, z, d, t, uv, fov, tstart, tstop, target, state, key)\u001b[0m\n\u001b[1;32m    393\u001b[0m     \u001b[0;32mdef\u001b[0m \u001b[0mtrain_step\u001b[0m\u001b[0;34m(\u001b[0m\u001b[0mself\u001b[0m\u001b[0;34m,\u001b[0m \u001b[0mvelocity\u001b[0m\u001b[0;34m,\u001b[0m \u001b[0mi\u001b[0m\u001b[0;34m,\u001b[0m \u001b[0mx\u001b[0m\u001b[0;34m,\u001b[0m \u001b[0my\u001b[0m\u001b[0;34m,\u001b[0m \u001b[0mz\u001b[0m\u001b[0;34m,\u001b[0m \u001b[0md\u001b[0m\u001b[0;34m,\u001b[0m \u001b[0mt\u001b[0m\u001b[0;34m,\u001b[0m \u001b[0muv\u001b[0m\u001b[0;34m,\u001b[0m \u001b[0mfov\u001b[0m\u001b[0;34m,\u001b[0m \u001b[0mtstart\u001b[0m\u001b[0;34m,\u001b[0m \u001b[0mtstop\u001b[0m\u001b[0;34m,\u001b[0m \u001b[0mtarget\u001b[0m\u001b[0;34m,\u001b[0m \u001b[0mstate\u001b[0m\u001b[0;34m,\u001b[0m \u001b[0mkey\u001b[0m\u001b[0;34m)\u001b[0m\u001b[0;34m:\u001b[0m\u001b[0;34m\u001b[0m\u001b[0;34m\u001b[0m\u001b[0m\n\u001b[1;32m    394\u001b[0m         \u001b[0mkey\u001b[0m\u001b[0;34m,\u001b[0m \u001b[0mnew_key\u001b[0m \u001b[0;34m=\u001b[0m \u001b[0mrandom\u001b[0m\u001b[0;34m.\u001b[0m\u001b[0msplit\u001b[0m\u001b[0;34m(\u001b[0m\u001b[0mkey\u001b[0m\u001b[0;34m)\u001b[0m\u001b[0;34m\u001b[0m\u001b[0;34m\u001b[0m\u001b[0m\n\u001b[0;32m--> 395\u001b[0;31m         vals, grads = jax.value_and_grad(self.lossfn, argnums=(0), has_aux=True)(\n\u001b[0m\u001b[1;32m    396\u001b[0m             state.params, x, y, z, d, t, velocity, uv, fov, tstart, tstop, target, new_key)\n\u001b[1;32m    397\u001b[0m         \u001b[0mgrads\u001b[0m \u001b[0;34m=\u001b[0m \u001b[0mjax\u001b[0m\u001b[0;34m.\u001b[0m\u001b[0mlax\u001b[0m\u001b[0;34m.\u001b[0m\u001b[0mpmean\u001b[0m\u001b[0;34m(\u001b[0m\u001b[0mgrads\u001b[0m\u001b[0;34m,\u001b[0m \u001b[0maxis_name\u001b[0m\u001b[0;34m=\u001b[0m\u001b[0;34m'batch'\u001b[0m\u001b[0;34m)\u001b[0m\u001b[0;34m\u001b[0m\u001b[0;34m\u001b[0m\u001b[0m\n",
      "    \u001b[0;31m[... skipping hidden 7 frame]\u001b[0m\n",
      "\u001b[0;32m/scratch/imaging/projects/bh_nerf/envs/jax/lib/python3.9/site-packages/flax/linen/module.py\u001b[0m in \u001b[0;36mwrapped_module_method\u001b[0;34m(*args, **kwargs)\u001b[0m\n\u001b[1;32m    273\u001b[0m     \u001b[0m_context\u001b[0m\u001b[0;34m.\u001b[0m\u001b[0mmodule_stack\u001b[0m\u001b[0;34m.\u001b[0m\u001b[0mappend\u001b[0m\u001b[0;34m(\u001b[0m\u001b[0mself\u001b[0m\u001b[0;34m)\u001b[0m\u001b[0;34m\u001b[0m\u001b[0;34m\u001b[0m\u001b[0m\n\u001b[1;32m    274\u001b[0m     \u001b[0;32mtry\u001b[0m\u001b[0;34m:\u001b[0m\u001b[0;34m\u001b[0m\u001b[0;34m\u001b[0m\u001b[0m\n\u001b[0;32m--> 275\u001b[0;31m       \u001b[0my\u001b[0m \u001b[0;34m=\u001b[0m \u001b[0mfun\u001b[0m\u001b[0;34m(\u001b[0m\u001b[0mself\u001b[0m\u001b[0;34m,\u001b[0m \u001b[0;34m*\u001b[0m\u001b[0margs\u001b[0m\u001b[0;34m,\u001b[0m \u001b[0;34m**\u001b[0m\u001b[0mkwargs\u001b[0m\u001b[0;34m)\u001b[0m\u001b[0;34m\u001b[0m\u001b[0;34m\u001b[0m\u001b[0m\n\u001b[0m\u001b[1;32m    276\u001b[0m       \u001b[0;32mif\u001b[0m \u001b[0m_context\u001b[0m\u001b[0;34m.\u001b[0m\u001b[0mcapture_stack\u001b[0m\u001b[0;34m:\u001b[0m\u001b[0;34m\u001b[0m\u001b[0;34m\u001b[0m\u001b[0m\n\u001b[1;32m    277\u001b[0m         \u001b[0mfilter_fn\u001b[0m \u001b[0;34m=\u001b[0m \u001b[0m_context\u001b[0m\u001b[0;34m.\u001b[0m\u001b[0mcapture_stack\u001b[0m\u001b[0;34m[\u001b[0m\u001b[0;34m-\u001b[0m\u001b[0;36m1\u001b[0m\u001b[0;34m]\u001b[0m\u001b[0;34m\u001b[0m\u001b[0;34m\u001b[0m\u001b[0m\n",
      "\u001b[0;32m/scratch/imaging/projects/bh_nerf/bhNeRF/notebooks/../bhnerf/network_utils.py\u001b[0m in \u001b[0;36mlossfn\u001b[0;34m(self, params, x, y, z, d, t, velocity, uv, fov, tstart, tstop, target, key)\u001b[0m\n\u001b[1;32m    381\u001b[0m         \u001b[0mprint\u001b[0m\u001b[0;34m(\u001b[0m\u001b[0mrendering\u001b[0m\u001b[0;34m.\u001b[0m\u001b[0mshape\u001b[0m\u001b[0;34m)\u001b[0m\u001b[0;34m\u001b[0m\u001b[0;34m\u001b[0m\u001b[0m\n\u001b[1;32m    382\u001b[0m         \u001b[0muv\u001b[0m \u001b[0;34m=\u001b[0m \u001b[0mjnp\u001b[0m\u001b[0;34m.\u001b[0m\u001b[0mwhere\u001b[0m\u001b[0;34m(\u001b[0m\u001b[0mvalid_uv_mask\u001b[0m\u001b[0;34m,\u001b[0m \u001b[0muv\u001b[0m\u001b[0;34m,\u001b[0m \u001b[0mjnp\u001b[0m\u001b[0;34m.\u001b[0m\u001b[0mzeros_like\u001b[0m\u001b[0;34m(\u001b[0m\u001b[0muv\u001b[0m\u001b[0;34m)\u001b[0m\u001b[0;34m)\u001b[0m\u001b[0;34m\u001b[0m\u001b[0;34m\u001b[0m\u001b[0m\n\u001b[0;32m--> 383\u001b[0;31m         visibilities = observation_utils.observe_nonoise(\n\u001b[0m\u001b[1;32m    384\u001b[0m             rendering[0], uv[...,0], uv[...,1], fov, use_jax=True)\n\u001b[1;32m    385\u001b[0m \u001b[0;34m\u001b[0m\u001b[0m\n",
      "\u001b[0;32m/scratch/imaging/projects/bh_nerf/bhNeRF/notebooks/../bhnerf/observation_utils.py\u001b[0m in \u001b[0;36mobserve_nonoise\u001b[0;34m(image, u, v, fov, use_jax)\u001b[0m\n\u001b[1;32m    219\u001b[0m     \u001b[0mfourier_image_coords\u001b[0m \u001b[0;34m=\u001b[0m \u001b[0mutils\u001b[0m\u001b[0;34m.\u001b[0m\u001b[0mworld_to_image_coords\u001b[0m\u001b[0;34m(\u001b[0m\u001b[0mcoords\u001b[0m\u001b[0;34m,\u001b[0m \u001b[0mfov_uv\u001b[0m\u001b[0;34m,\u001b[0m \u001b[0;34m(\u001b[0m\u001b[0mnx\u001b[0m\u001b[0;34m,\u001b[0m \u001b[0mny\u001b[0m\u001b[0;34m)\u001b[0m\u001b[0;34m,\u001b[0m \u001b[0muse_jax\u001b[0m\u001b[0;34m=\u001b[0m\u001b[0muse_jax\u001b[0m\u001b[0;34m)\u001b[0m \u001b[0;34m+\u001b[0m \u001b[0;36m0.5\u001b[0m\u001b[0;34m\u001b[0m\u001b[0;34m\u001b[0m\u001b[0m\n\u001b[1;32m    220\u001b[0m     \u001b[0mvisibilities\u001b[0m \u001b[0;34m=\u001b[0m \u001b[0m_nd\u001b[0m\u001b[0;34m.\u001b[0m\u001b[0mmap_coordinates\u001b[0m\u001b[0;34m(\u001b[0m\u001b[0mfft\u001b[0m\u001b[0;34m,\u001b[0m \u001b[0mfourier_image_coords\u001b[0m\u001b[0;34m.\u001b[0m\u001b[0mT\u001b[0m\u001b[0;34m,\u001b[0m \u001b[0morder\u001b[0m\u001b[0;34m=\u001b[0m\u001b[0minterp_order\u001b[0m\u001b[0;34m)\u001b[0m\u001b[0;34m\u001b[0m\u001b[0;34m\u001b[0m\u001b[0m\n\u001b[0;32m--> 221\u001b[0;31m     \u001b[0mvisibilities\u001b[0m \u001b[0;34m=\u001b[0m \u001b[0mvisibilities\u001b[0m \u001b[0;34m*\u001b[0m \u001b[0mphase\u001b[0m \u001b[0;34m*\u001b[0m \u001b[0mpulsefac\u001b[0m\u001b[0;34m\u001b[0m\u001b[0;34m\u001b[0m\u001b[0m\n\u001b[0m\u001b[1;32m    222\u001b[0m     \u001b[0;32mreturn\u001b[0m \u001b[0mvisibilities\u001b[0m\u001b[0;34m\u001b[0m\u001b[0;34m\u001b[0m\u001b[0m\n\u001b[1;32m    223\u001b[0m \u001b[0;34m\u001b[0m\u001b[0m\n",
      "    \u001b[0;31m[... skipping hidden 1 frame]\u001b[0m\n",
      "\u001b[0;32m/scratch/imaging/projects/bh_nerf/envs/jax/lib/python3.9/site-packages/jax/_src/numpy/lax_numpy.py\u001b[0m in \u001b[0;36mdeferring_binary_op\u001b[0;34m(self, other)\u001b[0m\n\u001b[1;32m   5922\u001b[0m     \u001b[0;32mif\u001b[0m \u001b[0;32mnot\u001b[0m \u001b[0misinstance\u001b[0m\u001b[0;34m(\u001b[0m\u001b[0mother\u001b[0m\u001b[0;34m,\u001b[0m \u001b[0m_scalar_types\u001b[0m \u001b[0;34m+\u001b[0m \u001b[0m_arraylike_types\u001b[0m \u001b[0;34m+\u001b[0m \u001b[0;34m(\u001b[0m\u001b[0mcore\u001b[0m\u001b[0;34m.\u001b[0m\u001b[0mTracer\u001b[0m\u001b[0;34m,\u001b[0m\u001b[0;34m)\u001b[0m\u001b[0;34m)\u001b[0m\u001b[0;34m:\u001b[0m\u001b[0;34m\u001b[0m\u001b[0;34m\u001b[0m\u001b[0m\n\u001b[1;32m   5923\u001b[0m       \u001b[0;32mreturn\u001b[0m \u001b[0mNotImplemented\u001b[0m\u001b[0;34m\u001b[0m\u001b[0;34m\u001b[0m\u001b[0m\n\u001b[0;32m-> 5924\u001b[0;31m     \u001b[0;32mreturn\u001b[0m \u001b[0mbinary_op\u001b[0m\u001b[0;34m(\u001b[0m\u001b[0mself\u001b[0m\u001b[0;34m,\u001b[0m \u001b[0mother\u001b[0m\u001b[0;34m)\u001b[0m\u001b[0;34m\u001b[0m\u001b[0;34m\u001b[0m\u001b[0m\n\u001b[0m\u001b[1;32m   5925\u001b[0m   \u001b[0;32mreturn\u001b[0m \u001b[0mdeferring_binary_op\u001b[0m\u001b[0;34m\u001b[0m\u001b[0;34m\u001b[0m\u001b[0m\n\u001b[1;32m   5926\u001b[0m \u001b[0;34m\u001b[0m\u001b[0m\n",
      "    \u001b[0;31m[... skipping hidden 17 frame]\u001b[0m\n",
      "\u001b[0;32m/scratch/imaging/projects/bh_nerf/envs/jax/lib/python3.9/site-packages/jax/_src/numpy/lax_numpy.py\u001b[0m in \u001b[0;36mfn\u001b[0;34m(x1, x2)\u001b[0m\n\u001b[1;32m    434\u001b[0m   \u001b[0;32mdef\u001b[0m \u001b[0mfn\u001b[0m\u001b[0;34m(\u001b[0m\u001b[0mx1\u001b[0m\u001b[0;34m,\u001b[0m \u001b[0mx2\u001b[0m\u001b[0;34m)\u001b[0m\u001b[0;34m:\u001b[0m\u001b[0;34m\u001b[0m\u001b[0;34m\u001b[0m\u001b[0m\n\u001b[1;32m    435\u001b[0m     \u001b[0mx1\u001b[0m\u001b[0;34m,\u001b[0m \u001b[0mx2\u001b[0m \u001b[0;34m=\u001b[0m \u001b[0m_promote_args\u001b[0m\u001b[0;34m(\u001b[0m\u001b[0mnumpy_fn\u001b[0m\u001b[0;34m.\u001b[0m\u001b[0m__name__\u001b[0m\u001b[0;34m,\u001b[0m \u001b[0mx1\u001b[0m\u001b[0;34m,\u001b[0m \u001b[0mx2\u001b[0m\u001b[0;34m)\u001b[0m\u001b[0;34m\u001b[0m\u001b[0;34m\u001b[0m\u001b[0m\n\u001b[0;32m--> 436\u001b[0;31m     \u001b[0;32mreturn\u001b[0m \u001b[0mlax_fn\u001b[0m\u001b[0;34m(\u001b[0m\u001b[0mx1\u001b[0m\u001b[0;34m,\u001b[0m \u001b[0mx2\u001b[0m\u001b[0;34m)\u001b[0m \u001b[0;32mif\u001b[0m \u001b[0mx1\u001b[0m\u001b[0;34m.\u001b[0m\u001b[0mdtype\u001b[0m \u001b[0;34m!=\u001b[0m \u001b[0mbool_\u001b[0m \u001b[0;32melse\u001b[0m \u001b[0mbool_lax_fn\u001b[0m\u001b[0;34m(\u001b[0m\u001b[0mx1\u001b[0m\u001b[0;34m,\u001b[0m \u001b[0mx2\u001b[0m\u001b[0;34m)\u001b[0m\u001b[0;34m\u001b[0m\u001b[0;34m\u001b[0m\u001b[0m\n\u001b[0m\u001b[1;32m    437\u001b[0m   \u001b[0mfn\u001b[0m \u001b[0;34m=\u001b[0m \u001b[0mjit\u001b[0m\u001b[0;34m(\u001b[0m\u001b[0mfn\u001b[0m\u001b[0;34m,\u001b[0m \u001b[0minline\u001b[0m\u001b[0;34m=\u001b[0m\u001b[0;32mTrue\u001b[0m\u001b[0;34m)\u001b[0m\u001b[0;34m\u001b[0m\u001b[0;34m\u001b[0m\u001b[0m\n\u001b[1;32m    438\u001b[0m   \u001b[0;32mif\u001b[0m \u001b[0mlax_doc\u001b[0m\u001b[0;34m:\u001b[0m\u001b[0;34m\u001b[0m\u001b[0;34m\u001b[0m\u001b[0m\n",
      "    \u001b[0;31m[... skipping hidden 10 frame]\u001b[0m\n",
      "\u001b[0;32m/scratch/imaging/projects/bh_nerf/envs/jax/lib/python3.9/site-packages/jax/_src/lax/lax.py\u001b[0m in \u001b[0;36m_broadcasting_shape_rule\u001b[0;34m(name, *avals)\u001b[0m\n\u001b[1;32m   2240\u001b[0m   \u001b[0;32mif\u001b[0m \u001b[0mresult_shape\u001b[0m \u001b[0;32mis\u001b[0m \u001b[0;32mNone\u001b[0m\u001b[0;34m:\u001b[0m\u001b[0;34m\u001b[0m\u001b[0;34m\u001b[0m\u001b[0m\n\u001b[1;32m   2241\u001b[0m     \u001b[0mmsg\u001b[0m \u001b[0;34m=\u001b[0m \u001b[0;34m'{} got incompatible shapes for broadcasting: {}.'\u001b[0m\u001b[0;34m\u001b[0m\u001b[0;34m\u001b[0m\u001b[0m\n\u001b[0;32m-> 2242\u001b[0;31m     \u001b[0;32mraise\u001b[0m \u001b[0mTypeError\u001b[0m\u001b[0;34m(\u001b[0m\u001b[0mmsg\u001b[0m\u001b[0;34m.\u001b[0m\u001b[0mformat\u001b[0m\u001b[0;34m(\u001b[0m\u001b[0mname\u001b[0m\u001b[0;34m,\u001b[0m \u001b[0;34m', '\u001b[0m\u001b[0;34m.\u001b[0m\u001b[0mjoin\u001b[0m\u001b[0;34m(\u001b[0m\u001b[0mmap\u001b[0m\u001b[0;34m(\u001b[0m\u001b[0mstr\u001b[0m\u001b[0;34m,\u001b[0m \u001b[0mmap\u001b[0m\u001b[0;34m(\u001b[0m\u001b[0mtuple\u001b[0m\u001b[0;34m,\u001b[0m \u001b[0mshapes\u001b[0m\u001b[0;34m)\u001b[0m\u001b[0;34m)\u001b[0m\u001b[0;34m)\u001b[0m\u001b[0;34m)\u001b[0m\u001b[0;34m)\u001b[0m\u001b[0;34m\u001b[0m\u001b[0;34m\u001b[0m\u001b[0m\n\u001b[0m\u001b[1;32m   2243\u001b[0m   \u001b[0;32mreturn\u001b[0m \u001b[0mresult_shape\u001b[0m\u001b[0;34m\u001b[0m\u001b[0;34m\u001b[0m\u001b[0m\n\u001b[1;32m   2244\u001b[0m \u001b[0;34m\u001b[0m\u001b[0m\n",
      "\u001b[0;31mTypeError\u001b[0m: mul got incompatible shapes for broadcasting: (171, 2), (2, 171)."
     ]
    }
   ],
   "source": [
    "batch_inds = np.array([1,0])\n",
    "loss_train, state, _, _, _, rand_key, grads = train_pstep(\n",
    "    velocity_field, i, shard(x[batch_inds, ...]), shard(y[batch_inds, ...]), shard(z[batch_inds, ...]), \n",
    "    shard(d[batch_inds, ...]), shard(t[batch_inds, ...]), shard(uv[batch_inds, ...]), fov, tstart, tstop,\n",
    "    shard(train_vis[batch_inds, ...]), state, rand_key\n",
    ")\n",
    "print(grads)"
   ]
  },
  {
   "cell_type": "code",
   "execution_count": 163,
   "id": "5dc36fb8-625d-4cde-bd6d-8b7b413fd792",
   "metadata": {},
   "outputs": [
    {
     "data": {
      "text/plain": [
       "(1, 2, 171, 2)"
      ]
     },
     "execution_count": 163,
     "metadata": {},
     "output_type": "execute_result"
    }
   ],
   "source": [
    "shard(uv[batch_inds, ...]).shape"
   ]
  },
  {
   "cell_type": "code",
   "execution_count": 162,
   "id": "e5f24a7c-47bd-4402-a94a-e52ca20d29c0",
   "metadata": {},
   "outputs": [
    {
     "name": "stdout",
     "output_type": "stream",
     "text": [
      "{'axis': ShardedDeviceArray([[-0.00083896, -0.00018808,  0.        ]], dtype=float32)}\n"
     ]
    }
   ],
   "source": [
    "batch_inds = np.array([1,0])\n",
    "loss_train, state, _, _, _, rand_key, grads = train_pstep(\n",
    "    velocity_field, i, shard(x[batch_inds, ...]), shard(y[batch_inds, ...]), shard(z[batch_inds, ...]), \n",
    "    shard(d[batch_inds, ...]), shard(t[batch_inds, ...]), shard(uv[batch_inds, ...]), fov, tstart, tstop,\n",
    "    shard(train_vis[batch_inds, ...]), state, rand_key\n",
    ")\n",
    "print(grads)"
   ]
  },
  {
   "cell_type": "code",
   "execution_count": 150,
   "id": "8574f4ed-a5dd-40a2-bfa1-ad8aae9e5fc2",
   "metadata": {},
   "outputs": [
    {
     "name": "stdout",
     "output_type": "stream",
     "text": [
      "{'axis': ShardedDeviceArray([[-0.00083896, -0.00018808,  0.        ]], dtype=float32)}\n"
     ]
    }
   ],
   "source": [
    "# Testing and Vsualization\n",
    "batch_inds = np.array([1,0])\n",
    "loss_test, _, _, _, _, _,grads = eval_pstep(\n",
    "    velocity_field, i, shard(x[batch_inds, ...]), shard(y[batch_inds, ...]), shard(z[batch_inds, ...]), \n",
    "    shard(d[batch_inds, ...]), shard(t[batch_inds, ...]), shard(uv[batch_inds, ...]),\n",
    "    fov, tstart, tstop, shard(test_vis[batch_inds,...]), state, rand_key\n",
    ")\n",
    "print(grads)"
   ]
  },
  {
   "cell_type": "code",
   "execution_count": 151,
   "id": "15ffb96b-ebc7-43a7-9920-ef1bec459fa4",
   "metadata": {},
   "outputs": [
    {
     "name": "stdout",
     "output_type": "stream",
     "text": [
      "{'axis': ShardedDeviceArray([[0., 0., 0.]], dtype=float32)}\n"
     ]
    }
   ],
   "source": [
    "# Testing and Vsualization\n",
    "batch_inds = np.array([0,1])\n",
    "loss_test, _, _, _, _, _,grads = eval_pstep(\n",
    "    velocity_field, i, shard(x[batch_inds, ...]), shard(y[batch_inds, ...]), shard(z[batch_inds, ...]), \n",
    "    shard(d[batch_inds, ...]), shard(t[batch_inds, ...]), shard(uv[batch_inds, ...]),\n",
    "    fov, tstart, tstop, shard(test_vis[batch_inds,...]), state, rand_key\n",
    ")\n",
    "print(grads)"
   ]
  },
  {
   "cell_type": "code",
   "execution_count": 140,
   "id": "e3fa22d3-d1c0-4fd2-ab8c-065b4b279d07",
   "metadata": {},
   "outputs": [
    {
     "name": "stdout",
     "output_type": "stream",
     "text": [
      "{'axis': ShardedDeviceArray([[-0.00107691, -0.00027849,  0.        ]], dtype=float32)}\n"
     ]
    }
   ],
   "source": [
    "i = 1\n",
    "\n",
    "# Testing and Vsualization\n",
    "batch_inds = np.array([1])\n",
    "loss_test, _, _, _, _, _,grads = eval_pstep(\n",
    "    velocity_field, i, shard(x[batch_inds, ...]), shard(y[batch_inds, ...]), shard(z[batch_inds, ...]), \n",
    "    shard(d[batch_inds, ...]), shard(t[batch_inds, ...]), shard(uv[batch_inds, ...]),\n",
    "    fov, tstart, tstop, shard(test_vis[batch_inds,...]), state, rand_key\n",
    ")\n",
    "print(grads)"
   ]
  },
  {
   "cell_type": "code",
   "execution_count": 139,
   "id": "bb620014-8704-4375-97b0-b01b0b6ac7a4",
   "metadata": {},
   "outputs": [
    {
     "data": {
      "text/plain": [
       "{'axis': ShardedDeviceArray([[0., 0., 0.]], dtype=float32)}"
      ]
     },
     "execution_count": 139,
     "metadata": {},
     "output_type": "execute_result"
    }
   ],
   "source": [
    "grads"
   ]
  },
  {
   "cell_type": "code",
   "execution_count": 21,
   "id": "f428d760-1859-4b45-95f3-04b3d8926e76",
   "metadata": {},
   "outputs": [
    {
     "data": {
      "application/vnd.jupyter.widget-view+json": {
       "model_id": "d3cced04477a407fb4c4dd4478e1d728",
       "version_major": 2,
       "version_minor": 0
      },
      "text/plain": [
       "Canvas(toolbar=Toolbar(toolitems=[('Home', 'Reset original view', 'home', 'home'), ('Back', 'Back to previous …"
      ]
     },
     "metadata": {},
     "output_type": "display_data"
    },
    {
     "data": {
      "text/plain": [
       "<matplotlib.colorbar.Colorbar at 0x7fce94ab6490>"
      ]
     },
     "execution_count": 21,
     "metadata": {},
     "output_type": "execute_result"
    }
   ],
   "source": [
    "%matplotlib widget\n",
    "plt.imshow(image_plane[0])\n",
    "plt.colorbar()"
   ]
  },
  {
   "cell_type": "code",
   "execution_count": 18,
   "id": "408ef276-fe7a-4b2c-b736-ecc68c0e4566",
   "metadata": {},
   "outputs": [
    {
     "data": {
      "application/vnd.jupyter.widget-view+json": {
       "model_id": "74ecc55804064c3186e014a23bcef4c8",
       "version_major": 2,
       "version_minor": 0
      },
      "text/plain": [
       "Canvas(toolbar=Toolbar(toolitems=[('Home', 'Reset original view', 'home', 'home'), ('Back', 'Back to previous …"
      ]
     },
     "metadata": {},
     "output_type": "display_data"
    },
    {
     "data": {
      "text/plain": [
       "<matplotlib.colorbar.Colorbar at 0x7fce8bda9df0>"
      ]
     },
     "execution_count": 18,
     "metadata": {},
     "output_type": "execute_result"
    }
   ],
   "source": [
    "%matplotlib widget\n",
    "plt.imshow(ren[0,0])\n",
    "plt.colorbar()"
   ]
  },
  {
   "cell_type": "code",
   "execution_count": null,
   "id": "5c631aac-bad4-4c9a-bc83-e04b09b9b5d5",
   "metadata": {},
   "outputs": [
    {
     "data": {
      "application/vnd.jupyter.widget-view+json": {
       "model_id": "",
       "version_major": 2,
       "version_minor": 0
      },
      "text/plain": [
       "Canvas(toolbar=Toolbar(toolitems=[('Home', 'Reset original view', 'home', 'home'), ('Back', 'Back to previous …"
      ]
     },
     "metadata": {},
     "output_type": "display_data"
    },
    {
     "data": {
      "text/plain": [
       "<matplotlib.colorbar.Colorbar at 0x7fbf2ce17af0>"
      ]
     },
     "execution_count": 59,
     "metadata": {},
     "output_type": "execute_result"
    }
   ],
   "source": [
    "%matplotlib widget\n",
    "t1 = int(64*(t[batch_inds] - tstart) / (tstop - tstart))\n",
    "plt.figure()\n",
    "plt.imshow(image_plane_test[t1])\n",
    "plt.colorbar()"
   ]
  },
  {
   "cell_type": "code",
   "execution_count": 60,
   "id": "e3c31a0a-1585-481a-a717-3681f6c2e59a",
   "metadata": {},
   "outputs": [
    {
     "data": {
      "application/vnd.jupyter.widget-view+json": {
       "model_id": "5dc93de58cce47b6bd0b9881f538aa33",
       "version_major": 2,
       "version_minor": 0
      },
      "text/plain": [
       "Canvas(toolbar=Toolbar(toolitems=[('Home', 'Reset original view', 'home', 'home'), ('Back', 'Back to previous …"
      ]
     },
     "metadata": {},
     "output_type": "display_data"
    },
    {
     "data": {
      "text/plain": [
       "<matplotlib.colorbar.Colorbar at 0x7fbfc57f0040>"
      ]
     },
     "execution_count": 60,
     "metadata": {},
     "output_type": "execute_result"
    }
   ],
   "source": [
    "plt.figure()\n",
    "plt.imshow(rend[0,0])\n",
    "plt.colorbar()"
   ]
  }
 ],
 "metadata": {
  "kernelspec": {
   "display_name": "jax",
   "language": "python",
   "name": "jax"
  },
  "language_info": {
   "codemirror_mode": {
    "name": "ipython",
    "version": 3
   },
   "file_extension": ".py",
   "mimetype": "text/x-python",
   "name": "python",
   "nbconvert_exporter": "python",
   "pygments_lexer": "ipython3",
   "version": "3.9.6"
  }
 },
 "nbformat": 4,
 "nbformat_minor": 5
}
