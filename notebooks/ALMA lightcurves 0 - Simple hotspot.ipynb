{
 "cells": [
  {
   "cell_type": "code",
   "execution_count": 1,
   "id": "b85f8e98-8ea4-4e4c-9304-038107b539e2",
   "metadata": {},
   "outputs": [
    {
     "name": "stdout",
     "output_type": "stream",
     "text": [
      "Welcome to eht-imaging! v 1.2.2 \n",
      "\n"
     ]
    },
    {
     "name": "stderr",
     "output_type": "stream",
     "text": [
      "2023-07-12 12:18:12.701102: W tensorflow/stream_executor/platform/default/dso_loader.cc:64] Could not load dynamic library 'libcudart.so.11.0'; dlerror: libcudart.so.11.0: cannot open shared object file: No such file or directory; LD_LIBRARY_PATH: /.singularity.d/libs\n"
     ]
    }
   ],
   "source": [
    "import bhnerf\n",
    "from astropy import units\n",
    "import jax\n",
    "import pandas as pd\n",
    "import numpy as np\n",
    "import xarray as xr\n",
    "import matplotlib.pyplot as plt\n",
    "import pandas as pd\n",
    "from bhnerf import constants as consts"
   ]
  },
  {
   "cell_type": "code",
   "execution_count": 145,
   "id": "fb6b71be-6431-4f74-9191-5c940629142a",
   "metadata": {},
   "outputs": [],
   "source": [
    "def make_ehtim_movie(image_plane, t_array, fov_M, stokes, mjd=57854, ra=12.513729999999999, dec=12.39112):\n",
    "    import ehtim as eh\n",
    "    fov_rad = (fov_M * consts.GM_c2(consts.sgra_mass) / consts.sgra_distance.to('m')) * units.rad\n",
    "    npix = image_plane.shape[-1]\n",
    "    im_list = []\n",
    "    for t, image in zip(t_array, image_plane):\n",
    "        im = eh.image.make_empty(npix, fov_rad.value, ra, dec, mjd=mjd, time=t.value)\n",
    "        for i, s in enumerate(stokes):\n",
    "            im.add_pol_image(np.flipud(scipy.ndimage.rotate(image[i], -158-90, reshape=False)), s)\n",
    "        im_list.append(im)\n",
    "    movie = eh.movie.merge_im_list(im_list)\n",
    "    return movie"
   ]
  },
  {
   "cell_type": "markdown",
   "id": "37080b65-356d-4038-9765-3a7c1a8ecf39",
   "metadata": {
    "jp-MarkdownHeadingCollapsed": true,
    "tags": []
   },
   "source": [
    "Generate synthetic ALMA lightcurves \n",
    "---\n",
    "Polarized lightcurves corresponding to ALMA observation times on April 11, 2017. \\\n",
    "Generate synthetic hot-spot data and the resulting polarized image-plane."
   ]
  },
  {
   "cell_type": "code",
   "execution_count": 6,
   "id": "23f4f47a-f7af-4126-b590-fa98007a1a06",
   "metadata": {},
   "outputs": [
    {
     "data": {
      "application/vnd.jupyter.widget-view+json": {
       "model_id": "c682b43dfa644b549e2a1fa61d0e8639",
       "version_major": 2,
       "version_minor": 0
      },
      "text/plain": [
       "Canvas(toolbar=Toolbar(toolitems=[('Home', 'Reset original view', 'home', 'home'), ('Back', 'Back to previous …"
      ]
     },
     "metadata": {},
     "output_type": "display_data"
    }
   ],
   "source": [
    "\"\"\"\n",
    "Load ALMA Data and time average over a window\n",
    "\"\"\"\n",
    "data_path = '../data/Apr11_HI.dat'\n",
    "alma_lc = pd.read_csv(data_path)\n",
    "\n",
    "t0 = 9. + 20./60.           # UTC\n",
    "t7 = t0 + 68./60. + 35./60. # UTC\n",
    "\n",
    "window_size = 8\n",
    "alma_lc_loops = alma_lc.loc[np.bitwise_and(alma_lc['time']>=t0, alma_lc['time']<=t7)]\n",
    "alma_lc_means = alma_lc_loops.rolling(window_size).mean().loc[::window_size].dropna()\n",
    "t_frames = alma_lc_means['time'].values * units.hr\n",
    "\n",
    "%matplotlib widget\n",
    "fig, axes = plt.subplots(1, 4, figsize=(10,2.7))\n",
    "for s, ax in zip(['I', 'Q', 'U', 'V'], axes):\n",
    "    ax.errorbar(alma_lc.time,  alma_lc[s], fmt='.', ecolor='black')\n",
    "    ax.errorbar(alma_lc_means.time,  alma_lc_means[s], fmt='.', color='tab:orange')\n",
    "    ymin = alma_lc[s].min() - 0.2*np.abs(alma_lc[s].min())\n",
    "    ymax = alma_lc[s].max() + 0.2*np.abs(alma_lc[s].max())\n",
    "    ax.fill_between([t0, t7], [ymax, ymax], ymin, alpha=0.3, color='gray')\n",
    "    ax.set_ylim([ymin, ymax])\n",
    "    ax.set_title('{} lightcurve'.format(s))\n",
    "plt.tight_layout()"
   ]
  },
  {
   "cell_type": "code",
   "execution_count": 29,
   "id": "4d6e69a1-8e7d-408b-9bf4-43a98a9a0c1a",
   "metadata": {},
   "outputs": [
    {
     "data": {
      "application/vnd.jupyter.widget-view+json": {
       "model_id": "3d464d7fb9c149a28c292ef9a8e1379a",
       "version_major": 2,
       "version_minor": 0
      },
      "text/plain": [
       "Canvas(toolbar=Toolbar(toolitems=[('Home', 'Reset original view', 'home', 'home'), ('Back', 'Back to previous …"
      ]
     },
     "metadata": {},
     "output_type": "display_data"
    }
   ],
   "source": [
    "stokes = ['Q', 'U']\n",
    "target = np.array(alma_lc_means[stokes])\n",
    "\n",
    "t_model = np.linspace(9.2, 11.15, 100) * units.hr\n",
    "rot_angle = np.deg2rad(120)\n",
    "inclination = np.deg2rad(21.0)\n",
    "\n",
    "orbit_radius = 11.0\n",
    "spin = 0.0\n",
    "\n",
    "Omega_dir = 'cw'\n",
    "rot_sign = {'cw': -1, 'ccw': 1}\n",
    "\n",
    "b_consts = [0, 1, 0]\n",
    "Q_frac = 0.85\n",
    "V_frac = 0\n",
    "\n",
    "I_sha = 2.4  # Jy\n",
    "P_sha = 0.16 # Jy\n",
    "chi_sha = np.deg2rad(-37)\n",
    "qu_sha = P_sha * np.array([np.cos(2*chi_sha), np.sin(2*chi_sha)])\n",
    "iqu_sha = np.concatenate(([I_sha], qu_sha))\n",
    "\n",
    "de_rot_data = np.deg2rad(32.2)\n",
    "de_rot_model = np.deg2rad(20.0)\n",
    "\n",
    "%matplotlib widget\n",
    "plt.figure(figsize=(2.5,2.5))\n",
    "plt.scatter(target[:, 0], target[:, 1], c=alma_lc_means['time'], cmap=plt.cm.get_cmap('inferno'), s=1)\n",
    "plt.title('Q-U Loop');"
   ]
  },
  {
   "cell_type": "markdown",
   "id": "3b755e34-fa16-4324-bd25-96469a8ad021",
   "metadata": {
    "jp-MarkdownHeadingCollapsed": true,
    "tags": []
   },
   "source": [
    "Orbiting point source\n",
    "--\n",
    "A semi-analytic model ([Gelles et al.](https://arxiv.org/abs/2105.09440)) used in [Weilgus et al.](https://www.aanda.org/articles/aa/full_html/2022/09/aa44493-22/aa44493-22.html) to analyze polarimetric ALMA observations"
   ]
  },
  {
   "cell_type": "code",
   "execution_count": 30,
   "id": "2a7b45be-703d-4dd1-b4ed-56ec1307f2fc",
   "metadata": {},
   "outputs": [],
   "source": [
    "\"\"\"\n",
    "This code re-creates the resulting using kgeo\n",
    "\"\"\"\n",
    "ngeo = 500\n",
    "mbar = 0\n",
    "\n",
    "flux_scale = 0.01\n",
    "\n",
    "kepler_period = 2 * np.pi * (orbit_radius**(3/2) + spin) * consts.GM_c3(consts.sgra_mass.to('kg')).to('hr')\n",
    "varphis = rot_sign[Omega_dir] * (2 * np.pi * (t_model - t_frames[0]) / kepler_period).value + rot_angle\n",
    "\n",
    "observer_coords = [0, 1000.0, inclination, 0]\n",
    "alpha, beta = bhnerf.kgeo.equatorial_lensing.rho_of_req(spin, inclination, req=orbit_radius, mbar=mbar, varphis=varphis)[-2:]\n",
    "geos = bhnerf.kgeo.raytrace_ana(spin, observer_coords, [alpha, beta], ngeo, plotdata=False, verbose=False).get_dataset()\n",
    "emission = bhnerf.emission.equatorial_ring(geos, mbar)\n",
    "\n",
    "Omega = rot_sign[Omega_dir] * np.sqrt(geos.M) / (geos.r**(3/2) + geos.spin * np.sqrt(geos.M))\n",
    "umu = bhnerf.kgeo.azimuthal_velocity_vector(geos, Omega)\n",
    "g = bhnerf.kgeo.doppler_factor(geos, umu)\n",
    "\n",
    "b = bhnerf.kgeo.magnetic_field_spherical(geos, *b_consts)\n",
    "J = emission.data * bhnerf.kgeo.parallel_transport(geos, umu, g, b, Q_frac, V_frac)\n",
    "iqu_semi_analytic = bhnerf.kgeo.radiative_trasfer(J, g, 1.0, np.array(geos.Sigma)).T\n",
    "qu_semi_analytic = flux_scale*bhnerf.emission.rotate_evpa(iqu_semi_analytic[:, 1:], de_rot_model, axis=1) + qu_sha\n",
    "\n",
    "# Intrinsic curved (de-rotated)\n",
    "alma_qu_intrinsic = bhnerf.emission.rotate_evpa(target-qu_sha, de_rot_data, axis=1)\n",
    "qu_semi_analytic_intrinsic = flux_scale*bhnerf.emission.rotate_evpa(iqu_semi_analytic[:, 1:], de_rot_model + de_rot_data, axis=1)"
   ]
  },
  {
   "cell_type": "code",
   "execution_count": 45,
   "id": "294ca864-7ef3-49ff-9d55-10924a116eb6",
   "metadata": {},
   "outputs": [
    {
     "data": {
      "application/vnd.jupyter.widget-view+json": {
       "model_id": "88c887e601f04cc1b40681877e919066",
       "version_major": 2,
       "version_minor": 0
      },
      "text/plain": [
       "Canvas(toolbar=Toolbar(toolitems=[('Home', 'Reset original view', 'home', 'home'), ('Back', 'Back to previous …"
      ]
     },
     "metadata": {},
     "output_type": "display_data"
    }
   ],
   "source": [
    "%matplotlib widget\n",
    "fig, axes = plt.subplots(2, 3, figsize=(8,6))\n",
    "bhnerf.visualization.plot_stokes_lc(target, stokes, t_frames, label='True', plot_qu=True, axes=axes[0])\n",
    "bhnerf.visualization.plot_stokes_lc(qu_semi_analytic, stokes, t_model, label='Point source', plot_qu=True, axes=axes[0], fmt='--', color='r')\n",
    "\n",
    "# Intrinsic plots\n",
    "bhnerf.visualization.plot_stokes_lc(alma_qu_intrinsic, stokes, t_frames, label='True', plot_qu=True, axes=axes[1])\n",
    "bhnerf.visualization.plot_stokes_lc(qu_semi_analytic_intrinsic, stokes, t_model, label='Point source', plot_qu=True, axes=axes[1], fmt='--', color='r')\n",
    "\n",
    "for ax in axes.ravel(): ax.legend()"
   ]
  },
  {
   "cell_type": "markdown",
   "id": "79638a38-4b68-40e9-aaab-dfdf95f52390",
   "metadata": {
    "jp-MarkdownHeadingCollapsed": true,
    "tags": []
   },
   "source": [
    "Gaussian hotspot\n",
    "---\n",
    "A gaussian hotspot in a keplerian orbit without shear similar to [Weilgus et al.](https://www.aanda.org/articles/aa/full_html/2022/09/aa44493-22/aa44493-22.html)"
   ]
  },
  {
   "cell_type": "code",
   "execution_count": 46,
   "id": "afcc010b-2815-451b-83dd-36df782ceb5e",
   "metadata": {},
   "outputs": [
    {
     "name": "stderr",
     "output_type": "stream",
     "text": [
      "/scratch/imaging/projects/bh_nerf/envs/jax/lib/python3.9/site-packages/xarray/core/computation.py:700: RuntimeWarning: invalid value encountered in sqrt\n",
      "  result_data = func(*input_data)\n",
      "/scratch/imaging/projects/bh_nerf/bhNeRF/bhnerf/kgeo.py:494: RuntimeWarning: invalid value encountered in sqrt\n",
      "  cot_th_b = np.sqrt(1 - sin_th_b**2) / sin_th_b\n"
     ]
    }
   ],
   "source": [
    "hs_fwhm = 6\n",
    "hs_std = hs_fwhm / 2.355\n",
    "fov_M = 40.0 \n",
    "rmax = fov_M / 2\n",
    "GM_c3 = consts.GM_c3(consts.sgra_mass).to(t_frames.unit)\n",
    "\n",
    "t_model = np.linspace(t_frames[0].value, 11.15, 100) * units.hr\n",
    "\n",
    "delta_t_M = (t_frames[0]-t_model[0]) / GM_c3\n",
    "\n",
    "# Keplerian prograde velocity field\n",
    "Omega_rs = rot_sign[Omega_dir] / (orbit_radius**(3/2) + spin)\n",
    "\n",
    "# Generate hotspot measurements (see Tutorial2)\n",
    "gaussian_hs = bhnerf.emission.generate_hotspot_xr(\n",
    "    resolution=(64, 64, 64), \n",
    "    rot_axis=[0.0, 0.0, 1.0], \n",
    "    rot_angle=rot_angle + np.pi/2 - float(Omega_rs * delta_t_M),\n",
    "    orbit_radius=orbit_radius,\n",
    "    std=hs_std,\n",
    "    r_isco=bhnerf.constants.isco_pro(spin),\n",
    "    fov=(fov_M, 'GM/c^2'))\n",
    "\n",
    "geos = bhnerf.kgeo.image_plane_geos(\n",
    "    spin, inclination, \n",
    "    num_alpha=128, num_beta=128, \n",
    "    alpha_range=[-fov_M/2, fov_M/2],\n",
    "    beta_range=[-fov_M/2, fov_M/2])\n",
    "geos.dtau[:] = 1.0\n",
    "Omega = Omega_rs\n",
    "\n",
    "umu = bhnerf.kgeo.azimuthal_velocity_vector(geos, Omega)\n",
    "g = bhnerf.kgeo.doppler_factor(geos, umu)\n",
    "b = bhnerf.kgeo.magnetic_field_spherical(geos, *b_consts)\n",
    "\n",
    "J = np.nan_to_num(bhnerf.kgeo.parallel_transport(geos, umu, g, b, Q_frac=Q_frac, V_frac=V_frac), 0.0)\n",
    "J_inds = [['I', 'Q', 'U'].index(s) for s in stokes]\n",
    "J_rot = bhnerf.emission.rotate_evpa(J[J_inds], np.deg2rad(20))"
   ]
  },
  {
   "cell_type": "code",
   "execution_count": 57,
   "id": "ce8ceb09-00bd-4e74-8bb7-fa664755f164",
   "metadata": {},
   "outputs": [
    {
     "data": {
      "application/vnd.jupyter.widget-view+json": {
       "model_id": "2fbc9d53c2ca448f912ece803166c447",
       "version_major": 2,
       "version_minor": 0
      },
      "text/plain": [
       "Canvas(toolbar=Toolbar(toolitems=[('Home', 'Reset original view', 'home', 'home'), ('Back', 'Back to previous …"
      ]
     },
     "metadata": {},
     "output_type": "display_data"
    }
   ],
   "source": [
    "flux_scale = 0.004\n",
    "image_plane_hs = bhnerf.emission.image_plane_dynamics(\n",
    "    gaussian_hs, geos, Omega, t_model, t_injection=0, J=J_rot, slow_light=False)\n",
    "qu_hs = flux_scale*image_plane_hs.sum(axis=(-1,-2)) + qu_sha\n",
    "\n",
    "%matplotlib widget\n",
    "axes = bhnerf.visualization.plot_stokes_lc(target, stokes, t_frames, label='True', plot_qu=True)\n",
    "bhnerf.visualization.plot_stokes_lc(qu_hs, stokes, t_model, label='Gaussian', plot_qu=True, axes=axes, fmt='-', color='r')\n",
    "for ax in axes: ax.legend()"
   ]
  },
  {
   "cell_type": "code",
   "execution_count": 159,
   "id": "a41b4ab9-6457-4de3-87a1-dae4ea5fdcbe",
   "metadata": {},
   "outputs": [
    {
     "name": "stdout",
     "output_type": "stream",
     "text": [
      "\n",
      "Merging 100 frames from MJD 57854 9.34 hr to MJD 57854 11.15 hr\n"
     ]
    },
    {
     "data": {
      "application/vnd.jupyter.widget-view+json": {
       "model_id": "f3863a071b614bef874c3854931805da",
       "version_major": 2,
       "version_minor": 0
      },
      "text/plain": [
       "Canvas(toolbar=Toolbar(toolitems=[('Home', 'Reset original view', 'home', 'home'), ('Back', 'Back to previous …"
      ]
     },
     "metadata": {},
     "output_type": "display_data"
    }
   ],
   "source": [
    "\"\"\"\n",
    "1. Rotate coordinates ato match Weilgus et al. (Fig. D.1.) \n",
    "2. Generate an ehtim Movie object (can be saved to mp4 using movie.export_mp4 function.\n",
    "\"\"\"\n",
    "movie = make_ehtim_movie(image_plane_hs, t_model, fov_M, stokes)\n",
    "movie.get_frame(0).display('Q');"
   ]
  },
  {
   "cell_type": "code",
   "execution_count": 167,
   "id": "adcc7624-2052-4dba-a81c-c97c35a1aef3",
   "metadata": {},
   "outputs": [
    {
     "data": {
      "application/vnd.jupyter.widget-view+json": {
       "model_id": "5c89053b368c49e784da99636702d308",
       "version_major": 2,
       "version_minor": 0
      },
      "text/plain": [
       "Canvas(toolbar=Toolbar(toolitems=[('Home', 'Reset original view', 'home', 'home'), ('Back', 'Back to previous …"
      ]
     },
     "metadata": {},
     "output_type": "display_data"
    },
    {
     "data": {
      "text/plain": [
       "<matplotlib.animation.FuncAnimation at 0x7fd2cd4a5d00>"
      ]
     },
     "execution_count": 167,
     "metadata": {},
     "output_type": "execute_result"
    }
   ],
   "source": [
    "%matplotlib widget\n",
    "movies = [xr.DataArray(image_plane_hs[:,i], dims=['t','alpha','beta']) for i in range(len(stokes))]\n",
    "fig, axes = plt.subplots(1,2,figsize=(8,3))\n",
    "bhnerf.visualization.animate_movies_synced(movies, axes, titles=stokes)"
   ]
  },
  {
   "cell_type": "code",
   "execution_count": 169,
   "id": "3af95964-eb52-40dc-a132-e47d127cc664",
   "metadata": {},
   "outputs": [
    {
     "data": {
      "application/vnd.jupyter.widget-view+json": {
       "model_id": "b9c9a25b5106437cb00d5820a6901094",
       "version_major": 2,
       "version_minor": 0
      },
      "text/plain": [
       "Canvas(toolbar=Toolbar(toolitems=[('Home', 'Reset original view', 'home', 'home'), ('Back', 'Back to previous …"
      ]
     },
     "metadata": {},
     "output_type": "display_data"
    }
   ],
   "source": [
    "%matplotlib widget\n",
    "axes = bhnerf.visualization.plot_stokes_lc(target, stokes, t_frames, label='True', plot_qu=True)\n",
    "bhnerf.visualization.plot_stokes_lc(qu_semi_analytic, stokes, t_model, label='Point source', plot_qu=True, axes=axes, fmt='--', color='r')\n",
    "bhnerf.visualization.plot_stokes_lc(qu_hs, stokes, t_model, label='Gaussian', plot_qu=True, axes=axes, fmt='-', color='r')\n",
    "for ax in axes: ax.legend()"
   ]
  }
 ],
 "metadata": {
  "kernelspec": {
   "display_name": "jax",
   "language": "python",
   "name": "jax"
  },
  "language_info": {
   "codemirror_mode": {
    "name": "ipython",
    "version": 3
   },
   "file_extension": ".py",
   "mimetype": "text/x-python",
   "name": "python",
   "nbconvert_exporter": "python",
   "pygments_lexer": "ipython3",
   "version": "3.9.6"
  }
 },
 "nbformat": 4,
 "nbformat_minor": 5
}
