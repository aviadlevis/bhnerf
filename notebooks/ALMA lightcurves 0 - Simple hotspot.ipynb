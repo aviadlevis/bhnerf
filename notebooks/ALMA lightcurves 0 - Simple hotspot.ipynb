{
 "cells": [
  {
   "cell_type": "code",
   "execution_count": 1,
   "id": "b85f8e98-8ea4-4e4c-9304-038107b539e2",
   "metadata": {},
   "outputs": [
    {
     "name": "stderr",
     "output_type": "stream",
     "text": [
      "Matplotlib created a temporary config/cache directory at /tmp/matplotlib-vh4bu1z1 because the default path (/home/jovyan/.cache/matplotlib) is not a writable directory; it is highly recommended to set the MPLCONFIGDIR environment variable to a writable directory, in particular to speed up the import of Matplotlib and to better support multiprocessing.\n"
     ]
    },
    {
     "name": "stdout",
     "output_type": "stream",
     "text": [
      "Welcome to eht-imaging! v 1.2.2 \n",
      "\n"
     ]
    },
    {
     "name": "stderr",
     "output_type": "stream",
     "text": [
      "2023-04-12 13:57:14.194760: W tensorflow/stream_executor/platform/default/dso_loader.cc:64] Could not load dynamic library 'libcudart.so.11.0'; dlerror: libcudart.so.11.0: cannot open shared object file: No such file or directory; LD_LIBRARY_PATH: /.singularity.d/libs\n"
     ]
    }
   ],
   "source": [
    "import bhnerf\n",
    "from astropy import units\n",
    "import jax\n",
    "import pandas as pd\n",
    "import numpy as np\n",
    "import xarray as xr\n",
    "import matplotlib.pyplot as plt\n",
    "import pandas as pd\n",
    "from bhnerf import constants as consts"
   ]
  },
  {
   "cell_type": "markdown",
   "id": "37080b65-356d-4038-9765-3a7c1a8ecf39",
   "metadata": {
    "tags": []
   },
   "source": [
    "Generate synthetic ALMA lightcurves \n",
    "---\n",
    "Polarized lightcurves corresponding to ALMA observation times on April 11, 2017. \\\n",
    "Generate synthetic hot-spot data and the resulting polarized image-plane."
   ]
  },
  {
   "cell_type": "code",
   "execution_count": 2,
   "id": "23f4f47a-f7af-4126-b590-fa98007a1a06",
   "metadata": {},
   "outputs": [
    {
     "data": {
      "application/vnd.jupyter.widget-view+json": {
       "model_id": "512fd120c38e4607a6f210c8160f023b",
       "version_major": 2,
       "version_minor": 0
      },
      "text/plain": [
       "Canvas(toolbar=Toolbar(toolitems=[('Home', 'Reset original view', 'home', 'home'), ('Back', 'Back to previous …"
      ]
     },
     "metadata": {},
     "output_type": "display_data"
    }
   ],
   "source": [
    "\"\"\"\n",
    "Load ALMA Data and time average over a window\n",
    "\"\"\"\n",
    "data_path = '../data/Apr11_HI.dat'\n",
    "alma_lc = pd.read_csv(data_path)\n",
    "\n",
    "t0 = 9. + 20./60.           # UTC\n",
    "t7 = t0 + 68./60. + 35./60. # UTC\n",
    "\n",
    "window_size = 8\n",
    "alma_lc_loops = alma_lc.loc[np.bitwise_and(alma_lc['time']>=t0, alma_lc['time']<=t7)]\n",
    "alma_lc_means = alma_lc_loops.rolling(window_size).mean().loc[::window_size].dropna()\n",
    "t_frames = alma_lc_means['time'].values * units.hr\n",
    "\n",
    "%matplotlib widget\n",
    "fig, axes = plt.subplots(1, 4, figsize=(10,3))\n",
    "for s, ax in zip(['I', 'Q', 'U', 'V'], axes):\n",
    "    ax.errorbar(alma_lc.time,  alma_lc[s], fmt='.', ecolor='black')\n",
    "    ax.errorbar(alma_lc_means.time,  alma_lc_means[s], fmt='.', color='tab:orange')\n",
    "    ymin = alma_lc[s].min() - 0.2*np.abs(alma_lc[s].min())\n",
    "    ymax = alma_lc[s].max() + 0.2*np.abs(alma_lc[s].max())\n",
    "    ax.fill_between([t0, t7], [ymax, ymax], ymin, alpha=0.3, color='gray')\n",
    "    ax.set_ylim([ymin, ymax])\n",
    "    ax.set_title('{} lightcurve'.format(s))\n",
    "plt.tight_layout()"
   ]
  },
  {
   "cell_type": "code",
   "execution_count": 3,
   "id": "57788b13-6e00-443e-8a81-98594897cb76",
   "metadata": {},
   "outputs": [
    {
     "data": {
      "application/vnd.jupyter.widget-view+json": {
       "model_id": "61caa105d85a430492d56a336f77fe86",
       "version_major": 2,
       "version_minor": 0
      },
      "text/plain": [
       "Canvas(toolbar=Toolbar(toolitems=[('Home', 'Reset original view', 'home', 'home'), ('Back', 'Back to previous …"
      ]
     },
     "metadata": {},
     "output_type": "display_data"
    },
    {
     "data": {
      "text/plain": [
       "(-0.35, 0.05)"
      ]
     },
     "execution_count": 3,
     "metadata": {},
     "output_type": "execute_result"
    }
   ],
   "source": [
    "%matplotlib widget\n",
    "plt.figure(figsize=(3,3))\n",
    "plt.scatter(alma_lc_means['Q'], alma_lc_means['U'], c=alma_lc_means['time'], cmap=plt.cm.get_cmap('inferno'), s=1)\n",
    "plt.title('QU Loop')\n",
    "plt.xlim(-0.25, 0.2)\n",
    "plt.ylim(-0.35, 0.05)"
   ]
  },
  {
   "cell_type": "code",
   "execution_count": 4,
   "id": "4d6e69a1-8e7d-408b-9bf4-43a98a9a0c1a",
   "metadata": {},
   "outputs": [],
   "source": [
    "stokes = ['Q', 'U']\n",
    "target = np.array(alma_lc_means[stokes])\n",
    "\n",
    "t_model = np.linspace(9.2, 11.15, 100) * units.hr\n",
    "rot_angle = np.deg2rad(120)\n",
    "inclination = np.deg2rad(21.0)\n",
    "\n",
    "orbit_radius = 11.0\n",
    "spin = 0.0\n",
    "\n",
    "Omega_dir = 'cw'\n",
    "rot_sign = {'cw': -1, 'ccw': 1}\n",
    "\n",
    "b_consts = [0, 1, 0]\n",
    "Q_frac = 0.85\n",
    "V_frac = 0\n",
    "\n",
    "# Q_sha, U_sha = 0.045, -0.155\n",
    "I_sha = 2.4  # Jy\n",
    "P_sha = 0.16 # Jy\n",
    "chi_sha = np.deg2rad(-37)\n",
    "qu_sha = P_sha * np.array([np.cos(2*chi_sha), np.sin(2*chi_sha)])\n",
    "iqu_sha = np.concatenate(([I_sha], qu_sha))"
   ]
  },
  {
   "cell_type": "markdown",
   "id": "3b755e34-fa16-4324-bd25-96469a8ad021",
   "metadata": {
    "jp-MarkdownHeadingCollapsed": true,
    "tags": []
   },
   "source": [
    "Point source hot-spot: semi-analytic model of Gelles et al\n",
    "--"
   ]
  },
  {
   "cell_type": "code",
   "execution_count": 33,
   "id": "2a7b45be-703d-4dd1-b4ed-56ec1307f2fc",
   "metadata": {},
   "outputs": [],
   "source": [
    "ngeo = 500\n",
    "mbar = 0\n",
    "de_rot_model = np.deg2rad(20.0)\n",
    "flux_scale = 0.01\n",
    "\n",
    "kepler_period = 2 * np.pi * (orbit_radius**(3/2) + spin) * consts.GM_c3(consts.sgra_mass.to('kg')).to('hr')\n",
    "varphis = rot_sign[Omega_dir] * (2 * np.pi * (t_model - t_frames[0]) / kepler_period).value + rot_angle\n",
    "\n",
    "observer_coords = [0, 1000.0, inclination, 0]\n",
    "alpha, beta = bhnerf.kgeo.equatorial_lensing.rho_of_req(spin, inclination, req=orbit_radius, mbar=mbar, varphis=varphis)[-2:]\n",
    "geos = bhnerf.kgeo.raytrace_ana(spin, observer_coords, [alpha, beta], ngeo, plotdata=False, verbose=False).get_dataset()\n",
    "emission = bhnerf.emission.equatorial_ring(geos, mbar)\n",
    "\n",
    "Omega = rot_sign[Omega_dir] * np.sqrt(geos.M) / (geos.r**(3/2) + geos.spin * np.sqrt(geos.M))\n",
    "umu = bhnerf.kgeo.azimuthal_velocity_vector(geos, Omega)\n",
    "g = bhnerf.kgeo.doppler_factor(geos, umu)\n",
    "\n",
    "b = bhnerf.kgeo.magnetic_field_spherical(geos, *b_consts)\n",
    "J = emission.data * bhnerf.kgeo.parallel_transport(geos, umu, g, b, Q_frac, V_frac)\n",
    "iqu_semi_analytic = bhnerf.kgeo.radiative_trasfer(J, g, 1.0, np.array(geos.Sigma)).T\n",
    "qu_semi_analytic = flux_scale*bhnerf.emission.rotate_evpa(iqu_semi_analytic[:, 1:], de_rot_model, axis=1) + qu_sha"
   ]
  },
  {
   "cell_type": "code",
   "execution_count": 35,
   "id": "9ba3d439-bb6d-4fdd-81ac-b48fb8c9febb",
   "metadata": {},
   "outputs": [
    {
     "data": {
      "application/vnd.jupyter.widget-view+json": {
       "model_id": "70a9167752b0436fb214b6f019fec349",
       "version_major": 2,
       "version_minor": 0
      },
      "text/plain": [
       "Canvas(toolbar=Toolbar(toolitems=[('Home', 'Reset original view', 'home', 'home'), ('Back', 'Back to previous …"
      ]
     },
     "metadata": {},
     "output_type": "display_data"
    }
   ],
   "source": [
    "axes = bhnerf.visualization.plot_stokes_lc(target, stokes, t_frames, label='True', plot_qu=True)\n",
    "axes[0].plot(t_model, qu_semi_analytic[:,0], color='r', linestyle='--')\n",
    "axes[1].plot(t_model, qu_semi_analytic[:,1], color='r', linestyle='--')  \n",
    "axes[2].plot(qu_semi_analytic[:,0], qu_semi_analytic[:,1], color='r', linestyle='dotted')\n",
    "    \n",
    "axes[0].axhline(qu_sha[0], linestyle='--', color='black')\n",
    "axes[1].axhline(qu_sha[1], linestyle='--', color='black')\n",
    "axes[0].set_ylim(-0.1, 0.16)\n",
    "axes[1].set_ylim(-0.35, -0.05)\n",
    "\n",
    "for ax in axes:\n",
    "    ax.legend()"
   ]
  },
  {
   "cell_type": "code",
   "execution_count": 23,
   "id": "5cec19a6-e3e2-4ed7-aa76-66482e6f1eec",
   "metadata": {},
   "outputs": [
    {
     "data": {
      "application/vnd.jupyter.widget-view+json": {
       "model_id": "c77d5400111042a4be72598e0caf008f",
       "version_major": 2,
       "version_minor": 0
      },
      "text/plain": [
       "Canvas(toolbar=Toolbar(toolitems=[('Home', 'Reset original view', 'home', 'home'), ('Back', 'Back to previous …"
      ]
     },
     "metadata": {},
     "output_type": "display_data"
    }
   ],
   "source": [
    "de_rot_data = np.deg2rad(32.2)\n",
    "alma_qu_intrinsic = bhnerf.emission.rotate_evpa(target-qu_sha, de_rot_data, axis=1)\n",
    "\n",
    "de_rot_model = np.deg2rad(32.2 + 20.0)\n",
    "qu_semi_analytic_intrinsic = flux_scale*bhnerf.emission.rotate_evpa(iqu_semi_analytic[:, 1:], de_rot_model, axis=1)\n",
    "axes = bhnerf.visualization.plot_stokes_lc(alma_qu_intrinsic, stokes, t_frames, label='True', plot_qu=True)\n",
    "axes[0].plot(t_model, qu_semi_analytic_intrinsic[:,0], color='r', linestyle='--')\n",
    "axes[1].plot(t_model, qu_semi_analytic_intrinsic[:,1], color='r', linestyle='--')  \n",
    "axes[2].plot(qu_semi_analytic_intrinsic[:,0], qu_semi_analytic_intrinsic[:,1], color='r', linestyle='dotted')\n",
    "    \n",
    "axes[2].axvline(0.0, linestyle='--', color='black')\n",
    "axes[2].axhline(0.0, linestyle='--', color='black')\n",
    "#axes[0].set_ylim(-0.1, 0.16)\n",
    "#axes[1].set_ylim(-0.35, -0.05)\n",
    "\n",
    "for ax in axes:\n",
    "    ax.legend()"
   ]
  },
  {
   "cell_type": "markdown",
   "id": "79638a38-4b68-40e9-aaab-dfdf95f52390",
   "metadata": {
    "tags": []
   },
   "source": [
    "Small Gaussian hotspot\n",
    "---"
   ]
  },
  {
   "cell_type": "code",
   "execution_count": 5,
   "id": "afcc010b-2815-451b-83dd-36df782ceb5e",
   "metadata": {},
   "outputs": [
    {
     "name": "stderr",
     "output_type": "stream",
     "text": [
      "/scratch/imaging/projects/bh_nerf/envs/jax/lib/python3.9/site-packages/xarray/core/computation.py:700: RuntimeWarning: invalid value encountered in sqrt\n",
      "  result_data = func(*input_data)\n",
      "/scratch/imaging/projects/bh_nerf/bhNeRF/bhnerf/kgeo.py:494: RuntimeWarning: invalid value encountered in sqrt\n",
      "  cot_th_b = np.sqrt(1 - sin_th_b**2) / sin_th_b\n"
     ]
    }
   ],
   "source": [
    "hs_fwhm = 6\n",
    "hs_std = hs_fwhm / 2.355\n",
    "fov_M = 40.0 \n",
    "rmax = fov_M / 2\n",
    "GM_c3 = consts.GM_c3(consts.sgra_mass).to(t_frames.unit)\n",
    "\n",
    "t_model = np.linspace(t_frames[0].value, 11.15, 100) * units.hr\n",
    "\n",
    "delta_t_M = (t_frames[0]-t_model[0]) / GM_c3\n",
    "\n",
    "# Keplerian prograde velocity field\n",
    "Omega_rs = rot_sign[Omega_dir] / (orbit_radius**(3/2) + spin)\n",
    "\n",
    "# Generate hotspot measurements (see Tutorial2)\n",
    "gaussian_hs = bhnerf.emission.generate_hotspot_xr(\n",
    "    resolution=(64, 64, 64), \n",
    "    rot_axis=[0.0, 0.0, 1.0], \n",
    "    rot_angle=rot_angle + np.pi/2 - float(Omega_rs * delta_t_M),\n",
    "    orbit_radius=orbit_radius,\n",
    "    std=hs_std,\n",
    "    r_isco=bhnerf.constants.isco_pro(spin),\n",
    "    fov=(fov_M, 'GM/c^2'))\n",
    "\n",
    "geos = bhnerf.kgeo.image_plane_geos(\n",
    "    spin, inclination, \n",
    "    num_alpha=128, num_beta=128, \n",
    "    alpha_range=[-fov_M/2, fov_M/2],\n",
    "    beta_range=[-fov_M/2, fov_M/2])\n",
    "geos.dtau[:] = 1.0\n",
    "# t_injection = -float(geos.r_o)\n",
    "# Omega = rot_sign[Omega_dir] * np.sqrt(geos.M) / (geos.r**(3/2) + geos.spin * np.sqrt(geos.M))\n",
    "Omega = Omega_rs\n",
    "\n",
    "umu = bhnerf.kgeo.azimuthal_velocity_vector(geos, Omega)\n",
    "g = bhnerf.kgeo.doppler_factor(geos, umu)\n",
    "b = bhnerf.kgeo.magnetic_field_spherical(geos, *b_consts)\n",
    "\n",
    "J = np.nan_to_num(bhnerf.kgeo.parallel_transport(geos, umu, g, b, Q_frac=Q_frac, V_frac=V_frac), 0.0)\n",
    "J_inds = [['I', 'Q', 'U'].index(s) for s in stokes]\n",
    "J_rot = bhnerf.emission.rotate_evpa(J[J_inds], np.deg2rad(20))"
   ]
  },
  {
   "cell_type": "code",
   "execution_count": 6,
   "id": "65deff6f-7552-45cb-998c-8a1598555029",
   "metadata": {},
   "outputs": [
    {
     "name": "stderr",
     "output_type": "stream",
     "text": [
      "/scratch/imaging/projects/bh_nerf/envs/jax/lib/python3.9/site-packages/xarray/core/computation.py:700: RuntimeWarning: invalid value encountered in sqrt\n",
      "  result_data = func(*input_data)\n"
     ]
    }
   ],
   "source": [
    "flux_scale = 0.004\n",
    "image_plane_hs = bhnerf.emission.image_plane_dynamics(\n",
    "    gaussian_hs, geos, Omega, t_model, t_injection=0, J=J_rot, slow_light=False)\n",
    "qu_hs = flux_scale*image_plane_hs.sum(axis=(-1,-2)) + qu_sha"
   ]
  },
  {
   "cell_type": "code",
   "execution_count": 7,
   "id": "c1ace9a6-656a-42fe-8fcc-12cae1f98c48",
   "metadata": {},
   "outputs": [
    {
     "data": {
      "application/vnd.jupyter.widget-view+json": {
       "model_id": "743aca90c180429297065b7d5d1f278c",
       "version_major": 2,
       "version_minor": 0
      },
      "text/plain": [
       "Canvas(toolbar=Toolbar(toolitems=[('Home', 'Reset original view', 'home', 'home'), ('Back', 'Back to previous …"
      ]
     },
     "metadata": {},
     "output_type": "display_data"
    }
   ],
   "source": [
    "%matplotlib widget\n",
    "axes = bhnerf.visualization.plot_stokes_lc(target, stokes, t_frames, label='True', plot_qu=True)\n",
    "axes[0].plot(t_model, qu_hs[:,0], color='r')\n",
    "axes[1].plot(t_model, qu_hs[:,1], color='r')  \n",
    "axes[2].plot(qu_hs[:,0], qu_hs[:,1], color='r')\n",
    " \n",
    "for ax in axes:\n",
    "    ax.legend()"
   ]
  },
  {
   "cell_type": "code",
   "execution_count": 13,
   "id": "f685687f-cdff-4f84-83d3-eb84395a1ceb",
   "metadata": {},
   "outputs": [
    {
     "data": {
      "application/vnd.jupyter.widget-view+json": {
       "model_id": "000f48df7cad4699a4d29fcc64da06ec",
       "version_major": 2,
       "version_minor": 0
      },
      "text/plain": [
       "Canvas(toolbar=Toolbar(toolitems=[('Home', 'Reset original view', 'home', 'home'), ('Back', 'Back to previous …"
      ]
     },
     "metadata": {},
     "output_type": "display_data"
    },
    {
     "data": {
      "image/png": "[encoded data removed]",
      "text/plain": [
       "<Figure size 640x480 with 2 Axes>"
      ]
     },
     "execution_count": 13,
     "metadata": {},
     "output_type": "execute_result"
    }
   ],
   "source": [
    "from bhnerf import constants as consts\n",
    "import ehtim as eh\n",
    "fov_rad = (fov_M * consts.GM_c2(consts.sgra_mass) / consts.sgra_distance.to('m')) * units.rad\n",
    "psize = fov_rad.value / geos.alpha.size\n",
    "ra = 12.513729999999999\n",
    "dec = 12.39112\n",
    "\n",
    "im = eh.image.Image(np.flipud(image_plane_hs[0,0]), psize, ra, dec)\n",
    "im.display()"
   ]
  },
  {
   "cell_type": "code",
   "execution_count": 9,
   "id": "41717673-c23c-4dc4-ad2d-de74be1b5aa8",
   "metadata": {},
   "outputs": [
    {
     "data": {
      "application/vnd.jupyter.widget-view+json": {
       "model_id": "51940405a10f48e3a2c0d32b08ff6e25",
       "version_major": 2,
       "version_minor": 0
      },
      "text/plain": [
       "Canvas(toolbar=Toolbar(toolitems=[('Home', 'Reset original view', 'home', 'home'), ('Back', 'Back to previous …"
      ]
     },
     "metadata": {},
     "output_type": "display_data"
    },
    {
     "data": {
      "text/plain": [
       "<matplotlib.image.AxesImage at 0x7f30375a6dc0>"
      ]
     },
     "execution_count": 9,
     "metadata": {},
     "output_type": "execute_result"
    }
   ],
   "source": [
    "%matplotlib widget\n",
    "plt.imshow(image_plane_hs[0,0])"
   ]
  },
  {
   "cell_type": "code",
   "execution_count": 185,
   "id": "3afd8181-c18a-4d80-9a9a-3fff2e824253",
   "metadata": {},
   "outputs": [
    {
     "data": {
      "application/vnd.jupyter.widget-view+json": {
       "model_id": "6a6d35feba2f4b229cbbc4a9b205382d",
       "version_major": 2,
       "version_minor": 0
      },
      "text/plain": [
       "VBox(children=(Figure(camera=PerspectiveCamera(fov=45.0, position=(0.0, -2.1650635094610964, 1.250000000000000…"
      ]
     },
     "metadata": {},
     "output_type": "display_data"
    }
   ],
   "source": [
    "%matplotlib widget\n",
    "rot_angle = np.deg2rad(120)\n",
    "gaussian_hs = bhnerf.emission.generate_hotspot_xr(\n",
    "    resolution=(64, 64, 64), \n",
    "    rot_axis=[0.0, 0.0, 1.0], \n",
    "    rot_angle=rot_angle + np.pi/2 - float(Omega_rs * delta_t_M),\n",
    "    orbit_radius=orbit_radius,\n",
    "    std=hs_std,\n",
    "    r_isco=bhnerf.constants.isco_pro(spin),\n",
    "    fov=(fov_M, 'GM/c^2'))\n",
    "\n",
    "\n",
    "bhnerf.visualization.ipyvolume_3d(gaussian_hs, fov_M)"
   ]
  },
  {
   "cell_type": "code",
   "execution_count": 134,
   "id": "adcc7624-2052-4dba-a81c-c97c35a1aef3",
   "metadata": {},
   "outputs": [
    {
     "data": {
      "application/vnd.jupyter.widget-view+json": {
       "model_id": "1baa507783dd40d4acc77874a68bd508",
       "version_major": 2,
       "version_minor": 0
      },
      "text/plain": [
       "Canvas(toolbar=Toolbar(toolitems=[('Home', 'Reset original view', 'home', 'home'), ('Back', 'Back to previous …"
      ]
     },
     "metadata": {},
     "output_type": "display_data"
    },
    {
     "data": {
      "application/vnd.jupyter.widget-view+json": {
       "model_id": "ff15ce3145634690878c60b38182e3d4",
       "version_major": 2,
       "version_minor": 0
      },
      "text/plain": [
       "interactive(children=(IntSlider(value=49, description='frame', max=99), Output()), _dom_classes=('widget-inter…"
      ]
     },
     "metadata": {},
     "output_type": "display_data"
    }
   ],
   "source": [
    "%matplotlib widget\n",
    "images = xr.DataArray(image_plane_hs[:,0], dims=['t','alpha','beta'])\n",
    "images.visualization.slider()"
   ]
  },
  {
   "cell_type": "code",
   "execution_count": 83,
   "id": "189e0c6f-189c-438b-9762-4761f6fe48d2",
   "metadata": {},
   "outputs": [
    {
     "data": {
      "application/vnd.jupyter.widget-view+json": {
       "model_id": "a066d9cbd3c54d1dab02d43ab4d37a9c",
       "version_major": 2,
       "version_minor": 0
      },
      "text/plain": [
       "Canvas(toolbar=Toolbar(toolitems=[('Home', 'Reset original view', 'home', 'home'), ('Back', 'Back to previous …"
      ]
     },
     "metadata": {},
     "output_type": "display_data"
    },
    {
     "data": {
      "text/plain": [
       "<matplotlib.image.AxesImage at 0x7f2920e07f40>"
      ]
     },
     "execution_count": 83,
     "metadata": {},
     "output_type": "execute_result"
    }
   ],
   "source": [
    "%matplotlib widget\n",
    "plt.imshow(image_plane_hs[0,0])"
   ]
  },
  {
   "cell_type": "code",
   "execution_count": 71,
   "id": "056f8df6-3046-4c7a-800c-9a9164f3c89e",
   "metadata": {},
   "outputs": [
    {
     "data": {
      "application/vnd.jupyter.widget-view+json": {
       "model_id": "8e603fd4a00a4cf7a16df93d9f6ee4fe",
       "version_major": 2,
       "version_minor": 0
      },
      "text/plain": [
       "Canvas(toolbar=Toolbar(toolitems=[('Home', 'Reset original view', 'home', 'home'), ('Back', 'Back to previous …"
      ]
     },
     "metadata": {},
     "output_type": "display_data"
    },
    {
     "data": {
      "text/plain": [
       "<matplotlib.animation.FuncAnimation at 0x7f29238c2550>"
      ]
     },
     "execution_count": 71,
     "metadata": {},
     "output_type": "execute_result"
    }
   ],
   "source": [
    "%matplotlib widget\n",
    "movie_list = [xr.DataArray(image_plane_hs[:,i], dims=['t','alpha','beta']) for i in range(image_plane_hs.shape[1])]\n",
    "fig, axes = plt.subplots(1, 2, figsize=(8, 3))\n",
    "bhnerf.visualization.animate_movies_synced(\n",
    "    movie_list, axes, titles=['Q', 'U'], \n",
    ")"
   ]
  },
  {
   "cell_type": "code",
   "execution_count": 13,
   "id": "4962c1a8-3fad-4718-b001-3a861a1a43ca",
   "metadata": {},
   "outputs": [
    {
     "data": {
      "application/vnd.jupyter.widget-view+json": {
       "model_id": "d930fc9bfcb340c0903cd1da778c297d",
       "version_major": 2,
       "version_minor": 0
      },
      "text/plain": [
       "Canvas(toolbar=Toolbar(toolitems=[('Home', 'Reset original view', 'home', 'home'), ('Back', 'Back to previous …"
      ]
     },
     "metadata": {},
     "output_type": "display_data"
    },
    {
     "ename": "NameError",
     "evalue": "name 'qu_hs' is not defined",
     "output_type": "error",
     "traceback": [
      "\u001b[0;31m---------------------------------------------------------------------------\u001b[0m",
      "\u001b[0;31mNameError\u001b[0m                                 Traceback (most recent call last)",
      "\u001b[0;32m/tmp/ipykernel_5839/61595715.py\u001b[0m in \u001b[0;36m<module>\u001b[0;34m\u001b[0m\n\u001b[1;32m      1\u001b[0m \u001b[0mget_ipython\u001b[0m\u001b[0;34m(\u001b[0m\u001b[0;34m)\u001b[0m\u001b[0;34m.\u001b[0m\u001b[0mrun_line_magic\u001b[0m\u001b[0;34m(\u001b[0m\u001b[0;34m'matplotlib'\u001b[0m\u001b[0;34m,\u001b[0m \u001b[0;34m'widget'\u001b[0m\u001b[0;34m)\u001b[0m\u001b[0;34m\u001b[0m\u001b[0;34m\u001b[0m\u001b[0m\n\u001b[1;32m      2\u001b[0m \u001b[0maxes\u001b[0m \u001b[0;34m=\u001b[0m \u001b[0mbhnerf\u001b[0m\u001b[0;34m.\u001b[0m\u001b[0mvisualization\u001b[0m\u001b[0;34m.\u001b[0m\u001b[0mplot_stokes_lc\u001b[0m\u001b[0;34m(\u001b[0m\u001b[0mtarget\u001b[0m\u001b[0;34m,\u001b[0m \u001b[0mstokes\u001b[0m\u001b[0;34m,\u001b[0m \u001b[0mt_frames\u001b[0m\u001b[0;34m,\u001b[0m \u001b[0mlabel\u001b[0m\u001b[0;34m=\u001b[0m\u001b[0;34m'True'\u001b[0m\u001b[0;34m)\u001b[0m\u001b[0;34m\u001b[0m\u001b[0;34m\u001b[0m\u001b[0m\n\u001b[0;32m----> 3\u001b[0;31m \u001b[0maxes\u001b[0m\u001b[0;34m[\u001b[0m\u001b[0;36m0\u001b[0m\u001b[0;34m]\u001b[0m\u001b[0;34m.\u001b[0m\u001b[0mplot\u001b[0m\u001b[0;34m(\u001b[0m\u001b[0mt_model\u001b[0m\u001b[0;34m,\u001b[0m \u001b[0mqu_hs\u001b[0m\u001b[0;34m[\u001b[0m\u001b[0;34m:\u001b[0m\u001b[0;34m,\u001b[0m\u001b[0;36m0\u001b[0m\u001b[0;34m]\u001b[0m\u001b[0;34m,\u001b[0m \u001b[0mcolor\u001b[0m\u001b[0;34m=\u001b[0m\u001b[0;34m'r'\u001b[0m\u001b[0;34m)\u001b[0m\u001b[0;34m\u001b[0m\u001b[0;34m\u001b[0m\u001b[0m\n\u001b[0m\u001b[1;32m      4\u001b[0m \u001b[0maxes\u001b[0m\u001b[0;34m[\u001b[0m\u001b[0;36m1\u001b[0m\u001b[0;34m]\u001b[0m\u001b[0;34m.\u001b[0m\u001b[0mplot\u001b[0m\u001b[0;34m(\u001b[0m\u001b[0mt_model\u001b[0m\u001b[0;34m,\u001b[0m \u001b[0mqu_hs\u001b[0m\u001b[0;34m[\u001b[0m\u001b[0;34m:\u001b[0m\u001b[0;34m,\u001b[0m\u001b[0;36m1\u001b[0m\u001b[0;34m]\u001b[0m\u001b[0;34m,\u001b[0m \u001b[0mcolor\u001b[0m\u001b[0;34m=\u001b[0m\u001b[0;34m'r'\u001b[0m\u001b[0;34m)\u001b[0m\u001b[0;34m\u001b[0m\u001b[0;34m\u001b[0m\u001b[0m\n\u001b[1;32m      5\u001b[0m \u001b[0maxes\u001b[0m\u001b[0;34m[\u001b[0m\u001b[0;36m2\u001b[0m\u001b[0;34m]\u001b[0m\u001b[0;34m.\u001b[0m\u001b[0mplot\u001b[0m\u001b[0;34m(\u001b[0m\u001b[0mqu_hs\u001b[0m\u001b[0;34m[\u001b[0m\u001b[0;34m:\u001b[0m\u001b[0;34m,\u001b[0m\u001b[0;36m0\u001b[0m\u001b[0;34m]\u001b[0m\u001b[0;34m,\u001b[0m \u001b[0mqu_hs\u001b[0m\u001b[0;34m[\u001b[0m\u001b[0;34m:\u001b[0m\u001b[0;34m,\u001b[0m\u001b[0;36m1\u001b[0m\u001b[0;34m]\u001b[0m\u001b[0;34m,\u001b[0m \u001b[0mcolor\u001b[0m\u001b[0;34m=\u001b[0m\u001b[0;34m'r'\u001b[0m\u001b[0;34m)\u001b[0m\u001b[0;34m\u001b[0m\u001b[0;34m\u001b[0m\u001b[0m\n",
      "\u001b[0;31mNameError\u001b[0m: name 'qu_hs' is not defined"
     ]
    }
   ],
   "source": [
    "%matplotlib widget\n",
    "axes = bhnerf.visualization.plot_stokes_lc(target, stokes, t_frames, label='True')\n",
    "axes[0].plot(t_model, qu_hs[:,0], color='r')\n",
    "axes[1].plot(t_model, qu_hs[:,1], color='r')  \n",
    "axes[2].plot(qu_hs[:,0], qu_hs[:,1], color='r')\n",
    "    \n",
    "axes[0].axhline(qu_sha[0], linestyle='--', color='black')\n",
    "axes[1].axhline(qu_sha[1], linestyle='--', color='black')\n",
    "axes[0].set_ylim(-0.1, 0.16)\n",
    "axes[1].set_ylim(-0.35, -0.05)\n",
    "\n",
    "axes[0].plot(t_model, qu_semi_analytic[:,0], color='r', linestyle='--')\n",
    "axes[1].plot(t_model, qu_semi_analytic[:,1], color='r', linestyle='--')  \n",
    "axes[2].plot(qu_semi_analytic[:,0], qu_semi_analytic[:,1], color='r', linestyle='dotted')\n",
    "    \n",
    "for ax in axes:\n",
    "    ax.legend()"
   ]
  },
  {
   "cell_type": "code",
   "execution_count": 88,
   "id": "882e129f-2edd-4378-925a-f87343da4457",
   "metadata": {},
   "outputs": [
    {
     "name": "stderr",
     "output_type": "stream",
     "text": [
      "/scratch/imaging/projects/bh_nerf/envs/jax/lib/python3.9/site-packages/xarray/core/computation.py:700: RuntimeWarning: invalid value encountered in sqrt\n",
      "  result_data = func(*input_data)\n"
     ]
    }
   ],
   "source": [
    "J_rot = rotate_evpa(J[J_inds], de_rot_model)\n",
    "\n",
    "scale_factor = 0.0023\n",
    "image_plane_hs = bhnerf.emission.image_plane_dynamics(\n",
    "    gaussian_hs, geos, Omega, t_model, t_injection=0, J=J_rot, slow_light=False\n",
    ")\n",
    "qu_hs = scale_factor * image_plane_hs.sum(axis=(-1,-2))"
   ]
  },
  {
   "cell_type": "markdown",
   "id": "2e7ec247-7c30-46ca-aba6-ef631f2b3d41",
   "metadata": {},
   "source": [
    "## Debug of dtau"
   ]
  },
  {
   "cell_type": "code",
   "execution_count": 91,
   "id": "2938678f-f9bf-449b-a110-9ac3dd436df3",
   "metadata": {},
   "outputs": [
    {
     "data": {
      "application/vnd.jupyter.widget-view+json": {
       "model_id": "1b682ee2fee141fab46a79b5616117d6",
       "version_major": 2,
       "version_minor": 0
      },
      "text/plain": [
       "Canvas(toolbar=Toolbar(toolitems=[('Home', 'Reset original view', 'home', 'home'), ('Back', 'Back to previous …"
      ]
     },
     "metadata": {},
     "output_type": "display_data"
    },
    {
     "data": {
      "text/plain": [
       "[<matplotlib.lines.Line2D at 0x7f5a1f63e790>]"
      ]
     },
     "execution_count": 91,
     "metadata": {},
     "output_type": "execute_result"
    }
   ],
   "source": [
    "%matplotlib widget\n",
    "axes = bhnerf.visualization.plot_stokes_lc(alma_qu_intrinsic, stokes, t_frames, label='True')\n",
    "axes[0].plot(t_model, qu_hs[:,0], color='r')\n",
    "axes[1].plot(t_model, qu_hs[:,1], color='r')  \n",
    "axes[2].plot(qu_hs[:,0], qu_hs[:,1], color='r')"
   ]
  },
  {
   "cell_type": "code",
   "execution_count": 10,
   "id": "c35096a7-7ef9-485e-84cf-b2c0d2c4fbeb",
   "metadata": {},
   "outputs": [
    {
     "data": {
      "application/vnd.jupyter.widget-view+json": {
       "model_id": "0f18a13293a945dabbc4ceb48fbb6473",
       "version_major": 2,
       "version_minor": 0
      },
      "text/plain": [
       "Canvas(toolbar=Toolbar(toolitems=[('Home', 'Reset original view', 'home', 'home'), ('Back', 'Back to previous …"
      ]
     },
     "metadata": {},
     "output_type": "display_data"
    },
    {
     "data": {
      "text/plain": [
       "<matplotlib.collections.QuadMesh at 0x7fa9eab143d0>"
      ]
     },
     "execution_count": 10,
     "metadata": {},
     "output_type": "execute_result"
    }
   ],
   "source": [
    "%matplotlib widget\n",
    "geos.dtau.isel(geo=1).plot()"
   ]
  },
  {
   "cell_type": "code",
   "execution_count": 35,
   "id": "dc73cbca-68e7-45dc-883e-2c0236b0a335",
   "metadata": {},
   "outputs": [
    {
     "name": "stderr",
     "output_type": "stream",
     "text": [
      "/scratch/imaging/projects/bh_nerf/envs/jax/lib/python3.9/site-packages/xarray/core/computation.py:700: RuntimeWarning: invalid value encountered in sqrt\n",
      "  result_data = func(*input_data)\n"
     ]
    }
   ],
   "source": [
    "geos.dtau[:] = 1.0\n",
    "image_plane_hs1 = bhnerf.emission.image_plane_dynamics(\n",
    "    gaussian_hs, geos, Omega, t_model, t_injection=0, J=J, slow_light=False\n",
    ")"
   ]
  },
  {
   "cell_type": "code",
   "execution_count": 36,
   "id": "a4781bef-b7b6-4b20-b390-be3e47a22485",
   "metadata": {},
   "outputs": [],
   "source": [
    "geos = bhnerf.kgeo.image_plane_geos(\n",
    "    spin, inclination, \n",
    "    num_alpha=128, num_beta=128, \n",
    "    alpha_range=[-fov_M/2, fov_M/2],\n",
    "    beta_range=[-fov_M/2, fov_M/2]\n",
    ")"
   ]
  },
  {
   "cell_type": "code",
   "execution_count": 11,
   "id": "6ef2ee80-8853-45c3-a411-2b5d5b9bce68",
   "metadata": {},
   "outputs": [
    {
     "name": "stderr",
     "output_type": "stream",
     "text": [
      "/scratch/imaging/projects/bh_nerf/envs/jax/lib/python3.9/site-packages/xarray/core/computation.py:700: RuntimeWarning: invalid value encountered in sqrt\n",
      "  result_data = func(*input_data)\n"
     ]
    }
   ],
   "source": [
    "# Polarized emission\n",
    "image_plane_hs = bhnerf.emission.image_plane_dynamics(\n",
    "    gaussian_hs, geos, Omega, t_model, t_injection=0, J=J, slow_light=False\n",
    ")\n",
    "iqu_hs = image_plane_hs.sum(axis=(-1,-2))"
   ]
  },
  {
   "cell_type": "code",
   "execution_count": 93,
   "id": "8b592e99-5d03-474b-b324-d3d600fee0d9",
   "metadata": {},
   "outputs": [],
   "source": [
    "from mpl_toolkits.axes_grid1 import make_axes_locatable\n",
    "from ipywidgets import interact\n",
    "\n",
    "def slider(sidx=1, t_dim='t', ax=None, cmap=None):\n",
    "    movie = xr.DataArray(image_plane_hs1[:,sidx] * geos.dtau.isel(geo=1).data, dims=['t','alpha','beta'])\n",
    "    if movie.ndim != 3:\n",
    "        raise AttributeError('Movie dimensions ({}) different than 3'.format(movie.ndim))\n",
    "\n",
    "    num_frames = movie[t_dim].size\n",
    "    image_dims = list(movie.dims)\n",
    "    image_dims.remove(t_dim)\n",
    "\n",
    "    if ax is None:\n",
    "        fig, ax = plt.subplots()\n",
    "    else:\n",
    "        fig = plt.gcf()\n",
    "\n",
    "    extent = [movie[image_dims[0]].min(), movie[image_dims[0]].max(),\n",
    "              movie[image_dims[1]].min(), movie[image_dims[1]].max()]\n",
    "\n",
    "    im = ax.imshow(movie.isel({t_dim: 0}), extent=extent, origin='lower', cmap=cmap)\n",
    "    divider = make_axes_locatable(ax)\n",
    "    cax = divider.append_axes('right', size='5%', pad=0.05)\n",
    "    cbar = fig.colorbar(im, cax=cax)\n",
    "    \n",
    "    line = axes[sidx-1].axvline(t_model[0].value, color='green', linestyle='--')\n",
    "\n",
    "    def imshow_frame(frame):\n",
    "        img = movie.isel({t_dim: frame})\n",
    "        im.set_array(movie.isel({t_dim: frame}))\n",
    "        cbar.mappable.set_clim([img.min(), img.max()])\n",
    "\n",
    "    def imshow_plot(frame):\n",
    "        line.set_xdata(t_model[frame].value)\n",
    "        return line,\n",
    "    \n",
    "    def imshow_both(frame):\n",
    "        return imshow_frame(frame), imshow_plot(frame)\n",
    "    \n",
    "    interact(imshow_both, frame=(0, num_frames-1));\n"
   ]
  },
  {
   "cell_type": "code",
   "execution_count": 44,
   "id": "c1b24faf-ed58-4796-8774-2d6291a9e5d9",
   "metadata": {},
   "outputs": [
    {
     "data": {
      "application/vnd.jupyter.widget-view+json": {
       "model_id": "c0d01cdc011d48cb803441dcdfa1ed10",
       "version_major": 2,
       "version_minor": 0
      },
      "text/plain": [
       "Canvas(toolbar=Toolbar(toolitems=[('Home', 'Reset original view', 'home', 'home'), ('Back', 'Back to previous …"
      ]
     },
     "metadata": {},
     "output_type": "display_data"
    },
    {
     "data": {
      "text/plain": [
       "<matplotlib.collections.QuadMesh at 0x7fa974b0a610>"
      ]
     },
     "execution_count": 44,
     "metadata": {},
     "output_type": "execute_result"
    }
   ],
   "source": [
    "%matplotlib widget\n",
    "geos.dtau.isel(geo=1).plot()"
   ]
  },
  {
   "cell_type": "code",
   "execution_count": 74,
   "id": "899ae5e0-e7e2-476c-8b2d-b260c74bb1c3",
   "metadata": {},
   "outputs": [],
   "source": [
    "iqu_hs = (image_plane_hs1 * geos.dtau.isel(geo=1).data).sum(axis=(-1,-2))\n",
    "\n",
    "scale_factor = 0.65\n",
    "qu_hs = rotate_qu(scale_factor*iqu_hs[:, 1:], angle=np.deg2rad(20)) + qu_sha"
   ]
  },
  {
   "cell_type": "code",
   "execution_count": 106,
   "id": "b396636e-6f19-4ad3-9758-9e08f7dadbfd",
   "metadata": {},
   "outputs": [
    {
     "data": {
      "application/vnd.jupyter.widget-view+json": {
       "model_id": "ab59035e771b40e0a5a29d90759b500f",
       "version_major": 2,
       "version_minor": 0
      },
      "text/plain": [
       "Canvas(toolbar=Toolbar(toolitems=[('Home', 'Reset original view', 'home', 'home'), ('Back', 'Back to previous …"
      ]
     },
     "metadata": {},
     "output_type": "display_data"
    },
    {
     "data": {
      "application/vnd.jupyter.widget-view+json": {
       "model_id": "b8b47640ab494f7cbbe28f74ec6f5ae2",
       "version_major": 2,
       "version_minor": 0
      },
      "text/plain": [
       "interactive(children=(IntSlider(value=63, description='ialpha', max=127), IntSlider(value=63, description='ibe…"
      ]
     },
     "metadata": {},
     "output_type": "display_data"
    },
    {
     "data": {
      "image/png": "[encoded data removed]",
      "text/plain": [
       "<Figure size 640x480 with 2 Axes>"
      ]
     },
     "execution_count": 106,
     "metadata": {},
     "output_type": "execute_result"
    }
   ],
   "source": [
    "%matplotlib widget\n",
    "bhnerf.visualization.plot_geodesic_3D(geos.dtau, geos)"
   ]
  },
  {
   "cell_type": "code",
   "execution_count": 2,
   "id": "263806ec-3987-44ed-86ca-f503cf5d6553",
   "metadata": {},
   "outputs": [
    {
     "name": "stderr",
     "output_type": "stream",
     "text": [
      "Matplotlib created a temporary config/cache directory at /tmp/matplotlib-3s38d3yq because the default path (/home/jovyan/.cache/matplotlib) is not a writable directory; it is highly recommended to set the MPLCONFIGDIR environment variable to a writable directory, in particular to speed up the import of Matplotlib and to better support multiprocessing.\n"
     ]
    },
    {
     "ename": "NameError",
     "evalue": "name 'bhnerf' is not defined",
     "output_type": "error",
     "traceback": [
      "\u001b[0;31m---------------------------------------------------------------------------\u001b[0m",
      "\u001b[0;31mNameError\u001b[0m                                 Traceback (most recent call last)",
      "\u001b[0;32m/tmp/ipykernel_35250/3108345695.py\u001b[0m in \u001b[0;36m<module>\u001b[0;34m\u001b[0m\n\u001b[1;32m      1\u001b[0m \u001b[0mget_ipython\u001b[0m\u001b[0;34m(\u001b[0m\u001b[0;34m)\u001b[0m\u001b[0;34m.\u001b[0m\u001b[0mrun_line_magic\u001b[0m\u001b[0;34m(\u001b[0m\u001b[0;34m'matplotlib'\u001b[0m\u001b[0;34m,\u001b[0m \u001b[0;34m'widget'\u001b[0m\u001b[0;34m)\u001b[0m\u001b[0;34m\u001b[0m\u001b[0;34m\u001b[0m\u001b[0m\n\u001b[0;32m----> 2\u001b[0;31m \u001b[0maxes\u001b[0m \u001b[0;34m=\u001b[0m \u001b[0mbhnerf\u001b[0m\u001b[0;34m.\u001b[0m\u001b[0mvisualization\u001b[0m\u001b[0;34m.\u001b[0m\u001b[0mplot_stokes_lc\u001b[0m\u001b[0;34m(\u001b[0m\u001b[0mtarget\u001b[0m\u001b[0;34m,\u001b[0m \u001b[0mstokes\u001b[0m\u001b[0;34m,\u001b[0m \u001b[0mt_frames\u001b[0m\u001b[0;34m,\u001b[0m \u001b[0mlabel\u001b[0m\u001b[0;34m=\u001b[0m\u001b[0;34m'True'\u001b[0m\u001b[0;34m)\u001b[0m\u001b[0;34m\u001b[0m\u001b[0;34m\u001b[0m\u001b[0m\n\u001b[0m\u001b[1;32m      3\u001b[0m \u001b[0maxes\u001b[0m\u001b[0;34m[\u001b[0m\u001b[0;36m0\u001b[0m\u001b[0;34m]\u001b[0m\u001b[0;34m.\u001b[0m\u001b[0mplot\u001b[0m\u001b[0;34m(\u001b[0m\u001b[0mt_model\u001b[0m\u001b[0;34m,\u001b[0m \u001b[0mqu_hs\u001b[0m\u001b[0;34m[\u001b[0m\u001b[0;34m:\u001b[0m\u001b[0;34m,\u001b[0m\u001b[0;36m0\u001b[0m\u001b[0;34m]\u001b[0m\u001b[0;34m,\u001b[0m \u001b[0mcolor\u001b[0m\u001b[0;34m=\u001b[0m\u001b[0;34m'r'\u001b[0m\u001b[0;34m)\u001b[0m\u001b[0;34m\u001b[0m\u001b[0;34m\u001b[0m\u001b[0m\n\u001b[1;32m      4\u001b[0m \u001b[0maxes\u001b[0m\u001b[0;34m[\u001b[0m\u001b[0;36m1\u001b[0m\u001b[0;34m]\u001b[0m\u001b[0;34m.\u001b[0m\u001b[0mplot\u001b[0m\u001b[0;34m(\u001b[0m\u001b[0mt_model\u001b[0m\u001b[0;34m,\u001b[0m \u001b[0mqu_hs\u001b[0m\u001b[0;34m[\u001b[0m\u001b[0;34m:\u001b[0m\u001b[0;34m,\u001b[0m\u001b[0;36m1\u001b[0m\u001b[0;34m]\u001b[0m\u001b[0;34m,\u001b[0m \u001b[0mcolor\u001b[0m\u001b[0;34m=\u001b[0m\u001b[0;34m'r'\u001b[0m\u001b[0;34m)\u001b[0m\u001b[0;34m\u001b[0m\u001b[0;34m\u001b[0m\u001b[0m\n\u001b[1;32m      5\u001b[0m \u001b[0maxes\u001b[0m\u001b[0;34m[\u001b[0m\u001b[0;36m2\u001b[0m\u001b[0;34m]\u001b[0m\u001b[0;34m.\u001b[0m\u001b[0mplot\u001b[0m\u001b[0;34m(\u001b[0m\u001b[0mqu_hs\u001b[0m\u001b[0;34m[\u001b[0m\u001b[0;34m:\u001b[0m\u001b[0;34m,\u001b[0m\u001b[0;36m0\u001b[0m\u001b[0;34m]\u001b[0m\u001b[0;34m,\u001b[0m \u001b[0mqu_hs\u001b[0m\u001b[0;34m[\u001b[0m\u001b[0;34m:\u001b[0m\u001b[0;34m,\u001b[0m\u001b[0;36m1\u001b[0m\u001b[0;34m]\u001b[0m\u001b[0;34m,\u001b[0m \u001b[0mcolor\u001b[0m\u001b[0;34m=\u001b[0m\u001b[0;34m'r'\u001b[0m\u001b[0;34m)\u001b[0m\u001b[0;34m\u001b[0m\u001b[0;34m\u001b[0m\u001b[0m\n",
      "\u001b[0;31mNameError\u001b[0m: name 'bhnerf' is not defined"
     ]
    }
   ],
   "source": [
    "%matplotlib widget\n",
    "axes = bhnerf.visualization.plot_stokes_lc(target, stokes, t_frames, label='True')\n",
    "axes[0].plot(t_model, qu_hs[:,0], color='r')\n",
    "axes[1].plot(t_model, qu_hs[:,1], color='r')  \n",
    "axes[2].plot(qu_hs[:,0], qu_hs[:,1], color='r')\n",
    "    \n",
    "axes[0].axhline(qu_sha[0], linestyle='--', color='black')\n",
    "axes[1].axhline(qu_sha[1], linestyle='--', color='black')\n",
    "axes[0].set_ylim(-0.1, 0.16)\n",
    "axes[1].set_ylim(-0.35, -0.05)\n",
    "\n",
    "axes[0].plot(t_model, qu_semi_analytic[:,0], color='r', linestyle='--')\n",
    "axes[1].plot(t_model, qu_semi_analytic[:,1], color='r', linestyle='--')  \n",
    "axes[2].plot(qu_semi_analytic[:,0], qu_semi_analytic[:,1], color='r', linestyle='dotted')\n",
    "    \n",
    "for ax in axes:\n",
    "    ax.legend()\n",
    "    \n",
    "slider(1)"
   ]
  },
  {
   "cell_type": "code",
   "execution_count": 59,
   "id": "a99f74f0-716f-4c91-b8e6-91e0656bfdd0",
   "metadata": {},
   "outputs": [],
   "source": [
    "iqu_hs = image_plane_hs1.sum(axis=(-1,-2))\n",
    "\n",
    "scale_factor = 0.0022\n",
    "qu_hs = rotate_qu(scale_factor*iqu_hs[:, 1:], angle=np.deg2rad(20)) + qu_sha"
   ]
  },
  {
   "cell_type": "code",
   "execution_count": 27,
   "id": "042eff0f-6a41-45a3-946f-241771aa395e",
   "metadata": {},
   "outputs": [
    {
     "ename": "NameError",
     "evalue": "name 'bhnerf' is not defined",
     "output_type": "error",
     "traceback": [
      "\u001b[0;31m---------------------------------------------------------------------------\u001b[0m",
      "\u001b[0;31mNameError\u001b[0m                                 Traceback (most recent call last)",
      "\u001b[0;32m/tmp/ipykernel_35250/3100864015.py\u001b[0m in \u001b[0;36m<module>\u001b[0;34m\u001b[0m\n\u001b[0;32m----> 1\u001b[0;31m \u001b[0maxes\u001b[0m \u001b[0;34m=\u001b[0m \u001b[0mbhnerf\u001b[0m\u001b[0;34m.\u001b[0m\u001b[0mvisualization\u001b[0m\u001b[0;34m.\u001b[0m\u001b[0mplot_stokes_lc\u001b[0m\u001b[0;34m(\u001b[0m\u001b[0mtarget\u001b[0m\u001b[0;34m,\u001b[0m \u001b[0mstokes\u001b[0m\u001b[0;34m,\u001b[0m \u001b[0mt_frames\u001b[0m\u001b[0;34m,\u001b[0m \u001b[0mlabel\u001b[0m\u001b[0;34m=\u001b[0m\u001b[0;34m'True'\u001b[0m\u001b[0;34m)\u001b[0m\u001b[0;34m\u001b[0m\u001b[0;34m\u001b[0m\u001b[0m\n\u001b[0m\u001b[1;32m      2\u001b[0m \u001b[0maxes\u001b[0m\u001b[0;34m[\u001b[0m\u001b[0;36m0\u001b[0m\u001b[0;34m]\u001b[0m\u001b[0;34m.\u001b[0m\u001b[0mplot\u001b[0m\u001b[0;34m(\u001b[0m\u001b[0mt_model\u001b[0m\u001b[0;34m,\u001b[0m \u001b[0mqu_hs\u001b[0m\u001b[0;34m[\u001b[0m\u001b[0;34m:\u001b[0m\u001b[0;34m,\u001b[0m\u001b[0;36m0\u001b[0m\u001b[0;34m]\u001b[0m\u001b[0;34m,\u001b[0m \u001b[0mcolor\u001b[0m\u001b[0;34m=\u001b[0m\u001b[0;34m'r'\u001b[0m\u001b[0;34m)\u001b[0m\u001b[0;34m\u001b[0m\u001b[0;34m\u001b[0m\u001b[0m\n\u001b[1;32m      3\u001b[0m \u001b[0maxes\u001b[0m\u001b[0;34m[\u001b[0m\u001b[0;36m1\u001b[0m\u001b[0;34m]\u001b[0m\u001b[0;34m.\u001b[0m\u001b[0mplot\u001b[0m\u001b[0;34m(\u001b[0m\u001b[0mt_model\u001b[0m\u001b[0;34m,\u001b[0m \u001b[0mqu_hs\u001b[0m\u001b[0;34m[\u001b[0m\u001b[0;34m:\u001b[0m\u001b[0;34m,\u001b[0m\u001b[0;36m1\u001b[0m\u001b[0;34m]\u001b[0m\u001b[0;34m,\u001b[0m \u001b[0mcolor\u001b[0m\u001b[0;34m=\u001b[0m\u001b[0;34m'r'\u001b[0m\u001b[0;34m)\u001b[0m\u001b[0;34m\u001b[0m\u001b[0;34m\u001b[0m\u001b[0m\n\u001b[1;32m      4\u001b[0m \u001b[0maxes\u001b[0m\u001b[0;34m[\u001b[0m\u001b[0;36m2\u001b[0m\u001b[0;34m]\u001b[0m\u001b[0;34m.\u001b[0m\u001b[0mplot\u001b[0m\u001b[0;34m(\u001b[0m\u001b[0mqu_hs\u001b[0m\u001b[0;34m[\u001b[0m\u001b[0;34m:\u001b[0m\u001b[0;34m,\u001b[0m\u001b[0;36m0\u001b[0m\u001b[0;34m]\u001b[0m\u001b[0;34m,\u001b[0m \u001b[0mqu_hs\u001b[0m\u001b[0;34m[\u001b[0m\u001b[0;34m:\u001b[0m\u001b[0;34m,\u001b[0m\u001b[0;36m1\u001b[0m\u001b[0;34m]\u001b[0m\u001b[0;34m,\u001b[0m \u001b[0mcolor\u001b[0m\u001b[0;34m=\u001b[0m\u001b[0;34m'r'\u001b[0m\u001b[0;34m)\u001b[0m\u001b[0;34m\u001b[0m\u001b[0;34m\u001b[0m\u001b[0m\n\u001b[1;32m      5\u001b[0m \u001b[0;34m\u001b[0m\u001b[0m\n",
      "\u001b[0;31mNameError\u001b[0m: name 'bhnerf' is not defined"
     ]
    }
   ],
   "source": [
    "axes = bhnerf.visualization.plot_stokes_lc(target, stokes, t_frames, label='True')\n",
    "axes[0].plot(t_model, qu_hs[:,0], color='r')\n",
    "axes[1].plot(t_model, qu_hs[:,1], color='r')  \n",
    "axes[2].plot(qu_hs[:,0], qu_hs[:,1], color='r')\n",
    "    \n",
    "axes[0].axhline(qu_sha[0], linestyle='--', color='black')\n",
    "axes[1].axhline(qu_sha[1], linestyle='--', color='black')\n",
    "axes[0].set_ylim(-0.1, 0.16)\n",
    "axes[1].set_ylim(-0.35, -0.05)\n",
    "\n",
    "axes[0].plot(t_model, qu_semi_analytic[:,0], color='r', linestyle='--')\n",
    "axes[1].plot(t_model, qu_semi_analytic[:,1], color='r', linestyle='--')  \n",
    "axes[2].plot(qu_semi_analytic[:,0], qu_semi_analytic[:,1], color='r', linestyle='dotted')\n",
    "    \n",
    "for ax in axes:\n",
    "    ax.legend()"
   ]
  },
  {
   "cell_type": "code",
   "execution_count": 163,
   "id": "96989df1-57cb-42c3-b865-d2ce09541a10",
   "metadata": {},
   "outputs": [
    {
     "data": {
      "application/vnd.jupyter.widget-view+json": {
       "model_id": "09ef77f3e54d451d925340abef48c951",
       "version_major": 2,
       "version_minor": 0
      },
      "text/plain": [
       "Canvas(toolbar=Toolbar(toolitems=[('Home', 'Reset original view', 'home', 'home'), ('Back', 'Back to previous …"
      ]
     },
     "metadata": {},
     "output_type": "display_data"
    },
    {
     "data": {
      "text/plain": [
       "<matplotlib.animation.FuncAnimation at 0x7f4ffa411c70>"
      ]
     },
     "execution_count": 163,
     "metadata": {},
     "output_type": "execute_result"
    }
   ],
   "source": [
    "%matplotlib widget\n",
    "xr.DataArray(image_plane_hs[:,0], dims=['t','alpha','beta']).visualization.animate()"
   ]
  },
  {
   "cell_type": "code",
   "execution_count": 151,
   "id": "b41da02c-af8d-4a6b-aa24-fbcac3ae9355",
   "metadata": {},
   "outputs": [
    {
     "data": {
      "application/vnd.jupyter.widget-view+json": {
       "model_id": "28a8a41efbe24f869d9efd8ba45352be",
       "version_major": 2,
       "version_minor": 0
      },
      "text/plain": [
       "Canvas(toolbar=Toolbar(toolitems=[('Home', 'Reset original view', 'home', 'home'), ('Back', 'Back to previous …"
      ]
     },
     "metadata": {},
     "output_type": "display_data"
    },
    {
     "data": {
      "text/plain": [
       "<matplotlib.colorbar.Colorbar at 0x7f4ffccf1ee0>"
      ]
     },
     "execution_count": 151,
     "metadata": {},
     "output_type": "execute_result"
    }
   ],
   "source": [
    "%matplotlib widget\n",
    "plt.figure(figsize=(3,3))\n",
    "plt.scatter(qu_hs[:,0], qu_hs[:,1], c=t_model, cmap=plt.cm.get_cmap('inferno'), s=1)\n",
    "plt.colorbar()"
   ]
  },
  {
   "cell_type": "code",
   "execution_count": 121,
   "id": "6e0f1120-1cc8-45be-99c2-631d8d03e061",
   "metadata": {},
   "outputs": [
    {
     "data": {
      "application/vnd.jupyter.widget-view+json": {
       "model_id": "6dbd13107f024e4e87f8870a5c7ecdde",
       "version_major": 2,
       "version_minor": 0
      },
      "text/plain": [
       "Canvas(toolbar=Toolbar(toolitems=[('Home', 'Reset original view', 'home', 'home'), ('Back', 'Back to previous …"
      ]
     },
     "metadata": {},
     "output_type": "display_data"
    }
   ],
   "source": [
    "axes = bhnerf.visualization.plot_stokes_lc(target, stokes, t_frames, label='True')\n",
    "axes[0].plot(t_model, qu_hs[:,0], color='r')\n",
    "axes[1].plot(t_model, qu_hs[:,1], color='r')  \n",
    "axes[2].plot(qu_hs[:,0], qu_hs[:,1], color='r')\n",
    "    \n",
    "axes[0].axhline(qu_sha[0], linestyle='--', color='black')\n",
    "axes[1].axhline(qu_sha[1], linestyle='--', color='black')\n",
    "axes[0].set_ylim(-0.1, 0.16)\n",
    "axes[1].set_ylim(-0.35, -0.05)\n",
    "\n",
    "axes[0].plot(t_model, qu_semi_analytic[:,0], color='r', linestyle='--')\n",
    "axes[1].plot(t_model, qu_semi_analytic[:,1], color='r', linestyle='--')  \n",
    "axes[2].plot(qu_semi_analytic[:,0], qu_semi_analytic[:,1], color='r', linestyle='dotted')\n",
    "    \n",
    "for ax in axes:\n",
    "    ax.legend()"
   ]
  },
  {
   "cell_type": "code",
   "execution_count": 94,
   "id": "6fd51cf3-b059-49b2-b24d-5e552fb6c6bd",
   "metadata": {},
   "outputs": [],
   "source": [
    "scale_factor = 0.0023\n",
    "qu_hs = rotate_qu(scale_factor*iqu_hs[:, 1:], angle=np.deg2rad(20)) + qu_sha"
   ]
  },
  {
   "cell_type": "code",
   "execution_count": 95,
   "id": "e200c451-954e-4888-8b56-23b70362a678",
   "metadata": {},
   "outputs": [
    {
     "data": {
      "application/vnd.jupyter.widget-view+json": {
       "model_id": "f7c28a7ef8c0404b8b3181d435493081",
       "version_major": 2,
       "version_minor": 0
      },
      "text/plain": [
       "Canvas(toolbar=Toolbar(toolitems=[('Home', 'Reset original view', 'home', 'home'), ('Back', 'Back to previous …"
      ]
     },
     "metadata": {},
     "output_type": "display_data"
    }
   ],
   "source": [
    "axes = bhnerf.visualization.plot_stokes_lc(target, stokes, t_frames, label='True')\n",
    "axes[0].plot(t_model, qu_hs[:,0], color='r')\n",
    "axes[1].plot(t_model, qu_hs[:,1], color='r')  \n",
    "axes[2].plot(qu_hs[:,0], qu_hs[:,1], color='r')\n",
    "    \n",
    "axes[0].axhline(qu_sha[0], linestyle='--', color='black')\n",
    "axes[1].axhline(qu_sha[1], linestyle='--', color='black')\n",
    "axes[0].set_ylim(-0.1, 0.16)\n",
    "axes[1].set_ylim(-0.35, -0.05)\n",
    "\n",
    "axes[0].plot(t_model, qu_semi_analytic[:,0], color='r', linestyle='--')\n",
    "axes[1].plot(t_model, qu_semi_analytic[:,1], color='r', linestyle='--')  \n",
    "axes[2].plot(qu_semi_analytic[:,0], qu_semi_analytic[:,1], color='r', linestyle='dotted')\n",
    "    \n",
    "for ax in axes:\n",
    "    ax.legend()"
   ]
  },
  {
   "cell_type": "code",
   "execution_count": 390,
   "id": "7005b180-c6fd-4da5-ba91-5ff7fb0af438",
   "metadata": {},
   "outputs": [
    {
     "data": {
      "application/vnd.jupyter.widget-view+json": {
       "model_id": "898eaf97c81c44aabaa2f2379d66ea30",
       "version_major": 2,
       "version_minor": 0
      },
      "text/plain": [
       "Canvas(toolbar=Toolbar(toolitems=[('Home', 'Reset original view', 'home', 'home'), ('Back', 'Back to previous …"
      ]
     },
     "metadata": {},
     "output_type": "display_data"
    },
    {
     "data": {
      "text/plain": [
       "<matplotlib.animation.FuncAnimation at 0x7f88ec4e4f70>"
      ]
     },
     "execution_count": 390,
     "metadata": {},
     "output_type": "execute_result"
    }
   ],
   "source": [
    "%matplotlib widget\n",
    "movie_list = [xr.DataArray(image_plane_hs[:,i], dims=['t','alpha','beta']) for i in range(image_plane_hs.shape[1])]\n",
    "fig, axes = plt.subplots(1, 3, figsize=(10, 3))\n",
    "bhnerf.visualization.animate_movies_synced(\n",
    "    movie_list, axes, titles=['I', 'Q', 'U'], \n",
    "    output='alma/comparison to weilgus/synthetic_hs_std{:1.1f}_no_dtau_w_shear.gif'.format(hs_std)\n",
    ")"
   ]
  },
  {
   "cell_type": "code",
   "execution_count": 316,
   "id": "a9416416-d470-4159-98f1-c398d87cad46",
   "metadata": {},
   "outputs": [],
   "source": [
    "scale_factor = 0.00015\n",
    "qu_hs = rotate_qu(scale_factor*iqu_hs[:, 1:], angle=np.deg2rad(20)) + qu_sha"
   ]
  },
  {
   "cell_type": "code",
   "execution_count": 317,
   "id": "c87d196f-efd6-4f71-9beb-6e71a622b8d5",
   "metadata": {},
   "outputs": [
    {
     "data": {
      "application/vnd.jupyter.widget-view+json": {
       "model_id": "c41eccbdb7584768b1e9b84303fcc250",
       "version_major": 2,
       "version_minor": 0
      },
      "text/plain": [
       "Canvas(toolbar=Toolbar(toolitems=[('Home', 'Reset original view', 'home', 'home'), ('Back', 'Back to previous …"
      ]
     },
     "metadata": {},
     "output_type": "display_data"
    }
   ],
   "source": [
    "axes = bhnerf.visualization.plot_stokes_lc(target, stokes, t_frames, label='True')\n",
    "axes[0].plot(t_model, qu_hs[:,0], color='r')\n",
    "axes[1].plot(t_model, qu_hs[:,1], color='r')  \n",
    "axes[2].plot(qu_hs[:,0], qu_hs[:,1], color='r')\n",
    "    \n",
    "axes[0].axhline(Q_sha, linestyle='--', color='black')\n",
    "axes[1].axhline(U_sha, linestyle='--', color='black')\n",
    "axes[0].set_ylim(-0.1, 0.16)\n",
    "axes[1].set_ylim(-0.35, -0.05)\n",
    "\n",
    "axes[0].plot(t_model, qu_semi_analytic[:,0], color='r', linestyle='--')\n",
    "axes[1].plot(t_model, qu_semi_analytic[:,1], color='r', linestyle='--')  \n",
    "axes[2].plot(qu_semi_analytic[:,0], qu_semi_analytic[:,1], color='r', linestyle='dotted')\n",
    "    \n",
    "for ax in axes:\n",
    "    ax.legend()"
   ]
  },
  {
   "cell_type": "markdown",
   "id": "9f8ba412-4918-4f86-91e4-cfd91898d0c9",
   "metadata": {
    "tags": []
   },
   "source": [
    "### Tests"
   ]
  },
  {
   "cell_type": "code",
   "execution_count": null,
   "id": "c6f63cab-82e3-4e03-a53f-c02629a1f1ec",
   "metadata": {},
   "outputs": [],
   "source": [
    "# WITH dtau\n",
    "scale_factor = 0.42\n",
    "qu_hs = rotate_qu(scale_factor*iqu_hs[:, 1:], angle=np.deg2rad(20)) + qu_sha"
   ]
  },
  {
   "cell_type": "code",
   "execution_count": 283,
   "id": "bd2dd17d-bdc0-4f07-ae5a-a27718e4b59e",
   "metadata": {
    "collapsed": true,
    "jupyter": {
     "outputs_hidden": true
    },
    "tags": []
   },
   "outputs": [
    {
     "data": {
      "application/vnd.jupyter.widget-view+json": {
       "model_id": "f9557f2599cf4a42aba12fe58444e0d0",
       "version_major": 2,
       "version_minor": 0
      },
      "text/plain": [
       "Canvas(toolbar=Toolbar(toolitems=[('Home', 'Reset original view', 'home', 'home'), ('Back', 'Back to previous …"
      ]
     },
     "metadata": {},
     "output_type": "display_data"
    }
   ],
   "source": [
    "axes = bhnerf.visualization.plot_stokes_lc(target, stokes, t_frames, label='True')\n",
    "axes[0].plot(t_model, qu_hs[:,0], color='r')\n",
    "axes[1].plot(t_model, qu_hs[:,1], color='r')  \n",
    "axes[2].plot(qu_hs[:,0], qu_hs[:,1], color='r')\n",
    "    \n",
    "axes[0].axhline(Q_sha, linestyle='--', color='black')\n",
    "axes[1].axhline(U_sha, linestyle='--', color='black')\n",
    "axes[0].set_ylim(-0.1, 0.16)\n",
    "axes[1].set_ylim(-0.35, -0.05)\n",
    "\n",
    "axes[0].plot(t_model, qu_semi_analytic[:,0], color='r', linestyle='--')\n",
    "axes[1].plot(t_model, qu_semi_analytic[:,1], color='r', linestyle='--')  \n",
    "axes[2].plot(qu_semi_analytic[:,0], qu_semi_analytic[:,1], color='r', linestyle='dotted')\n",
    "    \n",
    "for ax in axes:\n",
    "    ax.legend()"
   ]
  },
  {
   "cell_type": "code",
   "execution_count": 267,
   "id": "de71937b-ccd0-4ed2-821d-fcd504f99330",
   "metadata": {},
   "outputs": [
    {
     "data": {
      "application/vnd.jupyter.widget-view+json": {
       "model_id": "39b1556a9aed4b268011440443f28436",
       "version_major": 2,
       "version_minor": 0
      },
      "text/plain": [
       "Canvas(toolbar=Toolbar(toolitems=[('Home', 'Reset original view', 'home', 'home'), ('Back', 'Back to previous …"
      ]
     },
     "metadata": {},
     "output_type": "display_data"
    }
   ],
   "source": [
    "# NO dtau\n",
    "scale_factor = 0.0014\n",
    "qu_hs = rotate_qu(scale_factor*iqu_hs[:, 1:], angle=np.deg2rad(20)) + qu_sha\n",
    "\n",
    "axes = bhnerf.visualization.plot_stokes_lc(target, stokes, t_frames, label='True')\n",
    "axes[0].plot(t_model, qu_hs[:,0], color='r')\n",
    "axes[1].plot(t_model, qu_hs[:,1], color='r')  \n",
    "axes[2].plot(qu_hs[:,0], qu_hs[:,1], color='r')\n",
    "    \n",
    "axes[0].axhline(Q_sha, linestyle='--', color='black')\n",
    "axes[1].axhline(U_sha, linestyle='--', color='black')\n",
    "axes[0].set_ylim(-0.1, 0.16)\n",
    "axes[1].set_ylim(-0.35, -0.05)\n",
    "\n",
    "axes[0].plot(t_model, qu_semi_analytic[:,0], color='r', linestyle='--')\n",
    "axes[1].plot(t_model, qu_semi_analytic[:,1], color='r', linestyle='--')  \n",
    "axes[2].plot(qu_semi_analytic[:,0], qu_semi_analytic[:,1], color='r', linestyle='dotted')\n",
    "    \n",
    "for ax in axes:\n",
    "    ax.legend()"
   ]
  },
  {
   "cell_type": "code",
   "execution_count": 272,
   "id": "a3721a78-23e9-49bc-a1ed-fba9a0974142",
   "metadata": {},
   "outputs": [
    {
     "data": {
      "application/vnd.jupyter.widget-view+json": {
       "model_id": "3de517bd7ad34aceb9f68eea42635f3c",
       "version_major": 2,
       "version_minor": 0
      },
      "text/plain": [
       "Canvas(toolbar=Toolbar(toolitems=[('Home', 'Reset original view', 'home', 'home'), ('Back', 'Back to previous …"
      ]
     },
     "metadata": {},
     "output_type": "display_data"
    },
    {
     "data": {
      "text/plain": [
       "<matplotlib.animation.FuncAnimation at 0x7f892a2c0820>"
      ]
     },
     "execution_count": 272,
     "metadata": {},
     "output_type": "execute_result"
    }
   ],
   "source": [
    "%matplotlib widget\n",
    "movie_list = [xr.DataArray(image_plane_hs[:,i], dims=['t','alpha','beta']) for i in range(image_plane_hs.shape[1])]\n",
    "fig, axes = plt.subplots(1, 3, figsize=(10, 3))\n",
    "bhnerf.visualization.animate_movies_synced(\n",
    "    movie_list, axes, titles=['I', 'Q', 'U'], \n",
    "    output='alma/comparison to weilgus/synthetic_hs_std{:1.1f}_no_dtau.gif'.format(hs_std)\n",
    ")"
   ]
  },
  {
   "cell_type": "code",
   "execution_count": null,
   "id": "0157e8ea-b2dd-468b-ac58-55c2ede01e88",
   "metadata": {},
   "outputs": [],
   "source": []
  },
  {
   "cell_type": "code",
   "execution_count": null,
   "id": "f23615eb-6005-4732-8fbe-e84321a5e763",
   "metadata": {},
   "outputs": [],
   "source": []
  },
  {
   "cell_type": "code",
   "execution_count": 238,
   "id": "7e788b9d-635a-40ad-b775-8f497b77be2a",
   "metadata": {},
   "outputs": [],
   "source": [
    "scale_factor = 0.25\n",
    "qu_hs = rotate_qu(scale_factor*iqu_hs[:, 1:], angle=np.deg2rad(20)) + np.array([ 0.04410198, -0.15380187])"
   ]
  },
  {
   "cell_type": "code",
   "execution_count": 239,
   "id": "05082580-b9a3-4fa8-bde1-0f10f44c3b91",
   "metadata": {},
   "outputs": [
    {
     "data": {
      "application/vnd.jupyter.widget-view+json": {
       "model_id": "5c95039c921d4759a04d68c40df69f3a",
       "version_major": 2,
       "version_minor": 0
      },
      "text/plain": [
       "Canvas(toolbar=Toolbar(toolitems=[('Home', 'Reset original view', 'home', 'home'), ('Back', 'Back to previous …"
      ]
     },
     "metadata": {},
     "output_type": "display_data"
    }
   ],
   "source": [
    "axes = bhnerf.visualization.plot_stokes_lc(target, stokes, t_frames, label='True')\n",
    "axes[0].plot(t_model, qu_hs[:,0], color='r')\n",
    "axes[1].plot(t_model, qu_hs[:,1], color='r')  \n",
    "axes[2].plot(qu_hs[:,0], qu_hs[:,1], color='r')\n",
    "    \n",
    "axes[0].axhline(Q_sha, linestyle='--', color='black')\n",
    "axes[1].axhline(U_sha, linestyle='--', color='black')\n",
    "axes[0].set_ylim(-0.1, 0.16)\n",
    "axes[1].set_ylim(-0.35, -0.05)\n",
    "\n",
    "axes[0].plot(t_model, qu_semi_analytic[:,0], color='r', linestyle='--')\n",
    "axes[1].plot(t_model, qu_semi_analytic[:,1], color='r', linestyle='--')  \n",
    "axes[2].plot(qu_semi_analytic[:,0], qu_semi_analytic[:,1], color='r', linestyle='dotted')\n",
    "    \n",
    "for ax in axes:\n",
    "    ax.legend()"
   ]
  },
  {
   "cell_type": "markdown",
   "id": "85f848c3-28d6-4962-a5da-2051a97dea47",
   "metadata": {},
   "source": [
    "Gaussian hotspot\n",
    "--"
   ]
  },
  {
   "cell_type": "code",
   "execution_count": 130,
   "id": "abae65ec-30fe-4797-9645-3b0c24b4f30c",
   "metadata": {},
   "outputs": [
    {
     "name": "stderr",
     "output_type": "stream",
     "text": [
      "/scratch/imaging/projects/bh_nerf/envs/jax/lib/python3.9/site-packages/xarray/core/computation.py:700: RuntimeWarning: invalid value encountered in sqrt\n",
      "  result_data = func(*input_data)\n",
      "/scratch/imaging/projects/bh_nerf/bhNeRF/bhnerf/kgeo.py:435: RuntimeWarning: invalid value encountered in sqrt\n",
      "  cot_th_b = np.sqrt(1 - sin_th_b**2) / sin_th_b\n"
     ]
    }
   ],
   "source": [
    "hs_diameter = 6\n",
    "hs_std = hs_diameter / (2*np.sqrt(2))\n",
    "fov_M = 40.0 \n",
    "rmax = fov_M / 2\n",
    "GM_c3 = consts.GM_c3(consts.sgra_mass).to(t_frames.unit)\n",
    "delta_t_M = (t_frames[0]-t_model[0]) / GM_c3\n",
    "\n",
    "\n",
    "# Keplerian prograde velocity field\n",
    "# Omega = rot_sign[Omega_dir] * np.sqrt(geos.M) / (geos.r**(3/2) + geos.spin * np.sqrt(geos.M))\n",
    "Omega = rot_sign[Omega_dir] * np.sqrt(geos.M) / (orbit_radius**(3/2) + geos.spin * np.sqrt(geos.M))\n",
    "\n",
    "# Generate hotspot measurements (see Tutorial2)\n",
    "gaussian_hs = bhnerf.emission.generate_hotspot_xr(\n",
    "    resolution=(64, 64, 64), \n",
    "    rot_axis=[0.0, 0.0, 1.0], \n",
    "    rot_angle=rot_angle + np.pi/2 - float(Omega * delta_t_M),\n",
    "    orbit_radius=orbit_radius,\n",
    "    std=hs_std,\n",
    "    r_isco=bhnerf.constants.isco_pro(spin),\n",
    "    fov=(fov_M, 'GM/c^2')\n",
    ")\n",
    "\n",
    "# Compute geodesics (see Tutorial1)\n",
    "geos = bhnerf.kgeo.image_plane_geos(\n",
    "    spin, inclination, \n",
    "    num_alpha=64, num_beta=64, \n",
    "    alpha_range=[-fov_M/2, fov_M/2],\n",
    "    beta_range=[-fov_M/2, fov_M/2]\n",
    ")\n",
    "t_injection = -float(geos.r_o)\n",
    "\n",
    "umu = bhnerf.kgeo.azimuthal_velocity_vector(geos, Omega)\n",
    "# g = bhnerf.kgeo.doppler_factor(geos, umu)\n",
    "g = 1\n",
    "b = bhnerf.kgeo.magnetic_field(geos, *b_consts) \n",
    "J = np.nan_to_num(bhnerf.kgeo.parallel_transport(geos, umu, g, b, Q_frac=Q_frac, V_frac=V_frac), 0.0)"
   ]
  },
  {
   "cell_type": "code",
   "execution_count": 132,
   "id": "f80296b2-9a98-44ea-9adc-1d36ac41adbb",
   "metadata": {},
   "outputs": [],
   "source": [
    "# Polarized emission\n",
    "image_plane_hs = bhnerf.emission.image_plane_dynamics(\n",
    "    gaussian_hs, geos, Omega, t_model, t_injection=0, J=J, doppler=False, slow_light=False\n",
    ")\n",
    "iqu_hs = image_plane_hs.sum(axis=(-1,-2))\n",
    "\n",
    "scale_factor = 0.18\n",
    "qu_hs = rotate_qu(scale_factor*iqu_hs[:, 1:], angle=np.deg2rad(20)) + qu_sha"
   ]
  },
  {
   "cell_type": "code",
   "execution_count": 160,
   "id": "b4760849-a323-426a-a5db-64e39b465b17",
   "metadata": {},
   "outputs": [
    {
     "data": {
      "application/vnd.jupyter.widget-view+json": {
       "model_id": "c95bb511e065477dbd42a610c3e4789c",
       "version_major": 2,
       "version_minor": 0
      },
      "text/plain": [
       "Canvas(toolbar=Toolbar(toolitems=[('Home', 'Reset original view', 'home', 'home'), ('Back', 'Back to previous …"
      ]
     },
     "metadata": {},
     "output_type": "display_data"
    }
   ],
   "source": [
    "axes = bhnerf.visualization.plot_stokes_lc(target, stokes, t_frames, label='True')\n",
    "axes[0].plot(t_model, qu_hs[:,0], color='r')\n",
    "axes[1].plot(t_model, qu_hs[:,1], color='r')  \n",
    "axes[2].plot(qu_hs[:,0], qu_hs[:,1], color='r')\n",
    "    \n",
    "axes[0].axhline(Q_sha, linestyle='--', color='black')\n",
    "axes[1].axhline(U_sha, linestyle='--', color='black')\n",
    "axes[0].set_ylim(-0.1, 0.16)\n",
    "axes[1].set_ylim(-0.35, -0.05)\n",
    "\n",
    "axes[0].plot(t_model, qu_semi_analytic[:,0], color='r', linestyle='--')\n",
    "axes[1].plot(t_model, qu_semi_analytic[:,1], color='r', linestyle='--')  \n",
    "axes[2].plot(qu_semi_analytic[:,0], qu_semi_analytic[:,1], color='r', linestyle='dotted')\n",
    "    \n",
    "for ax in axes:\n",
    "    ax.legend()"
   ]
  },
  {
   "cell_type": "code",
   "execution_count": 165,
   "id": "4616d203-af57-4a15-9fa2-c483942e060f",
   "metadata": {},
   "outputs": [
    {
     "name": "stderr",
     "output_type": "stream",
     "text": [
      "/scratch/imaging/projects/bh_nerf/bhNeRF/bhnerf/kgeo.py:435: RuntimeWarning: invalid value encountered in sqrt\n",
      "  cot_th_b = np.sqrt(1 - sin_th_b**2) / sin_th_b\n",
      "/scratch/imaging/projects/bh_nerf/envs/jax/lib/python3.9/site-packages/xarray/core/computation.py:700: RuntimeWarning: invalid value encountered in sqrt\n",
      "  result_data = func(*input_data)\n"
     ]
    }
   ],
   "source": [
    "g = bhnerf.kgeo.doppler_factor(geos, umu)\n",
    "b = bhnerf.kgeo.magnetic_field(geos, *b_consts) \n",
    "J = np.nan_to_num(bhnerf.kgeo.parallel_transport(geos, umu, g, b, Q_frac=Q_frac, V_frac=V_frac), 0.0)\n",
    "\n",
    "# Polarized emission\n",
    "image_plane_hs = bhnerf.emission.image_plane_dynamics(\n",
    "    gaussian_hs, geos, Omega, t_model, t_injection=t_injection, J=J, doppler=True, slow_light=True\n",
    ")\n",
    "iqu_hs = image_plane_hs.sum(axis=(-1,-2))\n",
    "\n",
    "scale_factor = 0.35\n",
    "qu_hs = rotate_qu(scale_factor*iqu_hs[:, 1:], angle=np.deg2rad(20)) + qu_sha"
   ]
  },
  {
   "cell_type": "code",
   "execution_count": 181,
   "id": "2ed67ffc-c244-4b83-bf63-3b5552b8bb2e",
   "metadata": {},
   "outputs": [
    {
     "data": {
      "application/vnd.jupyter.widget-view+json": {
       "model_id": "995f519ba543478f94246fb35264f64d",
       "version_major": 2,
       "version_minor": 0
      },
      "text/plain": [
       "Canvas(toolbar=Toolbar(toolitems=[('Home', 'Reset original view', 'home', 'home'), ('Back', 'Back to previous …"
      ]
     },
     "metadata": {},
     "output_type": "display_data"
    }
   ],
   "source": [
    "axes = bhnerf.visualization.plot_stokes_lc(target, stokes, t_frames, label='True')\n",
    "axes[0].plot(t_model, qu_hs[:,0], color='r')\n",
    "axes[1].plot(t_model, qu_hs[:,1], color='r')  \n",
    "axes[2].plot(qu_hs[:,0], qu_hs[:,1], color='r')\n",
    "    \n",
    "axes[0].axhline(Q_sha, linestyle='--', color='black')\n",
    "axes[1].axhline(U_sha, linestyle='--', color='black')\n",
    "axes[0].set_ylim(-0.1, 0.16)\n",
    "axes[1].set_ylim(-0.35, -0.05)\n",
    "\n",
    "axes[0].plot(t_model, qu_semi_analytic[:,0], color='r', linestyle='--')\n",
    "axes[1].plot(t_model, qu_semi_analytic[:,1], color='r', linestyle='--')  \n",
    "axes[2].plot(qu_semi_analytic[:,0], qu_semi_analytic[:,1], color='r', linestyle='dotted')\n",
    "    \n",
    "for ax in axes:\n",
    "    ax.legend()"
   ]
  },
  {
   "cell_type": "code",
   "execution_count": 184,
   "id": "566126da-cee8-4b12-a78d-1b38c45dcc1f",
   "metadata": {},
   "outputs": [
    {
     "name": "stderr",
     "output_type": "stream",
     "text": [
      "/scratch/imaging/projects/bh_nerf/envs/jax/lib/python3.9/site-packages/xarray/core/computation.py:700: RuntimeWarning: invalid value encountered in sqrt\n",
      "  result_data = func(*input_data)\n",
      "/scratch/imaging/projects/bh_nerf/envs/jax/lib/python3.9/site-packages/xarray/core/computation.py:700: RuntimeWarning: invalid value encountered in sqrt\n",
      "  result_data = func(*input_data)\n"
     ]
    }
   ],
   "source": [
    "\"\"\"\n",
    "Adding shear due to differential velocity\n",
    "\"\"\"\n",
    "Omega = rot_sign[Omega_dir] * np.sqrt(geos.M) / (geos.r**(3/2) + geos.spin * np.sqrt(geos.M))\n",
    "umu = bhnerf.kgeo.azimuthal_velocity_vector(geos, Omega)\n",
    "\n",
    "g = bhnerf.kgeo.doppler_factor(geos, umu)\n",
    "b = bhnerf.kgeo.magnetic_field(geos, *b_consts) \n",
    "J = np.nan_to_num(bhnerf.kgeo.parallel_transport(geos, umu, g, b, Q_frac=Q_frac, V_frac=V_frac), 0.0)\n",
    "\n",
    "# Polarized emission\n",
    "image_plane_hs = bhnerf.emission.image_plane_dynamics(\n",
    "    gaussian_hs, geos, Omega, t_model, t_injection=0, J=J, doppler=True, slow_light=False\n",
    ")\n",
    "iqu_hs = image_plane_hs.sum(axis=(-1,-2))\n",
    "\n",
    "scale_factor = 0.35\n",
    "qu_hs = rotate_qu(scale_factor*iqu_hs[:, 1:], angle=np.deg2rad(20)) + qu_sha"
   ]
  },
  {
   "cell_type": "code",
   "execution_count": 194,
   "id": "11dc6cd4-132c-4dd2-9680-0a4a863fbf9c",
   "metadata": {},
   "outputs": [],
   "source": [
    "scale_factor = 0.45\n",
    "qu_hs = rotate_qu(scale_factor*iqu_hs[:, 1:], angle=np.deg2rad(20)) + qu_sha"
   ]
  },
  {
   "cell_type": "code",
   "execution_count": 195,
   "id": "8a491b89-7cf4-49f1-8915-529eb138832f",
   "metadata": {},
   "outputs": [
    {
     "data": {
      "application/vnd.jupyter.widget-view+json": {
       "model_id": "789e3f5954654c8cb142c54638b74e52",
       "version_major": 2,
       "version_minor": 0
      },
      "text/plain": [
       "Canvas(toolbar=Toolbar(toolitems=[('Home', 'Reset original view', 'home', 'home'), ('Back', 'Back to previous …"
      ]
     },
     "metadata": {},
     "output_type": "display_data"
    }
   ],
   "source": [
    "axes = bhnerf.visualization.plot_stokes_lc(target, stokes, t_frames, label='True')\n",
    "axes[0].plot(t_model, qu_hs[:,0], color='r')\n",
    "axes[1].plot(t_model, qu_hs[:,1], color='r')  \n",
    "axes[2].plot(qu_hs[:,0], qu_hs[:,1], color='r')\n",
    "    \n",
    "axes[0].axhline(Q_sha, linestyle='--', color='black')\n",
    "axes[1].axhline(U_sha, linestyle='--', color='black')\n",
    "axes[0].set_ylim(-0.1, 0.16)\n",
    "axes[1].set_ylim(-0.35, -0.05)\n",
    "\n",
    "axes[0].plot(t_model, qu_semi_analytic[:,0], color='r', linestyle='--')\n",
    "axes[1].plot(t_model, qu_semi_analytic[:,1], color='r', linestyle='--')  \n",
    "axes[2].plot(qu_semi_analytic[:,0], qu_semi_analytic[:,1], color='r', linestyle='dotted')\n",
    "    \n",
    "for ax in axes:\n",
    "    ax.legend()"
   ]
  },
  {
   "cell_type": "code",
   "execution_count": null,
   "id": "a7e22964-b7fb-4092-9229-cdd447bbcdb4",
   "metadata": {},
   "outputs": [],
   "source": [
    "# Polarized emission\n",
    "image_plane_hs = bhnerf.emission.image_plane_dynamics(\n",
    "    gaussian_hs, geos, Omega, t_model, t_injection, J, doppler=False, slow_light=False\n",
    ")\n",
    "iqu_hs = image_plane_hs.sum(axis=(-1,-2))\n",
    "qu_hs = rotate_qu(0.2*iqu_hs[:, 1:], angle=np.deg2rad(20)) + np.array([0.055, -0.165])"
   ]
  },
  {
   "cell_type": "code",
   "execution_count": null,
   "id": "a45de120-5463-486b-9e88-7b5e017ae262",
   "metadata": {},
   "outputs": [],
   "source": [
    "axes = bhnerf.visualization.plot_stokes_lc(target, stokes, t_frames, label='True')\n",
    "axes[0].plot(t_model, qu_hs[:,0], color='r')\n",
    "axes[1].plot(t_model, qu_hs[:,1], color='r')  \n",
    "axes[2].plot(qu_hs[:,0], qu_hs[:,1], color='r')\n",
    "    \n",
    "axes[0].axhline(Q_sha, linestyle='--', color='black')\n",
    "axes[1].axhline(U_sha, linestyle='--', color='black')\n",
    "axes[0].set_ylim(-0.1, 0.16)\n",
    "axes[1].set_ylim(-0.35, -0.05)\n",
    "\n",
    "axes[0].plot(t_model, qu_semi_analytic[:,0], color='r', linestyle='--')\n",
    "axes[1].plot(t_model, qu_semi_analytic[:,1], color='r', linestyle='--')  \n",
    "axes[2].plot(qu_semi_analytic[:,0], qu_semi_analytic[:,1], color='r', linestyle='dotted')\n",
    "    \n",
    "    \n",
    "for ax in axes:\n",
    "    ax.legend()"
   ]
  },
  {
   "cell_type": "code",
   "execution_count": 12,
   "id": "a35e3d92-1e08-457e-b9b1-78de0564b556",
   "metadata": {},
   "outputs": [
    {
     "data": {
      "application/vnd.jupyter.widget-view+json": {
       "model_id": "dfa16748df6a489f81452c5b93be332d",
       "version_major": 2,
       "version_minor": 0
      },
      "text/plain": [
       "Canvas(toolbar=Toolbar(toolitems=[('Home', 'Reset original view', 'home', 'home'), ('Back', 'Back to previous …"
      ]
     },
     "metadata": {},
     "output_type": "display_data"
    }
   ],
   "source": [
    "axes = bhnerf.visualization.plot_stokes_lc(target, stokes, t_frames, label='True')\n",
    "axes[0].plot(t_model, qu_hs[:,0], color='r')\n",
    "axes[1].plot(t_model, qu_hs[:,1], color='r')  \n",
    "axes[2].plot(qu_hs[:,0], qu_hs[:,1], color='r')\n",
    "    \n",
    "axes[0].axhline(Q_sha, linestyle='--', color='black')\n",
    "axes[1].axhline(U_sha, linestyle='--', color='black')\n",
    "axes[0].set_ylim(-0.1, 0.16)\n",
    "axes[1].set_ylim(-0.35, -0.05)\n",
    "\n",
    "axes[0].plot(t_model, qu_semi_analytic[:,0], color='r', linestyle='--')\n",
    "axes[1].plot(t_model, qu_semi_analytic[:,1], color='r', linestyle='--')  \n",
    "axes[2].plot(qu_semi_analytic[:,0], qu_semi_analytic[:,1], color='r', linestyle='dotted')\n",
    "    \n",
    "    \n",
    "for ax in axes:\n",
    "    ax.legend()"
   ]
  },
  {
   "cell_type": "code",
   "execution_count": 30,
   "id": "9d356cb3-105e-46d1-b110-4b34622554ed",
   "metadata": {},
   "outputs": [
    {
     "data": {
      "application/vnd.jupyter.widget-view+json": {
       "model_id": "e0477b4c286f420fa3168df9761b9932",
       "version_major": 2,
       "version_minor": 0
      },
      "text/plain": [
       "Canvas(toolbar=Toolbar(toolitems=[('Home', 'Reset original view', 'home', 'home'), ('Back', 'Back to previous …"
      ]
     },
     "metadata": {},
     "output_type": "display_data"
    }
   ],
   "source": [
    "axes = bhnerf.visualization.plot_stokes_lc(target, stokes, t_frames, label='True')\n",
    "axes[0].plot(t_model, qu_hs[:,0], color='r')\n",
    "axes[1].plot(t_model, qu_hs[:,1], color='r')  \n",
    "axes[2].plot(qu_hs[:,0], qu_hs[:,1], color='r')\n",
    "    \n",
    "axes[0].axhline(Q_sha, linestyle='--', color='black')\n",
    "axes[1].axhline(U_sha, linestyle='--', color='black')\n",
    "axes[0].set_ylim(-0.1, 0.16)\n",
    "axes[1].set_ylim(-0.35, -0.05)\n",
    "\n",
    "axes[0].plot(t_model, qu_semi_analytic[:,0], color='r', linestyle='--')\n",
    "axes[1].plot(t_model, qu_semi_analytic[:,1], color='r', linestyle='--')  \n",
    "axes[2].plot(qu_semi_analytic[:,0], qu_semi_analytic[:,1], color='r', linestyle='dotted')\n",
    "    \n",
    "    \n",
    "for ax in axes:\n",
    "    ax.legend()"
   ]
  },
  {
   "cell_type": "code",
   "execution_count": 12,
   "id": "97552ca5-2579-443b-8712-256b31835eb8",
   "metadata": {},
   "outputs": [
    {
     "data": {
      "application/vnd.jupyter.widget-view+json": {
       "model_id": "d1357ee6547a492cba61ab612e449427",
       "version_major": 2,
       "version_minor": 0
      },
      "text/plain": [
       "Canvas(toolbar=Toolbar(toolitems=[('Home', 'Reset original view', 'home', 'home'), ('Back', 'Back to previous …"
      ]
     },
     "metadata": {},
     "output_type": "display_data"
    }
   ],
   "source": [
    "axes = bhnerf.visualization.plot_stokes_lc(target, stokes, t_frames, label='True')\n",
    "axes[0].plot(t_model, qu_hs[:,0], color='r')\n",
    "axes[1].plot(t_model, qu_hs[:,1], color='r')  \n",
    "axes[2].plot(qu_hs[:,0], qu_hs[:,1], color='r')\n",
    "    \n",
    "axes[0].axhline(Q_sha, linestyle='--', color='black')\n",
    "axes[1].axhline(U_sha, linestyle='--', color='black')\n",
    "axes[0].set_ylim(-0.1, 0.16)\n",
    "axes[1].set_ylim(-0.35, -0.05)\n",
    "\n",
    "axes[0].plot(t_model, qu_semi_analytic[:,0], color='r', linestyle='--')\n",
    "axes[1].plot(t_model, qu_semi_analytic[:,1], color='r', linestyle='--')  \n",
    "axes[2].plot(qu_semi_analytic[:,0], qu_semi_analytic[:,1], color='r', linestyle='dotted')\n",
    "    \n",
    "    \n",
    "for ax in axes:\n",
    "    ax.legend()"
   ]
  },
  {
   "cell_type": "code",
   "execution_count": 10,
   "id": "eae58555-60cc-461a-bcba-5c7c11d3c37b",
   "metadata": {},
   "outputs": [
    {
     "data": {
      "application/vnd.jupyter.widget-view+json": {
       "model_id": "182580e9b27245c998a0ee0a1c91658f",
       "version_major": 2,
       "version_minor": 0
      },
      "text/plain": [
       "Canvas(toolbar=Toolbar(toolitems=[('Home', 'Reset original view', 'home', 'home'), ('Back', 'Back to previous …"
      ]
     },
     "metadata": {},
     "output_type": "display_data"
    }
   ],
   "source": [
    "init_frame = 6\n",
    "delta_t = t_model[init_frame]-t_model[0]\n",
    "axes = bhnerf.visualization.plot_stokes_lc(target, stokes, t_frames, label='True')\n",
    "axes[0].plot(t_model + delta_t, qu_hs[:,0], color='r')\n",
    "axes[1].plot(t_model + delta_t, qu_hs[:,1], color='r')  \n",
    "axes[2].plot(qu_hs[:,0], qu_hs[:,1], color='r')\n",
    "    \n",
    "axes[0].axhline(Q_sha, linestyle='--', color='black')\n",
    "axes[1].axhline(U_sha, linestyle='--', color='black')\n",
    "axes[0].set_ylim(-0.1, 0.16)\n",
    "axes[1].set_ylim(-0.35, -0.05)\n",
    "\n",
    "axes[0].plot(t_model, qu_semi_analytic[:,0], color='r', linestyle='--')\n",
    "axes[1].plot(t_model, qu_semi_analytic[:,1], color='r', linestyle='--')  \n",
    "axes[2].plot(qu_semi_analytic[:,0], qu_semi_analytic[:,1], color='r', linestyle='dotted')\n",
    "    \n",
    "    \n",
    "for ax in axes:\n",
    "    ax.legend()"
   ]
  },
  {
   "cell_type": "code",
   "execution_count": 194,
   "id": "e9327237-db48-45e5-9284-d61c78b95f6f",
   "metadata": {},
   "outputs": [
    {
     "name": "stderr",
     "output_type": "stream",
     "text": [
      "/scratch/imaging/projects/bh_nerf/envs/jax/lib/python3.9/site-packages/xarray/core/computation.py:700: RuntimeWarning: invalid value encountered in sqrt\n",
      "  result_data = func(*input_data)\n"
     ]
    }
   ],
   "source": [
    "# Polarized emission\n",
    "image_plane_hs = bhnerf.emission.image_plane_dynamics(gaussian_hs, geos, Omega, t_model, 0.0, J, slow_light=False)\n",
    "iqu_hs = image_plane_hs.sum(axis=(-1,-2))\n",
    "qu_hs = rotate_qu(0.35*iqu_hs[:, 1:], angle=np.deg2rad(20)) + np.array([0.055, -0.165])"
   ]
  },
  {
   "cell_type": "code",
   "execution_count": 198,
   "id": "e8320a6f-4cb7-47d6-b8a0-70275b6fad00",
   "metadata": {},
   "outputs": [],
   "source": [
    "qu_hs = rotate_qu(0.3*iqu_hs[:, 1:], angle=np.deg2rad(20)) + np.array([0.055, -0.165])"
   ]
  },
  {
   "cell_type": "code",
   "execution_count": 199,
   "id": "d71cdefa-ae28-4398-88f1-7a0fe13fa07a",
   "metadata": {},
   "outputs": [
    {
     "data": {
      "application/vnd.jupyter.widget-view+json": {
       "model_id": "707621ba79ac455d8e308abd12055229",
       "version_major": 2,
       "version_minor": 0
      },
      "text/plain": [
       "Canvas(toolbar=Toolbar(toolitems=[('Home', 'Reset original view', 'home', 'home'), ('Back', 'Back to previous …"
      ]
     },
     "metadata": {},
     "output_type": "display_data"
    }
   ],
   "source": [
    "axes = bhnerf.visualization.plot_stokes_lc(target, stokes, t_frames, label='True')\n",
    "axes[0].plot(t_model, qu_hs[:,0], color='r')\n",
    "axes[1].plot(t_model, qu_hs[:,1], color='r')  \n",
    "axes[2].plot(qu_hs[:,0], qu_hs[:,1], color='r')\n",
    "    \n",
    "axes[0].axhline(Q_sha, linestyle='--', color='black')\n",
    "axes[1].axhline(U_sha, linestyle='--', color='black')\n",
    "axes[0].set_ylim(-0.1, 0.16)\n",
    "axes[1].set_ylim(-0.35, -0.05)\n",
    "\n",
    "axes[0].plot(t_model, qu_semi_analytic[:,0], color='r', linestyle='--')\n",
    "axes[1].plot(t_model, qu_semi_analytic[:,1], color='r', linestyle='--')  \n",
    "axes[2].plot(qu_semi_analytic[:,0], qu_semi_analytic[:,1], color='r', linestyle='dotted')\n",
    "    \n",
    "    \n",
    "for ax in axes:\n",
    "    ax.legend()"
   ]
  },
  {
   "cell_type": "code",
   "execution_count": 166,
   "id": "963727d5-47e7-40f4-a295-5140e70a5f2e",
   "metadata": {},
   "outputs": [
    {
     "data": {
      "application/vnd.jupyter.widget-view+json": {
       "model_id": "f89df13406fc4363ac11ffb883778af9",
       "version_major": 2,
       "version_minor": 0
      },
      "text/plain": [
       "VBox(children=(Figure(camera=PerspectiveCamera(fov=45.0, position=(0.0, -2.1650635094610964, 1.250000000000000…"
      ]
     },
     "metadata": {},
     "output_type": "display_data"
    }
   ],
   "source": [
    "bhnerf.visualization.ipyvolume_3d(gaussian_hs, fov=fov_M, level=[0, 0.2, 0.7])"
   ]
  },
  {
   "cell_type": "code",
   "execution_count": 57,
   "id": "a1f14b20-bd29-4de0-ba3e-eab2ab212537",
   "metadata": {},
   "outputs": [
    {
     "data": {
      "application/vnd.jupyter.widget-view+json": {
       "model_id": "140b45e4fc8a47389fa2461a4a380e12",
       "version_major": 2,
       "version_minor": 0
      },
      "text/plain": [
       "Canvas(toolbar=Toolbar(toolitems=[('Home', 'Reset original view', 'home', 'home'), ('Back', 'Back to previous …"
      ]
     },
     "metadata": {},
     "output_type": "display_data"
    },
    {
     "data": {
      "text/plain": [
       "<matplotlib.collections.PathCollection at 0x7f61f40e9160>"
      ]
     },
     "execution_count": 57,
     "metadata": {},
     "output_type": "execute_result"
    }
   ],
   "source": [
    "%matplotlib widget\n",
    "plt.scatter(qu_hs[6:,0], qu_hs[6:,1], c=t_model[6:], cmap='viridis', s=5)"
   ]
  },
  {
   "cell_type": "code",
   "execution_count": 20,
   "id": "90ecffa0-bae0-4071-979e-94d36e457355",
   "metadata": {},
   "outputs": [
    {
     "data": {
      "application/vnd.jupyter.widget-view+json": {
       "model_id": "78dc01d7ed2a45aabd6ba4f17fef9a49",
       "version_major": 2,
       "version_minor": 0
      },
      "text/plain": [
       "Canvas(toolbar=Toolbar(toolitems=[('Home', 'Reset original view', 'home', 'home'), ('Back', 'Back to previous …"
      ]
     },
     "metadata": {},
     "output_type": "display_data"
    },
    {
     "data": {
      "text/plain": [
       "<matplotlib.animation.FuncAnimation at 0x7f61f825ca60>"
      ]
     },
     "execution_count": 20,
     "metadata": {},
     "output_type": "execute_result"
    }
   ],
   "source": [
    "%matplotlib widget\n",
    "movie_list = [xr.DataArray(image_plane_hs[:,i], dims=['t','alpha','beta']) for i in range(image_plane_hs.shape[1])]\n",
    "fig, axes = plt.subplots(1, 3, figsize=(10, 3))\n",
    "bhnerf.visualization.animate_movies_synced(movie_list, axes, titles=['I', 'Q', 'U']) #, output='alma/synthetic_hs.gif')"
   ]
  },
  {
   "cell_type": "code",
   "execution_count": null,
   "id": "9b7da5b5-b81e-4ce6-baa8-4ca755346cf0",
   "metadata": {},
   "outputs": [],
   "source": []
  }
 ],
 "metadata": {
  "kernelspec": {
   "display_name": "jax",
   "language": "python",
   "name": "jax"
  },
  "language_info": {
   "codemirror_mode": {
    "name": "ipython",
    "version": 3
   },
   "file_extension": ".py",
   "mimetype": "text/x-python",
   "name": "python",
   "nbconvert_exporter": "python",
   "pygments_lexer": "ipython3",
   "version": "3.9.6"
  }
 },
 "nbformat": 4,
 "nbformat_minor": 5
}
