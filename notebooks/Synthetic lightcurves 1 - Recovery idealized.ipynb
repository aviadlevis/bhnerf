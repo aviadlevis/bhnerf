{
 "cells": [
  {
   "cell_type": "code",
   "execution_count": 17,
   "id": "b85f8e98-8ea4-4e4c-9304-038107b539e2",
   "metadata": {},
   "outputs": [],
   "source": [
    "import bhnerf\n",
    "from astropy import units\n",
    "import jax\n",
    "import numpy as np\n",
    "import xarray as xr\n",
    "import matplotlib.pyplot as plt\n",
    "import pandas as pd\n",
    "from pathlib import Path\n",
    "import ruamel.yaml as yaml\n",
    "\n",
    "# Runing on 2 GPUs\n",
    "import os\n",
    "os.environ['CUDA_VISIBLE_DEVICES'] = '1,3'\n",
    "\n",
    "import warnings\n",
    "from bhnerf.optimization import LogFn\n",
    "warnings.simplefilter(\"ignore\")"
   ]
  },
  {
   "cell_type": "markdown",
   "id": "00b17e33-f366-45fa-bf28-db20ed49d1be",
   "metadata": {},
   "source": [
    "# Load synthetic data\n",
    "---"
   ]
  },
  {
   "cell_type": "code",
   "execution_count": 30,
   "id": "91335518-63d5-4212-bfec-2ab73a60ad01",
   "metadata": {},
   "outputs": [
    {
     "data": {
      "text/html": [
       "<div>\n",
       "<style scoped>\n",
       "    .dataframe tbody tr th:only-of-type {\n",
       "        vertical-align: middle;\n",
       "    }\n",
       "\n",
       "    .dataframe tbody tr th {\n",
       "        vertical-align: top;\n",
       "    }\n",
       "\n",
       "    .dataframe thead th {\n",
       "        text-align: right;\n",
       "    }\n",
       "</style>\n",
       "<table border=\"1\" class=\"dataframe\">\n",
       "  <thead>\n",
       "    <tr style=\"text-align: right;\">\n",
       "      <th></th>\n",
       "      <th>t</th>\n",
       "      <th>I</th>\n",
       "      <th>Q</th>\n",
       "      <th>U</th>\n",
       "    </tr>\n",
       "  </thead>\n",
       "  <tbody>\n",
       "    <tr>\n",
       "      <th>0</th>\n",
       "      <td>9.340563</td>\n",
       "      <td>0.260572</td>\n",
       "      <td>0.096583</td>\n",
       "      <td>0.122080</td>\n",
       "    </tr>\n",
       "    <tr>\n",
       "      <th>1</th>\n",
       "      <td>9.350670</td>\n",
       "      <td>0.255594</td>\n",
       "      <td>0.102229</td>\n",
       "      <td>0.110132</td>\n",
       "    </tr>\n",
       "    <tr>\n",
       "      <th>2</th>\n",
       "      <td>9.360777</td>\n",
       "      <td>0.250520</td>\n",
       "      <td>0.106546</td>\n",
       "      <td>0.097898</td>\n",
       "    </tr>\n",
       "    <tr>\n",
       "      <th>3</th>\n",
       "      <td>9.370883</td>\n",
       "      <td>0.245289</td>\n",
       "      <td>0.109462</td>\n",
       "      <td>0.085561</td>\n",
       "    </tr>\n",
       "    <tr>\n",
       "      <th>4</th>\n",
       "      <td>9.380990</td>\n",
       "      <td>0.240443</td>\n",
       "      <td>0.110972</td>\n",
       "      <td>0.072903</td>\n",
       "    </tr>\n",
       "  </tbody>\n",
       "</table>\n",
       "</div>"
      ],
      "text/plain": [
       "          t         I         Q         U\n",
       "0  9.340563  0.260572  0.096583  0.122080\n",
       "1  9.350670  0.255594  0.102229  0.110132\n",
       "2  9.360777  0.250520  0.106546  0.097898\n",
       "3  9.370883  0.245289  0.109462  0.085561\n",
       "4  9.380990  0.240443  0.110972  0.072903"
      ]
     },
     "execution_count": 30,
     "metadata": {},
     "output_type": "execute_result"
    }
   ],
   "source": [
    "data_path = Path('../data/synthetic_lightcurves/flux_tube/sim1_lightcurve.csv')\n",
    "lightcurves_df = pd.read_csv(data_path)\n",
    "lightcurves_df.head()"
   ]
  },
  {
   "cell_type": "markdown",
   "id": "404ebbfc-9fd4-464a-95cb-efa3ea97074e",
   "metadata": {
    "tags": []
   },
   "source": [
    "# Recover 3D emission \n",
    "---\n",
    "Recover the unknown 3D emission directly from the polarized lightcurves using bh-NeRF. \\\n",
    "This recovery is an idealized recovery with no systematic noise modeling."
   ]
  },
  {
   "cell_type": "code",
   "execution_count": 31,
   "id": "f6466bd6-6272-432e-be7e-9b5454ea46ca",
   "metadata": {},
   "outputs": [],
   "source": [
    "with open(data_path.parent.joinpath('sim1_params.yml'), 'r') as stream:\n",
    "    simulation_params = yaml.load(stream, Loader=yaml.Loader)\n",
    "locals().update(simulation_params['model'])\n",
    "\n",
    "recovery_params = { \n",
    "    # Domain dimensions\n",
    "    'z_width': 4,                                   # maximum disk width [M]\n",
    "    'rmax': fov_M / 2,                              # maximum recovery radius\n",
    "    'rmin': float(bhnerf.constants.isco_pro(spin)), # minimum recovery radius\n",
    "    'recovery_scale': 1.0,                          # feature scale for recovery [M] \n",
    "    \n",
    "    # Optimization\n",
    "    'stokes': ['I', 'Q', 'U'],\n",
    "    'batchsize': 6,\n",
    "    'sigma': 1.0,\n",
    "    'hparams': {'num_iters': 50000, 'lr_init': 1e-4, 'lr_final': 1e-6, 'seed': 1}\n",
    "}\n",
    "\n",
    "locals().update(recovery_params)"
   ]
  },
  {
   "cell_type": "code",
   "execution_count": 32,
   "id": "886b7356-8a0d-4147-9130-4577d5d79b13",
   "metadata": {},
   "outputs": [],
   "source": [
    "# Load ground truth flare for comparison\n",
    "sim_name = simulation_params['name']\n",
    "flare_path = Path(simulation_params['flare_path'])\n",
    "emission_flare = xr.load_dataarray(flare_path)\n",
    "\n",
    "# Compute geodesics\n",
    "geos = bhnerf.kgeo.image_plane_geos(\n",
    "    spin, np.deg2rad(inclination), \n",
    "    num_alpha=num_alpha, num_beta=num_beta, \n",
    "    alpha_range=[-fov_M/2, fov_M/2],\n",
    "    beta_range=[-fov_M/2, fov_M/2])\n",
    "t_injection = -float(geos.r_o + fov_M/4)\n",
    "\n",
    "# Keplerian velocity field\n",
    "rot_sign = {'cw': -1, 'ccw': 1}\n",
    "Omega = rot_sign[Omega_dir] * np.sqrt(geos.M) / (geos.r**(3/2) + geos.spin * np.sqrt(geos.M))\n",
    "umu = bhnerf.kgeo.azimuthal_velocity_vector(geos, Omega)\n",
    "g = bhnerf.kgeo.doppler_factor(geos, umu)\n",
    "\n",
    "# Magnitude normalized magnetic field in fluid-frame\n",
    "b = bhnerf.kgeo.magnetic_field_fluid_frame(geos, umu, **b_consts)\n",
    "domain = np.bitwise_and(np.bitwise_and(np.abs(geos.z) < z_width, geos.r > rmin), geos.r < rmax)\n",
    "b_mean = np.sqrt(np.sum(b[domain]**2, axis=-1)).mean()\n",
    "b /= b_mean\n",
    "\n",
    "# Polarized emission factors (including parallel transport)\n",
    "J = np.nan_to_num(bhnerf.kgeo.parallel_transport(geos, umu, g, b, Q_frac=Q_frac, V_frac=0), 0.0)\n",
    "\n",
    "# Network / Optimization parameters\n",
    "raytracing_args = bhnerf.network.raytracing_args(geos, Omega, t_injection, t_start_obs*units.hr, J)\n",
    "predictor = bhnerf.network.NeRF_Predictor(rmax, rmin, rmax, z_width, posenc_var=recovery_scale/fov_M)"
   ]
  },
  {
   "cell_type": "code",
   "execution_count": 33,
   "id": "0925ff86-abf0-49fa-b71d-9ef3be495fa2",
   "metadata": {},
   "outputs": [
    {
     "data": {
      "application/vnd.jupyter.widget-view+json": {
       "model_id": "911751d13c414a36ae818220068d4fbe",
       "version_major": 2,
       "version_minor": 0
      },
      "text/plain": [
       "iteration:   0%|          | 0/50000 [00:00<?, ?it/s]"
      ]
     },
     "metadata": {},
     "output_type": "display_data"
    }
   ],
   "source": [
    "%matplotlib inline\n",
    "log_period = 500\n",
    "recovery_dir = data_path.parent.joinpath('recovery/{}.seed_{}.no_systematics.{}'.format(sim_name, hparams['seed'], ''.join(stokes)))\n",
    "t_frames, target = np.array(lightcurves_df['t']), np.array(lightcurves_df[stokes])\n",
    "train_step = bhnerf.optimization.TrainStep.image(t_frames, target, sigma, dtype='lc')\n",
    "\n",
    "writer = bhnerf.optimization.SummaryWriter(logdir=recovery_dir)\n",
    "writer.add_images('emission/true', bhnerf.utils.intensity_to_nchw(emission_flare), global_step=0)\n",
    "log_fns = [\n",
    "    LogFn(lambda opt: writer.add_scalar('log_loss/train', np.log10(np.mean(opt.loss)), global_step=opt.step)), \n",
    "    LogFn(lambda opt: writer.recovery_3d(fov_M, emission_true=emission_flare)(opt), log_period=log_period),\n",
    "    LogFn(lambda opt: writer.plot_lc_datafit(opt, target, stokes, t_frames, batchsize=20), log_period=log_period)\n",
    "]\n",
    "\n",
    "# Optimization\n",
    "optimizer = bhnerf.optimization.Optimizer(hparams, predictor, raytracing_args, checkpoint_dir=recovery_dir)\n",
    "optimizer.run(batchsize, train_step, raytracing_args, log_fns=log_fns)\n",
    "writer.close()\n",
    "\n",
    "params = {'simulation': simulation_params, 'recovery': recovery_params}\n",
    "with open('{}/params.yml'.format(recovery_dir), 'w') as file:\n",
    "    yaml.dump(params, file, default_flow_style=False)"
   ]
  }
 ],
 "metadata": {
  "kernelspec": {
   "display_name": "jax",
   "language": "python",
   "name": "jax"
  },
  "language_info": {
   "codemirror_mode": {
    "name": "ipython",
    "version": 3
   },
   "file_extension": ".py",
   "mimetype": "text/x-python",
   "name": "python",
   "nbconvert_exporter": "python",
   "pygments_lexer": "ipython3",
   "version": "3.9.6"
  }
 },
 "nbformat": 4,
 "nbformat_minor": 5
}
