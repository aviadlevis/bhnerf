{
 "cells": [
  {
   "cell_type": "code",
   "execution_count": 1,
   "id": "b85f8e98-8ea4-4e4c-9304-038107b539e2",
   "metadata": {},
   "outputs": [
    {
     "name": "stdout",
     "output_type": "stream",
     "text": [
      "Welcome to eht-imaging! v 1.2.5 \n",
      "\n"
     ]
    },
    {
     "name": "stderr",
     "output_type": "stream",
     "text": [
      "WARNING:absl:Tensorflow library not found, tensorflow.io.gfile operations will use native shim calls. GCS paths (i.e. 'gs://...') cannot be accessed.\n"
     ]
    }
   ],
   "source": [
    "import bhnerf\n",
    "from astropy import units\n",
    "import jax\n",
    "import numpy as np\n",
    "import xarray as xr\n",
    "import matplotlib.pyplot as plt\n",
    "import pandas as pd\n",
    "from pathlib import Path\n",
    "import ruamel.yaml as yaml\n",
    "import warnings\n",
    "from bhnerf.optimization import LogFn\n",
    "warnings.simplefilter(\"ignore\")\n",
    "\n",
    "# Runing on 2 GPUs\n",
    "import os\n",
    "os.environ['CUDA_VISIBLE_DEVICES'] = '6,7'"
   ]
  },
  {
   "cell_type": "markdown",
   "id": "00b17e33-f366-45fa-bf28-db20ed49d1be",
   "metadata": {},
   "source": [
    "Load synthetic data\n",
    "---\n",
    "Data was precomputed using: `notebooks/Synthetic lightcurves 0 - Generate data.ipynb`"
   ]
  },
  {
   "cell_type": "code",
   "execution_count": 2,
   "id": "91335518-63d5-4212-bfec-2ab73a60ad01",
   "metadata": {},
   "outputs": [
    {
     "data": {
      "text/html": [
       "<div>\n",
       "<style scoped>\n",
       "    .dataframe tbody tr th:only-of-type {\n",
       "        vertical-align: middle;\n",
       "    }\n",
       "\n",
       "    .dataframe tbody tr th {\n",
       "        vertical-align: top;\n",
       "    }\n",
       "\n",
       "    .dataframe thead th {\n",
       "        text-align: right;\n",
       "    }\n",
       "</style>\n",
       "<table border=\"1\" class=\"dataframe\">\n",
       "  <thead>\n",
       "    <tr style=\"text-align: right;\">\n",
       "      <th></th>\n",
       "      <th>t</th>\n",
       "      <th>I</th>\n",
       "      <th>Q</th>\n",
       "      <th>U</th>\n",
       "    </tr>\n",
       "  </thead>\n",
       "  <tbody>\n",
       "    <tr>\n",
       "      <th>0</th>\n",
       "      <td>9.340563</td>\n",
       "      <td>0.265225</td>\n",
       "      <td>0.047161</td>\n",
       "      <td>0.161291</td>\n",
       "    </tr>\n",
       "    <tr>\n",
       "      <th>1</th>\n",
       "      <td>9.350670</td>\n",
       "      <td>0.261085</td>\n",
       "      <td>0.058046</td>\n",
       "      <td>0.153017</td>\n",
       "    </tr>\n",
       "    <tr>\n",
       "      <th>2</th>\n",
       "      <td>9.360777</td>\n",
       "      <td>0.256678</td>\n",
       "      <td>0.068029</td>\n",
       "      <td>0.143825</td>\n",
       "    </tr>\n",
       "    <tr>\n",
       "      <th>3</th>\n",
       "      <td>9.370883</td>\n",
       "      <td>0.252142</td>\n",
       "      <td>0.076992</td>\n",
       "      <td>0.133942</td>\n",
       "    </tr>\n",
       "    <tr>\n",
       "      <th>4</th>\n",
       "      <td>9.380990</td>\n",
       "      <td>0.247599</td>\n",
       "      <td>0.084752</td>\n",
       "      <td>0.123580</td>\n",
       "    </tr>\n",
       "  </tbody>\n",
       "</table>\n",
       "</div>"
      ],
      "text/plain": [
       "          t         I         Q         U\n",
       "0  9.340563  0.265225  0.047161  0.161291\n",
       "1  9.350670  0.261085  0.058046  0.153017\n",
       "2  9.360777  0.256678  0.068029  0.143825\n",
       "3  9.370883  0.252142  0.076992  0.133942\n",
       "4  9.380990  0.247599  0.084752  0.123580"
      ]
     },
     "execution_count": 2,
     "metadata": {},
     "output_type": "execute_result"
    }
   ],
   "source": [
    "data_path = Path('../data/synthetic_lightcurves/flux_tube/sim1_lightcurve.csv')\n",
    "lightcurves_df = pd.read_csv(data_path)\n",
    "lightcurves_df.head()"
   ]
  },
  {
   "cell_type": "markdown",
   "id": "404ebbfc-9fd4-464a-95cb-efa3ea97074e",
   "metadata": {
    "tags": []
   },
   "source": [
    "# Recover 3D emission \n",
    "---\n",
    "Recover the unknown 3D emission directly from the polarized lightcurves using bh-NeRF. \\\n",
    "This recovery is an idealized recovery with no systematic noise modeling."
   ]
  },
  {
   "cell_type": "code",
   "execution_count": 3,
   "id": "f6466bd6-6272-432e-be7e-9b5454ea46ca",
   "metadata": {},
   "outputs": [],
   "source": [
    "with open(data_path.parent.joinpath('sim1_params.yaml'), 'r') as stream:\n",
    "    simulation_params = yaml.load(stream, Loader=yaml.Loader)\n",
    "locals().update(simulation_params['model'])\n",
    "\n",
    "recovery_params = { \n",
    "    # Domain dimensions\n",
    "    'z_width': 4,                                   # maximum disk width [M]\n",
    "    'rmax': fov_M / 2,                              # maximum recovery radius\n",
    "    'rmin': float(bhnerf.constants.isco_pro(spin)), # minimum recovery radius\n",
    "    'recovery_scale': 1.0,                          # feature scale for recovery [M] \n",
    "    \n",
    "    # Optimization\n",
    "    'stokes': ['I', 'Q', 'U'],\n",
    "    'batchsize': 6,\n",
    "    'sigma': 1.0,\n",
    "    'hparams': {'num_iters': 50000, 'lr_init': 1e-4, 'lr_final': 1e-6, 'seed': 1}\n",
    "}\n",
    "\n",
    "params = simulation_params['model'] | recovery_params"
   ]
  },
  {
   "cell_type": "code",
   "execution_count": 4,
   "id": "886b7356-8a0d-4147-9130-4577d5d79b13",
   "metadata": {},
   "outputs": [],
   "source": [
    "# Load ground truth flare for comparison\n",
    "sim_name = simulation_params['name']\n",
    "flare_path = Path(simulation_params['flare_path'])\n",
    "emission_flare = emission_scale * xr.load_dataarray(flare_path)\n",
    "\n",
    "# Ray tracing parameters\n",
    "geos, Omega, J = bhnerf.alma.image_plane_model(np.deg2rad(inclination), spin, params)\n",
    "t_injection = -float(geos.r_o + fov_M/4)\n",
    "\n",
    "# Network / Optimization parameters\n",
    "raytracing_args = bhnerf.network.raytracing_args(geos, Omega, t_injection, t_start_obs*units.hr, J)\n",
    "predictor = bhnerf.network.NeRF_Predictor(rmax, rmin, rmax, z_width)"
   ]
  },
  {
   "cell_type": "code",
   "execution_count": 5,
   "id": "0925ff86-abf0-49fa-b71d-9ef3be495fa2",
   "metadata": {},
   "outputs": [
    {
     "data": {
      "application/vnd.jupyter.widget-view+json": {
       "model_id": "8f1b6302f5124909be290af82bfd35f2",
       "version_major": 2,
       "version_minor": 0
      },
      "text/plain": [
       "iteration:   0%|          | 0/50000 [00:00<?, ?it/s]"
      ]
     },
     "metadata": {},
     "output_type": "display_data"
    }
   ],
   "source": [
    "%matplotlib inline\n",
    "log_period = 500\n",
    "recovery_dir = data_path.parent.joinpath('recovery/{}_seed{}_stokes_{}_idealized'.format(sim_name, hparams['seed'], ''.join(stokes)))\n",
    "t_frames, target = np.array(lightcurves_df['t']), np.array(lightcurves_df[stokes])\n",
    "train_step = bhnerf.optimization.TrainStep.image(t_frames, target, sigma, dtype='lc')\n",
    "\n",
    "writer = bhnerf.optimization.SummaryWriter(logdir=recovery_dir)\n",
    "writer.add_images('emission/true', bhnerf.utils.intensity_to_nchw(emission_flare), global_step=0)\n",
    "log_fns = [\n",
    "    LogFn(lambda opt: writer.add_scalar('log_loss/train', np.log10(np.mean(opt.loss)), global_step=opt.step)), \n",
    "    LogFn(lambda opt: writer.recovery_3d(fov_M, emission_true=emission_flare)(opt), log_period=log_period),\n",
    "    LogFn(lambda opt: writer.plot_lc_datafit(opt, 'training', train_step, target, stokes, t_frames, batchsize=20), log_period=log_period)\n",
    "]\n",
    "\n",
    "# Optimization\n",
    "optimizer = bhnerf.optimization.Optimizer(hparams, predictor, raytracing_args, checkpoint_dir=recovery_dir)\n",
    "optimizer.run(batchsize, train_step, raytracing_args, log_fns=log_fns)\n",
    "writer.close()\n",
    "\n",
    "out_params = {'simulation': simulation_params, 'recovery': recovery_params}\n",
    "with open('{}/params.yaml'.format(recovery_dir), 'w') as file:\n",
    "    yaml.dump(out_params, file, default_flow_style=False)"
   ]
  },
  {
   "cell_type": "code",
   "execution_count": 6,
   "id": "7a1032eb-7f41-4890-b571-4a4021e5c489",
   "metadata": {},
   "outputs": [
    {
     "data": {
      "application/vnd.jupyter.widget-view+json": {
       "model_id": "1925861692ab48d5905d090acae53329",
       "version_major": 2,
       "version_minor": 0
      },
      "text/plain": [
       "Container(figure=Figure(box_center=[0.5, 0.5, 0.5], box_size=[1.0, 1.0, 1.0], camera=PerspectiveCamera(fov=45.…"
      ]
     },
     "metadata": {},
     "output_type": "display_data"
    }
   ],
   "source": [
    "\"\"\"\n",
    "Visualize the recovered 3D emission\n",
    "This visualization requires ipyvolume: https://ipyvolume.readthedocs.io/en/latest/\n",
    "\"\"\"\n",
    "emission_estimate = bhnerf.network.sample_3d_grid(predictor.apply, optimizer.params, fov=fov_M)\n",
    "bhnerf.visualization.ipyvolume_3d(emission_estimate, fov=fov_M, level=[0, 0.2, 0.7])"
   ]
  }
 ],
 "metadata": {
  "kernelspec": {
   "display_name": "Python 3 (ipykernel)",
   "language": "python",
   "name": "python3"
  },
  "language_info": {
   "codemirror_mode": {
    "name": "ipython",
    "version": 3
   },
   "file_extension": ".py",
   "mimetype": "text/x-python",
   "name": "python",
   "nbconvert_exporter": "python",
   "pygments_lexer": "ipython3",
   "version": "3.9.16"
  }
 },
 "nbformat": 4,
 "nbformat_minor": 5
}
