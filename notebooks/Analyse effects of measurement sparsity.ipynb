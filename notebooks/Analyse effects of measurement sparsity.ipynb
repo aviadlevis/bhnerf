{
 "cells": [
  {
   "cell_type": "markdown",
   "id": "a8ff6a89-3599-475b-bb6a-9eaa7b4f525d",
   "metadata": {},
   "source": [
    "# Analyze the effects of measurements sparsity on 3D emission recovery\n",
    "\n",
    "---\n",
    "This notebook analyses the effects of measurements sparsity on the recovery of 3D emission. The measurements used for recovery increase in sparsity from full image plane to ngEHT and EHT visibilities. Emission is either recovered jointly with an unknown rotation axis as well as (for comparison) with a known rotation axis. Measurements are used to fit the parameters of a coordinate-based neural network."
   ]
  },
  {
   "cell_type": "code",
   "execution_count": 1,
   "id": "2def1bd1-b57a-44b5-b806-74e6140c6c3c",
   "metadata": {},
   "outputs": [
    {
     "name": "stderr",
     "output_type": "stream",
     "text": [
      "Matplotlib created a temporary config/cache directory at /tmp/matplotlib-thif4_nw because the default path (/home/jovyan/.cache/matplotlib) is not a writable directory; it is highly recommended to set the MPLCONFIGDIR environment variable to a writable directory, in particular to speed up the import of Matplotlib and to better support multiprocessing.\n"
     ]
    },
    {
     "name": "stdout",
     "output_type": "stream",
     "text": [
      "Welcome to eht-imaging! v 1.2.2 \n",
      "\n"
     ]
    },
    {
     "name": "stderr",
     "output_type": "stream",
     "text": [
      "2022-01-19 17:25:59.387410: W tensorflow/stream_executor/platform/default/dso_loader.cc:64] Could not load dynamic library 'libcudart.so.11.0'; dlerror: libcudart.so.11.0: cannot open shared object file: No such file or directory; LD_LIBRARY_PATH: /.singularity.d/libs\n"
     ]
    }
   ],
   "source": [
    "import bhnerf\n",
    "from bhnerf.network import flattened_traversal, shard\n",
    "import numpy as np\n",
    "import xarray as xr\n",
    "import matplotlib.pyplot as plt\n",
    "import ehtim as eh\n",
    "from ehtim.observing.obs_helpers import ftmatrix\n",
    "\n",
    "import jax\n",
    "import functools\n",
    "from jax import jit\n",
    "from jax import numpy as jnp\n",
    "import jax.scipy as jsp\n",
    "import flax\n",
    "from flax.training import train_state\n",
    "from flax.training import checkpoints\n",
    "import optax\n",
    "\n",
    "from tensorboardX import SummaryWriter\n",
    "from datetime import datetime\n",
    "from tqdm.notebook import tqdm\n",
    "\n",
    "import os\n",
    "os.environ['CUDA_VISIBLE_DEVICES'] = '2,3'"
   ]
  },
  {
   "cell_type": "code",
   "execution_count": 2,
   "id": "af1c2731-2e2c-40b7-9ee3-70b982fe6978",
   "metadata": {},
   "outputs": [],
   "source": [
    "\"\"\"\n",
    "Generate emission hotspots and image plane movies\n",
    "\"\"\"\n",
    "spatial_res = (64, 64, 64)\n",
    "nt = 128\n",
    "r_isco = 3.0\n",
    "orbit_radius = 3.5 \n",
    "std = .4\n",
    "\n",
    "orbit_period = orbit_radius**(-3./2.) \n",
    "velocity_field = lambda r: (1.0 / orbit_period) * r**(-3/2)\n",
    "\n",
    "rot_axis = [-0.5, 0.0, 0.8660254]\n",
    "rot_angles = np.array([0.73631078, 2.9943305 , 3.38702958, 4.17242774, 5.39961237])\n",
    "\n",
    "initial_frame = 0.0\n",
    "for rot_angle in rot_angles: \n",
    "    initial_frame += bhnerf.emission.generate_hotspot_xr(spatial_res, rot_axis, rot_angle, orbit_radius, std, r_isco)\n",
    "    \n",
    "# Shear and normalize emission values\n",
    "normalization_factor = 0.02\n",
    "emission = bhnerf.emission.generate_orbit(initial_frame, nt, velocity_field, rot_axis)\n",
    "\n",
    "# Load a precomuted sensor Dataset and integrate over the 4D emission field to get 3D image-plane movie.\n",
    "sensor = xr.load_dataset('../sensors/a0.00_th1.57_ngeo100_npix4096.nc')\n",
    "sensor = sensor.where(sensor.r < 5)\n",
    "sensor.attrs.update(r_min=sensor.r.min().data, r_max=sensor.r.max().data)\n",
    "sensor = sensor.fillna(0.0)\n",
    "image_pixels = bhnerf.emission.integrate_rays(emission, sensor)\n",
    "image_plane = image_pixels.data.reshape(nt, sensor.num_alpha, sensor.num_beta)\n",
    "\n",
    "# anti-aliasing for visualization\n",
    "x = jnp.linspace(-sensor.num_alpha/2.0, sensor.num_alpha/2.0, sensor.num_alpha)\n",
    "window = jsp.stats.norm.pdf(x) * jsp.stats.norm.pdf(x[:, None])\n",
    "window = window / window.sum()\n",
    "image_plane_blurred = bhnerf.utils.anti_aliasing_filter(image_plane, window)\n",
    "\n",
    "# normalization for `reasonable` EHT fluxes\n",
    "emission_normalized = normalization_factor * emission\n",
    "image_pixels_normalized = bhnerf.emission.integrate_rays(emission_normalized, sensor)\n",
    "image_plane_normalized = image_pixels_normalized.data.reshape(nt, sensor.num_alpha, sensor.num_beta)"
   ]
  },
  {
   "cell_type": "code",
   "execution_count": 3,
   "id": "01963430-554a-419f-9324-da9b5b110043",
   "metadata": {},
   "outputs": [
    {
     "data": {
      "application/vnd.jupyter.widget-view+json": {
       "model_id": "3b76f19e59ca441fb6ad76378bb61804",
       "version_major": 2,
       "version_minor": 0
      },
      "text/plain": [
       "Canvas(toolbar=Toolbar(toolitems=[('Home', 'Reset original view', 'home', 'home'), ('Back', 'Back to previous …"
      ]
     },
     "metadata": {},
     "output_type": "display_data"
    }
   ],
   "source": [
    "\"\"\"\n",
    "Visualize image-plane movie and ngEHT measurements\n",
    "\"\"\"\n",
    "image_plane_xr = xr.DataArray(image_plane, dims=['t', 'alpha', 'beta'])\n",
    "image_plane_blurred_xr = xr.DataArray(image_plane_blurred, dims=['t', 'alpha', 'beta'])\n",
    "\n",
    "%matplotlib widget\n",
    "fig, ax = plt.subplots(1, 2, figsize=(6,3.5))\n",
    "ax[0].set_title('Image plane')\n",
    "ax[1].set_title('Image plane w/ anti-aliasing')\n",
    "anim1 = image_plane_xr.visualization.animate(ax=ax[0], cmap='afmhot', add_colorbar=False)\n",
    "anim2 = image_plane_blurred_xr.visualization.animate(ax=ax[1], cmap='afmhot', add_colorbar=False)\n",
    "plt.tight_layout()"
   ]
  },
  {
   "cell_type": "code",
   "execution_count": 4,
   "id": "9d212b89-2e27-46f3-9ca4-b15cafeca324",
   "metadata": {},
   "outputs": [
    {
     "data": {
      "application/vnd.jupyter.widget-view+json": {
       "model_id": "74de153393394ac9ad07cf9a7261c737",
       "version_major": 2,
       "version_minor": 0
      },
      "text/plain": [
       "interactive(children=(IntSlider(value=0, description='t', max=127), Output()), _dom_classes=('widget-interact'…"
      ]
     },
     "metadata": {},
     "output_type": "display_data"
    }
   ],
   "source": [
    "\"\"\"\n",
    "Slider visualization to illustrate the volumetric shearing\n",
    "This visualization requires ipyvolume: https://ipyvolume.readthedocs.io/en/latest/\n",
    "\"\"\"\n",
    "import ipyvolume as ipv\n",
    "from ipywidgets import interact\n",
    "import ipywidgets as widgets\n",
    "\n",
    "extent = [(float(emission[dim].min()), float(emission[dim].max())) for dim in ('x', 'y', 'z')]\n",
    "@interact(t=widgets.IntSlider(min=0, max=emission.t.size-1, step=1, value=0))\n",
    "def plot_vol(t):\n",
    "    ipv.figure()\n",
    "    ipv.view(0, -60, distance=2.5)\n",
    "    ipv.volshow(emission.isel(t=t), extent=extent, memorder='F', level=[0, 0.2, 0.7], opacity=[0, 0.2, 0.3], controls=False)\n",
    "    ipv.show()"
   ]
  },
  {
   "cell_type": "code",
   "execution_count": 6,
   "id": "6dd3ba66-ff9b-43d7-a2fa-634a0236c182",
   "metadata": {},
   "outputs": [
    {
     "name": "stdout",
     "output_type": "stream",
     "text": [
      "Producing clean visibilities from movie with direct FT . . . \n",
      "Applying Jones Matrices to data . . . \n",
      "Applying Jones Matrices to data . . . \n",
      "Adding thermal noise to data . . . \n",
      "Applying a priori calibration with estimated Jones matrices . . . \n",
      "Producing clean visibilities from movie with direct FT . . . \n",
      "Applying Jones Matrices to data . . . \n",
      "Applying Jones Matrices to data . . . \n",
      "Adding thermal noise to data . . . \n",
      "Applying a priori calibration with estimated Jones matrices . . . \n"
     ]
    }
   ],
   "source": [
    "\"\"\"\n",
    "Generate synthetic ngEHT/EHT observations of the image plane\n",
    "\"\"\"\n",
    "fov = 85.0             \n",
    "obs_params = {\n",
    "    'mjd': 57851,\n",
    "    'timetype': 'GMST',\n",
    "    'nt': 128,           # number of time samples \n",
    "    'tstart': 2.0,       # start of observations\n",
    "    'tstop': 2.0 + 2/3,  # end of observation \n",
    "    'tint': 15.0         # integration time\n",
    "}\n",
    "\n",
    "visibilities = dict()\n",
    "for array in ['ngEHT', 'EHT2017']:\n",
    "    obs_params['array'] = eh.array.load_txt('../eht_arrays/{}.txt'.format(array))\n",
    "    obs_empty = bhnerf.observation.empty_eht_obs(**obs_params)\n",
    "    obs_args = {\n",
    "        'psize': fov / sensor.num_alpha * eh.ehc.RADPERUAS,\n",
    "        'ra': obs_empty.ra, \n",
    "        'dec': obs_empty.dec,\n",
    "        'rf': obs_empty.rf, \n",
    "        'mjd': obs_empty.mjd,\n",
    "    }\n",
    "    times = np.linspace(obs_params['tstart'], obs_params['tstop'], obs_params['nt'])\n",
    "    movie = eh.movie.Movie(image_plane_normalized, times=times, **obs_args)\n",
    "    obs = bhnerf.observation.observe_same(movie, obs_empty, ttype='direct', seed=None)\n",
    "\n",
    "    # Stack measurements and associated parameters for down-stream optimization\n",
    "    uv = np.stack((bhnerf.observation.padded_obs(obs, 'u'), bhnerf.observation.padded_obs(obs, 'v')), axis=2)\n",
    "    obs_times = np.array([np.mean(obsdata['time'][0]) for obsdata in obs.tlist()])\n",
    "    visibilities[array] = {\n",
    "        'obs': obs,\n",
    "        'measurements': bhnerf.observation.padded_obs(obs, 'vis', fill_value=0.0),\n",
    "        'sigma': bhnerf.observation.padded_obs(obs, 'sigma', fill_value=np.inf),\n",
    "        'ft_mats': np.nan_to_num(np.stack([ftmatrix(movie.psize, movie.xdim, movie.ydim, uv_t, pulse=movie.pulse) for uv_t in uv]), 0.0)\n",
    "    }"
   ]
  },
  {
   "cell_type": "code",
   "execution_count": 7,
   "id": "10897af1-29ef-48ab-824e-584bb01320ee",
   "metadata": {},
   "outputs": [
    {
     "data": {
      "application/vnd.jupyter.widget-view+json": {
       "model_id": "888b7389f9ab4d108aa2567414546439",
       "version_major": 2,
       "version_minor": 0
      },
      "text/plain": [
       "Canvas(toolbar=Toolbar(toolitems=[('Home', 'Reset original view', 'home', 'home'), ('Back', 'Back to previous …"
      ]
     },
     "metadata": {},
     "output_type": "display_data"
    }
   ],
   "source": [
    "\"\"\"\n",
    "Visualize visibility measurements\n",
    "\"\"\"\n",
    "%matplotlib widget\n",
    "fig, ax = plt.subplots(1, 2, figsize=(7,3.5))\n",
    "for i, (array, data) in enumerate(visibilities.items()):\n",
    "    ax[i].set_title(array)\n",
    "    data['obs'].plotall('uvdist', 'amp', axis=ax[i])\n",
    "plt.tight_layout()"
   ]
  },
  {
   "cell_type": "code",
   "execution_count": 8,
   "id": "863f3d18-697a-4349-9cb6-6467630522b4",
   "metadata": {},
   "outputs": [],
   "source": [
    "\"\"\"\n",
    "Define the loss functions and training steps for image plane and visibility optimization\n",
    "\"\"\"\n",
    "def loss_fn_image(params, x, y, z, t, d, target):\n",
    "    images = measurement_op(params, x, y, z, t, d)\n",
    "    loss = jnp.mean(jnp.abs(images - target)**2)\n",
    "    return loss, [images]\n",
    "\n",
    "def loss_fn_eht(params, x, y, z, t, d, target, sigma, dtft_matrices):\n",
    "    visibilities, images = measurement_op(params, x, y, z, t, d, dtft_matrices)\n",
    "    loss = jnp.mean((jnp.abs(visibilities - target)/sigma)**2)\n",
    "    return loss, [visibilities, images]\n",
    "\n",
    "@functools.partial(jit, static_argnums=(0))\n",
    "def train_step_image(loss_fn, state, x, y, z, t, d, target):\n",
    "    (loss, [images]), grads = jax.value_and_grad(loss_fn, argnums=(0), has_aux=True)(state.params, x, y, z, t, d,  target)\n",
    "    grads = jax.lax.pmean(grads, axis_name='batch')\n",
    "    state = state.apply_gradients(grads=grads)\n",
    "    return loss, state, images\n",
    "\n",
    "@functools.partial(jit, static_argnums=(0))\n",
    "def train_step_eht(loss_fn, state, x, y, z, t, d, target, sigma, dtft_matrices):\n",
    "    (loss, [visibilities, images]), grads = jax.value_and_grad(loss_fn, argnums=(0), has_aux=True)(\n",
    "        state.params, x, y, z, t, d,  target, sigma, dtft_matrices)\n",
    "    grads = jax.lax.pmean(grads, axis_name='batch')\n",
    "    state = state.apply_gradients(grads=grads)\n",
    "    return loss, state, visibilities, images"
   ]
  },
  {
   "cell_type": "code",
   "execution_count": 14,
   "id": "0e316bf3-f41a-4c3b-bc03-62e29df37942",
   "metadata": {},
   "outputs": [
    {
     "name": "stderr",
     "output_type": "stream",
     "text": [
      "/scratch/imaging/projects/bh_nerf/envs/jax/lib/python3.9/site-packages/jax/lib/xla_bridge.py:390: UserWarning: jax.host_count has been renamed to jax.process_count. This alias will eventually be removed; please update your code.\n",
      "  warnings.warn(\n",
      "/scratch/imaging/projects/bh_nerf/envs/jax/lib/python3.9/site-packages/jax/lib/xla_bridge.py:377: UserWarning: jax.host_id has been renamed to jax.process_index. This alias will eventually be removed; please update your code.\n",
      "  warnings.warn(\n"
     ]
    },
    {
     "data": {
      "application/vnd.jupyter.widget-view+json": {
       "model_id": "0b660df9ceaa4b6cb077af8a06d6037e",
       "version_major": 2,
       "version_minor": 0
      },
      "text/plain": [
       "iteration:   0%|          | 0/5000 [00:00<?, ?it/s]"
      ]
     },
     "metadata": {},
     "output_type": "display_data"
    },
    {
     "name": "stderr",
     "output_type": "stream",
     "text": [
      "/scratch/imaging/projects/bh_nerf/envs/jax/lib/python3.9/site-packages/jax/lib/xla_bridge.py:390: UserWarning: jax.host_count has been renamed to jax.process_count. This alias will eventually be removed; please update your code.\n",
      "  warnings.warn(\n",
      "/scratch/imaging/projects/bh_nerf/envs/jax/lib/python3.9/site-packages/jax/lib/xla_bridge.py:377: UserWarning: jax.host_id has been renamed to jax.process_index. This alias will eventually be removed; please update your code.\n",
      "  warnings.warn(\n"
     ]
    },
    {
     "data": {
      "application/vnd.jupyter.widget-view+json": {
       "model_id": "d83b79672bc04b14a3468b050e6c9a25",
       "version_major": 2,
       "version_minor": 0
      },
      "text/plain": [
       "iteration:   0%|          | 0/5000 [00:00<?, ?it/s]"
      ]
     },
     "metadata": {},
     "output_type": "display_data"
    },
    {
     "name": "stderr",
     "output_type": "stream",
     "text": [
      "/scratch/imaging/projects/bh_nerf/envs/jax/lib/python3.9/site-packages/jax/lib/xla_bridge.py:390: UserWarning: jax.host_count has been renamed to jax.process_count. This alias will eventually be removed; please update your code.\n",
      "  warnings.warn(\n",
      "/scratch/imaging/projects/bh_nerf/envs/jax/lib/python3.9/site-packages/jax/lib/xla_bridge.py:377: UserWarning: jax.host_id has been renamed to jax.process_index. This alias will eventually be removed; please update your code.\n",
      "  warnings.warn(\n"
     ]
    },
    {
     "data": {
      "application/vnd.jupyter.widget-view+json": {
       "model_id": "6d3a609af5b243d9a6a3a3197ff8be22",
       "version_major": 2,
       "version_minor": 0
      },
      "text/plain": [
       "iteration:   0%|          | 0/5000 [00:00<?, ?it/s]"
      ]
     },
     "metadata": {},
     "output_type": "display_data"
    },
    {
     "name": "stderr",
     "output_type": "stream",
     "text": [
      "/scratch/imaging/projects/bh_nerf/envs/jax/lib/python3.9/site-packages/jax/lib/xla_bridge.py:390: UserWarning: jax.host_count has been renamed to jax.process_count. This alias will eventually be removed; please update your code.\n",
      "  warnings.warn(\n",
      "/scratch/imaging/projects/bh_nerf/envs/jax/lib/python3.9/site-packages/jax/lib/xla_bridge.py:377: UserWarning: jax.host_id has been renamed to jax.process_index. This alias will eventually be removed; please update your code.\n",
      "  warnings.warn(\n"
     ]
    },
    {
     "data": {
      "application/vnd.jupyter.widget-view+json": {
       "model_id": "94c79dd5451a4a63b57aae1d9bcf4cfa",
       "version_major": 2,
       "version_minor": 0
      },
      "text/plain": [
       "iteration:   0%|          | 0/5000 [00:00<?, ?it/s]"
      ]
     },
     "metadata": {},
     "output_type": "display_data"
    },
    {
     "name": "stderr",
     "output_type": "stream",
     "text": [
      "/scratch/imaging/projects/bh_nerf/envs/jax/lib/python3.9/site-packages/jax/lib/xla_bridge.py:390: UserWarning: jax.host_count has been renamed to jax.process_count. This alias will eventually be removed; please update your code.\n",
      "  warnings.warn(\n",
      "/scratch/imaging/projects/bh_nerf/envs/jax/lib/python3.9/site-packages/jax/lib/xla_bridge.py:377: UserWarning: jax.host_id has been renamed to jax.process_index. This alias will eventually be removed; please update your code.\n",
      "  warnings.warn(\n"
     ]
    },
    {
     "data": {
      "application/vnd.jupyter.widget-view+json": {
       "model_id": "3892eaf0fb2e41e79919a278f5a10d1b",
       "version_major": 2,
       "version_minor": 0
      },
      "text/plain": [
       "iteration:   0%|          | 0/5000 [00:00<?, ?it/s]"
      ]
     },
     "metadata": {},
     "output_type": "display_data"
    },
    {
     "name": "stderr",
     "output_type": "stream",
     "text": [
      "/scratch/imaging/projects/bh_nerf/envs/jax/lib/python3.9/site-packages/jax/lib/xla_bridge.py:390: UserWarning: jax.host_count has been renamed to jax.process_count. This alias will eventually be removed; please update your code.\n",
      "  warnings.warn(\n",
      "/scratch/imaging/projects/bh_nerf/envs/jax/lib/python3.9/site-packages/jax/lib/xla_bridge.py:377: UserWarning: jax.host_id has been renamed to jax.process_index. This alias will eventually be removed; please update your code.\n",
      "  warnings.warn(\n"
     ]
    },
    {
     "data": {
      "application/vnd.jupyter.widget-view+json": {
       "model_id": "25b2680cad75480a80dd77b284772ff5",
       "version_major": 2,
       "version_minor": 0
      },
      "text/plain": [
       "iteration:   0%|          | 0/5000 [00:00<?, ?it/s]"
      ]
     },
     "metadata": {},
     "output_type": "display_data"
    }
   ],
   "source": [
    "\"\"\"\n",
    "Define training parameters and run the training loop.\n",
    "\"\"\"\n",
    "log_period = 100       # Logging frequency to TensorBoard\n",
    "save_period = 1000     # Saving checkpoints \n",
    "\n",
    "runname = 'sparsity'\n",
    "estimate_axis_flag = [False, True]\n",
    "measurement_types = ['full_image', 'ngEHT', 'EHT2017']\n",
    "\n",
    "current_time = datetime.now().strftime('%Y-%m-%d.%H:%M:%S')\n",
    "\n",
    "hparams = {\n",
    "    'num_iters': 5000,\n",
    "    'lr_init': 1e-4,\n",
    "    'lr_final': 1e-6,\n",
    "    'batchsize': 6,\n",
    "}\n",
    "orbit_args = {\n",
    "    'tstart': obs_times[0], \n",
    "    'tstop': obs_times[-1],\n",
    "    'velocity': velocity_field \n",
    "}\n",
    "\n",
    "# Define supervision coordinates\n",
    "t, x, y, z, d = bhnerf.network.get_input_coords(sensor, t_array=obs_times, batch='t').values()\n",
    "\n",
    "# Grid for visualization (no interpolation factor is added for easy comparison) \n",
    "x_res_vis, y_res_vis, z_res_vis = spatial_res\n",
    "t_vis, x_vis, y_vis, z_vis  = np.meshgrid(orbit_args['tstart'], \n",
    "                                          np.linspace(emission.x[0], emission.x[-1], x_res_vis),\n",
    "                                          np.linspace(emission.y[0], emission.y[-1], y_res_vis),\n",
    "                                          np.linspace(emission.z[0], emission.z[-1], z_res_vis),\n",
    "                                          indexing='ij')\n",
    "\n",
    "for estimate_axis in estimate_axis_flag:\n",
    "\n",
    "    if estimate_axis:\n",
    "        axis_str = 'estimated_axis'\n",
    "        hparams['lr_axis'] = 1e-2\n",
    "        orbit_args['axis_init'] = jnp.array([-0.4556, 0.5549, 0.6961])\n",
    "    else:\n",
    "        axis_str = 'true_axis'\n",
    "        hparams['lr_axis'] = 0.0\n",
    "        orbit_args['axis_init'] = rot_axis\n",
    "    \n",
    "    # Measurement model and loss/training setup\n",
    "    predictor = bhnerf.network.NeRF3D_RotationAxis()\n",
    "    emission_op = bhnerf.network.EmissionOperator(predictor, orbit_args)\n",
    "    params = predictor.init(jax.random.PRNGKey(1), x[:1, ...], y[:1, ...], z[:1, ...], t[:1, ...], **orbit_args)['params']\n",
    "    \n",
    "    # Split learning rate for axis / network parameters\n",
    "    tx = optax.chain(optax.masked(optax.adam(learning_rate=hparams['lr_axis']), mask=flattened_traversal(lambda path, _: path[-1] == 'axis')),\n",
    "                     optax.masked(optax.adam(learning_rate=optax.polynomial_schedule(hparams['lr_init'], hparams['lr_final'], 1, hparams['num_iters'])),\n",
    "                                  mask=flattened_traversal(lambda path, _: path[-1] != 'axis')))\n",
    "    \n",
    "    for measurement_type in measurement_types:\n",
    "        if measurement_type == 'full_image':\n",
    "            emission_true = emission\n",
    "            measurement_op = bhnerf.network.ImagePlaneOperator(emission_op)\n",
    "            train_pstep = jax.pmap(train_step_image, axis_name='batch', in_axes=(None, 0, 0, 0, 0, 0, 0, 0), static_broadcasted_argnums=(0))\n",
    "        elif measurement_type in visibilities.keys():\n",
    "            obs, measurements, sigma, ft_mats = visibilities[measurement_type].values()\n",
    "            emission_true = emission_normalized\n",
    "            measurement_op = bhnerf.network.VisibilityOperator(emission_op)\n",
    "            train_pstep = jax.pmap(train_step_eht, axis_name='batch', in_axes=(None, 0, 0, 0, 0, 0, 0, 0, 0, 0), static_broadcasted_argnums=(0))\n",
    "        else:\n",
    "            raise AttributeError('Undefined measurement type: {}'.format(measurement_type))\n",
    "    \n",
    "        state = train_state.TrainState.create(apply_fn=predictor.apply, params=params.unfreeze(), tx=tx)  # TODO(pratul): this unfreeze feels sketchy\n",
    "        full_runname = runname + '/{}.nspots{}.{}.{}'.format(measurement_type, len(rot_angles), axis_str, current_time)\n",
    "        checkpoint_dir = 'checkpoints/{}'.format(full_runname)\n",
    "        logdir = 'runs/{}'.format(full_runname)\n",
    "\n",
    "        # Restore saved checkpoint\n",
    "        if np.isscalar(save_period): state = checkpoints.restore_checkpoint(checkpoint_dir, state)\n",
    "        init_step = 1 + state.step\n",
    "        state = flax.jax_utils.replicate(state)\n",
    "\n",
    "        # Training loop with TensorBoard logging \n",
    "        with SummaryWriter(logdir=logdir) as writer:\n",
    "            writer.add_images('emission/true', bhnerf.utils.intensity_to_nchw(emission_true.isel(t=0)), global_step=0)\n",
    "\n",
    "            for i in tqdm(range(init_step, init_step + hparams['num_iters']), desc='iteration'):\n",
    "                batch_inds = np.random.choice(range(x.shape[0]), hparams['batchsize'], replace=False)\n",
    "                \n",
    "                if measurement_type == 'full_image':\n",
    "                    loss, state, images = train_pstep(\n",
    "                        loss_fn_image, state, shard(x[batch_inds, ...]), shard(y[batch_inds, ...]), shard(z[batch_inds, ...]), \n",
    "                    shard(t[batch_inds, ...]), shard(d[batch_inds, ...]), shard(image_plane[batch_inds, ...])\n",
    "                )\n",
    "                else:\n",
    "                    loss, state, vis, images = train_pstep(\n",
    "                        loss_fn_eht, state, shard(x[batch_inds, ...]), shard(y[batch_inds, ...]), shard(z[batch_inds, ...]), \n",
    "                        shard(t[batch_inds, ...]), shard(d[batch_inds, ...]), shard(measurements[batch_inds, ...]), \n",
    "                        shard(sigma[batch_inds, ...]), shard(ft_mats[batch_inds, ...])\n",
    "                    )\n",
    "\n",
    "\n",
    "                # Log the current state on TensorBoard\n",
    "                writer.add_scalar('log_loss/train', np.log10(np.mean(loss)), global_step=i)\n",
    "                if (i == 1) or (i % log_period) == 0:\n",
    "                    current_state = jax.device_get(flax.jax_utils.unreplicate(state))\n",
    "                    emission_grid = emission_op(current_state.params, x_vis, y_vis, z_vis, t_vis)[0]\n",
    "                    emission_grid = bhnerf.emission.zero_unsupervised_emission(\n",
    "                        emission_grid, x_vis[0], y_vis[0], z_vis[0], sensor.r_min, sensor.r_max)\n",
    "                    rot_axis_estimate = bhnerf.utils.normalize(current_state.params['axis'])\n",
    "                    writer.add_image('image_plane/true', image_plane[batch_inds[0], None, ...], global_step=i)\n",
    "                    writer.add_image('image_plane/estimate', images[0, 0, None, :, :], global_step=i)\n",
    "                    writer.add_images('emission/estimate', bhnerf.utils.intensity_to_nchw(emission_grid), global_step=i)\n",
    "                    writer.add_scalar('emission/mse', bhnerf.utils.mse(emission_true.data[0], emission_grid), global_step=i)\n",
    "                    writer.add_scalar('emission/psnr', bhnerf.utils.psnr(emission_true.data[0], emission_grid), global_step=i)\n",
    "                    writer.add_scalar('rotation/dot_product', np.dot(rot_axis, rot_axis_estimate), global_step=i)\n",
    "\n",
    "                # Save checkpoints occasionally\n",
    "                if np.isscalar(save_period) and ((i % save_period == 0) or (i == hparams['num_iters'])):\n",
    "                    if (save_period % log_period): current_state = jax.device_get(flax.jax_utils.unreplicate(state))\n",
    "                    checkpoints.save_checkpoint(checkpoint_dir, current_state, int(i), keep=5)"
   ]
  },
  {
   "cell_type": "code",
   "execution_count": 63,
   "id": "44018122-d895-4e36-a2cb-d7530cf25ed5",
   "metadata": {},
   "outputs": [],
   "source": [
    "def train_network(sensor, emission_true, emission_test, velocity_field, obs_times, hparams, runname, \n",
    "                  log_period=100, save_period=10000, x_res_vis=64, y_res_vis=64, z_res_vis=64):\n",
    "    \n",
    "    bg_image = jnp.array(riaf_emission.imarr(), dtype=np.float32)\n",
    "    tstart = obs_times[0]\n",
    "    tstop = obs_times[-1]\n",
    "\n",
    "    # Training / testing coordinates\n",
    "    train_coords = network_utils.get_input_coords(sensor, t_array=obs_times, batch='t')\n",
    "    t, x, y, z, d = train_coords.values()\n",
    "    train_vis = image_plane\n",
    "\n",
    "    test_coords = network_utils.get_input_coords(sensor, t_array=obs_times, batch='t')\n",
    "    test_vis = image_plane_test\n",
    "    t_test, x_test, y_test, z_test, d_test = test_coords.values()\n",
    "\n",
    "    # Emission visualization inputs\n",
    "    t_res_vis = hparams['batchsize']\n",
    "    emission_extent = [emission_true.x[0], emission_true.x[-1], emission_true.y[0], emission_true.y[-1], emission_true.z[0], emission_true.z[-1]]\n",
    "    t_vis, x_vis, y_vis, z_vis  = np.meshgrid(np.full(t_res_vis, fill_value=tstart), \n",
    "                                              np.linspace(emission_extent[0], emission_extent[1], x_res_vis),\n",
    "                                              np.linspace(emission_extent[2], emission_extent[3], y_res_vis),\n",
    "                                              np.linspace(emission_extent[4], emission_extent[5], x_res_vis),\n",
    "                                              indexing='ij')\n",
    "\n",
    "    d_vis = np.ones_like(y_vis)                  # meaningless placeholder for emission visualization\n",
    "    ft_mats = np.zeros((nt, 1, 1))               # meaningless placeholder\n",
    "    sigma = np.zeros((nt, 1))                    # meaningless placeholder\n",
    "    sigma_test = np.zeros((nt_test, 1))          # meaningless placeholder \n",
    "    r_min = hparams['r_min']                     # Zero network output where there is no supervision (within black-hole radius)  \n",
    "    r_max = hparams['r_max']\n",
    "    \n",
    "    # Model setup and initialization\n",
    "    rng = jax.random.PRNGKey(1)\n",
    "    predictor = network_utils.PREDICT_EMISSION_AND_MLP_ROTAXIS_3D_FROM_IMAGE_W_BG(\n",
    "        posenc_deg=hparams['posenc_deg'],\n",
    "        axis_net_depth=hparams['axis_net_depth']\n",
    "    )\n",
    "    params = predictor.init(rng, x[:1, ...], y[:1, ...], z[:1, ...], t[:1, ...], velocity_field, tstart, tstop)['params']\n",
    "    tx = optax.adam(learning_rate=optax.polynomial_schedule(hparams['lr_init'], hparams['lr_final'], 1, hparams['num_iters']))\n",
    "    state = train_state.TrainState.create(apply_fn=predictor.apply, params=params.unfreeze(), tx=tx)  # TODO(pratul): this unfreeze feels sketchy\n",
    "    \n",
    "    if np.isscalar(save_period):\n",
    "        checkpoint_dir = 'checkpoints/{}'.format(runname)\n",
    "        state = checkpoints.restore_checkpoint(checkpoint_dir, state)\n",
    "    init_step = 1 + state.step\n",
    "    train_pstep = jax.pmap(predictor.train_step, axis_name='batch', in_axes=(None, None, 0, 0, 0, 0, 0, 0, None, None, 0, 0, None, None, 0, 0), static_broadcasted_argnums=(0))\n",
    "    eval_pstep = jax.pmap(predictor.eval_step, axis_name='batch', in_axes=(None, None, 0, 0, 0, 0, 0, 0, None, None, 0, 0, None, None, 0, 0), static_broadcasted_argnums=(0))\n",
    "    rand_key = jax.random.split(rng, jax.local_device_count())\n",
    "    state = flax.jax_utils.replicate(state)\n",
    "\n",
    "    # TensorBoard logging\n",
    "    time = datetime.now().strftime('%Y-%m-%d.%H:%M:%S')\n",
    "    logdir = 'runs/{}.{}'.format(runname, time)\n",
    "       \n",
    "    with SummaryWriter(logdir=logdir) as writer:\n",
    "\n",
    "        # Log ground-truth data   \n",
    "        %matplotlib inline\n",
    "        images_true = intensity_to_nchw(emission_true.isel(t=0))\n",
    "\n",
    "        for i in tqdm(range(init_step, init_step+hparams['num_iters']), desc='iteration'):\n",
    "\n",
    "            # Testing and Visualization\n",
    "            if (i == 1) or (i % log_period) == 0:\n",
    "                batch_inds = np.random.choice(range(x.shape[0]), hparams['batchsize'], replace=False)\n",
    "\n",
    "                loss_test, _, _, rendering_test, _, _ = eval_pstep(\n",
    "                    velocity_field, i, shard(x[batch_inds, ...]), shard(y[batch_inds, ...]), shard(z[batch_inds, ...]), \n",
    "                    shard(d[batch_inds, ...]), shard(t[batch_inds, ...]), shard(ft_mats[batch_inds, ...]),\n",
    "                    tstart, tstop, shard(test_vis[batch_inds,...]),  shard(sigma_test[batch_inds, ...]), \n",
    "                    bg_image, window, state, rand_key\n",
    "                )\n",
    "                writer.add_scalar('log loss/test', np.log10(np.mean(loss_test)), global_step=i)\n",
    "                \n",
    "                # Log prediction and estimate\n",
    "                _, _, emission_vis, _, axis_estimation, _ = eval_pstep(\n",
    "                    velocity_field, i, shard(x_vis), shard(y_vis), shard(z_vis), shard(d_vis), shard(t_vis),\n",
    "                    shard(ft_mats[batch_inds, ...]), tstart, tstop, shard(test_vis[batch_inds,...]),\n",
    "                    shard(sigma_test[batch_inds, ...]), bg_image, window, state, rand_key\n",
    "                )\n",
    "                axis_estimation = axis_estimation[0] / np.sqrt(np.dot(axis_estimation[0], axis_estimation[0]))\n",
    "                emission_vis = np.reshape(emission_vis[0,0], [x_res_vis, y_res_vis, z_res_vis])\n",
    "                emission_vis = jnp.where(x_vis**2 + y_vis**2 + z_vis**2 < r_min**2, jnp.zeros_like(emission_vis), emission_vis)\n",
    "                emission_vis = jnp.where(x_vis**2 + y_vis**2 + z_vis**2 > r_max**2, jnp.zeros_like(emission_vis), emission_vis)\n",
    "                \n",
    "                \n",
    "                # Log emission and rotation axis\n",
    "                images = intensity_to_nchw(emission_vis[0])\n",
    "                writer.add_images('emission/estimate', images, global_step=i)\n",
    "                writer.add_images('emission/true', images_true, global_step=i)\n",
    "                emission_mse = float(np.mean((emission.data[0] - emission_vis)**2))\n",
    "                emission_psnr =  float(10.0 * np.log10(np.max(emission.data[0])**2 / emission_mse))\n",
    "                writer.add_scalar('emission_mse', emission_mse, global_step=i)\n",
    "                writer.add_scalar('emission_psnr', emission_psnr, global_step=i)\n",
    "                writer.add_image('input_bg', bg_image[None, ...], global_step=i)\n",
    "                writer.add_image('rendering/test', rendering_test[0, 0, None, :, :], global_step=i)\n",
    "                writer.add_image('rendering/true', image_plane_test[batch_inds[0], None, ...], global_step=i)\n",
    "                writer.add_image('rendering/diff', np.abs(image_plane_test[batch_inds[0], None, ...] - rendering_test[0, 0, None, :, :]), global_step=i)\n",
    "                writer.add_scalar('rotation/dot_product', np.dot(rot_axis, axis_estimation), global_step=i)\n",
    "                writer.add_scalar('rotation/x', axis_estimation[0], global_step=i)\n",
    "                writer.add_scalar('rotation/y', axis_estimation[1], global_step=i)\n",
    "                writer.add_scalar('rotation/z', axis_estimation[2], global_step=i)\n",
    "                \n",
    "            # Training\n",
    "            batch_inds = np.random.choice(range(x.shape[0]), hparams['batchsize'], replace=False)\n",
    "            loss_train, state, _, _, _, rand_key = train_pstep(\n",
    "                velocity_field, i, shard(x[batch_inds, ...]), shard(y[batch_inds, ...]), shard(z[batch_inds, ...]), \n",
    "                shard(d[batch_inds, ...]), shard(t[batch_inds, ...]), shard(ft_mats[batch_inds, ...]), tstart, tstop,\n",
    "                shard(train_vis[batch_inds, ...]), shard(sigma[batch_inds, ...]), bg_image, window, state, rand_key\n",
    "            )\n",
    "            writer.add_scalar('log loss/train', np.log10(np.mean(loss_train)), global_step=i)\n",
    "    \n",
    "            \n",
    "            if np.isscalar(save_period) and ((i % save_period == 0) or (i == hparams['num_iters'])):\n",
    "                state_to_save = jax.device_get(jax.tree_map(lambda x: x[0], state))\n",
    "                checkpoints.save_checkpoint(checkpoint_dir, state_to_save, int(i), keep=5)\n",
    "            \n",
    "    return state, emission_vis, axis_estimation"
   ]
  },
  {
   "cell_type": "code",
   "execution_count": 48,
   "id": "320158fe-c991-418f-9f28-c82f5f2bc6d5",
   "metadata": {},
   "outputs": [
    {
     "name": "stderr",
     "output_type": "stream",
     "text": [
      "/scratch/imaging/projects/bh_nerf/envs/jax/lib/python3.9/site-packages/jax/lib/xla_bridge.py:390: UserWarning: jax.host_count has been renamed to jax.process_count. This alias will eventually be removed; please update your code.\n",
      "  warnings.warn(\n",
      "/scratch/imaging/projects/bh_nerf/envs/jax/lib/python3.9/site-packages/jax/lib/xla_bridge.py:377: UserWarning: jax.host_id has been renamed to jax.process_index. This alias will eventually be removed; please update your code.\n",
      "  warnings.warn(\n"
     ]
    },
    {
     "data": {
      "application/vnd.jupyter.widget-view+json": {
       "model_id": "a04a325fc7224358814fd99f5a65dd69",
       "version_major": 2,
       "version_minor": 0
      },
      "text/plain": [
       "iteration:   0%|          | 0/5000 [00:00<?, ?it/s]"
      ]
     },
     "metadata": {},
     "output_type": "display_data"
    }
   ],
   "source": [
    "# Training params\n",
    "hparams = {\n",
    "    'num_iters': 5000,\n",
    "    'lr_init': 1e-4,\n",
    "    'lr_final': 1e-6,\n",
    "    'posenc_deg': 3,\n",
    "    'axis_net_depth': 3,\n",
    "    'batchsize': 8,\n",
    "    'r_min': r_min,\n",
    "    'r_max': r_max,\n",
    "}\n",
    "\n",
    "obs_times = np.linspace(0.0, 1.0, nt)\n",
    "runname = 'eht_arrays_40min/{}_nspots{}_phi{:2.2f}_theta{:2.2f}_riaf_flux{:2.1f}.norm_factor{:2.3f}'.format(\n",
    "    'full_image', nspots, phi, theta, riaf_flux, normalization_factor)\n",
    "\n",
    "state, emission_vis, rot_axis_est = train_network(\n",
    "    sensor, emission, emission_test, velocity_field, obs_times, hparams, \n",
    "    runname=runname, log_period=100, save_period=1000, x_res_vis=64, y_res_vis=64, z_res_vis=64\n",
    ")"
   ]
  },
  {
   "cell_type": "code",
   "execution_count": 124,
   "id": "332f5929-7fef-4ce1-9df1-2615c1f01dd9",
   "metadata": {},
   "outputs": [],
   "source": [
    "rng = jax.random.PRNGKey(1)\n",
    "predictor = network_utils.PREDICT_EMISSION_AND_MLP_ROTAXIS_3D_FROM_IMAGE_W_BG()\n",
    "params = predictor.init(rng, x_vis[:1, ...], y_vis[:1, ...], z_vis[:1, ...], jnp.ones_like(x_vis)[:1, ...], velocity_field, 0.0, 1.0)['params']\n",
    "tx = optax.adam(learning_rate=optax.polynomial_schedule(1, 1, 1, 1))\n",
    "state = train_state.TrainState.create(apply_fn=predictor.apply, params=params.unfreeze(), tx=tx)  \n",
    "\n",
    "rng = jax.random.PRNGKey(1)\n",
    "rand_key = jax.random.split(rng, jax.local_device_count())\n",
    "eval_pstep = jax.pmap(predictor.eval_step, axis_name='batch', in_axes=(None, None, 0, 0, 0, 0, 0, 0, None, None, 0, 0, None, None, 0, 0), static_broadcasted_argnums=(0))\n",
    "\n",
    "ft_mats = np.zeros((nt, 1, 1))               # meaningless placeholder\n",
    "sigma = np.zeros((nt, 1))                    # meaningless placeholder\n",
    "sigma_test = np.zeros((nt_test, 1))          # meaningless placeholder \n",
    "batch_inds = 0\n",
    "tstart = 0.0\n",
    "tstop = 1.0\n"
   ]
  },
  {
   "cell_type": "code",
   "execution_count": 128,
   "id": "910d3b58-9064-463d-ae15-a111dba7b93b",
   "metadata": {},
   "outputs": [
    {
     "name": "stdout",
     "output_type": "stream",
     "text": [
      "loading checkpoint...\n",
      "loading time [secs]: 27.596198320388794\n",
      "rendering cube visualization...\n",
      "rendering time [secs]: 386.38378977775574\n"
     ]
    }
   ],
   "source": [
    "\n",
    "# anti-aliasing blurring\n",
    "x = jnp.linspace(-sensor.num_alpha/2.0, sensor.num_alpha/2.0, x_res_vis)\n",
    "window = jsp.stats.norm.pdf(x) * jsp.stats.norm.pdf(x[:, None])\n",
    "window = window / window.sum()\n",
    "bg_image = np.ones((x_res_vis, y_res_vis))\n",
    "\n",
    "poses = generate_elevated_orbit(25., 12.5, n_frames=60)\n",
    "# poses = generate_elevated_orbit(25., 22.5, n_frames=60)\n",
    "\n",
    "height = y_res_vis\n",
    "width = x_res_vis\n",
    "focal = .5 * width / jnp.tan(.5 * 0.7)\n",
    "rays_o, rays_d = generate_rays(poses, width, height, focal)\n",
    "pts = sample_along_rays(rays_o, rays_d, 15., 35., z_res_vis)\n",
    "\n",
    "i = 5\n",
    "x_vis = pts[i, :, :, :, 0]\n",
    "y_vis = pts[i, :, :, :, 1]\n",
    "z_vis = pts[i, :, :, :, 2]\n",
    "d_vis = jnp.linalg.norm(jnp.concatenate([jnp.diff(pts[i:i+1, ...], axis=3),\n",
    "                                         jnp.zeros_like(pts[i:i+1, :, :, -1:])], \n",
    "                                         axis=3), axis=-1)\n",
    "\n",
    "images_gt = []\n",
    "vmax = 0.01\n",
    "\n",
    "# unknown rotation axis\n",
    "checkpoint_paths = [\n",
    "    'checkpoints/eht_arrays/full_image_nspots4.00_phi0.63_theta2.62_riaf.true_axis/checkpoint_5000',\n",
    "]\n",
    "\n",
    "rendering = []\n",
    "for checkpoint_path in checkpoint_paths:\n",
    "    print('loading checkpoint...')\n",
    "    t0 = time.time()\n",
    "    state = checkpoints.restore_checkpoint(checkpoint_path, state)\n",
    "    state = flax.jax_utils.replicate(state)\n",
    "    \n",
    "    images = []\n",
    "    for t in [50]:\n",
    "        t_vis = (t/nt) * jnp.ones_like(x_vis)\n",
    "        _, _, emission_vis, _, axis_estimation, _ = eval_pstep(\n",
    "            velocity_field, i, shard(x_vis), shard(y_vis), shard(z_vis), shard(d_vis), shard(t_vis),\n",
    "            shard(ft_mats[batch_inds, ...]), tstart, tstop, shard(x_vis[batch_inds,...]),\n",
    "            shard(sigma_test[batch_inds, ...]), bg_image, window, state, rand_key\n",
    "        )\n",
    "        axis_estimation = axis_estimation[0] / np.sqrt(np.dot(axis_estimation[0], axis_estimation[0]))\n",
    "        emission_vis = np.reshape(emission_vis[0], [x_res_vis, y_res_vis, z_res_vis])\n",
    "        emission_vis = jnp.where(x_vis**2 + y_vis**2 + z_vis**2 < r_min**2, jnp.zeros_like(emission_vis), emission_vis)\n",
    "        emission_vis = jnp.where(x_vis**2 + y_vis**2 + z_vis**2 > r_max**2, jnp.zeros_like(emission_vis), emission_vis)\n",
    "        emission_vis = emission_vis / vmax\n",
    "        print('loading time [secs]: {}'.format(time.time() - t0))\n",
    "        print('rendering cube visualization...')\n",
    "        t0 = time.time()\n",
    "        emission_vis_cube = draw_cube(emission_vis, jnp.stack([x_vis, y_vis, z_vis], axis=-1))\n",
    "        image, _ = alpha_composite(emission_vis_cube, d_vis, pts[i, ...])\n",
    "        print('rendering time [secs]: {}'.format(time.time() - t0))\n",
    "        image = jnp.clip(image, 0.0, 1.0)\n",
    "        images.append(image)\n",
    "    rendering.append(np.array(images))"
   ]
  },
  {
   "cell_type": "code",
   "execution_count": 130,
   "id": "96c853d2-9739-4cf5-8ab4-f92e71d32db0",
   "metadata": {},
   "outputs": [
    {
     "data": {
      "application/vnd.jupyter.widget-view+json": {
       "model_id": "40501800c7564ce28bc4e9da9e13fa1a",
       "version_major": 2,
       "version_minor": 0
      },
      "text/plain": [
       "Canvas(toolbar=Toolbar(toolitems=[('Home', 'Reset original view', 'home', 'home'), ('Back', 'Back to previous …"
      ]
     },
     "metadata": {},
     "output_type": "display_data"
    }
   ],
   "source": [
    "%matplotlib widget\n",
    "plt.figure()\n",
    "plt.imshow(image)\n",
    "plt.axis('off')\n",
    "plt.tight_layout()\n",
    "plt.savefig('figures/increasing_meas_sparsity1_t50.pdf', transparent=False, bbox_inches=0)"
   ]
  },
  {
   "cell_type": "code",
   "execution_count": 39,
   "id": "11dde485-dd3c-47b6-97c4-c2da6496b610",
   "metadata": {},
   "outputs": [
    {
     "name": "stdout",
     "output_type": "stream",
     "text": [
      "loading checkpoint...\n"
     ]
    },
    {
     "name": "stderr",
     "output_type": "stream",
     "text": [
      "/scratch/imaging/projects/bh_nerf/envs/jax/lib/python3.9/site-packages/jax/lib/xla_bridge.py:390: UserWarning: jax.host_count has been renamed to jax.process_count. This alias will eventually be removed; please update your code.\n",
      "  warnings.warn(\n",
      "/scratch/imaging/projects/bh_nerf/envs/jax/lib/python3.9/site-packages/jax/lib/xla_bridge.py:377: UserWarning: jax.host_id has been renamed to jax.process_index. This alias will eventually be removed; please update your code.\n",
      "  warnings.warn(\n"
     ]
    },
    {
     "name": "stdout",
     "output_type": "stream",
     "text": [
      "loading time [secs]: 13.843168258666992\n",
      "rendering cube visualization...\n",
      "rendering time [secs]: 254.84529948234558\n",
      "loading time [secs]: 266.7535593509674\n",
      "rendering cube visualization...\n",
      "rendering time [secs]: 254.46521711349487\n",
      "loading checkpoint...\n",
      "loading time [secs]: 13.161495685577393\n",
      "rendering cube visualization...\n",
      "rendering time [secs]: 257.35203075408936\n",
      "loading time [secs]: 269.76148200035095\n",
      "rendering cube visualization...\n",
      "rendering time [secs]: 258.206862449646\n",
      "loading checkpoint...\n",
      "loading time [secs]: 13.281271934509277\n",
      "rendering cube visualization...\n",
      "rendering time [secs]: 256.8532314300537\n",
      "loading time [secs]: 269.88253831863403\n",
      "rendering cube visualization...\n",
      "rendering time [secs]: 256.3417339324951\n",
      "loading checkpoint...\n",
      "loading time [secs]: 13.229191541671753\n",
      "rendering cube visualization...\n",
      "rendering time [secs]: 255.95570492744446\n",
      "loading time [secs]: 267.8052384853363\n",
      "rendering cube visualization...\n",
      "rendering time [secs]: 253.07994198799133\n",
      "loading checkpoint...\n",
      "loading time [secs]: 12.948378324508667\n",
      "rendering cube visualization...\n",
      "rendering time [secs]: 254.92966294288635\n",
      "loading time [secs]: 266.8756787776947\n",
      "rendering cube visualization...\n",
      "rendering time [secs]: 254.37806034088135\n",
      "loading checkpoint...\n",
      "loading time [secs]: 13.352341651916504\n",
      "rendering cube visualization...\n",
      "rendering time [secs]: 254.65684485435486\n",
      "loading time [secs]: 266.51145815849304\n",
      "rendering cube visualization...\n",
      "rendering time [secs]: 254.24310278892517\n"
     ]
    }
   ],
   "source": [
    "# unknown rotation axis\n",
    "checkpoint_paths = [\n",
    "    'checkpoints/eht_arrays/full_image_nspots5_phi0.00_theta1.05_riaf.blurred/checkpoint_5000',\n",
    "    'checkpoints/eht_arrays/ngEHT_nspots5_phi0.00_theta1.05_riaf/checkpoint_5000',\n",
    "    'checkpoints/eht_arrays/EHT2017_nspots5_phi0.00_theta1.05_riaf/checkpoint_5000',\n",
    "    'checkpoints/eht_arrays/full_image_nspots5_phi0.00_theta1.05_riaf.true_axis/checkpoint_5000',\n",
    "    'checkpoints/eht_arrays/ngEHT_nspots5_phi0.00_theta1.05_riaf.true_axis/checkpoint_5000',\n",
    "    'checkpoints/eht_arrays/EHT2017_nspots5_phi0.00_theta1.05_riaf.true_axis/checkpoint_5000'\n",
    "]\n",
    "\n",
    "rendering = []\n",
    "for checkpoint_path in checkpoint_paths:\n",
    "    print('loading checkpoint...')\n",
    "    t0 = time.time()\n",
    "    state = checkpoints.restore_checkpoint(checkpoint_path, state)\n",
    "    state = flax.jax_utils.replicate(state)\n",
    "    \n",
    "    images = []\n",
    "    for t in [0, 25]:\n",
    "        t_vis = (t/nt) * jnp.ones_like(x_vis)\n",
    "        _, _, emission_vis, _, axis_estimation, _ = eval_pstep(\n",
    "            velocity_field, i, shard(x_vis), shard(y_vis), shard(z_vis), shard(d_vis), shard(t_vis),\n",
    "            shard(ft_mats[batch_inds, ...]), tstart, tstop, shard(x_vis[batch_inds,...]),\n",
    "            shard(sigma_test[batch_inds, ...]), bg_image, window, state, rand_key\n",
    "        )\n",
    "        axis_estimation = axis_estimation[0] / np.sqrt(np.dot(axis_estimation[0], axis_estimation[0]))\n",
    "        emission_vis = np.reshape(emission_vis[0], [x_res_vis, y_res_vis, z_res_vis])\n",
    "        emission_vis = jnp.where(x_vis**2 + y_vis**2 + z_vis**2 < r_min**2, jnp.zeros_like(emission_vis), emission_vis)\n",
    "        emission_vis = jnp.where(x_vis**2 + y_vis**2 + z_vis**2 > r_max**2, jnp.zeros_like(emission_vis), emission_vis)\n",
    "        emission_vis = emission_vis / vmax\n",
    "        print('loading time [secs]: {}'.format(time.time() - t0))\n",
    "        print('rendering cube visualization...')\n",
    "        t0 = time.time()\n",
    "        emission_vis_cube = draw_cube(emission_vis, jnp.stack([x_vis, y_vis, z_vis], axis=-1))\n",
    "        image, _ = alpha_composite(emission_vis_cube, d_vis, pts[i, ...])\n",
    "        print('rendering time [secs]: {}'.format(time.time() - t0))\n",
    "        image = jnp.clip(image, 0.0, 1.0)\n",
    "        images.append(image)\n",
    "    rendering.append(np.array(images))"
   ]
  },
  {
   "cell_type": "code",
   "execution_count": 40,
   "id": "8ceb8c41-0e51-4aa6-a1b3-6c06147f8d6b",
   "metadata": {},
   "outputs": [
    {
     "data": {
      "application/vnd.jupyter.widget-view+json": {
       "model_id": "e5c44a109e3e493aa5b5c02e03c9b881",
       "version_major": 2,
       "version_minor": 0
      },
      "text/plain": [
       "Canvas(toolbar=Toolbar(toolitems=[('Home', 'Reset original view', 'home', 'home'), ('Back', 'Back to previous …"
      ]
     },
     "metadata": {},
     "output_type": "display_data"
    }
   ],
   "source": [
    "%matplotlib widget\n",
    "fig, axes = plt.subplots(2,7, figsize=(18,6))\n",
    "for i in range(2):\n",
    "    axes[i,0].axis('off')\n",
    "    axes[i,0].imshow(images_gt[i])\n",
    "    for j in range(6):\n",
    "        axes[i,j+1].axis('off')\n",
    "        axes[i,j+1].imshow(rendering[j][i])\n",
    "plt.tight_layout()\n",
    "plt.savefig('figures/increasing_meas_sparsity2.pdf', transparent=False, bbox_inches=0)"
   ]
  },
  {
   "cell_type": "code",
   "execution_count": 109,
   "id": "0b0791ea-c493-4da0-a632-c7d51c828904",
   "metadata": {},
   "outputs": [
    {
     "name": "stdout",
     "output_type": "stream",
     "text": [
      "loading checkpoint...\n",
      "loading time [secs]: 13.291164875030518\n",
      "rendering cube visualization...\n",
      "rendering time [secs]: 254.44943928718567\n",
      "loading time [secs]: 266.0489263534546\n",
      "rendering cube visualization...\n",
      "rendering time [secs]: 254.58410501480103\n",
      "loading checkpoint...\n",
      "loading time [secs]: 13.33150839805603\n",
      "rendering cube visualization...\n",
      "rendering time [secs]: 254.0204586982727\n",
      "loading time [secs]: 265.65969920158386\n",
      "rendering cube visualization...\n",
      "rendering time [secs]: 255.10928678512573\n",
      "loading checkpoint...\n",
      "loading time [secs]: 12.956752300262451\n",
      "rendering cube visualization...\n",
      "rendering time [secs]: 255.31900429725647\n",
      "loading time [secs]: 267.2135634422302\n",
      "rendering cube visualization...\n",
      "rendering time [secs]: 254.40299558639526\n"
     ]
    }
   ],
   "source": [
    "# unknown rotation axis\n",
    "checkpoint_paths = [\n",
    "    'checkpoints/eht_arrays/full_image_nspots4.00_phi0.63_theta2.62_riaf.blurred/checkpoint_5000',\n",
    "    'checkpoints/eht_arrays/ngEHT_nspots4.00_phi0.63_theta2.62_riaf/checkpoint_5000',\n",
    "    'checkpoints/eht_arrays/EHT2017_nspots4.00_phi0.63_theta2.62_riaf/checkpoint_5000'\n",
    "]\n",
    "\n",
    "rendering = []\n",
    "for checkpoint_path in checkpoint_paths:\n",
    "    print('loading checkpoint...')\n",
    "    t0 = time.time()\n",
    "    state = checkpoints.restore_checkpoint(checkpoint_path, state)\n",
    "    state = flax.jax_utils.replicate(state)\n",
    "    \n",
    "    images = []\n",
    "    for t in [0, 25]:\n",
    "        t_vis = (t/nt) * jnp.ones_like(x_vis)\n",
    "        _, _, emission_vis, _, axis_estimation, _ = eval_pstep(\n",
    "            velocity_field, i, shard(x_vis), shard(y_vis), shard(z_vis), shard(d_vis), shard(t_vis),\n",
    "            shard(ft_mats[batch_inds, ...]), tstart, tstop, shard(x_vis[batch_inds,...]),\n",
    "            shard(sigma_test[batch_inds, ...]), bg_image, state, rand_key\n",
    "        )\n",
    "        axis_estimation = axis_estimation[0] / np.sqrt(np.dot(axis_estimation[0], axis_estimation[0]))\n",
    "        emission_vis = np.reshape(emission_vis[0], [x_res_vis, y_res_vis, z_res_vis])\n",
    "        emission_vis = jnp.where(x_vis**2 + y_vis**2 + z_vis**2 < r_min**2, jnp.zeros_like(emission_vis), emission_vis)\n",
    "        emission_vis = jnp.where(x_vis**2 + y_vis**2 + z_vis**2 > r_max**2, jnp.zeros_like(emission_vis), emission_vis)\n",
    "        emission_vis = emission_vis / vmax\n",
    "        print('loading time [secs]: {}'.format(time.time() - t0))\n",
    "        print('rendering cube visualization...')\n",
    "        t0 = time.time()\n",
    "        emission_vis_cube = draw_cube(emission_vis, jnp.stack([x_vis, y_vis, z_vis], axis=-1))\n",
    "        image, _ = alpha_composite(emission_vis_cube, d_vis, pts[i, ...])\n",
    "        print('rendering time [secs]: {}'.format(time.time() - t0))\n",
    "        image = jnp.clip(image, 0.0, 1.0)\n",
    "        images.append(image)\n",
    "    rendering.append(np.array(images))"
   ]
  },
  {
   "cell_type": "code",
   "execution_count": 119,
   "id": "93efc8d0-565c-4c64-9317-be8b24b05da7",
   "metadata": {},
   "outputs": [],
   "source": [
    "rng = jax.random.PRNGKey(1)\n",
    "predictor = network_utils.PREDICT_EMISSION_AND_MLP_ROTAXIS_3D_FROM_IMAGE_W_BG()\n",
    "params = predictor.init(rng, x_vis[:1, ...], y_vis[:1, ...], z_vis[:1, ...], jnp.ones_like(x_vis)[:1, ...], velocity_field, 0.0, 1.0)['params']\n",
    "tx = optax.adam(learning_rate=optax.polynomial_schedule(1, 1, 1, 1))\n",
    "state = train_state.TrainState.create(apply_fn=predictor.apply, params=params.unfreeze(), tx=tx)  \n",
    "\n",
    "rng = jax.random.PRNGKey(1)\n",
    "rand_key = jax.random.split(rng, jax.local_device_count())\n",
    "eval_pstep = jax.pmap(predictor.eval_step, axis_name='batch', in_axes=(None, None, 0, 0, 0, 0, 0, 0, None, None, 0, 0, None, 0, 0), static_broadcasted_argnums=(0))\n",
    "\n",
    "ft_mats = np.zeros((nt, 1, 1))               # meaningless placeholder\n",
    "sigma = np.zeros((nt, 1))                    # meaningless placeholder\n",
    "sigma_test = np.zeros((nt_test, 1))          # meaningless placeholder \n",
    "batch_inds = 0\n",
    "tstart = 0.0\n",
    "tstop = 1.0\n",
    "bg_image = np.ones((x_res_vis, y_res_vis))"
   ]
  },
  {
   "cell_type": "code",
   "execution_count": 120,
   "id": "726716c2-c8d7-46d6-a9c8-c96c9b848980",
   "metadata": {},
   "outputs": [
    {
     "name": "stdout",
     "output_type": "stream",
     "text": [
      "loading checkpoint...\n"
     ]
    },
    {
     "name": "stderr",
     "output_type": "stream",
     "text": [
      "/scratch/imaging/projects/bh_nerf/envs/jax/lib/python3.9/site-packages/jax/lib/xla_bridge.py:390: UserWarning: jax.host_count has been renamed to jax.process_count. This alias will eventually be removed; please update your code.\n",
      "  warnings.warn(\n",
      "/scratch/imaging/projects/bh_nerf/envs/jax/lib/python3.9/site-packages/jax/lib/xla_bridge.py:377: UserWarning: jax.host_id has been renamed to jax.process_index. This alias will eventually be removed; please update your code.\n",
      "  warnings.warn(\n"
     ]
    },
    {
     "name": "stdout",
     "output_type": "stream",
     "text": [
      "loading time [secs]: 13.335416316986084\n",
      "rendering cube visualization...\n",
      "rendering time [secs]: 254.50141215324402\n",
      "loading time [secs]: 266.46852016448975\n",
      "rendering cube visualization...\n",
      "rendering time [secs]: 255.80104041099548\n",
      "loading checkpoint...\n",
      "loading time [secs]: 12.318540096282959\n",
      "rendering cube visualization...\n",
      "rendering time [secs]: 254.04741740226746\n",
      "loading time [secs]: 265.38665795326233\n",
      "rendering cube visualization...\n",
      "rendering time [secs]: 255.44973230361938\n",
      "loading checkpoint...\n",
      "loading time [secs]: 12.54409384727478\n",
      "rendering cube visualization...\n",
      "rendering time [secs]: 255.49767804145813\n",
      "loading time [secs]: 267.72049474716187\n",
      "rendering cube visualization...\n",
      "rendering time [secs]: 253.87019658088684\n"
     ]
    }
   ],
   "source": [
    "# unknown rotation axis\n",
    "checkpoint_paths = [\n",
    "    'checkpoints/eht_arrays/full_image_nspots4.00_phi0.63_theta2.62_riaf.true_axis/checkpoint_5000',\n",
    "    'checkpoints/eht_arrays/ngEHT_nspots4.00_phi0.63_theta2.62_riaf.true_axis/checkpoint_5000',\n",
    "    'checkpoints/eht_arrays/EHT2017_nspots4.00_phi0.63_theta2.62_riaf.true_axis/checkpoint_5000'\n",
    "]\n",
    "\n",
    "for checkpoint_path in checkpoint_paths:\n",
    "    print('loading checkpoint...')\n",
    "    t0 = time.time()\n",
    "    state = checkpoints.restore_checkpoint(checkpoint_path, state)\n",
    "    state = flax.jax_utils.replicate(state)\n",
    "    \n",
    "    images = []\n",
    "    for t in [0, 25]:\n",
    "        t_vis = (t/nt) * jnp.ones_like(x_vis)\n",
    "        _, _, emission_vis, _, axis_estimation, _ = eval_pstep(\n",
    "            velocity_field, i, shard(x_vis), shard(y_vis), shard(z_vis), shard(d_vis), shard(t_vis),\n",
    "            shard(ft_mats[batch_inds, ...]), tstart, tstop, shard(x_vis[batch_inds,...]),\n",
    "            shard(sigma_test[batch_inds, ...]), bg_image, state, rand_key\n",
    "        )\n",
    "        axis_estimation = axis_estimation[0] / np.sqrt(np.dot(axis_estimation[0], axis_estimation[0]))\n",
    "        emission_vis = np.reshape(emission_vis[0], [x_res_vis, y_res_vis, z_res_vis])\n",
    "        emission_vis = jnp.where(x_vis**2 + y_vis**2 + z_vis**2 < r_min**2, jnp.zeros_like(emission_vis), emission_vis)\n",
    "        emission_vis = jnp.where(x_vis**2 + y_vis**2 + z_vis**2 > r_max**2, jnp.zeros_like(emission_vis), emission_vis)\n",
    "        emission_vis = emission_vis / vmax\n",
    "        print('loading time [secs]: {}'.format(time.time() - t0))\n",
    "        print('rendering cube visualization...')\n",
    "        t0 = time.time()\n",
    "        emission_vis_cube = draw_cube(emission_vis, jnp.stack([x_vis, y_vis, z_vis], axis=-1))\n",
    "        image, _ = alpha_composite(emission_vis_cube, d_vis, pts[i, ...])\n",
    "        print('rendering time [secs]: {}'.format(time.time() - t0))\n",
    "        image = jnp.clip(image, 0.0, 1.0)\n",
    "        images.append(image)\n",
    "    rendering.append(np.array(images))"
   ]
  },
  {
   "cell_type": "code",
   "execution_count": 124,
   "id": "f4e55301-6f88-450b-b815-50ab89505d08",
   "metadata": {},
   "outputs": [
    {
     "data": {
      "application/vnd.jupyter.widget-view+json": {
       "model_id": "66e8a722aa084000a24097caccce0680",
       "version_major": 2,
       "version_minor": 0
      },
      "text/plain": [
       "Canvas(toolbar=Toolbar(toolitems=[('Home', 'Reset original view', 'home', 'home'), ('Back', 'Back to previous …"
      ]
     },
     "metadata": {},
     "output_type": "display_data"
    }
   ],
   "source": [
    "%matplotlib widget\n",
    "fig, axes = plt.subplots(2,7, figsize=(18,6))\n",
    "for i in range(2):\n",
    "    axes[i,0].axis('off')\n",
    "    axes[i,0].imshow(images_gt[i])\n",
    "    for j in range(6):\n",
    "        axes[i,j+1].axis('off')\n",
    "        axes[i,j+1].imshow(rendering[j][i])\n",
    "plt.tight_layout()\n",
    "plt.savefig('figures/increasing_meas_sparsity.pdf', transparent=False, bbox_inches=0)"
   ]
  },
  {
   "cell_type": "code",
   "execution_count": 116,
   "id": "c9435214-e663-4e23-9a6b-b10e9f0a027d",
   "metadata": {},
   "outputs": [
    {
     "data": {
      "application/vnd.jupyter.widget-view+json": {
       "model_id": "ec327b794b2e41e69b04e245c78d6ffc",
       "version_major": 2,
       "version_minor": 0
      },
      "text/plain": [
       "Canvas(toolbar=Toolbar(toolitems=[('Home', 'Reset original view', 'home', 'home'), ('Back', 'Back to previous …"
      ]
     },
     "metadata": {},
     "output_type": "display_data"
    }
   ],
   "source": [
    "%matplotlib widget\n",
    "fig, axes = plt.subplots(2,4, figsize=(12,6))\n",
    "for i in range(2):\n",
    "    axes[i,0].axis('off')\n",
    "    axes[i,0].imshow(images_gt[i])\n",
    "    for j in range(3):\n",
    "        axes[i,j+1].axis('off')\n",
    "        axes[i,j+1].imshow(rendering[j][i])\n",
    "plt.tight_layout()\n",
    "plt.savefig('figures/increasing_meas_sparsity1.pdf', transparent=False, bbox_inches=0)"
   ]
  },
  {
   "cell_type": "code",
   "execution_count": 88,
   "id": "ef84f401-312f-4394-a1e7-3c9a7cf15725",
   "metadata": {},
   "outputs": [
    {
     "data": {
      "application/vnd.jupyter.widget-view+json": {
       "model_id": "841e914f59ca4900b27dd1b336356d68",
       "version_major": 2,
       "version_minor": 0
      },
      "text/plain": [
       "Canvas(toolbar=Toolbar(toolitems=[('Home', 'Reset original view', 'home', 'home'), ('Back', 'Back to previous …"
      ]
     },
     "metadata": {},
     "output_type": "display_data"
    },
    {
     "data": {
      "text/plain": [
       "<matplotlib.image.AxesImage at 0x7fc5dc3a3370>"
      ]
     },
     "execution_count": 88,
     "metadata": {},
     "output_type": "execute_result"
    }
   ],
   "source": [
    "plt.figure()\n",
    "plt.imshow(rendering[0])"
   ]
  },
  {
   "cell_type": "code",
   "execution_count": 82,
   "id": "6cb97dca-8e1f-4363-9dc5-9be3ba171192",
   "metadata": {},
   "outputs": [],
   "source": [
    "emission_estimate = emission_utils.generate_orbit_3d(\n",
    "    xr.DataArray(emission_vis, coords={'x': np.linspace(-5,5.0, x_res_vis), \n",
    "                                       'y': np.linspace(-5,5.0, y_res_vis), \n",
    "                                       'z': np.linspace(-5,5.0, z_res_vis)}, dims=['x','y','z']), \n",
    "    nt, velocity_field, axis_estimation)"
   ]
  },
  {
   "cell_type": "code",
   "execution_count": 83,
   "id": "16d01a4a-b2cf-4aaf-acd9-d822bb56695c",
   "metadata": {},
   "outputs": [
    {
     "data": {
      "application/vnd.jupyter.widget-view+json": {
       "model_id": "0642b9d906ad47bd8e222f2c1a223790",
       "version_major": 2,
       "version_minor": 0
      },
      "text/plain": [
       "interactive(children=(IntSlider(value=0, description='t', max=127), Output()), _dom_classes=('widget-interact'…"
      ]
     },
     "metadata": {},
     "output_type": "display_data"
    }
   ],
   "source": [
    "extent = [(float(emission_estimate[dim].min()), float(emission_estimate[dim].max())) for dim in ('x', 'y', 'z')]\n",
    "@interact(t=widgets.IntSlider(min=0, max=emission_estimate.t.size-1, step=1, value=0))\n",
    "def plot_vol(t):\n",
    "    ipv.figure()\n",
    "    ipv.view(0, -60, distance=2.5)\n",
    "    ipv.volshow(emission_estimate.isel(t=t), extent=extent, memorder='F', level=[0, 0.2, 0.7], opacity=[0, 0.2, 0.3], controls=False)\n",
    "    ipv.show()"
   ]
  },
  {
   "cell_type": "code",
   "execution_count": 35,
   "id": "67da2d29-f198-445f-ab25-d8a6b555a569",
   "metadata": {},
   "outputs": [
    {
     "name": "stdout",
     "output_type": "stream",
     "text": [
      "loading checkpoint...\n"
     ]
    },
    {
     "ename": "NameError",
     "evalue": "name 'batch_inds' is not defined",
     "output_type": "error",
     "traceback": [
      "\u001b[0;31m---------------------------------------------------------------------------\u001b[0m",
      "\u001b[0;31mNameError\u001b[0m                                 Traceback (most recent call last)",
      "\u001b[0;32m/tmp/ipykernel_74857/1868760953.py\u001b[0m in \u001b[0;36m<module>\u001b[0;34m\u001b[0m\n\u001b[1;32m     14\u001b[0m         _, _, emission_vis, _, axis_estimation, _ = eval_pstep(\n\u001b[1;32m     15\u001b[0m             \u001b[0mvelocity_field\u001b[0m\u001b[0;34m,\u001b[0m \u001b[0mi\u001b[0m\u001b[0;34m,\u001b[0m \u001b[0mshard\u001b[0m\u001b[0;34m(\u001b[0m\u001b[0mx_vis\u001b[0m\u001b[0;34m)\u001b[0m\u001b[0;34m,\u001b[0m \u001b[0mshard\u001b[0m\u001b[0;34m(\u001b[0m\u001b[0my_vis\u001b[0m\u001b[0;34m)\u001b[0m\u001b[0;34m,\u001b[0m \u001b[0mshard\u001b[0m\u001b[0;34m(\u001b[0m\u001b[0mz_vis\u001b[0m\u001b[0;34m)\u001b[0m\u001b[0;34m,\u001b[0m \u001b[0mshard\u001b[0m\u001b[0;34m(\u001b[0m\u001b[0md_vis\u001b[0m\u001b[0;34m)\u001b[0m\u001b[0;34m,\u001b[0m \u001b[0mshard\u001b[0m\u001b[0;34m(\u001b[0m\u001b[0mt_vis\u001b[0m\u001b[0;34m)\u001b[0m\u001b[0;34m,\u001b[0m\u001b[0;34m\u001b[0m\u001b[0;34m\u001b[0m\u001b[0m\n\u001b[0;32m---> 16\u001b[0;31m             \u001b[0mshard\u001b[0m\u001b[0;34m(\u001b[0m\u001b[0mft_mats\u001b[0m\u001b[0;34m[\u001b[0m\u001b[0mbatch_inds\u001b[0m\u001b[0;34m,\u001b[0m \u001b[0;34m...\u001b[0m\u001b[0;34m]\u001b[0m\u001b[0;34m)\u001b[0m\u001b[0;34m,\u001b[0m \u001b[0mtstart\u001b[0m\u001b[0;34m,\u001b[0m \u001b[0mtstop\u001b[0m\u001b[0;34m,\u001b[0m \u001b[0mshard\u001b[0m\u001b[0;34m(\u001b[0m\u001b[0mtest_vis\u001b[0m\u001b[0;34m[\u001b[0m\u001b[0mbatch_inds\u001b[0m\u001b[0;34m,\u001b[0m\u001b[0;34m...\u001b[0m\u001b[0;34m]\u001b[0m\u001b[0;34m)\u001b[0m\u001b[0;34m,\u001b[0m\u001b[0;34m\u001b[0m\u001b[0;34m\u001b[0m\u001b[0m\n\u001b[0m\u001b[1;32m     17\u001b[0m             \u001b[0mshard\u001b[0m\u001b[0;34m(\u001b[0m\u001b[0msigma_test\u001b[0m\u001b[0;34m[\u001b[0m\u001b[0mbatch_inds\u001b[0m\u001b[0;34m,\u001b[0m \u001b[0;34m...\u001b[0m\u001b[0;34m]\u001b[0m\u001b[0;34m)\u001b[0m\u001b[0;34m,\u001b[0m \u001b[0mbg_image\u001b[0m\u001b[0;34m,\u001b[0m \u001b[0mstate\u001b[0m\u001b[0;34m,\u001b[0m \u001b[0mrand_key\u001b[0m\u001b[0;34m\u001b[0m\u001b[0;34m\u001b[0m\u001b[0m\n\u001b[1;32m     18\u001b[0m         )\n",
      "\u001b[0;31mNameError\u001b[0m: name 'batch_inds' is not defined"
     ]
    }
   ],
   "source": [
    "checkpoint_paths = [\n",
    "    'checkpoints/eht_arrays/ngEHT_nspots4.00_phi0.63_theta2.62_riaf/checkpoint_5000',\n",
    "]\n",
    "\n",
    "rendering = []\n",
    "for checkpoint_path in checkpoint_paths:\n",
    "    print('loading checkpoint...')\n",
    "    t0 = time.time()\n",
    "    state = checkpoints.restore_checkpoint(checkpoint_path, state)\n",
    "    state = flax.jax_utils.replicate(state)\n",
    "    \n",
    "    for t in :\n",
    "        t_vis = (t/nt) * jnp.ones_like(x_vis)\n",
    "        _, _, emission_vis, _, axis_estimation, _ = eval_pstep(\n",
    "            velocity_field, i, shard(x_vis), shard(y_vis), shard(z_vis), shard(d_vis), shard(t_vis),\n",
    "            shard(ft_mats[batch_inds, ...]), tstart, tstop, shard(test_vis[batch_inds,...]),\n",
    "            shard(sigma_test[batch_inds, ...]), bg_image, state, rand_key\n",
    "        )\n",
    "        axis_estimation = axis_estimation[0] / np.sqrt(np.dot(axis_estimation[0], axis_estimation[0]))\n",
    "        emission_vis = np.reshape(emission_vis[0,0], [x_res_vis, y_res_vis, z_res_vis])\n",
    "        emission_vis = jnp.where(x_vis**2 + y_vis**2 + z_vis**2 < r_min**2, jnp.zeros_like(emission_vis), emission_vis)\n",
    "        emission_vis = jnp.where(x_vis**2 + y_vis**2 + z_vis**2 > r_max**2, jnp.zeros_like(emission_vis), emission_vis)\n",
    "\n",
    "                \n",
    "                \n",
    "        _, _, emission_vis, rendering_vis, axis_est, _ = eval_pstep(\n",
    "            velocity_field, 0, \n",
    "            shard(x_vis), shard(y_vis), shard(z_vis), shard(d_vis), shard(t_vis), shard(np.ones_like(x_vis)), \n",
    "            100, 0, 1, shard(test_vis), shard(jnp.zeros((1, y_res_vis, x_res_vis))), shard(jnp.ones_like(test_vis)), \n",
    "            jnp.zeros((y_res_vis, x_res_vis)),\n",
    "            state, rand_key\n",
    "        )\n",
    "\n",
    "        emission_vis = np.reshape(emission_vis, [t_res_vis, x_res_vis, y_res_vis, z_res_vis])\n",
    "        emission_vis = jnp.where(x_vis**2 + y_vis**2 + z_vis**2 >= hparams['r_min']**2, emission_vis, jnp.zeros_like(emission_vis))\n",
    "        emission_vis = jnp.where(x_vis**2 + y_vis**2 + z_vis**2 <= sensor.r.max().data**2, emission_vis, jnp.zeros_like(emission_vis))\n",
    "        emission_vis = emission_vis / vmax\n",
    "        print('loading time [secs]: {}'.format(time.time() - t0))\n",
    "\n",
    "        print('rendering cube visualization...')\n",
    "        t0 = time.time()\n",
    "        emission_vis_cube = draw_cube(emission_vis[0], jnp.stack([x_vis[0], y_vis[0], z_vis[0]], axis=-1))\n",
    "        image, _ = alpha_composite(emission_vis_cube, d_vis, pts[i, ...])\n",
    "        print('rendering time [secs]: {}'.format(time.time() - t0))\n",
    "        image = jnp.clip(image, 0.0, 1.0)\n",
    "        rendering.append(image)"
   ]
  },
  {
   "cell_type": "code",
   "execution_count": null,
   "id": "2aa7e7b7-403c-4724-8d95-3f4b1fbf0679",
   "metadata": {},
   "outputs": [],
   "source": []
  },
  {
   "cell_type": "code",
   "execution_count": null,
   "id": "9f8bcfef-20b5-4129-85f2-01e85a4ecad9",
   "metadata": {},
   "outputs": [],
   "source": []
  },
  {
   "cell_type": "code",
   "execution_count": 12,
   "id": "2501e1fa-bb69-4f22-bd0a-e147ac26a966",
   "metadata": {},
   "outputs": [
    {
     "data": {
      "application/vnd.jupyter.widget-view+json": {
       "model_id": "ac877d95a9f74a3286ada75d64fa4c45",
       "version_major": 2,
       "version_minor": 0
      },
      "text/plain": [
       "Canvas(toolbar=Toolbar(toolitems=[('Home', 'Reset original view', 'home', 'home'), ('Back', 'Back to previous …"
      ]
     },
     "metadata": {},
     "output_type": "display_data"
    }
   ],
   "source": [
    "%matplotlib widget\n",
    "fig, axes = plt.subplots(1,2, figsize=(8,4))\n",
    "for i, ax in enumerate(axes):\n",
    "    ax.axis('off')\n",
    "    ax.imshow(images_gt[i])\n",
    "plt.tight_layout()"
   ]
  }
 ],
 "metadata": {
  "kernelspec": {
   "display_name": "jax",
   "language": "python",
   "name": "jax"
  },
  "language_info": {
   "codemirror_mode": {
    "name": "ipython",
    "version": 3
   },
   "file_extension": ".py",
   "mimetype": "text/x-python",
   "name": "python",
   "nbconvert_exporter": "python",
   "pygments_lexer": "ipython3",
   "version": "3.9.6"
  }
 },
 "nbformat": 4,
 "nbformat_minor": 5
}
