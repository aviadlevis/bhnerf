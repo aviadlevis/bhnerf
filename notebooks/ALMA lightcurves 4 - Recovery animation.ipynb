{
 "cells": [
  {
   "cell_type": "code",
   "execution_count": 1,
   "id": "b85f8e98-8ea4-4e4c-9304-038107b539e2",
   "metadata": {},
   "outputs": [
    {
     "name": "stderr",
     "output_type": "stream",
     "text": [
      "Matplotlib created a temporary config/cache directory at /tmp/matplotlib-0wj560kx because the default path (/home/jovyan/.cache/matplotlib) is not a writable directory; it is highly recommended to set the MPLCONFIGDIR environment variable to a writable directory, in particular to speed up the import of Matplotlib and to better support multiprocessing.\n"
     ]
    },
    {
     "name": "stdout",
     "output_type": "stream",
     "text": [
      "Welcome to eht-imaging! v 1.2.2 \n",
      "\n"
     ]
    },
    {
     "name": "stderr",
     "output_type": "stream",
     "text": [
      "2023-06-16 16:35:44.736284: W tensorflow/stream_executor/platform/default/dso_loader.cc:64] Could not load dynamic library 'libcudart.so.11.0'; dlerror: libcudart.so.11.0: cannot open shared object file: No such file or directory; LD_LIBRARY_PATH: /.singularity.d/libs\n"
     ]
    }
   ],
   "source": [
    "import bhnerf\n",
    "from astropy import units\n",
    "import jax\n",
    "\n",
    "import numpy as np\n",
    "import xarray as xr\n",
    "import matplotlib.pyplot as plt\n",
    "import pandas as pd\n",
    "from tqdm.notebook import tqdm\n",
    "from flax.training import checkpoints\n",
    "from pathlib import Path\n",
    "import ruamel.yaml as yaml\n",
    "from matplotlib import animation\n",
    "\n",
    "# Runing on 2 GPUs\n",
    "import os\n",
    "os.environ['CUDA_VISIBLE_DEVICES'] = '0,1'\n",
    "\n",
    "# Import script function\n",
    "import sys\n",
    "sys.path.append('../scripts/')\n",
    "from Fit_ALMA_LP_Apr11_SgrA_Flare import preprocess_data"
   ]
  },
  {
   "cell_type": "code",
   "execution_count": 2,
   "id": "57c05f9f-57ea-48cf-9904-306ffcd39d16",
   "metadata": {},
   "outputs": [],
   "source": [
    "def sample_3D_recovery(checkpoint_dir, coords, chunk=-1):\n",
    "    predictor = bhnerf.network.NeRF_Predictor.from_yml(checkpoint_dir)\n",
    "    state = checkpoints.restore_checkpoint(checkpoint_dir, None)\n",
    "    emission = bhnerf.network.sample_3d_grid(predictor.apply, state['params'], coords=coords, chunk=chunk)\n",
    "    return emission\n",
    "\n",
    "def animate(movie, t_frames, fps=10, output=None, writer='ffmpeg'):\n",
    "\n",
    "    # Image animation function (called sequentially)\n",
    "    def animate_frame(i):\n",
    "        #axes.set_title('t={:1.2f} UTC'.format(t_frames[i]))\n",
    "        im.set_array(movie[i])\n",
    "        return im\n",
    "    \n",
    "    num_frames = movie.shape[0]\n",
    "    \n",
    "    fig, axes = plt.subplots(1,1, figsize=(4,4))\n",
    "    im =  axes.imshow(movie[0])\n",
    "    #axes.set_title('t={:1.2f} UTC'.format(t_frames[0]), fontsize=16)\n",
    "    axes.set_axis_off()\n",
    "    \n",
    "    plt.tight_layout()\n",
    "    anim = animation.FuncAnimation(fig, animate_frame, frames=num_frames, interval=1e3 / fps)\n",
    "\n",
    "    if output is not None:\n",
    "        anim.save(output, writer=writer, fps=fps)\n",
    "    return anim"
   ]
  },
  {
   "cell_type": "code",
   "execution_count": 3,
   "id": "c75fa4da-3ec5-479f-8422-a1943aad137a",
   "metadata": {},
   "outputs": [],
   "source": [
    "recovery_path = Path('../checkpoints/alma/intrinsic_fits/vertical_b_variable_pixels1/')\n",
    "basename = 'inc_{:.1f}.seed_{}'\n",
    "\n",
    "outpath = Path(os.path.join(*recovery_path.parts[2:]))\n",
    "outpath.mkdir(parents=True, exist_ok=True)\n",
    "\n",
    "with open(recovery_path.joinpath('config.yml'), 'r') as stream:\n",
    "    config = yaml.load(stream, Loader=yaml.Loader)\n",
    "\n",
    "locals().update(config['preprocess'])\n",
    "locals().update(config['model'])\n",
    "locals().update(config['optimization'])\n",
    "\n",
    "# Preprocess / split data to train/validation\n",
    "target, t_frames = preprocess_data(**config['preprocess'])\n",
    "train_idx = t_frames <= config['preprocess']['t_start']*units.hr + train_split*units.min\n",
    "val_idx = t_frames > config['preprocess']['t_start']*units.hr + train_split*units.min\n",
    "data_train, data_val  = target[train_idx], target[val_idx] \n",
    "t_train, t_val = t_frames[train_idx], t_frames[val_idx]\n",
    "rmax = fov_M / 2\n",
    "if rmin == 'ISCO': rmin = float(bhnerf.constants.isco_pro(spin))"
   ]
  },
  {
   "cell_type": "code",
   "execution_count": 16,
   "id": "babb2061-455d-4c15-8d11-37b5a8a4217c",
   "metadata": {},
   "outputs": [
    {
     "data": {
      "application/vnd.jupyter.widget-view+json": {
       "model_id": "a2557f0954164a119c631ad4cbc4f6bf",
       "version_major": 2,
       "version_minor": 0
      },
      "text/plain": [
       "Canvas(toolbar=Toolbar(toolitems=[('Home', 'Reset original view', 'home', 'home'), ('Back', 'Back to previous …"
      ]
     },
     "metadata": {},
     "output_type": "display_data"
    }
   ],
   "source": [
    "spin_loss = pd.read_csv(recovery_path.joinpath('spin_loss.csv'), index_col=0)\n",
    "\n",
    "plt.rcParams.update({\"text.usetex\": True, \"font.family\": \"Helvetica\"})\n",
    "\n",
    "%matplotlib widget\n",
    "plt.figure(figsize=(5,4))\n",
    "plt.errorbar(spin_grid, np.nanmean(np.log10(spin_loss), axis=1), np.nanstd(np.log10(spin_loss), axis=1), color='tab:orange', marker='^', mfc='r', mec='r', label='data-fit', markersize=5)\n",
    "\n",
    "plt.xticks(fontsize='14')\n",
    "plt.yticks(fontsize='14')\n",
    "plt.axhline(0, color='black', linestyle='--',linewidth=0.75)\n",
    "plt.title(r'Spin data-fit: $\\log \\chi^2(a | {\\bf w}^\\star)$', fontsize=16)\n",
    "# plt.legend(loc='best', fontsize=14)\n",
    "plt.savefig(outpath.joinpath('spin_loss.pdf'))"
   ]
  },
  {
   "cell_type": "code",
   "execution_count": 14,
   "id": "35a23d42-41ec-45bd-873c-05470e2fdeef",
   "metadata": {},
   "outputs": [
    {
     "data": {
      "application/vnd.jupyter.widget-view+json": {
       "model_id": "6777f91267594d0b9531386aec4d1cdf",
       "version_major": 2,
       "version_minor": 0
      },
      "text/plain": [
       "Canvas(toolbar=Toolbar(toolitems=[('Home', 'Reset original view', 'home', 'home'), ('Back', 'Back to previous …"
      ]
     },
     "metadata": {},
     "output_type": "display_data"
    }
   ],
   "source": [
    "spin_loss = pd.read_csv(recovery_path.joinpath('spin_loss.csv'), index_col=0)\n",
    "spin_loss_subrays = pd.read_csv(recovery_path.joinpath('spin_loss_subrays_10.csv'), index_col=0)\n",
    "\n",
    "plt.rcParams.update({\"text.usetex\": True, \"font.family\": \"Helvetica\"})\n",
    "\n",
    "%matplotlib widget\n",
    "plt.figure(figsize=(5,4))\n",
    "plt.errorbar(spin_grid, np.nanmean(np.log10(spin_loss), axis=1), np.nanstd(np.log10(spin_loss), axis=1), color='tab:orange', marker='^', mfc='r', mec='r', label='data-fit', markersize=5)\n",
    "plt.errorbar(spin_grid, np.nanmean(np.log10(spin_loss_subrays), axis=1), np.nanstd(np.log10(spin_loss_subrays), axis=1), color='tab:blue', marker='o', mfc='b', mec='b', label='validation', markersize=5)\n",
    "\n",
    "plt.xticks(fontsize='14')\n",
    "plt.yticks(fontsize='14')\n",
    "plt.axhline(0, color='black', linestyle='--',linewidth=0.75)\n",
    "plt.title(r'Spin data-fit: $\\log \\chi^2(a | {\\bf w}^\\star)$', fontsize=16)\n",
    "plt.legend(loc='best', fontsize=14)\n",
    "plt.savefig(outpath.joinpath('spin_loss_w_subray_validation.pdf'))"
   ]
  },
  {
   "cell_type": "code",
   "execution_count": 7,
   "id": "6bbe748c-60c7-4dab-bfdd-270344614813",
   "metadata": {},
   "outputs": [],
   "source": [
    "raytrace_args = image_plane_model(np.deg2rad(inclination), spin)\n",
    "datafit, image_plane = image_plane_fit(raytrace_args, checkpoint_dir, t_train, data_train)"
   ]
  },
  {
   "cell_type": "code",
   "execution_count": 11,
   "id": "a31c2d13-7b98-4a2b-b97e-a7cac43eacc1",
   "metadata": {},
   "outputs": [
    {
     "data": {
      "application/vnd.jupyter.widget-view+json": {
       "model_id": "af7b88d161814fa1ac4fa415b014f679",
       "version_major": 2,
       "version_minor": 0
      },
      "text/plain": [
       "Canvas(toolbar=Toolbar(toolitems=[('Home', 'Reset original view', 'home', 'home'), ('Back', 'Back to previous …"
      ]
     },
     "metadata": {},
     "output_type": "display_data"
    }
   ],
   "source": [
    "%matplotlib widget\n",
    "plt.rcParams.update({\"text.usetex\": True, \"font.family\": \"Helvetica\",})\n",
    "axes = bhnerf.visualization.plot_stokes_lc(data_train[:,1:], ['Q','U'], t_train, label='ALMA', color='black', plot_qu=True)\n",
    "bhnerf.visualization.plot_stokes_lc(model[:,1:], ['Q','U'], t_train, axes=axes, color='r', fmt='x', label='Model', plot_qu=True)\n",
    "\n",
    "titles = [r'$I_Q$ datafit', r'$I_U$ datafit', r'$Q-U$ datafit']\n",
    "for ax, title in zip(axes, titles):\n",
    "    ax.set_title(title, fontsize=16)\n",
    "    ax.legend()\n",
    "    \n",
    "axes[0].set_xlabel('Time [UT]', fontsize=12)\n",
    "axes[1].set_xlabel('Time [UT]', fontsize=12)\n",
    "plt.tight_layout()\n",
    "\n",
    "savepath = outpath.joinpath(basename.format(inclination, seed))\n",
    "savepath.mkdir(parents=True, exist_ok=True)\n",
    "plt.savefig(savepath.joinpath('QU.datafit.pdf'), bbox_inches='tight')"
   ]
  },
  {
   "cell_type": "code",
   "execution_count": 266,
   "id": "c9d01720-80f3-4219-a54e-2de5ca5ede73",
   "metadata": {},
   "outputs": [
    {
     "data": {
      "application/vnd.jupyter.widget-view+json": {
       "model_id": "11a08d4b631244c88ca8e9c2a6d836e0",
       "version_major": 2,
       "version_minor": 0
      },
      "text/plain": [
       "Canvas(toolbar=Toolbar(toolitems=[('Home', 'Reset original view', 'home', 'home'), ('Back', 'Back to previous …"
      ]
     },
     "metadata": {},
     "output_type": "display_data"
    }
   ],
   "source": [
    "fov_rad = (fov_M * consts.GM_c2(consts.sgra_mass) / consts.sgra_distance.to('m')) * units.rad\n",
    "psize = fov_rad.value / num_alpha\n",
    "\n",
    "im = eh.image.Image(np.rot90(image_plane[0,0], 2), psize, 0, 0)\n",
    "im.display();"
   ]
  },
  {
   "cell_type": "code",
   "execution_count": 44,
   "id": "177d9af9-3d34-4222-81b1-e07a80f87003",
   "metadata": {},
   "outputs": [
    {
     "data": {
      "application/vnd.jupyter.widget-view+json": {
       "model_id": "c76bb6d3751b411694bd09a87d47caff",
       "version_major": 2,
       "version_minor": 0
      },
      "text/plain": [
       "Canvas(toolbar=Toolbar(toolitems=[('Home', 'Reset original view', 'home', 'home'), ('Back', 'Back to previous …"
      ]
     },
     "metadata": {},
     "output_type": "display_data"
    },
    {
     "data": {
      "text/plain": [
       "<matplotlib.animation.FuncAnimation at 0x7f2a0458b8e0>"
      ]
     },
     "execution_count": 44,
     "metadata": {},
     "output_type": "execute_result"
    }
   ],
   "source": [
    "%matplotlib widget\n",
    "movie_list = [xr.DataArray(image_plane[:, i], dims=['t','beta','alpha']) for i in range(image_plane.shape[1])]\n",
    "fig, axes = plt.subplots(1, 3, figsize=(10, 3))\n",
    "bhnerf.visualization.animate_movies_synced(movie_list, axes, titles=['I', 'Q', 'U'], vmin=[0, -.02, -.02], vmax=[.03, .02, .01])"
   ]
  },
  {
   "cell_type": "markdown",
   "id": "fbbbe67f-c030-44bf-bdf1-853a4d5c0986",
   "metadata": {
    "jp-MarkdownHeadingCollapsed": true,
    "tags": []
   },
   "source": [
    "# Rotate 3D volume\n",
    "---\n",
    "Animate an average recovery 3D volume"
   ]
  },
  {
   "cell_type": "code",
   "execution_count": 11,
   "id": "52ee6d0d-2d71-4a86-b3bb-de8e2a823ad5",
   "metadata": {},
   "outputs": [
    {
     "data": {
      "application/vnd.jupyter.widget-view+json": {
       "model_id": "3586da7fdd1c4800aa2a8c8a7b85ac44",
       "version_major": 2,
       "version_minor": 0
      },
      "text/plain": [
       "  0%|          | 0/30 [00:00<?, ?it/s]"
      ]
     },
     "metadata": {},
     "output_type": "display_data"
    }
   ],
   "source": [
    "seeds = range(4)\n",
    "inc = 12\n",
    "\n",
    "zenith = np.deg2rad(60)\n",
    "view_azimuths = np.linspace(0, 2*np.pi, 30)\n",
    "\n",
    "jit = True\n",
    "resolution = 256\n",
    "bh_radius = 1 + np.sqrt(1-spin**2)\n",
    "cam_r = 55.\n",
    "linewidth = 0.14\n",
    "norm_const =  0.05\n",
    "\n",
    "visualizer = bhnerf.visualization.VolumeVisualizer(resolution, resolution, resolution)\n",
    "\n",
    "images = []\n",
    "for azimuth in tqdm(view_azimuths):\n",
    "    emission = 0\n",
    "    visualizer.set_view(cam_r=cam_r, domain_r=rmax, azimuth=azimuth, zenith=zenith)\n",
    "    for  seed in seeds:\n",
    "        checkpoint_dir = recovery_path.joinpath(basename.format(inc, seed))\n",
    "        emission += sample_3D_recovery(checkpoint_dir, visualizer.coords, chunk=32) / len(seeds)\n",
    "\n",
    "    image = visualizer.render(emission / norm_const, facewidth=1.9*rmax, jit=jit, bh_radius=bh_radius, linewidth=linewidth).clip(a_max=1)\n",
    "    images.append(image)\n",
    "    \n",
    "movie = np.array(images)\n",
    "np.save('alma/intrinsic_fits/vertical_b_variable_pixels1/inc12.seeds0-4.recovery_3D_rotation_zenith_60.npy', movie)"
   ]
  },
  {
   "cell_type": "code",
   "execution_count": 22,
   "id": "43286e90-c3c8-44a2-8b29-04838adcff34",
   "metadata": {},
   "outputs": [
    {
     "data": {
      "application/vnd.jupyter.widget-view+json": {
       "model_id": "eb62de833b214761a9ed626455cc20eb",
       "version_major": 2,
       "version_minor": 0
      },
      "text/plain": [
       "Canvas(toolbar=Toolbar(toolitems=[('Home', 'Reset original view', 'home', 'home'), ('Back', 'Back to previous …"
      ]
     },
     "metadata": {},
     "output_type": "display_data"
    },
    {
     "data": {
      "text/plain": [
       "<matplotlib.animation.FuncAnimation at 0x7f4a08541c70>"
      ]
     },
     "execution_count": 22,
     "metadata": {},
     "output_type": "execute_result"
    }
   ],
   "source": [
    "%matplotlib widget\n",
    "animate(movie, t_frames, output='alma/intrinsic_fits/vertical_b_variable_pixels1/inc12.seeds0-4.recovery_3D_rotation_zenith_60.gif')"
   ]
  },
  {
   "cell_type": "markdown",
   "id": "8c3176a9-653e-477b-ac60-4a9af07112b7",
   "metadata": {},
   "source": [
    "# Temporal evolution"
   ]
  },
  {
   "cell_type": "code",
   "execution_count": 4,
   "id": "bbfd806f-bc6e-4916-ae37-f510a89fd65a",
   "metadata": {},
   "outputs": [],
   "source": [
    "def sample_3D_recovery(checkpoint_dir, coords, t_frame=0, t_start_obs=0, Omega=0, chunk=-1):\n",
    "    predictor = bhnerf.network.NeRF_Predictor.from_yml(checkpoint_dir)\n",
    "    state = checkpoints.restore_checkpoint(checkpoint_dir, None)\n",
    "    emission = bhnerf.network.sample_3d_grid(predictor.apply, state['params'], t_frame, t_start_obs, Omega, coords=coords, chunk=chunk)\n",
    "    return emission"
   ]
  },
  {
   "cell_type": "code",
   "execution_count": 9,
   "id": "7de7e6a0-93a6-4bfc-aa81-3d9634241783",
   "metadata": {},
   "outputs": [
    {
     "data": {
      "application/vnd.jupyter.widget-view+json": {
       "model_id": "72af0f8af7e841aa86821946473a7cdd",
       "version_major": 2,
       "version_minor": 0
      },
      "text/plain": [
       "  0%|          | 0/100 [00:00<?, ?it/s]"
      ]
     },
     "metadata": {},
     "output_type": "display_data"
    }
   ],
   "source": [
    "seeds = range(4)\n",
    "inc = 12\n",
    "\n",
    "zenith = np.deg2rad(30)\n",
    "azimuth = 0\n",
    "\n",
    "jit = True\n",
    "resolution = 256\n",
    "bh_radius = 1 + np.sqrt(1-spin**2)\n",
    "cam_r = 55.\n",
    "linewidth = 0.14\n",
    "norm_const =  0.05\n",
    "\n",
    "visualizer = bhnerf.visualization.VolumeVisualizer(resolution, resolution, resolution)\n",
    "visualizer.set_view(cam_r=cam_r, domain_r=rmax, azimuth=azimuth, zenith=zenith)\n",
    "\n",
    "# Keplerian velocity and Doppler boosting\n",
    "rot_sign = {'cw': -1, 'ccw': 1}\n",
    "r = np.sqrt(visualizer.coords[0]**2 + visualizer.coords[1]**2 + visualizer.coords[2]**2)\n",
    "Omega = rot_sign[Omega_dir] * np.sqrt(1) / (r**(3/2) + spin * np.sqrt(1))\n",
    "    \n",
    "images = []\n",
    "for t in tqdm(np.linspace(t_train[0], t_train[-1], 100)):\n",
    "    emission = 0\n",
    "    for seed in seeds:\n",
    "        checkpoint_dir = recovery_path.joinpath(basename.format(inc, seed))\n",
    "        emission += sample_3D_recovery(checkpoint_dir, visualizer.coords, t, t_start_obs, Omega, chunk=32) / len(seeds)\n",
    "        \n",
    "    image = visualizer.render(emission / norm_const, facewidth=1.9*rmax, jit=jit, bh_radius=bh_radius, linewidth=linewidth).clip(a_max=1)\n",
    "    images.append(image)\n",
    "\n",
    "movie = np.array(images)\n",
    "np.save('alma/intrinsic_fits/vertical_b_variable_pixels1/inc12.seeds0-4.recovery_3D_evolution_zenith_30.npy', movie)"
   ]
  },
  {
   "cell_type": "code",
   "execution_count": 10,
   "id": "4ba1ccd2-4175-4798-8f9a-ba402d9f43ac",
   "metadata": {},
   "outputs": [
    {
     "data": {
      "application/vnd.jupyter.widget-view+json": {
       "model_id": "1ddaa944c311444790ff92ededbae1c1",
       "version_major": 2,
       "version_minor": 0
      },
      "text/plain": [
       "Canvas(toolbar=Toolbar(toolitems=[('Home', 'Reset original view', 'home', 'home'), ('Back', 'Back to previous …"
      ]
     },
     "metadata": {},
     "output_type": "display_data"
    },
    {
     "data": {
      "text/plain": [
       "<matplotlib.animation.FuncAnimation at 0x7fbf305af970>"
      ]
     },
     "execution_count": 10,
     "metadata": {},
     "output_type": "execute_result"
    }
   ],
   "source": [
    "%matplotlib widget\n",
    "animate(movie, t_frames, output='alma/intrinsic_fits/vertical_b_variable_pixels1/inc12.seeds0-4.recovery_3D_evolution_zenith_30.gif')"
   ]
  },
  {
   "cell_type": "code",
   "execution_count": null,
   "id": "993d2091-56b1-4b12-ab63-c9ecd8fdbc6a",
   "metadata": {},
   "outputs": [],
   "source": []
  },
  {
   "cell_type": "code",
   "execution_count": null,
   "id": "4d5b39f9-c040-4ae2-a297-4c7c7a7e0eb2",
   "metadata": {},
   "outputs": [],
   "source": []
  },
  {
   "cell_type": "code",
   "execution_count": null,
   "id": "e06546c6-393a-4900-8911-df06456d7b11",
   "metadata": {},
   "outputs": [],
   "source": []
  },
  {
   "cell_type": "code",
   "execution_count": 5,
   "id": "955c3b33-14e2-4d28-a568-129fb67d7dca",
   "metadata": {},
   "outputs": [],
   "source": [
    "seeds = range(4)\n",
    "inc = 12\n",
    "\n",
    "zenith = np.deg2rad(30)\n",
    "azimuth = 0\n",
    "\n",
    "jit = False\n",
    "resolution = 64\n",
    "bh_radius = 1 + np.sqrt(1-spin**2)\n",
    "cam_r = 55.\n",
    "linewidth = 0.14\n",
    "norm_const =  0.05\n",
    "\n",
    "visualizer = bhnerf.visualization.VolumeVisualizer(resolution, resolution, resolution)\n",
    "visualizer.set_view(cam_r=cam_r, domain_r=rmax, azimuth=azimuth, zenith=zenith)\n",
    "\n",
    "# Keplerian velocity and Doppler boosting\n",
    "rot_sign = {'cw': -1, 'ccw': 1}\n",
    "r = np.sqrt(visualizer.coords[0]**2 + visualizer.coords[1]**2 + visualizer.coords[2]**2)\n",
    "Omega = rot_sign[Omega_dir] * np.sqrt(1) / (r**(3/2) + spin * np.sqrt(1))\n",
    "    \n",
    "images = []\n",
    "seed = 2\n",
    "checkpoint_dir = recovery_path.joinpath(basename.format(inc, seed))\n",
    "emission = sample_3D_recovery(checkpoint_dir, visualizer.coords, t_start_obs, t_start_obs , chunk=32) / len(seeds)\n",
    "\n",
    "image = visualizer.render(emission / norm_const, facewidth=1.9*rmax, jit=jit, bh_radius=bh_radius, linewidth=linewidth).clip(a_max=1)\n"
   ]
  },
  {
   "cell_type": "code",
   "execution_count": 12,
   "id": "458a5cc8-15ef-4dff-8930-a465cf36c7a2",
   "metadata": {},
   "outputs": [
    {
     "data": {
      "application/vnd.jupyter.widget-view+json": {
       "model_id": "ea9549130a5641b584e0c3340922e5d7",
       "version_major": 2,
       "version_minor": 0
      },
      "text/plain": [
       "Canvas(toolbar=Toolbar(toolitems=[('Home', 'Reset original view', 'home', 'home'), ('Back', 'Back to previous …"
      ]
     },
     "metadata": {},
     "output_type": "display_data"
    },
    {
     "data": {
      "text/plain": [
       "<matplotlib.image.AxesImage at 0x7fe950083b80>"
      ]
     },
     "execution_count": 12,
     "metadata": {},
     "output_type": "execute_result"
    }
   ],
   "source": [
    "%matplotlib widget\n",
    "plt.imshow(images[10]-images[0])"
   ]
  }
 ],
 "metadata": {
  "kernelspec": {
   "display_name": "jax",
   "language": "python",
   "name": "jax"
  },
  "language_info": {
   "codemirror_mode": {
    "name": "ipython",
    "version": 3
   },
   "file_extension": ".py",
   "mimetype": "text/x-python",
   "name": "python",
   "nbconvert_exporter": "python",
   "pygments_lexer": "ipython3",
   "version": "3.9.6"
  }
 },
 "nbformat": 4,
 "nbformat_minor": 5
}
