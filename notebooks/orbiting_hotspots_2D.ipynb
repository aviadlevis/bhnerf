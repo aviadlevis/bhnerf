{
 "cells": [
  {
   "cell_type": "markdown",
   "id": "14a3ac3c-0d93-491f-aa27-3a6388484dc3",
   "metadata": {
    "tags": []
   },
   "source": [
    "# Estimating hotspot(s) emission using NeRF. \n",
    "\n",
    "Notes:\n",
    "Inner most stable circular orbit (ISCO), for spin=0 with r_g=2 this is at 3M \\\n",
    "Overleaf notes: https://www.overleaf.com/project/60ff0ece5aa4f90d07f2a417"
   ]
  },
  {
   "cell_type": "code",
   "execution_count": 1,
   "id": "d450b1d8-b7b0-4731-a8f2-1a9772547f3a",
   "metadata": {
    "tags": []
   },
   "outputs": [
    {
     "name": "stderr",
     "output_type": "stream",
     "text": [
      "Matplotlib created a temporary config/cache directory at /tmp/matplotlib-zgyt4w5g because the default path (/home/jovyan/.cache/matplotlib) is not a writable directory; it is highly recommended to set the MPLCONFIGDIR environment variable to a writable directory, in particular to speed up the import of Matplotlib and to better support multiprocessing.\n"
     ]
    }
   ],
   "source": [
    "import sys\n",
    "sys.path.append('../bhnerf')\n",
    "\n",
    "import os\n",
    "os.environ['CUDA_VISIBLE_DEVICES'] = '1'\n",
    "\n",
    "import xarray as xr\n",
    "import flax\n",
    "from flax.training import train_state\n",
    "import optax\n",
    "\n",
    "import jax\n",
    "from jax import random\n",
    "from jax import numpy as jnp\n",
    "\n",
    "import numpy as np\n",
    "import matplotlib.pyplot as plt\n",
    "\n",
    "import utils, emission_utils, visualization, network_utils\n",
    "from network_utils import shard\n",
    "import mediapy\n",
    "\n",
    "from tensorboardX import SummaryWriter\n",
    "from datetime import datetime\n",
    "from tqdm.notebook import tqdm\n",
    "\n",
    "%load_ext autoreload\n",
    "%autoreload 2"
   ]
  },
  {
   "cell_type": "code",
   "execution_count": 3,
   "id": "57484603-5b5e-4291-b4d1-8e0ea53000f8",
   "metadata": {},
   "outputs": [],
   "source": [
    "def plot_measurements(measurements, extent=[0,1,0,1], figsize=(7,7)):\n",
    "    plt.style.use('default')\n",
    "    fig, ax = plt.subplots(1,1, figsize=figsize)\n",
    "    ax.imshow(measurements, origin='lower', extent=extent)\n",
    "    ax.set_xlabel('pix')\n",
    "    ax.set_ylabel('t')\n",
    "    \n",
    "def plot_emission(emission, extent=[0,1,0,1], figsize=(7,7)):\n",
    "    plt.style.use('default')\n",
    "    fig, ax = plt.subplots(1,1, figsize=figsize)\n",
    "    ax.imshow(emission, origin='lower', extent=extent)\n",
    "    ax.set_xlabel('x')\n",
    "    ax.set_ylabel('y')\n",
    "\n",
    "def train_network(sensor, emission, emission_test, velocity_field, hparams, runname, log_period=100, y_res_vis=64, x_res_vis=64):\n",
    "    \n",
    "    # Training / testing coordinates\n",
    "    train_coords = network_utils.get_input_coords(sensor, nt=emission.t.size)\n",
    "    t, x, y, z, d = train_coords.values()\n",
    "    train_radiance = measurements.data.ravel() \n",
    "\n",
    "    test_coords = network_utils.get_input_coords(sensor, nt=emission_test.t.size)\n",
    "    test_radiance = measurements_test.data.ravel() \n",
    "    t_test, x_test, y_test, z_test, d_test = test_coords.values()\n",
    "\n",
    "    # Emission visualization inputs\n",
    "    t_res_vis = 1\n",
    "    emission_extent = [emission.x[0], emission.x[-1], emission.y[0], emission.y[-1]]\n",
    "    t_vis, y_vis, x_vis = np.meshgrid(0.0, np.linspace(emission_extent[2], emission_extent[3], y_res_vis),\n",
    "                                      np.linspace(emission_extent[0], emission_extent[1], x_res_vis),\n",
    "                                      indexing='ij')\n",
    "    \n",
    "    d_vis = np.ones_like(y_vis)                  # meaningless placeholder for emission visualization\n",
    "    target_vis = np.ones([y_res_vis, x_res_vis]) # meaningless placeholder for emission visualization\n",
    "    r_min = sensor.r.min().data                  # Zero network output where there is no supervision (within black-hole radius)  \n",
    "\n",
    "    # Model setup and initialization\n",
    "    rng = jax.random.PRNGKey(1)\n",
    "    predictor = network_utils.PREDICT_EMISSION_2D(posenc_deg=hparams['posenc_deg'])\n",
    "    params = predictor.init(rng, x[:1, ...], y[:1, ...], t[:1, ...], velocity_field)['params']\n",
    "    tx = optax.adam(learning_rate=optax.polynomial_schedule(hparams['lr_init'], hparams['lr_final'], 1, hparams['num_iters']))\n",
    "    state = train_state.TrainState.create(apply_fn=predictor.apply, params=params.unfreeze(), tx=tx)  # TODO(pratul): this unfreeze feels sketchy\n",
    "\n",
    "    train_pstep = jax.pmap(predictor.train_step, axis_name='batch', in_axes=(None, None, 0, 0, 0, 0, 0, 0, 0), static_broadcasted_argnums=(0))\n",
    "    eval_pstep = jax.pmap(predictor.eval_step, axis_name='batch', in_axes=(None, None, 0, 0, 0, 0, 0, 0, 0), static_broadcasted_argnums=(0))\n",
    "    rand_key = jax.random.split(rng, jax.local_device_count())\n",
    "    state = flax.jax_utils.replicate(state)\n",
    "\n",
    "    # TensorBoard logging\n",
    "    time = datetime.now().strftime('%Y-%m-%d.%H:%M:%S')\n",
    "    logdir = 'runs/{}.{}'.format(runname, time)\n",
    "    with SummaryWriter(logdir=logdir) as writer:\n",
    "        \n",
    "        # Log ground-truth data   \n",
    "        %matplotlib inline\n",
    "        plot_emission(emission.isel(t=0), emission_extent)\n",
    "        writer.add_figure('emission/true', plt.gcf(), global_step=0)\n",
    "        plot_measurements(measurements)\n",
    "        writer.add_figure('measurements/true', plt.gcf(), global_step=0)\n",
    "\n",
    "        for i in tqdm(range(1, hparams['num_iters']+1), desc='iteration'):\n",
    "\n",
    "            # Testing and Visualization\n",
    "            if (i == 1) or (i % log_period) == 0:\n",
    "                \n",
    "                loss_test, _, emission_pred_test, rendering_test, _ = eval_pstep(\n",
    "                    velocity_field, i, shard(x_test), shard(y_test), shard(d_test), shard(t_test), shard(test_radiance), state, rand_key\n",
    "                )\n",
    "                rendering_test = np.reshape(rendering_test, [emission_test.t.size, sensor.pix.size])\n",
    "                writer.add_scalar('log loss/test', np.log10(np.mean(float(loss_test))), global_step=i)\n",
    "\n",
    "                _, _, emission_vis, _, _ = eval_pstep(\n",
    "                    velocity_field, i, shard(x_vis), shard(y_vis), shard(d_vis), shard(t_vis), shard(target_vis), state, rand_key\n",
    "                )\n",
    "                emission_vis = np.reshape(emission_vis, [t_res_vis, y_res_vis, x_res_vis])\n",
    "                emission_vis = jnp.where(x_vis**2 + y_vis**2 >= r_min**2, emission_vis, jnp.zeros_like(emission_vis))\n",
    "\n",
    "                # Log prediction and estimate\n",
    "                plot_emission(emission_vis[0], emission_extent)\n",
    "                writer.add_figure('emission/esimate', plt.gcf(), global_step=i)\n",
    "                plot_measurements(rendering_test)\n",
    "                writer.add_figure('measurements/prediction', plt.gcf(), global_step=i)\n",
    "\n",
    "            # Training\n",
    "            batch_inds = np.random.randint(0, x.shape[0], hparams['batchsize'])\n",
    "            loss_train, state, _, _, rand_key = train_pstep(\n",
    "                velocity_field, i, \n",
    "                shard(x[batch_inds, ...]), shard(y[batch_inds, ...]), \n",
    "                shard(d[batch_inds, ...]), shard(t[batch_inds, ...]), \n",
    "                shard(train_radiance[batch_inds, ...]), \n",
    "                state, rand_key\n",
    "            )\n",
    "            writer.add_scalar('log loss/train', np.log10(float(np.mean(loss_train))), global_step=i)\n",
    "            \n",
    "        return state, emission_vis"
   ]
  },
  {
   "cell_type": "code",
   "execution_count": 4,
   "id": "15918e7b-d629-4cbf-9bb9-634205c8a8dc",
   "metadata": {},
   "outputs": [],
   "source": [
    "# Load sensor and pre-processes\n",
    "sensor = xr.load_dataset('../sensors/a0.00_th1.57_ngeo200_npix200.nc')\n",
    "sensor = sensor.isel(geo=range(0, sensor.geo.size, 2), pix=range(0, sensor.pix.size, 2)) # downsample (for computational reasons)\n",
    "sensor = sensor.where(sensor.r < 5, drop=True)                                           # remove ray samples outside of the domain "
   ]
  },
  {
   "cell_type": "markdown",
   "id": "6f2e1d35-a402-4bad-8fc3-4b2cffcd49de",
   "metadata": {
    "tags": []
   },
   "source": [
    "# No shearing (hotspot shape persists)"
   ]
  },
  {
   "cell_type": "code",
   "execution_count": 5,
   "id": "f8233049-2c0d-4cd6-bb5a-da21602febb7",
   "metadata": {},
   "outputs": [],
   "source": [
    "# Generate hotspot emission\n",
    "nt, ny, nx = 64, 128, 128\n",
    "nt_test = 128\n",
    "nspots = 1\n",
    "r_isco = 3.0 \n",
    "\n",
    "theta = np.pi / 2.\n",
    "orbit_radius = 3.5 \n",
    "std = .4 * np.ones_like(orbit_radius)\n",
    "initial_frame = emission_utils.generate_hotspots_2d(ny, nx, theta, orbit_radius, std, r_isco)\n",
    "\n",
    "velocity_field = 2.0\n",
    "emission = emission_utils.generate_orbit_2d(initial_frame, nt, velocity_field)\n",
    "emission_test = emission_utils.generate_orbit_2d(initial_frame, nt_test, velocity_field)\n",
    "\n",
    "# Generate radiance measurements \n",
    "measurements = emission_utils.integrate_rays(emission, sensor)\n",
    "measurements_test = emission_utils.integrate_rays(emission_test, sensor)"
   ]
  },
  {
   "cell_type": "code",
   "execution_count": 12,
   "id": "612f9f94-f6fb-49cb-bc15-fb0b7b37435c",
   "metadata": {},
   "outputs": [
    {
     "data": {
      "application/vnd.jupyter.widget-view+json": {
       "model_id": "0dac9348b0494ebfb411cd053c9c9d05",
       "version_major": 2,
       "version_minor": 0
      },
      "text/plain": [
       "Canvas(toolbar=Toolbar(toolitems=[('Home', 'Reset original view', 'home', 'home'), ('Back', 'Back to previous …"
      ]
     },
     "metadata": {},
     "output_type": "display_data"
    },
    {
     "data": {
      "text/plain": [
       "<matplotlib.animation.FuncAnimation at 0x7f6b606b1a60>"
      ]
     },
     "execution_count": 12,
     "metadata": {},
     "output_type": "execute_result"
    }
   ],
   "source": [
    "%matplotlib widget\n",
    "fig, axes = plt.subplots(1,2, figsize=(6,2.5))\n",
    "visualization.animate_synced(emission, measurements, axes, title='orbiting hotspot')"
   ]
  },
  {
   "cell_type": "code",
   "execution_count": null,
   "id": "c6a13ffc-ccd2-4307-9315-87314d324217",
   "metadata": {
    "tags": []
   },
   "outputs": [],
   "source": [
    "# Training parameters\n",
    "hparams = {\n",
    "    'num_iters': 10000,\n",
    "    'lr_init': 1e-4,\n",
    "    'lr_final': 1e-6,\n",
    "    'posenc_deg': 3,\n",
    "    'batchsize': 1024,\n",
    "}\n",
    "state, emission_vis = train_network(\n",
    "    sensor, emission, emission_test, velocity_field, hparams, \n",
    "    runname='orbiting_hs', log_period=100, y_res_vis=128, x_res_vis=128\n",
    ")"
   ]
  },
  {
   "cell_type": "code",
   "execution_count": null,
   "id": "a490da82-fcaa-4092-b167-c779319f6b19",
   "metadata": {},
   "outputs": [],
   "source": [
    "plot_emission(emission_vis[0], figsize=(4,4))"
   ]
  },
  {
   "cell_type": "markdown",
   "id": "1562229a-35cf-4222-9aad-a599983cde61",
   "metadata": {},
   "source": [
    "# Shearing effects "
   ]
  },
  {
   "cell_type": "code",
   "execution_count": 15,
   "id": "0e37c7aa-c77e-4f68-8fb9-3cb7c62d0b15",
   "metadata": {},
   "outputs": [],
   "source": [
    "# Hotspot params (multiple)\n",
    "nt, ny, nx = 64, 128, 128\n",
    "nt_test = 128\n",
    "nspots = 4\n",
    "r_isco = 3.0 \n",
    "\n",
    "theta = np.random.rand(nspots) * 2. * np.pi \n",
    "orbit_radius = np.linspace(3.5, 4., nspots) \n",
    "std = .4 * np.ones_like(orbit_radius)\n",
    "initial_frame = emission_utils.generate_hotspots_2d(ny, nx, theta, orbit_radius, std, r_isco)\n",
    "\n",
    "orbit_period = 3.5**(-3./2.) \n",
    "velocity_field = lambda r: (1.0 / orbit_period) * r**(-3/2)\n",
    "# velocity_field = (1.0 / orbit_period) * initial_frame.r**(-3/2)\n",
    "\n",
    "emission = emission_utils.generate_orbit_2d(initial_frame, nt, velocity_field)\n",
    "emission_test = emission_utils.generate_orbit_2d(initial_frame, nt_test, velocity_field)\n",
    "\n",
    "# Generate radiance measurements \n",
    "measurements = emission_utils.integrate_rays(emission, sensor)\n",
    "measurements_test = emission_utils.integrate_rays(emission_test, sensor)"
   ]
  },
  {
   "cell_type": "code",
   "execution_count": 16,
   "id": "9d75e6c7-1b9d-401c-a32d-b26fa3bf40c5",
   "metadata": {},
   "outputs": [
    {
     "data": {
      "application/vnd.jupyter.widget-view+json": {
       "model_id": "f6505bb419d4458faebffbad8a6684dc",
       "version_major": 2,
       "version_minor": 0
      },
      "text/plain": [
       "Canvas(toolbar=Toolbar(toolitems=[('Home', 'Reset original view', 'home', 'home'), ('Back', 'Back to previous …"
      ]
     },
     "metadata": {},
     "output_type": "display_data"
    }
   ],
   "source": [
    "%matplotlib widget\n",
    "fig, axes = plt.subplots(1,2, figsize=(6,2.5))\n",
    "anim = visualization.animate_synced(emission, measurements, axes, title='shearing hotspot')"
   ]
  },
  {
   "cell_type": "code",
   "execution_count": 17,
   "id": "20f8ad87-3eda-44e1-9abe-f27a5d5b6a82",
   "metadata": {},
   "outputs": [
    {
     "name": "stderr",
     "output_type": "stream",
     "text": [
      "/home/alevis/.conda/envs/bhnerf/lib/python3.7/site-packages/jax/lib/xla_bridge.py:391: UserWarning: jax.host_count has been renamed to jax.process_count. This alias will eventually be removed; please update your code.\n",
      "  \"jax.host_count has been renamed to jax.process_count. This alias \"\n",
      "/home/alevis/.conda/envs/bhnerf/lib/python3.7/site-packages/jax/lib/xla_bridge.py:378: UserWarning: jax.host_id has been renamed to jax.process_index. This alias will eventually be removed; please update your code.\n",
      "  \"jax.host_id has been renamed to jax.process_index. This alias \"\n"
     ]
    },
    {
     "data": {
      "application/vnd.jupyter.widget-view+json": {
       "model_id": "7700ef70505c42e1ae0b74b743c01c8c",
       "version_major": 2,
       "version_minor": 0
      },
      "text/plain": [
       "iteration:   0%|          | 0/10000 [00:00<?, ?it/s]"
      ]
     },
     "metadata": {},
     "output_type": "display_data"
    }
   ],
   "source": [
    "# Training parameters\n",
    "hparams = {\n",
    "    'num_iters': 10000,\n",
    "    'lr_init': 1e-4,\n",
    "    'lr_final': 1e-6,\n",
    "    'posenc_deg': 3\n",
    "    'batchsize': 1024\n",
    "}\n",
    "\n",
    "state, emission_vis = train_network(\n",
    "    sensor, emission, emission_test, velocity_field, hparams, \n",
    "    runname='shearing_hs', log_period=100, y_res_vis=64, x_res_vis=64\n",
    ")"
   ]
  },
  {
   "cell_type": "code",
   "execution_count": 18,
   "id": "06320aa4-d49d-4803-b055-5e7b081d6c8c",
   "metadata": {},
   "outputs": [
    {
     "data": {
      "image/png": "[encoded data removed]",
      "text/plain": [
       "<Figure size 400x400 with 1 Axes>"
      ]
     },
     "metadata": {},
     "output_type": "display_data"
    }
   ],
   "source": [
    "plot_emission(emission_vis[0], figsize=(4,4))"
   ]
  }
 ],
 "metadata": {
  "kernelspec": {
   "display_name": "jax",
   "language": "python",
   "name": "jax"
  },
  "language_info": {
   "codemirror_mode": {
    "name": "ipython",
    "version": 3
   },
   "file_extension": ".py",
   "mimetype": "text/x-python",
   "name": "python",
   "nbconvert_exporter": "python",
   "pygments_lexer": "ipython3",
   "version": "3.9.6"
  }
 },
 "nbformat": 4,
 "nbformat_minor": 5
}
