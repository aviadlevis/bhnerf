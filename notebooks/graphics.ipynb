{
 "cells": [
  {
   "cell_type": "code",
   "execution_count": 1,
   "id": "6725c169-b1ff-4b21-8d33-f102afd89062",
   "metadata": {},
   "outputs": [
    {
     "name": "stderr",
     "output_type": "stream",
     "text": [
      "Matplotlib created a temporary config/cache directory at /tmp/matplotlib-a3mc8xfq because the default path (/home/jovyan/.cache/matplotlib) is not a writable directory; it is highly recommended to set the MPLCONFIGDIR environment variable to a writable directory, in particular to speed up the import of Matplotlib and to better support multiprocessing.\n"
     ]
    },
    {
     "name": "stdout",
     "output_type": "stream",
     "text": [
      "Welcome to eht-imaging! v 1.2.2 \n",
      "\n"
     ]
    }
   ],
   "source": [
    "import sys\n",
    "sys.path.append('../bhnerf')\n",
    "import os\n",
    "import xarray as xr\n",
    "import numpy as np\n",
    "import matplotlib.pyplot as plt\n",
    "import utils, emission_utils, visualization, network_utils, observation_utils\n",
    "import ehtim as eh\n",
    "import ipyvolume as ipv\n",
    "from ipywidgets import interact\n",
    "import ipywidgets as widgets"
   ]
  },
  {
   "cell_type": "markdown",
   "id": "8762d7b6-92b6-4d7d-96c8-15d125ed6fc5",
   "metadata": {
    "tags": []
   },
   "source": [
    "## Plots for illustration figure"
   ]
  },
  {
   "cell_type": "code",
   "execution_count": 21,
   "id": "90c2ac3f-9385-4d70-b44c-f3bf9c962859",
   "metadata": {},
   "outputs": [],
   "source": [
    "initial_frame = emission_utils.generate_hotspots_2d(256,256,np.pi, 3.5, std=0.4)\n",
    "\n",
    "orbit_period = 3.5**(-3./2.) \n",
    "velocity_field = lambda r: (1.0 / orbit_period) * r**(-3/2)\n",
    "gaussian = emission_utils.generate_orbit_2d(initial_frame, 128, velocity_field)\n"
   ]
  },
  {
   "cell_type": "code",
   "execution_count": 38,
   "id": "f9e0beac-533c-4266-8442-7b88d96771a4",
   "metadata": {},
   "outputs": [
    {
     "data": {
      "application/vnd.jupyter.widget-view+json": {
       "model_id": "b6c2cd555cab42a8a7ae42281bcaac60",
       "version_major": 2,
       "version_minor": 0
      },
      "text/plain": [
       "Canvas(toolbar=Toolbar(toolitems=[('Home', 'Reset original view', 'home', 'home'), ('Back', 'Back to previous …"
      ]
     },
     "metadata": {},
     "output_type": "display_data"
    }
   ],
   "source": [
    "%matplotlib widget\n",
    "(gaussian.isel(t=0) + gaussian.isel(t=20) + gaussian.isel(t=40)).where(gaussian.x**2 + gaussian.y**2 > 1).plot(cmap='afmhot', vmin=0.1, rasterized=True)\n",
    "plt.savefig('figures/gaussian.pdf', transparent=False, bbox_inches=0)"
   ]
  },
  {
   "cell_type": "code",
   "execution_count": 63,
   "id": "d2480671-7eff-4326-ba2b-c7c33d365ed2",
   "metadata": {},
   "outputs": [],
   "source": [
    "sensor = xr.load_dataset('../sensors/a0.00_th1.57_ngeo200_npix200.nc')\n",
    "sensor = sensor.where(sensor.r < 10)"
   ]
  },
  {
   "cell_type": "code",
   "execution_count": 117,
   "id": "380bf86e-4b47-4c78-888f-b02ed49b72df",
   "metadata": {},
   "outputs": [
    {
     "data": {
      "application/vnd.jupyter.widget-view+json": {
       "model_id": "d6959efe0ac34797a6103794fcc5f0ba",
       "version_major": 2,
       "version_minor": 0
      },
      "text/plain": [
       "Canvas(toolbar=Toolbar(toolitems=[('Home', 'Reset original view', 'home', 'home'), ('Back', 'Back to previous …"
      ]
     },
     "metadata": {},
     "output_type": "display_data"
    },
    {
     "data": {
      "text/plain": [
       "[<matplotlib.lines.Line2D at 0x7f636c75bdf0>]"
      ]
     },
     "execution_count": 118,
     "metadata": {},
     "output_type": "execute_result"
    }
   ],
   "source": [
    "pixel = sensor.sel(pix=164)\n",
    "%matplotlib widget\n",
    "plt.plot(pixel.x, pixel.y, color='tab:blue')\n",
    "\n",
    "pixel = sensor.sel(pix=32)\n",
    "plt.plot(pixel.x, pixel.y, color='tab:green')\n",
    "\n",
    "pixel = sensor.sel(pix=35)\n",
    "plt.plot(pixel.x, pixel.y, color='tab:red')\n",
    "\n",
    "meas = emission_utils.integrate_rays(gaussian.isel(t=0), sensor)\n",
    "plt.plot(15-3*meas, np.linspace(-8, 8, sensor.pix.size), color='tab:blue')\n",
    "\n",
    "meas = emission_utils.integrate_rays(gaussian.isel(t=20), sensor)\n",
    "plt.plot(20-3*meas, np.linspace(-8, 8, sensor.pix.size), color='tab:green')\n",
    "\n",
    "meas = emission_utils.integrate_rays(gaussian.isel(t=40), sensor)\n",
    "plt.plot(25-3*meas, np.linspace(-8, 8, sensor.pix.size), color='tab:red')"
   ]
  },
  {
   "cell_type": "code",
   "execution_count": 104,
   "id": "93af4a3a-c11c-40f2-a97a-9b54a3752a6d",
   "metadata": {},
   "outputs": [],
   "source": [
    "plt.savefig('figures/rays.pdf', transparent=False, bbox_inches=0)"
   ]
  },
  {
   "cell_type": "markdown",
   "id": "84047cf1-3739-4130-9c7f-79f13a3b68a5",
   "metadata": {},
   "source": [
    "## Plot UV coverage"
   ]
  },
  {
   "cell_type": "code",
   "execution_count": 2,
   "id": "ed30b235-84c3-49be-8c86-83cbea9bf373",
   "metadata": {},
   "outputs": [],
   "source": [
    "obs_params = {\n",
    "    'array': eh.array.load_txt('../eht_arrays/ngEHT.txt'),\n",
    "    'nt': 128,      # number of time samples \n",
    "    'tstart': 4.0,  # start of observations (UTC hr)\n",
    "    'tstop': 15.5,  # end of observation (UTC hr)\n",
    "    'tint': 60.0    # integration time\n",
    "}\n",
    "obs_ng = observation_utils.empty_eht_obs(**obs_params)\n",
    "\n",
    "obs_params = {\n",
    "    'array': eh.array.load_txt('../eht_arrays/EHT2017.txt'),\n",
    "    'nt': 128,      # number of time samples \n",
    "    'tstart': 4.0,  # start of observations (UTC hr)\n",
    "    'tstop': 15.5,  # end of observation (UTC hr)\n",
    "    'tint': 60.0    # integration time\n",
    "}\n",
    "obs_2017 = observation_utils.empty_eht_obs(**obs_params)"
   ]
  },
  {
   "cell_type": "code",
   "execution_count": 11,
   "id": "7db06263-ceee-4da9-92f0-f42abc0ff036",
   "metadata": {},
   "outputs": [
    {
     "data": {
      "application/vnd.jupyter.widget-view+json": {
       "model_id": "e34d7629966341b1a9679fea90221d0a",
       "version_major": 2,
       "version_minor": 0
      },
      "text/plain": [
       "Canvas(toolbar=Toolbar(toolitems=[('Home', 'Reset original view', 'home', 'home'), ('Back', 'Back to previous …"
      ]
     },
     "metadata": {},
     "output_type": "display_data"
    }
   ],
   "source": [
    "%matplotlib widget\n",
    "fig, ax = plt.subplots(1,2, figsize=(8,4), sharey=True)\n",
    "observation_utils.plot_uv_coverage(obs_2017, ax=ax[0], fontsize=12)\n",
    "observation_utils.plot_uv_coverage(obs_ng, ax=ax[1], fontsize=12)\n",
    "ax[1].set_ylabel('')\n",
    "ax[0].set_title('EHT 2017 Sampling', fontsize=14)\n",
    "ax[1].set_title('ngEHT Sampling', fontsize=14)\n",
    "plt.savefig('figures/eht_sampling.png', transparent=False, bbox_inches=0)"
   ]
  },
  {
   "cell_type": "code",
   "execution_count": null,
   "id": "6c872da4-4d31-453e-9619-5754106f3197",
   "metadata": {},
   "outputs": [],
   "source": []
  }
 ],
 "metadata": {
  "kernelspec": {
   "display_name": "jax",
   "language": "python",
   "name": "jax"
  },
  "language_info": {
   "codemirror_mode": {
    "name": "ipython",
    "version": 3
   },
   "file_extension": ".py",
   "mimetype": "text/x-python",
   "name": "python",
   "nbconvert_exporter": "python",
   "pygments_lexer": "ipython3",
   "version": "3.9.6"
  }
 },
 "nbformat": 4,
 "nbformat_minor": 5
}
