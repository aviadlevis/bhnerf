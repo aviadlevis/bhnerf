{
 "cells": [
  {
   "cell_type": "code",
   "execution_count": 1,
   "id": "b85f8e98-8ea4-4e4c-9304-038107b539e2",
   "metadata": {},
   "outputs": [
    {
     "name": "stderr",
     "output_type": "stream",
     "text": [
      "Matplotlib created a temporary config/cache directory at /tmp/matplotlib-ud27qdxo because the default path (/home/jovyan/.cache/matplotlib) is not a writable directory; it is highly recommended to set the MPLCONFIGDIR environment variable to a writable directory, in particular to speed up the import of Matplotlib and to better support multiprocessing.\n"
     ]
    },
    {
     "name": "stdout",
     "output_type": "stream",
     "text": [
      "Welcome to eht-imaging! v 1.2.2 \n",
      "\n"
     ]
    },
    {
     "name": "stderr",
     "output_type": "stream",
     "text": [
      "2023-05-19 10:27:32.658246: W tensorflow/stream_executor/platform/default/dso_loader.cc:64] Could not load dynamic library 'libcudart.so.11.0'; dlerror: libcudart.so.11.0: cannot open shared object file: No such file or directory; LD_LIBRARY_PATH: /.singularity.d/libs\n"
     ]
    }
   ],
   "source": [
    "import bhnerf\n",
    "from astropy import units\n",
    "import jax\n",
    "\n",
    "import numpy as np\n",
    "import xarray as xr\n",
    "import matplotlib.pyplot as plt\n",
    "import pandas as pd\n",
    "from tqdm.notebook import tqdm\n",
    "from flax.training import checkpoints\n",
    "from pathlib import Path\n",
    "import ruamel.yaml as yaml\n",
    "\n",
    "import os\n",
    "os.environ['CUDA_VISIBLE_DEVICES'] = '2,3'\n",
    "\n",
    "import warnings\n",
    "warnings.simplefilter(\"ignore\")"
   ]
  },
  {
   "cell_type": "code",
   "execution_count": 25,
   "id": "63a930a5-5d3c-4913-b79b-bb25bbf2fd45",
   "metadata": {
    "tags": []
   },
   "outputs": [],
   "source": [
    "basename = 'inc_{:.1f}.seed_{}'\n",
    "\n",
    "recovery_path = Path('../data/synthetic_lightcurves/two_gaussians/recovery/sim2_quadrant_1_seed1_Q_0.25_intrinsic/')\n",
    "with open(recovery_path.joinpath('params.yaml'), 'r') as stream:\n",
    "    config = yaml.load(stream, Loader=yaml.Loader)\n",
    "\n",
    "locals().update(config['simulation']['model'])\n",
    "locals().update(config['recovery']['model'])\n",
    "locals().update(config['recovery']['optimization']) \n",
    "\n",
    "# Preprocess / split data to train/validation\n",
    "data_path = Path(config['simulation']['lightcurve_path'])\n",
    "lightcurves_df = pd.read_csv(data_path)\n",
    "target, t_frames = np.array(lightcurves_df[stokes]), np.array(lightcurves_df['t'])*units.hr\n",
    "train_idx = t_frames <= t_start_obs*units.hr + train_split*units.min\n",
    "val_idx = t_frames > t_start_obs*units.hr + train_split*units.min\n",
    "data_train, data_val  = target[train_idx], target[val_idx] \n",
    "t_train, t_val = t_frames[train_idx], t_frames[val_idx]\n",
    "\n",
    "inc_true = config['simulation']['model']['inclination']\n",
    "J_inds = [['I', 'Q', 'U'].index(s) for s in stokes]"
   ]
  },
  {
   "cell_type": "code",
   "execution_count": 26,
   "id": "57c05f9f-57ea-48cf-9904-306ffcd39d16",
   "metadata": {},
   "outputs": [],
   "source": [
    "def sample_3D_recovery(checkpoint_dir, coords, chunk=-1):\n",
    "    predictor = bhnerf.network.NeRF_Predictor.from_yml(checkpoint_dir)\n",
    "    state = checkpoints.restore_checkpoint(checkpoint_dir, None)\n",
    "    emission = bhnerf.network.sample_3d_grid(predictor.apply, state['params'], coords=coords, chunk=chunk)\n",
    "    return emission\n",
    "\n",
    "def image_plane_model(inc, spin, randomize_subpixel_rays=False):\n",
    "    # Compute geodesics paths\n",
    "    geos = bhnerf.kgeo.image_plane_geos(\n",
    "        spin, inc, \n",
    "        num_alpha=num_alpha, \n",
    "        num_beta=num_beta, \n",
    "        alpha_range=[-fov_M/2, fov_M/2],\n",
    "        beta_range=[-fov_M/2, fov_M/2],\n",
    "        randomize_subpixel_rays=randomize_subpixel_rays\n",
    "    )\n",
    "    geos = geos.fillna(0.0)\n",
    "\n",
    "     # Keplerian velocity and Doppler boosting\n",
    "    rot_sign = {'cw': -1, 'ccw': 1}\n",
    "    Omega = rot_sign[Omega_dir] * np.sqrt(geos.M) / (geos.r**(3/2) + geos.spin * np.sqrt(geos.M))\n",
    "    umu = bhnerf.kgeo.azimuthal_velocity_vector(geos, Omega)\n",
    "    g = bhnerf.kgeo.doppler_factor(geos, umu)\n",
    "\n",
    "    # Magnitude normalized magnetic field in fluid-frame\n",
    "    b = bhnerf.kgeo.magnetic_field_fluid_frame(geos, umu, **b_consts)\n",
    "    domain = np.bitwise_and(np.bitwise_and(np.abs(geos.z) < z_width, geos.r > rmin), geos.r < rmax)\n",
    "    b_mean = np.sqrt(np.sum(b[domain]**2, axis=-1)).mean()\n",
    "    b /= b_mean\n",
    "\n",
    "    # Polarized emission factors (including parallel transport)\n",
    "    J = np.nan_to_num(bhnerf.kgeo.parallel_transport(geos, umu, g, b, Q_frac=Q_frac, V_frac=0), 0.0)[J_inds]\n",
    "    t_injection = -float(geos.r_o + fov_M/4)\n",
    "    raytracing_args = bhnerf.network.raytracing_args(geos, Omega, t_injection, t_start_obs*units.hr, J)\n",
    "    return raytracing_args\n",
    "\n",
    "def image_plane_model_perturb_rays(inc, spin):\n",
    "    raytracing_args = []\n",
    "    for i in tqdm(range(num_subrays), leave=False):\n",
    "        raytracing_args.append(image_plane_model(inc, spin, randomize_subpixel_rays=True))\n",
    "    return raytracing_args\n",
    "\n",
    "def image_plane_fit(raytracing_args, checkpoint_dir, t, data, rmin=0.0, rmax=np.inf, batchsize=20):\n",
    "    predictor = bhnerf.network.NeRF_Predictor.from_yml(checkpoint_dir)\n",
    "    predictor.rmax = min(rmax, predictor.rmax)\n",
    "    predictor.rmin = max(rmin, predictor.rmin)\n",
    "    params = predictor.init_params(raytracing_args)\n",
    "    state = predictor.init_state(params, checkpoint_dir=checkpoint_dir)\n",
    "    train_step = bhnerf.optimization.TrainStep.image(t, data, sigma, dtype='lc')\n",
    "    _, image_plane = bhnerf.optimization.total_movie_loss(batchsize, state, train_step, raytracing_args, return_frames=True)\n",
    "    datafit = np.sum(((image_plane.sum(axis=(-1,-2)) - data) / sigma)**2) / len(t)\n",
    "    return datafit, image_plane"
   ]
  },
  {
   "cell_type": "markdown",
   "id": "f051e636-fd23-430b-9559-5bfbdc6e7def",
   "metadata": {
    "jp-MarkdownHeadingCollapsed": true,
    "tags": []
   },
   "source": [
    "# Inclination data-fit\n",
    "---\n",
    "Data-fit as a function of inclination angle (\"zero-order\" marginal likelihood) \\\n",
    "Generalization: how well does the recovery preform on validation dataset of lightcurves at different times: (11.05 (t7) -- 12.71 UTC)"
   ]
  },
  {
   "cell_type": "code",
   "execution_count": 16,
   "id": "d3053ae1-3332-4fba-9391-bcad54f47a55",
   "metadata": {},
   "outputs": [
    {
     "data": {
      "application/vnd.jupyter.widget-view+json": {
       "model_id": "630793aef83c420bacd3afda8096d326",
       "version_major": 2,
       "version_minor": 0
      },
      "text/plain": [
       "Canvas(toolbar=Toolbar(toolitems=[('Home', 'Reset original view', 'home', 'home'), ('Back', 'Back to previous …"
      ]
     },
     "metadata": {},
     "output_type": "display_data"
    }
   ],
   "source": [
    "plt.rcParams.update({\"text.usetex\": True, \"font.family\": \"Helvetica\"})\n",
    "\n",
    "%matplotlib widget\n",
    "plt.figure(figsize=(5,4))\n",
    "plt.errorbar(inc_loss.index, np.nanmean(np.log10(inc_loss), axis=1), np.nanstd(np.log10(inc_loss), axis=1), color='tab:orange', marker='^', mfc='r', mec='r', label='data', markersize=5)\n",
    "plt.title(r'Inclination data-fit: $\\log \\chi^2(\\theta | {\\bf w}^\\star)$', fontsize=16)\n",
    "plt.xticks(fontsize='14')\n",
    "plt.yticks(fontsize='14')\n",
    "plt.axhline(0, color='black', linestyle='--',linewidth=0.75)\n",
    "plt.axvline(inc_true, color='black', linestyle='--',linewidth=1.3)\n",
    "plt.text(inc_true*1.01, 8.5, r'$\\theta_{\\rm true}$', fontsize=16)\n",
    "plt.legend()\n",
    "plt.xticks([20,30,40,50,60,70,80])\n",
    "plt.savefig(recovery_path.joinpath('inclination_loss_log_subrays_10.pdf'))"
   ]
  },
  {
   "cell_type": "code",
   "execution_count": 8,
   "id": "eb2d51cb-1836-4eb8-8d0d-1e8cc11249de",
   "metadata": {},
   "outputs": [
    {
     "data": {
      "application/vnd.jupyter.widget-view+json": {
       "model_id": "444dfc5eb042468f929972cec75e42e7",
       "version_major": 2,
       "version_minor": 0
      },
      "text/plain": [
       "inc:   0%|          | 0/13 [00:00<?, ?it/s]"
      ]
     },
     "metadata": {},
     "output_type": "display_data"
    },
    {
     "data": {
      "application/vnd.jupyter.widget-view+json": {
       "model_id": "",
       "version_major": 2,
       "version_minor": 0
      },
      "text/plain": [
       "seed:   0%|          | 0/4 [00:00<?, ?it/s]"
      ]
     },
     "metadata": {},
     "output_type": "display_data"
    },
    {
     "data": {
      "application/vnd.jupyter.widget-view+json": {
       "model_id": "",
       "version_major": 2,
       "version_minor": 0
      },
      "text/plain": [
       "  0%|          | 0/10 [00:00<?, ?it/s]"
      ]
     },
     "metadata": {},
     "output_type": "display_data"
    },
    {
     "data": {
      "application/vnd.jupyter.widget-view+json": {
       "model_id": "",
       "version_major": 2,
       "version_minor": 0
      },
      "text/plain": [
       "seed:   0%|          | 0/4 [00:00<?, ?it/s]"
      ]
     },
     "metadata": {},
     "output_type": "display_data"
    },
    {
     "data": {
      "application/vnd.jupyter.widget-view+json": {
       "model_id": "",
       "version_major": 2,
       "version_minor": 0
      },
      "text/plain": [
       "  0%|          | 0/10 [00:00<?, ?it/s]"
      ]
     },
     "metadata": {},
     "output_type": "display_data"
    },
    {
     "data": {
      "application/vnd.jupyter.widget-view+json": {
       "model_id": "",
       "version_major": 2,
       "version_minor": 0
      },
      "text/plain": [
       "seed:   0%|          | 0/4 [00:00<?, ?it/s]"
      ]
     },
     "metadata": {},
     "output_type": "display_data"
    },
    {
     "data": {
      "application/vnd.jupyter.widget-view+json": {
       "model_id": "",
       "version_major": 2,
       "version_minor": 0
      },
      "text/plain": [
       "  0%|          | 0/10 [00:00<?, ?it/s]"
      ]
     },
     "metadata": {},
     "output_type": "display_data"
    },
    {
     "data": {
      "application/vnd.jupyter.widget-view+json": {
       "model_id": "",
       "version_major": 2,
       "version_minor": 0
      },
      "text/plain": [
       "seed:   0%|          | 0/4 [00:00<?, ?it/s]"
      ]
     },
     "metadata": {},
     "output_type": "display_data"
    },
    {
     "data": {
      "application/vnd.jupyter.widget-view+json": {
       "model_id": "",
       "version_major": 2,
       "version_minor": 0
      },
      "text/plain": [
       "  0%|          | 0/10 [00:00<?, ?it/s]"
      ]
     },
     "metadata": {},
     "output_type": "display_data"
    },
    {
     "data": {
      "application/vnd.jupyter.widget-view+json": {
       "model_id": "",
       "version_major": 2,
       "version_minor": 0
      },
      "text/plain": [
       "seed:   0%|          | 0/4 [00:00<?, ?it/s]"
      ]
     },
     "metadata": {},
     "output_type": "display_data"
    },
    {
     "data": {
      "application/vnd.jupyter.widget-view+json": {
       "model_id": "",
       "version_major": 2,
       "version_minor": 0
      },
      "text/plain": [
       "  0%|          | 0/10 [00:00<?, ?it/s]"
      ]
     },
     "metadata": {},
     "output_type": "display_data"
    },
    {
     "data": {
      "application/vnd.jupyter.widget-view+json": {
       "model_id": "",
       "version_major": 2,
       "version_minor": 0
      },
      "text/plain": [
       "seed:   0%|          | 0/4 [00:00<?, ?it/s]"
      ]
     },
     "metadata": {},
     "output_type": "display_data"
    },
    {
     "data": {
      "application/vnd.jupyter.widget-view+json": {
       "model_id": "",
       "version_major": 2,
       "version_minor": 0
      },
      "text/plain": [
       "  0%|          | 0/10 [00:00<?, ?it/s]"
      ]
     },
     "metadata": {},
     "output_type": "display_data"
    },
    {
     "data": {
      "application/vnd.jupyter.widget-view+json": {
       "model_id": "",
       "version_major": 2,
       "version_minor": 0
      },
      "text/plain": [
       "seed:   0%|          | 0/4 [00:00<?, ?it/s]"
      ]
     },
     "metadata": {},
     "output_type": "display_data"
    },
    {
     "data": {
      "application/vnd.jupyter.widget-view+json": {
       "model_id": "",
       "version_major": 2,
       "version_minor": 0
      },
      "text/plain": [
       "  0%|          | 0/10 [00:00<?, ?it/s]"
      ]
     },
     "metadata": {},
     "output_type": "display_data"
    },
    {
     "data": {
      "application/vnd.jupyter.widget-view+json": {
       "model_id": "",
       "version_major": 2,
       "version_minor": 0
      },
      "text/plain": [
       "seed:   0%|          | 0/4 [00:00<?, ?it/s]"
      ]
     },
     "metadata": {},
     "output_type": "display_data"
    },
    {
     "data": {
      "application/vnd.jupyter.widget-view+json": {
       "model_id": "",
       "version_major": 2,
       "version_minor": 0
      },
      "text/plain": [
       "  0%|          | 0/10 [00:00<?, ?it/s]"
      ]
     },
     "metadata": {},
     "output_type": "display_data"
    },
    {
     "data": {
      "application/vnd.jupyter.widget-view+json": {
       "model_id": "",
       "version_major": 2,
       "version_minor": 0
      },
      "text/plain": [
       "seed:   0%|          | 0/4 [00:00<?, ?it/s]"
      ]
     },
     "metadata": {},
     "output_type": "display_data"
    },
    {
     "data": {
      "application/vnd.jupyter.widget-view+json": {
       "model_id": "",
       "version_major": 2,
       "version_minor": 0
      },
      "text/plain": [
       "  0%|          | 0/10 [00:00<?, ?it/s]"
      ]
     },
     "metadata": {},
     "output_type": "display_data"
    },
    {
     "data": {
      "application/vnd.jupyter.widget-view+json": {
       "model_id": "",
       "version_major": 2,
       "version_minor": 0
      },
      "text/plain": [
       "seed:   0%|          | 0/4 [00:00<?, ?it/s]"
      ]
     },
     "metadata": {},
     "output_type": "display_data"
    },
    {
     "data": {
      "application/vnd.jupyter.widget-view+json": {
       "model_id": "",
       "version_major": 2,
       "version_minor": 0
      },
      "text/plain": [
       "  0%|          | 0/10 [00:00<?, ?it/s]"
      ]
     },
     "metadata": {},
     "output_type": "display_data"
    },
    {
     "data": {
      "application/vnd.jupyter.widget-view+json": {
       "model_id": "",
       "version_major": 2,
       "version_minor": 0
      },
      "text/plain": [
       "seed:   0%|          | 0/4 [00:00<?, ?it/s]"
      ]
     },
     "metadata": {},
     "output_type": "display_data"
    },
    {
     "data": {
      "application/vnd.jupyter.widget-view+json": {
       "model_id": "",
       "version_major": 2,
       "version_minor": 0
      },
      "text/plain": [
       "  0%|          | 0/10 [00:00<?, ?it/s]"
      ]
     },
     "metadata": {},
     "output_type": "display_data"
    },
    {
     "data": {
      "application/vnd.jupyter.widget-view+json": {
       "model_id": "",
       "version_major": 2,
       "version_minor": 0
      },
      "text/plain": [
       "seed:   0%|          | 0/4 [00:00<?, ?it/s]"
      ]
     },
     "metadata": {},
     "output_type": "display_data"
    },
    {
     "data": {
      "application/vnd.jupyter.widget-view+json": {
       "model_id": "",
       "version_major": 2,
       "version_minor": 0
      },
      "text/plain": [
       "  0%|          | 0/10 [00:00<?, ?it/s]"
      ]
     },
     "metadata": {},
     "output_type": "display_data"
    },
    {
     "data": {
      "application/vnd.jupyter.widget-view+json": {
       "model_id": "",
       "version_major": 2,
       "version_minor": 0
      },
      "text/plain": [
       "seed:   0%|          | 0/4 [00:00<?, ?it/s]"
      ]
     },
     "metadata": {},
     "output_type": "display_data"
    },
    {
     "data": {
      "application/vnd.jupyter.widget-view+json": {
       "model_id": "",
       "version_major": 2,
       "version_minor": 0
      },
      "text/plain": [
       "  0%|          | 0/10 [00:00<?, ?it/s]"
      ]
     },
     "metadata": {},
     "output_type": "display_data"
    }
   ],
   "source": [
    "seeds = range(4)\n",
    "inclinations = np.arange(56, 82, 2, dtype=float)\n",
    "\n",
    "data_fit = np.full((len(inclinations), len(seeds)), fill_value=np.nan)\n",
    "inc_prev = spin_pref = np.nan\n",
    "for i, inc in enumerate(tqdm(inclinations, desc='inc')):\n",
    "    for j, seed in enumerate(tqdm(seeds, desc='seed', leave=False)):\n",
    "        checkpoint_dir = recovery_path.joinpath(basename.format(inc, seed))\n",
    "        if os.path.exists(checkpoint_dir.joinpath('checkpoint_50000')):\n",
    "            if (inc_prev != inc) or (spin_prev != spin):\n",
    "                raytrace_args = image_plane_model_perturb_rays(np.deg2rad(inc), spin)\n",
    "                inc_prev, spin_prev = inc, spin\n",
    "            data_fit[i,j],_ = image_plane_fit(raytrace_args, checkpoint_dir, t_train, data_train)"
   ]
  },
  {
   "cell_type": "code",
   "execution_count": 17,
   "id": "319cff89-13b7-4814-93b7-e5fd010f6ef0",
   "metadata": {
    "tags": []
   },
   "outputs": [
    {
     "data": {
      "application/vnd.jupyter.widget-view+json": {
       "model_id": "d9121ecd17e84ac1961218f18602eff9",
       "version_major": 2,
       "version_minor": 0
      },
      "text/plain": [
       "inc:   0%|          | 0/39 [00:00<?, ?it/s]"
      ]
     },
     "metadata": {},
     "output_type": "display_data"
    },
    {
     "data": {
      "application/vnd.jupyter.widget-view+json": {
       "model_id": "",
       "version_major": 2,
       "version_minor": 0
      },
      "text/plain": [
       "seed:   0%|          | 0/4 [00:00<?, ?it/s]"
      ]
     },
     "metadata": {},
     "output_type": "display_data"
    },
    {
     "data": {
      "application/vnd.jupyter.widget-view+json": {
       "model_id": "",
       "version_major": 2,
       "version_minor": 0
      },
      "text/plain": [
       "  0%|          | 0/10 [00:00<?, ?it/s]"
      ]
     },
     "metadata": {},
     "output_type": "display_data"
    },
    {
     "data": {
      "application/vnd.jupyter.widget-view+json": {
       "model_id": "",
       "version_major": 2,
       "version_minor": 0
      },
      "text/plain": [
       "seed:   0%|          | 0/4 [00:00<?, ?it/s]"
      ]
     },
     "metadata": {},
     "output_type": "display_data"
    },
    {
     "data": {
      "application/vnd.jupyter.widget-view+json": {
       "model_id": "",
       "version_major": 2,
       "version_minor": 0
      },
      "text/plain": [
       "  0%|          | 0/10 [00:00<?, ?it/s]"
      ]
     },
     "metadata": {},
     "output_type": "display_data"
    },
    {
     "data": {
      "application/vnd.jupyter.widget-view+json": {
       "model_id": "",
       "version_major": 2,
       "version_minor": 0
      },
      "text/plain": [
       "seed:   0%|          | 0/4 [00:00<?, ?it/s]"
      ]
     },
     "metadata": {},
     "output_type": "display_data"
    },
    {
     "data": {
      "application/vnd.jupyter.widget-view+json": {
       "model_id": "",
       "version_major": 2,
       "version_minor": 0
      },
      "text/plain": [
       "  0%|          | 0/10 [00:00<?, ?it/s]"
      ]
     },
     "metadata": {},
     "output_type": "display_data"
    },
    {
     "data": {
      "application/vnd.jupyter.widget-view+json": {
       "model_id": "",
       "version_major": 2,
       "version_minor": 0
      },
      "text/plain": [
       "seed:   0%|          | 0/4 [00:00<?, ?it/s]"
      ]
     },
     "metadata": {},
     "output_type": "display_data"
    },
    {
     "data": {
      "application/vnd.jupyter.widget-view+json": {
       "model_id": "",
       "version_major": 2,
       "version_minor": 0
      },
      "text/plain": [
       "  0%|          | 0/10 [00:00<?, ?it/s]"
      ]
     },
     "metadata": {},
     "output_type": "display_data"
    },
    {
     "data": {
      "application/vnd.jupyter.widget-view+json": {
       "model_id": "",
       "version_major": 2,
       "version_minor": 0
      },
      "text/plain": [
       "seed:   0%|          | 0/4 [00:00<?, ?it/s]"
      ]
     },
     "metadata": {},
     "output_type": "display_data"
    },
    {
     "data": {
      "application/vnd.jupyter.widget-view+json": {
       "model_id": "",
       "version_major": 2,
       "version_minor": 0
      },
      "text/plain": [
       "  0%|          | 0/10 [00:00<?, ?it/s]"
      ]
     },
     "metadata": {},
     "output_type": "display_data"
    },
    {
     "data": {
      "application/vnd.jupyter.widget-view+json": {
       "model_id": "",
       "version_major": 2,
       "version_minor": 0
      },
      "text/plain": [
       "seed:   0%|          | 0/4 [00:00<?, ?it/s]"
      ]
     },
     "metadata": {},
     "output_type": "display_data"
    },
    {
     "data": {
      "application/vnd.jupyter.widget-view+json": {
       "model_id": "",
       "version_major": 2,
       "version_minor": 0
      },
      "text/plain": [
       "  0%|          | 0/10 [00:00<?, ?it/s]"
      ]
     },
     "metadata": {},
     "output_type": "display_data"
    },
    {
     "data": {
      "application/vnd.jupyter.widget-view+json": {
       "model_id": "",
       "version_major": 2,
       "version_minor": 0
      },
      "text/plain": [
       "seed:   0%|          | 0/4 [00:00<?, ?it/s]"
      ]
     },
     "metadata": {},
     "output_type": "display_data"
    },
    {
     "data": {
      "application/vnd.jupyter.widget-view+json": {
       "model_id": "",
       "version_major": 2,
       "version_minor": 0
      },
      "text/plain": [
       "  0%|          | 0/10 [00:00<?, ?it/s]"
      ]
     },
     "metadata": {},
     "output_type": "display_data"
    },
    {
     "data": {
      "application/vnd.jupyter.widget-view+json": {
       "model_id": "",
       "version_major": 2,
       "version_minor": 0
      },
      "text/plain": [
       "seed:   0%|          | 0/4 [00:00<?, ?it/s]"
      ]
     },
     "metadata": {},
     "output_type": "display_data"
    },
    {
     "data": {
      "application/vnd.jupyter.widget-view+json": {
       "model_id": "",
       "version_major": 2,
       "version_minor": 0
      },
      "text/plain": [
       "  0%|          | 0/10 [00:00<?, ?it/s]"
      ]
     },
     "metadata": {},
     "output_type": "display_data"
    },
    {
     "data": {
      "application/vnd.jupyter.widget-view+json": {
       "model_id": "",
       "version_major": 2,
       "version_minor": 0
      },
      "text/plain": [
       "seed:   0%|          | 0/4 [00:00<?, ?it/s]"
      ]
     },
     "metadata": {},
     "output_type": "display_data"
    },
    {
     "data": {
      "application/vnd.jupyter.widget-view+json": {
       "model_id": "",
       "version_major": 2,
       "version_minor": 0
      },
      "text/plain": [
       "  0%|          | 0/10 [00:00<?, ?it/s]"
      ]
     },
     "metadata": {},
     "output_type": "display_data"
    },
    {
     "data": {
      "application/vnd.jupyter.widget-view+json": {
       "model_id": "",
       "version_major": 2,
       "version_minor": 0
      },
      "text/plain": [
       "seed:   0%|          | 0/4 [00:00<?, ?it/s]"
      ]
     },
     "metadata": {},
     "output_type": "display_data"
    },
    {
     "data": {
      "application/vnd.jupyter.widget-view+json": {
       "model_id": "",
       "version_major": 2,
       "version_minor": 0
      },
      "text/plain": [
       "  0%|          | 0/10 [00:00<?, ?it/s]"
      ]
     },
     "metadata": {},
     "output_type": "display_data"
    },
    {
     "data": {
      "application/vnd.jupyter.widget-view+json": {
       "model_id": "",
       "version_major": 2,
       "version_minor": 0
      },
      "text/plain": [
       "seed:   0%|          | 0/4 [00:00<?, ?it/s]"
      ]
     },
     "metadata": {},
     "output_type": "display_data"
    },
    {
     "data": {
      "application/vnd.jupyter.widget-view+json": {
       "model_id": "",
       "version_major": 2,
       "version_minor": 0
      },
      "text/plain": [
       "  0%|          | 0/10 [00:00<?, ?it/s]"
      ]
     },
     "metadata": {},
     "output_type": "display_data"
    },
    {
     "data": {
      "application/vnd.jupyter.widget-view+json": {
       "model_id": "",
       "version_major": 2,
       "version_minor": 0
      },
      "text/plain": [
       "seed:   0%|          | 0/4 [00:00<?, ?it/s]"
      ]
     },
     "metadata": {},
     "output_type": "display_data"
    },
    {
     "data": {
      "application/vnd.jupyter.widget-view+json": {
       "model_id": "",
       "version_major": 2,
       "version_minor": 0
      },
      "text/plain": [
       "  0%|          | 0/10 [00:00<?, ?it/s]"
      ]
     },
     "metadata": {},
     "output_type": "display_data"
    },
    {
     "data": {
      "application/vnd.jupyter.widget-view+json": {
       "model_id": "",
       "version_major": 2,
       "version_minor": 0
      },
      "text/plain": [
       "seed:   0%|          | 0/4 [00:00<?, ?it/s]"
      ]
     },
     "metadata": {},
     "output_type": "display_data"
    },
    {
     "data": {
      "application/vnd.jupyter.widget-view+json": {
       "model_id": "",
       "version_major": 2,
       "version_minor": 0
      },
      "text/plain": [
       "  0%|          | 0/10 [00:00<?, ?it/s]"
      ]
     },
     "metadata": {},
     "output_type": "display_data"
    },
    {
     "data": {
      "application/vnd.jupyter.widget-view+json": {
       "model_id": "",
       "version_major": 2,
       "version_minor": 0
      },
      "text/plain": [
       "seed:   0%|          | 0/4 [00:00<?, ?it/s]"
      ]
     },
     "metadata": {},
     "output_type": "display_data"
    },
    {
     "data": {
      "application/vnd.jupyter.widget-view+json": {
       "model_id": "",
       "version_major": 2,
       "version_minor": 0
      },
      "text/plain": [
       "  0%|          | 0/10 [00:00<?, ?it/s]"
      ]
     },
     "metadata": {},
     "output_type": "display_data"
    },
    {
     "data": {
      "application/vnd.jupyter.widget-view+json": {
       "model_id": "",
       "version_major": 2,
       "version_minor": 0
      },
      "text/plain": [
       "seed:   0%|          | 0/4 [00:00<?, ?it/s]"
      ]
     },
     "metadata": {},
     "output_type": "display_data"
    },
    {
     "data": {
      "application/vnd.jupyter.widget-view+json": {
       "model_id": "",
       "version_major": 2,
       "version_minor": 0
      },
      "text/plain": [
       "  0%|          | 0/10 [00:00<?, ?it/s]"
      ]
     },
     "metadata": {},
     "output_type": "display_data"
    },
    {
     "data": {
      "application/vnd.jupyter.widget-view+json": {
       "model_id": "",
       "version_major": 2,
       "version_minor": 0
      },
      "text/plain": [
       "seed:   0%|          | 0/4 [00:00<?, ?it/s]"
      ]
     },
     "metadata": {},
     "output_type": "display_data"
    },
    {
     "data": {
      "application/vnd.jupyter.widget-view+json": {
       "model_id": "",
       "version_major": 2,
       "version_minor": 0
      },
      "text/plain": [
       "  0%|          | 0/10 [00:00<?, ?it/s]"
      ]
     },
     "metadata": {},
     "output_type": "display_data"
    },
    {
     "data": {
      "application/vnd.jupyter.widget-view+json": {
       "model_id": "",
       "version_major": 2,
       "version_minor": 0
      },
      "text/plain": [
       "seed:   0%|          | 0/4 [00:00<?, ?it/s]"
      ]
     },
     "metadata": {},
     "output_type": "display_data"
    },
    {
     "data": {
      "application/vnd.jupyter.widget-view+json": {
       "model_id": "",
       "version_major": 2,
       "version_minor": 0
      },
      "text/plain": [
       "  0%|          | 0/10 [00:00<?, ?it/s]"
      ]
     },
     "metadata": {},
     "output_type": "display_data"
    },
    {
     "data": {
      "application/vnd.jupyter.widget-view+json": {
       "model_id": "",
       "version_major": 2,
       "version_minor": 0
      },
      "text/plain": [
       "seed:   0%|          | 0/4 [00:00<?, ?it/s]"
      ]
     },
     "metadata": {},
     "output_type": "display_data"
    },
    {
     "data": {
      "application/vnd.jupyter.widget-view+json": {
       "model_id": "",
       "version_major": 2,
       "version_minor": 0
      },
      "text/plain": [
       "  0%|          | 0/10 [00:00<?, ?it/s]"
      ]
     },
     "metadata": {},
     "output_type": "display_data"
    },
    {
     "data": {
      "application/vnd.jupyter.widget-view+json": {
       "model_id": "",
       "version_major": 2,
       "version_minor": 0
      },
      "text/plain": [
       "seed:   0%|          | 0/4 [00:00<?, ?it/s]"
      ]
     },
     "metadata": {},
     "output_type": "display_data"
    },
    {
     "data": {
      "application/vnd.jupyter.widget-view+json": {
       "model_id": "",
       "version_major": 2,
       "version_minor": 0
      },
      "text/plain": [
       "  0%|          | 0/10 [00:00<?, ?it/s]"
      ]
     },
     "metadata": {},
     "output_type": "display_data"
    },
    {
     "data": {
      "application/vnd.jupyter.widget-view+json": {
       "model_id": "",
       "version_major": 2,
       "version_minor": 0
      },
      "text/plain": [
       "seed:   0%|          | 0/4 [00:00<?, ?it/s]"
      ]
     },
     "metadata": {},
     "output_type": "display_data"
    },
    {
     "data": {
      "application/vnd.jupyter.widget-view+json": {
       "model_id": "",
       "version_major": 2,
       "version_minor": 0
      },
      "text/plain": [
       "  0%|          | 0/10 [00:00<?, ?it/s]"
      ]
     },
     "metadata": {},
     "output_type": "display_data"
    },
    {
     "data": {
      "application/vnd.jupyter.widget-view+json": {
       "model_id": "",
       "version_major": 2,
       "version_minor": 0
      },
      "text/plain": [
       "seed:   0%|          | 0/4 [00:00<?, ?it/s]"
      ]
     },
     "metadata": {},
     "output_type": "display_data"
    },
    {
     "data": {
      "application/vnd.jupyter.widget-view+json": {
       "model_id": "",
       "version_major": 2,
       "version_minor": 0
      },
      "text/plain": [
       "  0%|          | 0/10 [00:00<?, ?it/s]"
      ]
     },
     "metadata": {},
     "output_type": "display_data"
    },
    {
     "data": {
      "application/vnd.jupyter.widget-view+json": {
       "model_id": "",
       "version_major": 2,
       "version_minor": 0
      },
      "text/plain": [
       "seed:   0%|          | 0/4 [00:00<?, ?it/s]"
      ]
     },
     "metadata": {},
     "output_type": "display_data"
    },
    {
     "data": {
      "application/vnd.jupyter.widget-view+json": {
       "model_id": "",
       "version_major": 2,
       "version_minor": 0
      },
      "text/plain": [
       "  0%|          | 0/10 [00:00<?, ?it/s]"
      ]
     },
     "metadata": {},
     "output_type": "display_data"
    },
    {
     "data": {
      "application/vnd.jupyter.widget-view+json": {
       "model_id": "",
       "version_major": 2,
       "version_minor": 0
      },
      "text/plain": [
       "seed:   0%|          | 0/4 [00:00<?, ?it/s]"
      ]
     },
     "metadata": {},
     "output_type": "display_data"
    },
    {
     "data": {
      "application/vnd.jupyter.widget-view+json": {
       "model_id": "",
       "version_major": 2,
       "version_minor": 0
      },
      "text/plain": [
       "  0%|          | 0/10 [00:00<?, ?it/s]"
      ]
     },
     "metadata": {},
     "output_type": "display_data"
    },
    {
     "data": {
      "application/vnd.jupyter.widget-view+json": {
       "model_id": "",
       "version_major": 2,
       "version_minor": 0
      },
      "text/plain": [
       "seed:   0%|          | 0/4 [00:00<?, ?it/s]"
      ]
     },
     "metadata": {},
     "output_type": "display_data"
    },
    {
     "data": {
      "application/vnd.jupyter.widget-view+json": {
       "model_id": "",
       "version_major": 2,
       "version_minor": 0
      },
      "text/plain": [
       "  0%|          | 0/10 [00:00<?, ?it/s]"
      ]
     },
     "metadata": {},
     "output_type": "display_data"
    },
    {
     "data": {
      "application/vnd.jupyter.widget-view+json": {
       "model_id": "",
       "version_major": 2,
       "version_minor": 0
      },
      "text/plain": [
       "seed:   0%|          | 0/4 [00:00<?, ?it/s]"
      ]
     },
     "metadata": {},
     "output_type": "display_data"
    },
    {
     "data": {
      "application/vnd.jupyter.widget-view+json": {
       "model_id": "",
       "version_major": 2,
       "version_minor": 0
      },
      "text/plain": [
       "  0%|          | 0/10 [00:00<?, ?it/s]"
      ]
     },
     "metadata": {},
     "output_type": "display_data"
    },
    {
     "data": {
      "application/vnd.jupyter.widget-view+json": {
       "model_id": "",
       "version_major": 2,
       "version_minor": 0
      },
      "text/plain": [
       "seed:   0%|          | 0/4 [00:00<?, ?it/s]"
      ]
     },
     "metadata": {},
     "output_type": "display_data"
    },
    {
     "data": {
      "application/vnd.jupyter.widget-view+json": {
       "model_id": "",
       "version_major": 2,
       "version_minor": 0
      },
      "text/plain": [
       "  0%|          | 0/10 [00:00<?, ?it/s]"
      ]
     },
     "metadata": {},
     "output_type": "display_data"
    },
    {
     "data": {
      "application/vnd.jupyter.widget-view+json": {
       "model_id": "",
       "version_major": 2,
       "version_minor": 0
      },
      "text/plain": [
       "seed:   0%|          | 0/4 [00:00<?, ?it/s]"
      ]
     },
     "metadata": {},
     "output_type": "display_data"
    },
    {
     "data": {
      "application/vnd.jupyter.widget-view+json": {
       "model_id": "",
       "version_major": 2,
       "version_minor": 0
      },
      "text/plain": [
       "  0%|          | 0/10 [00:00<?, ?it/s]"
      ]
     },
     "metadata": {},
     "output_type": "display_data"
    },
    {
     "data": {
      "application/vnd.jupyter.widget-view+json": {
       "model_id": "",
       "version_major": 2,
       "version_minor": 0
      },
      "text/plain": [
       "seed:   0%|          | 0/4 [00:00<?, ?it/s]"
      ]
     },
     "metadata": {},
     "output_type": "display_data"
    },
    {
     "data": {
      "application/vnd.jupyter.widget-view+json": {
       "model_id": "",
       "version_major": 2,
       "version_minor": 0
      },
      "text/plain": [
       "  0%|          | 0/10 [00:00<?, ?it/s]"
      ]
     },
     "metadata": {},
     "output_type": "display_data"
    },
    {
     "data": {
      "application/vnd.jupyter.widget-view+json": {
       "model_id": "",
       "version_major": 2,
       "version_minor": 0
      },
      "text/plain": [
       "seed:   0%|          | 0/4 [00:00<?, ?it/s]"
      ]
     },
     "metadata": {},
     "output_type": "display_data"
    },
    {
     "data": {
      "application/vnd.jupyter.widget-view+json": {
       "model_id": "",
       "version_major": 2,
       "version_minor": 0
      },
      "text/plain": [
       "  0%|          | 0/10 [00:00<?, ?it/s]"
      ]
     },
     "metadata": {},
     "output_type": "display_data"
    },
    {
     "data": {
      "application/vnd.jupyter.widget-view+json": {
       "model_id": "",
       "version_major": 2,
       "version_minor": 0
      },
      "text/plain": [
       "seed:   0%|          | 0/4 [00:00<?, ?it/s]"
      ]
     },
     "metadata": {},
     "output_type": "display_data"
    },
    {
     "data": {
      "application/vnd.jupyter.widget-view+json": {
       "model_id": "",
       "version_major": 2,
       "version_minor": 0
      },
      "text/plain": [
       "  0%|          | 0/10 [00:00<?, ?it/s]"
      ]
     },
     "metadata": {},
     "output_type": "display_data"
    },
    {
     "data": {
      "application/vnd.jupyter.widget-view+json": {
       "model_id": "",
       "version_major": 2,
       "version_minor": 0
      },
      "text/plain": [
       "seed:   0%|          | 0/4 [00:00<?, ?it/s]"
      ]
     },
     "metadata": {},
     "output_type": "display_data"
    },
    {
     "data": {
      "application/vnd.jupyter.widget-view+json": {
       "model_id": "",
       "version_major": 2,
       "version_minor": 0
      },
      "text/plain": [
       "  0%|          | 0/10 [00:00<?, ?it/s]"
      ]
     },
     "metadata": {},
     "output_type": "display_data"
    },
    {
     "data": {
      "application/vnd.jupyter.widget-view+json": {
       "model_id": "",
       "version_major": 2,
       "version_minor": 0
      },
      "text/plain": [
       "seed:   0%|          | 0/4 [00:00<?, ?it/s]"
      ]
     },
     "metadata": {},
     "output_type": "display_data"
    },
    {
     "data": {
      "application/vnd.jupyter.widget-view+json": {
       "model_id": "",
       "version_major": 2,
       "version_minor": 0
      },
      "text/plain": [
       "  0%|          | 0/10 [00:00<?, ?it/s]"
      ]
     },
     "metadata": {},
     "output_type": "display_data"
    },
    {
     "data": {
      "application/vnd.jupyter.widget-view+json": {
       "model_id": "",
       "version_major": 2,
       "version_minor": 0
      },
      "text/plain": [
       "seed:   0%|          | 0/4 [00:00<?, ?it/s]"
      ]
     },
     "metadata": {},
     "output_type": "display_data"
    },
    {
     "data": {
      "application/vnd.jupyter.widget-view+json": {
       "model_id": "",
       "version_major": 2,
       "version_minor": 0
      },
      "text/plain": [
       "  0%|          | 0/10 [00:00<?, ?it/s]"
      ]
     },
     "metadata": {},
     "output_type": "display_data"
    },
    {
     "data": {
      "application/vnd.jupyter.widget-view+json": {
       "model_id": "",
       "version_major": 2,
       "version_minor": 0
      },
      "text/plain": [
       "seed:   0%|          | 0/4 [00:00<?, ?it/s]"
      ]
     },
     "metadata": {},
     "output_type": "display_data"
    },
    {
     "data": {
      "application/vnd.jupyter.widget-view+json": {
       "model_id": "",
       "version_major": 2,
       "version_minor": 0
      },
      "text/plain": [
       "  0%|          | 0/10 [00:00<?, ?it/s]"
      ]
     },
     "metadata": {},
     "output_type": "display_data"
    },
    {
     "data": {
      "application/vnd.jupyter.widget-view+json": {
       "model_id": "",
       "version_major": 2,
       "version_minor": 0
      },
      "text/plain": [
       "seed:   0%|          | 0/4 [00:00<?, ?it/s]"
      ]
     },
     "metadata": {},
     "output_type": "display_data"
    },
    {
     "data": {
      "application/vnd.jupyter.widget-view+json": {
       "model_id": "",
       "version_major": 2,
       "version_minor": 0
      },
      "text/plain": [
       "  0%|          | 0/10 [00:00<?, ?it/s]"
      ]
     },
     "metadata": {},
     "output_type": "display_data"
    },
    {
     "data": {
      "application/vnd.jupyter.widget-view+json": {
       "model_id": "",
       "version_major": 2,
       "version_minor": 0
      },
      "text/plain": [
       "seed:   0%|          | 0/4 [00:00<?, ?it/s]"
      ]
     },
     "metadata": {},
     "output_type": "display_data"
    },
    {
     "data": {
      "application/vnd.jupyter.widget-view+json": {
       "model_id": "",
       "version_major": 2,
       "version_minor": 0
      },
      "text/plain": [
       "  0%|          | 0/10 [00:00<?, ?it/s]"
      ]
     },
     "metadata": {},
     "output_type": "display_data"
    },
    {
     "data": {
      "application/vnd.jupyter.widget-view+json": {
       "model_id": "",
       "version_major": 2,
       "version_minor": 0
      },
      "text/plain": [
       "seed:   0%|          | 0/4 [00:00<?, ?it/s]"
      ]
     },
     "metadata": {},
     "output_type": "display_data"
    },
    {
     "data": {
      "application/vnd.jupyter.widget-view+json": {
       "model_id": "",
       "version_major": 2,
       "version_minor": 0
      },
      "text/plain": [
       "  0%|          | 0/10 [00:00<?, ?it/s]"
      ]
     },
     "metadata": {},
     "output_type": "display_data"
    },
    {
     "data": {
      "application/vnd.jupyter.widget-view+json": {
       "model_id": "",
       "version_major": 2,
       "version_minor": 0
      },
      "text/plain": [
       "seed:   0%|          | 0/4 [00:00<?, ?it/s]"
      ]
     },
     "metadata": {},
     "output_type": "display_data"
    },
    {
     "data": {
      "application/vnd.jupyter.widget-view+json": {
       "model_id": "",
       "version_major": 2,
       "version_minor": 0
      },
      "text/plain": [
       "  0%|          | 0/10 [00:00<?, ?it/s]"
      ]
     },
     "metadata": {},
     "output_type": "display_data"
    },
    {
     "data": {
      "application/vnd.jupyter.widget-view+json": {
       "model_id": "",
       "version_major": 2,
       "version_minor": 0
      },
      "text/plain": [
       "seed:   0%|          | 0/4 [00:00<?, ?it/s]"
      ]
     },
     "metadata": {},
     "output_type": "display_data"
    },
    {
     "data": {
      "application/vnd.jupyter.widget-view+json": {
       "model_id": "",
       "version_major": 2,
       "version_minor": 0
      },
      "text/plain": [
       "  0%|          | 0/10 [00:00<?, ?it/s]"
      ]
     },
     "metadata": {},
     "output_type": "display_data"
    }
   ],
   "source": [
    "seeds = range(4)\n",
    "inclinations = np.arange(4, 82, 2, dtype=float)\n",
    "\n",
    "data_fit = np.full((len(inclinations), len(seeds)), fill_value=np.nan)\n",
    "validation_fit = np.full((len(inclinations), len(seeds)), fill_value=np.nan)\n",
    "inc_prev = spin_pref = np.nan\n",
    "for i, inc in enumerate(tqdm(inclinations, desc='inc')):\n",
    "    for j, seed in enumerate(tqdm(seeds, desc='seed', leave=False)):\n",
    "        checkpoint_dir = recovery_path.joinpath(basename.format(inc, seed))\n",
    "        if os.path.exists(checkpoint_dir.joinpath('checkpoint_50000')):\n",
    "            if (inc_prev != inc) or (spin_prev != spin):\n",
    "                raytrace_args = image_plane_model_perturb_rays(np.deg2rad(inc), spin)\n",
    "                inc_prev, spin_prev = inc, spin\n",
    "            data_fit[i,j],_ = image_plane_fit(raytrace_args, checkpoint_dir, t_train, data_train)\n",
    "            validation_fit[i,j],_ = image_plane_fit(raytrace_args, checkpoint_dir, t_val, data_val)\n",
    "            \n",
    "data_fit_df = pd.DataFrame(data_fit, index=inclinations, columns=['seed 0', 'seed 1', 'seed 2', 'seed 3'])\n",
    "validation_fit_df = pd.DataFrame(validation_fit, index=inclinations, columns=['seed 0', 'seed 1', 'seed 2', 'seed 3'])\n",
    "data_fit_df.index.name = 'inc'\n",
    "validation_fit_df.index.name = 'inc'\n",
    "data_fit_df.to_csv(recovery_path.joinpath('inclination_loss_subrays_{}.csv'.format(num_subrays)))\n",
    "validation_fit_df.to_csv(recovery_path.joinpath('inclination_loss_validation_subrays_{}.csv'.format(num_subrays)))"
   ]
  },
  {
   "cell_type": "code",
   "execution_count": 19,
   "id": "64adebee-67c5-4962-80e9-0325d85b99be",
   "metadata": {},
   "outputs": [
    {
     "data": {
      "application/vnd.jupyter.widget-view+json": {
       "model_id": "346ce1a0c7794f82bfda3da77e837d9b",
       "version_major": 2,
       "version_minor": 0
      },
      "text/plain": [
       "Canvas(toolbar=Toolbar(toolitems=[('Home', 'Reset original view', 'home', 'home'), ('Back', 'Back to previous …"
      ]
     },
     "metadata": {},
     "output_type": "display_data"
    }
   ],
   "source": [
    "inc_loss = pd.read_csv(recovery_path.joinpath('inclination_loss_subrays_10.csv'), index_col=0)\n",
    "\n",
    "\n",
    "plt.rcParams.update({\"text.usetex\": True, \"font.family\": \"Helvetica\"})\n",
    "\n",
    "%matplotlib widget\n",
    "plt.figure(figsize=(5,4))\n",
    "plt.errorbar(inc_loss.index, np.nanmean(np.log10(inc_loss), axis=1), np.nanstd(np.log10(inc_loss), axis=1), color='tab:orange', marker='^', mfc='r', mec='r', label='data', markersize=5)\n",
    "#plt.plot(inclinations, np.log10(data_fit), markersize=5)\n",
    "# plt.errorbar(inclinations, np.nanmean(np.log(validation_fit), axis=1), np.nanstd(np.log(validation_fit), axis=1), color='tab:blue', marker='o', mfc='blue', mec='blue', label='validation', markersize=4)\n",
    "plt.title(r'Inclination data-fit: $\\log \\chi^2(\\theta | {\\bf w}^\\star)$', fontsize=16)\n",
    "plt.xticks(fontsize='14')\n",
    "plt.yticks(fontsize='14')\n",
    "plt.axhline(0, color='black', linestyle='--',linewidth=0.75)\n",
    "plt.axvline(inc_true, color='black', linestyle='--',linewidth=1.3)\n",
    "plt.text(inc_true*1.01, 8.5, r'$\\theta_{\\rm true}$', fontsize=16)\n",
    "plt.legend()\n",
    "plt.xticks([20,30,40,50,60,70,80])\n",
    "plt.savefig(recovery_path.joinpath('inclination_loss_log_subrays_10.pdf'))"
   ]
  },
  {
   "cell_type": "code",
   "execution_count": 16,
   "id": "c8e90d1a-859d-4527-8647-a30bdc9c4ead",
   "metadata": {
    "tags": []
   },
   "outputs": [
    {
     "data": {
      "application/vnd.jupyter.widget-view+json": {
       "model_id": "3cb71cbbbf7a40de873a8246e2af6c33",
       "version_major": 2,
       "version_minor": 0
      },
      "text/plain": [
       "inc:   0%|          | 0/39 [00:00<?, ?it/s]"
      ]
     },
     "metadata": {},
     "output_type": "display_data"
    },
    {
     "data": {
      "application/vnd.jupyter.widget-view+json": {
       "model_id": "",
       "version_major": 2,
       "version_minor": 0
      },
      "text/plain": [
       "seed:   0%|          | 0/4 [00:00<?, ?it/s]"
      ]
     },
     "metadata": {},
     "output_type": "display_data"
    },
    {
     "data": {
      "application/vnd.jupyter.widget-view+json": {
       "model_id": "",
       "version_major": 2,
       "version_minor": 0
      },
      "text/plain": [
       "seed:   0%|          | 0/4 [00:00<?, ?it/s]"
      ]
     },
     "metadata": {},
     "output_type": "display_data"
    },
    {
     "data": {
      "application/vnd.jupyter.widget-view+json": {
       "model_id": "",
       "version_major": 2,
       "version_minor": 0
      },
      "text/plain": [
       "seed:   0%|          | 0/4 [00:00<?, ?it/s]"
      ]
     },
     "metadata": {},
     "output_type": "display_data"
    },
    {
     "data": {
      "application/vnd.jupyter.widget-view+json": {
       "model_id": "",
       "version_major": 2,
       "version_minor": 0
      },
      "text/plain": [
       "seed:   0%|          | 0/4 [00:00<?, ?it/s]"
      ]
     },
     "metadata": {},
     "output_type": "display_data"
    },
    {
     "data": {
      "application/vnd.jupyter.widget-view+json": {
       "model_id": "",
       "version_major": 2,
       "version_minor": 0
      },
      "text/plain": [
       "seed:   0%|          | 0/4 [00:00<?, ?it/s]"
      ]
     },
     "metadata": {},
     "output_type": "display_data"
    },
    {
     "data": {
      "application/vnd.jupyter.widget-view+json": {
       "model_id": "",
       "version_major": 2,
       "version_minor": 0
      },
      "text/plain": [
       "seed:   0%|          | 0/4 [00:00<?, ?it/s]"
      ]
     },
     "metadata": {},
     "output_type": "display_data"
    },
    {
     "data": {
      "application/vnd.jupyter.widget-view+json": {
       "model_id": "",
       "version_major": 2,
       "version_minor": 0
      },
      "text/plain": [
       "seed:   0%|          | 0/4 [00:00<?, ?it/s]"
      ]
     },
     "metadata": {},
     "output_type": "display_data"
    },
    {
     "data": {
      "application/vnd.jupyter.widget-view+json": {
       "model_id": "",
       "version_major": 2,
       "version_minor": 0
      },
      "text/plain": [
       "seed:   0%|          | 0/4 [00:00<?, ?it/s]"
      ]
     },
     "metadata": {},
     "output_type": "display_data"
    },
    {
     "data": {
      "application/vnd.jupyter.widget-view+json": {
       "model_id": "",
       "version_major": 2,
       "version_minor": 0
      },
      "text/plain": [
       "seed:   0%|          | 0/4 [00:00<?, ?it/s]"
      ]
     },
     "metadata": {},
     "output_type": "display_data"
    },
    {
     "data": {
      "application/vnd.jupyter.widget-view+json": {
       "model_id": "",
       "version_major": 2,
       "version_minor": 0
      },
      "text/plain": [
       "seed:   0%|          | 0/4 [00:00<?, ?it/s]"
      ]
     },
     "metadata": {},
     "output_type": "display_data"
    },
    {
     "data": {
      "application/vnd.jupyter.widget-view+json": {
       "model_id": "",
       "version_major": 2,
       "version_minor": 0
      },
      "text/plain": [
       "seed:   0%|          | 0/4 [00:00<?, ?it/s]"
      ]
     },
     "metadata": {},
     "output_type": "display_data"
    },
    {
     "data": {
      "application/vnd.jupyter.widget-view+json": {
       "model_id": "",
       "version_major": 2,
       "version_minor": 0
      },
      "text/plain": [
       "seed:   0%|          | 0/4 [00:00<?, ?it/s]"
      ]
     },
     "metadata": {},
     "output_type": "display_data"
    },
    {
     "data": {
      "application/vnd.jupyter.widget-view+json": {
       "model_id": "",
       "version_major": 2,
       "version_minor": 0
      },
      "text/plain": [
       "seed:   0%|          | 0/4 [00:00<?, ?it/s]"
      ]
     },
     "metadata": {},
     "output_type": "display_data"
    },
    {
     "data": {
      "application/vnd.jupyter.widget-view+json": {
       "model_id": "",
       "version_major": 2,
       "version_minor": 0
      },
      "text/plain": [
       "seed:   0%|          | 0/4 [00:00<?, ?it/s]"
      ]
     },
     "metadata": {},
     "output_type": "display_data"
    },
    {
     "data": {
      "application/vnd.jupyter.widget-view+json": {
       "model_id": "",
       "version_major": 2,
       "version_minor": 0
      },
      "text/plain": [
       "seed:   0%|          | 0/4 [00:00<?, ?it/s]"
      ]
     },
     "metadata": {},
     "output_type": "display_data"
    },
    {
     "data": {
      "application/vnd.jupyter.widget-view+json": {
       "model_id": "",
       "version_major": 2,
       "version_minor": 0
      },
      "text/plain": [
       "seed:   0%|          | 0/4 [00:00<?, ?it/s]"
      ]
     },
     "metadata": {},
     "output_type": "display_data"
    },
    {
     "data": {
      "application/vnd.jupyter.widget-view+json": {
       "model_id": "",
       "version_major": 2,
       "version_minor": 0
      },
      "text/plain": [
       "seed:   0%|          | 0/4 [00:00<?, ?it/s]"
      ]
     },
     "metadata": {},
     "output_type": "display_data"
    },
    {
     "data": {
      "application/vnd.jupyter.widget-view+json": {
       "model_id": "",
       "version_major": 2,
       "version_minor": 0
      },
      "text/plain": [
       "seed:   0%|          | 0/4 [00:00<?, ?it/s]"
      ]
     },
     "metadata": {},
     "output_type": "display_data"
    },
    {
     "data": {
      "application/vnd.jupyter.widget-view+json": {
       "model_id": "",
       "version_major": 2,
       "version_minor": 0
      },
      "text/plain": [
       "seed:   0%|          | 0/4 [00:00<?, ?it/s]"
      ]
     },
     "metadata": {},
     "output_type": "display_data"
    },
    {
     "data": {
      "application/vnd.jupyter.widget-view+json": {
       "model_id": "",
       "version_major": 2,
       "version_minor": 0
      },
      "text/plain": [
       "seed:   0%|          | 0/4 [00:00<?, ?it/s]"
      ]
     },
     "metadata": {},
     "output_type": "display_data"
    },
    {
     "data": {
      "application/vnd.jupyter.widget-view+json": {
       "model_id": "",
       "version_major": 2,
       "version_minor": 0
      },
      "text/plain": [
       "seed:   0%|          | 0/4 [00:00<?, ?it/s]"
      ]
     },
     "metadata": {},
     "output_type": "display_data"
    },
    {
     "data": {
      "application/vnd.jupyter.widget-view+json": {
       "model_id": "",
       "version_major": 2,
       "version_minor": 0
      },
      "text/plain": [
       "seed:   0%|          | 0/4 [00:00<?, ?it/s]"
      ]
     },
     "metadata": {},
     "output_type": "display_data"
    },
    {
     "data": {
      "application/vnd.jupyter.widget-view+json": {
       "model_id": "",
       "version_major": 2,
       "version_minor": 0
      },
      "text/plain": [
       "seed:   0%|          | 0/4 [00:00<?, ?it/s]"
      ]
     },
     "metadata": {},
     "output_type": "display_data"
    },
    {
     "data": {
      "application/vnd.jupyter.widget-view+json": {
       "model_id": "",
       "version_major": 2,
       "version_minor": 0
      },
      "text/plain": [
       "seed:   0%|          | 0/4 [00:00<?, ?it/s]"
      ]
     },
     "metadata": {},
     "output_type": "display_data"
    },
    {
     "data": {
      "application/vnd.jupyter.widget-view+json": {
       "model_id": "",
       "version_major": 2,
       "version_minor": 0
      },
      "text/plain": [
       "seed:   0%|          | 0/4 [00:00<?, ?it/s]"
      ]
     },
     "metadata": {},
     "output_type": "display_data"
    },
    {
     "data": {
      "application/vnd.jupyter.widget-view+json": {
       "model_id": "",
       "version_major": 2,
       "version_minor": 0
      },
      "text/plain": [
       "seed:   0%|          | 0/4 [00:00<?, ?it/s]"
      ]
     },
     "metadata": {},
     "output_type": "display_data"
    },
    {
     "data": {
      "application/vnd.jupyter.widget-view+json": {
       "model_id": "",
       "version_major": 2,
       "version_minor": 0
      },
      "text/plain": [
       "seed:   0%|          | 0/4 [00:00<?, ?it/s]"
      ]
     },
     "metadata": {},
     "output_type": "display_data"
    },
    {
     "data": {
      "application/vnd.jupyter.widget-view+json": {
       "model_id": "",
       "version_major": 2,
       "version_minor": 0
      },
      "text/plain": [
       "seed:   0%|          | 0/4 [00:00<?, ?it/s]"
      ]
     },
     "metadata": {},
     "output_type": "display_data"
    },
    {
     "data": {
      "application/vnd.jupyter.widget-view+json": {
       "model_id": "",
       "version_major": 2,
       "version_minor": 0
      },
      "text/plain": [
       "seed:   0%|          | 0/4 [00:00<?, ?it/s]"
      ]
     },
     "metadata": {},
     "output_type": "display_data"
    },
    {
     "data": {
      "application/vnd.jupyter.widget-view+json": {
       "model_id": "",
       "version_major": 2,
       "version_minor": 0
      },
      "text/plain": [
       "seed:   0%|          | 0/4 [00:00<?, ?it/s]"
      ]
     },
     "metadata": {},
     "output_type": "display_data"
    },
    {
     "data": {
      "application/vnd.jupyter.widget-view+json": {
       "model_id": "",
       "version_major": 2,
       "version_minor": 0
      },
      "text/plain": [
       "seed:   0%|          | 0/4 [00:00<?, ?it/s]"
      ]
     },
     "metadata": {},
     "output_type": "display_data"
    },
    {
     "data": {
      "application/vnd.jupyter.widget-view+json": {
       "model_id": "",
       "version_major": 2,
       "version_minor": 0
      },
      "text/plain": [
       "seed:   0%|          | 0/4 [00:00<?, ?it/s]"
      ]
     },
     "metadata": {},
     "output_type": "display_data"
    },
    {
     "data": {
      "application/vnd.jupyter.widget-view+json": {
       "model_id": "",
       "version_major": 2,
       "version_minor": 0
      },
      "text/plain": [
       "seed:   0%|          | 0/4 [00:00<?, ?it/s]"
      ]
     },
     "metadata": {},
     "output_type": "display_data"
    },
    {
     "data": {
      "application/vnd.jupyter.widget-view+json": {
       "model_id": "",
       "version_major": 2,
       "version_minor": 0
      },
      "text/plain": [
       "seed:   0%|          | 0/4 [00:00<?, ?it/s]"
      ]
     },
     "metadata": {},
     "output_type": "display_data"
    },
    {
     "data": {
      "application/vnd.jupyter.widget-view+json": {
       "model_id": "",
       "version_major": 2,
       "version_minor": 0
      },
      "text/plain": [
       "seed:   0%|          | 0/4 [00:00<?, ?it/s]"
      ]
     },
     "metadata": {},
     "output_type": "display_data"
    },
    {
     "data": {
      "application/vnd.jupyter.widget-view+json": {
       "model_id": "",
       "version_major": 2,
       "version_minor": 0
      },
      "text/plain": [
       "seed:   0%|          | 0/4 [00:00<?, ?it/s]"
      ]
     },
     "metadata": {},
     "output_type": "display_data"
    },
    {
     "data": {
      "application/vnd.jupyter.widget-view+json": {
       "model_id": "",
       "version_major": 2,
       "version_minor": 0
      },
      "text/plain": [
       "seed:   0%|          | 0/4 [00:00<?, ?it/s]"
      ]
     },
     "metadata": {},
     "output_type": "display_data"
    },
    {
     "data": {
      "application/vnd.jupyter.widget-view+json": {
       "model_id": "",
       "version_major": 2,
       "version_minor": 0
      },
      "text/plain": [
       "seed:   0%|          | 0/4 [00:00<?, ?it/s]"
      ]
     },
     "metadata": {},
     "output_type": "display_data"
    },
    {
     "data": {
      "application/vnd.jupyter.widget-view+json": {
       "model_id": "",
       "version_major": 2,
       "version_minor": 0
      },
      "text/plain": [
       "seed:   0%|          | 0/4 [00:00<?, ?it/s]"
      ]
     },
     "metadata": {},
     "output_type": "display_data"
    }
   ],
   "source": [
    "seeds = range(4)\n",
    "inclinations = np.arange(4, 82, 2, dtype=float)\n",
    "\n",
    "data_fit = np.full((len(inclinations), len(seeds)), fill_value=np.nan)\n",
    "inc_prev = spin_pref = np.nan\n",
    "for i, inc in enumerate(tqdm(inclinations, desc='inc')):\n",
    "    for j, seed in enumerate(tqdm(seeds, desc='seed', leave=False)):\n",
    "        checkpoint_dir = recovery_path.joinpath(basename.format(inc, seed))\n",
    "        if os.path.exists(checkpoint_dir.joinpath('checkpoint_50000')):\n",
    "            if (inc_prev != inc) or (spin_prev != spin):\n",
    "                raytrace_args = image_plane_model(np.deg2rad(inc), spin)\n",
    "                inc_prev, spin_prev = inc, spin\n",
    "            data_fit[i,j],_ = image_plane_fit(raytrace_args, checkpoint_dir, t_train, data_train)\n",
    "            \n",
    "data_fit_df = pd.DataFrame(data_fit, index=inclinations, columns=['seed 0', 'seed 1', 'seed 2', 'seed 3'])\n",
    "data_fit_df.index.name = 'inc'\n",
    "data_fit_df.to_csv(recovery_path.joinpath('inclination_loss.csv'))"
   ]
  },
  {
   "cell_type": "code",
   "execution_count": 24,
   "id": "a6b3fb6a-54f9-4654-9879-c6253b377050",
   "metadata": {},
   "outputs": [
    {
     "data": {
      "application/vnd.jupyter.widget-view+json": {
       "model_id": "73836d7e7d9c491fb68ea76dd8177532",
       "version_major": 2,
       "version_minor": 0
      },
      "text/plain": [
       "Canvas(toolbar=Toolbar(toolitems=[('Home', 'Reset original view', 'home', 'home'), ('Back', 'Back to previous …"
      ]
     },
     "metadata": {},
     "output_type": "display_data"
    }
   ],
   "source": [
    "inc_loss = pd.read_csv(recovery_path.joinpath('inclination_loss.csv'), index_col=0)\n",
    "\n",
    "plt.rcParams.update({\"text.usetex\": True, \"font.family\": \"Helvetica\"})\n",
    "\n",
    "%matplotlib widget\n",
    "plt.figure(figsize=(5,4))\n",
    "plt.errorbar(inclinations, np.nanmean(np.log10(inc_loss), axis=1), np.nanstd(np.log10(inc_loss), axis=1), color='tab:orange', marker='^', mfc='r', mec='r', label='data', markersize=5)\n",
    "#plt.plot(inclinations, np.log10(data_fit), markersize=5)\n",
    "# plt.errorbar(inclinations, np.nanmean(np.log(validation_fit), axis=1), np.nanstd(np.log(validation_fit), axis=1), color='tab:blue', marker='o', mfc='blue', mec='blue', label='validation', markersize=4)\n",
    "plt.title(r'Inclination data-fit: $\\log \\chi^2(\\theta | {\\bf w}^\\star)$', fontsize=16)\n",
    "plt.xticks(fontsize='14')\n",
    "plt.yticks(fontsize='14')\n",
    "plt.axhline(0, color='black', linestyle='--',linewidth=0.75)\n",
    "plt.axvline(inc_true, color='black', linestyle='--',linewidth=1.3)\n",
    "plt.text(inc_true*1.01, 8.5, r'$\\theta_{\\rm true}$', fontsize=16)\n",
    "plt.legend()\n",
    "plt.savefig(recovery_path.joinpath('inclination_loss_log.pdf'))"
   ]
  },
  {
   "cell_type": "code",
   "execution_count": null,
   "id": "be8b7cc3-252d-4828-8171-29c60459c5a5",
   "metadata": {},
   "outputs": [],
   "source": [
    "recovery_path = Path('../data/synthetic_lightcurves/two_gaussians/recovery/sim1_quadrant_1_seed1_Q_0.25_intrinsic/')\n",
    "inc_loss_mean = np.log10(pd.read_csv(recovery_path.joinpath('inclination_loss_subrays_10.csv'), index_col=0)).mean(axis=1)"
   ]
  },
  {
   "cell_type": "code",
   "execution_count": null,
   "id": "5212e423-7d7a-4d26-a922-ee140d61c38f",
   "metadata": {},
   "outputs": [],
   "source": [
    "recovery_path = Path('../data/synthetic_lightcurves/flux_tube/recovery/sim1_seed1_Q_0.25_intrinsic/')\n",
    "inc_loss_mean = np.log10(pd.read_csv(recovery_path.joinpath('inclination_loss_subrays_10.csv'), index_col=0)).mean(axis=1)"
   ]
  },
  {
   "cell_type": "code",
   "execution_count": null,
   "id": "540e6c67-65bd-4377-b832-480a573e888b",
   "metadata": {},
   "outputs": [],
   "source": [
    "recovery_path = Path('../checkpoints/alma/intrinsic_fits/vertical_b_variable_pixels1/')\n",
    "inc_loss_mean = np.log(pd.read_csv(recovery_path.joinpath('inclination_loss_subrays_10_0.csv'), index_col=0)).loc[:, 'seed 0']"
   ]
  },
  {
   "cell_type": "code",
   "execution_count": 209,
   "id": "658e63fd-7407-4110-80e6-374a1b8b5afb",
   "metadata": {},
   "outputs": [
    {
     "data": {
      "application/vnd.jupyter.widget-view+json": {
       "model_id": "9a4f7e4d971e4cfdbf28ddc44374f38d",
       "version_major": 2,
       "version_minor": 0
      },
      "text/plain": [
       "Canvas(toolbar=Toolbar(toolitems=[('Home', 'Reset original view', 'home', 'home'), ('Back', 'Back to previous …"
      ]
     },
     "metadata": {},
     "output_type": "display_data"
    },
    {
     "data": {
      "text/plain": [
       "<matplotlib.collections.PathCollection at 0x7f582ffb9340>"
      ]
     },
     "execution_count": 209,
     "metadata": {},
     "output_type": "execute_result"
    }
   ],
   "source": [
    "%matplotlib widget\n",
    "thresh = np.array(inc_loss_mean).min() + (np.array(inc_loss_mean).max() - np.array(inc_loss_mean).min()) / 5\n",
    "mean_indices = inc_loss_mean < thresh\n",
    "plt.plot(inc_loss_mean.index, inc_loss_mean, marker='^', zorder=1)\n",
    "plt.axhline(thresh, color='black', linestyle='--',linewidth=1.3, label='20%')\n",
    "plt.scatter(inc_loss_mean.index[mean_indices], inc_loss_mean[mean_indices], marker='^', color='r', zorder=2)"
   ]
  },
  {
   "cell_type": "code",
   "execution_count": 132,
   "id": "09bf08d9-0adf-4a45-a07e-e66b9ded5f97",
   "metadata": {},
   "outputs": [
    {
     "data": {
      "application/vnd.jupyter.widget-view+json": {
       "model_id": "3cbf37d1486247fdb286e6c960e8a5b6",
       "version_major": 2,
       "version_minor": 0
      },
      "text/plain": [
       "Canvas(toolbar=Toolbar(toolitems=[('Home', 'Reset original view', 'home', 'home'), ('Back', 'Back to previous …"
      ]
     },
     "metadata": {},
     "output_type": "display_data"
    },
    {
     "data": {
      "text/plain": [
       "<matplotlib.collections.PathCollection at 0x7f5832e6e250>"
      ]
     },
     "execution_count": 132,
     "metadata": {},
     "output_type": "execute_result"
    }
   ],
   "source": [
    "%matplotlib widget\n",
    "thresh = (inc_loss_mean.max() - inc_loss_mean.min()) / 10.0\n",
    "mean_indices = inc_loss_mean - inc_loss_mean.min() < thresh\n",
    "plt.plot(inc_loss_mean.index, inc_loss_mean, marker='^', zorder=1)\n",
    "plt.scatter(inc_loss_mean.index[mean_indices], inc_loss_mean[mean_indices], marker='^', color='r', zorder=2)"
   ]
  },
  {
   "cell_type": "markdown",
   "id": "47b51d28-72f6-497f-aec7-1a8d252d9b4d",
   "metadata": {
    "jp-MarkdownHeadingCollapsed": true,
    "tags": []
   },
   "source": [
    "## Inclination Validation analysis"
   ]
  },
  {
   "cell_type": "code",
   "execution_count": 15,
   "id": "9aef8a2c-9a28-4825-9411-8e4b118d1ffe",
   "metadata": {},
   "outputs": [],
   "source": [
    "seed = 0\n",
    "inclinations = [6, 10]\n",
    "model_data, model_val = [], []\n",
    "for inc  in inclinations:\n",
    "    raytrace_args = image_plane_model(np.deg2rad(inc), spin)\n",
    "    checkpoint_dir = recovery_path.joinpath(basename.format(inc, seed))\n",
    "    loss, image_plane = image_plane_fit(raytrace_args, checkpoint_dir, t_train, data_train)\n",
    "    model_data.append(image_plane.sum(axis=(-1,-2)))\n",
    "    loss, image_plane = image_plane_fit(raytrace_args, checkpoint_dir, t_val, data_val)\n",
    "    model_val.append(image_plane.sum(axis=(-1,-2)))"
   ]
  },
  {
   "cell_type": "code",
   "execution_count": 22,
   "id": "d793a919-ab2b-4ced-a65d-51044b8fc564",
   "metadata": {},
   "outputs": [
    {
     "data": {
      "application/vnd.jupyter.widget-view+json": {
       "model_id": "1403c2fe0d554b7991968c99fea7fa49",
       "version_major": 2,
       "version_minor": 0
      },
      "text/plain": [
       "Canvas(toolbar=Toolbar(toolitems=[('Home', 'Reset original view', 'home', 'home'), ('Back', 'Back to previous …"
      ]
     },
     "metadata": {},
     "output_type": "display_data"
    },
    {
     "data": {
      "text/plain": [
       "<matplotlib.legend.Legend at 0x7f0bdc7c4670>"
      ]
     },
     "execution_count": 22,
     "metadata": {},
     "output_type": "execute_result"
    }
   ],
   "source": [
    "%matplotlib widget\n",
    "plt.rcParams.update({\"text.usetex\": True, \"font.family\": \"Helvetica\"})\n",
    "\n",
    "colors = ['tab:red', 'tab:orange']\n",
    "fmts = ['^', 'x']\n",
    "fig, axes = plt.subplots(1, 2, figsize=(7,3))\n",
    "for i in range(len(inclinations)):\n",
    "    bhnerf.visualization.plot_stokes_lc(model_data[i], stokes, t_train, color=colors[i], fmt=fmts[i],  axes=axes, label=r'$\\theta={}^\\circ$'.format(inclinations[i]))\n",
    "    bhnerf.visualization.plot_stokes_lc(model_val[i], stokes, t_val, color=colors[i], fmt=fmts[i], axes=axes)\n",
    "\n",
    "bhnerf.visualization.plot_stokes_lc(target, stokes, t_frames, axes=axes, label='Data', color='tab:blue')\n",
    "\n",
    "t0, t7 = t_train[0].value, t_train[-1].value\n",
    "for s, ax in zip(stokes, axes):\n",
    "    ax.set_title(r'$I_{}$ datafit'.format(s), fontsize=16)\n",
    "    s_i = ['Q', 'U'].index(s)\n",
    "    ymin = np.min([target[:,s_i].min(), model_data[0][:,s_i].min(), model_data[1][:,s_i].min(),\n",
    "                   model_val[0][:,s_i].min(), model_val[1][:,s_i].min()])\n",
    "    ymax = np.max([target[:,s_i].max(), model_data[0][:,s_i].max(), model_data[1][:,s_i].max(),\n",
    "                   model_val[0][:,s_i].max(), model_val[1][:,s_i].max()])\n",
    "    ymin -= 0.3*np.abs(ymin)\n",
    "    ymax += 0.3*np.abs(ymax)\n",
    "    ax.fill_between([t0, t7], [ymax, ymax], ymin, alpha=0.3, color='gray')\n",
    "    ax.set_ylim([ymin, ymax])\n",
    "    ax.set_xlim(left=t0)\n",
    "    ax.text(9.5, ymin+0.05*np.abs(ymin), 'radio loops data', fontsize=12)\n",
    "    ax.text(11.5, ymin+0.05*np.abs(ymin), 'validation', fontsize=12)\n",
    "axes[0].legend(loc='best', bbox_to_anchor=(0.4, 0., 0.5, 0.5))"
   ]
  },
  {
   "cell_type": "code",
   "execution_count": 123,
   "id": "c50b6d64-1f7b-4f8b-95e0-ce7553f38829",
   "metadata": {},
   "outputs": [
    {
     "data": {
      "application/vnd.jupyter.widget-view+json": {
       "model_id": "0acfe3254f5f481c8f2aeecb467ef7eb",
       "version_major": 2,
       "version_minor": 0
      },
      "text/plain": [
       "Canvas(toolbar=Toolbar(toolitems=[('Home', 'Reset original view', 'home', 'home'), ('Back', 'Back to previous …"
      ]
     },
     "metadata": {},
     "output_type": "display_data"
    }
   ],
   "source": [
    "%matplotlib widget\n",
    "plt.rcParams.update({\"text.usetex\": True, \"font.family\": \"Helvetica\"})\n",
    "\n",
    "colors = ['tab:red', 'tab:orange']\n",
    "fmts = ['^', 'x']\n",
    "fig, axes = plt.subplots(1, 2, figsize=(7,3))\n",
    "for i in range(len(inclinations)):\n",
    "    bhnerf.visualization.plot_stokes_lc(model_data[i], stokes, np.array(lightcurves_df['t']), color=colors[i], fmt=fmts[i],  axes=axes, label=r'$\\theta={}^\\circ$'.format(inclinations[i]))\n",
    "    bhnerf.visualization.plot_stokes_lc(model_val[i], stokes, np.array(lightcurves_val_df['t']), color=colors[i], fmt=fmts[i], axes=axes)\n",
    "\n",
    "bhnerf.visualization.plot_stokes_lc(np.array(lightcurves_df[stokes]), stokes, np.array(lightcurves_df['t']), axes=axes, label='Data', color='tab:blue')\n",
    "bhnerf.visualization.plot_stokes_lc(np.array(lightcurves_val_df[stokes]), stokes, np.array(lightcurves_val_df['t']), axes=axes,  color='tab:blue')\n",
    "\n",
    "t0, t7 = lightcurves_df['t'].iloc[0], lightcurves_df['t'].iloc[-1]\n",
    "for s, ax in zip(stokes, axes):\n",
    "    ax.set_title(r'$I_{}$ datafit'.format(s), fontsize=16)\n",
    "    s_i = ['Q', 'U'].index(s)\n",
    "    ymin = np.min([lightcurves_df[s].min(), model_data[0][:,s_i].min(), model_data[1][:,s_i].min(),\n",
    "                   lightcurves_val_df[s].min(), model_val[0][:,s_i].min(), model_val[1][:,s_i].min()])\n",
    "    ymax = np.max([lightcurves_df[s].max(), model_data[0][:,s_i].max(), model_data[1][:,s_i].max(),\n",
    "                   lightcurves_val_df[s].max(), model_val[0][:,s_i].max(), model_val[1][:,s_i].max()])\n",
    "    ymin -= 0.3*np.abs(ymin)\n",
    "    ymax += 0.3*np.abs(ymax)\n",
    "    ax.fill_between([t0, t7], [ymax, ymax], ymin, alpha=0.3, color='gray')\n",
    "    ax.set_ylim([ymin, ymax])\n",
    "    ax.set_xlim(left=t0)\n",
    "    ax.text(9.5, ymin+0.05*np.abs(ymin), 'radio loops data', fontsize=12)\n",
    "    ax.text(11.5, ymin+0.05*np.abs(ymin), 'validation', fontsize=12)\n",
    "axes[0].legend(loc='best', bbox_to_anchor=(0.4, 0., 0.5, 0.5))\n",
    "\n",
    "inc_str = '_'.join([str(inc) for inc in inclinations])\n",
    "plt.savefig(recovery_path.joinpath('datafit_vs_validation_incs_{}.pdf'.format(inc_str)))"
   ]
  },
  {
   "cell_type": "markdown",
   "id": "08eec69e-6809-4feb-a717-a8bcb2dad173",
   "metadata": {
    "tags": []
   },
   "source": [
    "# Visualize a single recovery\n",
    "---\n",
    "Visualize a single 3D recovery / datafit for fixed black-hole parameters"
   ]
  },
  {
   "cell_type": "code",
   "execution_count": 20,
   "id": "f74e4906-0044-4bdd-b971-3a74e2e47ff5",
   "metadata": {},
   "outputs": [
    {
     "data": {
      "application/vnd.jupyter.widget-view+json": {
       "model_id": "a626934e0177427cb0496987ae4f1b2d",
       "version_major": 2,
       "version_minor": 0
      },
      "text/plain": [
       "VBox(children=(Figure(camera=PerspectiveCamera(fov=45.0, position=(0.0, 0.0, 2.5), projectionMatrix=(1.0, 0.0,…"
      ]
     },
     "metadata": {},
     "output_type": "display_data"
    }
   ],
   "source": [
    "flare_path = Path(config['simulation']['flare_path'])\n",
    "emission_flare = xr.load_dataarray(flare_path)\n",
    "bhnerf.visualization.ipyvolume_3d(emission_flare, fov=fov_M, level=[0.1, .2, 0.6], elevation=0)"
   ]
  },
  {
   "cell_type": "code",
   "execution_count": 32,
   "id": "2f63feef-3d16-4a46-824e-1a9d7c8c1340",
   "metadata": {},
   "outputs": [
    {
     "data": {
      "application/vnd.jupyter.widget-view+json": {
       "model_id": "8040ff3bb8d646f9bdf702468d49cf90",
       "version_major": 2,
       "version_minor": 0
      },
      "text/plain": [
       "VBox(children=(Figure(camera=PerspectiveCamera(fov=45.0, position=(0.0, 0.0, 2.5), projectionMatrix=(1.0, 0.0,…"
      ]
     },
     "metadata": {},
     "output_type": "display_data"
    }
   ],
   "source": [
    "seed = 1\n",
    "inclination = 60\n",
    "resolution = 64\n",
    "checkpoint_dir = recovery_path.joinpath(basename.format(inclination, seed))\n",
    "\n",
    "grid_1d = np.linspace(-fov_M/2, fov_M/2, resolution)\n",
    "coords = np.array(np.meshgrid(grid_1d, grid_1d, grid_1d, indexing='ij'))\n",
    "emission = sample_3D_recovery(checkpoint_dir, coords)\n",
    "\n",
    "bhnerf.visualization.ipyvolume_3d(emission, fov=fov_M, level=[0.1, .2, 0.6], elevation=0)"
   ]
  },
  {
   "cell_type": "code",
   "execution_count": 108,
   "id": "51ca66d2-a358-4d0f-a9f2-c32f339f7353",
   "metadata": {},
   "outputs": [
    {
     "data": {
      "application/vnd.jupyter.widget-view+json": {
       "model_id": "15e8865cac8b42ad943dfaab7428dee5",
       "version_major": 2,
       "version_minor": 0
      },
      "text/plain": [
       "Canvas(toolbar=Toolbar(toolitems=[('Home', 'Reset original view', 'home', 'home'), ('Back', 'Back to previous …"
      ]
     },
     "metadata": {},
     "output_type": "display_data"
    }
   ],
   "source": [
    "checkpoint_dir = recovery_path.joinpath(basename.format(inclination, seed))\n",
    "raytrace_args = image_plane_model(np.deg2rad(inclination), spin)\n",
    "loss, image_plane = image_plane_fit(raytrace_args, checkpoint_dir, t_train, data_train)\n",
    "model = image_plane.sum(axis=(-1,-2))\n",
    "\n",
    "%matplotlib widget\n",
    "plt.rcParams.update({\"text.usetex\": True, \"font.family\": \"Helvetica\",})\n",
    "axes = bhnerf.visualization.plot_stokes_lc(data_train, stokes, t_train, label='Data')\n",
    "bhnerf.visualization.plot_stokes_lc(model, stokes, t_train, axes=axes, color='r', fmt='x', label='Model')\n",
    "\n",
    "titles = [r'$I_U$ datafit', r'$Q-U$ datafit']\n",
    "for ax, title in zip(axes, titles):\n",
    "    ax.set_title(title, fontsize=16)\n",
    "    ax.legend()\n",
    "    \n",
    "axes[0].set_xlabel('Time [UT]', fontsize=12)\n",
    "axes[1].set_xlabel('Time [UT]', fontsize=12)\n",
    "plt.tight_layout()\n",
    "plt.savefig(checkpoint_dir.joinpath('QU.datafit.pdf'), bbox_inches='tight')"
   ]
  },
  {
   "cell_type": "markdown",
   "id": "37bfedba-4ed3-4da2-aa77-b994655dd7f1",
   "metadata": {
    "tags": []
   },
   "source": [
    "## Compare recovery to ground truth"
   ]
  },
  {
   "cell_type": "code",
   "execution_count": 33,
   "id": "344de739-7ace-4a93-92cb-4df8c6c62ab1",
   "metadata": {},
   "outputs": [],
   "source": [
    "# recovery_path = Path('../data/synthetic_lightcurves/two_gaussians/recovery/sim2_quadrant_2/')\n",
    "# with open(recovery_path.joinpath('params.yaml'), 'r') as stream:\n",
    "#     config = yaml.load(stream, Loader=yaml.Loader)\n",
    "# locals().update(config['simulation']['model'])\n",
    "\n",
    "seed = 1\n",
    "inclination = 60\n",
    "checkpoint_dir = recovery_path.joinpath(basename.format(inclination, seed))\n",
    "\n",
    "jit = False\n",
    "resolution = 256\n",
    "bh_radius = 1 + np.sqrt(1-spin**2)\n",
    "cam_r = 55.\n",
    "linewidth = 0.14\n",
    "zenith = np.deg2rad(35)\n",
    "\n",
    "visualizer = bhnerf.visualization.VolumeVisualizer(resolution, resolution, resolution)\n",
    "visualizer.set_view(cam_r=cam_r, domain_r=rmax, azimuth=0.0, zenith=zenith)\n",
    "\n",
    "emission_flare = emission_scale * xr.load_dataarray(config['simulation']['flare_path'])\n",
    "emission_true = emission_flare.interp(x=xr.DataArray(visualizer.x), \n",
    "                                      y=xr.DataArray(visualizer.y), \n",
    "                                      z=xr.DataArray(visualizer.z)).fillna(0.0).data\n",
    "\n",
    "norm_const =  emission_true.max()\n",
    "emission_rec = sample_3D_recovery(checkpoint_dir, visualizer.coords, chunk=32)\n",
    "image_true = visualizer.render(emission_true / norm_const, facewidth=1.9*rmax, jit=jit, \n",
    "                               bh_radius=bh_radius, linewidth=linewidth)\n",
    "image_rec = visualizer.render(emission_rec / norm_const, facewidth=1.9*rmax, jit=jit, \n",
    "                              bh_radius=bh_radius, linewidth=linewidth)"
   ]
  },
  {
   "cell_type": "code",
   "execution_count": 34,
   "id": "ffa2f7c1-8d77-461d-bc9a-9826ee6bbd3c",
   "metadata": {},
   "outputs": [
    {
     "data": {
      "application/vnd.jupyter.widget-view+json": {
       "model_id": "b71a14d936b141a2849c1f1244254d31",
       "version_major": 2,
       "version_minor": 0
      },
      "text/plain": [
       "Canvas(toolbar=Toolbar(toolitems=[('Home', 'Reset original view', 'home', 'home'), ('Back', 'Back to previous …"
      ]
     },
     "metadata": {},
     "output_type": "display_data"
    },
    {
     "name": "stderr",
     "output_type": "stream",
     "text": [
      "WARNING:matplotlib.image:Clipping input data to the valid range for imshow with RGB data ([0..1] for floats or [0..255] for integers).\n",
      "WARNING:matplotlib.image:Clipping input data to the valid range for imshow with RGB data ([0..1] for floats or [0..255] for integers).\n"
     ]
    }
   ],
   "source": [
    "from mpl_toolkits.axes_grid1 import make_axes_locatable\n",
    "from matplotlib.colors import Normalize\n",
    "\n",
    "%matplotlib widget\n",
    "images = [image_true, image_rec]\n",
    "titles = ['Ground truth', 'Recovery']\n",
    "fig, axes = plt.subplots(1,2, figsize=(9,4))\n",
    "for ax, img, title in zip(axes, images, titles):\n",
    "    ax.imshow(img)\n",
    "    ax.set_title(title, fontsize=18, y=0.78)\n",
    "    ax.set_axis_off()\n",
    "    \n",
    "ax = fig.add_subplot(132)\n",
    "ax.set_visible(False)\n",
    "divider = make_axes_locatable(ax)\n",
    "cax = divider.append_axes('bottom', size='3%', pad=-1)\n",
    "cmap = plt.cm.ScalarMappable(norm=Normalize(0, norm_const, clip=True), cmap=plt.get_cmap('hot'))\n",
    "cbar = fig.colorbar(cmap, cax=cax, orientation='horizontal', shrink=.0, extend='max')\n",
    "cbar.ax.tick_params(labelsize=12) \n",
    "plt.tight_layout()\n",
    "plt.savefig(checkpoint_dir.joinpath('gt_vs_rec.pdf'.format(inclination, seed)), bbox_inches='tight')"
   ]
  },
  {
   "cell_type": "code",
   "execution_count": 129,
   "id": "fcc5315a-3df9-4909-b0a7-b60756797dc2",
   "metadata": {},
   "outputs": [
    {
     "data": {
      "application/vnd.jupyter.widget-view+json": {
       "model_id": "370a6acd2f13486ea642f4b784f03318",
       "version_major": 2,
       "version_minor": 0
      },
      "text/plain": [
       "Canvas(toolbar=Toolbar(toolitems=[('Home', 'Reset original view', 'home', 'home'), ('Back', 'Back to previous …"
      ]
     },
     "metadata": {},
     "output_type": "display_data"
    }
   ],
   "source": [
    "raytrace_args = image_plane_model(np.deg2rad(inclination), spin)\n",
    "loss, image_plane = image_plane_fit(raytrace_args, checkpoint_dir, lightcurves_df)\n",
    "model = image_plane.sum(axis=(-1,-2))\n",
    "\n",
    "%matplotlib widget\n",
    "plt.rcParams.update({\"text.usetex\": True, \"font.family\": \"Helvetica\",})\n",
    "axes = bhnerf.visualization.plot_stokes_lc(np.array(lightcurves_df[stokes]), stokes, np.array(lightcurves_df['t']), label='Data')\n",
    "bhnerf.visualization.plot_stokes_lc(model, stokes, t_frames, axes=axes, color='r', fmt='x', label='Model')\n",
    "\n",
    "titles = [r'$I_U$ datafit', r'$Q-U$ datafit']\n",
    "for ax, title in zip(axes, titles):\n",
    "    ax.set_title(title, fontsize=16)\n",
    "    ax.legend()\n",
    "    \n",
    "axes[0].set_xlabel('Time [UT]', fontsize=12)\n",
    "axes[1].set_xlabel('Time [UT]', fontsize=12)\n",
    "plt.tight_layout()\n",
    "# plt.savefig(checkpoint_dir.joinpath('QU.datafit.pdf'), bbox_inches='tight')"
   ]
  },
  {
   "cell_type": "code",
   "execution_count": 48,
   "id": "177d9af9-3d34-4222-81b1-e07a80f87003",
   "metadata": {},
   "outputs": [
    {
     "data": {
      "application/vnd.jupyter.widget-view+json": {
       "model_id": "82f5062c2bd4451bb5db0d1ca5bcaa11",
       "version_major": 2,
       "version_minor": 0
      },
      "text/plain": [
       "Canvas(toolbar=Toolbar(toolitems=[('Home', 'Reset original view', 'home', 'home'), ('Back', 'Back to previous …"
      ]
     },
     "metadata": {},
     "output_type": "display_data"
    },
    {
     "data": {
      "text/plain": [
       "<matplotlib.animation.FuncAnimation at 0x7f143bbefd30>"
      ]
     },
     "execution_count": 48,
     "metadata": {},
     "output_type": "execute_result"
    }
   ],
   "source": [
    "%matplotlib widget\n",
    "movie_list = [xr.DataArray(image_plane[:, i], dims=['t','beta','alpha']) for i in range(image_plane.shape[1])]\n",
    "fig, axes = plt.subplots(1, 3, figsize=(10, 3))\n",
    "bhnerf.visualization.animate_movies_synced(movie_list, axes, titles=['I', 'Q', 'U'], vmin=[0, -.02, -.02], vmax=[.03, .02, .01])"
   ]
  },
  {
   "cell_type": "markdown",
   "id": "68ec589e-442d-45dd-be85-7f51eede3bb6",
   "metadata": {},
   "source": [
    "# Visualize average recoveries\n",
    "---\n",
    "Visualize an average recovery with fixed black-hole parameters"
   ]
  },
  {
   "cell_type": "code",
   "execution_count": 254,
   "id": "1dc3656f-fb09-428e-8ed0-5894409c8a30",
   "metadata": {},
   "outputs": [
    {
     "data": {
      "application/vnd.jupyter.widget-view+json": {
       "model_id": "c15236546ef148e8ae7e738171603454",
       "version_major": 2,
       "version_minor": 0
      },
      "text/plain": [
       "VBox(children=(Figure(camera=PerspectiveCamera(fov=45.0, position=(0.0, -2.1650635094610964, 1.250000000000000…"
      ]
     },
     "metadata": {},
     "output_type": "display_data"
    }
   ],
   "source": [
    "flare_path = Path(config['simulation']['flare_path'])\n",
    "emission_flare = emission_scale * xr.load_dataarray(flare_path)\n",
    "bhnerf.visualization.ipyvolume_3d(emission_flare, fov=fov_M, level=[0.1, .2, 0.6])\n"
   ]
  },
  {
   "cell_type": "code",
   "execution_count": 87,
   "id": "362098d8-20c8-4431-ae5d-d0628b9bd40b",
   "metadata": {},
   "outputs": [
    {
     "data": {
      "application/vnd.jupyter.widget-view+json": {
       "model_id": "aec4712300984e8890b51811a6f24a5f",
       "version_major": 2,
       "version_minor": 0
      },
      "text/plain": [
       "inc:   0%|          | 0/7 [00:00<?, ?it/s]"
      ]
     },
     "metadata": {},
     "output_type": "display_data"
    },
    {
     "data": {
      "application/vnd.jupyter.widget-view+json": {
       "model_id": "99b280c04d1a4700b9f6773ac599660a",
       "version_major": 2,
       "version_minor": 0
      },
      "text/plain": [
       "interactive(children=(IntSlider(value=0, description='t', max=6), Output()), _dom_classes=('widget-interact',)…"
      ]
     },
     "metadata": {},
     "output_type": "display_data"
    }
   ],
   "source": [
    "seed = 0\n",
    "inc_grid = [4, 6, 8, 10, 12, 14, 16]\n",
    "resolution = 64\n",
    "\n",
    "grid_1d = np.linspace(-fov_M/2, fov_M/2, resolution)\n",
    "coords = np.array(np.meshgrid(grid_1d, grid_1d, grid_1d, indexing='ij'))\n",
    "emission = np.empty((len(inc_grid), resolution, resolution, resolution))\n",
    "for i, inc in enumerate(tqdm(inc_grid, desc='inc')):\n",
    "    checkpoint_dir = recovery_path.joinpath(basename.format(inc, seed))\n",
    "    emission[i] = sample_3D_recovery(checkpoint_dir, coords)\n",
    "\n",
    "bhnerf.visualization.ipyvolume_3d(emission.mean(axis=0), fov=fov_M, level=[0.1, .2, 0.6])"
   ]
  },
  {
   "cell_type": "code",
   "execution_count": 255,
   "id": "cd9dfb65-c203-486b-a92a-313042f13259",
   "metadata": {},
   "outputs": [],
   "source": [
    "emission_true = emission_flare.interp(x=xr.DataArray(visualizer.x), \n",
    "                                      y=xr.DataArray(visualizer.y), \n",
    "                                      z=xr.DataArray(visualizer.z)).fillna(0.0).data\n",
    "norm_const =  emission_true.max()\n",
    "image_true = visualizer.render(emission_true / norm_const, facewidth=1.9*rmax, jit=jit, \n",
    "                               bh_radius=bh_radius, linewidth=linewidth)"
   ]
  },
  {
   "cell_type": "code",
   "execution_count": 299,
   "id": "d3c63c15-9ecb-42b5-8eb7-11b3ab8eed89",
   "metadata": {},
   "outputs": [
    {
     "data": {
      "application/vnd.jupyter.widget-view+json": {
       "model_id": "",
       "version_major": 2,
       "version_minor": 0
      },
      "text/plain": [
       "inc:   0%|          | 0/24 [00:00<?, ?it/s]"
      ]
     },
     "metadata": {},
     "output_type": "display_data"
    }
   ],
   "source": [
    "seed = 1\n",
    "inc_grid = np.arange(34, 82, 2)\n",
    "zenith = np.deg2rad(35)\n",
    "\n",
    "jit = False\n",
    "resolution = 256\n",
    "bh_radius = 1 + np.sqrt(1-spin**2)\n",
    "cam_r = 55.\n",
    "linewidth = 0.14\n",
    "\n",
    "visualizer = bhnerf.visualization.VolumeVisualizer(resolution, resolution, resolution)\n",
    "visualizer.set_view(cam_r=cam_r, domain_r=rmax, azimuth=0.0, zenith=zenith)\n",
    "\n",
    "emission = 0\n",
    "for inc in tqdm(inc_grid, desc='inc', leave=False):\n",
    "    checkpoint_dir = recovery_path.joinpath(basename.format(inc, seed))\n",
    "    emission += sample_3D_recovery(checkpoint_dir, visualizer.coords, chunk=32) / len(inc_grid)\n",
    "\n",
    "image_rec = visualizer.render(emission / norm_const, facewidth=1.9*rmax, jit=jit, bh_radius=bh_radius, linewidth=linewidth).clip(a_max=1)"
   ]
  },
  {
   "cell_type": "code",
   "execution_count": 300,
   "id": "f3dbcb8c-03fe-4ff5-8092-97df71a33106",
   "metadata": {},
   "outputs": [
    {
     "data": {
      "application/vnd.jupyter.widget-view+json": {
       "model_id": "5e03d9f03dbc475eae7d42db4ed3c3b3",
       "version_major": 2,
       "version_minor": 0
      },
      "text/plain": [
       "Canvas(toolbar=Toolbar(toolitems=[('Home', 'Reset original view', 'home', 'home'), ('Back', 'Back to previous …"
      ]
     },
     "metadata": {},
     "output_type": "display_data"
    },
    {
     "name": "stderr",
     "output_type": "stream",
     "text": [
      "WARNING:matplotlib.image:Clipping input data to the valid range for imshow with RGB data ([0..1] for floats or [0..255] for integers).\n"
     ]
    }
   ],
   "source": [
    "from mpl_toolkits.axes_grid1 import make_axes_locatable\n",
    "from matplotlib.colors import Normalize\n",
    "\n",
    "%matplotlib widget\n",
    "images = [image_true, image_rec]\n",
    "titles = ['Ground truth', 'Recovery Mean']\n",
    "fig, axes = plt.subplots(1,2, figsize=(9,4))\n",
    "for ax, img, title in zip(axes, images, titles):\n",
    "    ax.imshow(img)\n",
    "    ax.set_title(title, fontsize=18, y=0.78)\n",
    "    ax.set_axis_off()\n",
    "    \n",
    "ax = fig.add_subplot(132)\n",
    "ax.set_visible(False)\n",
    "divider = make_axes_locatable(ax)\n",
    "cax = divider.append_axes('bottom', size='3%', pad=-1)\n",
    "cmap = plt.cm.ScalarMappable(norm=Normalize(0, norm_const, clip=True), cmap=plt.get_cmap('hot'))\n",
    "cbar = fig.colorbar(cmap, cax=cax, orientation='horizontal', shrink=.0, extend='max')\n",
    "cbar.ax.tick_params(labelsize=12) \n",
    "plt.tight_layout()\n",
    "\n",
    "outname = '3D_Recovery_mean_incs_{}_seed_{}.pdf'.format('-'.join([str(int(inc)) for inc in inc_grid]), seed)\n",
    "plt.savefig(recovery_path.joinpath(outname), bbox_inches='tight')"
   ]
  },
  {
   "cell_type": "code",
   "execution_count": null,
   "id": "3540b51e-709e-4573-bba5-28298ba1e8c6",
   "metadata": {},
   "outputs": [],
   "source": []
  }
 ],
 "metadata": {
  "kernelspec": {
   "display_name": "jax",
   "language": "python",
   "name": "jax"
  },
  "language_info": {
   "codemirror_mode": {
    "name": "ipython",
    "version": 3
   },
   "file_extension": ".py",
   "mimetype": "text/x-python",
   "name": "python",
   "nbconvert_exporter": "python",
   "pygments_lexer": "ipython3",
   "version": "3.9.6"
  }
 },
 "nbformat": 4,
 "nbformat_minor": 5
}
