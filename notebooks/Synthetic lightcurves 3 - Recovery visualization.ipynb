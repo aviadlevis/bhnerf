{
 "cells": [
  {
   "cell_type": "code",
   "execution_count": 1,
   "id": "b85f8e98-8ea4-4e4c-9304-038107b539e2",
   "metadata": {},
   "outputs": [
    {
     "name": "stderr",
     "output_type": "stream",
     "text": [
      "Matplotlib created a temporary config/cache directory at /tmp/matplotlib-jt344vsk because the default path (/home/jovyan/.cache/matplotlib) is not a writable directory; it is highly recommended to set the MPLCONFIGDIR environment variable to a writable directory, in particular to speed up the import of Matplotlib and to better support multiprocessing.\n"
     ]
    },
    {
     "name": "stdout",
     "output_type": "stream",
     "text": [
      "Welcome to eht-imaging! v 1.2.2 \n",
      "\n"
     ]
    },
    {
     "name": "stderr",
     "output_type": "stream",
     "text": [
      "2023-03-28 18:59:17.544817: W tensorflow/stream_executor/platform/default/dso_loader.cc:64] Could not load dynamic library 'libcudart.so.11.0'; dlerror: libcudart.so.11.0: cannot open shared object file: No such file or directory; LD_LIBRARY_PATH: /.singularity.d/libs\n"
     ]
    }
   ],
   "source": [
    "import bhnerf\n",
    "from astropy import units\n",
    "import jax\n",
    "\n",
    "import numpy as np\n",
    "import xarray as xr\n",
    "import matplotlib.pyplot as plt\n",
    "import pandas as pd\n",
    "from tqdm.notebook import tqdm\n",
    "from flax.training import checkpoints\n",
    "from pathlib import Path\n",
    "import ruamel.yaml as yaml\n",
    "\n",
    "# Runing on 2 GPUs\n",
    "import os\n",
    "os.environ['CUDA_VISIBLE_DEVICES'] = '2,3'\n",
    "\n",
    "import warnings\n",
    "warnings.simplefilter(\"ignore\")"
   ]
  },
  {
   "cell_type": "code",
   "execution_count": 80,
   "id": "63a930a5-5d3c-4913-b79b-bb25bbf2fd45",
   "metadata": {},
   "outputs": [],
   "source": [
    "basename = 'inc_{:.1f}.seed_{}'\n",
    "\n",
    "recovery_path = Path('../data/synthetic_lightcurves/single_gaussian/recovery/sim3/')\n",
    "with open(recovery_path.joinpath('params.yaml'), 'r') as stream:\n",
    "    config = yaml.load(stream, Loader=yaml.Loader)\n",
    "\n",
    "locals().update(config['simulation']['model'])\n",
    "locals().update(config['recovery']['model'])\n",
    "locals().update(config['recovery']['optimization']) \n",
    "\n",
    "lightcurves_df = pd.read_csv(config['simulation']['lightcurve_path'])\n",
    "lightcurves_val_df = pd.read_csv(config['simulation']['validation_path'])\n",
    "inc_true = config['simulation']['model']['inclination']\n",
    "J_inds = [['I', 'Q', 'U'].index(s) for s in stokes]"
   ]
  },
  {
   "cell_type": "code",
   "execution_count": 3,
   "id": "57c05f9f-57ea-48cf-9904-306ffcd39d16",
   "metadata": {},
   "outputs": [],
   "source": [
    "def sample_3D_recovery(checkpoint_dir, coords, chunk=-1):\n",
    "    predictor = bhnerf.network.NeRF_Predictor.from_yml(checkpoint_dir)\n",
    "    state = checkpoints.restore_checkpoint(checkpoint_dir, None)\n",
    "    emission = bhnerf.network.sample_3d_grid(predictor.apply, state['params'], coords=coords, chunk=chunk)\n",
    "    return emission\n",
    "\n",
    "def image_plane_model(inc, spin):\n",
    "    geos = bhnerf.kgeo.image_plane_geos(\n",
    "        spin, inc, \n",
    "        num_alpha=num_alpha, \n",
    "        num_beta=num_beta, \n",
    "        alpha_range=[-fov_M/2, fov_M/2],\n",
    "        beta_range=[-fov_M/2, fov_M/2]\n",
    "    )\n",
    "    geos = geos.fillna(0.0)\n",
    "\n",
    "     # Keplerian velocity and Doppler boosting\n",
    "    rot_sign = {'cw': -1, 'ccw': 1}\n",
    "    Omega = rot_sign[Omega_dir] * np.sqrt(geos.M) / (geos.r**(3/2) + geos.spin * np.sqrt(geos.M))\n",
    "    umu = bhnerf.kgeo.azimuthal_velocity_vector(geos, Omega)\n",
    "    g = bhnerf.kgeo.doppler_factor(geos, umu)\n",
    "\n",
    "    # Magnitude normalized magnetic field in fluid-frame\n",
    "    b = bhnerf.kgeo.magnetic_field_fluid_frame(geos, umu, **b_consts)\n",
    "    domain = np.bitwise_and(np.bitwise_and(np.abs(geos.z) < z_width, geos.r > rmin), geos.r < rmax)\n",
    "    b_mean = np.sqrt(np.sum(b[domain]**2, axis=-1)).mean()\n",
    "    b /= b_mean\n",
    "\n",
    "    # Polarized emission factors (including parallel transport)\n",
    "    J = np.nan_to_num(bhnerf.kgeo.parallel_transport(geos, umu, g, b, Q_frac=Q_frac, V_frac=0), 0.0)[J_inds]\n",
    "\n",
    "    t_injection = -float(geos.r_o + fov_M/4)\n",
    "    raytracing_args = bhnerf.network.raytracing_args(geos, Omega, t_injection, t_start_obs*units.hr, J)\n",
    "    return raytracing_args\n",
    "\n",
    "def image_plane_fit(raytracing_args, checkpoint_dir, lightcurves_df, batchsize=20):\n",
    "    predictor = bhnerf.network.NeRF_Predictor.from_yml(checkpoint_dir)\n",
    "    params = predictor.init_params(raytracing_args)\n",
    "    state = predictor.init_state(params, checkpoint_dir=checkpoint_dir)\n",
    "    train_step = bhnerf.optimization.TrainStep.image(np.array(lightcurves_df['t']), np.array(lightcurves_df[stokes]), sigma, dtype='lc')\n",
    "    datafit, image_plane = bhnerf.optimization.total_movie_loss(batchsize, state, train_step, raytracing_args, return_frames=True)\n",
    "    return datafit, image_plane"
   ]
  },
  {
   "cell_type": "markdown",
   "id": "f051e636-fd23-430b-9559-5bfbdc6e7def",
   "metadata": {
    "tags": []
   },
   "source": [
    "# Inclination data-fit\n",
    "---\n",
    "Data-fit as a function of inclination angle (\"zero-order\" marginal likelihood) \\\n",
    "Generalization: how well does the recovery preform on validation dataset of lightcurves at different times: (11.05 (t7) -- 12.71 UTC)"
   ]
  },
  {
   "cell_type": "code",
   "execution_count": 4,
   "id": "3f57d557-df5d-42cd-9a5a-5e069a470749",
   "metadata": {
    "collapsed": true,
    "jupyter": {
     "outputs_hidden": true
    },
    "tags": []
   },
   "outputs": [
    {
     "data": {
      "application/vnd.jupyter.widget-view+json": {
       "model_id": "4e7cb49f93104db298c657fcce2c406f",
       "version_major": 2,
       "version_minor": 0
      },
      "text/plain": [
       "inc:   0%|          | 0/39 [00:00<?, ?it/s]"
      ]
     },
     "metadata": {},
     "output_type": "display_data"
    },
    {
     "data": {
      "application/vnd.jupyter.widget-view+json": {
       "model_id": "",
       "version_major": 2,
       "version_minor": 0
      },
      "text/plain": [
       "seed:   0%|          | 0/1 [00:00<?, ?it/s]"
      ]
     },
     "metadata": {},
     "output_type": "display_data"
    },
    {
     "data": {
      "application/vnd.jupyter.widget-view+json": {
       "model_id": "",
       "version_major": 2,
       "version_minor": 0
      },
      "text/plain": [
       "seed:   0%|          | 0/1 [00:00<?, ?it/s]"
      ]
     },
     "metadata": {},
     "output_type": "display_data"
    },
    {
     "data": {
      "application/vnd.jupyter.widget-view+json": {
       "model_id": "",
       "version_major": 2,
       "version_minor": 0
      },
      "text/plain": [
       "seed:   0%|          | 0/1 [00:00<?, ?it/s]"
      ]
     },
     "metadata": {},
     "output_type": "display_data"
    },
    {
     "data": {
      "application/vnd.jupyter.widget-view+json": {
       "model_id": "",
       "version_major": 2,
       "version_minor": 0
      },
      "text/plain": [
       "seed:   0%|          | 0/1 [00:00<?, ?it/s]"
      ]
     },
     "metadata": {},
     "output_type": "display_data"
    },
    {
     "data": {
      "application/vnd.jupyter.widget-view+json": {
       "model_id": "",
       "version_major": 2,
       "version_minor": 0
      },
      "text/plain": [
       "seed:   0%|          | 0/1 [00:00<?, ?it/s]"
      ]
     },
     "metadata": {},
     "output_type": "display_data"
    },
    {
     "data": {
      "application/vnd.jupyter.widget-view+json": {
       "model_id": "",
       "version_major": 2,
       "version_minor": 0
      },
      "text/plain": [
       "seed:   0%|          | 0/1 [00:00<?, ?it/s]"
      ]
     },
     "metadata": {},
     "output_type": "display_data"
    },
    {
     "data": {
      "application/vnd.jupyter.widget-view+json": {
       "model_id": "",
       "version_major": 2,
       "version_minor": 0
      },
      "text/plain": [
       "seed:   0%|          | 0/1 [00:00<?, ?it/s]"
      ]
     },
     "metadata": {},
     "output_type": "display_data"
    },
    {
     "data": {
      "application/vnd.jupyter.widget-view+json": {
       "model_id": "",
       "version_major": 2,
       "version_minor": 0
      },
      "text/plain": [
       "seed:   0%|          | 0/1 [00:00<?, ?it/s]"
      ]
     },
     "metadata": {},
     "output_type": "display_data"
    },
    {
     "data": {
      "application/vnd.jupyter.widget-view+json": {
       "model_id": "",
       "version_major": 2,
       "version_minor": 0
      },
      "text/plain": [
       "seed:   0%|          | 0/1 [00:00<?, ?it/s]"
      ]
     },
     "metadata": {},
     "output_type": "display_data"
    },
    {
     "data": {
      "application/vnd.jupyter.widget-view+json": {
       "model_id": "",
       "version_major": 2,
       "version_minor": 0
      },
      "text/plain": [
       "seed:   0%|          | 0/1 [00:00<?, ?it/s]"
      ]
     },
     "metadata": {},
     "output_type": "display_data"
    },
    {
     "data": {
      "application/vnd.jupyter.widget-view+json": {
       "model_id": "",
       "version_major": 2,
       "version_minor": 0
      },
      "text/plain": [
       "seed:   0%|          | 0/1 [00:00<?, ?it/s]"
      ]
     },
     "metadata": {},
     "output_type": "display_data"
    },
    {
     "data": {
      "application/vnd.jupyter.widget-view+json": {
       "model_id": "",
       "version_major": 2,
       "version_minor": 0
      },
      "text/plain": [
       "seed:   0%|          | 0/1 [00:00<?, ?it/s]"
      ]
     },
     "metadata": {},
     "output_type": "display_data"
    },
    {
     "data": {
      "application/vnd.jupyter.widget-view+json": {
       "model_id": "",
       "version_major": 2,
       "version_minor": 0
      },
      "text/plain": [
       "seed:   0%|          | 0/1 [00:00<?, ?it/s]"
      ]
     },
     "metadata": {},
     "output_type": "display_data"
    },
    {
     "data": {
      "application/vnd.jupyter.widget-view+json": {
       "model_id": "",
       "version_major": 2,
       "version_minor": 0
      },
      "text/plain": [
       "seed:   0%|          | 0/1 [00:00<?, ?it/s]"
      ]
     },
     "metadata": {},
     "output_type": "display_data"
    },
    {
     "data": {
      "application/vnd.jupyter.widget-view+json": {
       "model_id": "",
       "version_major": 2,
       "version_minor": 0
      },
      "text/plain": [
       "seed:   0%|          | 0/1 [00:00<?, ?it/s]"
      ]
     },
     "metadata": {},
     "output_type": "display_data"
    },
    {
     "data": {
      "application/vnd.jupyter.widget-view+json": {
       "model_id": "",
       "version_major": 2,
       "version_minor": 0
      },
      "text/plain": [
       "seed:   0%|          | 0/1 [00:00<?, ?it/s]"
      ]
     },
     "metadata": {},
     "output_type": "display_data"
    },
    {
     "data": {
      "application/vnd.jupyter.widget-view+json": {
       "model_id": "",
       "version_major": 2,
       "version_minor": 0
      },
      "text/plain": [
       "seed:   0%|          | 0/1 [00:00<?, ?it/s]"
      ]
     },
     "metadata": {},
     "output_type": "display_data"
    },
    {
     "data": {
      "application/vnd.jupyter.widget-view+json": {
       "model_id": "",
       "version_major": 2,
       "version_minor": 0
      },
      "text/plain": [
       "seed:   0%|          | 0/1 [00:00<?, ?it/s]"
      ]
     },
     "metadata": {},
     "output_type": "display_data"
    },
    {
     "data": {
      "application/vnd.jupyter.widget-view+json": {
       "model_id": "",
       "version_major": 2,
       "version_minor": 0
      },
      "text/plain": [
       "seed:   0%|          | 0/1 [00:00<?, ?it/s]"
      ]
     },
     "metadata": {},
     "output_type": "display_data"
    },
    {
     "data": {
      "application/vnd.jupyter.widget-view+json": {
       "model_id": "",
       "version_major": 2,
       "version_minor": 0
      },
      "text/plain": [
       "seed:   0%|          | 0/1 [00:00<?, ?it/s]"
      ]
     },
     "metadata": {},
     "output_type": "display_data"
    },
    {
     "data": {
      "application/vnd.jupyter.widget-view+json": {
       "model_id": "",
       "version_major": 2,
       "version_minor": 0
      },
      "text/plain": [
       "seed:   0%|          | 0/1 [00:00<?, ?it/s]"
      ]
     },
     "metadata": {},
     "output_type": "display_data"
    },
    {
     "data": {
      "application/vnd.jupyter.widget-view+json": {
       "model_id": "",
       "version_major": 2,
       "version_minor": 0
      },
      "text/plain": [
       "seed:   0%|          | 0/1 [00:00<?, ?it/s]"
      ]
     },
     "metadata": {},
     "output_type": "display_data"
    },
    {
     "data": {
      "application/vnd.jupyter.widget-view+json": {
       "model_id": "",
       "version_major": 2,
       "version_minor": 0
      },
      "text/plain": [
       "seed:   0%|          | 0/1 [00:00<?, ?it/s]"
      ]
     },
     "metadata": {},
     "output_type": "display_data"
    },
    {
     "data": {
      "application/vnd.jupyter.widget-view+json": {
       "model_id": "",
       "version_major": 2,
       "version_minor": 0
      },
      "text/plain": [
       "seed:   0%|          | 0/1 [00:00<?, ?it/s]"
      ]
     },
     "metadata": {},
     "output_type": "display_data"
    },
    {
     "data": {
      "application/vnd.jupyter.widget-view+json": {
       "model_id": "",
       "version_major": 2,
       "version_minor": 0
      },
      "text/plain": [
       "seed:   0%|          | 0/1 [00:00<?, ?it/s]"
      ]
     },
     "metadata": {},
     "output_type": "display_data"
    },
    {
     "data": {
      "application/vnd.jupyter.widget-view+json": {
       "model_id": "",
       "version_major": 2,
       "version_minor": 0
      },
      "text/plain": [
       "seed:   0%|          | 0/1 [00:00<?, ?it/s]"
      ]
     },
     "metadata": {},
     "output_type": "display_data"
    },
    {
     "data": {
      "application/vnd.jupyter.widget-view+json": {
       "model_id": "",
       "version_major": 2,
       "version_minor": 0
      },
      "text/plain": [
       "seed:   0%|          | 0/1 [00:00<?, ?it/s]"
      ]
     },
     "metadata": {},
     "output_type": "display_data"
    },
    {
     "data": {
      "application/vnd.jupyter.widget-view+json": {
       "model_id": "",
       "version_major": 2,
       "version_minor": 0
      },
      "text/plain": [
       "seed:   0%|          | 0/1 [00:00<?, ?it/s]"
      ]
     },
     "metadata": {},
     "output_type": "display_data"
    },
    {
     "data": {
      "application/vnd.jupyter.widget-view+json": {
       "model_id": "",
       "version_major": 2,
       "version_minor": 0
      },
      "text/plain": [
       "seed:   0%|          | 0/1 [00:00<?, ?it/s]"
      ]
     },
     "metadata": {},
     "output_type": "display_data"
    },
    {
     "data": {
      "application/vnd.jupyter.widget-view+json": {
       "model_id": "",
       "version_major": 2,
       "version_minor": 0
      },
      "text/plain": [
       "seed:   0%|          | 0/1 [00:00<?, ?it/s]"
      ]
     },
     "metadata": {},
     "output_type": "display_data"
    },
    {
     "data": {
      "application/vnd.jupyter.widget-view+json": {
       "model_id": "",
       "version_major": 2,
       "version_minor": 0
      },
      "text/plain": [
       "seed:   0%|          | 0/1 [00:00<?, ?it/s]"
      ]
     },
     "metadata": {},
     "output_type": "display_data"
    },
    {
     "data": {
      "application/vnd.jupyter.widget-view+json": {
       "model_id": "",
       "version_major": 2,
       "version_minor": 0
      },
      "text/plain": [
       "seed:   0%|          | 0/1 [00:00<?, ?it/s]"
      ]
     },
     "metadata": {},
     "output_type": "display_data"
    },
    {
     "data": {
      "application/vnd.jupyter.widget-view+json": {
       "model_id": "",
       "version_major": 2,
       "version_minor": 0
      },
      "text/plain": [
       "seed:   0%|          | 0/1 [00:00<?, ?it/s]"
      ]
     },
     "metadata": {},
     "output_type": "display_data"
    },
    {
     "data": {
      "application/vnd.jupyter.widget-view+json": {
       "model_id": "",
       "version_major": 2,
       "version_minor": 0
      },
      "text/plain": [
       "seed:   0%|          | 0/1 [00:00<?, ?it/s]"
      ]
     },
     "metadata": {},
     "output_type": "display_data"
    },
    {
     "data": {
      "application/vnd.jupyter.widget-view+json": {
       "model_id": "",
       "version_major": 2,
       "version_minor": 0
      },
      "text/plain": [
       "seed:   0%|          | 0/1 [00:00<?, ?it/s]"
      ]
     },
     "metadata": {},
     "output_type": "display_data"
    },
    {
     "data": {
      "application/vnd.jupyter.widget-view+json": {
       "model_id": "",
       "version_major": 2,
       "version_minor": 0
      },
      "text/plain": [
       "seed:   0%|          | 0/1 [00:00<?, ?it/s]"
      ]
     },
     "metadata": {},
     "output_type": "display_data"
    },
    {
     "data": {
      "application/vnd.jupyter.widget-view+json": {
       "model_id": "",
       "version_major": 2,
       "version_minor": 0
      },
      "text/plain": [
       "seed:   0%|          | 0/1 [00:00<?, ?it/s]"
      ]
     },
     "metadata": {},
     "output_type": "display_data"
    },
    {
     "data": {
      "application/vnd.jupyter.widget-view+json": {
       "model_id": "",
       "version_major": 2,
       "version_minor": 0
      },
      "text/plain": [
       "seed:   0%|          | 0/1 [00:00<?, ?it/s]"
      ]
     },
     "metadata": {},
     "output_type": "display_data"
    },
    {
     "data": {
      "application/vnd.jupyter.widget-view+json": {
       "model_id": "",
       "version_major": 2,
       "version_minor": 0
      },
      "text/plain": [
       "seed:   0%|          | 0/1 [00:00<?, ?it/s]"
      ]
     },
     "metadata": {},
     "output_type": "display_data"
    }
   ],
   "source": [
    "seeds = [1]\n",
    "inclinations = np.arange(4, 82, 2, dtype=float)\n",
    "\n",
    "data_fit = np.full((len(inclinations), len(seeds)), fill_value=np.nan)\n",
    "validation_fit = np.full((len(inclinations), len(seeds)), fill_value=np.nan)\n",
    "for i, inc in enumerate(tqdm(inclinations, desc='inc')):\n",
    "    raytrace_args = image_plane_model(np.deg2rad(inc), spin)\n",
    "    for j, seed in enumerate(tqdm(seeds, desc='seed', leave=False)):\n",
    "        checkpoint_dir = recovery_path.joinpath(basename.format(inc, seed))\n",
    "        data_fit[i,j],_ = image_plane_fit(raytrace_args, checkpoint_dir, lightcurves_df)\n",
    "        validation_fit[i,j],_ = image_plane_fit(raytrace_args, checkpoint_dir, lightcurves_val_df)"
   ]
  },
  {
   "cell_type": "code",
   "execution_count": 5,
   "id": "79f409af-2f36-4d3a-90bc-be2327f06115",
   "metadata": {},
   "outputs": [
    {
     "data": {
      "application/vnd.jupyter.widget-view+json": {
       "model_id": "8221d48dcc134767be9eeec70b305a66",
       "version_major": 2,
       "version_minor": 0
      },
      "text/plain": [
       "Canvas(toolbar=Toolbar(toolitems=[('Home', 'Reset original view', 'home', 'home'), ('Back', 'Back to previous …"
      ]
     },
     "metadata": {},
     "output_type": "display_data"
    }
   ],
   "source": [
    "plt.rcParams.update({\"text.usetex\": True, \"font.family\": \"Helvetica\"})\n",
    "\n",
    "%matplotlib widget\n",
    "plt.figure(figsize=(5,4))\n",
    "plt.errorbar(inclinations, np.nanmean(np.log(data_fit), axis=1), np.nanstd(np.log(data_fit), axis=1), color='tab:orange', marker='^', mfc='r', mec='r', label='data', markersize=5)\n",
    "plt.errorbar(inclinations, np.nanmean(np.log(validation_fit), axis=1), np.nanstd(np.log(validation_fit), axis=1), color='tab:blue', marker='o', mfc='blue', mec='blue', label='validation', markersize=4)\n",
    "plt.title(r'Inclination data-fit: $\\log \\chi^2(\\theta | {\\bf w}^\\star)$', fontsize=16)\n",
    "plt.xticks(fontsize='14')\n",
    "plt.yticks(fontsize='14')\n",
    "plt.axhline(0, color='black', linestyle='--',linewidth=0.75)\n",
    "plt.axvline(inc_true, color='black', linestyle='--',linewidth=1.3)\n",
    "plt.text(inc_true*1.01, 8.5, r'$\\theta_{\\rm true}$', fontsize=16)\n",
    "plt.legend()\n",
    "plt.savefig(recovery_path.joinpath('inclination_loss.pdf'))"
   ]
  },
  {
   "cell_type": "code",
   "execution_count": 110,
   "id": "9aef8a2c-9a28-4825-9411-8e4b118d1ffe",
   "metadata": {},
   "outputs": [],
   "source": [
    "seed = 1\n",
    "inclinations = [6, inc_true]\n",
    "model_data, model_val = [], []\n",
    "for inc  in inclinations:\n",
    "    raytrace_args = image_plane_model(np.deg2rad(inc), spin)\n",
    "    checkpoint_dir = recovery_path.joinpath(basename.format(inc, seed))\n",
    "    loss, image_plane = image_plane_fit(raytrace_args, checkpoint_dir, lightcurves_df)\n",
    "    model_data.append(image_plane.sum(axis=(-1,-2)))\n",
    "    loss, image_plane = image_plane_fit(raytrace_args, checkpoint_dir, lightcurves_val_df)\n",
    "    model_val.append(image_plane.sum(axis=(-1,-2)))"
   ]
  },
  {
   "cell_type": "code",
   "execution_count": 123,
   "id": "c50b6d64-1f7b-4f8b-95e0-ce7553f38829",
   "metadata": {},
   "outputs": [
    {
     "data": {
      "application/vnd.jupyter.widget-view+json": {
       "model_id": "0acfe3254f5f481c8f2aeecb467ef7eb",
       "version_major": 2,
       "version_minor": 0
      },
      "text/plain": [
       "Canvas(toolbar=Toolbar(toolitems=[('Home', 'Reset original view', 'home', 'home'), ('Back', 'Back to previous …"
      ]
     },
     "metadata": {},
     "output_type": "display_data"
    }
   ],
   "source": [
    "%matplotlib widget\n",
    "plt.rcParams.update({\"text.usetex\": True, \"font.family\": \"Helvetica\"})\n",
    "\n",
    "colors = ['tab:red', 'tab:orange']\n",
    "fmts = ['^', 'x']\n",
    "fig, axes = plt.subplots(1, 2, figsize=(7,3))\n",
    "for i in range(len(inclinations)):\n",
    "    bhnerf.visualization.plot_stokes_lc(model_data[i], stokes, np.array(lightcurves_df['t']), color=colors[i], fmt=fmts[i],  axes=axes, label=r'$\\theta={}^\\circ$'.format(inclinations[i]))\n",
    "    bhnerf.visualization.plot_stokes_lc(model_val[i], stokes, np.array(lightcurves_val_df['t']), color=colors[i], fmt=fmts[i], axes=axes)\n",
    "\n",
    "bhnerf.visualization.plot_stokes_lc(np.array(lightcurves_df[stokes]), stokes, np.array(lightcurves_df['t']), axes=axes, label='Data', color='tab:blue')\n",
    "bhnerf.visualization.plot_stokes_lc(np.array(lightcurves_val_df[stokes]), stokes, np.array(lightcurves_val_df['t']), axes=axes,  color='tab:blue')\n",
    "\n",
    "t0, t7 = lightcurves_df['t'].iloc[0], lightcurves_df['t'].iloc[-1]\n",
    "for s, ax in zip(stokes, axes):\n",
    "    ax.set_title(r'$I_{}$ datafit'.format(s), fontsize=16)\n",
    "    s_i = ['Q', 'U'].index(s)\n",
    "    ymin = np.min([lightcurves_df[s].min(), model_data[0][:,s_i].min(), model_data[1][:,s_i].min(),\n",
    "                   lightcurves_val_df[s].min(), model_val[0][:,s_i].min(), model_val[1][:,s_i].min()])\n",
    "    ymax = np.max([lightcurves_df[s].max(), model_data[0][:,s_i].max(), model_data[1][:,s_i].max(),\n",
    "                   lightcurves_val_df[s].max(), model_val[0][:,s_i].max(), model_val[1][:,s_i].max()])\n",
    "    ymin -= 0.3*np.abs(ymin)\n",
    "    ymax += 0.3*np.abs(ymax)\n",
    "    ax.fill_between([t0, t7], [ymax, ymax], ymin, alpha=0.3, color='gray')\n",
    "    ax.set_ylim([ymin, ymax])\n",
    "    ax.set_xlim(left=t0)\n",
    "    ax.text(9.5, ymin+0.05*np.abs(ymin), 'radio loops data', fontsize=12)\n",
    "    ax.text(11.5, ymin+0.05*np.abs(ymin), 'validation', fontsize=12)\n",
    "axes[0].legend(loc='best', bbox_to_anchor=(0.4, 0., 0.5, 0.5))\n",
    "\n",
    "inc_str = '_'.join([str(inc) for inc in inclinations])\n",
    "plt.savefig(recovery_path.joinpath('datafit_vs_validation_incs_{}.pdf'.format(inc_str)))"
   ]
  },
  {
   "cell_type": "code",
   "execution_count": 44,
   "id": "aa8b7d00-e156-4bf1-b68f-444d044e926d",
   "metadata": {},
   "outputs": [],
   "source": [
    "recovery_path = Path('../data/synthetic_lightcurves/single_gaussian/recovery/sim3_intrinsic/')\n",
    "with open(recovery_path.joinpath('params.yaml'), 'r') as stream:\n",
    "    config = yaml.load(stream, Loader=yaml.Loader)\n",
    "\n",
    "locals().update(config['simulation']['model'])\n",
    "locals().update(config['recovery']['model'])\n",
    "locals().update(config['recovery']['optimization']) \n",
    "lightcurves_df = pd.read_csv(config['simulation']['lightcurve_path'])\n",
    "lightcurves_val_df = pd.read_csv(config['simulation']['validation_path'])\n",
    "inc_true = config['simulation']['model']['inclination']\n",
    "J_inds = [['I', 'Q', 'U'].index(s) for s in stokes]"
   ]
  },
  {
   "cell_type": "code",
   "execution_count": 38,
   "id": "6c5b4656-6d21-4b89-ac04-692df3498bcd",
   "metadata": {},
   "outputs": [
    {
     "data": {
      "application/vnd.jupyter.widget-view+json": {
       "model_id": "156ca6e5cf414f439b026acee0e22842",
       "version_major": 2,
       "version_minor": 0
      },
      "text/plain": [
       "Canvas(toolbar=Toolbar(toolitems=[('Home', 'Reset original view', 'home', 'home'), ('Back', 'Back to previous …"
      ]
     },
     "metadata": {},
     "output_type": "display_data"
    }
   ],
   "source": [
    "inclination = 10.\n",
    "checkpoint_dir = recovery_path.joinpath(basename.format(inclination, seed))\n",
    "raytrace_args = image_plane_model(np.deg2rad(inclination), spin)\n",
    "loss, image_plane = image_plane_fit(raytrace_args, checkpoint_dir, lightcurves_df)\n",
    "model = image_plane.sum(axis=(-1,-2))\n",
    "\n",
    "%matplotlib widget\n",
    "plt.rcParams.update({\"text.usetex\": True, \"font.family\": \"Helvetica\",})\n",
    "axes = bhnerf.visualization.plot_stokes_lc(np.array(lightcurves_df[stokes]), stokes, np.array(lightcurves_df['t']), label='Data')\n",
    "bhnerf.visualization.plot_stokes_lc(model, stokes, np.array(lightcurves_df['t']), axes=axes, color='r', fmt='x', label='Model')\n",
    "\n",
    "titles = [r'$I_U$ datafit', r'$Q-U$ datafit']\n",
    "for ax, title in zip(axes, titles):\n",
    "    ax.set_title(title, fontsize=16)\n",
    "    ax.legend()\n",
    "    \n",
    "axes[0].set_xlabel('Time [UT]', fontsize=12)\n",
    "axes[1].set_xlabel('Time [UT]', fontsize=12)\n",
    "plt.tight_layout()\n",
    "# plt.savefig(checkpoint_dir.joinpath('QU.datafit.pdf'), bbox_inches='tight')"
   ]
  },
  {
   "cell_type": "code",
   "execution_count": 133,
   "id": "34e64338-cefd-4746-98f1-44d84ac44134",
   "metadata": {},
   "outputs": [
    {
     "data": {
      "text/plain": [
       "0.3125"
      ]
     },
     "execution_count": 133,
     "metadata": {},
     "output_type": "execute_result"
    }
   ],
   "source": []
  },
  {
   "cell_type": "code",
   "execution_count": 135,
   "id": "480bb99a-f702-4363-bc63-9e5b026b14ce",
   "metadata": {},
   "outputs": [
    {
     "data": {
      "text/plain": [
       "(98, 3, 128, 128)"
      ]
     },
     "execution_count": 135,
     "metadata": {},
     "output_type": "execute_result"
    }
   ],
   "source": [
    "image_plane_flare.shape"
   ]
  },
  {
   "cell_type": "code",
   "execution_count": 172,
   "id": "ae23e740-7248-4735-8ede-92cb2a122a29",
   "metadata": {},
   "outputs": [],
   "source": [
    "flare_path = Path(config['simulation']['flare_path'])\n",
    "emission_flare = xr.load_dataarray(flare_path)\n",
    "\n",
    "geos = bhnerf.kgeo.image_plane_geos(\n",
    "    spin, np.deg2rad(inclination), \n",
    "    num_alpha=64, \n",
    "    num_beta=64, \n",
    "    alpha_range=[-fov_M/2, fov_M/2],\n",
    "    beta_range=[-fov_M/2, fov_M/2]\n",
    ")\n",
    "geos = geos.fillna(0.0)\n",
    " # Keplerian velocity and Doppler boosting\n",
    "rot_sign = {'cw': -1, 'ccw': 1}\n",
    "Omega = rot_sign[Omega_dir] * np.sqrt(geos.M) / (geos.r**(3/2) + geos.spin * np.sqrt(geos.M))\n",
    "umu = bhnerf.kgeo.azimuthal_velocity_vector(geos, Omega)\n",
    "g = bhnerf.kgeo.doppler_factor(geos, umu)\n",
    "\n",
    "# Magnitude normalized magnetic field in fluid-frame\n",
    "b = bhnerf.kgeo.magnetic_field_fluid_frame(geos, umu, **b_consts)\n",
    "domain = np.bitwise_and(np.bitwise_and(np.abs(geos.z) < z_width, geos.r > rmin), geos.r < rmax)\n",
    "b_mean = np.sqrt(np.sum(b[domain]**2, axis=-1)).mean()\n",
    "b /= b_mean\n",
    "\n",
    "# Polarized emission factors (including parallel transport)\n",
    "J = np.nan_to_num(bhnerf.kgeo.parallel_transport(geos, umu, g, b, Q_frac=Q_frac, V_frac=0), 0.0)\n",
    "J_disk = np.nan_to_num(bhnerf.kgeo.parallel_transport(geos, umu, g, b, Q_frac=Q_frac_disk, V_frac=0), 0.0)\n",
    "\n",
    "t_injection = -float(geos.r_o + fov_M/4)\n",
    "\n",
    "image_plane_flare = bhnerf.emission.image_plane_dynamics(\n",
    "    emission_flare, geos, Omega, t_frames, t_injection, J, t_start_obs=t_start_obs*units.hr\n",
    ")\n",
    "image_plane_flare_val = bhnerf.emission.image_plane_dynamics(\n",
    "    emission_flare, geos, Omega, t_frames_val, t_injection, J, t_start_obs=t_start_obs*units.hr\n",
    ")\n",
    "\n",
    "psize = 2.5*(fov_M/geos.alpha.size)**2\n",
    "\n",
    "lightcurves_flare = psize*image_plane_flare.sum(axis=(-1,-2))\n",
    "lightcurves_flare_val = psize*image_plane_flare_val.sum(axis=(-1,-2))\n",
    "\n",
    "\"\"\" Background accretion modeled as Gaussian Random Field (GRF) \"\"\"\n",
    "t_frames = lightcurves_df['t']\n",
    "t_frames_val = lightcurves_val_df['t']\n",
    "\n",
    "grf = xr.load_dataarray(config['simulation']['grf_path'])\n",
    "grf_interp = grf.interp(t=float(grf.t[-1]) * (t_frames - t_frames.min()) / (t_frames.max() - t_frames.min()))\n",
    "image_plane_disk = bhnerf.emission.grf_to_image_plane(grf_interp, geos, Omega, J_disk, diameter_M, alpha, H_r)\n",
    "\n",
    "lightcurves_disk = psize*image_plane_disk.sum(axis=(-1,-2))\n",
    "image_plane_disk *=  I_mean_disk/lightcurves_disk.mean(axis=0)[0] \n",
    "lightcurves_disk *=  I_mean_disk/lightcurves_disk.mean(axis=0)[0]\n",
    "\n",
    "grf_interp = grf.interp(t=float(grf.t[-1]) * (t_frames_val - t_frames_val.min()) / (t_frames_val.max() - t_frames_val.min()))\n",
    "image_plane_disk_val = bhnerf.emission.grf_to_image_plane(grf_interp, geos, Omega, J_disk, diameter_M, alpha, H_r)\n",
    "lightcurves_disk_val = psize*image_plane_disk_val.sum(axis=(-1,-2))\n",
    "image_plane_disk_val *=  I_mean_disk/lightcurves_disk_val.mean(axis=0)[0] \n",
    "lightcurves_disk_val *=  I_mean_disk/lightcurves_disk_val.mean(axis=0)[0]\n",
    "\n",
    "#simulation_params['disk_LP'] = np.sqrt(np.sum(lightcurves_disk_val[:,1:]**2, axis=1)).mean()\n",
    "\n",
    "image_plane = image_plane_flare + image_plane_disk\n",
    "image_plane_val = image_plane_flare_val + image_plane_disk_val\n",
    "lightcurves = lightcurves_flare + lightcurves_disk\n",
    "lightcurves_val = image_plane_val.sum(axis=(-1,-2)) "
   ]
  },
  {
   "cell_type": "code",
   "execution_count": 167,
   "id": "28d3316d-c271-4f90-9b35-5f007ebdc31e",
   "metadata": {},
   "outputs": [
    {
     "data": {
      "text/plain": [
       "(0.11784497391999049, 0.14790203371248212)"
      ]
     },
     "execution_count": 167,
     "metadata": {},
     "output_type": "execute_result"
    }
   ],
   "source": [
    "np.sqrt(np.sum(lightcurves_disk[:,1:]**2, axis=1)).mean(), np.sqrt(np.sum(lightcurves_flare[:,1:]**2, axis=1)).mean()"
   ]
  },
  {
   "cell_type": "code",
   "execution_count": 168,
   "id": "a627ec74-163a-478d-9250-47b8f46e3cea",
   "metadata": {},
   "outputs": [
    {
     "data": {
      "text/plain": [
       "(0.1109917672229807, 0.053739042551203306)"
      ]
     },
     "execution_count": 168,
     "metadata": {},
     "output_type": "execute_result"
    }
   ],
   "source": [
    "np.sqrt(np.sum(lightcurves_disk_val[:,1:]**2, axis=1)).mean(), np.sqrt(np.sum(lightcurves_flare_val[:,1:]**2, axis=1)).mean()"
   ]
  },
  {
   "cell_type": "code",
   "execution_count": 175,
   "id": "4669fee4-cb45-4fa1-b063-f677344d306a",
   "metadata": {},
   "outputs": [
    {
     "data": {
      "application/vnd.jupyter.widget-view+json": {
       "model_id": "20d07f161cf942ccbfaacbb6664505c8",
       "version_major": 2,
       "version_minor": 0
      },
      "text/plain": [
       "Canvas(toolbar=Toolbar(toolitems=[('Home', 'Reset original view', 'home', 'home'), ('Back', 'Back to previous …"
      ]
     },
     "metadata": {},
     "output_type": "display_data"
    },
    {
     "data": {
      "text/plain": [
       "<matplotlib.legend.Legend at 0x7fd1d04e8ca0>"
      ]
     },
     "execution_count": 175,
     "metadata": {},
     "output_type": "execute_result"
    }
   ],
   "source": [
    "%matplotlib widget\n",
    "lc_flare = np.vstack((lightcurves_flare, lightcurves_flare_val))\n",
    "lc_disk = np.vstack((lightcurves_disk, lightcurves_disk_val))\n",
    "t_all = np.concatenate((t_frames, t_frames_val))\n",
    "axes = bhnerf.visualization.plot_stokes_lc(lc_flare, ['I','Q','U'], t_all, label='flare')\n",
    "bhnerf.visualization.plot_stokes_lc(lc_disk, ['I','Q','U'], t_all, axes=axes)\n",
    "plt.legend()"
   ]
  },
  {
   "cell_type": "code",
   "execution_count": 187,
   "id": "60a4e043-5bcd-4f80-97d2-775c594428f7",
   "metadata": {},
   "outputs": [],
   "source": [
    "from bhnerf import constants as consts\n",
    "GM_c3 = consts.GM_c3(consts.sgra_mass).to('min')"
   ]
  },
  {
   "cell_type": "code",
   "execution_count": 188,
   "id": "66382dd5-b53f-49e4-9d89-a74ee32a8d45",
   "metadata": {},
   "outputs": [
    {
     "data": {
      "text/html": [
       "<div><svg style=\"position: absolute; width: 0; height: 0; overflow: hidden\">\n",
       "<defs>\n",
       "<symbol id=\"icon-database\" viewBox=\"0 0 32 32\">\n",
       "<path d=\"M16 0c-8.837 0-16 2.239-16 5v4c0 2.761 7.163 5 16 5s16-2.239 16-5v-4c0-2.761-7.163-5-16-5z\"></path>\n",
       "<path d=\"M16 17c-8.837 0-16-2.239-16-5v6c0 2.761 7.163 5 16 5s16-2.239 16-5v-6c0 2.761-7.163 5-16 5z\"></path>\n",
       "<path d=\"M16 26c-8.837 0-16-2.239-16-5v6c0 2.761 7.163 5 16 5s16-2.239 16-5v-6c0 2.761-7.163 5-16 5z\"></path>\n",
       "</symbol>\n",
       "<symbol id=\"icon-file-text2\" viewBox=\"0 0 32 32\">\n",
       "<path d=\"M28.681 7.159c-0.694-0.947-1.662-2.053-2.724-3.116s-2.169-2.030-3.116-2.724c-1.612-1.182-2.393-1.319-2.841-1.319h-15.5c-1.378 0-2.5 1.121-2.5 2.5v27c0 1.378 1.122 2.5 2.5 2.5h23c1.378 0 2.5-1.122 2.5-2.5v-19.5c0-0.448-0.137-1.23-1.319-2.841zM24.543 5.457c0.959 0.959 1.712 1.825 2.268 2.543h-4.811v-4.811c0.718 0.556 1.584 1.309 2.543 2.268zM28 29.5c0 0.271-0.229 0.5-0.5 0.5h-23c-0.271 0-0.5-0.229-0.5-0.5v-27c0-0.271 0.229-0.5 0.5-0.5 0 0 15.499-0 15.5 0v7c0 0.552 0.448 1 1 1h7v19.5z\"></path>\n",
       "<path d=\"M23 26h-14c-0.552 0-1-0.448-1-1s0.448-1 1-1h14c0.552 0 1 0.448 1 1s-0.448 1-1 1z\"></path>\n",
       "<path d=\"M23 22h-14c-0.552 0-1-0.448-1-1s0.448-1 1-1h14c0.552 0 1 0.448 1 1s-0.448 1-1 1z\"></path>\n",
       "<path d=\"M23 18h-14c-0.552 0-1-0.448-1-1s0.448-1 1-1h14c0.552 0 1 0.448 1 1s-0.448 1-1 1z\"></path>\n",
       "</symbol>\n",
       "</defs>\n",
       "</svg>\n",
       "<style>/* CSS stylesheet for displaying xarray objects in jupyterlab.\n",
       " *\n",
       " */\n",
       "\n",
       ":root {\n",
       "  --xr-font-color0: var(--jp-content-font-color0, rgba(0, 0, 0, 1));\n",
       "  --xr-font-color2: var(--jp-content-font-color2, rgba(0, 0, 0, 0.54));\n",
       "  --xr-font-color3: var(--jp-content-font-color3, rgba(0, 0, 0, 0.38));\n",
       "  --xr-border-color: var(--jp-border-color2, #e0e0e0);\n",
       "  --xr-disabled-color: var(--jp-layout-color3, #bdbdbd);\n",
       "  --xr-background-color: var(--jp-layout-color0, white);\n",
       "  --xr-background-color-row-even: var(--jp-layout-color1, white);\n",
       "  --xr-background-color-row-odd: var(--jp-layout-color2, #eeeeee);\n",
       "}\n",
       "\n",
       "html[theme=dark],\n",
       "body.vscode-dark {\n",
       "  --xr-font-color0: rgba(255, 255, 255, 1);\n",
       "  --xr-font-color2: rgba(255, 255, 255, 0.54);\n",
       "  --xr-font-color3: rgba(255, 255, 255, 0.38);\n",
       "  --xr-border-color: #1F1F1F;\n",
       "  --xr-disabled-color: #515151;\n",
       "  --xr-background-color: #111111;\n",
       "  --xr-background-color-row-even: #111111;\n",
       "  --xr-background-color-row-odd: #313131;\n",
       "}\n",
       "\n",
       ".xr-wrap {\n",
       "  display: block;\n",
       "  min-width: 300px;\n",
       "  max-width: 700px;\n",
       "}\n",
       "\n",
       ".xr-text-repr-fallback {\n",
       "  /* fallback to plain text repr when CSS is not injected (untrusted notebook) */\n",
       "  display: none;\n",
       "}\n",
       "\n",
       ".xr-header {\n",
       "  padding-top: 6px;\n",
       "  padding-bottom: 6px;\n",
       "  margin-bottom: 4px;\n",
       "  border-bottom: solid 1px var(--xr-border-color);\n",
       "}\n",
       "\n",
       ".xr-header > div,\n",
       ".xr-header > ul {\n",
       "  display: inline;\n",
       "  margin-top: 0;\n",
       "  margin-bottom: 0;\n",
       "}\n",
       "\n",
       ".xr-obj-type,\n",
       ".xr-array-name {\n",
       "  margin-left: 2px;\n",
       "  margin-right: 10px;\n",
       "}\n",
       "\n",
       ".xr-obj-type {\n",
       "  color: var(--xr-font-color2);\n",
       "}\n",
       "\n",
       ".xr-sections {\n",
       "  padding-left: 0 !important;\n",
       "  display: grid;\n",
       "  grid-template-columns: 150px auto auto 1fr 20px 20px;\n",
       "}\n",
       "\n",
       ".xr-section-item {\n",
       "  display: contents;\n",
       "}\n",
       "\n",
       ".xr-section-item input {\n",
       "  display: none;\n",
       "}\n",
       "\n",
       ".xr-section-item input + label {\n",
       "  color: var(--xr-disabled-color);\n",
       "}\n",
       "\n",
       ".xr-section-item input:enabled + label {\n",
       "  cursor: pointer;\n",
       "  color: var(--xr-font-color2);\n",
       "}\n",
       "\n",
       ".xr-section-item input:enabled + label:hover {\n",
       "  color: var(--xr-font-color0);\n",
       "}\n",
       "\n",
       ".xr-section-summary {\n",
       "  grid-column: 1;\n",
       "  color: var(--xr-font-color2);\n",
       "  font-weight: 500;\n",
       "}\n",
       "\n",
       ".xr-section-summary > span {\n",
       "  display: inline-block;\n",
       "  padding-left: 0.5em;\n",
       "}\n",
       "\n",
       ".xr-section-summary-in:disabled + label {\n",
       "  color: var(--xr-font-color2);\n",
       "}\n",
       "\n",
       ".xr-section-summary-in + label:before {\n",
       "  display: inline-block;\n",
       "  content: '►';\n",
       "  font-size: 11px;\n",
       "  width: 15px;\n",
       "  text-align: center;\n",
       "}\n",
       "\n",
       ".xr-section-summary-in:disabled + label:before {\n",
       "  color: var(--xr-disabled-color);\n",
       "}\n",
       "\n",
       ".xr-section-summary-in:checked + label:before {\n",
       "  content: '▼';\n",
       "}\n",
       "\n",
       ".xr-section-summary-in:checked + label > span {\n",
       "  display: none;\n",
       "}\n",
       "\n",
       ".xr-section-summary,\n",
       ".xr-section-inline-details {\n",
       "  padding-top: 4px;\n",
       "  padding-bottom: 4px;\n",
       "}\n",
       "\n",
       ".xr-section-inline-details {\n",
       "  grid-column: 2 / -1;\n",
       "}\n",
       "\n",
       ".xr-section-details {\n",
       "  display: none;\n",
       "  grid-column: 1 / -1;\n",
       "  margin-bottom: 5px;\n",
       "}\n",
       "\n",
       ".xr-section-summary-in:checked ~ .xr-section-details {\n",
       "  display: contents;\n",
       "}\n",
       "\n",
       ".xr-array-wrap {\n",
       "  grid-column: 1 / -1;\n",
       "  display: grid;\n",
       "  grid-template-columns: 20px auto;\n",
       "}\n",
       "\n",
       ".xr-array-wrap > label {\n",
       "  grid-column: 1;\n",
       "  vertical-align: top;\n",
       "}\n",
       "\n",
       ".xr-preview {\n",
       "  color: var(--xr-font-color3);\n",
       "}\n",
       "\n",
       ".xr-array-preview,\n",
       ".xr-array-data {\n",
       "  padding: 0 5px !important;\n",
       "  grid-column: 2;\n",
       "}\n",
       "\n",
       ".xr-array-data,\n",
       ".xr-array-in:checked ~ .xr-array-preview {\n",
       "  display: none;\n",
       "}\n",
       "\n",
       ".xr-array-in:checked ~ .xr-array-data,\n",
       ".xr-array-preview {\n",
       "  display: inline-block;\n",
       "}\n",
       "\n",
       ".xr-dim-list {\n",
       "  display: inline-block !important;\n",
       "  list-style: none;\n",
       "  padding: 0 !important;\n",
       "  margin: 0;\n",
       "}\n",
       "\n",
       ".xr-dim-list li {\n",
       "  display: inline-block;\n",
       "  padding: 0;\n",
       "  margin: 0;\n",
       "}\n",
       "\n",
       ".xr-dim-list:before {\n",
       "  content: '(';\n",
       "}\n",
       "\n",
       ".xr-dim-list:after {\n",
       "  content: ')';\n",
       "}\n",
       "\n",
       ".xr-dim-list li:not(:last-child):after {\n",
       "  content: ',';\n",
       "  padding-right: 5px;\n",
       "}\n",
       "\n",
       ".xr-has-index {\n",
       "  font-weight: bold;\n",
       "}\n",
       "\n",
       ".xr-var-list,\n",
       ".xr-var-item {\n",
       "  display: contents;\n",
       "}\n",
       "\n",
       ".xr-var-item > div,\n",
       ".xr-var-item label,\n",
       ".xr-var-item > .xr-var-name span {\n",
       "  background-color: var(--xr-background-color-row-even);\n",
       "  margin-bottom: 0;\n",
       "}\n",
       "\n",
       ".xr-var-item > .xr-var-name:hover span {\n",
       "  padding-right: 5px;\n",
       "}\n",
       "\n",
       ".xr-var-list > li:nth-child(odd) > div,\n",
       ".xr-var-list > li:nth-child(odd) > label,\n",
       ".xr-var-list > li:nth-child(odd) > .xr-var-name span {\n",
       "  background-color: var(--xr-background-color-row-odd);\n",
       "}\n",
       "\n",
       ".xr-var-name {\n",
       "  grid-column: 1;\n",
       "}\n",
       "\n",
       ".xr-var-dims {\n",
       "  grid-column: 2;\n",
       "}\n",
       "\n",
       ".xr-var-dtype {\n",
       "  grid-column: 3;\n",
       "  text-align: right;\n",
       "  color: var(--xr-font-color2);\n",
       "}\n",
       "\n",
       ".xr-var-preview {\n",
       "  grid-column: 4;\n",
       "}\n",
       "\n",
       ".xr-var-name,\n",
       ".xr-var-dims,\n",
       ".xr-var-dtype,\n",
       ".xr-preview,\n",
       ".xr-attrs dt {\n",
       "  white-space: nowrap;\n",
       "  overflow: hidden;\n",
       "  text-overflow: ellipsis;\n",
       "  padding-right: 10px;\n",
       "}\n",
       "\n",
       ".xr-var-name:hover,\n",
       ".xr-var-dims:hover,\n",
       ".xr-var-dtype:hover,\n",
       ".xr-attrs dt:hover {\n",
       "  overflow: visible;\n",
       "  width: auto;\n",
       "  z-index: 1;\n",
       "}\n",
       "\n",
       ".xr-var-attrs,\n",
       ".xr-var-data {\n",
       "  display: none;\n",
       "  background-color: var(--xr-background-color) !important;\n",
       "  padding-bottom: 5px !important;\n",
       "}\n",
       "\n",
       ".xr-var-attrs-in:checked ~ .xr-var-attrs,\n",
       ".xr-var-data-in:checked ~ .xr-var-data {\n",
       "  display: block;\n",
       "}\n",
       "\n",
       ".xr-var-data > table {\n",
       "  float: right;\n",
       "}\n",
       "\n",
       ".xr-var-name span,\n",
       ".xr-var-data,\n",
       ".xr-attrs {\n",
       "  padding-left: 25px !important;\n",
       "}\n",
       "\n",
       ".xr-attrs,\n",
       ".xr-var-attrs,\n",
       ".xr-var-data {\n",
       "  grid-column: 1 / -1;\n",
       "}\n",
       "\n",
       "dl.xr-attrs {\n",
       "  padding: 0;\n",
       "  margin: 0;\n",
       "  display: grid;\n",
       "  grid-template-columns: 125px auto;\n",
       "}\n",
       "\n",
       ".xr-attrs dt, dd {\n",
       "  padding: 0;\n",
       "  margin: 0;\n",
       "  float: left;\n",
       "  padding-right: 10px;\n",
       "  width: auto;\n",
       "}\n",
       "\n",
       ".xr-attrs dt {\n",
       "  font-weight: normal;\n",
       "  grid-column: 1;\n",
       "}\n",
       "\n",
       ".xr-attrs dt:hover span {\n",
       "  display: inline-block;\n",
       "  background: var(--xr-background-color);\n",
       "  padding-right: 10px;\n",
       "}\n",
       "\n",
       ".xr-attrs dd {\n",
       "  grid-column: 2;\n",
       "  white-space: pre-wrap;\n",
       "  word-break: break-all;\n",
       "}\n",
       "\n",
       ".xr-icon-database,\n",
       ".xr-icon-file-text2 {\n",
       "  display: inline-block;\n",
       "  vertical-align: middle;\n",
       "  width: 1em;\n",
       "  height: 1.5em !important;\n",
       "  stroke-width: 0;\n",
       "  stroke: currentColor;\n",
       "  fill: currentColor;\n",
       "}\n",
       "</style><pre class='xr-text-repr-fallback'>&lt;xarray.DataArray ()&gt;\n",
       "array(78.16883927)</pre><div class='xr-wrap' hidden><div class='xr-header'><div class='xr-obj-type'>xarray.DataArray</div><div class='xr-array-name'></div></div><ul class='xr-sections'><li class='xr-section-item'><div class='xr-array-wrap'><input id='section-c32063cc-80c3-4595-9900-036e9d69f7e6' class='xr-array-in' type='checkbox' checked><label for='section-c32063cc-80c3-4595-9900-036e9d69f7e6' title='Show/hide data repr'><svg class='icon xr-icon-database'><use xlink:href='#icon-database'></use></svg></label><div class='xr-array-preview xr-preview'><span>78.17</span></div><div class='xr-array-data'><pre>array(78.16883927)</pre></div></div></li><li class='xr-section-item'><input id='section-96718203-fd8a-47bc-a0d1-84f29b59629b' class='xr-section-summary-in' type='checkbox' disabled ><label for='section-96718203-fd8a-47bc-a0d1-84f29b59629b' class='xr-section-summary'  title='Expand/collapse section'>Coordinates: <span>(0)</span></label><div class='xr-section-inline-details'></div><div class='xr-section-details'><ul class='xr-var-list'></ul></div></li><li class='xr-section-item'><input id='section-b19fe9f9-d24e-4c91-8f98-9683bf3fd19c' class='xr-section-summary-in' type='checkbox' disabled ><label for='section-b19fe9f9-d24e-4c91-8f98-9683bf3fd19c' class='xr-section-summary'  title='Expand/collapse section'>Attributes: <span>(0)</span></label><div class='xr-section-inline-details'></div><div class='xr-section-details'><dl class='xr-attrs'></dl></div></li></ul></div></div>"
      ],
      "text/plain": [
       "<xarray.DataArray ()>\n",
       "array(78.16883927)"
      ]
     },
     "execution_count": 188,
     "metadata": {},
     "output_type": "execute_result"
    }
   ],
   "source": [
    "(2*np.pi / (np.sqrt(geos.M) / (11**(3/2) + geos.spin * np.sqrt(geos.M)))) * GM_c3"
   ]
  },
  {
   "cell_type": "code",
   "execution_count": 166,
   "id": "12d5aa41-3be0-4879-bccf-dd267cd86965",
   "metadata": {},
   "outputs": [
    {
     "data": {
      "application/vnd.jupyter.widget-view+json": {
       "model_id": "162c26ded2724498a3e123b69c7c7bfc",
       "version_major": 2,
       "version_minor": 0
      },
      "text/plain": [
       "Canvas(toolbar=Toolbar(toolitems=[('Home', 'Reset original view', 'home', 'home'), ('Back', 'Back to previous …"
      ]
     },
     "metadata": {},
     "output_type": "display_data"
    },
    {
     "data": {
      "text/plain": [
       "<matplotlib.legend.Legend at 0x7fd1d0711c70>"
      ]
     },
     "execution_count": 166,
     "metadata": {},
     "output_type": "execute_result"
    }
   ],
   "source": [
    "%matplotlib widget\n",
    "lc_flare = np.vstack((lightcurves_flare, lightcurves_flare_val))\n",
    "lc_disk = np.vstack((lightcurves_disk, lightcurves_disk_val))\n",
    "t_all = np.concatenate((t_frames, t_frames_val))\n",
    "axes = bhnerf.visualization.plot_stokes_lc(lc_flare, ['I','Q','U'], t_all, label='flare')\n",
    "bhnerf.visualization.plot_stokes_lc(lc_disk, ['I','Q','U'], t_all, axes=axes)\n",
    "plt.legend()"
   ]
  },
  {
   "cell_type": "code",
   "execution_count": 43,
   "id": "51ca66d2-a358-4d0f-a9f2-c32f339f7353",
   "metadata": {},
   "outputs": [
    {
     "data": {
      "application/vnd.jupyter.widget-view+json": {
       "model_id": "c50f8ac1187f4aa3963d881d45fb6c50",
       "version_major": 2,
       "version_minor": 0
      },
      "text/plain": [
       "Canvas(toolbar=Toolbar(toolitems=[('Home', 'Reset original view', 'home', 'home'), ('Back', 'Back to previous …"
      ]
     },
     "metadata": {},
     "output_type": "display_data"
    }
   ],
   "source": [
    "inclination = 10.\n",
    "checkpoint_dir = recovery_path.joinpath(basename.format(inclination, seed))\n",
    "raytrace_args = image_plane_model(np.deg2rad(inclination), spin)\n",
    "loss, image_plane = image_plane_fit(raytrace_args, checkpoint_dir, lightcurves_val_df)\n",
    "model = image_plane.sum(axis=(-1,-2))\n",
    "\n",
    "%matplotlib widget\n",
    "plt.rcParams.update({\"text.usetex\": True, \"font.family\": \"Helvetica\",})\n",
    "axes = bhnerf.visualization.plot_stokes_lc(np.array(lightcurves_val_df[stokes]), stokes, np.array(lightcurves_val_df['t']), label='Data')\n",
    "bhnerf.visualization.plot_stokes_lc(model, stokes, np.array(lightcurves_val_df['t']), axes=axes, color='r', fmt='x', label='Model')\n",
    "\n",
    "titles = [r'$I_U$ datafit', r'$Q-U$ datafit']\n",
    "for ax, title in zip(axes, titles):\n",
    "    ax.set_title(title, fontsize=16)\n",
    "    ax.legend()\n",
    "    \n",
    "axes[0].set_xlabel('Time [UT]', fontsize=12)\n",
    "axes[1].set_xlabel('Time [UT]', fontsize=12)\n",
    "plt.tight_layout()\n",
    "# plt.savefig(checkpoint_dir.joinpath('QU.datafit.pdf'), bbox_inches='tight')"
   ]
  },
  {
   "cell_type": "markdown",
   "id": "08eec69e-6809-4feb-a717-a8bcb2dad173",
   "metadata": {
    "jp-MarkdownHeadingCollapsed": true,
    "tags": []
   },
   "source": [
    "# Visualize a single recovery\n",
    "---\n",
    "Visualize a single 3D recovery / datafit for fixed black-hole parameters"
   ]
  },
  {
   "cell_type": "code",
   "execution_count": 32,
   "id": "df2c6615-0f39-4e4e-a06f-1237fbb3d04d",
   "metadata": {},
   "outputs": [],
   "source": [
    "recovery_path = Path('../data/synthetic_lightcurves/single_gaussian/recovery/sim3/')\n",
    "with open(recovery_path.joinpath('params.yaml'), 'r') as stream:\n",
    "    config = yaml.load(stream, Loader=yaml.Loader)\n",
    "\n",
    "locals().update(config['simulation']['model'])\n",
    "locals().update(config['recovery']['model'])\n",
    "locals().update(config['recovery']['optimization']) "
   ]
  },
  {
   "cell_type": "code",
   "execution_count": 31,
   "id": "59553f76-b500-4af7-8340-719769ff279f",
   "metadata": {},
   "outputs": [
    {
     "data": {
      "application/vnd.jupyter.widget-view+json": {
       "model_id": "d8fc0b39e42645d1a4c3c10b990b6400",
       "version_major": 2,
       "version_minor": 0
      },
      "text/plain": [
       "VBox(children=(Figure(camera=PerspectiveCamera(fov=45.0, position=(0.0, -2.1650635094610964, 1.250000000000000…"
      ]
     },
     "metadata": {},
     "output_type": "display_data"
    }
   ],
   "source": [
    "seed = 1\n",
    "inclination = 10\n",
    "resolution = 64\n",
    "checkpoint_dir = recovery_path.joinpath(basename.format(inclination, seed))\n",
    "\n",
    "grid_1d = np.linspace(-fov_M/2, fov_M/2, resolution)\n",
    "coords = np.array(np.meshgrid(grid_1d, grid_1d, grid_1d, indexing='ij'))\n",
    "emission = sample_3D_recovery(checkpoint_dir, coords)\n",
    "\n",
    "bhnerf.visualization.ipyvolume_3d(emission, fov=fov_M, level=[0.1, .2, 0.6])"
   ]
  },
  {
   "cell_type": "markdown",
   "id": "37bfedba-4ed3-4da2-aa77-b994655dd7f1",
   "metadata": {
    "tags": []
   },
   "source": [
    "## Compare recovery to ground truth"
   ]
  },
  {
   "cell_type": "code",
   "execution_count": 45,
   "id": "344de739-7ace-4a93-92cb-4df8c6c62ab1",
   "metadata": {},
   "outputs": [],
   "source": [
    "jit = False\n",
    "resolution = 256\n",
    "bh_radius = 1 + np.sqrt(1-spin**2)\n",
    "cam_r = 55.\n",
    "linewidth = 0.14\n",
    "zenith=np.deg2rad(35)\n",
    "\n",
    "visualizer = bhnerf.visualization.VolumeVisualizer(resolution, resolution, resolution)\n",
    "visualizer.set_view(cam_r=cam_r, domain_r=rmax, azimuth=0.0, zenith=zenith)\n",
    "\n",
    "emission_flare = xr.load_dataarray(config['simulation']['flare_path'])\n",
    "emission_true = emission_flare.interp(x=xr.DataArray(visualizer.x), \n",
    "                                      y=xr.DataArray(visualizer.y), \n",
    "                                      z=xr.DataArray(visualizer.z)).fillna(0.0).data\n",
    "norm_const =  emission_true.max()\n",
    "emission_rec = sample_3D_recovery(checkpoint_dir, visualizer.coords, chunk=32)\n",
    "image_true = visualizer.render(emission_true / norm_const, facewidth=1.9*rmax, jit=jit, \n",
    "                               bh_radius=bh_radius, linewidth=linewidth).clip(a_max=1)\n",
    "image_rec = visualizer.render(emission_rec / norm_const, facewidth=1.9*rmax, jit=jit, \n",
    "                              bh_radius=bh_radius, linewidth=linewidth).clip(a_max=1)"
   ]
  },
  {
   "cell_type": "code",
   "execution_count": 46,
   "id": "0343bf17-f17d-4217-84d0-9abbb54999bb",
   "metadata": {},
   "outputs": [
    {
     "data": {
      "application/vnd.jupyter.widget-view+json": {
       "model_id": "48b7a0b1edfc4a98ae9ee19457525855",
       "version_major": 2,
       "version_minor": 0
      },
      "text/plain": [
       "Canvas(toolbar=Toolbar(toolitems=[('Home', 'Reset original view', 'home', 'home'), ('Back', 'Back to previous …"
      ]
     },
     "metadata": {},
     "output_type": "display_data"
    }
   ],
   "source": [
    "from mpl_toolkits.axes_grid1 import make_axes_locatable\n",
    "from matplotlib.colors import Normalize\n",
    "\n",
    "%matplotlib widget\n",
    "images = [image_true, image_rec]\n",
    "titles = ['Ground truth', 'Recovery']\n",
    "fig, axes = plt.subplots(1,2, figsize=(9,4))\n",
    "for ax, img, title in zip(axes, images, titles):\n",
    "    ax.imshow(img)\n",
    "    ax.set_title(title, fontsize=18, y=0.78)\n",
    "    ax.set_axis_off()\n",
    "    \n",
    "ax = fig.add_subplot(132)\n",
    "ax.set_visible(False)\n",
    "divider = make_axes_locatable(ax)\n",
    "cax = divider.append_axes('bottom', size='3%', pad=-1)\n",
    "cmap = plt.cm.ScalarMappable(norm=Normalize(0, norm_const, clip=True), cmap=plt.get_cmap('hot'))\n",
    "cbar = fig.colorbar(cmap, cax=cax, orientation='horizontal', shrink=.0)\n",
    "cbar.ax.tick_params(labelsize=12) \n",
    "plt.tight_layout()\n",
    "plt.savefig(checkpoint_dir.joinpath('gt_vs_rec.pdf'), bbox_inches='tight')"
   ]
  },
  {
   "cell_type": "code",
   "execution_count": 129,
   "id": "fcc5315a-3df9-4909-b0a7-b60756797dc2",
   "metadata": {},
   "outputs": [
    {
     "data": {
      "application/vnd.jupyter.widget-view+json": {
       "model_id": "370a6acd2f13486ea642f4b784f03318",
       "version_major": 2,
       "version_minor": 0
      },
      "text/plain": [
       "Canvas(toolbar=Toolbar(toolitems=[('Home', 'Reset original view', 'home', 'home'), ('Back', 'Back to previous …"
      ]
     },
     "metadata": {},
     "output_type": "display_data"
    }
   ],
   "source": [
    "raytrace_args = image_plane_model(np.deg2rad(inclination), spin)\n",
    "loss, image_plane = image_plane_fit(raytrace_args, checkpoint_dir, lightcurves_df)\n",
    "model = image_plane.sum(axis=(-1,-2))\n",
    "\n",
    "%matplotlib widget\n",
    "plt.rcParams.update({\"text.usetex\": True, \"font.family\": \"Helvetica\",})\n",
    "axes = bhnerf.visualization.plot_stokes_lc(np.array(lightcurves_df[stokes]), stokes, np.array(lightcurves_df['t']), label='Data')\n",
    "bhnerf.visualization.plot_stokes_lc(model, stokes, t_frames, axes=axes, color='r', fmt='x', label='Model')\n",
    "\n",
    "titles = [r'$I_U$ datafit', r'$Q-U$ datafit']\n",
    "for ax, title in zip(axes, titles):\n",
    "    ax.set_title(title, fontsize=16)\n",
    "    ax.legend()\n",
    "    \n",
    "axes[0].set_xlabel('Time [UT]', fontsize=12)\n",
    "axes[1].set_xlabel('Time [UT]', fontsize=12)\n",
    "plt.tight_layout()\n",
    "# plt.savefig(checkpoint_dir.joinpath('QU.datafit.pdf'), bbox_inches='tight')"
   ]
  },
  {
   "cell_type": "code",
   "execution_count": 48,
   "id": "177d9af9-3d34-4222-81b1-e07a80f87003",
   "metadata": {},
   "outputs": [
    {
     "data": {
      "application/vnd.jupyter.widget-view+json": {
       "model_id": "82f5062c2bd4451bb5db0d1ca5bcaa11",
       "version_major": 2,
       "version_minor": 0
      },
      "text/plain": [
       "Canvas(toolbar=Toolbar(toolitems=[('Home', 'Reset original view', 'home', 'home'), ('Back', 'Back to previous …"
      ]
     },
     "metadata": {},
     "output_type": "display_data"
    },
    {
     "data": {
      "text/plain": [
       "<matplotlib.animation.FuncAnimation at 0x7f143bbefd30>"
      ]
     },
     "execution_count": 48,
     "metadata": {},
     "output_type": "execute_result"
    }
   ],
   "source": [
    "%matplotlib widget\n",
    "movie_list = [xr.DataArray(image_plane[:, i], dims=['t','beta','alpha']) for i in range(image_plane.shape[1])]\n",
    "fig, axes = plt.subplots(1, 3, figsize=(10, 3))\n",
    "bhnerf.visualization.animate_movies_synced(movie_list, axes, titles=['I', 'Q', 'U'], vmin=[0, -.02, -.02], vmax=[.03, .02, .01])"
   ]
  }
 ],
 "metadata": {
  "kernelspec": {
   "display_name": "jax",
   "language": "python",
   "name": "jax"
  },
  "language_info": {
   "codemirror_mode": {
    "name": "ipython",
    "version": 3
   },
   "file_extension": ".py",
   "mimetype": "text/x-python",
   "name": "python",
   "nbconvert_exporter": "python",
   "pygments_lexer": "ipython3",
   "version": "3.9.6"
  }
 },
 "nbformat": 4,
 "nbformat_minor": 5
}
