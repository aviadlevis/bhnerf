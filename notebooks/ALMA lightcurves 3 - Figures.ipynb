{
 "cells": [
  {
   "cell_type": "code",
   "execution_count": 1,
   "id": "b85f8e98-8ea4-4e4c-9304-038107b539e2",
   "metadata": {},
   "outputs": [
    {
     "name": "stderr",
     "output_type": "stream",
     "text": [
      "Matplotlib created a temporary config/cache directory at /tmp/matplotlib-e9z4sgp4 because the default path (/home/jovyan/.cache/matplotlib) is not a writable directory; it is highly recommended to set the MPLCONFIGDIR environment variable to a writable directory, in particular to speed up the import of Matplotlib and to better support multiprocessing.\n"
     ]
    },
    {
     "name": "stdout",
     "output_type": "stream",
     "text": [
      "Welcome to eht-imaging! v 1.2.2 \n",
      "\n"
     ]
    },
    {
     "name": "stderr",
     "output_type": "stream",
     "text": [
      "2023-06-20 16:54:50.062227: W tensorflow/stream_executor/platform/default/dso_loader.cc:64] Could not load dynamic library 'libcudart.so.11.0'; dlerror: libcudart.so.11.0: cannot open shared object file: No such file or directory; LD_LIBRARY_PATH: /.singularity.d/libs\n"
     ]
    }
   ],
   "source": [
    "import bhnerf\n",
    "from astropy import units\n",
    "import jax\n",
    "\n",
    "import numpy as np\n",
    "import xarray as xr\n",
    "import matplotlib.pyplot as plt\n",
    "import pandas as pd\n",
    "from tqdm.notebook import tqdm\n",
    "from flax.training import checkpoints\n",
    "from pathlib import Path\n",
    "import ruamel.yaml as yaml\n",
    "\n",
    "# Runing on 2 GPUs\n",
    "import os\n",
    "os.environ['CUDA_VISIBLE_DEVICES'] = '2,3'\n",
    "\n",
    "# Import script function\n",
    "import sys\n",
    "sys.path.append('../scripts/')\n",
    "from Fit_ALMA_LP_Apr11_SgrA_Flare import preprocess_data"
   ]
  },
  {
   "cell_type": "code",
   "execution_count": 2,
   "id": "57c05f9f-57ea-48cf-9904-306ffcd39d16",
   "metadata": {},
   "outputs": [],
   "source": [
    "def sample_3D_recovery(checkpoint_dir, coords, chunk=-1):\n",
    "    predictor = bhnerf.network.NeRF_Predictor.from_yml(checkpoint_dir)\n",
    "    state = checkpoints.restore_checkpoint(checkpoint_dir, None)\n",
    "    emission = bhnerf.network.sample_3d_grid(predictor.apply, state['params'], coords=coords, chunk=chunk)\n",
    "    return emission\n",
    "\n",
    "def image_plane_model(inc, spin, randomize_subpixel_rays=False):\n",
    "    # Compute geodesics paths\n",
    "    geos = bhnerf.kgeo.image_plane_geos(\n",
    "        spin, inc, \n",
    "        num_alpha=num_alpha, \n",
    "        num_beta=num_beta, \n",
    "        alpha_range=[-fov_M/2, fov_M/2],\n",
    "        beta_range=[-fov_M/2, fov_M/2],\n",
    "        randomize_subpixel_rays=randomize_subpixel_rays\n",
    "    )\n",
    "    geos = geos.fillna(0.0)\n",
    "     # Keplerian velocity and Doppler boosting\n",
    "    rot_sign = {'cw': -1, 'ccw': 1}\n",
    "    Omega = rot_sign[Omega_dir] * np.sqrt(geos.M) / (geos.r**(3/2) + geos.spin * np.sqrt(geos.M))\n",
    "    umu = bhnerf.kgeo.azimuthal_velocity_vector(geos, Omega)\n",
    "    g = bhnerf.kgeo.doppler_factor(geos, umu)\n",
    "\n",
    "    # Magnitude normalized magnetic field in fluid-frame\n",
    "    b = bhnerf.kgeo.magnetic_field_fluid_frame(geos, umu, **b_consts)\n",
    "    domain = np.bitwise_and(np.bitwise_and(np.abs(geos.z) < z_width, geos.r > rmin), geos.r < rmax)\n",
    "    b_mean = np.sqrt(np.sum(b[domain]**2, axis=-1)).mean()\n",
    "    b /= b_mean\n",
    "\n",
    "    # Polarized emission factors (including parallel transport)\n",
    "    de_rot_model = np.deg2rad(de_rot_angle + 20.0)\n",
    "    J = np.nan_to_num(bhnerf.kgeo.parallel_transport(geos, umu, g, b, Q_frac=Q_frac, V_frac=0), 0.0)\n",
    "    J_rot = bhnerf.emission.rotate_evpa(J, de_rot_model)\n",
    "\n",
    "    t_injection = -float(geos.r_o + fov_M/4)\n",
    "    raytracing_args = bhnerf.network.raytracing_args(geos, Omega, t_injection, t_start_obs*units.hr, J_rot)\n",
    "    return raytracing_args\n",
    "\n",
    "def image_plane_model_perturb_rays(inc, spin):\n",
    "    raytracing_args = []\n",
    "    for i in tqdm(range(num_subrays), leave=False):\n",
    "        raytracing_args.append(image_plane_model(inc, spin, randomize_subpixel_rays=True))\n",
    "    return raytracing_args\n",
    "\n",
    "def image_plane_fit(raytracing_args, checkpoint_dir, t, data, rmin=0.0, rmax=np.inf, batchsize=20):\n",
    "    predictor = bhnerf.network.NeRF_Predictor.from_yml(checkpoint_dir)\n",
    "    predictor.rmax = min(rmax, predictor.rmax)\n",
    "    predictor.rmin = max(rmin, predictor.rmin)\n",
    "    params = predictor.init_params(raytracing_args)\n",
    "    state = predictor.init_state(params, checkpoint_dir=checkpoint_dir)\n",
    "    train_step = bhnerf.optimization.TrainStep.image(t, data, sigma, dtype='lc')\n",
    "    _, image_plane = bhnerf.optimization.total_movie_loss(batchsize, state, train_step, raytracing_args, return_frames=True)\n",
    "    datafit = np.sum(((image_plane.sum(axis=(-1,-2)) - data) / sigma)**2) / len(t)\n",
    "    return datafit, image_plane"
   ]
  },
  {
   "cell_type": "markdown",
   "id": "f051e636-fd23-430b-9559-5bfbdc6e7def",
   "metadata": {
    "tags": []
   },
   "source": [
    "# Data-fits\n",
    "---\n",
    "Data-fit as a function of inclination angle "
   ]
  },
  {
   "cell_type": "code",
   "execution_count": 75,
   "id": "580bf179-164e-4012-9131-52717dd05588",
   "metadata": {},
   "outputs": [
    {
     "data": {
      "application/vnd.jupyter.widget-view+json": {
       "model_id": "5c32fa537f2149978dcea7a84da86dc4",
       "version_major": 2,
       "version_minor": 0
      },
      "text/plain": [
       "Canvas(toolbar=Toolbar(toolitems=[('Home', 'Reset original view', 'home', 'home'), ('Back', 'Back to previous …"
      ]
     },
     "metadata": {},
     "output_type": "display_data"
    }
   ],
   "source": [
    "inc_loss_val = pd.read_csv('../checkpoints/alma/intrinsic_fits/vertical_b_variable_pixels1/inclination_loss_subrays_10_0.csv', index_col=0)\n",
    "inc_loss_tor_val = pd.read_csv('../checkpoints/alma/intrinsic_fits/toroidal_b_variable_pixels1_new/inclination_loss_subrays_10_0.csv', index_col=0)\n",
    "inc_loss_rad_val = pd.read_csv('../checkpoints/alma/intrinsic_fits/radial_b_variable_pixels1_new/inclination_loss_subrays_10_0.csv', index_col=0)\n",
    "inc_loss_ccw_val = pd.read_csv('../checkpoints/alma/intrinsic_fits/vertical_b_variable_pixels1_ccw/inclination_loss_subrays_10_0.csv', index_col=0)\n",
    "\n",
    "plt.rcParams.update({\"text.usetex\": True, \"font.family\": \"Helvetica\"})\n",
    "\n",
    "%matplotlib widget\n",
    "fig, axes = plt.subplots(1, 2, sharey=True, figsize=(10,4.8))\n",
    "axes[0].errorbar(inc_loss_rad_val.index, np.nanmean(np.log10(inc_loss_rad_val), axis=1), np.nanstd(np.log10(inc_loss_rad_val), axis=1), \n",
    "             color='tab:green', marker='^', mfc='g', mec='g', \n",
    "             label=r'$\\chi^2(\\theta_{\\rm o}|B_{r})$', markersize=5)\n",
    "axes[0].axhline(np.nanmean(np.log10(inc_loss_rad_val), axis=1).min(), color='green', linestyle='--',linewidth=0.9)\n",
    "\n",
    "axes[0].errorbar(inc_loss_tor_val.index, np.nanmean(np.log10(inc_loss_tor_val), axis=1), np.nanstd(np.log10(inc_loss_tor_val), axis=1), \n",
    "             color='tab:blue', marker='^', mfc='b', mec='b', \n",
    "             label=r'$\\chi^2(\\theta_{\\rm o}|B_{\\phi})$', markersize=5)\n",
    "axes[0].axhline(np.nanmean(np.log10(inc_loss_tor_val), axis=1).min(), color='blue', linestyle='--',linewidth=0.9)\n",
    "\n",
    "axes[0].errorbar(inc_loss_val.index, np.nanmean(np.log10(inc_loss_val), axis=1), np.nanstd(np.log10(inc_loss_val), axis=1), \n",
    "             color='tab:orange', marker='^', mfc='r', mec='r', \n",
    "             label=r'$\\chi^2(\\theta_{\\rm o}|B_{z})$', markersize=5)\n",
    "axes[0].axhline(np.nanmean(np.log10(inc_loss_val), axis=1).min(), color='red', linestyle='--',linewidth=0.9)\n",
    "\n",
    "\n",
    "axes[1].errorbar(inc_loss_ccw_val.index, np.nanmean(np.log10(inc_loss_ccw_val), axis=1), np.nanstd(np.log10(inc_loss_ccw_val), axis=1), \n",
    "             color='tab:purple', marker='^', mfc='purple', mec='purple',\n",
    "             label=r'$\\chi^2(\\theta_{\\rm o}|{\\tt CCW})$', markersize=5)\n",
    "axes[1].axhline(np.nanmean(np.log10(inc_loss_ccw_val), axis=1).min(), color='purple', linestyle='--',linewidth=0.9)\n",
    "\n",
    "axes[1].errorbar(inc_loss_val.index, np.nanmean(np.log10(inc_loss_val), axis=1), np.nanstd(np.log10(inc_loss_val), axis=1), \n",
    "             color='tab:orange', marker='^', mfc='r', mec='r', \n",
    "             label=r'$\\chi^2(\\theta_{\\rm o}|{\\tt CW})$', markersize=5)\n",
    "axes[1].axhline(np.nanmean(np.log10(inc_loss_val), axis=1).min(), color='red', linestyle='--',linewidth=0.9)\n",
    "\n",
    "for ax in axes:\n",
    "    ax.axvline(12, color='black', linestyle='--',linewidth=0.8)\n",
    "    ax.legend(loc='lower right', fontsize=14)\n",
    "    ax.axhline(0, color='black', linestyle='--',linewidth=0.8)\n",
    "    ax.set_xticks([12, 20, 40, 60, 80])\n",
    "    ax.set_xlabel(r'Inclination [deg]', fontsize=16)\n",
    "    ax.tick_params(axis='both', which='major', labelsize=14) \n",
    "    ax.set_ylim([0, 2.5])\n",
    "    \n",
    "axes[0].set_ylabel(r'$\\log \\chi^2$', fontsize=20)\n",
    "axes[0].set_title(r'Validation: magnetic field configurations', fontsize=18)\n",
    "axes[1].set_title(r'Validation: rotation direction', fontsize=18)\n",
    "plt.tight_layout()\n",
    "plt.savefig('alma/intrinsic_fits/vertical_b_variable_pixels1/ALMA_validation_fit_magnetic_configs_and_cw_vs_ccw.pdf')"
   ]
  },
  {
   "cell_type": "code",
   "execution_count": 44,
   "id": "d8993153-bf66-4adf-8ab7-39888c7168b8",
   "metadata": {},
   "outputs": [
    {
     "data": {
      "application/vnd.jupyter.widget-view+json": {
       "model_id": "839f03f8b56948f2ba36b1265802afba",
       "version_major": 2,
       "version_minor": 0
      },
      "text/plain": [
       "Canvas(toolbar=Toolbar(toolitems=[('Home', 'Reset original view', 'home', 'home'), ('Back', 'Back to previous …"
      ]
     },
     "metadata": {},
     "output_type": "display_data"
    }
   ],
   "source": [
    "inc_loss_cw = pd.read_csv('../checkpoints/alma/intrinsic_fits/vertical_b_variable_pixels1/inclination_loss.csv', index_col=0)\n",
    "inc_loss_ccw = pd.read_csv('../checkpoints/alma/intrinsic_fits/vertical_b_variable_pixels1_ccw/inclination_loss.csv', index_col=0)\n",
    "inc_loss_vert = pd.read_csv('../checkpoints/alma/intrinsic_fits/vertical_b_variable_pixels1/inclination_loss.csv', index_col=0)\n",
    "inc_loss_rad = pd.read_csv('../checkpoints/alma/intrinsic_fits/radial_b_variable_pixels1_new/inclination_loss.csv', index_col=0)\n",
    "inc_loss_tor = pd.read_csv('../checkpoints/alma/intrinsic_fits/toroidal_b_variable_pixels1_new/inclination_loss.csv', index_col=0)\n",
    "plt.rcParams.update({\"text.usetex\": True, \"font.family\": \"Helvetica\"})\n",
    "\n",
    "\n",
    "%matplotlib widget\n",
    "fig, axes = plt.subplots(1, 2, sharey=True, figsize=(9,4.8))\n",
    "axes[0].errorbar(inc_loss_rad.index, np.nanmean(np.log10(inc_loss_rad), axis=1), np.nanstd(np.log10(inc_loss_rad), axis=1), \n",
    "             color='tab:green', marker='^', mfc='g', mec='g', \n",
    "             label=r'$\\log \\chi^2(\\theta|B_{r})$', markersize=5)\n",
    "\n",
    "axes[0].errorbar(inc_loss_tor.index, np.nanmean(np.log10(inc_loss_tor), axis=1), np.nanstd(np.log10(inc_loss_tor), axis=1), \n",
    "             color='tab:blue', marker='^', mfc='b', mec='b', \n",
    "             label=r'$\\log \\chi^2(\\theta|B_{\\phi})$', markersize=5)\n",
    "\n",
    "axes[0].errorbar(inc_loss_vert.index, np.nanmean(np.log10(inc_loss_vert), axis=1), np.nanstd(np.log10(inc_loss_vert), axis=1), \n",
    "             color='tab:orange', marker='^', mfc='r', mec='r', \n",
    "             label=r'$\\log \\chi^2(\\theta|B_{z})$', markersize=5)\n",
    "\n",
    "axes[1].errorbar(inc_loss_ccw.index, np.nanmean(np.log10(inc_loss_ccw), axis=1), np.nanstd(np.log10(inc_loss_ccw), axis=1), \n",
    "             color='tab:purple', marker='^', mfc='purple', mec='purple',\n",
    "             label=r'$\\log \\chi^2(\\theta|{\\tt CCW})$', markersize=5)\n",
    "\n",
    "axes[1].errorbar(inc_loss_cw.index, np.nanmean(np.log10(inc_loss_cw), axis=1), np.nanstd(np.log10(inc_loss_cw), axis=1), \n",
    "             color='tab:orange', marker='^', mfc='r', mec='r', \n",
    "             label=r'$\\log \\chi^2(\\theta|{\\tt CW})$', markersize=5)\n",
    "\n",
    "\n",
    "for ax in axes:\n",
    "    ax.axvline(12, color='black', linestyle='--',linewidth=0.8)\n",
    "    ax.legend(loc='lower right', fontsize=14)\n",
    "    ax.axhline(0, color='black', linestyle='--',linewidth=0.8)\n",
    "    ax.set_xticks([12, 20, 40, 60, 80])\n",
    "    ax.set_xlabel(r'Inclination [deg]', fontsize=16)\n",
    "    ax.tick_params(axis='both', which='major', labelsize=14) \n",
    "    \n",
    "axes[0].set_title(r'Data-fit: magnetic field configurations', fontsize=18)\n",
    "axes[1].set_title(r'Data-fit: rotation direction', fontsize=18)\n",
    "plt.tight_layout()\n",
    "plt.savefig('alma/intrinsic_fits/vertical_b_variable_pixels1/ALMA_data_fit_magnetic_configs_and_cw_vs_ccw.pdf')"
   ]
  },
  {
   "cell_type": "code",
   "execution_count": 11,
   "id": "83483051-36cd-47db-b462-1d9088b7e049",
   "metadata": {},
   "outputs": [
    {
     "data": {
      "application/vnd.jupyter.widget-view+json": {
       "model_id": "23096c6df891410e9778c3e5814daed2",
       "version_major": 2,
       "version_minor": 0
      },
      "text/plain": [
       "Canvas(toolbar=Toolbar(toolitems=[('Home', 'Reset original view', 'home', 'home'), ('Back', 'Back to previous …"
      ]
     },
     "metadata": {},
     "output_type": "display_data"
    }
   ],
   "source": [
    "inclinations = np.arange(4, 82, 2, dtype=float)\n",
    "\n",
    "inc_loss_vert = pd.read_csv('../checkpoints/alma/intrinsic_fits/vertical_b_variable_pixels1/inclination_loss.csv', index_col=0)\n",
    "inc_loss_rad = pd.read_csv('../checkpoints/alma/intrinsic_fits/radial_b_variable_pixels1_new/inclination_loss.csv', index_col=0)\n",
    "inc_loss_tor = pd.read_csv('../checkpoints/alma/intrinsic_fits/toroidal_b_variable_pixels1_new/inclination_loss.csv', index_col=0)\n",
    "plt.rcParams.update({\"text.usetex\": True, \"font.family\": \"Helvetica\"})\n",
    "\n",
    "%matplotlib widget\n",
    "plt.figure(figsize=(5,4.8))\n",
    "plt.axvline(12, color='black', linestyle='--',linewidth=0.8)\n",
    "plt.errorbar(inclinations, np.nanmean(np.log10(inc_loss_rad), axis=1), np.nanstd(np.log10(inc_loss_rad), axis=1), \n",
    "             color='tab:green', marker='^', mfc='g', mec='g', \n",
    "             label=r'$\\log \\chi^2(\\theta|B_{r})$', markersize=5)\n",
    "\n",
    "plt.errorbar(inclinations, np.nanmean(np.log10(inc_loss_tor), axis=1), np.nanstd(np.log10(inc_loss_tor), axis=1), \n",
    "             color='tab:blue', marker='^', mfc='b', mec='b', \n",
    "             label=r'$\\log \\chi^2(\\theta|B_{\\phi})$', markersize=5)\n",
    "\n",
    "plt.errorbar(inclinations, np.nanmean(np.log10(inc_loss_vert), axis=1), np.nanstd(np.log10(inc_loss_vert), axis=1), \n",
    "             color='tab:orange', marker='^', mfc='r', mec='r', \n",
    "             label=r'$\\log \\chi^2(\\theta|B_{z})$', markersize=5)\n",
    "\n",
    "plt.legend(loc='best', fontsize=14)\n",
    "plt.axhline(0, color='black', linestyle='--',linewidth=0.8)\n",
    "\n",
    "plt.xticks([12, 20, 40, 60, 80])\n",
    "plt.xlabel(r'Inclination [deg]', fontsize=16)\n",
    "plt.title(r'Data-fit: magnetic field configurations', fontsize=18)\n",
    "plt.tight_layout()\n",
    "plt.tick_params(axis='both', which='major', labelsize=14)\n",
    "\n",
    "plt.savefig('alma/intrinsic_fits/vertical_b_variable_pixels1/magnetic_configurations.pdf')"
   ]
  },
  {
   "cell_type": "code",
   "execution_count": 4,
   "id": "eea0cf16-6cdc-4204-8e1f-74ff38daf66e",
   "metadata": {},
   "outputs": [
    {
     "data": {
      "application/vnd.jupyter.widget-view+json": {
       "model_id": "f65ac08d4e8b4ac7a3f059048e90a8a8",
       "version_major": 2,
       "version_minor": 0
      },
      "text/plain": [
       "Canvas(toolbar=Toolbar(toolitems=[('Home', 'Reset original view', 'home', 'home'), ('Back', 'Back to previous …"
      ]
     },
     "metadata": {},
     "output_type": "display_data"
    }
   ],
   "source": [
    "outpath = '/alma/intrinsic_fits/vertical_b_variable_pixels1/'\n",
    "inclinations = np.arange(4, 82, 2, dtype=float)\n",
    "spin_grid = np.linspace(1e-3, 0.99, 10)\n",
    "\n",
    "inc_loss = pd.read_csv('../checkpoints/alma/intrinsic_fits/vertical_b_variable_pixels1/inclination_loss.csv', index_col=0)\n",
    "plt.rcParams.update({\"text.usetex\": True, \"font.family\": \"Helvetica\"})\n",
    "\n",
    "%matplotlib widget\n",
    "plt.figure(figsize=(5,4.8))\n",
    "ax1 = plt.gca()\n",
    "ax2 = ax1.twiny()\n",
    "ax2.errorbar(inclinations, np.nanmean(np.log10(inc_loss), axis=1), np.nanstd(np.log10(inc_loss), axis=1), \n",
    "             color='tab:orange', marker='^', mfc='r', mec='r', \n",
    "             label=r'\\log \\chi^2 $(\\theta|B_z)$', markersize=5)\n",
    "\n",
    "ax1.errorbar(spin_grid, np.nanmean(np.log10(spin_loss_subrays), axis=1), np.nanstd(np.log10(spin_loss_subrays), axis=1), \n",
    "             color='tab:blue', marker='^', mfc='b', mec='b', \n",
    "             label=r'validation $(a|\\theta{=}12^\\circ)$', markersize=5)\n",
    "\n",
    "for ax in [ax1, ax2]:\n",
    "    ax.tick_params(axis='both', which='major', labelsize=14)\n",
    "    ax.legend(loc='best', fontsize=14)\n",
    "\n",
    "plt.axhline(0, color='gray', linestyle='--',linewidth=0.8)\n",
    "plt.axvline(12, color='gray', linestyle='--',linewidth=0.8)\n",
    "ax2.set_xticks([12, 20, 40, 60, 80])\n",
    "ax1.set_xlabel(r'Spin', fontsize=16)\n",
    "ax2.set_xlabel(r'Inclination [deg]', fontsize=16)\n",
    "# plt.title(r'Inclination / Spin data-fit: $\\log \\chi^2(\\theta | {\\bf w}^\\star)$ / $\\log \\chi^2(a | \\theta=12^\\circ, {\\bf w}^\\star)$', fontsize=16)\n",
    "plt.tight_layout()\n",
    "# plt.savefig(outpath.joinpath('inclination_loss_w_subray_validation_w_spin_valonly.pdf'))"
   ]
  },
  {
   "cell_type": "code",
   "execution_count": null,
   "id": "327b9f81-a2a5-4812-a2dc-2dd967a83d8c",
   "metadata": {},
   "outputs": [],
   "source": [
    "inclinations = np.arange(4, 82, 2, dtype=float)\n",
    "spin_grid = np.linspace(1e-3, 0.99, 10)\n",
    "\n",
    "inc_loss = pd.read_csv(recovery_path.joinpath('inclination_loss.csv'), index_col=0)\n",
    "inc_loss_subrays = pd.read_csv(recovery_path.joinpath('inclination_loss_subrays_10_0.csv'), index_col=0)\n",
    "spin_loss = pd.read_csv('../checkpoints/alma/intrinsic_fits/vertical_b_spin_scan_rmin_ISCO/spin_loss.csv', index_col=0)\n",
    "plt.rcParams.update({\"text.usetex\": True, \"font.family\": \"Helvetica\"})\n",
    "\n",
    "%matplotlib widget\n",
    "plt.figure(figsize=(5,4.8))\n",
    "ax1 = plt.gca()\n",
    "ax2 = ax1.twiny()\n",
    "ax2.errorbar(inclinations, np.nanmean(np.log10(inc_loss), axis=1), np.nanstd(np.log10(inc_loss), axis=1), \n",
    "             color='tab:orange', marker='^', mfc='r', mec='r', \n",
    "             label=r'$\\log \\chi^2(\\theta|a{=}0)$', markersize=5)\n",
    "# ax1.errorbar(inclinations, np.nanmean(np.log10(inc_loss_subrays), axis=1), np.nanstd(np.log10(inc_loss_subrays), axis=1), \n",
    "#              color='tab:blue', marker='^', mfc='b', mec='b', \n",
    "#              label='validation', markersize=5)\n",
    "ax1.errorbar(spin_grid, np.nanmean(np.log10(spin_loss), axis=1), np.nanstd(np.log10(spin_loss), axis=1), \n",
    "             color='tab:blue', marker='o', mfc='b', mec='b', \n",
    "             label=r'$\\log \\chi^2(a|\\theta{=}12^\\circ)$', markersize=4)\n",
    "\n",
    "for ax in [ax1, ax2]:\n",
    "    ax.tick_params(axis='both', which='major', labelsize=14)\n",
    "    ax.legend(loc='best', fontsize=14)\n",
    "\n",
    "plt.axhline(0, color='gray', linestyle='--',linewidth=0.8)\n",
    "plt.axvline(12, color='gray', linestyle='--',linewidth=0.8)\n",
    "ax2.set_xticks([12, 20, 40, 60, 80])\n",
    "ax1.set_xlabel(r'Spin', fontsize=16)\n",
    "ax2.set_xlabel(r'Inclination [deg]', fontsize=16)\n",
    "# plt.title(r'Inclination / Spin data-fit: $\\log \\chi^2(\\theta | {\\bf w}^\\star)$ / $\\log \\chi^2(a | \\theta=12^\\circ, {\\bf w}^\\star)$', fontsize=16)\n",
    "plt.tight_layout()\n",
    "plt.savefig(outpath.joinpath('inclination_loss_w_subray_validation_w_spin.pdf'))"
   ]
  },
  {
   "cell_type": "markdown",
   "id": "fbbbe67f-c030-44bf-bdf1-853a4d5c0986",
   "metadata": {
    "tags": []
   },
   "source": [
    "# Visualize 3D recoveries\n",
    "---"
   ]
  },
  {
   "cell_type": "code",
   "execution_count": 20,
   "id": "ca44e364-3e87-4cee-bb21-a2cb871847e1",
   "metadata": {},
   "outputs": [
    {
     "data": {
      "application/vnd.jupyter.widget-view+json": {
       "model_id": "1622ed15a64341d2bd6fbd3b3018a3da",
       "version_major": 2,
       "version_minor": 0
      },
      "text/plain": [
       "seed:   0%|          | 0/4 [00:00<?, ?it/s]"
      ]
     },
     "metadata": {},
     "output_type": "display_data"
    },
    {
     "data": {
      "application/vnd.jupyter.widget-view+json": {
       "model_id": "",
       "version_major": 2,
       "version_minor": 0
      },
      "text/plain": [
       "inc:   0%|          | 0/6 [00:00<?, ?it/s]"
      ]
     },
     "metadata": {},
     "output_type": "display_data"
    },
    {
     "data": {
      "application/vnd.jupyter.widget-view+json": {
       "model_id": "",
       "version_major": 2,
       "version_minor": 0
      },
      "text/plain": [
       "inc:   0%|          | 0/6 [00:00<?, ?it/s]"
      ]
     },
     "metadata": {},
     "output_type": "display_data"
    },
    {
     "data": {
      "application/vnd.jupyter.widget-view+json": {
       "model_id": "",
       "version_major": 2,
       "version_minor": 0
      },
      "text/plain": [
       "inc:   0%|          | 0/6 [00:00<?, ?it/s]"
      ]
     },
     "metadata": {},
     "output_type": "display_data"
    },
    {
     "data": {
      "application/vnd.jupyter.widget-view+json": {
       "model_id": "",
       "version_major": 2,
       "version_minor": 0
      },
      "text/plain": [
       "inc:   0%|          | 0/6 [00:00<?, ?it/s]"
      ]
     },
     "metadata": {},
     "output_type": "display_data"
    }
   ],
   "source": [
    "# 10 precent configuration\n",
    "basename = 'inc_{:.1f}.seed_{}'\n",
    "recovery_path = Path('../checkpoints/alma/intrinsic_fits/vertical_b_variable_pixels1_ccw//')\n",
    "with open(recovery_path.joinpath('config.yml'), 'r') as stream:\n",
    "    config = yaml.load(stream, Loader=yaml.Loader)\n",
    "\n",
    "locals().update(config['model'])\n",
    "rmax = fov_M / 2\n",
    "if rmin == 'ISCO': rmin = float(bhnerf.constants.isco_pro(spin))\n",
    "\n",
    "\n",
    "seeds = range(0, 4)\n",
    "inc_grid = [6, 8, 10, 12, 14, 16]\n",
    "\n",
    "zenith = np.deg2rad(35)\n",
    "\n",
    "jit = True\n",
    "resolution = 256\n",
    "bh_radius = 1 + np.sqrt(1-spin**2)\n",
    "cam_r = 55.\n",
    "linewidth = 0.14\n",
    "norm_const =  0.05\n",
    "\n",
    "visualizer = bhnerf.visualization.VolumeVisualizer(resolution, resolution, resolution)\n",
    "\n",
    "images = np.empty((len(seeds), len(inc_grid), resolution, resolution, 3))\n",
    "emission = 0\n",
    "visualizer.set_view(cam_r=cam_r, domain_r=rmax, azimuth=0.0, zenith=zenith)\n",
    "\n",
    "for i, seed in enumerate(tqdm(seeds, desc='seed')):\n",
    "    for j, inc in enumerate(tqdm(inc_grid, desc='inc', leave=False)):\n",
    "        checkpoint_dir = recovery_path.joinpath(basename.format(inc, seed))\n",
    "        emission = sample_3D_recovery(checkpoint_dir, visualizer.coords, chunk=32)\n",
    "        images[i,j] = visualizer.render(emission / norm_const, facewidth=1.9*rmax, jit=jit, bh_radius=bh_radius, linewidth=linewidth).clip(a_max=1)"
   ]
  },
  {
   "cell_type": "code",
   "execution_count": 68,
   "id": "a8b9a83a-b6c9-4938-b24d-012964738f0e",
   "metadata": {},
   "outputs": [
    {
     "data": {
      "application/vnd.jupyter.widget-view+json": {
       "model_id": "e0dfe7ed75b247ed8f7021d005123f53",
       "version_major": 2,
       "version_minor": 0
      },
      "text/plain": [
       "Canvas(toolbar=Toolbar(toolitems=[('Home', 'Reset original view', 'home', 'home'), ('Back', 'Back to previous …"
      ]
     },
     "metadata": {},
     "output_type": "display_data"
    }
   ],
   "source": [
    "outpath = Path('alma/intrinsic_fits/vertical_b_variable_pixels1/')\n",
    "from mpl_toolkits.axes_grid1 import make_axes_locatable\n",
    "from matplotlib.colors import Normalize\n",
    "\n",
    "fig, axes = plt.subplots(3, 4, figsize=(9,6.5))\n",
    "for i in range(2, 5):\n",
    "    for j in range(4):\n",
    "        axes[i-2,j].imshow(images[j,i])\n",
    "        axes[i-2,j].set_xticks([])\n",
    "        axes[i-2,j].set_yticks([])\n",
    "        for spine in axes[i-2,j].spines.values():\n",
    "            spine.set_visible(False)\n",
    "        axes[i-2,0].set_ylabel(r'${}^\\circ$'.format(inc_grid[i]), fontsize=16)\n",
    "    axes[i-2,0].set_ylabel(r'${}^\\circ$'.format(inc_grid[i]), fontsize=16)\n",
    "# ax = fig.add_subplot(132)\n",
    "# ax.set_visible(False)\n",
    "# divider = make_axes_locatable(ax)\n",
    "# cax = divider.append_axes('bottom', size='3%', pad=-1)\n",
    "# cmap = plt.cm.ScalarMappable(norm=Normalize(0, norm_const, clip=True), cmap=plt.get_cmap('hot'))\n",
    "# cbar = fig.colorbar(cmap, cax=cax, orientation='horizontal', shrink=.0)\n",
    "# cbar.ax.tick_params(labelsize=12) \n",
    "plt.tight_layout()\n",
    "# \n",
    "outname = '3D_Recovery_different_seeds_and_inc.pdf'\n",
    "plt.savefig(outpath.joinpath(outname), bbox_inches='tight')"
   ]
  },
  {
   "cell_type": "code",
   "execution_count": 55,
   "id": "d9e99ad3-fae4-45ad-a6c6-867c8c4e3563",
   "metadata": {},
   "outputs": [
    {
     "data": {
      "application/vnd.jupyter.widget-view+json": {
       "model_id": "7f0ec038df9d43589099e8787d0ad8ee",
       "version_major": 2,
       "version_minor": 0
      },
      "text/plain": [
       "view angle:   0%|          | 0/2 [00:00<?, ?it/s]"
      ]
     },
     "metadata": {},
     "output_type": "display_data"
    },
    {
     "data": {
      "application/vnd.jupyter.widget-view+json": {
       "model_id": "",
       "version_major": 2,
       "version_minor": 0
      },
      "text/plain": [
       "inc/seed: 0it [00:00, ?it/s]"
      ]
     },
     "metadata": {},
     "output_type": "display_data"
    },
    {
     "data": {
      "application/vnd.jupyter.widget-view+json": {
       "model_id": "",
       "version_major": 2,
       "version_minor": 0
      },
      "text/plain": [
       "inc/seed: 0it [00:00, ?it/s]"
      ]
     },
     "metadata": {},
     "output_type": "display_data"
    }
   ],
   "source": [
    "# 10 precent configuration\n",
    "seeds = [0, 1, 2, 3, 0, 1]\n",
    "# inc_grid = np.arange(4, 24, 2, dtype=float)\n",
    "inc_grid = [12, 12, 12, 12, 16, 16]\n",
    "\n",
    "view_zeniths = [np.deg2rad(35), np.deg2rad(65)]\n",
    "\n",
    "jit = False if len(view_zeniths) < 5 else True\n",
    "resolution = 256\n",
    "bh_radius = 1 + np.sqrt(1-spin**2)\n",
    "cam_r = 55.\n",
    "linewidth = 0.14\n",
    "norm_const =  0.05\n",
    "\n",
    "visualizer = bhnerf.visualization.VolumeVisualizer(resolution, resolution, resolution)\n",
    "\n",
    "images = []\n",
    "for zenith in tqdm(view_zeniths, desc='view angle'):\n",
    "    emission = 0\n",
    "    visualizer.set_view(cam_r=cam_r, domain_r=rmax, azimuth=0.0, zenith=zenith)\n",
    "    for inc, seed in tqdm(zip(inc_grid, seeds), desc='inc/seed', leave=False):\n",
    "        checkpoint_dir = recovery_path.joinpath(basename.format(inc, seed))\n",
    "        emission += sample_3D_recovery(checkpoint_dir, visualizer.coords, chunk=32) / len(inc_grid)\n",
    "        \n",
    "    image = visualizer.render(emission / norm_const, facewidth=1.9*rmax, jit=jit, bh_radius=bh_radius, linewidth=linewidth).clip(a_max=1)\n",
    "    images.append(image)"
   ]
  },
  {
   "cell_type": "code",
   "execution_count": 69,
   "id": "bb9b7aec-8017-4a87-b4d9-29c6826861fc",
   "metadata": {
    "tags": []
   },
   "outputs": [
    {
     "data": {
      "application/vnd.jupyter.widget-view+json": {
       "model_id": "f51ab99937ab4f30a117a115268eb6b5",
       "version_major": 2,
       "version_minor": 0
      },
      "text/plain": [
       "view angle:   0%|          | 0/2 [00:00<?, ?it/s]"
      ]
     },
     "metadata": {},
     "output_type": "display_data"
    },
    {
     "data": {
      "application/vnd.jupyter.widget-view+json": {
       "model_id": "",
       "version_major": 2,
       "version_minor": 0
      },
      "text/plain": [
       "inc:   0%|          | 0/1 [00:00<?, ?it/s]"
      ]
     },
     "metadata": {},
     "output_type": "display_data"
    },
    {
     "data": {
      "application/vnd.jupyter.widget-view+json": {
       "model_id": "",
       "version_major": 2,
       "version_minor": 0
      },
      "text/plain": [
       "seed:   0%|          | 0/1 [00:00<?, ?it/s]"
      ]
     },
     "metadata": {},
     "output_type": "display_data"
    },
    {
     "data": {
      "application/vnd.jupyter.widget-view+json": {
       "model_id": "",
       "version_major": 2,
       "version_minor": 0
      },
      "text/plain": [
       "inc:   0%|          | 0/1 [00:00<?, ?it/s]"
      ]
     },
     "metadata": {},
     "output_type": "display_data"
    },
    {
     "data": {
      "application/vnd.jupyter.widget-view+json": {
       "model_id": "",
       "version_major": 2,
       "version_minor": 0
      },
      "text/plain": [
       "seed:   0%|          | 0/1 [00:00<?, ?it/s]"
      ]
     },
     "metadata": {},
     "output_type": "display_data"
    }
   ],
   "source": [
    "seeds = [0]\n",
    "# inc_grid = np.arange(4, 24, 2, dtype=float)\n",
    "inc_grid = [12]\n",
    "\n",
    "view_zeniths = [np.deg2rad(35), np.deg2rad(65)]\n",
    "\n",
    "jit = False if len(view_zeniths) < 5 else True\n",
    "resolution = 256\n",
    "bh_radius = 1 + np.sqrt(1-spin**2)\n",
    "cam_r = 55.\n",
    "linewidth = 0.14\n",
    "norm_const =  0.05\n",
    "\n",
    "visualizer = bhnerf.visualization.VolumeVisualizer(resolution, resolution, resolution)\n",
    "\n",
    "images = []\n",
    "for zenith in tqdm(view_zeniths, desc='view angle'):\n",
    "    emission = 0\n",
    "    visualizer.set_view(cam_r=cam_r, domain_r=rmax, azimuth=0.0, zenith=zenith)\n",
    "    for inc in tqdm(inc_grid, desc='inc', leave=False):\n",
    "        for seed in tqdm(seeds, desc='seed', leave=False):\n",
    "            checkpoint_dir = recovery_path.joinpath(basename.format(inc, seed))\n",
    "            emission += sample_3D_recovery(checkpoint_dir, visualizer.coords, chunk=32) / (len(seeds)*len(inc_grid))\n",
    "        \n",
    "    image = visualizer.render(emission / norm_const, facewidth=1.9*rmax, jit=jit, bh_radius=bh_radius, linewidth=linewidth).clip(a_max=1)\n",
    "    images.append(image)"
   ]
  },
  {
   "cell_type": "code",
   "execution_count": null,
   "id": "a1446ba8-bcc3-4dac-85f4-1db063256942",
   "metadata": {},
   "outputs": [
    {
     "data": {
      "application/vnd.jupyter.widget-view+json": {
       "model_id": "7f3ebfb6a2824643bb19c665569b09c5",
       "version_major": 2,
       "version_minor": 0
      },
      "text/plain": [
       "Canvas(toolbar=Toolbar(toolitems=[('Home', 'Reset original view', 'home', 'home'), ('Back', 'Back to previous …"
      ]
     },
     "metadata": {},
     "output_type": "display_data"
    }
   ],
   "source": [
    "from mpl_toolkits.axes_grid1 import make_axes_locatable\n",
    "from matplotlib.colors import Normalize\n",
    "\n",
    "fig, axes = plt.subplots(1, len(images), figsize=(9,4))\n",
    "for ax, image in zip(axes, images):\n",
    "    ax.imshow(image)\n",
    "    ax.set_axis_off()\n",
    "\n",
    "ax = fig.add_subplot(132)\n",
    "ax.set_visible(False)\n",
    "divider = make_axes_locatable(ax)\n",
    "cax = divider.append_axes('bottom', size='3%', pad=-1)\n",
    "cmap = plt.cm.ScalarMappable(norm=Normalize(0, norm_const, clip=True), cmap=plt.get_cmap('hot'))\n",
    "cbar = fig.colorbar(cmap, cax=cax, orientation='horizontal', shrink=.0)\n",
    "cbar.ax.tick_params(labelsize=12) \n",
    "plt.tight_layout()\n",
    "\n",
    "outname = '3D_Recovery_seeds_{}_incs_{}.pdf'.format('-'.join([str(seed) for seed in seeds]), '-'.join([str(int(inc)) for inc in inc_grid]))\n",
    "plt.savefig(outpath.joinpath(outname), bbox_inches='tight')"
   ]
  },
  {
   "cell_type": "markdown",
   "id": "4e771770-2345-4e90-8759-393986a93d3a",
   "metadata": {},
   "source": [
    "# Animate recoveries\n"
   ]
  },
  {
   "cell_type": "code",
   "execution_count": null,
   "id": "92474708-fedf-4980-910d-bd496e5581c1",
   "metadata": {},
   "outputs": [],
   "source": [
    "from matplotlib import animation\n",
    "\n",
    "def animate_synced(movie1, movie2, loss, inc_grid, axes, cmap='RdBu_r', fps=10, output=None, writer='imagemagick'):\n",
    "\n",
    "    def animate_both(i):\n",
    "        return animate_frame(i), animate_plot(i)\n",
    "        \n",
    "    # Image animation function (called sequentially)\n",
    "    def animate_frame(i):\n",
    "        axes[0].set_title('Emission estimate: inc={:1.1f}'.format(inc_grid[i]))\n",
    "        im1.set_array(movie1[i])\n",
    "        \n",
    "        axes[1].set_title('Emission estimate: inc={:1.1f}'.format(inc_grid[i]))\n",
    "        im2.set_array(movie2[i])\n",
    "        return im1, im2\n",
    "    \n",
    "    def animate_plot(i):\n",
    "        line.set_xdata(inc_grid[i])\n",
    "        return line,\n",
    "    \n",
    "    num_frames = len(movie1)\n",
    "    \n",
    "    fig = plt.gcf()\n",
    "    axes[0].set_title('Emission estimate')\n",
    "    axes[0].set_xticks([])\n",
    "    axes[0].set_yticks([])\n",
    "    \n",
    "    im1 =  axes[0].imshow(np.zeros_like(movie1[0]))\n",
    "    im2 =  axes[1].imshow(np.zeros_like(movie2[0]))\n",
    "    axes[2].plot(inc_grid, loss)\n",
    "    line = axes[2].axvline(0, color='green', linestyle='--', label='inc hypothesis')\n",
    "    axes[2].set_title('Inclination Log(loss)')\n",
    "    axes[2].legend(loc='upper left')\n",
    "    \n",
    "    plt.tight_layout()\n",
    "    anim = animation.FuncAnimation(fig, animate_both, frames=num_frames, interval=1e3 / fps)\n",
    "\n",
    "    if output is not None:\n",
    "        anim.save(output, writer=writer, fps=fps)\n",
    "    return anim"
   ]
  },
  {
   "cell_type": "code",
   "execution_count": null,
   "id": "2859c1f6-b938-4cfd-8127-73bc65d90d27",
   "metadata": {},
   "outputs": [],
   "source": [
    "checkpoint_dir_fmt = '../checkpoints/alma/intrinsic_fits/const_I/' + \\\n",
    "                      'IQU.sigmas_1e-01_1e-02_1e-02.spin_0.0.initkey{}.rmin6.0.z_width4.scale1.0.Qfrac{:.1f}.inc_{:1.1f}/'\n",
    "inc_grid = np.deg2rad(np.linspace(2, 80, 40))\n",
    "seeds = [2, 3, 4]\n",
    "Q_frac = 0.85"
   ]
  },
  {
   "cell_type": "code",
   "execution_count": null,
   "id": "56a8c690-d0d0-4740-b89a-2d6cc21dcf3b",
   "metadata": {},
   "outputs": [
    {
     "data": {
      "application/vnd.jupyter.widget-view+json": {
       "model_id": "073a801e02664046b68615ec42015a60",
       "version_major": 2,
       "version_minor": 0
      },
      "text/plain": [
       "seed:   0%|          | 0/3 [00:00<?, ?it/s]"
      ]
     },
     "metadata": {},
     "output_type": "display_data"
    },
    {
     "data": {
      "application/vnd.jupyter.widget-view+json": {
       "model_id": "",
       "version_major": 2,
       "version_minor": 0
      },
      "text/plain": [
       "inc:   0%|          | 0/40 [00:00<?, ?it/s]"
      ]
     },
     "metadata": {},
     "output_type": "display_data"
    },
    {
     "data": {
      "application/vnd.jupyter.widget-view+json": {
       "model_id": "",
       "version_major": 2,
       "version_minor": 0
      },
      "text/plain": [
       "inc:   0%|          | 0/40 [00:00<?, ?it/s]"
      ]
     },
     "metadata": {},
     "output_type": "display_data"
    },
    {
     "data": {
      "application/vnd.jupyter.widget-view+json": {
       "model_id": "",
       "version_major": 2,
       "version_minor": 0
      },
      "text/plain": [
       "inc:   0%|          | 0/40 [00:00<?, ?it/s]"
      ]
     },
     "metadata": {},
     "output_type": "display_data"
    }
   ],
   "source": [
    "import warnings\n",
    "warnings.simplefilter(\"ignore\")\n",
    "\n",
    "batchsize = 20\n",
    "J_inds = [['I', 'Q', 'U'].index(s) for s in stokes]\n",
    "\n",
    "loss = np.full((len(seeds), len(inc_grid)), fill_value=np.nan)\n",
    "\n",
    "for i, seed in enumerate(tqdm(seeds, desc='seed')):\n",
    "    for j, inclination in enumerate(tqdm(inc_grid, desc='inc', leave=False)):\n",
    "        checkpoint_dir = checkpoint_dir_fmt.format(seed, Q_frac, np.rad2deg(inclination))\n",
    "        if os.path.exists(checkpoint_dir):\n",
    "            predictor = bhnerf.network.NeRF_Predictor.from_yml(checkpoint_dir)\n",
    "\n",
    "            geos = bhnerf.kgeo.image_plane_geos(\n",
    "                spin, inclination, \n",
    "                num_alpha=64, num_beta=64, \n",
    "                alpha_range=[-rmax, rmax],\n",
    "                beta_range=[-rmax, rmax]\n",
    "            )\n",
    "            geos = geos.fillna(0.0)\n",
    "            t_injection = -float(geos.r_o + fov_M/4)\n",
    "\n",
    "            # Keplerian prograde velocity field\n",
    "            Omega = rot_sign[Omega_dir] * np.sqrt(geos.M) / (geos.r**(3/2) + geos.spin * np.sqrt(geos.M))\n",
    "            # Omega = rot_sign[Omega_dir] * np.sqrt(geos.M) / (11.0**(3/2) + geos.spin * np.sqrt(geos.M))\n",
    "\n",
    "            umu = bhnerf.kgeo.azimuthal_velocity_vector(geos, Omega)\n",
    "            g = bhnerf.kgeo.doppler_factor(geos, umu)\n",
    "            b = bhnerf.kgeo.magnetic_field(geos, *b_consts)\n",
    "            J = np.nan_to_num(bhnerf.kgeo.parallel_transport(geos, umu, g, b, Q_frac=Q_frac, V_frac=0), 0.0)[J_inds]\n",
    "            J_rot = bhnerf.emission.rotate_evpa(J, de_rot_model)\n",
    "            raytracing_args = bhnerf.network.raytracing_args(geos, Omega, t_injection, t_frames[0], J_rot)\n",
    "            params = predictor.init_params(raytracing_args)\n",
    "            state = predictor.init_state(params, checkpoint_dir=checkpoint_dir)\n",
    "            loss[i, j] = bhnerf.optimization.total_movie_loss(batchsize, state, train_step, raytracing_args)"
   ]
  },
  {
   "cell_type": "code",
   "execution_count": null,
   "id": "329e1b87-3b4e-411b-9ddf-bfd6e585530d",
   "metadata": {},
   "outputs": [
    {
     "data": {
      "application/vnd.jupyter.widget-view+json": {
       "model_id": "d78f5d572bf4462da853001837b6f15d",
       "version_major": 2,
       "version_minor": 0
      },
      "text/plain": [
       "Canvas(toolbar=Toolbar(toolitems=[('Home', 'Reset original view', 'home', 'home'), ('Back', 'Back to previous …"
      ]
     },
     "metadata": {},
     "output_type": "display_data"
    }
   ],
   "source": [
    "%matplotlib widget\n",
    "for i in range(len(seeds)):\n",
    "    plt.scatter(np.rad2deg(inc_grid), loss[i],  marker='^')"
   ]
  },
  {
   "cell_type": "code",
   "execution_count": null,
   "id": "75488372-e348-44cd-b2e2-54ce04d3926d",
   "metadata": {},
   "outputs": [],
   "source": [
    "plt.rcParams.update({\n",
    "    \"text.usetex\": True,\n",
    "    \"font.family\": \"Helvetica\"\n",
    "})\n"
   ]
  },
  {
   "cell_type": "code",
   "execution_count": null,
   "id": "1eff1479-00f7-4dfc-883b-f8eee02f9d36",
   "metadata": {},
   "outputs": [
    {
     "data": {
      "application/vnd.jupyter.widget-view+json": {
       "model_id": "e5bdd94bbff242e5907c189be8041a6d",
       "version_major": 2,
       "version_minor": 0
      },
      "text/plain": [
       "Canvas(toolbar=Toolbar(toolitems=[('Home', 'Reset original view', 'home', 'home'), ('Back', 'Back to previous …"
      ]
     },
     "metadata": {},
     "output_type": "display_data"
    }
   ],
   "source": [
    "%matplotlib widget\n",
    "plt.figure(figsize=(5,4))\n",
    "plt.errorbar(np.rad2deg(inc_grid)[1:], np.nanmean(np.log(loss/nt), axis=0)[1:],  \n",
    "             np.nanstd(np.log(loss/nt), axis=0)[1:], marker='^', mfc='r', mec='r')\n",
    "plt.title(r'Inclination data-fit: $\\log \\chi^2(\\theta | \\hat{\\bf w})$', fontsize=16)\n",
    "plt.xticks(fontsize='14')\n",
    "plt.yticks(fontsize='14')\n",
    "plt.axhline(0, color='black', linestyle='--',linewidth=1)\n",
    "plt.savefig('alma/inclination_loss.pdf')"
   ]
  },
  {
   "cell_type": "code",
   "execution_count": null,
   "id": "44903076-74d2-4794-9fd1-ae11b81cffda",
   "metadata": {},
   "outputs": [
    {
     "data": {
      "application/vnd.jupyter.widget-view+json": {
       "model_id": "c060a63e66da4afba943b922e30a0740",
       "version_major": 2,
       "version_minor": 0
      },
      "text/plain": [
       "Canvas(toolbar=Toolbar(toolitems=[('Home', 'Reset original view', 'home', 'home'), ('Back', 'Back to previous …"
      ]
     },
     "metadata": {},
     "output_type": "display_data"
    },
    {
     "data": {
      "text/plain": [
       "<matplotlib.collections.PathCollection at 0x7f9cd8057f10>"
      ]
     },
     "execution_count": 19,
     "metadata": {},
     "output_type": "execute_result"
    }
   ],
   "source": [
    "%matplotlib widget\n",
    "plt.scatter(np.rad2deg(inc_grid), np.log(loss),  marker='^')"
   ]
  },
  {
   "cell_type": "code",
   "execution_count": null,
   "id": "fca196da-7381-4944-9eeb-507b7e402dfd",
   "metadata": {},
   "outputs": [
    {
     "data": {
      "application/vnd.jupyter.widget-view+json": {
       "model_id": "06e55a75d0794da9849621c1bbe6a70f",
       "version_major": 2,
       "version_minor": 0
      },
      "text/plain": [
       "inc:   0%|          | 0/40 [00:00<?, ?it/s]"
      ]
     },
     "metadata": {},
     "output_type": "display_data"
    }
   ],
   "source": [
    "import warnings\n",
    "warnings.simplefilter(\"ignore\")\n",
    "\n",
    "batchsize = 20\n",
    "stokes= ['Q', 'U']\n",
    "target_qu = target[:,1:]\n",
    "train_step = bhnerf.optimization.TrainStep.image(t_frames, target_qu, sigma[1:], dtype='lc')\n",
    "J_inds = [['I', 'Q', 'U'].index(s) for s in stokes]\n",
    "\n",
    "loss_qu = []\n",
    "for inclination in tqdm(inc_grid, desc='inc'):\n",
    "    \n",
    "    checkpoint_dir = checkpoint_dir_fmt.format(np.rad2deg(inclination))\n",
    "    if os.path.exists(checkpoint_dir):\n",
    "        predictor = bhnerf.network.NeRF_Predictor.from_yml(checkpoint_dir)\n",
    "\n",
    "        geos = bhnerf.kgeo.image_plane_geos(\n",
    "            spin, inclination, \n",
    "            num_alpha=64, num_beta=64, \n",
    "            alpha_range=[-rmax, rmax],\n",
    "            beta_range=[-rmax, rmax]\n",
    "        )\n",
    "        geos = geos.fillna(0.0)\n",
    "        t_injection = -float(geos.r_o + fov_M/4)\n",
    "\n",
    "        # Keplerian prograde velocity field\n",
    "        Omega = rot_sign[Omega_dir] * np.sqrt(geos.M) / (geos.r**(3/2) + geos.spin * np.sqrt(geos.M))\n",
    "        # Omega = rot_sign[Omega_dir] * np.sqrt(geos.M) / (11.0**(3/2) + geos.spin * np.sqrt(geos.M))\n",
    "\n",
    "        umu = bhnerf.kgeo.azimuthal_velocity_vector(geos, Omega)\n",
    "        g = bhnerf.kgeo.doppler_factor(geos, umu)\n",
    "        b = bhnerf.kgeo.magnetic_field(geos, *b_consts)\n",
    "        J = np.nan_to_num(bhnerf.kgeo.parallel_transport(geos, umu, g, b, Q_frac=Q_frac, V_frac=0), 0.0)[J_inds]\n",
    "        J_rot = bhnerf.emission.rotate_evpa(J, de_rot_model)\n",
    "        raytracing_args = bhnerf.network.raytracing_args(geos, Omega, t_injection, t_frames[0], J_rot)\n",
    "        params = predictor.init_params(raytracing_args)\n",
    "        state = predictor.init_state(params, checkpoint_dir=checkpoint_dir)\n",
    "\n",
    "        loss_qu.append(bhnerf.optimization.total_movie_loss(batchsize, state, train_step, raytracing_args))\n",
    "    else:\n",
    "        loss_qu.append(np.nan)\n",
    "    \n",
    "loss_qu = np.array(loss_qu)"
   ]
  },
  {
   "cell_type": "code",
   "execution_count": null,
   "id": "cb8e9f07-2ee6-4cd5-9602-7e272d9a6402",
   "metadata": {},
   "outputs": [
    {
     "data": {
      "application/vnd.jupyter.widget-view+json": {
       "model_id": "33131ec844004b75a682a03584baa922",
       "version_major": 2,
       "version_minor": 0
      },
      "text/plain": [
       "inc:   0%|          | 0/40 [00:00<?, ?it/s]"
      ]
     },
     "metadata": {},
     "output_type": "display_data"
    }
   ],
   "source": [
    "checkpoint_dir_fmt = '../checkpoints/alma/intrinsic_fits/inc_scan_const_omega_r_11/' + \\\n",
    "                     'QU.spin_0.0.initkey2.rmin6.0.z_width4.inc_{:1.1f}/'\n",
    "\n",
    "import warnings\n",
    "warnings.simplefilter(\"ignore\")\n",
    "\n",
    "batchsize = 20\n",
    "J_inds = [['I', 'Q', 'U'].index(s) for s in stokes]\n",
    "\n",
    "loss_noshear = []\n",
    "for inclination in tqdm(inc_grid, desc='inc'):\n",
    "    checkpoint_dir = checkpoint_dir_fmt.format(np.rad2deg(inclination))\n",
    "    predictor = bhnerf.network.NeRF_Predictor.from_yml(checkpoint_dir)\n",
    "        \n",
    "    geos = bhnerf.kgeo.image_plane_geos(\n",
    "        spin, inclination, \n",
    "        num_alpha=64, num_beta=64, \n",
    "        alpha_range=[-rmax, rmax],\n",
    "        beta_range=[-rmax, rmax]\n",
    "    )\n",
    "    geos = geos.fillna(0.0)\n",
    "    t_injection = -float(geos.r_o)\n",
    "\n",
    "    # Keplerian prograde velocity field\n",
    "    # Omega = rot_sign[Omega_dir] * np.sqrt(geos.M) / (geos.r**(3/2) + geos.spin * np.sqrt(geos.M))\n",
    "    Omega = rot_sign[Omega_dir] * np.sqrt(geos.M) / (11.0**(3/2) + geos.spin * np.sqrt(geos.M))\n",
    "    \n",
    "    umu = bhnerf.kgeo.azimuthal_velocity_vector(geos, Omega)\n",
    "    g = bhnerf.kgeo.doppler_factor(geos, umu)\n",
    "    b = bhnerf.kgeo.magnetic_field(geos, *b_consts)\n",
    "    J = np.nan_to_num(bhnerf.kgeo.parallel_transport(geos, umu, g, b, Q_frac=Q_frac, V_frac=0), 0.0)[J_inds]\n",
    "    J_rot = bhnerf.emission.rotate_evpa(J, de_rot_model)\n",
    "    raytracing_args = bhnerf.network.raytracing_args(geos, Omega, t_injection, t_frames[0], J_rot)\n",
    "    params = predictor.init_params(raytracing_args)\n",
    "    state = predictor.init_state(params, checkpoint_dir=checkpoint_dir)\n",
    "    \n",
    "    loss_noshear.append(bhnerf.optimization.total_movie_loss(batchsize, state, train_step, raytracing_args))\n",
    "    \n",
    "loss_noshear = np.array(loss_noshear)"
   ]
  },
  {
   "cell_type": "code",
   "execution_count": null,
   "id": "52266dbb-f812-4b7d-94b0-ddeeea7ff972",
   "metadata": {},
   "outputs": [
    {
     "data": {
      "application/vnd.jupyter.widget-view+json": {
       "model_id": "13ccf56c2800446d9764c2646975cc63",
       "version_major": 2,
       "version_minor": 0
      },
      "text/plain": [
       "Canvas(toolbar=Toolbar(toolitems=[('Home', 'Reset original view', 'home', 'home'), ('Back', 'Back to previous …"
      ]
     },
     "metadata": {},
     "output_type": "display_data"
    }
   ],
   "source": [
    "%matplotlib widget\n",
    "\n",
    "snr = 1\n",
    "min_loss = np.rad2deg(inc_grid)[np.argmin(loss)]\n",
    "plt.title('Inclination data-fit [log-scale]')\n",
    "plt.scatter(np.rad2deg(inc_grid), np.log(loss * snr), label='With shear', marker='x')\n",
    "plt.scatter(np.rad2deg(inc_grid), np.log(loss_noshear * snr), label='Without shear', marker='^')\n",
    "plt.legend()\n",
    "plt.savefig('alma/intrinsic fits/inc_loss_both.pdf')"
   ]
  },
  {
   "cell_type": "markdown",
   "id": "cadc8199-4c51-40ff-98e2-b78e129ba7d6",
   "metadata": {},
   "source": [
    "## Animate recovered volumes"
   ]
  },
  {
   "cell_type": "code",
   "execution_count": null,
   "id": "30bbc1bc-d2ac-4903-81c8-337fabdfe6b3",
   "metadata": {},
   "outputs": [
    {
     "data": {
      "application/vnd.jupyter.widget-view+json": {
       "model_id": "2428b3f304f14b868c0ded5a31766417",
       "version_major": 2,
       "version_minor": 0
      },
      "text/plain": [
       "  0%|          | 0/9 [00:00<?, ?it/s]"
      ]
     },
     "metadata": {},
     "output_type": "display_data"
    },
    {
     "ename": "IndexError",
     "evalue": "Replacement index 2 out of range for positional args tuple",
     "output_type": "error",
     "traceback": [
      "\u001b[0;31m---------------------------------------------------------------------------\u001b[0m",
      "\u001b[0;31mIndexError\u001b[0m                                Traceback (most recent call last)",
      "\u001b[0;32m/tmp/ipykernel_47422/2437357878.py\u001b[0m in \u001b[0;36m<module>\u001b[0;34m\u001b[0m\n\u001b[1;32m     18\u001b[0m \u001b[0mimages1\u001b[0m\u001b[0;34m,\u001b[0m \u001b[0mimages2\u001b[0m \u001b[0;34m=\u001b[0m \u001b[0;34m[\u001b[0m\u001b[0;34m]\u001b[0m\u001b[0;34m,\u001b[0m \u001b[0;34m[\u001b[0m\u001b[0;34m]\u001b[0m\u001b[0;34m\u001b[0m\u001b[0;34m\u001b[0m\u001b[0m\n\u001b[1;32m     19\u001b[0m \u001b[0;32mfor\u001b[0m \u001b[0mi\u001b[0m\u001b[0;34m,\u001b[0m \u001b[0minclination\u001b[0m \u001b[0;32min\u001b[0m \u001b[0menumerate\u001b[0m\u001b[0;34m(\u001b[0m\u001b[0mtqdm\u001b[0m\u001b[0;34m(\u001b[0m\u001b[0minc_grid\u001b[0m\u001b[0;34m)\u001b[0m\u001b[0;34m)\u001b[0m\u001b[0;34m:\u001b[0m\u001b[0;34m\u001b[0m\u001b[0;34m\u001b[0m\u001b[0m\n\u001b[0;32m---> 20\u001b[0;31m     \u001b[0mcheckpoint_dir\u001b[0m \u001b[0;34m=\u001b[0m \u001b[0mcheckpoint_dir_fmt\u001b[0m\u001b[0;34m.\u001b[0m\u001b[0mformat\u001b[0m\u001b[0;34m(\u001b[0m\u001b[0mQ_frac\u001b[0m\u001b[0;34m,\u001b[0m \u001b[0minclination\u001b[0m\u001b[0;34m)\u001b[0m\u001b[0;34m\u001b[0m\u001b[0;34m\u001b[0m\u001b[0m\n\u001b[0m\u001b[1;32m     21\u001b[0m     \u001b[0mpredictor\u001b[0m \u001b[0;34m=\u001b[0m \u001b[0mbhnerf\u001b[0m\u001b[0;34m.\u001b[0m\u001b[0mnetwork\u001b[0m\u001b[0;34m.\u001b[0m\u001b[0mNeRF_Predictor\u001b[0m\u001b[0;34m.\u001b[0m\u001b[0mfrom_yml\u001b[0m\u001b[0;34m(\u001b[0m\u001b[0mcheckpoint_dir\u001b[0m\u001b[0;34m)\u001b[0m\u001b[0;34m\u001b[0m\u001b[0;34m\u001b[0m\u001b[0m\n\u001b[1;32m     22\u001b[0m     \u001b[0mstate\u001b[0m \u001b[0;34m=\u001b[0m \u001b[0mcheckpoints\u001b[0m\u001b[0;34m.\u001b[0m\u001b[0mrestore_checkpoint\u001b[0m\u001b[0;34m(\u001b[0m\u001b[0mcheckpoint_dir\u001b[0m\u001b[0;34m,\u001b[0m \u001b[0;32mNone\u001b[0m\u001b[0;34m)\u001b[0m\u001b[0;34m\u001b[0m\u001b[0;34m\u001b[0m\u001b[0m\n",
      "\u001b[0;31mIndexError\u001b[0m: Replacement index 2 out of range for positional args tuple"
     ]
    }
   ],
   "source": [
    "\"\"\"\n",
    "Animate the recovered volumes from two view angles.\n",
    "Note: this is time consuming to produce high res images.\n",
    "\"\"\"\n",
    "seed = 2\n",
    "inc_grid = list(range(4, 22, 2))\n",
    "from flax.training import checkpoints\n",
    "\n",
    "jit = True\n",
    "resolution = 256\n",
    "bh_radius = 2.0\n",
    "cam_r = 55.\n",
    "linewidth = 0.1\n",
    "bh_radius = 1 + np.sqrt(1-spin**2)\n",
    "norm_const =  0.1\n",
    "visualizer = bhnerf.visualization.VolumeVisualizer(resolution, resolution, resolution)\n",
    "visualizer.set_view(cam_r=cam_r, domain_r=rmax, azimuth=0.0, zenith=np.deg2rad(35))\n",
    "\n",
    "images1, images2 = [], []\n",
    "for i, inclination in enumerate(tqdm(inc_grid)):\n",
    "    checkpoint_dir = checkpoint_dir_fmt.format(seed, Q_frac, inclination)\n",
    "    predictor = bhnerf.network.NeRF_Predictor.from_yml(checkpoint_dir)\n",
    "    state = checkpoints.restore_checkpoint(checkpoint_dir, None)\n",
    "    \n",
    "    emission = bhnerf.network.sample_3d_grid(predictor.apply, state['params'], \n",
    "                                             coords=visualizer.coords, chunk=32)\n",
    "    image = visualizer.render(emission / norm_const, facewidth=1.9*rmax, jit=jit, \n",
    "                              bh_radius=bh_radius, linewidth=linewidth)\n",
    "    images1.append(image.clip(a_max=1))\n",
    "    \n",
    "    visualizer.set_view(cam_r=cam_r, domain_r=rmax, azimuth=0.0, zenith=np.deg2rad(65))\n",
    "    emission = bhnerf.network.sample_3d_grid(predictor.apply, state['params'], \n",
    "                                             coords=visualizer.coords, chunk=32)\n",
    "    image = visualizer.render(emission / norm_const, facewidth=1.9*rmax, jit=jit, \n",
    "                              bh_radius=bh_radius, linewidth=linewidth)\n",
    "    images2.append(image.clip(a_max=1))"
   ]
  },
  {
   "cell_type": "code",
   "execution_count": null,
   "id": "8ca4071b-80b1-4dfc-bf77-bcb85cf6d505",
   "metadata": {},
   "outputs": [],
   "source": [
    "%matplotlib widget\n",
    "\n",
    "fig, axes = plt.subplots(1, 3,figsize=(9,3.5))\n",
    "output = 'alma/intrinsic fits/emission_estimate_1fps.mp4'\n",
    "animate_synced(images, images_view2, np.log(loss), np.rad2deg(inc_grid), axes, output=output, fps=1, , writer='ffmpeg')"
   ]
  },
  {
   "cell_type": "markdown",
   "id": "ca6d57dd-360f-43fe-ba06-0036bbe39017",
   "metadata": {},
   "source": [
    "## Animate data fits across inclinations"
   ]
  },
  {
   "cell_type": "code",
   "execution_count": null,
   "id": "4015c228-e9e4-421b-b5b0-4ec8750bb258",
   "metadata": {},
   "outputs": [
    {
     "data": {
      "application/vnd.jupyter.widget-view+json": {
       "model_id": "a07a582cb5e54df6b6d0d006ecfc6da3",
       "version_major": 2,
       "version_minor": 0
      },
      "text/plain": [
       "inc:   0%|          | 0/40 [00:00<?, ?it/s]"
      ]
     },
     "metadata": {},
     "output_type": "display_data"
    },
    {
     "name": "stderr",
     "output_type": "stream",
     "text": [
      "WARNING:imageio_ffmpeg:IMAGEIO FFMPEG_WRITER WARNING: input image is not divisible by macro_block_size=16, resizing from (1400, 350) to (1408, 352) to ensure video compatibility with most codecs and players. To prevent resizing, make your input image divisible by the macro_block_size or set the macro_block_size to 1 (risking incompatibility).\n"
     ]
    }
   ],
   "source": [
    "%matplotlib inline\n",
    "\n",
    "import glob, warnings, subprocess\n",
    "from pathlib import Path\n",
    "import imageio\n",
    "\n",
    "plt.style.use('default')\n",
    "\n",
    "warnings.simplefilter(\"ignore\")\n",
    "\n",
    "directory = 'alma/datafit/'\n",
    "frame_fmt = directory + 'frame{:03d}.png'\n",
    "Path(directory).mkdir(parents=True, exist_ok=True)\n",
    "gif_writer = imageio.get_writer(directory + 'datafit.gif', fps=1)\n",
    "mp4_writer = imageio.get_writer(directory + 'datafit.mp4', fps=1)\n",
    "\n",
    "stokes = ['Q', 'U']\n",
    "J_inds = [['I', 'Q', 'U'].index(s) for s in stokes]\n",
    "target = np.array(alma_lc_means[stokes])\n",
    "sigma = 1.0\n",
    "snr = 1.0\n",
    "batchsize = 20\n",
    "train_step = bhnerf.optimization.TrainStep.image(t_frames, target, sigma, dtype='lc')\n",
    "\n",
    "for i, inclination in enumerate(tqdm(inc_grid, desc='inc')):\n",
    "    checkpoint_dir = checkpoint_dir_fmt.format(np.rad2deg(inclination))\n",
    "    \n",
    "    geos = bhnerf.kgeo.image_plane_geos(\n",
    "        spin, inclination, \n",
    "        num_alpha=64, num_beta=64, \n",
    "        alpha_range=[-rmax, rmax],\n",
    "        beta_range=[-rmax, rmax]\n",
    "    )\n",
    "    geos = geos.fillna(0.0)\n",
    "    t_injection = -float(geos.r_o)\n",
    "\n",
    "    # Keplerian prograde velocity field\n",
    "    Omega = rot_sign[Omega_dir] * np.sqrt(geos.M) / (geos.r**(3/2) + geos.spin * np.sqrt(geos.M))\n",
    "    umu = bhnerf.kgeo.azimuthal_velocity_vector(geos, Omega)\n",
    "    g = bhnerf.kgeo.doppler_factor(geos, umu)\n",
    "    b = bhnerf.kgeo.magnetic_field(geos, *b_consts)\n",
    "    J = np.nan_to_num(bhnerf.kgeo.parallel_transport(geos, umu, g, b, Q_frac=Q_frac, V_frac=0), 0.0)\n",
    "    \n",
    "    raytracing_args = bhnerf.network.raytracing_args(geos, Omega, t_injection, t_frames[0], J[J_inds])\n",
    "    predictor = bhnerf.network.NeRF_Predictor.from_yml(checkpoint_dir)\n",
    "    params = predictor.init_params(raytracing_args)\n",
    "    state = predictor.init_state(params, checkpoint_dir=checkpoint_dir)\n",
    "    \n",
    "    _, movie = bhnerf.optimization.total_movie_loss(batchsize, state, train_step, raytracing_args, True)\n",
    "    lc_est = movie.sum(axis=(-1,-2))\n",
    "    \n",
    "    fig, axes = plt.subplots(1, 4, figsize=(14, 3.5))\n",
    "    axes[3].set_title(r'Inclination log(loss): ${:1.1f}^\\circ$'.format(np.rad2deg(inclination)))\n",
    "    axes[3].plot(np.rad2deg(inc_grid), np.log(loss * snr))\n",
    "    axes[3].axvline(np.rad2deg(inclination), color='green', linestyle='--', label='inc hypothesis')\n",
    "    bhnerf.visualization.plot_stokes_lc(target, stokes, t_frames, axes=axes[:3], label='True')\n",
    "    bhnerf.visualization.plot_stokes_lc(lc_est, stokes, t_frames, axes=axes[:3], color='r', fmt='x', label='Estimate')\n",
    "    for ax in axes:\n",
    "        ax.legend()\n",
    "        \n",
    "    plt.savefig(frame_fmt.format(i), dpi=100)\n",
    "    plt.close()\n",
    "    \n",
    "    im = imageio.imread(frame_fmt.format(i))\n",
    "    gif_writer.append_data(im)\n",
    "    mp4_writer.append_data(im)\n",
    "    \n",
    "gif_writer.close()\n",
    "mp4_writer.close()"
   ]
  }
 ],
 "metadata": {
  "kernelspec": {
   "display_name": "jax",
   "language": "python",
   "name": "jax"
  },
  "language_info": {
   "codemirror_mode": {
    "name": "ipython",
    "version": 3
   },
   "file_extension": ".py",
   "mimetype": "text/x-python",
   "name": "python",
   "nbconvert_exporter": "python",
   "pygments_lexer": "ipython3",
   "version": "3.9.6"
  }
 },
 "nbformat": 4,
 "nbformat_minor": 5
}
